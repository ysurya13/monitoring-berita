{
 "cells": [
  {
   "cell_type": "markdown",
   "metadata": {},
   "source": [
    "# 1. PROSES AWAL"
   ]
  },
  {
   "cell_type": "markdown",
   "metadata": {
    "id": "nl15yqDXsRcB"
   },
   "source": [
    "## SETTING ENVIRONMENT\n",
    "\n",
    "Proses ini mencakup setting directory agar agar kode dapat berjalan dengan baik.\n",
    "\n"
   ]
  },
  {
   "cell_type": "code",
   "execution_count": 1,
   "metadata": {
    "colab": {
     "base_uri": "https://localhost:8080/"
    },
    "executionInfo": {
     "elapsed": 11999,
     "status": "ok",
     "timestamp": 1758707035633,
     "user": {
      "displayName": "Monitoring Berita",
      "userId": "16755502473357078001"
     },
     "user_tz": -420
    },
    "id": "f8BqutX0SOd1",
    "outputId": "59a661d0-ddbb-412c-e919-2d09d938a9b6"
   },
   "outputs": [
    {
     "data": {
      "text/plain": [
       "\"# mount the colab with google drive\\nfrom google.colab import drive\\ndrive.mount('/content/drive')\""
      ]
     },
     "execution_count": 1,
     "metadata": {},
     "output_type": "execute_result"
    }
   ],
   "source": [
    "\"\"\"# mount the colab with google drive\n",
    "from google.colab import drive\n",
    "drive.mount('/content/drive')\"\"\""
   ]
  },
  {
   "cell_type": "code",
   "execution_count": 2,
   "metadata": {
    "executionInfo": {
     "elapsed": 125,
     "status": "ok",
     "timestamp": 1758707035761,
     "user": {
      "displayName": "Monitoring Berita",
      "userId": "16755502473357078001"
     },
     "user_tz": -420
    },
    "id": "eLOguPRQSRLN"
   },
   "outputs": [],
   "source": [
    "# set folder tempat kerja (current working directory)\n",
    "import os\n",
    "cwd = '/Users/yusufpradana/Library/CloudStorage/OneDrive-Personal/Pekerjaan BMN/05. 2025/98_monitoring_berita/monitoring-berita'\n",
    "# cwd = '/content/drive/MyDrive/Monitoring Berita'\n",
    "\n",
    "os.chdir(cwd)"
   ]
  },
  {
   "cell_type": "markdown",
   "metadata": {
    "id": "6ELnJl6msIPe"
   },
   "source": [
    "## INPUT PARAMETER PENCARIAN\n",
    "Pengguna dapat menambahkan parameter analisis antara lain model AI yang digunakan dan versinya, rentang tanggal pencarian, keywords pencarian, topik yang dimonitor."
   ]
  },
  {
   "cell_type": "code",
   "execution_count": null,
   "metadata": {
    "executionInfo": {
     "elapsed": 7,
     "status": "ok",
     "timestamp": 1758707067883,
     "user": {
      "displayName": "Monitoring Berita",
      "userId": "16755502473357078001"
     },
     "user_tz": -420
    },
    "id": "Ngu4o4ibVA_7"
   },
   "outputs": [],
   "source": [
    "# AI Model (deepseek/openai)\n",
    "model_name          = \"deepseek\"\n",
    "# Model version (openai only: gpt-3.5-turbo/gpt-4o-mini/gpt-5-nano/gpt-5-mini/gpt-5)\n",
    "model_version       = \"gpt-5-nano\"\n",
    "# Tanggal awal pencarian berita [YYYY-MM-DD]\n",
    "start_date          = \"2025-10-05\"\n",
    "# Tanggal akhir pencarian berita\n",
    "end_date            = \"2025-10-06\"\n",
    "# Keywords pencarian berita\n",
    "keywords_pencarian  = [\"purbaya\", \"menkeu\"]\n",
    "# Keywords analisis topic\n",
    "keywords_topic      = [\"rokok ilegal\", \"makan bergizi gratis\", \"tax amnesty\", \"sidak BNI\", 'lainnya']"
   ]
  },
  {
   "cell_type": "markdown",
   "metadata": {
    "id": "wU3w7Y3nsMDO"
   },
   "source": [
    "### Menyimpan Parameter Pencarian"
   ]
  },
  {
   "cell_type": "code",
   "execution_count": 4,
   "metadata": {},
   "outputs": [],
   "source": [
    "# tandai waktu mulai proses\n",
    "import time \n",
    "start_process_time = time.time()"
   ]
  },
  {
   "cell_type": "code",
   "execution_count": 5,
   "metadata": {
    "executionInfo": {
     "elapsed": 16,
     "status": "ok",
     "timestamp": 1758707077919,
     "user": {
      "displayName": "Monitoring Berita",
      "userId": "16755502473357078001"
     },
     "user_tz": -420
    },
    "id": "Iz2G1ZfRU5M-"
   },
   "outputs": [],
   "source": [
    "from datetime import datetime, timedelta\n",
    "\n",
    "# Konversi string ke datetime\n",
    "start = datetime.strptime(start_date, \"%Y-%m-%d\")\n",
    "end = datetime.strptime(end_date, \"%Y-%m-%d\")\n",
    "\n",
    "# Buat list tanggal dari end_date ke start_date (descending)\n",
    "search_date = [(end - timedelta(days=i)).strftime(\"%Y-%m-%d\")\n",
    "               for i in range((end - start).days + 1)]"
   ]
  },
  {
   "cell_type": "code",
   "execution_count": 6,
   "metadata": {
    "colab": {
     "base_uri": "https://localhost:8080/"
    },
    "executionInfo": {
     "elapsed": 408,
     "status": "ok",
     "timestamp": 1758707078338,
     "user": {
      "displayName": "Monitoring Berita",
      "userId": "16755502473357078001"
     },
     "user_tz": -420
    },
    "id": "_doiDwPTSd9O",
    "outputId": "c4235f93-a13a-41b3-9312-57a09b667ab2"
   },
   "outputs": [
    {
     "name": "stdout",
     "output_type": "stream",
     "text": [
      "Config.json berhasil diperbarui: config.json\n"
     ]
    }
   ],
   "source": [
    "import json\n",
    "from pathlib import Path\n",
    "\n",
    "config_path = Path(\"config.json\")\n",
    "\n",
    "# Data baru yang ingin disimpan/diupdate\n",
    "variabel = {\n",
    "    \"search_date\": search_date,\n",
    "    \"keywords\": keywords_pencarian,\n",
    "    \"topic_keywords\":keywords_topic,\n",
    "    \"max_page_length\": page_length,\n",
    "    \"AI_name\": model_name,\n",
    "    \"model_version\": model_version\n",
    "}\n",
    "\n",
    "# Baca isi config.json lama (jika ada)\n",
    "if config_path.exists():\n",
    "    try:\n",
    "        with open(config_path, \"r\", encoding=\"utf-8\") as f:\n",
    "            config = json.load(f)\n",
    "    except Exception as e:\n",
    "        print(f\"Gagal membaca config.json: {e}\")\n",
    "        config = {}\n",
    "else:\n",
    "    config = {}\n",
    "\n",
    "# Update hanya key yang ada di `variabel`\n",
    "config.update(variabel)\n",
    "\n",
    "# Simpan kembali ke file\n",
    "with open(config_path, \"w\", encoding=\"utf-8\") as f:\n",
    "    json.dump(config, f, indent=4, ensure_ascii=False)\n",
    "\n",
    "print(f\"Config.json berhasil diperbarui: {config_path}\")\n"
   ]
  },
  {
   "cell_type": "markdown",
   "metadata": {
    "id": "ayYLnSVH_FUQ"
   },
   "source": [
    "# 2. ANALISIS DATA"
   ]
  },
  {
   "cell_type": "markdown",
   "metadata": {
    "id": "ZelF4LorrORT"
   },
   "source": [
    "## 2.1 Mengumpulkan Data Berita\n",
    "\n",
    "Proses pertama yang akan dilakukan adalah mencari sumber berita dari berbagai sumber di internet. Selama proses pengembangan ditemukan bahwa google news adalah agregator berita yang cukup lengkap. Dengan memanfaatkan really simple syndication (rss) feed yang disediakan oleh google news, dapat diambil data terkait berita dengan topik dan rentang waktu sesuai dengan kebutuhan pengguna. \n",
    "\n",
    "Selanjutnya, dilakukan proses pembacaan data berupa judul_berita, url_berita, tanggal_berita, dan penulis_berita. Setelah mendapatkan url_berita dari google news, tools akan melakukan proses decoding dari format url google news menjadi url dari portal berita yang dituju.\n",
    "\n",
    "Setelah kita mendapatkan url_berita asli dari portal berita langkah selanjutnya adalah dengan membaca artikel berita. Meskipun demikian, karena adanya keterbatasan waktu dalam proses pengembangan maka terdapat beberapa portal berita yang memang belum dapat diproses karena terkendala variasi format dan terkadang juga dilindungi oleh system internal mereka. \n",
    "\n",
    "Hasil akhir dari proses ini adalah daftar berita yang memuat url_berita, judul_berita, artikel_berita, tanggal_berita, dan media_online. Data yang diperoleh kemudian disimpan dalam suatu file excel untuk diolah lebih lanjut."
   ]
  },
  {
   "cell_type": "markdown",
   "metadata": {},
   "source": [
    "#### Mencari Daftar Berita"
   ]
  },
  {
   "cell_type": "code",
   "execution_count": 7,
   "metadata": {},
   "outputs": [
    {
     "name": "stdout",
     "output_type": "stream",
     "text": [
      "Mengecek dependencies...\n",
      "✓ googlenewsdecoder sudah terinstall\n",
      "✓ tqdm sudah terinstall\n",
      "\n",
      "🎉 Semua dependencies siap!\n",
      "Scraping Google News: 2 queries, max 0 articles per query\n",
      "Date filter: 2025-10-05, 2025-10-06\n",
      "Using individual date scraping: 2 × 2 = 4 tasks\n"
     ]
    },
    {
     "name": "stderr",
     "output_type": "stream",
     "text": [
      "Scraping: 100%|██████████| 4/4 [00:09<00:00,  2.36s/task, Articles=200]\n",
      "Removing duplicates: 100%|██████████| 3/3 [00:00<00:00, 321.62step/s, Complex]\n"
     ]
    },
    {
     "name": "stdout",
     "output_type": "stream",
     "text": [
      "Removed 67 duplicates: 200 → 133 articles\n",
      "Completed in 9.5s\n"
     ]
    },
    {
     "name": "stderr",
     "output_type": "stream",
     "text": [
      "Decoding URLs: 100%|██████████| 133/133 [00:20<00:00,  6.40url/s, Success=133, Failed=0]\n"
     ]
    },
    {
     "name": "stdout",
     "output_type": "stream",
     "text": [
      "\n",
      "Completed! File saved: /Users/yusufpradana/Library/CloudStorage/OneDrive-Personal/Pekerjaan BMN/05. 2025/98_monitoring_berita/monitoring-berita/daftar_berita/google_news_rss.xlsx\n",
      "Total articles: 133\n"
     ]
    }
   ],
   "source": [
    "file_loc = os.path.join(cwd, 'tarik_daftar_berita', 'list_googlenews.ipynb')\n",
    "\n",
    "%run \"$file_loc\""
   ]
  },
  {
   "cell_type": "markdown",
   "metadata": {},
   "source": [
    "#### Konsolidasi Data Url Berita"
   ]
  },
  {
   "cell_type": "code",
   "execution_count": 8,
   "metadata": {
    "colab": {
     "base_uri": "https://localhost:8080/",
     "height": 678,
     "referenced_widgets": [
      "03e742985f574beaa5d0606d9015fadb",
      "1944dc8d32c74470aa729da06d606f7c",
      "efc062bd85a4423ba661c822648e9a11",
      "0229bd90bd3d46b59c025a905c5b9ce2",
      "f1016778e6bc4555ba99c034304e0c64",
      "81450a4bf4bf4353bc4794a2537493ec",
      "929fe39a058f4edfa29150abe40f1feb",
      "659a9c31541049f0beaad3723ac434bb",
      "6b3a08831def4c67b608dfa7c2001e11",
      "498f085853c24829affb231886434e6e",
      "9d8f96ed7e8244ee9e50652f262e08e2"
     ]
    },
    "executionInfo": {
     "elapsed": 4193,
     "status": "ok",
     "timestamp": 1758707738875,
     "user": {
      "displayName": "Monitoring Berita",
      "userId": "16755502473357078001"
     },
     "user_tz": -420
    },
    "id": "EiYxfVGUtVvl",
    "outputId": "ad5a6d55-a384-4eb2-a034-428f60475b22"
   },
   "outputs": [
    {
     "data": {
      "application/vnd.jupyter.widget-view+json": {
       "model_id": "1a5f6a02f68b47e0a19816462ad38ce4",
       "version_major": 2,
       "version_minor": 0
      },
      "text/plain": [
       "Membaca Excel:   0%|          | 0/1 [00:00<?, ?file/s]"
      ]
     },
     "metadata": {},
     "output_type": "display_data"
    },
    {
     "name": "stderr",
     "output_type": "stream",
     "text": [
      "2025-10-06 08:35:38,886 | INFO | Duplikat dihapus: 0 baris | Total akhir: 133\n",
      "2025-10-06 08:35:38,888 | INFO | Selesai gabung. Total baris: 133 | File terbaca: 1\n",
      "2025-10-06 08:35:38,937 | INFO | Normalisasi selesai. Total baris: 133 | Berhasil: 133 | Gagal: 0\n",
      "2025-10-06 08:35:38,939 | INFO | Filter judul < 40 chars: dihapus 0 baris | sisa: 133\n",
      "2025-10-06 08:35:38,947 | INFO | Config berhasil diperbarui: /Users/yusufpradana/Library/CloudStorage/OneDrive-Personal/Pekerjaan BMN/05. 2025/98_monitoring_berita/monitoring-berita/config.json\n"
     ]
    },
    {
     "name": "stdout",
     "output_type": "stream",
     "text": [
      "File berhasil disimpan: /Users/yusufpradana/Library/CloudStorage/OneDrive-Personal/Pekerjaan BMN/05. 2025/98_monitoring_berita/monitoring-berita/konsolidasi_berita/hasil_gabungan_20251006_083538.csv\n"
     ]
    }
   ],
   "source": [
    "file_loc = os.path.join(cwd, '01_konsolidasi_data_berita.ipynb')\n",
    "\n",
    "%run \"$file_loc\""
   ]
  },
  {
   "cell_type": "markdown",
   "metadata": {
    "id": "-BWB0loXQGL-"
   },
   "source": [
    "#### Membaca Artikel Berita"
   ]
  },
  {
   "cell_type": "code",
   "execution_count": 9,
   "metadata": {
    "colab": {
     "base_uri": "https://localhost:8080/",
     "height": 217,
     "referenced_widgets": [
      "be2c2a371fd746f1a9c54d1f118a2390",
      "5886680b1a4d4c20adfff9f10b4eb80e",
      "f959c57f2f94471c9b5d800b644d69db",
      "50cf6eac6fc646a5ac2c856d5d6b8c93",
      "4d457ba32dc047fa94cfbcd12af7a7b5",
      "280f90cef3bf4a64855f7d5800d45307",
      "e0a7e6d3b9d743dbbc8939c2fa1a235d",
      "de6e0370fdb54e4f88a1b3b6f39ca276",
      "991f091932664e3e8fff4b579b0adb71",
      "99c7711a32504f1280c53abfd6b839c5",
      "ccdfe10894894e65802e9958e40dffb0"
     ]
    },
    "executionInfo": {
     "elapsed": 83900,
     "status": "ok",
     "timestamp": 1758707883851,
     "user": {
      "displayName": "Monitoring Berita",
      "userId": "16755502473357078001"
     },
     "user_tz": -420
    },
    "id": "rohdMRa1RS6_",
    "outputId": "e272c907-6209-4a93-9fff-a1545c702b64"
   },
   "outputs": [
    {
     "name": "stderr",
     "output_type": "stream",
     "text": [
      "2025-10-06 08:35:40,931 | INFO | Total URL untuk diproses: 133 (limit=None)\n"
     ]
    },
    {
     "data": {
      "application/vnd.jupyter.widget-view+json": {
       "model_id": "136716c146a0416c9027039d4da5697c",
       "version_major": 2,
       "version_minor": 0
      },
      "text/plain": [
       "Scraping artikel:   0%|          | 0/133 [00:00<?, ?it/s]"
      ]
     },
     "metadata": {},
     "output_type": "display_data"
    },
    {
     "name": "stderr",
     "output_type": "stream",
     "text": [
      "2025-10-06 08:35:45,513 | ERROR | not a 200 response: 502 for URL https://kumparan.com/kumparanbisnis/purbaya-tak-gentar-pada-luhut-akan-tetap-tarik-dana-mbg-jika-penyerapan-minim-25zL0JLARGF\n",
      "2025-10-06 08:35:56,316 | WARNING | Attempt 1 failed for https://rri.co.id/hiburan/1883014/rivo-hibahkan-pusaka-kyai-udan-mas-ke-menkeu: HTTPSConnectionPool(host='rri.co.id', port=443): Read timed out. (read timeout=8)\n",
      "2025-10-06 08:36:07,754 | WARNING | Attempt 1 failed for https://lenteratoday.com/post/item/224172/Lestarikan-Budaya-Nusantara-Rivo-Hibahkan-Pusaka-kepada-Menkeu-Purbaya: HTTPSConnectionPool(host='lenteratoday.com', port=443): Read timed out. (read timeout=8)\n",
      "2025-10-06 08:36:07,755 | ERROR | Failed to fetch https://lenteratoday.com/post/item/224172/Lestarikan-Budaya-Nusantara-Rivo-Hibahkan-Pusaka-kepada-Menkeu-Purbaya: global deadline exceeded before attempt\n",
      "2025-10-06 08:36:10,507 | ERROR | not a 200 response: 403 for URL https://www.inilah.com/kepala-daerah-jangan-main-main-dengan-serapan-anggaran-purbaya-tak-segan-pangkas-tkd\n",
      "2025-10-06 08:36:17,443 | ERROR | not a 200 response: 403 for URL https://tirto.id/purbaya-akan-tetap-potong-anggaran-mbg-bila-tak-terserap-oktober-hiZX\n",
      "2025-10-06 08:36:18,075 | ERROR | not a 200 response: 502 for URL https://kumparan.com/kumparanbisnis/rencana-purbaya-tarik-anggaran-mbg-dinilai-realistis-25zFgakF4ul\n",
      "2025-10-06 08:36:23,301 | WARNING | Attempt 1 failed for https://www.waspada.id/opini/beban-berat-fiskal-menkeu-purbaya/: HTTPSConnectionPool(host='www.waspada.id', port=443): Max retries exceeded with url: /opini/beban-berat-fiskal-menkeu-purbaya/ (Caused by SSLError(SSLCertVerificationError(1, '[SSL: CERTIFICATE_VERIFY_FAILED] certificate verify failed: unable to get local issuer certificate (_ssl.c:1000)')))\n",
      "2025-10-06 08:36:25,779 | WARNING | Attempt 2 failed for https://www.waspada.id/opini/beban-berat-fiskal-menkeu-purbaya/: HTTPSConnectionPool(host='www.waspada.id', port=443): Max retries exceeded with url: /opini/beban-berat-fiskal-menkeu-purbaya/ (Caused by SSLError(SSLCertVerificationError(1, '[SSL: CERTIFICATE_VERIFY_FAILED] certificate verify failed: unable to get local issuer certificate (_ssl.c:1000)')))\n",
      "2025-10-06 08:36:25,781 | ERROR | Failed to fetch https://www.waspada.id/opini/beban-berat-fiskal-menkeu-purbaya/: HTTPSConnectionPool(host='www.waspada.id', port=443): Max retries exceeded with url: /opini/beban-berat-fiskal-menkeu-purbaya/ (Caused by SSLError(SSLCertVerificationError(1, '[SSL: CERTIFICATE_VERIFY_FAILED] certificate verify failed: unable to get local issuer certificate (_ssl.c:1000)')))\n",
      "2025-10-06 08:36:31,413 | ERROR | not a 200 response: 403 for URL https://blitarkawentar.jawapos.com/ekobis/2276644248/membedah-kebijakan-200-triliun-purbaya-cerdas-secara-konsep-krusial-di-pengawasan\n",
      "2025-10-06 08:36:33,787 | WARNING | discarding data: None\n",
      "2025-10-06 08:36:33,788 | INFO | ruthless removal did not work. \n",
      "2025-10-06 08:36:38,528 | ERROR | not a 200 response: 403 for URL https://blitarkawentar.jawapos.com/ekobis/2276644247/hotman-paris-protes-bunga-deposito-turun-purbaya-memang-itu-tujuan-saya\n",
      "2025-10-06 08:36:45,403 | ERROR | not a 200 response: 403 for URL https://blitarkawentar.jawapos.com/ekobis/2276644237/kontroversi-dana-200-triliun-kebijakan-purbaya-turunkan-bunga-deposito-pengacara-hotman-paris-protes\n",
      "2025-10-06 08:37:16,757 | ERROR | not a 200 response: 403 for URL https://gorontalopost.jawapos.com/nasional/316663387/sorotan-subsidi-lpg-3-kg-dpr-kritik-purbaya-bahlil-singgung-perbedaan-hitungan\n",
      "2025-10-06 08:37:31,433 | ERROR | not a 200 response: 403 for URL https://gorontalopost.jawapos.com/nasional/316662572/kilang-minyak-memanas-menteri-esdm-bahlil-dan-pertamina-balas-pernyataan-menkeu-purbaya\n",
      "2025-10-06 08:37:40,811 | ERROR | not a 200 response: 403 for URL https://radarkediri.jawapos.com/nasional/786663110/purbaya-hingga-qodari-buka-suara-ini-penjelasan-lengkap-soal-rencana-kenaikan-gaji-pns-2025\n",
      "2025-10-06 08:37:57,742 | WARNING | Attempt 1 failed for https://id.headtopics.com/news/subsidi-energi-tahun-depan-bakal-naik-ini-kata-menkeu-73951576: HTTPSConnectionPool(host='id.headtopics.com', port=443): Read timed out. (read timeout=8)\n",
      "2025-10-06 08:37:59,375 | ERROR | Failed to fetch https://id.headtopics.com/news/subsidi-energi-tahun-depan-bakal-naik-ini-kata-menkeu-73951576: HTTP 500\n",
      "2025-10-06 08:38:00,410 | ERROR | not a 200 response: 403 for URL https://www.jawapos.com/nasional/016662446/tanggapi-soal-kritik-cukai-rokok-purbaya-kalau-tak-bisa-ciptakan-lapangan-kerja-jangan-omong-aja\n",
      "2025-10-06 08:38:02,838 | ERROR | not a 200 response: 403 for URL https://news.ambisius.com/2025/10/05/nasional/menkeu-purbaya-anggaran-mbg-tetap-dipotong-jika-tak-terserap-oktober\n",
      "2025-10-06 08:38:03,807 | ERROR | not a 200 response: 403 for URL https://radarkediri.jawapos.com/nasional/786662276/menkeu-purbaya-ultimatum-anggaran-makan-bergizi-gratis-terancam-dipotong-akhir-oktober-2025\n",
      "2025-10-06 08:38:18,205 | WARNING | discarding data: None\n",
      "2025-10-06 08:38:18,207 | INFO | ruthless removal did not work. \n",
      "2025-10-06 08:38:23,078 | ERROR | not a 200 response: 403 for URL https://radarbanyuwangi.jawapos.com/nasional/756662723/kabar-gaji-pensiunan-pns-2025-harapan-naik-pupus-sementara-ini-penjelasan-menkeu-purbaya?page=2\n",
      "2025-10-06 08:38:37,584 | WARNING | Attempt 1 failed for https://www.law-justice.co/amp/193191/respons-luhut-menkeu-tetap-ancam-potong-dana-mbg-jika-tak-terserap/: HTTPSConnectionPool(host='www.law-justice.co', port=443): Read timed out.\n",
      "2025-10-06 08:38:37,585 | ERROR | Failed to fetch https://www.law-justice.co/amp/193191/respons-luhut-menkeu-tetap-ancam-potong-dana-mbg-jika-tak-terserap/: global deadline exceeded before attempt\n",
      "2025-10-06 08:38:39,266 | ERROR | not a 200 response: 403 for URL https://solobalapan.jawapos.com/ekonomi/2306662376/gaji-pns-dan-guru-naik-mulai-bulan-oktober-ini-prabowo-teken-perpres-79-tahun-2025-ini-kata-menkeu-purbaya\n",
      "2025-10-06 08:38:39,990 | WARNING | discarding data: None\n",
      "2025-10-06 08:38:39,992 | INFO | ruthless removal did not work. \n",
      "2025-10-06 08:39:00,953 | WARNING | Attempt 1 failed for https://bukamata.id/berita/bapaknya-disanjung-sanjung-anaknya-jadi-sorotan-anak-menkeu-purbaya-dan-deretan-kontroversinya/: HTTPSConnectionPool(host='bukamata.id', port=443): Read timed out. (read timeout=8)\n",
      "2025-10-06 08:39:06,768 | WARNING | Attempt 2 failed for https://bukamata.id/berita/bapaknya-disanjung-sanjung-anaknya-jadi-sorotan-anak-menkeu-purbaya-dan-deretan-kontroversinya/: HTTPSConnectionPool(host='bukamata.id', port=443): Read timed out. (read timeout=2)\n",
      "2025-10-06 08:39:06,770 | ERROR | Failed to fetch https://bukamata.id/berita/bapaknya-disanjung-sanjung-anaknya-jadi-sorotan-anak-menkeu-purbaya-dan-deretan-kontroversinya/: HTTPSConnectionPool(host='bukamata.id', port=443): Read timed out. (read timeout=2)\n",
      "2025-10-06 08:39:11,167 | ERROR | not a 200 response: 403 for URL https://malang.jatimnetwork.com/nasional/37916035600/polemik-serapan-anggaran-program-makan-bergizi-gratis-luhut-binsar-yakin-penyerapan-akan-optimal\n",
      "2025-10-06 08:39:19,626 | ERROR | not a 200 response: 403 for URL https://surabaya.jatimnetwork.com/nasional/5216035592/batas-akhir-hingga-oktober-2025-menkeu-ancang-ancang-potong-anggaran-program-makan-bergizi-gratis\n",
      "2025-10-06 08:39:37,302 | WARNING | Attempt 1 failed for https://newslan.id/2025/10/05/menkeu-purbaya-ultimatum-importir-rokok-ilegal-mau-lari-kemana/: HTTPSConnectionPool(host='newslan.id', port=443): Read timed out. (read timeout=8)\n",
      "2025-10-06 08:39:37,304 | ERROR | Failed to fetch https://newslan.id/2025/10/05/menkeu-purbaya-ultimatum-importir-rokok-ilegal-mau-lari-kemana/: global deadline exceeded before attempt\n",
      "2025-10-06 08:39:59,324 | WARNING | discarding data: None\n",
      "2025-10-06 08:39:59,327 | INFO | ruthless removal did not work. \n",
      "2025-10-06 08:40:08,283 | ERROR | not a 200 response: 403 for URL https://seputarcibubur.pikiran-rakyat.com/ekonomi-bisnis/pr-1789697506/terkait-mekanisme-subsidi-hipmi-desak-menkeu-melangkah-konkret-dan-libatkan-lembaga-verifikasi\n",
      "2025-10-06 08:40:12,552 | ERROR | not a 200 response: 403 for URL https://jember.jatimnetwork.com/nasional/5116035586/anggaran-makan-bergizi-gratis-berpotensi-dipangkas-jika-tak-terserap-penuh-hingga-akhir-oktober-2025\n",
      "2025-10-06 08:40:26,600 | ERROR | not a 200 response: 403 for URL https://www.kilat.com/nasional/84416034071/jawaban-menkeu-purbaya-soal-pernyataan-luhut-terkait-anggaran-mbg-kalau-tidak-menyerap-kita-akan-potong\n",
      "2025-10-06 08:41:11,034 | ERROR | not a 200 response: 403 for URL https://www.ayobandung.com/umum/7916032649/pmk-terbaru-disahkan-menkeu-purbaya-tak-transfer-uang-makan-bulan-oktober-untuk-5-golongan-pns-ini-alasannya\n",
      "2025-10-06 08:41:44,437 | ERROR | not a 200 response: 403 for URL https://www.akurat.co/makro/1306662506/menkeu-as-pertemuan-trumpxi-bisa-jadi-titik-balik-perdagangan\n",
      "2025-10-06 08:41:46,326 | INFO | \n",
      "Summary status:\n",
      "status\n",
      "ok_trafilatura         65\n",
      "ok_site_specific       33\n",
      "ok_readability         19\n",
      "empty_after_generic     6\n",
      "timeout_fetch           4\n",
      "ok_generic              2\n",
      "fetch_failed            2\n",
      "timeout_no_content      2\n",
      "Name: count, dtype: int64\n",
      "2025-10-06 08:41:46,327 | INFO | Timeout sample rows: 5\n",
      "2025-10-06 08:41:46,332 | INFO | Tersimpan: /Users/yusufpradana/Library/CloudStorage/OneDrive-Personal/Pekerjaan BMN/05. 2025/98_monitoring_berita/monitoring-berita/hasil_baca_berita/hasil_scraping_artikel_20251006_084146.csv\n",
      "2025-10-06 08:41:46,333 | INFO | Berhasil update config.json di /Users/yusufpradana/Library/CloudStorage/OneDrive-Personal/Pekerjaan BMN/05. 2025/98_monitoring_berita/monitoring-berita/config.json\n"
     ]
    }
   ],
   "source": [
    "file_loc = os.path.join(cwd, '02_baca_link_berita.ipynb')\n",
    "\n",
    "%run \"$file_loc\""
   ]
  },
  {
   "cell_type": "markdown",
   "metadata": {
    "id": "btzQFyReOzDh"
   },
   "source": [
    "## 2.2 LABELLING ISU\n",
    "\n",
    "Setelah kita memperoleh daftar berita sesuai dengan query pencarian pengguna, selanjutnya kita akan melakukan labeling sederhana dengan menggunakan analisis kata kunci. Labeling ini adalah proses penyaringan pertama untuk mengeluarkan konten berita yang tidak terkait dengan Kemenkeu, Nasional, dan Internasional."
   ]
  },
  {
   "cell_type": "code",
   "execution_count": 17,
   "metadata": {
    "colab": {
     "base_uri": "https://localhost:8080/",
     "height": 156
    },
    "executionInfo": {
     "elapsed": 2381,
     "status": "ok",
     "timestamp": 1758707993749,
     "user": {
      "displayName": "Monitoring Berita",
      "userId": "16755502473357078001"
     },
     "user_tz": -420
    },
    "id": "wqL0C4I8O4D1",
    "outputId": "451c15a5-951e-4a1d-e142-4d8750dba9e4"
   },
   "outputs": [
    {
     "name": "stdout",
     "output_type": "stream",
     "text": [
      "Normalisasi tanggal_berita: total=133, sukses=133, gagal=0 (0.0%)\n",
      "Filter tanggal: 2025-10-05 s.d 2025-10-06 (dari 133 -> 133)\n",
      "Labeling selesai. Jumlah baris: 133\n"
     ]
    },
    {
     "data": {
      "text/html": [
       "<div>\n",
       "<style scoped>\n",
       "    .dataframe tbody tr th:only-of-type {\n",
       "        vertical-align: middle;\n",
       "    }\n",
       "\n",
       "    .dataframe tbody tr th {\n",
       "        vertical-align: top;\n",
       "    }\n",
       "\n",
       "    .dataframe thead th {\n",
       "        text-align: right;\n",
       "    }\n",
       "</style>\n",
       "<table border=\"1\" class=\"dataframe\">\n",
       "  <thead>\n",
       "    <tr style=\"text-align: right;\">\n",
       "      <th></th>\n",
       "      <th>kategori_isu</th>\n",
       "      <th>jumlah</th>\n",
       "    </tr>\n",
       "  </thead>\n",
       "  <tbody>\n",
       "    <tr>\n",
       "      <th>0</th>\n",
       "      <td>Isu Kemenkeu</td>\n",
       "      <td>128</td>\n",
       "    </tr>\n",
       "    <tr>\n",
       "      <th>1</th>\n",
       "      <td>Isu Nasional</td>\n",
       "      <td>4</td>\n",
       "    </tr>\n",
       "    <tr>\n",
       "      <th>2</th>\n",
       "      <td>Isu Lainnya</td>\n",
       "      <td>1</td>\n",
       "    </tr>\n",
       "  </tbody>\n",
       "</table>\n",
       "</div>"
      ],
      "text/plain": [
       "   kategori_isu  jumlah\n",
       "0  Isu Kemenkeu     128\n",
       "1  Isu Nasional       4\n",
       "2   Isu Lainnya       1"
      ]
     },
     "metadata": {},
     "output_type": "display_data"
    },
    {
     "name": "stdout",
     "output_type": "stream",
     "text": [
      "Tersimpan: /Users/yusufpradana/Library/CloudStorage/OneDrive-Personal/Pekerjaan BMN/05. 2025/98_monitoring_berita/monitoring-berita/hasil_labeling/hasil_labeling_20251006_090601.csv & /Users/yusufpradana/Library/CloudStorage/OneDrive-Personal/Pekerjaan BMN/05. 2025/98_monitoring_berita/monitoring-berita/hasil_labeling/hasil_labeling_20251006_090601.xlsx\n",
      "Berhasil update config.json di /Users/yusufpradana/Library/CloudStorage/OneDrive-Personal/Pekerjaan BMN/05. 2025/98_monitoring_berita/monitoring-berita/config.json\n"
     ]
    }
   ],
   "source": [
    "file_loc = os.path.join(cwd, '03_labelling_awal.ipynb')\n",
    "\n",
    "%run \"$file_loc\""
   ]
  },
  {
   "cell_type": "markdown",
   "metadata": {
    "id": "Yh3Y5kSakfqt"
   },
   "source": [
    "## 2.3 ANALISIS DENGAN GEN AI\n",
    "\n",
    "Pada tahapan ini kita telah mendapat data berita dengan query pencarian sesuai dengan kebutuhan pengguna khusus untuk isu Kemenkeu, Nasional, dan Internasional. \n",
    "\n",
    "Setelah mendapatkan data tersebut, kita akan melakukan proses analisis dengan menggunakan Generative AI dengan model yang biasa kita kenal seperti ChatGPT dari OpenAI, deepseek-chat dari Deepseek, atau dengan menggunakan model lain yang tersedia. Untuk saat ini model yang dapat digunakan adalah model tersebut di atas. \n",
    "\n",
    "Kualitas jawaban yang dihasilkan oleh generative ai ini sangat tergantung dengan prompt yang digunakan. Untuk saat ini strategi prompt engineering yang digunakan adalah one-shot prompt dimana kita meminta AI untuk menentukan beberapa parameter menggunakan prompt ketat untuk menghasilkan jawaban dengan format tertentu, dalam hal ini dengan format JSON.\n",
    "\n",
    "Selanjutnya, jawaban dalam format JSON tersebut diekstrak dan ditambahkan ke dalam tabel untuk digunakan dalam proses analisis selanjutnya. "
   ]
  },
  {
   "cell_type": "markdown",
   "metadata": {},
   "source": [
    "#### Analisis Sentimen dan Nilai Kepentingan Berita\n",
    "\n",
    "Setelah data berita sesuai query pengguna diperoleh, program akan memanggil AI di server dengan menggunakan API key untuk memperoleh informasi yang diperlukan. Informasi tersebut antara lain:\n",
    "\n",
    "* Topik Berita: menentukan apakah isu berita termasuk isu Kemenkeu, Nasional, Internasional, atau Lainnya.\n",
    "* Subtopik Berita: menentukan subtopik berita sesuai dengan topik berita yang akan dimonitoring oleh pengguna. \n",
    "* Sentimen Berita: menentukan sentimen berita apakah positif, negatif, atau netral berdasarkan kriteria sentimen yang biasa digunakan oleh Biro KLI dalam monitoring berita.\n",
    "* Alasan Sentimen Berita: Proses berfikir AI dalam menentukan sentimen sebuah berita.\n",
    "* Pejabat dalam Pemberitaan: Menarik informasi terkait pejabat/publik figur yang menjadi fokus pemberitaan.\n",
    "* Pernyataan Pejabat: Mengambil informasi terkait pernyataan yang dikeluarkan oleh pejabat dalam berita.\n",
    "* Tingkat Kepentingan Berita: Meminta AI untuk menentukan nilai kepenting berita terhadap Kemenkeu secara organisasi. Nilai berupa bilangan dari 0 sampai dengan 100. \n",
    "\n",
    "Seperti dalam diskusi sebelumnya, bahwa kualitas jawaban dari generative AI sangat tergantung dari prompt yang digunakan. Untuk saat ini, prompt yang digunakan adalah sebagai berikut:\n",
    "\n",
    "**========= Prompt yang Digunakan Saat Ini =========**\n",
    "\n",
    "TUGAS:\n",
    "1) Tentukan nilai **\"topik\"** (pilih satu dari kategori berikut):\n",
    "   - Kemenkeu digunakan jika berita berkaitan langsung dengan tugas/fungsi Kementerian Keuangan RI.  \n",
    "   - Nasional untuk kebijakan pusat selain Kemenkeu.  \n",
    "   - Internasional untuk hubungan luar negeri atau isu global. \n",
    "   - Lainnya untuk kategori yang tidak sesuai ketiganya (misalnya olahraga, hiburan, dsb.).\n",
    "\n",
    "2) Tentukan **\"subtopik\"**: frasa singkat yang menggambarkan isi pokok berita sesuai dengan daftar topik di system prompt.\n",
    "\n",
    "3) Tentukan **\"sentimen\"** (pilih salah satu):  \n",
    "    - **Positif**\n",
    "    - Ada dukungan terhadap pernyataan atau kebijakan, atau ditanggapi positif oleh pihak eksternal.\n",
    "    - Kriteria:\n",
    "        - Mengandung kata positif yang mendukung: “mendukung”, “membaik”, “bagus”, “meningkat”, “positif”, “optimis”, dll.\n",
    "        - Dukungan bisa dari narasumber internal Kemenkeu maupun eksternal (media/editorial/opini).\n",
    "        - Kata negatif seperti “penyelundupan” atau “penegahan” namun dikaitkan dengan “Bea Cukai” atau “DJBC” → positif.\n",
    "        - Kata negatif seperti “penggelapan pajak” namun dikaitkan dengan “DJP” atau “Direktorat Jenderal Pajak” → positif.\n",
    "\n",
    "    2. **Netral**\n",
    "    - Ada dukungan sekaligus kritik, atau analisis berimbang (cover both side).\n",
    "    - Kriteria:\n",
    "        - Kata-kata aspirasi: “berharap”, “aspirasi”, “masukan”.\n",
    "        - Judul clickbait dengan narasumber internal Kemenkeu → netral.\n",
    "        - Penurunan indikator ekonomi (pertumbuhan, inflasi, nilai tukar, rasio gini, neraca perdagangan) tanpa asosiasi langsung ke kinerja Kemenkeu → netral.\n",
    "    \n",
    "    3. **Negatif**\n",
    "    - Kritikan, respon negatif, atau ulasan analisa negatif terhadap kebijakan / pernyataan internal Kementerian Keuangan. \n",
    "    - Lebih strict untuk negatif dibanding positif/netral. Jika ragu, pilih netral.\n",
    "    - Pengecualian: Kritik internal Kementerian Keuangan ke eksternal → netral.\n",
    "    - Kriteria:\n",
    "        - Kata “menurun”, “melemah”, “anjlok”, “merosot” untuk kinerja langsung Kemenkeu (APBN, penerimaan, belanja). \n",
    "        - Pengecualian jika untuk pembiayaan “utang” atau “defisit” → positif.\n",
    "        - Kata terkait kasus hukum: “penangkapan”, “pemeriksaan” + “korupsi”, “OTT”, “operasi tangkap tangan”, “kode etik”.\n",
    "\n",
    "4) Beri **\"alasan_sentimen\"**: penjelasan singkat (maksimal 2 kalimat) kenapa sentimen tersebut sesuai.\n",
    "\n",
    "5) Temukan **\"poin_of_interest\"**: nama pejabat / public figure (dengan jabatan dan gelar jika ada) yang menjadi fokus dalam berita (jika ada).\n",
    "\n",
    "6) Ambil **\"statement_pejabat\"**: **semua kutipan** langsung dari berita, persis seperti tertulis (jangan diubah atau ringkas).\n",
    "\n",
    "7) Beri **\"importance\"**: angka antara 0 hingga 100 yang menunjukkan tingkat importance berita dimaksud terhadap Kementerian Keuangan sebagai sebuah lembaga.\n",
    "\n",
    "FORMAT OUTPUT HARUS JSON (tanpa tambahan teks apa pun), contoh:\n",
    "\n",
    "\n",
    "Output HARUS JSON:\n",
    "{{\n",
    "  \"topik\": \"Kemenkeu|Nasional|Internasional|Lainnya\",\n",
    "  \"subtopik\": \"string\",\n",
    "  \"sentimen\": \"positif|netral|negatif\",\n",
    "  \"alasan_sentimen\": \"string\",\n",
    "  \"poin_of_interest\": \"string\",\n",
    "  \"statement_pejabat\": \"string\",\n",
    "  \"importance\": 0.0\n",
    "}}"
   ]
  },
  {
   "cell_type": "code",
   "execution_count": 18,
   "metadata": {
    "id": "hFf-5-oyke-c"
   },
   "outputs": [
    {
     "name": "stdout",
     "output_type": "stream",
     "text": [
      "API keys - Deepseek: OK | OpenAI: OK\n",
      "Provider yang dipakai: deepseek\n"
     ]
    },
    {
     "data": {
      "application/vnd.jupyter.widget-view+json": {
       "model_id": "f565c274004a41479291f0e5daa2e27b",
       "version_major": 2,
       "version_minor": 0
      },
      "text/plain": [
       "Analisis berita (parallel deepseek):   0%|          | 0/132 [00:00<?, ?berita/s]"
      ]
     },
     "metadata": {},
     "output_type": "display_data"
    },
    {
     "name": "stderr",
     "output_type": "stream",
     "text": [
      "2025-10-06 09:10:01,770 | INFO | Berhasil update config.json di config.json\n"
     ]
    },
    {
     "name": "stdout",
     "output_type": "stream",
     "text": [
      "Pipeline selesai. Hasil disimpan di 00_hasil_analisis/seluruh_berita/analisis_ai_20251006_deepseek_default.csv\n",
      "Monitoring sementara: {'execution_datetime': '2025-10-06 09:10:01', 'provider': 'deepseek', 'model_name': 'deepseek-chat', 'elapsed_seconds': 238.36, 'output_file': '00_hasil_analisis/seluruh_berita/analisis_ai_20251006_deepseek_default.csv', 'n_rows_result_df': 132}\n",
      "Monitoring log ditulis/ditambahkan ke monitoring_log_genai.csv\n",
      "    execution_datetime  provider     model_name  elapsed_seconds  \\\n",
      "0  2025-10-06 09:10:01  deepseek  deepseek-chat           238.36   \n",
      "\n",
      "                                                                  output_file  \\\n",
      "0  00_hasil_analisis/seluruh_berita/analisis_ai_20251006_deepseek_default.csv   \n",
      "\n",
      "   n_rows_in_memory  n_rows_output_file  \n",
      "0               132                 132  \n",
      "📊 REKAP SENTIMEN BERITA\n",
      "==================================================\n",
      "Total berita yang dianalisis: 132\n",
      "\n",
      "Distribusi Sentimen:\n",
      "------------------------------\n",
      "😐 Netral    :   99 berita ( 75.0%)\n",
      "😊 Positif   :   24 berita ( 18.2%)\n",
      "😠 Negatif   :    9 berita (  6.8%)\n",
      "\n",
      "📋 REKAP PER TOPIK:\n",
      "----------------------------------------\n",
      "\n",
      "🏷️  Internasional (4 berita):\n",
      "   😊 Positif: 2 (50.0%)\n",
      "   😐 Netral: 2 (50.0%)\n",
      "\n",
      "🏷️  Kemenkeu (118 berita):\n",
      "   😊 Positif: 21 (17.8%)\n",
      "   😠 Negatif: 8 (6.8%)\n",
      "   😐 Netral: 89 (75.4%)\n",
      "\n",
      "🏷️  Lainnya (8 berita):\n",
      "   😠 Negatif: 1 (12.5%)\n",
      "   😐 Netral: 7 (87.5%)\n",
      "\n",
      "🏷️  Nasional (2 berita):\n",
      "   😊 Positif: 1 (50.0%)\n",
      "   😐 Netral: 1 (50.0%)\n",
      "\n",
      "✅ Rekap sentimen selesai!\n",
      "📁 Data tersimpan dalam variabel 'sentimen_summary_df'\n"
     ]
    }
   ],
   "source": [
    "file_loc = os.path.join(cwd, '04_analisis_dengan_genAI.ipynb')\n",
    "\n",
    "%run \"$file_loc\""
   ]
  },
  {
   "cell_type": "markdown",
   "metadata": {},
   "source": [
    "#### Analisis Berita Penting\n",
    "\n",
    "Selanjutnya, kita akan filter berita dengan nilai kepentingan (importance) di atas 50, artinya berita-berita tersebut menurut AI memiliki tingkat kepentingan yang cukup tinggi terhadap organisasi Kementerian Keuangan. \n",
    "\n",
    "Selain itu pada tahapan ini, kita juga melakukan proses formating atas berita yang ada sehingga program dapat menghasilkan format yang sesuai dengan kebutuhan. \n",
    "\n",
    "**========= Contoh Format Output =========**\n",
    "\n",
    "Daftar Berita & Konten\n",
    "Senin, 6 Oktober 2025\n",
    "Periode pantauan tanggal 5-6 September 2025 (pukul 14.00 s.d. 06.00 WIB)\n",
    "\n",
    "**Media Online**\n",
    "\n",
    "🟢 Purbaya Ingin Bangun Kawasan Industri Hasil Tembakau, Bisa Lawan Rokok Ilegal? - Bisnis.com\n",
    "https://ekonomi.bisnis.com/read/20251005/259/1917519/purbaya-ingin-bangun-kawasan-industri-hasil-tembakau-bisa-lawan-rokok-ilegal\n",
    "\n",
    "🟢 Menkeu Purbaya Ingatkan Himbara Tak Gunakan Dana Rp200 Triliun untuk Beli Dolar - Jurnal Patroli News\n",
    "https://jurnalpatrolinews.co.id/nasional/purbaya-peringatkan-himbara-dana-rp200-triliun-jangan-untuk-beli-dolar/\n",
    "\n",
    "🟢 Kenapa Purbaya hingga Tito Karnavian disebut sebagai menteri berkinerja terbaik? - Alinea.ID\n",
    "https://www.alinea.id/politik/kenapa-purbaya-hingga-tito-disebut-berkinerja-terbaik-b2nvH9SbT\n",
    "\n",
    "🟢 Menkeu Purbaya Tawarkan Amnesti, Produsen Rokok Ilegal Bisa Legalisasi - Ambisius News\n",
    "https://news.ambisius.com/2025/10/05/ekonomi/menkeu-purbaya-tawarkan-amnesti-produsen-rokok-ilegal-bisa-legalisasi\n",
    "\n",
    "\n",
    "⚪ CEK FAKTA: Konten Manipulatif Soal Menkeu Purbaya Beredar di Facebook - Suarakaltim.id\n",
    "https://kaltim.suara.com/read/2025/10/05/203154/cek-fakta-konten-manipulatif-soal-menkeu-purbaya-beredar-di-facebook\n",
    "\n",
    "🔴 Bahlil Tanggapi Laporan Harga LPG 3 Kg dari Purbaya ke DPR, Blak-blakan Sebut Menkeu Baru Butuh Penyesuaian - Si Jogja - sijogja.com\n",
    "https://www.sijogja.com/news/18416034844/bahlil-tanggapi-laporan-harga-lpg-3-kg-dari-purbaya-ke-dpr-blak-blakan-sebut-menkeu-baru-butuh-penyesuaian\n"
   ]
  },
  {
   "cell_type": "code",
   "execution_count": 19,
   "metadata": {},
   "outputs": [
    {
     "name": "stderr",
     "output_type": "stream",
     "text": [
      "2025-10-06 09:10:01,798 | INFO | ✅ AI Configuration loaded: DEEPSEEK\n",
      "2025-10-06 09:10:01,798 | INFO |    Model: deepseek-chat\n",
      "2025-10-06 09:10:01,799 | INFO |    Temperature: 0.1\n",
      "2025-10-06 09:10:01,799 | INFO |    Max Tokens: 5000\n"
     ]
    },
    {
     "name": "stdout",
     "output_type": "stream",
     "text": [
      "=== KONFIGURASI AI MODEL ===\n"
     ]
    },
    {
     "name": "stderr",
     "output_type": "stream",
     "text": [
      "2025-10-06 09:10:02,007 | INFO | HTTP Request: POST https://api.deepseek.com/v1/chat/completions \"HTTP/1.1 200 OK\"\n",
      "2025-10-06 09:10:03,828 | INFO | ✅ DEEPSEEK API connection successful\n"
     ]
    },
    {
     "name": "stdout",
     "output_type": "stream",
     "text": [
      "🎯 AI Model: DEEPSEEK (deepseek-chat)\n",
      "🔧 Temperature: 0.1\n",
      "📝 Max Tokens: 5000\n",
      "🔑 API Key: ********************...8d74\n",
      "\n",
      "🧪 Testing AI connection...\n"
     ]
    },
    {
     "name": "stderr",
     "output_type": "stream",
     "text": [
      "2025-10-06 09:10:04,055 | INFO | HTTP Request: POST https://api.deepseek.com/v1/chat/completions \"HTTP/1.1 200 OK\"\n",
      "2025-10-06 09:10:05,415 | INFO | Membaca file analisis AI: 00_hasil_analisis/seluruh_berita/analisis_ai_20251006_deepseek_default.csv\n",
      "2025-10-06 09:10:05,424 | INFO | Total berita: 132\n",
      "2025-10-06 09:10:05,425 | INFO | Berita penting (filtered): 119\n"
     ]
    },
    {
     "name": "stdout",
     "output_type": "stream",
     "text": [
      "✅ Test Response: AI Ready!\n",
      "\n",
      "✅ AI configuration completed successfully!\n",
      "💡 Gunakan CALL_AI_MODEL(prompt) untuk memanggil AI di sel lain.\n",
      "\n",
      "📋 Environment Variables yang diset:\n",
      "   MODEL_ANALISIS = deepseek\n",
      "   AI_MODEL_NAME = deepseek-chat\n",
      "   DUMMY_MODE = 0\n",
      "Berhasil memuat 119 berita penting\n",
      "\n",
      "Sample berita penting:\n",
      "                                                                                                                                  judul_berita  \\\n",
      "0                                                             Nasib Anggaran MBG Jelang Akhir 2025, Akankah Dipotong Purbaya? - CNBC Indonesia   \n",
      "38  Kontroversi Dana 200 Triliun: Kebijakan Purbaya Turunkan Bunga Deposito, Pengacara Hotman Paris Protes - Blitar Kawentar - Blitar Kawentar   \n",
      "45                                                 Purbaya Ingin Bangun Kawasan Industri Hasil Tembakau, Bisa Lawan Rokok Ilegal? - Bisnis.com   \n",
      "49                                                                       Luhut Minta Anggaran MBG Jangan Dipotong, Begini Kata Purbaya - RCTI+   \n",
      "50                                                                               Kontroversi Menteri Keuangan Pengganti Sri Mulyani - Tempo.co   \n",
      "\n",
      "   topik_llm  importance sentimen  \n",
      "0   Kemenkeu        85.0   netral  \n",
      "38  Kemenkeu        85.0   netral  \n",
      "45  Kemenkeu        85.0  positif  \n",
      "49  Kemenkeu        85.0   netral  \n",
      "50  Kemenkeu        85.0  negatif  \n",
      "Kolom teks: artikel_berita_bersih, Kolom judul: judul_berita\n",
      "AI Model: DEEPSEEK (deepseek-chat)\n",
      "✅ Using pre-configured DEEPSEEK client\n",
      "Starting analysis of 119 articles using DEEPSEEK...\n"
     ]
    },
    {
     "name": "stderr",
     "output_type": "stream",
     "text": [
      "Analyzing articles:   0%|          | 0/119 [00:00<?, ?article/s]2025-10-06 09:10:05,571 | INFO | HTTP Request: POST https://api.deepseek.com/v1/chat/completions \"HTTP/1.1 200 OK\"\n",
      "2025-10-06 09:10:05,619 | INFO | HTTP Request: POST https://api.deepseek.com/v1/chat/completions \"HTTP/1.1 200 OK\"\n",
      "2025-10-06 09:10:05,666 | INFO | HTTP Request: POST https://api.deepseek.com/v1/chat/completions \"HTTP/1.1 200 OK\"\n",
      "Analyzing articles:   1%|          | 1/119 [00:08<17:30,  8.91s/article, completed=1, errors=0]2025-10-06 09:10:14,507 | INFO | HTTP Request: POST https://api.deepseek.com/v1/chat/completions \"HTTP/1.1 200 OK\"\n",
      "Analyzing articles:   2%|▏         | 2/119 [00:09<07:27,  3.83s/article, completed=2, errors=0]2025-10-06 09:10:14,760 | INFO | HTTP Request: POST https://api.deepseek.com/v1/chat/completions \"HTTP/1.1 200 OK\"\n",
      "Analyzing articles:   3%|▎         | 3/119 [00:09<04:35,  2.38s/article, completed=3, errors=0]2025-10-06 09:10:15,445 | INFO | HTTP Request: POST https://api.deepseek.com/v1/chat/completions \"HTTP/1.1 200 OK\"\n",
      "Analyzing articles:   3%|▎         | 4/119 [00:18<09:15,  4.83s/article, completed=4, errors=0]2025-10-06 09:10:24,022 | INFO | HTTP Request: POST https://api.deepseek.com/v1/chat/completions \"HTTP/1.1 200 OK\"\n",
      "Analyzing articles:   4%|▍         | 5/119 [00:18<06:12,  3.27s/article, completed=5, errors=0]2025-10-06 09:10:24,559 | INFO | HTTP Request: POST https://api.deepseek.com/v1/chat/completions \"HTTP/1.1 200 OK\"\n",
      "Analyzing articles:   5%|▌         | 6/119 [00:19<04:17,  2.28s/article, completed=6, errors=0]2025-10-06 09:10:24,893 | INFO | HTTP Request: POST https://api.deepseek.com/v1/chat/completions \"HTTP/1.1 200 OK\"\n",
      "Analyzing articles:   6%|▌         | 7/119 [00:28<08:35,  4.60s/article, completed=7, errors=0]2025-10-06 09:10:34,254 | INFO | HTTP Request: POST https://api.deepseek.com/v1/chat/completions \"HTTP/1.1 200 OK\"\n",
      "Analyzing articles:   7%|▋         | 8/119 [00:29<06:00,  3.25s/article, completed=8, errors=0]2025-10-06 09:10:34,601 | INFO | HTTP Request: POST https://api.deepseek.com/v1/chat/completions \"HTTP/1.1 200 OK\"\n",
      "Analyzing articles:   8%|▊         | 9/119 [00:29<04:21,  2.38s/article, completed=9, errors=0]2025-10-06 09:10:35,067 | INFO | HTTP Request: POST https://api.deepseek.com/v1/chat/completions \"HTTP/1.1 200 OK\"\n",
      "Analyzing articles:   8%|▊         | 10/119 [00:38<08:08,  4.48s/article, completed=10, errors=0]2025-10-06 09:10:44,267 | INFO | HTTP Request: POST https://api.deepseek.com/v1/chat/completions \"HTTP/1.1 200 OK\"\n",
      "Analyzing articles:   9%|▉         | 11/119 [00:38<05:44,  3.19s/article, completed=11, errors=0]2025-10-06 09:10:44,517 | INFO | HTTP Request: POST https://api.deepseek.com/v1/chat/completions \"HTTP/1.1 200 OK\"\n",
      "Analyzing articles:  10%|█         | 12/119 [00:39<04:02,  2.27s/article, completed=12, errors=0]2025-10-06 09:10:44,669 | INFO | HTTP Request: POST https://api.deepseek.com/v1/chat/completions \"HTTP/1.1 200 OK\"\n",
      "Analyzing articles:  12%|█▏        | 14/119 [00:47<07:23,  4.22s/article, completed=14, errors=0]2025-10-06 09:10:53,405 | INFO | HTTP Request: POST https://api.deepseek.com/v1/chat/completions \"HTTP/1.1 200 OK\"\n",
      "2025-10-06 09:10:53,440 | INFO | HTTP Request: POST https://api.deepseek.com/v1/chat/completions \"HTTP/1.1 200 OK\"\n",
      "Analyzing articles:  13%|█▎        | 15/119 [00:48<04:22,  2.53s/article, completed=15, errors=0]2025-10-06 09:10:54,529 | INFO | HTTP Request: POST https://api.deepseek.com/v1/chat/completions \"HTTP/1.1 200 OK\"\n",
      "Analyzing articles:  13%|█▎        | 16/119 [00:56<06:21,  3.71s/article, completed=16, errors=0]2025-10-06 09:11:01,791 | INFO | HTTP Request: POST https://api.deepseek.com/v1/chat/completions \"HTTP/1.1 200 OK\"\n",
      "Analyzing articles:  14%|█▍        | 17/119 [00:57<05:22,  3.16s/article, completed=17, errors=0]2025-10-06 09:11:03,439 | INFO | HTTP Request: POST https://api.deepseek.com/v1/chat/completions \"HTTP/1.1 200 OK\"\n",
      "Analyzing articles:  15%|█▌        | 18/119 [00:58<04:17,  2.55s/article, completed=18, errors=0]2025-10-06 09:11:04,354 | INFO | HTTP Request: POST https://api.deepseek.com/v1/chat/completions \"HTTP/1.1 200 OK\"\n",
      "Analyzing articles:  16%|█▌        | 19/119 [01:05<06:21,  3.82s/article, completed=19, errors=0]2025-10-06 09:11:11,418 | INFO | HTTP Request: POST https://api.deepseek.com/v1/chat/completions \"HTTP/1.1 200 OK\"\n",
      "Analyzing articles:  17%|█▋        | 20/119 [01:06<04:36,  2.79s/article, completed=20, errors=0]2025-10-06 09:11:11,647 | INFO | HTTP Request: POST https://api.deepseek.com/v1/chat/completions \"HTTP/1.1 200 OK\"\n",
      "Analyzing articles:  18%|█▊        | 21/119 [01:06<03:34,  2.19s/article, completed=21, errors=0]2025-10-06 09:11:12,366 | INFO | HTTP Request: POST https://api.deepseek.com/v1/chat/completions \"HTTP/1.1 200 OK\"\n",
      "Analyzing articles:  18%|█▊        | 22/119 [01:15<06:36,  4.08s/article, completed=22, errors=0]2025-10-06 09:11:21,022 | INFO | HTTP Request: POST https://api.deepseek.com/v1/chat/completions \"HTTP/1.1 200 OK\"\n",
      "Analyzing articles:  20%|██        | 24/119 [01:15<03:20,  2.11s/article, completed=24, errors=0]2025-10-06 09:11:21,244 | INFO | HTTP Request: POST https://api.deepseek.com/v1/chat/completions \"HTTP/1.1 200 OK\"\n",
      "2025-10-06 09:11:21,397 | INFO | HTTP Request: POST https://api.deepseek.com/v1/chat/completions \"HTTP/1.1 200 OK\"\n",
      "Analyzing articles:  22%|██▏       | 26/119 [01:24<06:24,  4.13s/article, completed=26, errors=0]2025-10-06 09:11:30,279 | INFO | HTTP Request: POST https://api.deepseek.com/v1/chat/completions \"HTTP/1.1 200 OK\"\n",
      "2025-10-06 09:11:30,282 | INFO | HTTP Request: POST https://api.deepseek.com/v1/chat/completions \"HTTP/1.1 200 OK\"\n",
      "Analyzing articles:  23%|██▎       | 27/119 [01:25<03:40,  2.40s/article, completed=27, errors=0]2025-10-06 09:11:30,980 | INFO | HTTP Request: POST https://api.deepseek.com/v1/chat/completions \"HTTP/1.1 200 OK\"\n",
      "Analyzing articles:  24%|██▎       | 28/119 [01:33<05:41,  3.75s/article, completed=28, errors=0]2025-10-06 09:11:38,863 | INFO | HTTP Request: POST https://api.deepseek.com/v1/chat/completions \"HTTP/1.1 200 OK\"\n",
      "Analyzing articles:  24%|██▍       | 29/119 [01:33<04:21,  2.91s/article, completed=29, errors=0]2025-10-06 09:11:39,374 | INFO | HTTP Request: POST https://api.deepseek.com/v1/chat/completions \"HTTP/1.1 200 OK\"\n",
      "Analyzing articles:  25%|██▌       | 30/119 [01:34<03:28,  2.34s/article, completed=30, errors=0]2025-10-06 09:11:40,316 | INFO | HTTP Request: POST https://api.deepseek.com/v1/chat/completions \"HTTP/1.1 200 OK\"\n",
      "Analyzing articles:  27%|██▋       | 32/119 [01:42<04:03,  2.80s/article, completed=32, errors=0]2025-10-06 09:11:48,056 | INFO | HTTP Request: POST https://api.deepseek.com/v1/chat/completions \"HTTP/1.1 200 OK\"\n",
      "2025-10-06 09:11:48,077 | INFO | HTTP Request: POST https://api.deepseek.com/v1/chat/completions \"HTTP/1.1 200 OK\"\n",
      "Analyzing articles:  28%|██▊       | 33/119 [01:44<03:37,  2.53s/article, completed=33, errors=0]2025-10-06 09:11:50,009 | INFO | HTTP Request: POST https://api.deepseek.com/v1/chat/completions \"HTTP/1.1 200 OK\"\n",
      "Analyzing articles:  29%|██▊       | 34/119 [01:52<06:00,  4.24s/article, completed=34, errors=0]2025-10-06 09:11:58,349 | INFO | HTTP Request: POST https://api.deepseek.com/v1/chat/completions \"HTTP/1.1 200 OK\"\n",
      "Analyzing articles:  29%|██▉       | 35/119 [01:53<04:32,  3.25s/article, completed=35, errors=0]2025-10-06 09:11:59,214 | INFO | HTTP Request: POST https://api.deepseek.com/v1/chat/completions \"HTTP/1.1 200 OK\"\n",
      "Analyzing articles:  30%|███       | 36/119 [01:53<03:16,  2.37s/article, completed=36, errors=0]2025-10-06 09:11:59,570 | INFO | HTTP Request: POST https://api.deepseek.com/v1/chat/completions \"HTTP/1.1 200 OK\"\n",
      "Analyzing articles:  32%|███▏      | 38/119 [02:02<05:38,  4.17s/article, completed=38, errors=0]2025-10-06 09:12:07,906 | INFO | HTTP Request: POST https://api.deepseek.com/v1/chat/completions \"HTTP/1.1 200 OK\"\n",
      "2025-10-06 09:12:07,922 | INFO | HTTP Request: POST https://api.deepseek.com/v1/chat/completions \"HTTP/1.1 200 OK\"\n",
      "Analyzing articles:  33%|███▎      | 39/119 [02:04<03:43,  2.80s/article, completed=39, errors=0]2025-10-06 09:12:10,254 | INFO | HTTP Request: POST https://api.deepseek.com/v1/chat/completions \"HTTP/1.1 200 OK\"\n",
      "Analyzing articles:  34%|███▎      | 40/119 [02:09<04:19,  3.28s/article, completed=40, errors=0]2025-10-06 09:12:15,002 | INFO | HTTP Request: POST https://api.deepseek.com/v1/chat/completions \"HTTP/1.1 200 OK\"\n",
      "Analyzing articles:  34%|███▍      | 41/119 [02:10<03:36,  2.77s/article, completed=41, errors=0]2025-10-06 09:12:16,358 | INFO | HTTP Request: POST https://api.deepseek.com/v1/chat/completions \"HTTP/1.1 200 OK\"\n",
      "Analyzing articles:  35%|███▌      | 42/119 [02:13<03:22,  2.63s/article, completed=42, errors=0]2025-10-06 09:12:18,603 | INFO | HTTP Request: POST https://api.deepseek.com/v1/chat/completions \"HTTP/1.1 200 OK\"\n",
      "Analyzing articles:  36%|███▌      | 43/119 [02:18<04:23,  3.47s/article, completed=43, errors=0]2025-10-06 09:12:24,229 | INFO | HTTP Request: POST https://api.deepseek.com/v1/chat/completions \"HTTP/1.1 200 OK\"\n",
      "Analyzing articles:  37%|███▋      | 44/119 [02:20<03:52,  3.09s/article, completed=44, errors=0]2025-10-06 09:12:26,372 | INFO | HTTP Request: POST https://api.deepseek.com/v1/chat/completions \"HTTP/1.1 200 OK\"\n",
      "Analyzing articles:  38%|███▊      | 45/119 [02:22<03:13,  2.61s/article, completed=45, errors=0]2025-10-06 09:12:27,852 | INFO | HTTP Request: POST https://api.deepseek.com/v1/chat/completions \"HTTP/1.1 200 OK\"\n",
      "Analyzing articles:  39%|███▊      | 46/119 [02:28<04:26,  3.65s/article, completed=46, errors=0]2025-10-06 09:12:33,953 | INFO | HTTP Request: POST https://api.deepseek.com/v1/chat/completions \"HTTP/1.1 200 OK\"\n",
      "Analyzing articles:  39%|███▉      | 47/119 [02:29<03:26,  2.87s/article, completed=47, errors=0]2025-10-06 09:12:35,007 | INFO | HTTP Request: POST https://api.deepseek.com/v1/chat/completions \"HTTP/1.1 200 OK\"\n",
      "Analyzing articles:  40%|████      | 48/119 [02:31<03:02,  2.57s/article, completed=48, errors=0]2025-10-06 09:12:36,832 | INFO | HTTP Request: POST https://api.deepseek.com/v1/chat/completions \"HTTP/1.1 200 OK\"\n",
      "Analyzing articles:  41%|████      | 49/119 [02:36<03:59,  3.42s/article, completed=49, errors=0]2025-10-06 09:12:42,263 | INFO | HTTP Request: POST https://api.deepseek.com/v1/chat/completions \"HTTP/1.1 200 OK\"\n",
      "Analyzing articles:  42%|████▏     | 50/119 [02:37<03:08,  2.73s/article, completed=50, errors=0]2025-10-06 09:12:43,391 | INFO | HTTP Request: POST https://api.deepseek.com/v1/chat/completions \"HTTP/1.1 200 OK\"\n",
      "Analyzing articles:  43%|████▎     | 51/119 [02:39<02:52,  2.54s/article, completed=51, errors=0]2025-10-06 09:12:45,485 | INFO | HTTP Request: POST https://api.deepseek.com/v1/chat/completions \"HTTP/1.1 200 OK\"\n",
      "Analyzing articles:  44%|████▎     | 52/119 [02:45<03:59,  3.58s/article, completed=52, errors=0]2025-10-06 09:12:51,477 | INFO | HTTP Request: POST https://api.deepseek.com/v1/chat/completions \"HTTP/1.1 200 OK\"\n",
      "Analyzing articles:  45%|████▍     | 53/119 [02:46<02:57,  2.69s/article, completed=53, errors=0]2025-10-06 09:12:52,071 | INFO | HTTP Request: POST https://api.deepseek.com/v1/chat/completions \"HTTP/1.1 200 OK\"\n",
      "Analyzing articles:  45%|████▌     | 54/119 [02:50<03:24,  3.14s/article, completed=54, errors=0]2025-10-06 09:12:56,446 | INFO | HTTP Request: POST https://api.deepseek.com/v1/chat/completions \"HTTP/1.1 200 OK\"\n",
      "Analyzing articles:  47%|████▋     | 56/119 [02:54<02:33,  2.44s/article, completed=56, errors=0]2025-10-06 09:13:00,372 | INFO | HTTP Request: POST https://api.deepseek.com/v1/chat/completions \"HTTP/1.1 200 OK\"\n",
      "2025-10-06 09:13:00,491 | INFO | HTTP Request: POST https://api.deepseek.com/v1/chat/completions \"HTTP/1.1 200 OK\"\n",
      "Analyzing articles:  48%|████▊     | 57/119 [02:59<03:16,  3.17s/article, completed=57, errors=0]2025-10-06 09:13:05,394 | INFO | HTTP Request: POST https://api.deepseek.com/v1/chat/completions \"HTTP/1.1 200 OK\"\n",
      "Analyzing articles:  50%|████▉     | 59/119 [03:02<03:08,  3.14s/article, completed=59, errors=0]2025-10-06 09:13:08,478 | INFO | HTTP Request: POST https://api.deepseek.com/v1/chat/completions \"HTTP/1.1 200 OK\"\n",
      "2025-10-06 09:13:08,480 | INFO | HTTP Request: POST https://api.deepseek.com/v1/chat/completions \"HTTP/1.1 200 OK\"\n",
      "Analyzing articles:  50%|█████     | 60/119 [03:10<03:25,  3.49s/article, completed=60, errors=0]2025-10-06 09:13:16,251 | INFO | HTTP Request: POST https://api.deepseek.com/v1/chat/completions \"HTTP/1.1 200 OK\"\n",
      "Analyzing articles:  51%|█████▏    | 61/119 [03:10<02:34,  2.66s/article, completed=61, errors=0]2025-10-06 09:13:16,423 | INFO | HTTP Request: POST https://api.deepseek.com/v1/chat/completions \"HTTP/1.1 200 OK\"\n",
      "Analyzing articles:  52%|█████▏    | 62/119 [03:11<01:59,  2.09s/article, completed=62, errors=0]2025-10-06 09:13:16,869 | INFO | HTTP Request: POST https://api.deepseek.com/v1/chat/completions \"HTTP/1.1 200 OK\"\n",
      "Analyzing articles:  53%|█████▎    | 63/119 [03:19<03:32,  3.80s/article, completed=63, errors=0]2025-10-06 09:13:25,323 | INFO | HTTP Request: POST https://api.deepseek.com/v1/chat/completions \"HTTP/1.1 200 OK\"\n",
      "Analyzing articles:  54%|█████▍    | 64/119 [03:20<02:41,  2.94s/article, completed=64, errors=0]2025-10-06 09:13:25,981 | INFO | HTTP Request: POST https://api.deepseek.com/v1/chat/completions \"HTTP/1.1 200 OK\"\n",
      "Analyzing articles:  55%|█████▍    | 65/119 [03:20<01:58,  2.19s/article, completed=65, errors=0]2025-10-06 09:13:26,377 | INFO | HTTP Request: POST https://api.deepseek.com/v1/chat/completions \"HTTP/1.1 200 OK\"\n",
      "Analyzing articles:  55%|█████▌    | 66/119 [03:27<03:09,  3.58s/article, completed=66, errors=0]2025-10-06 09:13:33,312 | INFO | HTTP Request: POST https://api.deepseek.com/v1/chat/completions \"HTTP/1.1 200 OK\"\n",
      "Analyzing articles:  56%|█████▋    | 67/119 [03:28<02:27,  2.84s/article, completed=67, errors=0]2025-10-06 09:13:34,323 | INFO | HTTP Request: POST https://api.deepseek.com/v1/chat/completions \"HTTP/1.1 200 OK\"\n",
      "Analyzing articles:  57%|█████▋    | 68/119 [03:29<01:49,  2.14s/article, completed=68, errors=0]2025-10-06 09:13:34,831 | INFO | HTTP Request: POST https://api.deepseek.com/v1/chat/completions \"HTTP/1.1 200 OK\"\n",
      "Analyzing articles:  58%|█████▊    | 69/119 [03:36<03:05,  3.72s/article, completed=69, errors=0]2025-10-06 09:13:42,293 | INFO | HTTP Request: POST https://api.deepseek.com/v1/chat/completions \"HTTP/1.1 200 OK\"\n",
      "Analyzing articles:  59%|█████▉    | 70/119 [03:37<02:17,  2.80s/article, completed=70, errors=0]2025-10-06 09:13:42,881 | INFO | HTTP Request: POST https://api.deepseek.com/v1/chat/completions \"HTTP/1.1 200 OK\"\n",
      "Analyzing articles:  60%|█████▉    | 71/119 [03:38<01:50,  2.30s/article, completed=71, errors=0]2025-10-06 09:13:43,996 | INFO | HTTP Request: POST https://api.deepseek.com/v1/chat/completions \"HTTP/1.1 200 OK\"\n",
      "Analyzing articles:  61%|██████    | 72/119 [03:45<02:52,  3.67s/article, completed=72, errors=0]2025-10-06 09:13:50,887 | INFO | HTTP Request: POST https://api.deepseek.com/v1/chat/completions \"HTTP/1.1 200 OK\"\n",
      "Analyzing articles:  61%|██████▏   | 73/119 [03:45<02:07,  2.77s/article, completed=73, errors=0]2025-10-06 09:13:51,575 | INFO | HTTP Request: POST https://api.deepseek.com/v1/chat/completions \"HTTP/1.1 200 OK\"\n",
      "Analyzing articles:  62%|██████▏   | 74/119 [03:47<01:53,  2.53s/article, completed=74, errors=0]2025-10-06 09:13:53,545 | INFO | HTTP Request: POST https://api.deepseek.com/v1/chat/completions \"HTTP/1.1 200 OK\"\n",
      "Analyzing articles:  63%|██████▎   | 75/119 [03:54<02:42,  3.70s/article, completed=75, errors=0]2025-10-06 09:13:59,988 | INFO | HTTP Request: POST https://api.deepseek.com/v1/chat/completions \"HTTP/1.1 200 OK\"\n",
      "Analyzing articles:  64%|██████▍   | 76/119 [03:56<02:12,  3.08s/article, completed=76, errors=0]2025-10-06 09:14:01,611 | INFO | HTTP Request: POST https://api.deepseek.com/v1/chat/completions \"HTTP/1.1 200 OK\"\n",
      "Analyzing articles:  65%|██████▍   | 77/119 [03:56<01:34,  2.25s/article, completed=77, errors=0]2025-10-06 09:14:01,914 | INFO | HTTP Request: POST https://api.deepseek.com/v1/chat/completions \"HTTP/1.1 200 OK\"\n",
      "Analyzing articles:  66%|██████▌   | 78/119 [04:03<02:32,  3.72s/article, completed=78, errors=0]2025-10-06 09:14:09,060 | INFO | HTTP Request: POST https://api.deepseek.com/v1/chat/completions \"HTTP/1.1 200 OK\"\n",
      "Analyzing articles:  66%|██████▋   | 79/119 [04:05<02:04,  3.10s/article, completed=79, errors=0]2025-10-06 09:14:10,738 | INFO | HTTP Request: POST https://api.deepseek.com/v1/chat/completions \"HTTP/1.1 200 OK\"\n",
      "Analyzing articles:  67%|██████▋   | 80/119 [04:05<01:29,  2.30s/article, completed=80, errors=0]2025-10-06 09:14:11,134 | INFO | HTTP Request: POST https://api.deepseek.com/v1/chat/completions \"HTTP/1.1 200 OK\"\n",
      "Analyzing articles:  68%|██████▊   | 81/119 [04:13<02:33,  4.04s/article, completed=81, errors=0]2025-10-06 09:14:19,230 | INFO | HTTP Request: POST https://api.deepseek.com/v1/chat/completions \"HTTP/1.1 200 OK\"\n",
      "Analyzing articles:  69%|██████▉   | 82/119 [04:13<01:47,  2.90s/article, completed=82, errors=0]2025-10-06 09:14:19,472 | INFO | HTTP Request: POST https://api.deepseek.com/v1/chat/completions \"HTTP/1.1 200 OK\"\n",
      "Analyzing articles:  70%|██████▉   | 83/119 [04:14<01:21,  2.27s/article, completed=83, errors=0]2025-10-06 09:14:20,330 | INFO | HTTP Request: POST https://api.deepseek.com/v1/chat/completions \"HTTP/1.1 200 OK\"\n",
      "Analyzing articles:  71%|███████   | 84/119 [04:23<02:24,  4.13s/article, completed=84, errors=0]2025-10-06 09:14:28,738 | INFO | HTTP Request: POST https://api.deepseek.com/v1/chat/completions \"HTTP/1.1 200 OK\"\n",
      "Analyzing articles:  72%|███████▏  | 86/119 [04:24<01:45,  3.20s/article, completed=86, errors=0]2025-10-06 09:14:29,795 | INFO | HTTP Request: POST https://api.deepseek.com/v1/chat/completions \"HTTP/1.1 200 OK\"\n",
      "2025-10-06 09:14:29,880 | INFO | HTTP Request: POST https://api.deepseek.com/v1/chat/completions \"HTTP/1.1 200 OK\"\n",
      "Analyzing articles:  73%|███████▎  | 87/119 [04:31<01:51,  3.49s/article, completed=87, errors=0]2025-10-06 09:14:37,446 | INFO | HTTP Request: POST https://api.deepseek.com/v1/chat/completions \"HTTP/1.1 200 OK\"\n",
      "Analyzing articles:  74%|███████▍  | 88/119 [04:32<01:27,  2.83s/article, completed=88, errors=0]2025-10-06 09:14:38,268 | INFO | HTTP Request: POST https://api.deepseek.com/v1/chat/completions \"HTTP/1.1 200 OK\"\n",
      "Analyzing articles:  75%|███████▍  | 89/119 [04:34<01:17,  2.57s/article, completed=89, errors=0]2025-10-06 09:14:40,128 | INFO | HTTP Request: POST https://api.deepseek.com/v1/chat/completions \"HTTP/1.1 200 OK\"\n",
      "Analyzing articles:  76%|███████▌  | 90/119 [04:41<01:46,  3.66s/article, completed=90, errors=0]2025-10-06 09:14:46,672 | INFO | HTTP Request: POST https://api.deepseek.com/v1/chat/completions \"HTTP/1.1 200 OK\"\n",
      "Analyzing articles:  76%|███████▋  | 91/119 [04:41<01:19,  2.83s/article, completed=91, errors=0]2025-10-06 09:14:47,398 | INFO | HTTP Request: POST https://api.deepseek.com/v1/chat/completions \"HTTP/1.1 200 OK\"\n",
      "Analyzing articles:  77%|███████▋  | 92/119 [04:43<01:09,  2.58s/article, completed=92, errors=0]2025-10-06 09:14:49,338 | INFO | HTTP Request: POST https://api.deepseek.com/v1/chat/completions \"HTTP/1.1 200 OK\"\n",
      "Analyzing articles:  78%|███████▊  | 93/119 [04:49<01:34,  3.64s/article, completed=93, errors=0]2025-10-06 09:14:55,576 | INFO | HTTP Request: POST https://api.deepseek.com/v1/chat/completions \"HTTP/1.1 200 OK\"\n",
      "Analyzing articles:  79%|███████▉  | 94/119 [04:52<01:22,  3.29s/article, completed=94, errors=0]2025-10-06 09:14:58,032 | INFO | HTTP Request: POST https://api.deepseek.com/v1/chat/completions \"HTTP/1.1 200 OK\"\n",
      "Analyzing articles:  80%|███████▉  | 95/119 [04:52<00:58,  2.45s/article, completed=95, errors=0]2025-10-06 09:14:58,506 | INFO | HTTP Request: POST https://api.deepseek.com/v1/chat/completions \"HTTP/1.1 200 OK\"\n",
      "Analyzing articles:  81%|████████  | 96/119 [04:59<01:24,  3.69s/article, completed=96, errors=0]2025-10-06 09:15:05,095 | INFO | HTTP Request: POST https://api.deepseek.com/v1/chat/completions \"HTTP/1.1 200 OK\"\n",
      "Analyzing articles:  82%|████████▏ | 97/119 [05:02<01:15,  3.45s/article, completed=97, errors=0]2025-10-06 09:15:08,033 | INFO | HTTP Request: POST https://api.deepseek.com/v1/chat/completions \"HTTP/1.1 200 OK\"\n",
      "Analyzing articles:  82%|████████▏ | 98/119 [05:03<00:54,  2.60s/article, completed=98, errors=0]2025-10-06 09:15:08,587 | INFO | HTTP Request: POST https://api.deepseek.com/v1/chat/completions \"HTTP/1.1 200 OK\"\n",
      "Analyzing articles:  83%|████████▎ | 99/119 [05:08<01:07,  3.35s/article, completed=99, errors=0]2025-10-06 09:15:13,696 | INFO | HTTP Request: POST https://api.deepseek.com/v1/chat/completions \"HTTP/1.1 200 OK\"\n",
      "Analyzing articles:  84%|████████▍ | 100/119 [05:09<00:52,  2.75s/article, completed=100, errors=0]2025-10-06 09:15:15,043 | INFO | HTTP Request: POST https://api.deepseek.com/v1/chat/completions \"HTTP/1.1 200 OK\"\n",
      "Analyzing articles:  85%|████████▍ | 101/119 [05:13<00:54,  3.03s/article, completed=101, errors=0]2025-10-06 09:15:18,885 | INFO | HTTP Request: POST https://api.deepseek.com/v1/chat/completions \"HTTP/1.1 200 OK\"\n",
      "Analyzing articles:  86%|████████▌ | 102/119 [05:17<00:56,  3.35s/article, completed=102, errors=0]2025-10-06 09:15:22,828 | INFO | HTTP Request: POST https://api.deepseek.com/v1/chat/completions \"HTTP/1.1 200 OK\"\n",
      "Analyzing articles:  87%|████████▋ | 103/119 [05:18<00:43,  2.74s/article, completed=103, errors=0]2025-10-06 09:15:24,315 | INFO | HTTP Request: POST https://api.deepseek.com/v1/chat/completions \"HTTP/1.1 200 OK\"\n",
      "Analyzing articles:  87%|████████▋ | 104/119 [05:22<00:46,  3.09s/article, completed=104, errors=0]2025-10-06 09:15:28,100 | INFO | HTTP Request: POST https://api.deepseek.com/v1/chat/completions \"HTTP/1.1 200 OK\"\n",
      "Analyzing articles:  88%|████████▊ | 105/119 [05:26<00:47,  3.36s/article, completed=105, errors=0]2025-10-06 09:15:32,029 | INFO | HTTP Request: POST https://api.deepseek.com/v1/chat/completions \"HTTP/1.1 200 OK\"\n",
      "Analyzing articles:  89%|████████▉ | 106/119 [05:28<00:38,  3.00s/article, completed=106, errors=0]2025-10-06 09:15:34,171 | INFO | HTTP Request: POST https://api.deepseek.com/v1/chat/completions \"HTTP/1.1 200 OK\"\n",
      "Analyzing articles:  90%|████████▉ | 107/119 [05:30<00:31,  2.62s/article, completed=107, errors=0]2025-10-06 09:15:35,919 | INFO | HTTP Request: POST https://api.deepseek.com/v1/chat/completions \"HTTP/1.1 200 OK\"\n",
      "Analyzing articles:  91%|█████████ | 108/119 [05:34<00:35,  3.19s/article, completed=108, errors=0]2025-10-06 09:15:40,417 | INFO | HTTP Request: POST https://api.deepseek.com/v1/chat/completions \"HTTP/1.1 200 OK\"\n",
      "Analyzing articles:  92%|█████████▏| 109/119 [05:35<00:25,  2.54s/article, completed=109, errors=0]2025-10-06 09:15:41,514 | INFO | HTTP Request: POST https://api.deepseek.com/v1/chat/completions \"HTTP/1.1 200 OK\"\n",
      "Analyzing articles:  92%|█████████▏| 110/119 [05:38<00:24,  2.70s/article, completed=110, errors=0]2025-10-06 09:15:44,569 | INFO | HTTP Request: POST https://api.deepseek.com/v1/chat/completions \"HTTP/1.1 200 OK\"\n",
      "Analyzing articles:  93%|█████████▎| 111/119 [05:42<00:23,  2.99s/article, completed=111, errors=0]2025-10-06 09:15:48,200 | INFO | HTTP Request: POST https://api.deepseek.com/v1/chat/completions \"HTTP/1.1 200 OK\"\n",
      "Analyzing articles:  94%|█████████▍| 112/119 [05:42<00:14,  2.14s/article, completed=112, errors=0]2025-10-06 09:15:48,580 | INFO | HTTP Request: POST https://api.deepseek.com/v1/chat/completions \"HTTP/1.1 200 OK\"\n",
      "Analyzing articles:  95%|█████████▍| 113/119 [05:48<00:19,  3.21s/article, completed=113, errors=0]2025-10-06 09:15:54,079 | INFO | HTTP Request: POST https://api.deepseek.com/v1/chat/completions \"HTTP/1.1 200 OK\"\n",
      "Analyzing articles:  96%|█████████▌| 114/119 [05:50<00:14,  2.89s/article, completed=114, errors=0]2025-10-06 09:15:56,242 | INFO | HTTP Request: POST https://api.deepseek.com/v1/chat/completions \"HTTP/1.1 200 OK\"\n",
      "Analyzing articles:  97%|█████████▋| 115/119 [05:52<00:09,  2.45s/article, completed=115, errors=0]2025-10-06 09:15:57,620 | INFO | HTTP Request: POST https://api.deepseek.com/v1/chat/completions \"HTTP/1.1 200 OK\"\n",
      "Analyzing articles:  97%|█████████▋| 116/119 [05:57<00:09,  3.31s/article, completed=116, errors=0]2025-10-06 09:16:03,018 | INFO | HTTP Request: POST https://api.deepseek.com/v1/chat/completions \"HTTP/1.1 200 OK\"\n",
      "Analyzing articles: 100%|██████████| 119/119 [06:07<00:00,  3.08s/article, completed=119, errors=0]\n",
      "2025-10-06 09:16:12,676 | INFO | HTTP Request: POST https://api.deepseek.com/v1/chat/completions \"HTTP/1.1 200 OK\"\n"
     ]
    },
    {
     "name": "stdout",
     "output_type": "stream",
     "text": [
      "Analysis complete: 119 articles in 367.1s\n",
      "Success: 119, Errors: 0\n",
      "AI Provider: DEEPSEEK\n",
      "\n",
      "Sample results (showing 3):\n",
      "1. Nasib Anggaran MBG Jelang Akhir 2025, Akankah Dipotong Purba...\n",
      "   Resume: Menteri Keuangan Purbaya mengancam memotong anggaran program Makan Ber...\n",
      "   Dampak: Negatif\n",
      "2. Kontroversi Dana 200 Triliun: Kebijakan Purbaya Turunkan Bun...\n",
      "   Resume: Menteri Keuangan Purbaya memindahkan dana kas negara Rp 200 triliun da...\n",
      "   Dampak: Positif\n",
      "3. Purbaya Ingin Bangun Kawasan Industri Hasil Tembakau, Bisa L...\n",
      "   Resume: Menteri Keuangan Purbaya Yudhi Sadewa berencana membangun kawasan indu...\n",
      "   Dampak: Positif\n",
      "\n",
      "File saved: 00_hasil_analisis/berita_penting/analisis_berita_penting_deepseek_20251006_091612.csv\n",
      "🔍 Debug path info:\n",
      "   Current CWD: /Users/yusufpradana/Library/CloudStorage/OneDrive-Personal/Pekerjaan BMN/05. 2025/98_monitoring_berita/monitoring-berita\n",
      "   File path: /Users/yusufpradana/Library/CloudStorage/OneDrive-Personal/Pekerjaan BMN/05. 2025/98_monitoring_berita/monitoring-berita/00_hasil_analisis/berita_penting/analisis_berita_penting_deepseek_20251006_091612.csv\n",
      "   Relative path: 00_hasil_analisis/berita_penting/analisis_berita_penting_deepseek_20251006_091612.csv\n",
      "📦 Config backup saved: config.json.bak\n",
      "📝 Config updated:\n",
      "   berita_penting_output: 00_hasil_analisis/berita_penting/analisis_berita_penting_deepseek_20251006_091612.csv\n",
      "   berita_penting_output_dir: 00_hasil_analisis/berita_penting\n",
      "✅ Config.json berhasil diupdate dengan path berita penting\n",
      "=== GENERATOR DAFTAR BERITA & KONTEN ===\n",
      "📊 Data tersedia: 119 berita\n",
      "Memproses 119 berita yang berhasil dianalisis...\n",
      "✅ Laporan disimpan di 00_laporan_cetak/daftar_berita_20251006_091612.txt\n",
      "📄 Total baris: 363\n",
      "\n",
      "📋 Preview laporan:\n",
      "------------------------------------------------------------\n",
      "Daftar Berita & Konten\n",
      "Senin, 6 Oktober 2025\n",
      "Periode pantauan tanggal 5-6 September 2025 (pukul 14.00 s.d. 06.00 WIB)\n",
      "\n",
      "Media Online\n",
      "===========\n",
      "\n",
      "🟢 Purbaya Ingin Bangun Kawasan Industri Hasil Tembakau, Bisa Lawan Rokok Ilegal? - Bisnis.com\n",
      "https://ekonomi.bisnis.com/read/20251005/259/1917519/purbaya-ingin-bangun-kawasan-industri-hasil-tembakau-bisa-lawan-rokok-ilegal\n",
      "\n",
      "🟢 Menkeu Purbaya Ingatkan Himbara Tak Gunakan Dana Rp200 Triliun untuk Beli Dolar - Jurnal Patroli News\n",
      "https://jurnalpatrolinews.co.id/nasional/purbaya-peringatkan-himbara-dana-rp200-triliun-jangan-untuk-beli-dolar/\n",
      "...\n",
      "[351 baris lainnya]\n",
      "------------------------------------------------------------\n",
      "\n",
      "🎯 Selesai! File tersedia di folder: 00_laporan_cetak/\n",
      "✅ Using DEEPSEEK for headline generation\n",
      "=== GENERATOR NEWS UPDATE ===\n",
      "📊 Data tersedia: 119 berita\n",
      "\n",
      "📝 Gabungan resume (33919 karakter):\n",
      "Preview: Menteri Keuangan Purbaya mengancam memotong anggaran program Makan Bergizi Gratis (MBG) Rp 71 triliun karena serapan baru mencapai Rp 13 triliun per September 2025. Namun, Luhut Binsar Pandjaitan meno...\n"
     ]
    },
    {
     "name": "stderr",
     "output_type": "stream",
     "text": [
      "2025-10-06 09:16:24,108 | INFO | HTTP Request: POST https://api.deepseek.com/v1/chat/completions \"HTTP/1.1 200 OK\"\n"
     ]
    },
    {
     "name": "stdout",
     "output_type": "stream",
     "text": [
      "\n",
      "✅ News Update disimpan di: 00_laporan_cetak/news_update_general_20251006_091623.txt\n",
      "📄 Total baris: 67\n",
      "\n",
      "📋 Preview News Update:\n",
      "------------------------------------------------------------\n",
      "News Update\n",
      "Kebijakan Cukai Tembakau\n",
      "Jakarta, Senin, 6 Oktober 2025 (Pukul 09.00 WIB)\n",
      "\n",
      "Pemberitaan terkait kebijakan cukai tembakau hari ini tercatat terdapat 119 berita (21 positif, 90 netral, 8 negatif) di media online.\n",
      "\n",
      "Sorotan Media Online\n",
      "• Menkeu Purbaya ancam potong anggaran Program Makan Bergizi Gratis Rp 71 T karena serapan lambat hingga September 2025.\n",
      "• Luhut tolak pemotongan anggaran MBG, nilai program serap 380 ribu tenaga kerja dan gerakkan ekonomi bawah.\n",
      "• Purbaya pindahkan Rp 200 T dana kas negara dari BI ke bank BUMN untuk tekan suku bunga dan dorong kredit.\n",
      "• Kebijakan alih dana negara ke bank BUMN turunkan bunga deposito, memicu protas dari kalangan investor.\n",
      "• Purbaya rencanakan kawasan industri tembakau dan program amnesti untuk legalkan produsen rokok ilegal.\n",
      "• Pemerintah pelajari formula cukai baru untuk produsen rokok kecil, targetkan penerimaan naik 8,6% pada 2026.\n",
      "• Purbaya tegaskan tidak akan naikkan cukai rokok 2026 untuk hindari PHK dan jaga lapangan kerja.\n",
      "• Sidak Menkeu ke BNI untuk pastikan dana pemerintah Rp 200 T tidak digunakan untuk membeli valas.\n",
      "...\n",
      "[52 baris lainnya]\n",
      "------------------------------------------------------------\n",
      "\n",
      "🎯 Selesai! File tersedia di: 00_laporan_cetak/\n",
      "✅ Using DEEPSEEK for topic analysis\n",
      "=== GENERATOR LAPORAN ANALISIS MEDIA (FIXED VERSION) ===\n",
      "📊 Data tersedia: 119 berita\n",
      "📋 Topic keywords dari config: ['rokok ilegal', 'makan bergizi gratis', 'tax amnesty', 'sidak BNI', 'lainnya']\n",
      "🏷️  Berita dikelompokkan dalam 3 topik:\n",
      "   - makan bergizi gratis: 51 berita\n",
      "   - rokok ilegal: 10 berita\n",
      "   - lainnya: 2 berita\n"
     ]
    },
    {
     "name": "stderr",
     "output_type": "stream",
     "text": [
      "2025-10-06 09:16:37,316 | INFO | HTTP Request: POST https://api.deepseek.com/v1/chat/completions \"HTTP/1.1 200 OK\"\n",
      "2025-10-06 09:16:49,371 | INFO | HTTP Request: POST https://api.deepseek.com/v1/chat/completions \"HTTP/1.1 200 OK\"\n"
     ]
    },
    {
     "name": "stdout",
     "output_type": "stream",
     "text": [
      "\n",
      "✅ Laporan Analisis Media disimpan di: 00_laporan_cetak/laporan_analisis_media_20251006_091659.txt\n",
      "📄 Total baris: 235\n",
      "\n",
      "📋 Preview Laporan Analisis Media:\n",
      "----------------------------------------------------------------------\n",
      "===== Page 1 =====\n",
      "\n",
      "**Laporan Analisis Media Online dan Media Sosial**\n",
      "Senin, 6 Oktober 2025\n",
      "\n",
      "**EXECUTIVE SUMMARY**\n",
      "==================================================\n",
      "Periode pemantauan media online menunjukkan 119 berita penting yang berhasil dianalisis.\n",
      "Dari jumlah tersebut, 63 berita sesuai dengan topik yang dipantau: makan bergizi gratis, rokok ilegal, lainnya.\n",
      "Fokus pemerintah terutama pada transparansi dan pengawasan sektor keuangan.\n",
      "Pernyataan dan kebijakan penting dari pejabat terkait terus dipantau secara intensif.\n",
      "\n",
      "**MEDIA ONLINE**\n",
      "\n",
      "**Topik Berita:** makan bergizi gratis, rokok ilegal, lainnya\n",
      "**Tonasi Berita:** netral\n",
      "\n",
      "**Pesan Kunci dan Analisis:**\n",
      "\n",
      "**ISU KEMENKEU**\n",
      "...\n",
      "[215 baris lainnya]\n",
      "----------------------------------------------------------------------\n",
      "\n",
      "🎯 Selesai! File tersedia di: 00_laporan_cetak/\n",
      "=== DEMO FUNGSI HELPER CONFIG PATH ===\n",
      "✅ Path berita penting ditemukan: 00_hasil_analisis/berita_penting/analisis_berita_penting_deepseek_20251006_091612.csv\n",
      "📊 File berhasil dibaca: 119 baris\n",
      "📋 Kolom tersedia: ['judul_berita', 'source_domain', 'url_berita', 'tanggal_berita_norm', 'kategori_isu']...\n",
      "✅ Berita berhasil dianalisis: 119\n",
      "\n",
      "📋 Info config berita penting:\n",
      "   Relative path: 00_hasil_analisis/berita_penting/analisis_berita_penting_deepseek_20251006_091612.csv\n",
      "   Absolute path: /Users/yusufpradana/Library/CloudStorage/OneDrive-Personal/Pekerjaan BMN/05. 2025/98_monitoring_berita/monitoring-berita/00_hasil_analisis/berita_penting/analisis_berita_penting_deepseek_20251006_091612.csv\n",
      "   Output dir: 00_hasil_analisis/berita_penting\n",
      "   Last updated: 2025-10-06 09:16:12\n",
      "\n",
      "💡 Keunggulan sistem path fleksibel:\n",
      "   1. Otomatis update setiap kali SEL 1 dijalankan\n",
      "   2. Path relatif tetap bekerja jika folder dipindah\n",
      "   3. Fallback ke absolute path jika diperlukan\n",
      "   4. Backup config otomatis sebelum update\n",
      "   5. Compatible dengan berbagai sistem operasi\n"
     ]
    }
   ],
   "source": [
    "file_loc = os.path.join(cwd, '05_analisis_berita_penting copy.ipynb')\n",
    "\n",
    "%run \"$file_loc\""
   ]
  },
  {
   "cell_type": "markdown",
   "metadata": {},
   "source": [
    "# 3. Visualisasi Data\n",
    "\n",
    "Setelah seluruh proses analisis selesai, program akan membuat visualisasi yang relevan dengan data yang tersedia.\n",
    "Visualisasi tersebut antara lain: \n",
    "* pie chart terkait sentimen berita\n",
    "* line chart terkait monitoring sentimen berita dari hari ke hari\n",
    "* stacked bar chart untuk melihat proporsi per sentimen dari hari ke hari\n",
    "* bar chart untuk melihat jumlah pemberitaan per media online. \n",
    "* heatmap sentimen per media per tanggal untuk melihat proporsi pemberitaan positif dari setiap portal media online.\n",
    "* world cloud untuk melihat kata populer dalam pemberitaan selama periode monitoring."
   ]
  },
  {
   "cell_type": "code",
   "execution_count": 21,
   "metadata": {},
   "outputs": [
    {
     "name": "stdout",
     "output_type": "stream",
     "text": [
      "✅ Konfigurasi berhasil dimuat dari config.json\n",
      "   • Path berita penting: /Users/yusufpradana/Library/CloudStorage/OneDrive-Personal/Pekerjaan BMN/05. 2025/98_monitoring_berita/monitoring-berita/00_hasil_analisis/berita_penting/analisis_berita_penting_deepseek_20251006_091612.csv\n",
      "   ✅ File berita penting tersedia\n",
      "✅ Data berita penting berhasil dimuat!\n",
      "\n",
      "✅ Data siap untuk divisualisasikan!\n",
      "🔄 Memulai preprocessing data untuk visualisasi...\n",
      "📅 Konversi format tanggal...\n",
      "   ✅ Konversi tanggal berhasil\n",
      "🧹 Cleaning teks untuk word cloud...\n",
      "   ✅ Text cleaning berhasil\n",
      "📊 Grouping data untuk analisis...\n",
      "   ✅ Grouping data berhasil\n",
      "📈 Perhitungan statistik...\n",
      "   ✅ Statistik berhasil dihitung\n",
      "✅ Preprocessing selesai!\n",
      "\n",
      "📋 Ringkasan Data Processed:\n",
      "   • Total artikel: 119\n",
      "   • Rentang tanggal: 2 hari\n",
      "   • Rata-rata artikel/hari: 59.5\n",
      "   • Jumlah media: 85\n",
      "   • Kata unik untuk word cloud: 208\n",
      "\n",
      "🎯 Data siap untuk visualisasi!\n",
      "   📊 Sentiment distribution: 3 kategori\n",
      "   📅 Timeline data: 6 data points\n",
      "   🏷️ Topic data: 3 topik\n",
      "   🌐 Media sources: 10 media\n",
      "✅ Fungsi-fungsi visualisasi telah didefinisikan!\n",
      "🚀 Memulai pembuatan semua visualisasi...\n",
      "============================================================\n",
      "📊 Dataset Overview:\n",
      "   • Periode: 2025-10-05 - 2025-10-06\n",
      "   • Total berita: 119 artikel\n",
      "   • Rata-rata per hari: 59.5 artikel\n",
      "   • Jumlah media: 85 media\n",
      "============================================================\n",
      "🎨 Membuat dan menampilkan visualisasi...\n",
      "\n",
      "📊 1. Pie Chart - Distribusi Sentimen\n"
     ]
    },
    {
     "data": {
      "application/vnd.plotly.v1+json": {
       "config": {
        "plotlyServerURL": "https://plot.ly"
       },
       "data": [
        {
         "hole": 0.4,
         "hovertemplate": "<b>%{label}</b><br>Jumlah: %{value}<br>Persentase: %{percent}<extra></extra>",
         "labels": [
          "netral",
          "positif",
          "negatif"
         ],
         "marker": {
          "colors": [
           "#808080",
           "#2E8B57",
           "#DC143C"
          ]
         },
         "textinfo": "label+percent+value",
         "textposition": "outside",
         "type": "pie",
         "values": [
          90,
          21,
          8
         ]
        }
       ],
       "layout": {
        "font": {
         "size": 12
        },
        "height": 500,
        "paper_bgcolor": "white",
        "plot_bgcolor": "white",
        "showlegend": true,
        "template": {
         "data": {
          "bar": [
           {
            "error_x": {
             "color": "#2a3f5f"
            },
            "error_y": {
             "color": "#2a3f5f"
            },
            "marker": {
             "line": {
              "color": "#E5ECF6",
              "width": 0.5
             },
             "pattern": {
              "fillmode": "overlay",
              "size": 10,
              "solidity": 0.2
             }
            },
            "type": "bar"
           }
          ],
          "barpolar": [
           {
            "marker": {
             "line": {
              "color": "#E5ECF6",
              "width": 0.5
             },
             "pattern": {
              "fillmode": "overlay",
              "size": 10,
              "solidity": 0.2
             }
            },
            "type": "barpolar"
           }
          ],
          "carpet": [
           {
            "aaxis": {
             "endlinecolor": "#2a3f5f",
             "gridcolor": "white",
             "linecolor": "white",
             "minorgridcolor": "white",
             "startlinecolor": "#2a3f5f"
            },
            "baxis": {
             "endlinecolor": "#2a3f5f",
             "gridcolor": "white",
             "linecolor": "white",
             "minorgridcolor": "white",
             "startlinecolor": "#2a3f5f"
            },
            "type": "carpet"
           }
          ],
          "choropleth": [
           {
            "colorbar": {
             "outlinewidth": 0,
             "ticks": ""
            },
            "type": "choropleth"
           }
          ],
          "contour": [
           {
            "colorbar": {
             "outlinewidth": 0,
             "ticks": ""
            },
            "colorscale": [
             [
              0,
              "#0d0887"
             ],
             [
              0.1111111111111111,
              "#46039f"
             ],
             [
              0.2222222222222222,
              "#7201a8"
             ],
             [
              0.3333333333333333,
              "#9c179e"
             ],
             [
              0.4444444444444444,
              "#bd3786"
             ],
             [
              0.5555555555555556,
              "#d8576b"
             ],
             [
              0.6666666666666666,
              "#ed7953"
             ],
             [
              0.7777777777777778,
              "#fb9f3a"
             ],
             [
              0.8888888888888888,
              "#fdca26"
             ],
             [
              1,
              "#f0f921"
             ]
            ],
            "type": "contour"
           }
          ],
          "contourcarpet": [
           {
            "colorbar": {
             "outlinewidth": 0,
             "ticks": ""
            },
            "type": "contourcarpet"
           }
          ],
          "heatmap": [
           {
            "colorbar": {
             "outlinewidth": 0,
             "ticks": ""
            },
            "colorscale": [
             [
              0,
              "#0d0887"
             ],
             [
              0.1111111111111111,
              "#46039f"
             ],
             [
              0.2222222222222222,
              "#7201a8"
             ],
             [
              0.3333333333333333,
              "#9c179e"
             ],
             [
              0.4444444444444444,
              "#bd3786"
             ],
             [
              0.5555555555555556,
              "#d8576b"
             ],
             [
              0.6666666666666666,
              "#ed7953"
             ],
             [
              0.7777777777777778,
              "#fb9f3a"
             ],
             [
              0.8888888888888888,
              "#fdca26"
             ],
             [
              1,
              "#f0f921"
             ]
            ],
            "type": "heatmap"
           }
          ],
          "heatmapgl": [
           {
            "colorbar": {
             "outlinewidth": 0,
             "ticks": ""
            },
            "colorscale": [
             [
              0,
              "#0d0887"
             ],
             [
              0.1111111111111111,
              "#46039f"
             ],
             [
              0.2222222222222222,
              "#7201a8"
             ],
             [
              0.3333333333333333,
              "#9c179e"
             ],
             [
              0.4444444444444444,
              "#bd3786"
             ],
             [
              0.5555555555555556,
              "#d8576b"
             ],
             [
              0.6666666666666666,
              "#ed7953"
             ],
             [
              0.7777777777777778,
              "#fb9f3a"
             ],
             [
              0.8888888888888888,
              "#fdca26"
             ],
             [
              1,
              "#f0f921"
             ]
            ],
            "type": "heatmapgl"
           }
          ],
          "histogram": [
           {
            "marker": {
             "pattern": {
              "fillmode": "overlay",
              "size": 10,
              "solidity": 0.2
             }
            },
            "type": "histogram"
           }
          ],
          "histogram2d": [
           {
            "colorbar": {
             "outlinewidth": 0,
             "ticks": ""
            },
            "colorscale": [
             [
              0,
              "#0d0887"
             ],
             [
              0.1111111111111111,
              "#46039f"
             ],
             [
              0.2222222222222222,
              "#7201a8"
             ],
             [
              0.3333333333333333,
              "#9c179e"
             ],
             [
              0.4444444444444444,
              "#bd3786"
             ],
             [
              0.5555555555555556,
              "#d8576b"
             ],
             [
              0.6666666666666666,
              "#ed7953"
             ],
             [
              0.7777777777777778,
              "#fb9f3a"
             ],
             [
              0.8888888888888888,
              "#fdca26"
             ],
             [
              1,
              "#f0f921"
             ]
            ],
            "type": "histogram2d"
           }
          ],
          "histogram2dcontour": [
           {
            "colorbar": {
             "outlinewidth": 0,
             "ticks": ""
            },
            "colorscale": [
             [
              0,
              "#0d0887"
             ],
             [
              0.1111111111111111,
              "#46039f"
             ],
             [
              0.2222222222222222,
              "#7201a8"
             ],
             [
              0.3333333333333333,
              "#9c179e"
             ],
             [
              0.4444444444444444,
              "#bd3786"
             ],
             [
              0.5555555555555556,
              "#d8576b"
             ],
             [
              0.6666666666666666,
              "#ed7953"
             ],
             [
              0.7777777777777778,
              "#fb9f3a"
             ],
             [
              0.8888888888888888,
              "#fdca26"
             ],
             [
              1,
              "#f0f921"
             ]
            ],
            "type": "histogram2dcontour"
           }
          ],
          "mesh3d": [
           {
            "colorbar": {
             "outlinewidth": 0,
             "ticks": ""
            },
            "type": "mesh3d"
           }
          ],
          "parcoords": [
           {
            "line": {
             "colorbar": {
              "outlinewidth": 0,
              "ticks": ""
             }
            },
            "type": "parcoords"
           }
          ],
          "pie": [
           {
            "automargin": true,
            "type": "pie"
           }
          ],
          "scatter": [
           {
            "fillpattern": {
             "fillmode": "overlay",
             "size": 10,
             "solidity": 0.2
            },
            "type": "scatter"
           }
          ],
          "scatter3d": [
           {
            "line": {
             "colorbar": {
              "outlinewidth": 0,
              "ticks": ""
             }
            },
            "marker": {
             "colorbar": {
              "outlinewidth": 0,
              "ticks": ""
             }
            },
            "type": "scatter3d"
           }
          ],
          "scattercarpet": [
           {
            "marker": {
             "colorbar": {
              "outlinewidth": 0,
              "ticks": ""
             }
            },
            "type": "scattercarpet"
           }
          ],
          "scattergeo": [
           {
            "marker": {
             "colorbar": {
              "outlinewidth": 0,
              "ticks": ""
             }
            },
            "type": "scattergeo"
           }
          ],
          "scattergl": [
           {
            "marker": {
             "colorbar": {
              "outlinewidth": 0,
              "ticks": ""
             }
            },
            "type": "scattergl"
           }
          ],
          "scattermapbox": [
           {
            "marker": {
             "colorbar": {
              "outlinewidth": 0,
              "ticks": ""
             }
            },
            "type": "scattermapbox"
           }
          ],
          "scatterpolar": [
           {
            "marker": {
             "colorbar": {
              "outlinewidth": 0,
              "ticks": ""
             }
            },
            "type": "scatterpolar"
           }
          ],
          "scatterpolargl": [
           {
            "marker": {
             "colorbar": {
              "outlinewidth": 0,
              "ticks": ""
             }
            },
            "type": "scatterpolargl"
           }
          ],
          "scatterternary": [
           {
            "marker": {
             "colorbar": {
              "outlinewidth": 0,
              "ticks": ""
             }
            },
            "type": "scatterternary"
           }
          ],
          "surface": [
           {
            "colorbar": {
             "outlinewidth": 0,
             "ticks": ""
            },
            "colorscale": [
             [
              0,
              "#0d0887"
             ],
             [
              0.1111111111111111,
              "#46039f"
             ],
             [
              0.2222222222222222,
              "#7201a8"
             ],
             [
              0.3333333333333333,
              "#9c179e"
             ],
             [
              0.4444444444444444,
              "#bd3786"
             ],
             [
              0.5555555555555556,
              "#d8576b"
             ],
             [
              0.6666666666666666,
              "#ed7953"
             ],
             [
              0.7777777777777778,
              "#fb9f3a"
             ],
             [
              0.8888888888888888,
              "#fdca26"
             ],
             [
              1,
              "#f0f921"
             ]
            ],
            "type": "surface"
           }
          ],
          "table": [
           {
            "cells": {
             "fill": {
              "color": "#EBF0F8"
             },
             "line": {
              "color": "white"
             }
            },
            "header": {
             "fill": {
              "color": "#C8D4E3"
             },
             "line": {
              "color": "white"
             }
            },
            "type": "table"
           }
          ]
         },
         "layout": {
          "annotationdefaults": {
           "arrowcolor": "#2a3f5f",
           "arrowhead": 0,
           "arrowwidth": 1
          },
          "autotypenumbers": "strict",
          "coloraxis": {
           "colorbar": {
            "outlinewidth": 0,
            "ticks": ""
           }
          },
          "colorscale": {
           "diverging": [
            [
             0,
             "#8e0152"
            ],
            [
             0.1,
             "#c51b7d"
            ],
            [
             0.2,
             "#de77ae"
            ],
            [
             0.3,
             "#f1b6da"
            ],
            [
             0.4,
             "#fde0ef"
            ],
            [
             0.5,
             "#f7f7f7"
            ],
            [
             0.6,
             "#e6f5d0"
            ],
            [
             0.7,
             "#b8e186"
            ],
            [
             0.8,
             "#7fbc41"
            ],
            [
             0.9,
             "#4d9221"
            ],
            [
             1,
             "#276419"
            ]
           ],
           "sequential": [
            [
             0,
             "#0d0887"
            ],
            [
             0.1111111111111111,
             "#46039f"
            ],
            [
             0.2222222222222222,
             "#7201a8"
            ],
            [
             0.3333333333333333,
             "#9c179e"
            ],
            [
             0.4444444444444444,
             "#bd3786"
            ],
            [
             0.5555555555555556,
             "#d8576b"
            ],
            [
             0.6666666666666666,
             "#ed7953"
            ],
            [
             0.7777777777777778,
             "#fb9f3a"
            ],
            [
             0.8888888888888888,
             "#fdca26"
            ],
            [
             1,
             "#f0f921"
            ]
           ],
           "sequentialminus": [
            [
             0,
             "#0d0887"
            ],
            [
             0.1111111111111111,
             "#46039f"
            ],
            [
             0.2222222222222222,
             "#7201a8"
            ],
            [
             0.3333333333333333,
             "#9c179e"
            ],
            [
             0.4444444444444444,
             "#bd3786"
            ],
            [
             0.5555555555555556,
             "#d8576b"
            ],
            [
             0.6666666666666666,
             "#ed7953"
            ],
            [
             0.7777777777777778,
             "#fb9f3a"
            ],
            [
             0.8888888888888888,
             "#fdca26"
            ],
            [
             1,
             "#f0f921"
            ]
           ]
          },
          "colorway": [
           "#636efa",
           "#EF553B",
           "#00cc96",
           "#ab63fa",
           "#FFA15A",
           "#19d3f3",
           "#FF6692",
           "#B6E880",
           "#FF97FF",
           "#FECB52"
          ],
          "font": {
           "color": "#2a3f5f"
          },
          "geo": {
           "bgcolor": "white",
           "lakecolor": "white",
           "landcolor": "#E5ECF6",
           "showlakes": true,
           "showland": true,
           "subunitcolor": "white"
          },
          "hoverlabel": {
           "align": "left"
          },
          "hovermode": "closest",
          "mapbox": {
           "style": "light"
          },
          "paper_bgcolor": "white",
          "plot_bgcolor": "#E5ECF6",
          "polar": {
           "angularaxis": {
            "gridcolor": "white",
            "linecolor": "white",
            "ticks": ""
           },
           "bgcolor": "#E5ECF6",
           "radialaxis": {
            "gridcolor": "white",
            "linecolor": "white",
            "ticks": ""
           }
          },
          "scene": {
           "xaxis": {
            "backgroundcolor": "#E5ECF6",
            "gridcolor": "white",
            "gridwidth": 2,
            "linecolor": "white",
            "showbackground": true,
            "ticks": "",
            "zerolinecolor": "white"
           },
           "yaxis": {
            "backgroundcolor": "#E5ECF6",
            "gridcolor": "white",
            "gridwidth": 2,
            "linecolor": "white",
            "showbackground": true,
            "ticks": "",
            "zerolinecolor": "white"
           },
           "zaxis": {
            "backgroundcolor": "#E5ECF6",
            "gridcolor": "white",
            "gridwidth": 2,
            "linecolor": "white",
            "showbackground": true,
            "ticks": "",
            "zerolinecolor": "white"
           }
          },
          "shapedefaults": {
           "line": {
            "color": "#2a3f5f"
           }
          },
          "ternary": {
           "aaxis": {
            "gridcolor": "white",
            "linecolor": "white",
            "ticks": ""
           },
           "baxis": {
            "gridcolor": "white",
            "linecolor": "white",
            "ticks": ""
           },
           "bgcolor": "#E5ECF6",
           "caxis": {
            "gridcolor": "white",
            "linecolor": "white",
            "ticks": ""
           }
          },
          "title": {
           "x": 0.05
          },
          "xaxis": {
           "automargin": true,
           "gridcolor": "white",
           "linecolor": "white",
           "ticks": "",
           "title": {
            "standoff": 15
           },
           "zerolinecolor": "white",
           "zerolinewidth": 2
          },
          "yaxis": {
           "automargin": true,
           "gridcolor": "white",
           "linecolor": "white",
           "ticks": "",
           "title": {
            "standoff": 15
           },
           "zerolinecolor": "white",
           "zerolinewidth": 2
          }
         }
        },
        "width": 700
       }
      }
     },
     "metadata": {},
     "output_type": "display_data"
    },
    {
     "name": "stdout",
     "output_type": "stream",
     "text": [
      "\n",
      "📈 2. Line Chart - Timeline Sentimen Harian\n"
     ]
    },
    {
     "data": {
      "application/vnd.plotly.v1+json": {
       "config": {
        "plotlyServerURL": "https://plot.ly"
       },
       "data": [
        {
         "hovertemplate": "<b>Positif</b><br>Tanggal: %{x}<br>Jumlah: %{y}<extra></extra>",
         "line": {
          "color": "#2E8B57",
          "width": 3
         },
         "marker": {
          "size": 8
         },
         "mode": "lines+markers+text",
         "name": "Positif",
         "text": [
          18,
          3
         ],
         "textfont": {
          "color": "#2E8B57",
          "size": 10
         },
         "textposition": "top center",
         "type": "scatter",
         "x": [
          "2025-10-05",
          "2025-10-06"
         ],
         "y": [
          18,
          3
         ]
        },
        {
         "hovertemplate": "<b>Negatif</b><br>Tanggal: %{x}<br>Jumlah: %{y}<extra></extra>",
         "line": {
          "color": "#DC143C",
          "width": 3
         },
         "marker": {
          "size": 8
         },
         "mode": "lines+markers+text",
         "name": "Negatif",
         "text": [
          6,
          2
         ],
         "textfont": {
          "color": "#DC143C",
          "size": 10
         },
         "textposition": "top center",
         "type": "scatter",
         "x": [
          "2025-10-05",
          "2025-10-06"
         ],
         "y": [
          6,
          2
         ]
        },
        {
         "hovertemplate": "<b>Netral</b><br>Tanggal: %{x}<br>Jumlah: %{y}<extra></extra>",
         "line": {
          "color": "#808080",
          "width": 3
         },
         "marker": {
          "size": 8
         },
         "mode": "lines+markers+text",
         "name": "Netral",
         "text": [
          68,
          22
         ],
         "textfont": {
          "color": "#808080",
          "size": 10
         },
         "textposition": "top center",
         "type": "scatter",
         "x": [
          "2025-10-05",
          "2025-10-06"
         ],
         "y": [
          68,
          22
         ]
        }
       ],
       "layout": {
        "font": {
         "size": 12
        },
        "height": 500,
        "hovermode": "x unified",
        "paper_bgcolor": "white",
        "plot_bgcolor": "white",
        "template": {
         "data": {
          "bar": [
           {
            "error_x": {
             "color": "#2a3f5f"
            },
            "error_y": {
             "color": "#2a3f5f"
            },
            "marker": {
             "line": {
              "color": "#E5ECF6",
              "width": 0.5
             },
             "pattern": {
              "fillmode": "overlay",
              "size": 10,
              "solidity": 0.2
             }
            },
            "type": "bar"
           }
          ],
          "barpolar": [
           {
            "marker": {
             "line": {
              "color": "#E5ECF6",
              "width": 0.5
             },
             "pattern": {
              "fillmode": "overlay",
              "size": 10,
              "solidity": 0.2
             }
            },
            "type": "barpolar"
           }
          ],
          "carpet": [
           {
            "aaxis": {
             "endlinecolor": "#2a3f5f",
             "gridcolor": "white",
             "linecolor": "white",
             "minorgridcolor": "white",
             "startlinecolor": "#2a3f5f"
            },
            "baxis": {
             "endlinecolor": "#2a3f5f",
             "gridcolor": "white",
             "linecolor": "white",
             "minorgridcolor": "white",
             "startlinecolor": "#2a3f5f"
            },
            "type": "carpet"
           }
          ],
          "choropleth": [
           {
            "colorbar": {
             "outlinewidth": 0,
             "ticks": ""
            },
            "type": "choropleth"
           }
          ],
          "contour": [
           {
            "colorbar": {
             "outlinewidth": 0,
             "ticks": ""
            },
            "colorscale": [
             [
              0,
              "#0d0887"
             ],
             [
              0.1111111111111111,
              "#46039f"
             ],
             [
              0.2222222222222222,
              "#7201a8"
             ],
             [
              0.3333333333333333,
              "#9c179e"
             ],
             [
              0.4444444444444444,
              "#bd3786"
             ],
             [
              0.5555555555555556,
              "#d8576b"
             ],
             [
              0.6666666666666666,
              "#ed7953"
             ],
             [
              0.7777777777777778,
              "#fb9f3a"
             ],
             [
              0.8888888888888888,
              "#fdca26"
             ],
             [
              1,
              "#f0f921"
             ]
            ],
            "type": "contour"
           }
          ],
          "contourcarpet": [
           {
            "colorbar": {
             "outlinewidth": 0,
             "ticks": ""
            },
            "type": "contourcarpet"
           }
          ],
          "heatmap": [
           {
            "colorbar": {
             "outlinewidth": 0,
             "ticks": ""
            },
            "colorscale": [
             [
              0,
              "#0d0887"
             ],
             [
              0.1111111111111111,
              "#46039f"
             ],
             [
              0.2222222222222222,
              "#7201a8"
             ],
             [
              0.3333333333333333,
              "#9c179e"
             ],
             [
              0.4444444444444444,
              "#bd3786"
             ],
             [
              0.5555555555555556,
              "#d8576b"
             ],
             [
              0.6666666666666666,
              "#ed7953"
             ],
             [
              0.7777777777777778,
              "#fb9f3a"
             ],
             [
              0.8888888888888888,
              "#fdca26"
             ],
             [
              1,
              "#f0f921"
             ]
            ],
            "type": "heatmap"
           }
          ],
          "heatmapgl": [
           {
            "colorbar": {
             "outlinewidth": 0,
             "ticks": ""
            },
            "colorscale": [
             [
              0,
              "#0d0887"
             ],
             [
              0.1111111111111111,
              "#46039f"
             ],
             [
              0.2222222222222222,
              "#7201a8"
             ],
             [
              0.3333333333333333,
              "#9c179e"
             ],
             [
              0.4444444444444444,
              "#bd3786"
             ],
             [
              0.5555555555555556,
              "#d8576b"
             ],
             [
              0.6666666666666666,
              "#ed7953"
             ],
             [
              0.7777777777777778,
              "#fb9f3a"
             ],
             [
              0.8888888888888888,
              "#fdca26"
             ],
             [
              1,
              "#f0f921"
             ]
            ],
            "type": "heatmapgl"
           }
          ],
          "histogram": [
           {
            "marker": {
             "pattern": {
              "fillmode": "overlay",
              "size": 10,
              "solidity": 0.2
             }
            },
            "type": "histogram"
           }
          ],
          "histogram2d": [
           {
            "colorbar": {
             "outlinewidth": 0,
             "ticks": ""
            },
            "colorscale": [
             [
              0,
              "#0d0887"
             ],
             [
              0.1111111111111111,
              "#46039f"
             ],
             [
              0.2222222222222222,
              "#7201a8"
             ],
             [
              0.3333333333333333,
              "#9c179e"
             ],
             [
              0.4444444444444444,
              "#bd3786"
             ],
             [
              0.5555555555555556,
              "#d8576b"
             ],
             [
              0.6666666666666666,
              "#ed7953"
             ],
             [
              0.7777777777777778,
              "#fb9f3a"
             ],
             [
              0.8888888888888888,
              "#fdca26"
             ],
             [
              1,
              "#f0f921"
             ]
            ],
            "type": "histogram2d"
           }
          ],
          "histogram2dcontour": [
           {
            "colorbar": {
             "outlinewidth": 0,
             "ticks": ""
            },
            "colorscale": [
             [
              0,
              "#0d0887"
             ],
             [
              0.1111111111111111,
              "#46039f"
             ],
             [
              0.2222222222222222,
              "#7201a8"
             ],
             [
              0.3333333333333333,
              "#9c179e"
             ],
             [
              0.4444444444444444,
              "#bd3786"
             ],
             [
              0.5555555555555556,
              "#d8576b"
             ],
             [
              0.6666666666666666,
              "#ed7953"
             ],
             [
              0.7777777777777778,
              "#fb9f3a"
             ],
             [
              0.8888888888888888,
              "#fdca26"
             ],
             [
              1,
              "#f0f921"
             ]
            ],
            "type": "histogram2dcontour"
           }
          ],
          "mesh3d": [
           {
            "colorbar": {
             "outlinewidth": 0,
             "ticks": ""
            },
            "type": "mesh3d"
           }
          ],
          "parcoords": [
           {
            "line": {
             "colorbar": {
              "outlinewidth": 0,
              "ticks": ""
             }
            },
            "type": "parcoords"
           }
          ],
          "pie": [
           {
            "automargin": true,
            "type": "pie"
           }
          ],
          "scatter": [
           {
            "fillpattern": {
             "fillmode": "overlay",
             "size": 10,
             "solidity": 0.2
            },
            "type": "scatter"
           }
          ],
          "scatter3d": [
           {
            "line": {
             "colorbar": {
              "outlinewidth": 0,
              "ticks": ""
             }
            },
            "marker": {
             "colorbar": {
              "outlinewidth": 0,
              "ticks": ""
             }
            },
            "type": "scatter3d"
           }
          ],
          "scattercarpet": [
           {
            "marker": {
             "colorbar": {
              "outlinewidth": 0,
              "ticks": ""
             }
            },
            "type": "scattercarpet"
           }
          ],
          "scattergeo": [
           {
            "marker": {
             "colorbar": {
              "outlinewidth": 0,
              "ticks": ""
             }
            },
            "type": "scattergeo"
           }
          ],
          "scattergl": [
           {
            "marker": {
             "colorbar": {
              "outlinewidth": 0,
              "ticks": ""
             }
            },
            "type": "scattergl"
           }
          ],
          "scattermapbox": [
           {
            "marker": {
             "colorbar": {
              "outlinewidth": 0,
              "ticks": ""
             }
            },
            "type": "scattermapbox"
           }
          ],
          "scatterpolar": [
           {
            "marker": {
             "colorbar": {
              "outlinewidth": 0,
              "ticks": ""
             }
            },
            "type": "scatterpolar"
           }
          ],
          "scatterpolargl": [
           {
            "marker": {
             "colorbar": {
              "outlinewidth": 0,
              "ticks": ""
             }
            },
            "type": "scatterpolargl"
           }
          ],
          "scatterternary": [
           {
            "marker": {
             "colorbar": {
              "outlinewidth": 0,
              "ticks": ""
             }
            },
            "type": "scatterternary"
           }
          ],
          "surface": [
           {
            "colorbar": {
             "outlinewidth": 0,
             "ticks": ""
            },
            "colorscale": [
             [
              0,
              "#0d0887"
             ],
             [
              0.1111111111111111,
              "#46039f"
             ],
             [
              0.2222222222222222,
              "#7201a8"
             ],
             [
              0.3333333333333333,
              "#9c179e"
             ],
             [
              0.4444444444444444,
              "#bd3786"
             ],
             [
              0.5555555555555556,
              "#d8576b"
             ],
             [
              0.6666666666666666,
              "#ed7953"
             ],
             [
              0.7777777777777778,
              "#fb9f3a"
             ],
             [
              0.8888888888888888,
              "#fdca26"
             ],
             [
              1,
              "#f0f921"
             ]
            ],
            "type": "surface"
           }
          ],
          "table": [
           {
            "cells": {
             "fill": {
              "color": "#EBF0F8"
             },
             "line": {
              "color": "white"
             }
            },
            "header": {
             "fill": {
              "color": "#C8D4E3"
             },
             "line": {
              "color": "white"
             }
            },
            "type": "table"
           }
          ]
         },
         "layout": {
          "annotationdefaults": {
           "arrowcolor": "#2a3f5f",
           "arrowhead": 0,
           "arrowwidth": 1
          },
          "autotypenumbers": "strict",
          "coloraxis": {
           "colorbar": {
            "outlinewidth": 0,
            "ticks": ""
           }
          },
          "colorscale": {
           "diverging": [
            [
             0,
             "#8e0152"
            ],
            [
             0.1,
             "#c51b7d"
            ],
            [
             0.2,
             "#de77ae"
            ],
            [
             0.3,
             "#f1b6da"
            ],
            [
             0.4,
             "#fde0ef"
            ],
            [
             0.5,
             "#f7f7f7"
            ],
            [
             0.6,
             "#e6f5d0"
            ],
            [
             0.7,
             "#b8e186"
            ],
            [
             0.8,
             "#7fbc41"
            ],
            [
             0.9,
             "#4d9221"
            ],
            [
             1,
             "#276419"
            ]
           ],
           "sequential": [
            [
             0,
             "#0d0887"
            ],
            [
             0.1111111111111111,
             "#46039f"
            ],
            [
             0.2222222222222222,
             "#7201a8"
            ],
            [
             0.3333333333333333,
             "#9c179e"
            ],
            [
             0.4444444444444444,
             "#bd3786"
            ],
            [
             0.5555555555555556,
             "#d8576b"
            ],
            [
             0.6666666666666666,
             "#ed7953"
            ],
            [
             0.7777777777777778,
             "#fb9f3a"
            ],
            [
             0.8888888888888888,
             "#fdca26"
            ],
            [
             1,
             "#f0f921"
            ]
           ],
           "sequentialminus": [
            [
             0,
             "#0d0887"
            ],
            [
             0.1111111111111111,
             "#46039f"
            ],
            [
             0.2222222222222222,
             "#7201a8"
            ],
            [
             0.3333333333333333,
             "#9c179e"
            ],
            [
             0.4444444444444444,
             "#bd3786"
            ],
            [
             0.5555555555555556,
             "#d8576b"
            ],
            [
             0.6666666666666666,
             "#ed7953"
            ],
            [
             0.7777777777777778,
             "#fb9f3a"
            ],
            [
             0.8888888888888888,
             "#fdca26"
            ],
            [
             1,
             "#f0f921"
            ]
           ]
          },
          "colorway": [
           "#636efa",
           "#EF553B",
           "#00cc96",
           "#ab63fa",
           "#FFA15A",
           "#19d3f3",
           "#FF6692",
           "#B6E880",
           "#FF97FF",
           "#FECB52"
          ],
          "font": {
           "color": "#2a3f5f"
          },
          "geo": {
           "bgcolor": "white",
           "lakecolor": "white",
           "landcolor": "#E5ECF6",
           "showlakes": true,
           "showland": true,
           "subunitcolor": "white"
          },
          "hoverlabel": {
           "align": "left"
          },
          "hovermode": "closest",
          "mapbox": {
           "style": "light"
          },
          "paper_bgcolor": "white",
          "plot_bgcolor": "#E5ECF6",
          "polar": {
           "angularaxis": {
            "gridcolor": "white",
            "linecolor": "white",
            "ticks": ""
           },
           "bgcolor": "#E5ECF6",
           "radialaxis": {
            "gridcolor": "white",
            "linecolor": "white",
            "ticks": ""
           }
          },
          "scene": {
           "xaxis": {
            "backgroundcolor": "#E5ECF6",
            "gridcolor": "white",
            "gridwidth": 2,
            "linecolor": "white",
            "showbackground": true,
            "ticks": "",
            "zerolinecolor": "white"
           },
           "yaxis": {
            "backgroundcolor": "#E5ECF6",
            "gridcolor": "white",
            "gridwidth": 2,
            "linecolor": "white",
            "showbackground": true,
            "ticks": "",
            "zerolinecolor": "white"
           },
           "zaxis": {
            "backgroundcolor": "#E5ECF6",
            "gridcolor": "white",
            "gridwidth": 2,
            "linecolor": "white",
            "showbackground": true,
            "ticks": "",
            "zerolinecolor": "white"
           }
          },
          "shapedefaults": {
           "line": {
            "color": "#2a3f5f"
           }
          },
          "ternary": {
           "aaxis": {
            "gridcolor": "white",
            "linecolor": "white",
            "ticks": ""
           },
           "baxis": {
            "gridcolor": "white",
            "linecolor": "white",
            "ticks": ""
           },
           "bgcolor": "#E5ECF6",
           "caxis": {
            "gridcolor": "white",
            "linecolor": "white",
            "ticks": ""
           }
          },
          "title": {
           "x": 0.05
          },
          "xaxis": {
           "automargin": true,
           "gridcolor": "white",
           "linecolor": "white",
           "ticks": "",
           "title": {
            "standoff": 15
           },
           "zerolinecolor": "white",
           "zerolinewidth": 2
          },
          "yaxis": {
           "automargin": true,
           "gridcolor": "white",
           "linecolor": "white",
           "ticks": "",
           "title": {
            "standoff": 15
           },
           "zerolinecolor": "white",
           "zerolinewidth": 2
          }
         }
        },
        "width": 700,
        "xaxis": {
         "title": {
          "text": "Tanggal"
         }
        },
        "yaxis": {
         "title": {
          "text": "Jumlah Berita"
         }
        }
       }
      }
     },
     "metadata": {},
     "output_type": "display_data"
    },
    {
     "name": "stdout",
     "output_type": "stream",
     "text": [
      "\n",
      "📋 3. Stacked Bar Chart - Ringkasan Harian\n"
     ]
    },
    {
     "data": {
      "application/vnd.plotly.v1+json": {
       "config": {
        "plotlyServerURL": "https://plot.ly"
       },
       "data": [
        {
         "hovertemplate": "<b>Positif</b><br>Tanggal: %{x}<br>Jumlah: %{y}<extra></extra>",
         "marker": {
          "color": "#2E8B57"
         },
         "name": "Positif",
         "text": [
          "18",
          "3"
         ],
         "textfont": {
          "color": "white",
          "size": 10
         },
         "textposition": "inside",
         "type": "bar",
         "x": [
          "2025-10-05",
          "2025-10-06"
         ],
         "y": [
          18,
          3
         ]
        },
        {
         "hovertemplate": "<b>Negatif</b><br>Tanggal: %{x}<br>Jumlah: %{y}<extra></extra>",
         "marker": {
          "color": "#DC143C"
         },
         "name": "Negatif",
         "text": [
          "6",
          "2"
         ],
         "textfont": {
          "color": "white",
          "size": 10
         },
         "textposition": "inside",
         "type": "bar",
         "x": [
          "2025-10-05",
          "2025-10-06"
         ],
         "y": [
          6,
          2
         ]
        },
        {
         "hovertemplate": "<b>Netral</b><br>Tanggal: %{x}<br>Jumlah: %{y}<extra></extra>",
         "marker": {
          "color": "#808080"
         },
         "name": "Netral",
         "text": [
          "68",
          "22"
         ],
         "textfont": {
          "color": "white",
          "size": 10
         },
         "textposition": "inside",
         "type": "bar",
         "x": [
          "2025-10-05",
          "2025-10-06"
         ],
         "y": [
          68,
          22
         ]
        }
       ],
       "layout": {
        "barmode": "stack",
        "font": {
         "size": 12
        },
        "height": 500,
        "paper_bgcolor": "white",
        "plot_bgcolor": "white",
        "template": {
         "data": {
          "bar": [
           {
            "error_x": {
             "color": "#2a3f5f"
            },
            "error_y": {
             "color": "#2a3f5f"
            },
            "marker": {
             "line": {
              "color": "#E5ECF6",
              "width": 0.5
             },
             "pattern": {
              "fillmode": "overlay",
              "size": 10,
              "solidity": 0.2
             }
            },
            "type": "bar"
           }
          ],
          "barpolar": [
           {
            "marker": {
             "line": {
              "color": "#E5ECF6",
              "width": 0.5
             },
             "pattern": {
              "fillmode": "overlay",
              "size": 10,
              "solidity": 0.2
             }
            },
            "type": "barpolar"
           }
          ],
          "carpet": [
           {
            "aaxis": {
             "endlinecolor": "#2a3f5f",
             "gridcolor": "white",
             "linecolor": "white",
             "minorgridcolor": "white",
             "startlinecolor": "#2a3f5f"
            },
            "baxis": {
             "endlinecolor": "#2a3f5f",
             "gridcolor": "white",
             "linecolor": "white",
             "minorgridcolor": "white",
             "startlinecolor": "#2a3f5f"
            },
            "type": "carpet"
           }
          ],
          "choropleth": [
           {
            "colorbar": {
             "outlinewidth": 0,
             "ticks": ""
            },
            "type": "choropleth"
           }
          ],
          "contour": [
           {
            "colorbar": {
             "outlinewidth": 0,
             "ticks": ""
            },
            "colorscale": [
             [
              0,
              "#0d0887"
             ],
             [
              0.1111111111111111,
              "#46039f"
             ],
             [
              0.2222222222222222,
              "#7201a8"
             ],
             [
              0.3333333333333333,
              "#9c179e"
             ],
             [
              0.4444444444444444,
              "#bd3786"
             ],
             [
              0.5555555555555556,
              "#d8576b"
             ],
             [
              0.6666666666666666,
              "#ed7953"
             ],
             [
              0.7777777777777778,
              "#fb9f3a"
             ],
             [
              0.8888888888888888,
              "#fdca26"
             ],
             [
              1,
              "#f0f921"
             ]
            ],
            "type": "contour"
           }
          ],
          "contourcarpet": [
           {
            "colorbar": {
             "outlinewidth": 0,
             "ticks": ""
            },
            "type": "contourcarpet"
           }
          ],
          "heatmap": [
           {
            "colorbar": {
             "outlinewidth": 0,
             "ticks": ""
            },
            "colorscale": [
             [
              0,
              "#0d0887"
             ],
             [
              0.1111111111111111,
              "#46039f"
             ],
             [
              0.2222222222222222,
              "#7201a8"
             ],
             [
              0.3333333333333333,
              "#9c179e"
             ],
             [
              0.4444444444444444,
              "#bd3786"
             ],
             [
              0.5555555555555556,
              "#d8576b"
             ],
             [
              0.6666666666666666,
              "#ed7953"
             ],
             [
              0.7777777777777778,
              "#fb9f3a"
             ],
             [
              0.8888888888888888,
              "#fdca26"
             ],
             [
              1,
              "#f0f921"
             ]
            ],
            "type": "heatmap"
           }
          ],
          "heatmapgl": [
           {
            "colorbar": {
             "outlinewidth": 0,
             "ticks": ""
            },
            "colorscale": [
             [
              0,
              "#0d0887"
             ],
             [
              0.1111111111111111,
              "#46039f"
             ],
             [
              0.2222222222222222,
              "#7201a8"
             ],
             [
              0.3333333333333333,
              "#9c179e"
             ],
             [
              0.4444444444444444,
              "#bd3786"
             ],
             [
              0.5555555555555556,
              "#d8576b"
             ],
             [
              0.6666666666666666,
              "#ed7953"
             ],
             [
              0.7777777777777778,
              "#fb9f3a"
             ],
             [
              0.8888888888888888,
              "#fdca26"
             ],
             [
              1,
              "#f0f921"
             ]
            ],
            "type": "heatmapgl"
           }
          ],
          "histogram": [
           {
            "marker": {
             "pattern": {
              "fillmode": "overlay",
              "size": 10,
              "solidity": 0.2
             }
            },
            "type": "histogram"
           }
          ],
          "histogram2d": [
           {
            "colorbar": {
             "outlinewidth": 0,
             "ticks": ""
            },
            "colorscale": [
             [
              0,
              "#0d0887"
             ],
             [
              0.1111111111111111,
              "#46039f"
             ],
             [
              0.2222222222222222,
              "#7201a8"
             ],
             [
              0.3333333333333333,
              "#9c179e"
             ],
             [
              0.4444444444444444,
              "#bd3786"
             ],
             [
              0.5555555555555556,
              "#d8576b"
             ],
             [
              0.6666666666666666,
              "#ed7953"
             ],
             [
              0.7777777777777778,
              "#fb9f3a"
             ],
             [
              0.8888888888888888,
              "#fdca26"
             ],
             [
              1,
              "#f0f921"
             ]
            ],
            "type": "histogram2d"
           }
          ],
          "histogram2dcontour": [
           {
            "colorbar": {
             "outlinewidth": 0,
             "ticks": ""
            },
            "colorscale": [
             [
              0,
              "#0d0887"
             ],
             [
              0.1111111111111111,
              "#46039f"
             ],
             [
              0.2222222222222222,
              "#7201a8"
             ],
             [
              0.3333333333333333,
              "#9c179e"
             ],
             [
              0.4444444444444444,
              "#bd3786"
             ],
             [
              0.5555555555555556,
              "#d8576b"
             ],
             [
              0.6666666666666666,
              "#ed7953"
             ],
             [
              0.7777777777777778,
              "#fb9f3a"
             ],
             [
              0.8888888888888888,
              "#fdca26"
             ],
             [
              1,
              "#f0f921"
             ]
            ],
            "type": "histogram2dcontour"
           }
          ],
          "mesh3d": [
           {
            "colorbar": {
             "outlinewidth": 0,
             "ticks": ""
            },
            "type": "mesh3d"
           }
          ],
          "parcoords": [
           {
            "line": {
             "colorbar": {
              "outlinewidth": 0,
              "ticks": ""
             }
            },
            "type": "parcoords"
           }
          ],
          "pie": [
           {
            "automargin": true,
            "type": "pie"
           }
          ],
          "scatter": [
           {
            "fillpattern": {
             "fillmode": "overlay",
             "size": 10,
             "solidity": 0.2
            },
            "type": "scatter"
           }
          ],
          "scatter3d": [
           {
            "line": {
             "colorbar": {
              "outlinewidth": 0,
              "ticks": ""
             }
            },
            "marker": {
             "colorbar": {
              "outlinewidth": 0,
              "ticks": ""
             }
            },
            "type": "scatter3d"
           }
          ],
          "scattercarpet": [
           {
            "marker": {
             "colorbar": {
              "outlinewidth": 0,
              "ticks": ""
             }
            },
            "type": "scattercarpet"
           }
          ],
          "scattergeo": [
           {
            "marker": {
             "colorbar": {
              "outlinewidth": 0,
              "ticks": ""
             }
            },
            "type": "scattergeo"
           }
          ],
          "scattergl": [
           {
            "marker": {
             "colorbar": {
              "outlinewidth": 0,
              "ticks": ""
             }
            },
            "type": "scattergl"
           }
          ],
          "scattermapbox": [
           {
            "marker": {
             "colorbar": {
              "outlinewidth": 0,
              "ticks": ""
             }
            },
            "type": "scattermapbox"
           }
          ],
          "scatterpolar": [
           {
            "marker": {
             "colorbar": {
              "outlinewidth": 0,
              "ticks": ""
             }
            },
            "type": "scatterpolar"
           }
          ],
          "scatterpolargl": [
           {
            "marker": {
             "colorbar": {
              "outlinewidth": 0,
              "ticks": ""
             }
            },
            "type": "scatterpolargl"
           }
          ],
          "scatterternary": [
           {
            "marker": {
             "colorbar": {
              "outlinewidth": 0,
              "ticks": ""
             }
            },
            "type": "scatterternary"
           }
          ],
          "surface": [
           {
            "colorbar": {
             "outlinewidth": 0,
             "ticks": ""
            },
            "colorscale": [
             [
              0,
              "#0d0887"
             ],
             [
              0.1111111111111111,
              "#46039f"
             ],
             [
              0.2222222222222222,
              "#7201a8"
             ],
             [
              0.3333333333333333,
              "#9c179e"
             ],
             [
              0.4444444444444444,
              "#bd3786"
             ],
             [
              0.5555555555555556,
              "#d8576b"
             ],
             [
              0.6666666666666666,
              "#ed7953"
             ],
             [
              0.7777777777777778,
              "#fb9f3a"
             ],
             [
              0.8888888888888888,
              "#fdca26"
             ],
             [
              1,
              "#f0f921"
             ]
            ],
            "type": "surface"
           }
          ],
          "table": [
           {
            "cells": {
             "fill": {
              "color": "#EBF0F8"
             },
             "line": {
              "color": "white"
             }
            },
            "header": {
             "fill": {
              "color": "#C8D4E3"
             },
             "line": {
              "color": "white"
             }
            },
            "type": "table"
           }
          ]
         },
         "layout": {
          "annotationdefaults": {
           "arrowcolor": "#2a3f5f",
           "arrowhead": 0,
           "arrowwidth": 1
          },
          "autotypenumbers": "strict",
          "coloraxis": {
           "colorbar": {
            "outlinewidth": 0,
            "ticks": ""
           }
          },
          "colorscale": {
           "diverging": [
            [
             0,
             "#8e0152"
            ],
            [
             0.1,
             "#c51b7d"
            ],
            [
             0.2,
             "#de77ae"
            ],
            [
             0.3,
             "#f1b6da"
            ],
            [
             0.4,
             "#fde0ef"
            ],
            [
             0.5,
             "#f7f7f7"
            ],
            [
             0.6,
             "#e6f5d0"
            ],
            [
             0.7,
             "#b8e186"
            ],
            [
             0.8,
             "#7fbc41"
            ],
            [
             0.9,
             "#4d9221"
            ],
            [
             1,
             "#276419"
            ]
           ],
           "sequential": [
            [
             0,
             "#0d0887"
            ],
            [
             0.1111111111111111,
             "#46039f"
            ],
            [
             0.2222222222222222,
             "#7201a8"
            ],
            [
             0.3333333333333333,
             "#9c179e"
            ],
            [
             0.4444444444444444,
             "#bd3786"
            ],
            [
             0.5555555555555556,
             "#d8576b"
            ],
            [
             0.6666666666666666,
             "#ed7953"
            ],
            [
             0.7777777777777778,
             "#fb9f3a"
            ],
            [
             0.8888888888888888,
             "#fdca26"
            ],
            [
             1,
             "#f0f921"
            ]
           ],
           "sequentialminus": [
            [
             0,
             "#0d0887"
            ],
            [
             0.1111111111111111,
             "#46039f"
            ],
            [
             0.2222222222222222,
             "#7201a8"
            ],
            [
             0.3333333333333333,
             "#9c179e"
            ],
            [
             0.4444444444444444,
             "#bd3786"
            ],
            [
             0.5555555555555556,
             "#d8576b"
            ],
            [
             0.6666666666666666,
             "#ed7953"
            ],
            [
             0.7777777777777778,
             "#fb9f3a"
            ],
            [
             0.8888888888888888,
             "#fdca26"
            ],
            [
             1,
             "#f0f921"
            ]
           ]
          },
          "colorway": [
           "#636efa",
           "#EF553B",
           "#00cc96",
           "#ab63fa",
           "#FFA15A",
           "#19d3f3",
           "#FF6692",
           "#B6E880",
           "#FF97FF",
           "#FECB52"
          ],
          "font": {
           "color": "#2a3f5f"
          },
          "geo": {
           "bgcolor": "white",
           "lakecolor": "white",
           "landcolor": "#E5ECF6",
           "showlakes": true,
           "showland": true,
           "subunitcolor": "white"
          },
          "hoverlabel": {
           "align": "left"
          },
          "hovermode": "closest",
          "mapbox": {
           "style": "light"
          },
          "paper_bgcolor": "white",
          "plot_bgcolor": "#E5ECF6",
          "polar": {
           "angularaxis": {
            "gridcolor": "white",
            "linecolor": "white",
            "ticks": ""
           },
           "bgcolor": "#E5ECF6",
           "radialaxis": {
            "gridcolor": "white",
            "linecolor": "white",
            "ticks": ""
           }
          },
          "scene": {
           "xaxis": {
            "backgroundcolor": "#E5ECF6",
            "gridcolor": "white",
            "gridwidth": 2,
            "linecolor": "white",
            "showbackground": true,
            "ticks": "",
            "zerolinecolor": "white"
           },
           "yaxis": {
            "backgroundcolor": "#E5ECF6",
            "gridcolor": "white",
            "gridwidth": 2,
            "linecolor": "white",
            "showbackground": true,
            "ticks": "",
            "zerolinecolor": "white"
           },
           "zaxis": {
            "backgroundcolor": "#E5ECF6",
            "gridcolor": "white",
            "gridwidth": 2,
            "linecolor": "white",
            "showbackground": true,
            "ticks": "",
            "zerolinecolor": "white"
           }
          },
          "shapedefaults": {
           "line": {
            "color": "#2a3f5f"
           }
          },
          "ternary": {
           "aaxis": {
            "gridcolor": "white",
            "linecolor": "white",
            "ticks": ""
           },
           "baxis": {
            "gridcolor": "white",
            "linecolor": "white",
            "ticks": ""
           },
           "bgcolor": "#E5ECF6",
           "caxis": {
            "gridcolor": "white",
            "linecolor": "white",
            "ticks": ""
           }
          },
          "title": {
           "x": 0.05
          },
          "xaxis": {
           "automargin": true,
           "gridcolor": "white",
           "linecolor": "white",
           "ticks": "",
           "title": {
            "standoff": 15
           },
           "zerolinecolor": "white",
           "zerolinewidth": 2
          },
          "yaxis": {
           "automargin": true,
           "gridcolor": "white",
           "linecolor": "white",
           "ticks": "",
           "title": {
            "standoff": 15
           },
           "zerolinecolor": "white",
           "zerolinewidth": 2
          }
         }
        },
        "width": 700,
        "xaxis": {
         "title": {
          "text": "Tanggal"
         }
        },
        "yaxis": {
         "title": {
          "text": "Jumlah Berita"
         }
        }
       }
      }
     },
     "metadata": {},
     "output_type": "display_data"
    },
    {
     "name": "stdout",
     "output_type": "stream",
     "text": [
      "\n",
      "🌐 4. Bar Chart - Top Media Sources\n"
     ]
    },
    {
     "data": {
      "application/vnd.plotly.v1+json": {
       "config": {
        "plotlyServerURL": "https://plot.ly"
       },
       "data": [
        {
         "customdata": [
          4.201680672268908,
          2.5210084033613445,
          2.5210084033613445,
          2.5210084033613445,
          2.5210084033613445,
          2.5210084033613445,
          2.5210084033613445,
          2.5210084033613445,
          2.5210084033613445,
          1.680672268907563
         ],
         "hovertemplate": "<b>%{y}</b><br>Jumlah berita: %{x}<br>Persentase: %{customdata:.1f}%<extra></extra>",
         "marker": {
          "color": [
           "#1E3A8A",
           "#1E3A8A",
           "#1E3A8A",
           "#87CEEB",
           "#87CEEB",
           "#87CEEB",
           "#87CEEB",
           "#87CEEB",
           "#87CEEB",
           "#87CEEB"
          ]
         },
         "orientation": "h",
         "text": [
          5,
          3,
          3,
          3,
          3,
          3,
          3,
          3,
          3,
          2
         ],
         "textposition": "outside",
         "type": "bar",
         "x": [
          5,
          3,
          3,
          3,
          3,
          3,
          3,
          3,
          3,
          2
         ],
         "y": [
          "news.ambisius.com",
          "www.kompasiana.com",
          "id.headtopics.com",
          "medan.tribunnews.com",
          "blitarkawentar.jawapos.com",
          "www.msn.com",
          "jurnalpatrolinews.co.id",
          "economy.okezone.com",
          "www.sijogja.com",
          "banten.tribunnews.com"
         ]
        }
       ],
       "layout": {
        "font": {
         "size": 12
        },
        "height": 500,
        "paper_bgcolor": "white",
        "plot_bgcolor": "white",
        "template": {
         "data": {
          "bar": [
           {
            "error_x": {
             "color": "#2a3f5f"
            },
            "error_y": {
             "color": "#2a3f5f"
            },
            "marker": {
             "line": {
              "color": "#E5ECF6",
              "width": 0.5
             },
             "pattern": {
              "fillmode": "overlay",
              "size": 10,
              "solidity": 0.2
             }
            },
            "type": "bar"
           }
          ],
          "barpolar": [
           {
            "marker": {
             "line": {
              "color": "#E5ECF6",
              "width": 0.5
             },
             "pattern": {
              "fillmode": "overlay",
              "size": 10,
              "solidity": 0.2
             }
            },
            "type": "barpolar"
           }
          ],
          "carpet": [
           {
            "aaxis": {
             "endlinecolor": "#2a3f5f",
             "gridcolor": "white",
             "linecolor": "white",
             "minorgridcolor": "white",
             "startlinecolor": "#2a3f5f"
            },
            "baxis": {
             "endlinecolor": "#2a3f5f",
             "gridcolor": "white",
             "linecolor": "white",
             "minorgridcolor": "white",
             "startlinecolor": "#2a3f5f"
            },
            "type": "carpet"
           }
          ],
          "choropleth": [
           {
            "colorbar": {
             "outlinewidth": 0,
             "ticks": ""
            },
            "type": "choropleth"
           }
          ],
          "contour": [
           {
            "colorbar": {
             "outlinewidth": 0,
             "ticks": ""
            },
            "colorscale": [
             [
              0,
              "#0d0887"
             ],
             [
              0.1111111111111111,
              "#46039f"
             ],
             [
              0.2222222222222222,
              "#7201a8"
             ],
             [
              0.3333333333333333,
              "#9c179e"
             ],
             [
              0.4444444444444444,
              "#bd3786"
             ],
             [
              0.5555555555555556,
              "#d8576b"
             ],
             [
              0.6666666666666666,
              "#ed7953"
             ],
             [
              0.7777777777777778,
              "#fb9f3a"
             ],
             [
              0.8888888888888888,
              "#fdca26"
             ],
             [
              1,
              "#f0f921"
             ]
            ],
            "type": "contour"
           }
          ],
          "contourcarpet": [
           {
            "colorbar": {
             "outlinewidth": 0,
             "ticks": ""
            },
            "type": "contourcarpet"
           }
          ],
          "heatmap": [
           {
            "colorbar": {
             "outlinewidth": 0,
             "ticks": ""
            },
            "colorscale": [
             [
              0,
              "#0d0887"
             ],
             [
              0.1111111111111111,
              "#46039f"
             ],
             [
              0.2222222222222222,
              "#7201a8"
             ],
             [
              0.3333333333333333,
              "#9c179e"
             ],
             [
              0.4444444444444444,
              "#bd3786"
             ],
             [
              0.5555555555555556,
              "#d8576b"
             ],
             [
              0.6666666666666666,
              "#ed7953"
             ],
             [
              0.7777777777777778,
              "#fb9f3a"
             ],
             [
              0.8888888888888888,
              "#fdca26"
             ],
             [
              1,
              "#f0f921"
             ]
            ],
            "type": "heatmap"
           }
          ],
          "heatmapgl": [
           {
            "colorbar": {
             "outlinewidth": 0,
             "ticks": ""
            },
            "colorscale": [
             [
              0,
              "#0d0887"
             ],
             [
              0.1111111111111111,
              "#46039f"
             ],
             [
              0.2222222222222222,
              "#7201a8"
             ],
             [
              0.3333333333333333,
              "#9c179e"
             ],
             [
              0.4444444444444444,
              "#bd3786"
             ],
             [
              0.5555555555555556,
              "#d8576b"
             ],
             [
              0.6666666666666666,
              "#ed7953"
             ],
             [
              0.7777777777777778,
              "#fb9f3a"
             ],
             [
              0.8888888888888888,
              "#fdca26"
             ],
             [
              1,
              "#f0f921"
             ]
            ],
            "type": "heatmapgl"
           }
          ],
          "histogram": [
           {
            "marker": {
             "pattern": {
              "fillmode": "overlay",
              "size": 10,
              "solidity": 0.2
             }
            },
            "type": "histogram"
           }
          ],
          "histogram2d": [
           {
            "colorbar": {
             "outlinewidth": 0,
             "ticks": ""
            },
            "colorscale": [
             [
              0,
              "#0d0887"
             ],
             [
              0.1111111111111111,
              "#46039f"
             ],
             [
              0.2222222222222222,
              "#7201a8"
             ],
             [
              0.3333333333333333,
              "#9c179e"
             ],
             [
              0.4444444444444444,
              "#bd3786"
             ],
             [
              0.5555555555555556,
              "#d8576b"
             ],
             [
              0.6666666666666666,
              "#ed7953"
             ],
             [
              0.7777777777777778,
              "#fb9f3a"
             ],
             [
              0.8888888888888888,
              "#fdca26"
             ],
             [
              1,
              "#f0f921"
             ]
            ],
            "type": "histogram2d"
           }
          ],
          "histogram2dcontour": [
           {
            "colorbar": {
             "outlinewidth": 0,
             "ticks": ""
            },
            "colorscale": [
             [
              0,
              "#0d0887"
             ],
             [
              0.1111111111111111,
              "#46039f"
             ],
             [
              0.2222222222222222,
              "#7201a8"
             ],
             [
              0.3333333333333333,
              "#9c179e"
             ],
             [
              0.4444444444444444,
              "#bd3786"
             ],
             [
              0.5555555555555556,
              "#d8576b"
             ],
             [
              0.6666666666666666,
              "#ed7953"
             ],
             [
              0.7777777777777778,
              "#fb9f3a"
             ],
             [
              0.8888888888888888,
              "#fdca26"
             ],
             [
              1,
              "#f0f921"
             ]
            ],
            "type": "histogram2dcontour"
           }
          ],
          "mesh3d": [
           {
            "colorbar": {
             "outlinewidth": 0,
             "ticks": ""
            },
            "type": "mesh3d"
           }
          ],
          "parcoords": [
           {
            "line": {
             "colorbar": {
              "outlinewidth": 0,
              "ticks": ""
             }
            },
            "type": "parcoords"
           }
          ],
          "pie": [
           {
            "automargin": true,
            "type": "pie"
           }
          ],
          "scatter": [
           {
            "fillpattern": {
             "fillmode": "overlay",
             "size": 10,
             "solidity": 0.2
            },
            "type": "scatter"
           }
          ],
          "scatter3d": [
           {
            "line": {
             "colorbar": {
              "outlinewidth": 0,
              "ticks": ""
             }
            },
            "marker": {
             "colorbar": {
              "outlinewidth": 0,
              "ticks": ""
             }
            },
            "type": "scatter3d"
           }
          ],
          "scattercarpet": [
           {
            "marker": {
             "colorbar": {
              "outlinewidth": 0,
              "ticks": ""
             }
            },
            "type": "scattercarpet"
           }
          ],
          "scattergeo": [
           {
            "marker": {
             "colorbar": {
              "outlinewidth": 0,
              "ticks": ""
             }
            },
            "type": "scattergeo"
           }
          ],
          "scattergl": [
           {
            "marker": {
             "colorbar": {
              "outlinewidth": 0,
              "ticks": ""
             }
            },
            "type": "scattergl"
           }
          ],
          "scattermapbox": [
           {
            "marker": {
             "colorbar": {
              "outlinewidth": 0,
              "ticks": ""
             }
            },
            "type": "scattermapbox"
           }
          ],
          "scatterpolar": [
           {
            "marker": {
             "colorbar": {
              "outlinewidth": 0,
              "ticks": ""
             }
            },
            "type": "scatterpolar"
           }
          ],
          "scatterpolargl": [
           {
            "marker": {
             "colorbar": {
              "outlinewidth": 0,
              "ticks": ""
             }
            },
            "type": "scatterpolargl"
           }
          ],
          "scatterternary": [
           {
            "marker": {
             "colorbar": {
              "outlinewidth": 0,
              "ticks": ""
             }
            },
            "type": "scatterternary"
           }
          ],
          "surface": [
           {
            "colorbar": {
             "outlinewidth": 0,
             "ticks": ""
            },
            "colorscale": [
             [
              0,
              "#0d0887"
             ],
             [
              0.1111111111111111,
              "#46039f"
             ],
             [
              0.2222222222222222,
              "#7201a8"
             ],
             [
              0.3333333333333333,
              "#9c179e"
             ],
             [
              0.4444444444444444,
              "#bd3786"
             ],
             [
              0.5555555555555556,
              "#d8576b"
             ],
             [
              0.6666666666666666,
              "#ed7953"
             ],
             [
              0.7777777777777778,
              "#fb9f3a"
             ],
             [
              0.8888888888888888,
              "#fdca26"
             ],
             [
              1,
              "#f0f921"
             ]
            ],
            "type": "surface"
           }
          ],
          "table": [
           {
            "cells": {
             "fill": {
              "color": "#EBF0F8"
             },
             "line": {
              "color": "white"
             }
            },
            "header": {
             "fill": {
              "color": "#C8D4E3"
             },
             "line": {
              "color": "white"
             }
            },
            "type": "table"
           }
          ]
         },
         "layout": {
          "annotationdefaults": {
           "arrowcolor": "#2a3f5f",
           "arrowhead": 0,
           "arrowwidth": 1
          },
          "autotypenumbers": "strict",
          "coloraxis": {
           "colorbar": {
            "outlinewidth": 0,
            "ticks": ""
           }
          },
          "colorscale": {
           "diverging": [
            [
             0,
             "#8e0152"
            ],
            [
             0.1,
             "#c51b7d"
            ],
            [
             0.2,
             "#de77ae"
            ],
            [
             0.3,
             "#f1b6da"
            ],
            [
             0.4,
             "#fde0ef"
            ],
            [
             0.5,
             "#f7f7f7"
            ],
            [
             0.6,
             "#e6f5d0"
            ],
            [
             0.7,
             "#b8e186"
            ],
            [
             0.8,
             "#7fbc41"
            ],
            [
             0.9,
             "#4d9221"
            ],
            [
             1,
             "#276419"
            ]
           ],
           "sequential": [
            [
             0,
             "#0d0887"
            ],
            [
             0.1111111111111111,
             "#46039f"
            ],
            [
             0.2222222222222222,
             "#7201a8"
            ],
            [
             0.3333333333333333,
             "#9c179e"
            ],
            [
             0.4444444444444444,
             "#bd3786"
            ],
            [
             0.5555555555555556,
             "#d8576b"
            ],
            [
             0.6666666666666666,
             "#ed7953"
            ],
            [
             0.7777777777777778,
             "#fb9f3a"
            ],
            [
             0.8888888888888888,
             "#fdca26"
            ],
            [
             1,
             "#f0f921"
            ]
           ],
           "sequentialminus": [
            [
             0,
             "#0d0887"
            ],
            [
             0.1111111111111111,
             "#46039f"
            ],
            [
             0.2222222222222222,
             "#7201a8"
            ],
            [
             0.3333333333333333,
             "#9c179e"
            ],
            [
             0.4444444444444444,
             "#bd3786"
            ],
            [
             0.5555555555555556,
             "#d8576b"
            ],
            [
             0.6666666666666666,
             "#ed7953"
            ],
            [
             0.7777777777777778,
             "#fb9f3a"
            ],
            [
             0.8888888888888888,
             "#fdca26"
            ],
            [
             1,
             "#f0f921"
            ]
           ]
          },
          "colorway": [
           "#636efa",
           "#EF553B",
           "#00cc96",
           "#ab63fa",
           "#FFA15A",
           "#19d3f3",
           "#FF6692",
           "#B6E880",
           "#FF97FF",
           "#FECB52"
          ],
          "font": {
           "color": "#2a3f5f"
          },
          "geo": {
           "bgcolor": "white",
           "lakecolor": "white",
           "landcolor": "#E5ECF6",
           "showlakes": true,
           "showland": true,
           "subunitcolor": "white"
          },
          "hoverlabel": {
           "align": "left"
          },
          "hovermode": "closest",
          "mapbox": {
           "style": "light"
          },
          "paper_bgcolor": "white",
          "plot_bgcolor": "#E5ECF6",
          "polar": {
           "angularaxis": {
            "gridcolor": "white",
            "linecolor": "white",
            "ticks": ""
           },
           "bgcolor": "#E5ECF6",
           "radialaxis": {
            "gridcolor": "white",
            "linecolor": "white",
            "ticks": ""
           }
          },
          "scene": {
           "xaxis": {
            "backgroundcolor": "#E5ECF6",
            "gridcolor": "white",
            "gridwidth": 2,
            "linecolor": "white",
            "showbackground": true,
            "ticks": "",
            "zerolinecolor": "white"
           },
           "yaxis": {
            "backgroundcolor": "#E5ECF6",
            "gridcolor": "white",
            "gridwidth": 2,
            "linecolor": "white",
            "showbackground": true,
            "ticks": "",
            "zerolinecolor": "white"
           },
           "zaxis": {
            "backgroundcolor": "#E5ECF6",
            "gridcolor": "white",
            "gridwidth": 2,
            "linecolor": "white",
            "showbackground": true,
            "ticks": "",
            "zerolinecolor": "white"
           }
          },
          "shapedefaults": {
           "line": {
            "color": "#2a3f5f"
           }
          },
          "ternary": {
           "aaxis": {
            "gridcolor": "white",
            "linecolor": "white",
            "ticks": ""
           },
           "baxis": {
            "gridcolor": "white",
            "linecolor": "white",
            "ticks": ""
           },
           "bgcolor": "#E5ECF6",
           "caxis": {
            "gridcolor": "white",
            "linecolor": "white",
            "ticks": ""
           }
          },
          "title": {
           "x": 0.05
          },
          "xaxis": {
           "automargin": true,
           "gridcolor": "white",
           "linecolor": "white",
           "ticks": "",
           "title": {
            "standoff": 15
           },
           "zerolinecolor": "white",
           "zerolinewidth": 2
          },
          "yaxis": {
           "automargin": true,
           "gridcolor": "white",
           "linecolor": "white",
           "ticks": "",
           "title": {
            "standoff": 15
           },
           "zerolinecolor": "white",
           "zerolinewidth": 2
          }
         }
        },
        "width": 700,
        "xaxis": {
         "title": {
          "text": "Jumlah Berita"
         }
        },
        "yaxis": {
         "autorange": "reversed",
         "title": {
          "text": "Media Source"
         }
        }
       }
      }
     },
     "metadata": {},
     "output_type": "display_data"
    },
    {
     "name": "stdout",
     "output_type": "stream",
     "text": [
      "\n",
      "🔥 5. Heatmap - Sentimen per Media per Tanggal\n"
     ]
    },
    {
     "data": {
      "application/vnd.plotly.v1+json": {
       "config": {
        "plotlyServerURL": "https://plot.ly"
       },
       "data": [
        {
         "colorbar": {
          "ticksuffix": "%",
          "title": {
           "side": "right",
           "text": "% Sentimen Positif"
          }
         },
         "colorscale": [
          [
           0,
           "#DC143C"
          ],
          [
           0.5,
           "#808080"
          ],
          [
           1,
           "#2E8B57"
          ]
         ],
         "customdata": [
          [
           null,
           20
          ],
          [
           0,
           0
          ],
          [
           0,
           0
          ],
          [
           0,
           0
          ],
          [
           null,
           33.33333333333333
          ],
          [
           0,
           0
          ],
          [
           null,
           66.66666666666666
          ],
          [
           0,
           0
          ],
          [
           0,
           0
          ],
          [
           null,
           0
          ]
         ],
         "hoverinfo": "text",
         "hovertemplate": "<b>%{y}</b><br>Tanggal: %{x}<br><extra></extra>",
         "hovertext": [
          [
           "Tidak ada berita",
           "Sentimen Positif: 20.0%"
          ],
          [
           "Sentimen Positif: 0.0%",
           "Sentimen Positif: 0.0%"
          ],
          [
           "Sentimen Positif: 0.0%",
           "Sentimen Positif: 0.0%"
          ],
          [
           "Sentimen Positif: 0.0%",
           "Sentimen Positif: 0.0%"
          ],
          [
           "Tidak ada berita",
           "Sentimen Positif: 33.3%"
          ],
          [
           "Sentimen Positif: 0.0%",
           "Sentimen Positif: 0.0%"
          ],
          [
           "Tidak ada berita",
           "Sentimen Positif: 66.7%"
          ],
          [
           "Sentimen Positif: 0.0%",
           "Sentimen Positif: 0.0%"
          ],
          [
           "Sentimen Positif: 0.0%",
           "Sentimen Positif: 0.0%"
          ],
          [
           "Tidak ada berita",
           "Sentimen Positif: 0.0%"
          ]
         ],
         "text": [
          [
           "Tidak ada berita",
           "Sentimen Positif: 20.0%"
          ],
          [
           "Sentimen Positif: 0.0%",
           "Sentimen Positif: 0.0%"
          ],
          [
           "Sentimen Positif: 0.0%",
           "Sentimen Positif: 0.0%"
          ],
          [
           "Sentimen Positif: 0.0%",
           "Sentimen Positif: 0.0%"
          ],
          [
           "Tidak ada berita",
           "Sentimen Positif: 33.3%"
          ],
          [
           "Sentimen Positif: 0.0%",
           "Sentimen Positif: 0.0%"
          ],
          [
           "Tidak ada berita",
           "Sentimen Positif: 66.7%"
          ],
          [
           "Sentimen Positif: 0.0%",
           "Sentimen Positif: 0.0%"
          ],
          [
           "Sentimen Positif: 0.0%",
           "Sentimen Positif: 0.0%"
          ],
          [
           "Tidak ada berita",
           "Sentimen Positif: 0.0%"
          ]
         ],
         "type": "heatmap",
         "x": [
          "2025-10-06",
          "2025-10-05"
         ],
         "y": [
          "news.ambisius.com",
          "www.kompasiana.com",
          "id.headtopics.com",
          "medan.tribunnews.com",
          "blitarkawentar.jawapos.com",
          "www.msn.com",
          "jurnalpatrolinews.co.id",
          "economy.okezone.com",
          "www.sijogja.com",
          "banten.tribunnews.com"
         ],
         "z": [
          [
           null,
           20
          ],
          [
           0,
           0
          ],
          [
           0,
           0
          ],
          [
           0,
           0
          ],
          [
           null,
           33.33333333333333
          ],
          [
           0,
           0
          ],
          [
           null,
           66.66666666666666
          ],
          [
           0,
           0
          ],
          [
           0,
           0
          ],
          [
           null,
           0
          ]
         ],
         "zmax": 100,
         "zmid": 50,
         "zmin": 0
        }
       ],
       "layout": {
        "font": {
         "size": 12
        },
        "height": 500,
        "paper_bgcolor": "white",
        "plot_bgcolor": "white",
        "template": {
         "data": {
          "bar": [
           {
            "error_x": {
             "color": "#2a3f5f"
            },
            "error_y": {
             "color": "#2a3f5f"
            },
            "marker": {
             "line": {
              "color": "#E5ECF6",
              "width": 0.5
             },
             "pattern": {
              "fillmode": "overlay",
              "size": 10,
              "solidity": 0.2
             }
            },
            "type": "bar"
           }
          ],
          "barpolar": [
           {
            "marker": {
             "line": {
              "color": "#E5ECF6",
              "width": 0.5
             },
             "pattern": {
              "fillmode": "overlay",
              "size": 10,
              "solidity": 0.2
             }
            },
            "type": "barpolar"
           }
          ],
          "carpet": [
           {
            "aaxis": {
             "endlinecolor": "#2a3f5f",
             "gridcolor": "white",
             "linecolor": "white",
             "minorgridcolor": "white",
             "startlinecolor": "#2a3f5f"
            },
            "baxis": {
             "endlinecolor": "#2a3f5f",
             "gridcolor": "white",
             "linecolor": "white",
             "minorgridcolor": "white",
             "startlinecolor": "#2a3f5f"
            },
            "type": "carpet"
           }
          ],
          "choropleth": [
           {
            "colorbar": {
             "outlinewidth": 0,
             "ticks": ""
            },
            "type": "choropleth"
           }
          ],
          "contour": [
           {
            "colorbar": {
             "outlinewidth": 0,
             "ticks": ""
            },
            "colorscale": [
             [
              0,
              "#0d0887"
             ],
             [
              0.1111111111111111,
              "#46039f"
             ],
             [
              0.2222222222222222,
              "#7201a8"
             ],
             [
              0.3333333333333333,
              "#9c179e"
             ],
             [
              0.4444444444444444,
              "#bd3786"
             ],
             [
              0.5555555555555556,
              "#d8576b"
             ],
             [
              0.6666666666666666,
              "#ed7953"
             ],
             [
              0.7777777777777778,
              "#fb9f3a"
             ],
             [
              0.8888888888888888,
              "#fdca26"
             ],
             [
              1,
              "#f0f921"
             ]
            ],
            "type": "contour"
           }
          ],
          "contourcarpet": [
           {
            "colorbar": {
             "outlinewidth": 0,
             "ticks": ""
            },
            "type": "contourcarpet"
           }
          ],
          "heatmap": [
           {
            "colorbar": {
             "outlinewidth": 0,
             "ticks": ""
            },
            "colorscale": [
             [
              0,
              "#0d0887"
             ],
             [
              0.1111111111111111,
              "#46039f"
             ],
             [
              0.2222222222222222,
              "#7201a8"
             ],
             [
              0.3333333333333333,
              "#9c179e"
             ],
             [
              0.4444444444444444,
              "#bd3786"
             ],
             [
              0.5555555555555556,
              "#d8576b"
             ],
             [
              0.6666666666666666,
              "#ed7953"
             ],
             [
              0.7777777777777778,
              "#fb9f3a"
             ],
             [
              0.8888888888888888,
              "#fdca26"
             ],
             [
              1,
              "#f0f921"
             ]
            ],
            "type": "heatmap"
           }
          ],
          "heatmapgl": [
           {
            "colorbar": {
             "outlinewidth": 0,
             "ticks": ""
            },
            "colorscale": [
             [
              0,
              "#0d0887"
             ],
             [
              0.1111111111111111,
              "#46039f"
             ],
             [
              0.2222222222222222,
              "#7201a8"
             ],
             [
              0.3333333333333333,
              "#9c179e"
             ],
             [
              0.4444444444444444,
              "#bd3786"
             ],
             [
              0.5555555555555556,
              "#d8576b"
             ],
             [
              0.6666666666666666,
              "#ed7953"
             ],
             [
              0.7777777777777778,
              "#fb9f3a"
             ],
             [
              0.8888888888888888,
              "#fdca26"
             ],
             [
              1,
              "#f0f921"
             ]
            ],
            "type": "heatmapgl"
           }
          ],
          "histogram": [
           {
            "marker": {
             "pattern": {
              "fillmode": "overlay",
              "size": 10,
              "solidity": 0.2
             }
            },
            "type": "histogram"
           }
          ],
          "histogram2d": [
           {
            "colorbar": {
             "outlinewidth": 0,
             "ticks": ""
            },
            "colorscale": [
             [
              0,
              "#0d0887"
             ],
             [
              0.1111111111111111,
              "#46039f"
             ],
             [
              0.2222222222222222,
              "#7201a8"
             ],
             [
              0.3333333333333333,
              "#9c179e"
             ],
             [
              0.4444444444444444,
              "#bd3786"
             ],
             [
              0.5555555555555556,
              "#d8576b"
             ],
             [
              0.6666666666666666,
              "#ed7953"
             ],
             [
              0.7777777777777778,
              "#fb9f3a"
             ],
             [
              0.8888888888888888,
              "#fdca26"
             ],
             [
              1,
              "#f0f921"
             ]
            ],
            "type": "histogram2d"
           }
          ],
          "histogram2dcontour": [
           {
            "colorbar": {
             "outlinewidth": 0,
             "ticks": ""
            },
            "colorscale": [
             [
              0,
              "#0d0887"
             ],
             [
              0.1111111111111111,
              "#46039f"
             ],
             [
              0.2222222222222222,
              "#7201a8"
             ],
             [
              0.3333333333333333,
              "#9c179e"
             ],
             [
              0.4444444444444444,
              "#bd3786"
             ],
             [
              0.5555555555555556,
              "#d8576b"
             ],
             [
              0.6666666666666666,
              "#ed7953"
             ],
             [
              0.7777777777777778,
              "#fb9f3a"
             ],
             [
              0.8888888888888888,
              "#fdca26"
             ],
             [
              1,
              "#f0f921"
             ]
            ],
            "type": "histogram2dcontour"
           }
          ],
          "mesh3d": [
           {
            "colorbar": {
             "outlinewidth": 0,
             "ticks": ""
            },
            "type": "mesh3d"
           }
          ],
          "parcoords": [
           {
            "line": {
             "colorbar": {
              "outlinewidth": 0,
              "ticks": ""
             }
            },
            "type": "parcoords"
           }
          ],
          "pie": [
           {
            "automargin": true,
            "type": "pie"
           }
          ],
          "scatter": [
           {
            "fillpattern": {
             "fillmode": "overlay",
             "size": 10,
             "solidity": 0.2
            },
            "type": "scatter"
           }
          ],
          "scatter3d": [
           {
            "line": {
             "colorbar": {
              "outlinewidth": 0,
              "ticks": ""
             }
            },
            "marker": {
             "colorbar": {
              "outlinewidth": 0,
              "ticks": ""
             }
            },
            "type": "scatter3d"
           }
          ],
          "scattercarpet": [
           {
            "marker": {
             "colorbar": {
              "outlinewidth": 0,
              "ticks": ""
             }
            },
            "type": "scattercarpet"
           }
          ],
          "scattergeo": [
           {
            "marker": {
             "colorbar": {
              "outlinewidth": 0,
              "ticks": ""
             }
            },
            "type": "scattergeo"
           }
          ],
          "scattergl": [
           {
            "marker": {
             "colorbar": {
              "outlinewidth": 0,
              "ticks": ""
             }
            },
            "type": "scattergl"
           }
          ],
          "scattermapbox": [
           {
            "marker": {
             "colorbar": {
              "outlinewidth": 0,
              "ticks": ""
             }
            },
            "type": "scattermapbox"
           }
          ],
          "scatterpolar": [
           {
            "marker": {
             "colorbar": {
              "outlinewidth": 0,
              "ticks": ""
             }
            },
            "type": "scatterpolar"
           }
          ],
          "scatterpolargl": [
           {
            "marker": {
             "colorbar": {
              "outlinewidth": 0,
              "ticks": ""
             }
            },
            "type": "scatterpolargl"
           }
          ],
          "scatterternary": [
           {
            "marker": {
             "colorbar": {
              "outlinewidth": 0,
              "ticks": ""
             }
            },
            "type": "scatterternary"
           }
          ],
          "surface": [
           {
            "colorbar": {
             "outlinewidth": 0,
             "ticks": ""
            },
            "colorscale": [
             [
              0,
              "#0d0887"
             ],
             [
              0.1111111111111111,
              "#46039f"
             ],
             [
              0.2222222222222222,
              "#7201a8"
             ],
             [
              0.3333333333333333,
              "#9c179e"
             ],
             [
              0.4444444444444444,
              "#bd3786"
             ],
             [
              0.5555555555555556,
              "#d8576b"
             ],
             [
              0.6666666666666666,
              "#ed7953"
             ],
             [
              0.7777777777777778,
              "#fb9f3a"
             ],
             [
              0.8888888888888888,
              "#fdca26"
             ],
             [
              1,
              "#f0f921"
             ]
            ],
            "type": "surface"
           }
          ],
          "table": [
           {
            "cells": {
             "fill": {
              "color": "#EBF0F8"
             },
             "line": {
              "color": "white"
             }
            },
            "header": {
             "fill": {
              "color": "#C8D4E3"
             },
             "line": {
              "color": "white"
             }
            },
            "type": "table"
           }
          ]
         },
         "layout": {
          "annotationdefaults": {
           "arrowcolor": "#2a3f5f",
           "arrowhead": 0,
           "arrowwidth": 1
          },
          "autotypenumbers": "strict",
          "coloraxis": {
           "colorbar": {
            "outlinewidth": 0,
            "ticks": ""
           }
          },
          "colorscale": {
           "diverging": [
            [
             0,
             "#8e0152"
            ],
            [
             0.1,
             "#c51b7d"
            ],
            [
             0.2,
             "#de77ae"
            ],
            [
             0.3,
             "#f1b6da"
            ],
            [
             0.4,
             "#fde0ef"
            ],
            [
             0.5,
             "#f7f7f7"
            ],
            [
             0.6,
             "#e6f5d0"
            ],
            [
             0.7,
             "#b8e186"
            ],
            [
             0.8,
             "#7fbc41"
            ],
            [
             0.9,
             "#4d9221"
            ],
            [
             1,
             "#276419"
            ]
           ],
           "sequential": [
            [
             0,
             "#0d0887"
            ],
            [
             0.1111111111111111,
             "#46039f"
            ],
            [
             0.2222222222222222,
             "#7201a8"
            ],
            [
             0.3333333333333333,
             "#9c179e"
            ],
            [
             0.4444444444444444,
             "#bd3786"
            ],
            [
             0.5555555555555556,
             "#d8576b"
            ],
            [
             0.6666666666666666,
             "#ed7953"
            ],
            [
             0.7777777777777778,
             "#fb9f3a"
            ],
            [
             0.8888888888888888,
             "#fdca26"
            ],
            [
             1,
             "#f0f921"
            ]
           ],
           "sequentialminus": [
            [
             0,
             "#0d0887"
            ],
            [
             0.1111111111111111,
             "#46039f"
            ],
            [
             0.2222222222222222,
             "#7201a8"
            ],
            [
             0.3333333333333333,
             "#9c179e"
            ],
            [
             0.4444444444444444,
             "#bd3786"
            ],
            [
             0.5555555555555556,
             "#d8576b"
            ],
            [
             0.6666666666666666,
             "#ed7953"
            ],
            [
             0.7777777777777778,
             "#fb9f3a"
            ],
            [
             0.8888888888888888,
             "#fdca26"
            ],
            [
             1,
             "#f0f921"
            ]
           ]
          },
          "colorway": [
           "#636efa",
           "#EF553B",
           "#00cc96",
           "#ab63fa",
           "#FFA15A",
           "#19d3f3",
           "#FF6692",
           "#B6E880",
           "#FF97FF",
           "#FECB52"
          ],
          "font": {
           "color": "#2a3f5f"
          },
          "geo": {
           "bgcolor": "white",
           "lakecolor": "white",
           "landcolor": "#E5ECF6",
           "showlakes": true,
           "showland": true,
           "subunitcolor": "white"
          },
          "hoverlabel": {
           "align": "left"
          },
          "hovermode": "closest",
          "mapbox": {
           "style": "light"
          },
          "paper_bgcolor": "white",
          "plot_bgcolor": "#E5ECF6",
          "polar": {
           "angularaxis": {
            "gridcolor": "white",
            "linecolor": "white",
            "ticks": ""
           },
           "bgcolor": "#E5ECF6",
           "radialaxis": {
            "gridcolor": "white",
            "linecolor": "white",
            "ticks": ""
           }
          },
          "scene": {
           "xaxis": {
            "backgroundcolor": "#E5ECF6",
            "gridcolor": "white",
            "gridwidth": 2,
            "linecolor": "white",
            "showbackground": true,
            "ticks": "",
            "zerolinecolor": "white"
           },
           "yaxis": {
            "backgroundcolor": "#E5ECF6",
            "gridcolor": "white",
            "gridwidth": 2,
            "linecolor": "white",
            "showbackground": true,
            "ticks": "",
            "zerolinecolor": "white"
           },
           "zaxis": {
            "backgroundcolor": "#E5ECF6",
            "gridcolor": "white",
            "gridwidth": 2,
            "linecolor": "white",
            "showbackground": true,
            "ticks": "",
            "zerolinecolor": "white"
           }
          },
          "shapedefaults": {
           "line": {
            "color": "#2a3f5f"
           }
          },
          "ternary": {
           "aaxis": {
            "gridcolor": "white",
            "linecolor": "white",
            "ticks": ""
           },
           "baxis": {
            "gridcolor": "white",
            "linecolor": "white",
            "ticks": ""
           },
           "bgcolor": "#E5ECF6",
           "caxis": {
            "gridcolor": "white",
            "linecolor": "white",
            "ticks": ""
           }
          },
          "title": {
           "x": 0.05
          },
          "xaxis": {
           "automargin": true,
           "gridcolor": "white",
           "linecolor": "white",
           "ticks": "",
           "title": {
            "standoff": 15
           },
           "zerolinecolor": "white",
           "zerolinewidth": 2
          },
          "yaxis": {
           "automargin": true,
           "gridcolor": "white",
           "linecolor": "white",
           "ticks": "",
           "title": {
            "standoff": 15
           },
           "zerolinecolor": "white",
           "zerolinewidth": 2
          }
         }
        },
        "width": 700,
        "xaxis": {
         "title": {
          "text": "Tanggal"
         }
        },
        "yaxis": {
         "title": {
          "text": "Media Source"
         }
        }
       }
      }
     },
     "metadata": {},
     "output_type": "display_data"
    },
    {
     "name": "stdout",
     "output_type": "stream",
     "text": [
      "\n",
      "☁️ 6. Word Cloud - Kata Kunci Populer\n"
     ]
    },
    {
     "data": {
      "image/png": "[encoded data removed]",
      "text/plain": [
       "<Figure size 1000x500 with 1 Axes>"
      ]
     },
     "metadata": {},
     "output_type": "display_data"
    },
    {
     "name": "stdout",
     "output_type": "stream",
     "text": [
      "\n",
      "✅ Semua visualisasi telah ditampilkan!\n",
      "\n",
      "📋 Insight Utama:\n",
      "   🎯 Sentimen dominan: netral (75.6%)\n",
      "   📺 Media terbanyak: news.ambisius.com (5 berita)\n",
      "   🔤 Kata populer: purbaya (105), menkeu (72), anggaran (53), mbg (51), tak (45)\n",
      "\n",
      "✅ Semua visualisasi berhasil dibuat dan ditampilkan!\n",
      "💡 Tip: Scroll ke atas untuk melihat grafik-grafik yang telah dibuat.\n"
     ]
    }
   ],
   "source": [
    "file_loc = os.path.join(cwd, '06_visualisasi.ipynb')\n",
    "\n",
    "%run \"$file_loc\""
   ]
  },
  {
   "cell_type": "markdown",
   "metadata": {},
   "source": [
    "#### REKAP\n",
    "\n",
    "Tahapan akhir untuk melihat lama waktu proses untuk satu kali proses monitoring berita online."
   ]
  },
  {
   "cell_type": "code",
   "execution_count": 16,
   "metadata": {},
   "outputs": [
    {
     "name": "stdout",
     "output_type": "stream",
     "text": [
      "Waktu proses: 19 menit 51 detik\n"
     ]
    }
   ],
   "source": [
    "# Tandai waktu selesai proses\n",
    "end_process_time = time.time()\n",
    "elapsed_time = end_process_time - start_process_time\n",
    "# jadikan menit & detik\n",
    "elapsed_minutes = int(elapsed_time // 60)\n",
    "elapsed_seconds = int(elapsed_time % 60)\n",
    "print(f\"Waktu proses: {elapsed_minutes} menit {elapsed_seconds} detik\")"
   ]
  }
 ],
 "metadata": {
  "colab": {
   "authorship_tag": "ABX9TyO7Du9kdtb2tYY9zmRcptUW",
   "collapsed_sections": [
    "nl15yqDXsRcB",
    "PgAoP36AsoBi",
    "zLAsNrRLtTwy",
    "btzQFyReOzDh"
   ],
   "mount_file_id": "1huIq8bthX6wwOLYeaNI1vyJesWYn8LGS",
   "provenance": []
  },
  "kernelspec": {
   "display_name": "base",
   "language": "python",
   "name": "python3"
  },
  "language_info": {
   "codemirror_mode": {
    "name": "ipython",
    "version": 3
   },
   "file_extension": ".py",
   "mimetype": "text/x-python",
   "name": "python",
   "nbconvert_exporter": "python",
   "pygments_lexer": "ipython3",
   "version": "3.12.7"
  },
  "widgets": {
   "application/vnd.jupyter.widget-state+json": {
    "0229bd90bd3d46b59c025a905c5b9ce2": {
     "model_module": "@jupyter-widgets/controls",
     "model_module_version": "1.5.0",
     "model_name": "HTMLModel",
     "state": {
      "_dom_classes": [],
      "_model_module": "@jupyter-widgets/controls",
      "_model_module_version": "1.5.0",
      "_model_name": "HTMLModel",
      "_view_count": null,
      "_view_module": "@jupyter-widgets/controls",
      "_view_module_version": "1.5.0",
      "_view_name": "HTMLView",
      "description": "",
      "description_tooltip": null,
      "layout": "IPY_MODEL_498f085853c24829affb231886434e6e",
      "placeholder": "​",
      "style": "IPY_MODEL_9d8f96ed7e8244ee9e50652f262e08e2",
      "value": " 13/13 [00:01&lt;00:00,  5.53file/s]"
     }
    },
    "03e742985f574beaa5d0606d9015fadb": {
     "model_module": "@jupyter-widgets/controls",
     "model_module_version": "1.5.0",
     "model_name": "HBoxModel",
     "state": {
      "_dom_classes": [],
      "_model_module": "@jupyter-widgets/controls",
      "_model_module_version": "1.5.0",
      "_model_name": "HBoxModel",
      "_view_count": null,
      "_view_module": "@jupyter-widgets/controls",
      "_view_module_version": "1.5.0",
      "_view_name": "HBoxView",
      "box_style": "",
      "children": [
       "IPY_MODEL_1944dc8d32c74470aa729da06d606f7c",
       "IPY_MODEL_efc062bd85a4423ba661c822648e9a11",
       "IPY_MODEL_0229bd90bd3d46b59c025a905c5b9ce2"
      ],
      "layout": "IPY_MODEL_f1016778e6bc4555ba99c034304e0c64"
     }
    },
    "1944dc8d32c74470aa729da06d606f7c": {
     "model_module": "@jupyter-widgets/controls",
     "model_module_version": "1.5.0",
     "model_name": "HTMLModel",
     "state": {
      "_dom_classes": [],
      "_model_module": "@jupyter-widgets/controls",
      "_model_module_version": "1.5.0",
      "_model_name": "HTMLModel",
      "_view_count": null,
      "_view_module": "@jupyter-widgets/controls",
      "_view_module_version": "1.5.0",
      "_view_name": "HTMLView",
      "description": "",
      "description_tooltip": null,
      "layout": "IPY_MODEL_81450a4bf4bf4353bc4794a2537493ec",
      "placeholder": "​",
      "style": "IPY_MODEL_929fe39a058f4edfa29150abe40f1feb",
      "value": "Membaca Excel: 100%"
     }
    },
    "280f90cef3bf4a64855f7d5800d45307": {
     "model_module": "@jupyter-widgets/base",
     "model_module_version": "1.2.0",
     "model_name": "LayoutModel",
     "state": {
      "_model_module": "@jupyter-widgets/base",
      "_model_module_version": "1.2.0",
      "_model_name": "LayoutModel",
      "_view_count": null,
      "_view_module": "@jupyter-widgets/base",
      "_view_module_version": "1.2.0",
      "_view_name": "LayoutView",
      "align_content": null,
      "align_items": null,
      "align_self": null,
      "border": null,
      "bottom": null,
      "display": null,
      "flex": null,
      "flex_flow": null,
      "grid_area": null,
      "grid_auto_columns": null,
      "grid_auto_flow": null,
      "grid_auto_rows": null,
      "grid_column": null,
      "grid_gap": null,
      "grid_row": null,
      "grid_template_areas": null,
      "grid_template_columns": null,
      "grid_template_rows": null,
      "height": null,
      "justify_content": null,
      "justify_items": null,
      "left": null,
      "margin": null,
      "max_height": null,
      "max_width": null,
      "min_height": null,
      "min_width": null,
      "object_fit": null,
      "object_position": null,
      "order": null,
      "overflow": null,
      "overflow_x": null,
      "overflow_y": null,
      "padding": null,
      "right": null,
      "top": null,
      "visibility": null,
      "width": null
     }
    },
    "498f085853c24829affb231886434e6e": {
     "model_module": "@jupyter-widgets/base",
     "model_module_version": "1.2.0",
     "model_name": "LayoutModel",
     "state": {
      "_model_module": "@jupyter-widgets/base",
      "_model_module_version": "1.2.0",
      "_model_name": "LayoutModel",
      "_view_count": null,
      "_view_module": "@jupyter-widgets/base",
      "_view_module_version": "1.2.0",
      "_view_name": "LayoutView",
      "align_content": null,
      "align_items": null,
      "align_self": null,
      "border": null,
      "bottom": null,
      "display": null,
      "flex": null,
      "flex_flow": null,
      "grid_area": null,
      "grid_auto_columns": null,
      "grid_auto_flow": null,
      "grid_auto_rows": null,
      "grid_column": null,
      "grid_gap": null,
      "grid_row": null,
      "grid_template_areas": null,
      "grid_template_columns": null,
      "grid_template_rows": null,
      "height": null,
      "justify_content": null,
      "justify_items": null,
      "left": null,
      "margin": null,
      "max_height": null,
      "max_width": null,
      "min_height": null,
      "min_width": null,
      "object_fit": null,
      "object_position": null,
      "order": null,
      "overflow": null,
      "overflow_x": null,
      "overflow_y": null,
      "padding": null,
      "right": null,
      "top": null,
      "visibility": null,
      "width": null
     }
    },
    "4d457ba32dc047fa94cfbcd12af7a7b5": {
     "model_module": "@jupyter-widgets/base",
     "model_module_version": "1.2.0",
     "model_name": "LayoutModel",
     "state": {
      "_model_module": "@jupyter-widgets/base",
      "_model_module_version": "1.2.0",
      "_model_name": "LayoutModel",
      "_view_count": null,
      "_view_module": "@jupyter-widgets/base",
      "_view_module_version": "1.2.0",
      "_view_name": "LayoutView",
      "align_content": null,
      "align_items": null,
      "align_self": null,
      "border": null,
      "bottom": null,
      "display": null,
      "flex": null,
      "flex_flow": null,
      "grid_area": null,
      "grid_auto_columns": null,
      "grid_auto_flow": null,
      "grid_auto_rows": null,
      "grid_column": null,
      "grid_gap": null,
      "grid_row": null,
      "grid_template_areas": null,
      "grid_template_columns": null,
      "grid_template_rows": null,
      "height": null,
      "justify_content": null,
      "justify_items": null,
      "left": null,
      "margin": null,
      "max_height": null,
      "max_width": null,
      "min_height": null,
      "min_width": null,
      "object_fit": null,
      "object_position": null,
      "order": null,
      "overflow": null,
      "overflow_x": null,
      "overflow_y": null,
      "padding": null,
      "right": null,
      "top": null,
      "visibility": null,
      "width": null
     }
    },
    "50cf6eac6fc646a5ac2c856d5d6b8c93": {
     "model_module": "@jupyter-widgets/controls",
     "model_module_version": "1.5.0",
     "model_name": "HTMLModel",
     "state": {
      "_dom_classes": [],
      "_model_module": "@jupyter-widgets/controls",
      "_model_module_version": "1.5.0",
      "_model_name": "HTMLModel",
      "_view_count": null,
      "_view_module": "@jupyter-widgets/controls",
      "_view_module_version": "1.5.0",
      "_view_name": "HTMLView",
      "description": "",
      "description_tooltip": null,
      "layout": "IPY_MODEL_99c7711a32504f1280c53abfd6b839c5",
      "placeholder": "​",
      "style": "IPY_MODEL_ccdfe10894894e65802e9958e40dffb0",
      "value": " 100/100 [01:06&lt;00:00,  1.73it/s]"
     }
    },
    "5886680b1a4d4c20adfff9f10b4eb80e": {
     "model_module": "@jupyter-widgets/controls",
     "model_module_version": "1.5.0",
     "model_name": "HTMLModel",
     "state": {
      "_dom_classes": [],
      "_model_module": "@jupyter-widgets/controls",
      "_model_module_version": "1.5.0",
      "_model_name": "HTMLModel",
      "_view_count": null,
      "_view_module": "@jupyter-widgets/controls",
      "_view_module_version": "1.5.0",
      "_view_name": "HTMLView",
      "description": "",
      "description_tooltip": null,
      "layout": "IPY_MODEL_280f90cef3bf4a64855f7d5800d45307",
      "placeholder": "​",
      "style": "IPY_MODEL_e0a7e6d3b9d743dbbc8939c2fa1a235d",
      "value": "Scraping artikel: 100%"
     }
    },
    "659a9c31541049f0beaad3723ac434bb": {
     "model_module": "@jupyter-widgets/base",
     "model_module_version": "1.2.0",
     "model_name": "LayoutModel",
     "state": {
      "_model_module": "@jupyter-widgets/base",
      "_model_module_version": "1.2.0",
      "_model_name": "LayoutModel",
      "_view_count": null,
      "_view_module": "@jupyter-widgets/base",
      "_view_module_version": "1.2.0",
      "_view_name": "LayoutView",
      "align_content": null,
      "align_items": null,
      "align_self": null,
      "border": null,
      "bottom": null,
      "display": null,
      "flex": null,
      "flex_flow": null,
      "grid_area": null,
      "grid_auto_columns": null,
      "grid_auto_flow": null,
      "grid_auto_rows": null,
      "grid_column": null,
      "grid_gap": null,
      "grid_row": null,
      "grid_template_areas": null,
      "grid_template_columns": null,
      "grid_template_rows": null,
      "height": null,
      "justify_content": null,
      "justify_items": null,
      "left": null,
      "margin": null,
      "max_height": null,
      "max_width": null,
      "min_height": null,
      "min_width": null,
      "object_fit": null,
      "object_position": null,
      "order": null,
      "overflow": null,
      "overflow_x": null,
      "overflow_y": null,
      "padding": null,
      "right": null,
      "top": null,
      "visibility": null,
      "width": null
     }
    },
    "6b3a08831def4c67b608dfa7c2001e11": {
     "model_module": "@jupyter-widgets/controls",
     "model_module_version": "1.5.0",
     "model_name": "ProgressStyleModel",
     "state": {
      "_model_module": "@jupyter-widgets/controls",
      "_model_module_version": "1.5.0",
      "_model_name": "ProgressStyleModel",
      "_view_count": null,
      "_view_module": "@jupyter-widgets/base",
      "_view_module_version": "1.2.0",
      "_view_name": "StyleView",
      "bar_color": null,
      "description_width": ""
     }
    },
    "81450a4bf4bf4353bc4794a2537493ec": {
     "model_module": "@jupyter-widgets/base",
     "model_module_version": "1.2.0",
     "model_name": "LayoutModel",
     "state": {
      "_model_module": "@jupyter-widgets/base",
      "_model_module_version": "1.2.0",
      "_model_name": "LayoutModel",
      "_view_count": null,
      "_view_module": "@jupyter-widgets/base",
      "_view_module_version": "1.2.0",
      "_view_name": "LayoutView",
      "align_content": null,
      "align_items": null,
      "align_self": null,
      "border": null,
      "bottom": null,
      "display": null,
      "flex": null,
      "flex_flow": null,
      "grid_area": null,
      "grid_auto_columns": null,
      "grid_auto_flow": null,
      "grid_auto_rows": null,
      "grid_column": null,
      "grid_gap": null,
      "grid_row": null,
      "grid_template_areas": null,
      "grid_template_columns": null,
      "grid_template_rows": null,
      "height": null,
      "justify_content": null,
      "justify_items": null,
      "left": null,
      "margin": null,
      "max_height": null,
      "max_width": null,
      "min_height": null,
      "min_width": null,
      "object_fit": null,
      "object_position": null,
      "order": null,
      "overflow": null,
      "overflow_x": null,
      "overflow_y": null,
      "padding": null,
      "right": null,
      "top": null,
      "visibility": null,
      "width": null
     }
    },
    "929fe39a058f4edfa29150abe40f1feb": {
     "model_module": "@jupyter-widgets/controls",
     "model_module_version": "1.5.0",
     "model_name": "DescriptionStyleModel",
     "state": {
      "_model_module": "@jupyter-widgets/controls",
      "_model_module_version": "1.5.0",
      "_model_name": "DescriptionStyleModel",
      "_view_count": null,
      "_view_module": "@jupyter-widgets/base",
      "_view_module_version": "1.2.0",
      "_view_name": "StyleView",
      "description_width": ""
     }
    },
    "991f091932664e3e8fff4b579b0adb71": {
     "model_module": "@jupyter-widgets/controls",
     "model_module_version": "1.5.0",
     "model_name": "ProgressStyleModel",
     "state": {
      "_model_module": "@jupyter-widgets/controls",
      "_model_module_version": "1.5.0",
      "_model_name": "ProgressStyleModel",
      "_view_count": null,
      "_view_module": "@jupyter-widgets/base",
      "_view_module_version": "1.2.0",
      "_view_name": "StyleView",
      "bar_color": null,
      "description_width": ""
     }
    },
    "99c7711a32504f1280c53abfd6b839c5": {
     "model_module": "@jupyter-widgets/base",
     "model_module_version": "1.2.0",
     "model_name": "LayoutModel",
     "state": {
      "_model_module": "@jupyter-widgets/base",
      "_model_module_version": "1.2.0",
      "_model_name": "LayoutModel",
      "_view_count": null,
      "_view_module": "@jupyter-widgets/base",
      "_view_module_version": "1.2.0",
      "_view_name": "LayoutView",
      "align_content": null,
      "align_items": null,
      "align_self": null,
      "border": null,
      "bottom": null,
      "display": null,
      "flex": null,
      "flex_flow": null,
      "grid_area": null,
      "grid_auto_columns": null,
      "grid_auto_flow": null,
      "grid_auto_rows": null,
      "grid_column": null,
      "grid_gap": null,
      "grid_row": null,
      "grid_template_areas": null,
      "grid_template_columns": null,
      "grid_template_rows": null,
      "height": null,
      "justify_content": null,
      "justify_items": null,
      "left": null,
      "margin": null,
      "max_height": null,
      "max_width": null,
      "min_height": null,
      "min_width": null,
      "object_fit": null,
      "object_position": null,
      "order": null,
      "overflow": null,
      "overflow_x": null,
      "overflow_y": null,
      "padding": null,
      "right": null,
      "top": null,
      "visibility": null,
      "width": null
     }
    },
    "9d8f96ed7e8244ee9e50652f262e08e2": {
     "model_module": "@jupyter-widgets/controls",
     "model_module_version": "1.5.0",
     "model_name": "DescriptionStyleModel",
     "state": {
      "_model_module": "@jupyter-widgets/controls",
      "_model_module_version": "1.5.0",
      "_model_name": "DescriptionStyleModel",
      "_view_count": null,
      "_view_module": "@jupyter-widgets/base",
      "_view_module_version": "1.2.0",
      "_view_name": "StyleView",
      "description_width": ""
     }
    },
    "be2c2a371fd746f1a9c54d1f118a2390": {
     "model_module": "@jupyter-widgets/controls",
     "model_module_version": "1.5.0",
     "model_name": "HBoxModel",
     "state": {
      "_dom_classes": [],
      "_model_module": "@jupyter-widgets/controls",
      "_model_module_version": "1.5.0",
      "_model_name": "HBoxModel",
      "_view_count": null,
      "_view_module": "@jupyter-widgets/controls",
      "_view_module_version": "1.5.0",
      "_view_name": "HBoxView",
      "box_style": "",
      "children": [
       "IPY_MODEL_5886680b1a4d4c20adfff9f10b4eb80e",
       "IPY_MODEL_f959c57f2f94471c9b5d800b644d69db",
       "IPY_MODEL_50cf6eac6fc646a5ac2c856d5d6b8c93"
      ],
      "layout": "IPY_MODEL_4d457ba32dc047fa94cfbcd12af7a7b5"
     }
    },
    "ccdfe10894894e65802e9958e40dffb0": {
     "model_module": "@jupyter-widgets/controls",
     "model_module_version": "1.5.0",
     "model_name": "DescriptionStyleModel",
     "state": {
      "_model_module": "@jupyter-widgets/controls",
      "_model_module_version": "1.5.0",
      "_model_name": "DescriptionStyleModel",
      "_view_count": null,
      "_view_module": "@jupyter-widgets/base",
      "_view_module_version": "1.2.0",
      "_view_name": "StyleView",
      "description_width": ""
     }
    },
    "de6e0370fdb54e4f88a1b3b6f39ca276": {
     "model_module": "@jupyter-widgets/base",
     "model_module_version": "1.2.0",
     "model_name": "LayoutModel",
     "state": {
      "_model_module": "@jupyter-widgets/base",
      "_model_module_version": "1.2.0",
      "_model_name": "LayoutModel",
      "_view_count": null,
      "_view_module": "@jupyter-widgets/base",
      "_view_module_version": "1.2.0",
      "_view_name": "LayoutView",
      "align_content": null,
      "align_items": null,
      "align_self": null,
      "border": null,
      "bottom": null,
      "display": null,
      "flex": null,
      "flex_flow": null,
      "grid_area": null,
      "grid_auto_columns": null,
      "grid_auto_flow": null,
      "grid_auto_rows": null,
      "grid_column": null,
      "grid_gap": null,
      "grid_row": null,
      "grid_template_areas": null,
      "grid_template_columns": null,
      "grid_template_rows": null,
      "height": null,
      "justify_content": null,
      "justify_items": null,
      "left": null,
      "margin": null,
      "max_height": null,
      "max_width": null,
      "min_height": null,
      "min_width": null,
      "object_fit": null,
      "object_position": null,
      "order": null,
      "overflow": null,
      "overflow_x": null,
      "overflow_y": null,
      "padding": null,
      "right": null,
      "top": null,
      "visibility": null,
      "width": null
     }
    },
    "e0a7e6d3b9d743dbbc8939c2fa1a235d": {
     "model_module": "@jupyter-widgets/controls",
     "model_module_version": "1.5.0",
     "model_name": "DescriptionStyleModel",
     "state": {
      "_model_module": "@jupyter-widgets/controls",
      "_model_module_version": "1.5.0",
      "_model_name": "DescriptionStyleModel",
      "_view_count": null,
      "_view_module": "@jupyter-widgets/base",
      "_view_module_version": "1.2.0",
      "_view_name": "StyleView",
      "description_width": ""
     }
    },
    "efc062bd85a4423ba661c822648e9a11": {
     "model_module": "@jupyter-widgets/controls",
     "model_module_version": "1.5.0",
     "model_name": "FloatProgressModel",
     "state": {
      "_dom_classes": [],
      "_model_module": "@jupyter-widgets/controls",
      "_model_module_version": "1.5.0",
      "_model_name": "FloatProgressModel",
      "_view_count": null,
      "_view_module": "@jupyter-widgets/controls",
      "_view_module_version": "1.5.0",
      "_view_name": "ProgressView",
      "bar_style": "success",
      "description": "",
      "description_tooltip": null,
      "layout": "IPY_MODEL_659a9c31541049f0beaad3723ac434bb",
      "max": 13,
      "min": 0,
      "orientation": "horizontal",
      "style": "IPY_MODEL_6b3a08831def4c67b608dfa7c2001e11",
      "value": 13
     }
    },
    "f1016778e6bc4555ba99c034304e0c64": {
     "model_module": "@jupyter-widgets/base",
     "model_module_version": "1.2.0",
     "model_name": "LayoutModel",
     "state": {
      "_model_module": "@jupyter-widgets/base",
      "_model_module_version": "1.2.0",
      "_model_name": "LayoutModel",
      "_view_count": null,
      "_view_module": "@jupyter-widgets/base",
      "_view_module_version": "1.2.0",
      "_view_name": "LayoutView",
      "align_content": null,
      "align_items": null,
      "align_self": null,
      "border": null,
      "bottom": null,
      "display": null,
      "flex": null,
      "flex_flow": null,
      "grid_area": null,
      "grid_auto_columns": null,
      "grid_auto_flow": null,
      "grid_auto_rows": null,
      "grid_column": null,
      "grid_gap": null,
      "grid_row": null,
      "grid_template_areas": null,
      "grid_template_columns": null,
      "grid_template_rows": null,
      "height": null,
      "justify_content": null,
      "justify_items": null,
      "left": null,
      "margin": null,
      "max_height": null,
      "max_width": null,
      "min_height": null,
      "min_width": null,
      "object_fit": null,
      "object_position": null,
      "order": null,
      "overflow": null,
      "overflow_x": null,
      "overflow_y": null,
      "padding": null,
      "right": null,
      "top": null,
      "visibility": null,
      "width": null
     }
    },
    "f959c57f2f94471c9b5d800b644d69db": {
     "model_module": "@jupyter-widgets/controls",
     "model_module_version": "1.5.0",
     "model_name": "FloatProgressModel",
     "state": {
      "_dom_classes": [],
      "_model_module": "@jupyter-widgets/controls",
      "_model_module_version": "1.5.0",
      "_model_name": "FloatProgressModel",
      "_view_count": null,
      "_view_module": "@jupyter-widgets/controls",
      "_view_module_version": "1.5.0",
      "_view_name": "ProgressView",
      "bar_style": "success",
      "description": "",
      "description_tooltip": null,
      "layout": "IPY_MODEL_de6e0370fdb54e4f88a1b3b6f39ca276",
      "max": 100,
      "min": 0,
      "orientation": "horizontal",
      "style": "IPY_MODEL_991f091932664e3e8fff4b579b0adb71",
      "value": 100
     }
    }
   }
  }
 },
 "nbformat": 4,
 "nbformat_minor": 0
}
