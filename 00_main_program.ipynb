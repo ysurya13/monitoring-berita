{
 "cells": [
  {
   "cell_type": "markdown",
   "metadata": {
    "id": "nl15yqDXsRcB"
   },
   "source": [
    "# SETTING ENVIRONMENT\n"
   ]
  },
  {
   "cell_type": "code",
   "execution_count": 34,
   "metadata": {
    "colab": {
     "base_uri": "https://localhost:8080/"
    },
    "executionInfo": {
     "elapsed": 11999,
     "status": "ok",
     "timestamp": 1758707035633,
     "user": {
      "displayName": "Monitoring Berita",
      "userId": "16755502473357078001"
     },
     "user_tz": -420
    },
    "id": "f8BqutX0SOd1",
    "outputId": "59a661d0-ddbb-412c-e919-2d09d938a9b6"
   },
   "outputs": [
    {
     "data": {
      "text/plain": [
       "\"# mount the colab with google drive\\nfrom google.colab import drive\\ndrive.mount('/content/drive')\""
      ]
     },
     "execution_count": 34,
     "metadata": {},
     "output_type": "execute_result"
    }
   ],
   "source": [
    "\"\"\"# mount the colab with google drive\n",
    "from google.colab import drive\n",
    "drive.mount('/content/drive')\"\"\""
   ]
  },
  {
   "cell_type": "code",
   "execution_count": 35,
   "metadata": {
    "executionInfo": {
     "elapsed": 125,
     "status": "ok",
     "timestamp": 1758707035761,
     "user": {
      "displayName": "Monitoring Berita",
      "userId": "16755502473357078001"
     },
     "user_tz": -420
    },
    "id": "eLOguPRQSRLN"
   },
   "outputs": [],
   "source": [
    "# set folder tempat kerja (current working directory)\n",
    "import os\n",
    "cwd = '/Users/yusufpradana/Library/CloudStorage/OneDrive-Personal/Pekerjaan BMN/05. 2025/98_monitoring_berita/monitoring-berita'\n",
    "# cwd = '/content/drive/MyDrive/Monitoring Berita'\n",
    "\n",
    "os.chdir(cwd)"
   ]
  },
  {
   "cell_type": "markdown",
   "metadata": {
    "id": "6ELnJl6msIPe"
   },
   "source": [
    "# INPUT PARAMETER PENCARIAN"
   ]
  },
  {
   "cell_type": "code",
   "execution_count": 36,
   "metadata": {
    "executionInfo": {
     "elapsed": 7,
     "status": "ok",
     "timestamp": 1758707067883,
     "user": {
      "displayName": "Monitoring Berita",
      "userId": "16755502473357078001"
     },
     "user_tz": -420
    },
    "id": "Ngu4o4ibVA_7"
   },
   "outputs": [],
   "source": [
    "# AI Model (deepseek/openai)\n",
    "model_name          = \"deepseek\"\n",
    "# Model version (openai only: gpt-3.5-turbo/gpt-4o-mini/gpt-5-nano/gpt-5-mini/gpt-5)\n",
    "model_version       = \"gpt-5-nano\"\n",
    "# Tanggal awal pencarian berita [YYYY-MM-DD]\n",
    "start_date          = \"2025-10-01\"\n",
    "# Tanggal akhir pencarian berita\n",
    "end_date            = \"2025-10-02\"\n",
    "# Keywords pencarian berita\n",
    "keywords_pencarian  = [\"purbaya\", \"menkeu\", \"kilang\"]\n",
    "# Keywords analisis topic\n",
    "keywords_topic      = [\"rokok ilegal\", \"makan bergizi gratis\", \"tax amnesty\", \"sidak BNI\", 'lainnya']\n",
    "# Jumlah halaman pencarian\n",
    "page_length         = 2"
   ]
  },
  {
   "cell_type": "markdown",
   "metadata": {
    "id": "wU3w7Y3nsMDO"
   },
   "source": [
    "### Menyimpan Parameter Pencarian"
   ]
  },
  {
   "cell_type": "code",
   "execution_count": 37,
   "metadata": {},
   "outputs": [],
   "source": [
    "# tandai waktu mulai proses\n",
    "import time \n",
    "start_process_time = time.time()"
   ]
  },
  {
   "cell_type": "code",
   "execution_count": 38,
   "metadata": {
    "executionInfo": {
     "elapsed": 16,
     "status": "ok",
     "timestamp": 1758707077919,
     "user": {
      "displayName": "Monitoring Berita",
      "userId": "16755502473357078001"
     },
     "user_tz": -420
    },
    "id": "Iz2G1ZfRU5M-"
   },
   "outputs": [],
   "source": [
    "from datetime import datetime, timedelta\n",
    "\n",
    "# Konversi string ke datetime\n",
    "start = datetime.strptime(start_date, \"%Y-%m-%d\")\n",
    "end = datetime.strptime(end_date, \"%Y-%m-%d\")\n",
    "\n",
    "# Buat list tanggal dari end_date ke start_date (descending)\n",
    "search_date = [(end - timedelta(days=i)).strftime(\"%Y-%m-%d\")\n",
    "               for i in range((end - start).days + 1)]"
   ]
  },
  {
   "cell_type": "code",
   "execution_count": 39,
   "metadata": {
    "colab": {
     "base_uri": "https://localhost:8080/"
    },
    "executionInfo": {
     "elapsed": 408,
     "status": "ok",
     "timestamp": 1758707078338,
     "user": {
      "displayName": "Monitoring Berita",
      "userId": "16755502473357078001"
     },
     "user_tz": -420
    },
    "id": "_doiDwPTSd9O",
    "outputId": "c4235f93-a13a-41b3-9312-57a09b667ab2"
   },
   "outputs": [
    {
     "name": "stdout",
     "output_type": "stream",
     "text": [
      "Config.json berhasil diperbarui: config.json\n"
     ]
    }
   ],
   "source": [
    "import json\n",
    "from pathlib import Path\n",
    "\n",
    "config_path = Path(\"config.json\")\n",
    "\n",
    "# Data baru yang ingin disimpan/diupdate\n",
    "variabel = {\n",
    "    \"search_date\": search_date,\n",
    "    \"keywords\": keywords_pencarian,\n",
    "    \"topic_keywords\":keywords_topic,\n",
    "    \"max_page_length\": page_length,\n",
    "    \"AI_name\": model_name,\n",
    "    \"model_version\": model_version\n",
    "}\n",
    "\n",
    "# Baca isi config.json lama (jika ada)\n",
    "if config_path.exists():\n",
    "    try:\n",
    "        with open(config_path, \"r\", encoding=\"utf-8\") as f:\n",
    "            config = json.load(f)\n",
    "    except Exception as e:\n",
    "        print(f\"Gagal membaca config.json: {e}\")\n",
    "        config = {}\n",
    "else:\n",
    "    config = {}\n",
    "\n",
    "# Update hanya key yang ada di `variabel`\n",
    "config.update(variabel)\n",
    "\n",
    "# Simpan kembali ke file\n",
    "with open(config_path, \"w\", encoding=\"utf-8\") as f:\n",
    "    json.dump(config, f, indent=4, ensure_ascii=False)\n",
    "\n",
    "print(f\"Config.json berhasil diperbarui: {config_path}\")\n"
   ]
  },
  {
   "cell_type": "markdown",
   "metadata": {
    "id": "ayYLnSVH_FUQ"
   },
   "source": [
    "# LANGKAH ANALISIS"
   ]
  },
  {
   "cell_type": "markdown",
   "metadata": {
    "id": "ZelF4LorrORT"
   },
   "source": [
    "## SCRAP DATA BERITA DI MEDIA ONLINE"
   ]
  },
  {
   "cell_type": "markdown",
   "metadata": {},
   "source": [
    "### Google News"
   ]
  },
  {
   "cell_type": "code",
   "execution_count": 40,
   "metadata": {},
   "outputs": [
    {
     "name": "stdout",
     "output_type": "stream",
     "text": [
      "Requirement already satisfied: googlenewsdecoder in /opt/anaconda3/lib/python3.12/site-packages (0.1.7)\n",
      "Requirement already satisfied: requests>=2.32.3 in /opt/anaconda3/lib/python3.12/site-packages (from googlenewsdecoder) (2.32.3)\n",
      "Requirement already satisfied: selectolax>=0.3.27 in /opt/anaconda3/lib/python3.12/site-packages (from googlenewsdecoder) (0.4.0)\n",
      "Requirement already satisfied: pysocks>=1.7.1 in /opt/anaconda3/lib/python3.12/site-packages (from googlenewsdecoder) (1.7.1)\n",
      "Requirement already satisfied: charset-normalizer<4,>=2 in /opt/anaconda3/lib/python3.12/site-packages (from requests>=2.32.3->googlenewsdecoder) (3.4.3)\n",
      "Requirement already satisfied: idna<4,>=2.5 in /opt/anaconda3/lib/python3.12/site-packages (from requests>=2.32.3->googlenewsdecoder) (3.7)\n",
      "Requirement already satisfied: urllib3<3,>=1.21.1 in /opt/anaconda3/lib/python3.12/site-packages (from requests>=2.32.3->googlenewsdecoder) (1.26.20)\n",
      "Requirement already satisfied: certifi>=2017.4.17 in /opt/anaconda3/lib/python3.12/site-packages (from requests>=2.32.3->googlenewsdecoder) (2025.1.31)\n"
     ]
    },
    {
     "name": "stderr",
     "output_type": "stream",
     "text": [
      "[INFO] Mulai scrape Google News RSS | queries=3 | max_items_per_query=200 | date_filters=['2025-10-02', '2025-10-01']\n",
      "[INFO] [QUERY] purbaya => https://news.google.com/rss/search?q=purbaya+when%3A7d&hl=id&gl=ID&ceid=ID:id\n",
      "[INFO] [QUERY] menkeu => https://news.google.com/rss/search?q=menkeu+when%3A7d&hl=id&gl=ID&ceid=ID:id\n",
      "[INFO] [QUERY] kilang => https://news.google.com/rss/search?q=kilang+when%3A7d&hl=id&gl=ID&ceid=ID:id\n"
     ]
    },
    {
     "name": "stdout",
     "output_type": "stream",
     "text": [
      "Decoded URL: https://www.cnbcindonesia.com/news/20251001132902-4-671902/angkat-jempol-purbaya-makan-di-warung-kaki-lima-usai-rapat-danantara\n",
      "Decoded URL: https://finance.detik.com/berita-ekonomi-bisnis/d-8138312/purbaya-ancam-ganti-dirjen-jika-masalah-kompensasi-tak-kelar-sebulan\n",
      "Decoded URL: https://news.ddtc.co.id/berita/nasional/1814109/dikritik-karena-tak-naikkan-tarif-cukai-rokok-begini-respons-purbaya\n",
      "Decoded URL: https://www.cnbcindonesia.com/news/20251001133616-4-671903/purbaya-makan-di-warung-kaki-lima-usai-rapat-danantara-intip-menunya\n",
      "Decoded URL: https://www.cnbcindonesia.com/news/20251001082323-4-671744/beda-jauh-purbaya-bocorkan-harga-asli-bbm-solar-bukan-rp6800-liter\n",
      "Decoded URL: https://finance.detik.com/energi/d-8138295/purbaya-ungkap-harga-asli-lpg-3-kg-hingga-pertalite\n",
      "Decoded URL: https://www.cnbcindonesia.com/news/20251001080550-4-671743/purbaya-ungkap-harga-asli-bbm-pertalite-ternyata-bukan-rp10000-liter\n",
      "Decoded URL: https://www.cnbcindonesia.com/news/20251001112841-4-671832/dibongkar-purbaya-harga-lpg-3-kg-terbaru-ternyata-sebesar-ini\n",
      "Decoded URL: https://news.ddtc.co.id/berita/nasional/1814141/inspeksi-jalur-hijau-secara-acak-purbaya-tak-ganggu-arus-perdagangan\n",
      "Decoded URL: https://ekbis.sindonews.com/read/1627519/33/purbaya-ancam-sidak-acak-ke-himbara-saya-muter-muter-biar-mereka-kapok-1759363855\n",
      "Decoded URL: https://www.neraca.co.id/article/225907/menkeu-purbaya-beberkan-data-subsidi-energi\n",
      "Decoded URL: https://www.metrotvnews.com/read/KvJCLX1y-podium-media-indonesia-purbaya-punya-gaya\n",
      "Decoded URL: https://www.tempo.co/ekonomi/purbaya-akan-inspeksi-secara-acak-jalur-hijau-bea-dan-cukai-2075355\n",
      "Decoded URL: https://www.cnbcindonesia.com/news/20251001140307-4-671942/foto-gondrong-viral-di-medsos-menkeu-purbaya-ungkap-itu-hasil-ai\n",
      "Decoded URL: https://www.cnbcindonesia.com/news/20251001104656-4-671804/susul-airlangga-purbaya-tiba-di-kantor-danantara\n",
      "Decoded URL: https://rmol.id/politik/read/2025/10/01/681842/menkeu-purbaya-kalau-ketahuan-awas\n",
      "Decoded URL: https://money.kompas.com/read/2025/10/01/121121526/tanggapi-kritik-purbaya-pertamina-sebut-proyek-kilang-rdmp-balikpapan-sudah\n",
      "Decoded URL: https://news.ddtc.co.id/berita/nasional/1814137/gelontorkan-stimulus-purbaya-klaim-tak-akan-tambah-anggaran-belanja\n",
      "Decoded URL: https://www.metrotvnews.com/read/NnjCePOw-alasan-menkeu-purbaya-tolak-kenaikan-cukai-rokok-2026-jadi-berita-terpopuler-ekonomi\n",
      "Decoded URL: https://www.cnnindonesia.com/ekonomi/20250930153056-532-1279350/purbaya-masih-bingung-salurkan-sisa-rp250-t-uang-negara-ngendap-di-bi\n",
      "Decoded URL: https://www.cnbcindonesia.com/market/20251001130929-19-671892/video-purbaya-tegaskan-tidak-buat-kebijakan-kenaikan-bunga-valas-4\n",
      "Decoded URL: https://ekbis.sindonews.com/read/1627355/34/foto-gondrong-viral-di-medsos-menkeu-purbaya-nanti-gue-panjangin-deh-1759309852\n",
      "Decoded URL: https://ekonomi.espos.id/properti-jadi-salah-satu-penopang-purbaya-yakin-ekonomi-tumbuh-55-persen-2147001\n",
      "Decoded URL: https://www.tempo.co/politik/koalisi-sipil-kritik-langkah-menkeu-purbaya-yang-tak-naikkan-cukai-rokok-2074958\n",
      "Decoded URL: https://www.cnbcindonesia.com/news/20251002051931-4-672126/purbaya-warning-importir-nakal-jangan-main-main-awas\n",
      "Decoded URL: https://ekbis.sindonews.com/read/1627327/34/santainya-menkeu-purbaya-makan-di-warung-kaki-lima-usai-rapat-danantara-1759306244\n",
      "Decoded URL: https://www.cnbcindonesia.com/news/20251001145148-4-671960/soal-pembahasan-bangun-kilang-minyak-purbaya-tak-ada-silang-pendapat\n",
      "Decoded URL: https://nasional.kontan.co.id/news/impor-minyak-indonesia-membengkak-purbaya-salahkan-pertamina\n",
      "Decoded URL: https://ikn.kompas.com/read/2025/10/02/070000387/menkeu-purbaya-dukung-keberlanjutan-ikn-lewat-3-pilar-pendanaan\n",
      "Decoded URL: https://www.cnbcindonesia.com/news/20250930153307-4-671603/purbaya-cek-langsung-proyek-bumn-tak-jalan-bakal-dapat-ganjaran\n",
      "Decoded URL: https://fahum.umsu.ac.id/info/bansos-subsidi-2026-dapat-kucuran-rp900-t-ini-kata-purbaya/\n",
      "Decoded URL: https://finance.detik.com/berita-ekonomi-bisnis/d-8139931/purbaya-cek-acak-jalur-hijau-impor-mereka-ketakutan-sembunyikan-apa-tuh\n",
      "Decoded URL: https://www.cnbcindonesia.com/news/20251001184644-8-672084/video-purbaya-ancam-tarik-dana-rumah-subsidi-jika-serapan-rendah\n",
      "Decoded URL: https://www.cnbcindonesia.com/news/20251001074810-4-671730/purbaya-soal-cukai-rokok-saya-tak-mau-industri-mati-tapi-ilegal-hidup\n",
      "Decoded URL: https://www.metrotvnews.com/play/K5nC7o2j-menkeu-purbaya-dapat-pujian-dari-konglomerat-as-ray-dalio\n",
      "Decoded URL: https://20.detik.com/detikupdate/20251001-251001008/video-purbaya-soal-cukai-rokok-tak-naik-masyarakat-butuh-penghidupan\n",
      "Decoded URL: https://tirto.id/bangun-kilang-baru-memang-sesulit-itu-pak-purbaya-hiH5\n",
      "Decoded URL: https://finance.detik.com/berita-ekonomi-bisnis/d-8138688/podcast-tentang-purbaya-dan-gaya-koboinya-pelototi-anggaran\n",
      "Decoded URL: https://www.dunia-energi.com/pertamina-dituding-malas-bangun-kilang-oleh-menkeu-satu-rdmp-balikpapan-bakal-rampung-tahun-ini/\n",
      "Decoded URL: https://www.cnbcindonesia.com/news/20251001132902-4-671902/angkat-jempol-purbaya-makan-di-warung-kaki-lima-usai-rapat-danantara\n",
      "Decoded URL: https://www.detik.com/bali/bisnis/d-8138854/menkeu-purbaya-beberkan-harga-asli-lpg-3-kg-pertalite-tanpa-subsidi\n",
      "Decoded URL: https://www.neraca.co.id/article/225907/menkeu-purbaya-beberkan-data-subsidi-energi\n",
      "Decoded URL: https://www.metrotvnews.com/read/NnjCePOw-alasan-menkeu-purbaya-tolak-kenaikan-cukai-rokok-2026-jadi-berita-terpopuler-ekonomi\n",
      "Decoded URL: https://epaper.mediaindonesia.com/detail/menkeu-diminta-kaji-ulang-cukai-rokok\n",
      "Decoded URL: https://ikn.kompas.com/read/2025/10/02/070000387/menkeu-purbaya-dukung-keberlanjutan-ikn-lewat-3-pilar-pendanaan\n",
      "Decoded URL: https://www.antaranews.com/berita/5145093/menkeu-yakin-ekonomi-tumbuh-55-persen-properti-salah-satu-pendorong\n",
      "Decoded URL: https://www.cnbcindonesia.com/news/20251001140307-4-671942/foto-gondrong-viral-di-medsos-menkeu-purbaya-ungkap-itu-hasil-ai\n",
      "Decoded URL: https://www.tempo.co/politik/koalisi-sipil-kritik-langkah-menkeu-purbaya-yang-tak-naikkan-cukai-rokok-2074958\n",
      "Decoded URL: https://www.metrotvnews.com/play/K5nC7o2j-menkeu-purbaya-dapat-pujian-dari-konglomerat-as-ray-dalio\n",
      "Decoded URL: https://rmol.id/politik/read/2025/10/01/681842/menkeu-purbaya-kalau-ketahuan-awas\n",
      "Decoded URL: https://ekbis.sindonews.com/read/1627327/34/santainya-menkeu-purbaya-makan-di-warung-kaki-lima-usai-rapat-danantara-1759306244\n",
      "Decoded URL: https://ekbis.sindonews.com/read/1627355/34/foto-gondrong-viral-di-medsos-menkeu-purbaya-nanti-gue-panjangin-deh-1759309852\n",
      "Decoded URL: https://www.kedaipena.com/video-menkeu-purbaya-kecewa-pertamina-tidak-pernah-bangun-kilang-baru/\n",
      "Decoded URL: https://www.metrotvnews.com/play/koGCdpBZ-menkeu-purbaya-optimistis-pertumbuhan-ekonomi-kuartal-iv-2025-di-atas-5-5\n",
      "Decoded URL: https://www.metrotvnews.com/play/b1oCVR2o-menkeu-purbaya-kesal-indonesia-tak-punya-kilang-baru\n",
      "Decoded URL: https://www.metrotvnews.com/play/kewCMEvo-presiden-prabowo-pantau-menkeu-purbaya-via-medsos\n",
      "Decoded URL: https://ekonomi.republika.co.id/berita/t3fgwj370/menkeu-purbaya-santai-hadapi-kritik-karangan-bunga-soal-cukai-rokok\n",
      "Decoded URL: https://rmol.id/politik/read/2025/10/01/681844/fsppb-pernyataan-menkeu-purbaya-soal-bakar-kilang-ganggu-kepercayaan-publik\n",
      "Decoded URL: https://ekbis.sindonews.com/read/1627477/34/fsppb-minta-klarifikasi-menkeu-purbaya-soal-pernyataan-kilang-dibakar-1759331458\n",
      "Decoded URL: https://www.cnbcindonesia.com/news/20250930202102-8-671689/video-cukai-rokok-2026-tak-naik-diprotes-menkeu-purbaya-buka-suara\n",
      "Decoded URL: https://pasardana.id/news/2025/10/1/menkeu-purbaya-janji-utang-tunggakan-ke-bumn-rp55-triliun-lunas-bulan-ini/\n",
      "Decoded URL: https://rri.co.id/nasional/1875093/fsppb-minta-pernyataan-menkeu-soal-kebakaran-kilang-diluruskan\n",
      "Decoded URL: https://kaltimtoday.co/menkeu-purbaya-tegaskan-subsidi-bumn-tidak-boleh-molor-siap-copot-dirjen-jika-terlambat\n",
      "Decoded URL: https://video.kompas.com/watch/1879873/sampai-angkat-jempol-menkeu-purbaya-makan-siang-di-warung-kaki-lima-ini-menunya\n",
      "Decoded URL: https://www.kompas.tv/nasional/620520/menkeu-purbaya-cerita-ray-dalio-puji-kebijakannya-rupanya-ngikutin-saya-di-tiktok\n",
      "Decoded URL: https://megapolitan.antaranews.com/berita/445769/menkeu-purbaya-yakin-ekonomi-tumbuh-55-persen-sektor-properti-salah-satu-pendorong\n",
      "Decoded URL: https://indonesiainside.id/ekonomi/2025/10/01/menkeu-yakin-pertumbuhan-ekonomi-2025-tembus-55-persen-sektor-properti-jadi-penopang\n",
      "Decoded URL: https://money.kompas.com/read/2025/10/02/094815926/kala-menkeu-purbaya-makan-ayam-penyet-sambel-ijo-di-warung-usai-rapat-pedes\n",
      "Decoded URL: https://www.kedaipena.com/menkeu-purbaya-didorong-lakukan-reformasi-dpr-sebut-tata-kelola-pajak-amburadul/\n",
      "Decoded URL: https://www.kedaipena.com/sebut-menkeu-purbaya-keliru-ceri-masalah-indonesia-bukan-kilang-tapi-lifting/\n",
      "Decoded URL: https://www.inews.id/news/nasional/kaget-menkeu-purbaya-makan-siang-di-kantin-kantor-seperti-karyawan-biasa\n",
      "Decoded URL: https://jatim.antaranews.com/berita/982581/menkeu-bakal-periksa-acak-jalur-hijau-pastikan-impor-tetap-lancar\n",
      "Decoded URL: https://www.kompas.tv/nasional/620701/sampai-angkat-jempol-menkeu-purbaya-makan-siang-di-warung-kaki-lima-usai-rapat\n",
      "Decoded URL: https://investor.id/macroeconomy/411538/menkeu-purbaya-pamer-dapat-pujian-dari-ray-dalio\n",
      "Decoded URL: https://www.kompas.tv/nasional/620543/menkeu-purbaya-beber-alasan-sidak-bni-saya-muter-acak-biar-mereka-kapok\n",
      "Decoded URL: https://www.matamata.com/news/2025/10/01/071500/menkeu-yakin-ekonomi-2025-tumbuh-55-persen-properti-diproyeksi-jadi-sektor-unggulan\n",
      "Decoded URL: https://pasardana.id/news/2025/10/1/menkeu-minta-dpr-bantu-awasi-pertamina-karena-kita-rugi-besar/\n",
      "Decoded URL: https://www.liputan6.com/news/read/6172970/diam-diam-prabowo-pantau-kinerja-menkeu-purbaya-via-medsos\n",
      "Decoded URL: https://mediaindonesia.com/ekonomi/816323/menkeu-purbaya-pertumbuhan-ekonomi-2025-bisa-tembus-55-persen\n",
      "Decoded URL: https://www.rctiplus.com/news/detail/terkini/5239866/kaget--menkeu-purbaya-makan-siang-di-kantin-kantor-seperti-karyawan-biasa\n",
      "Decoded URL: https://www.metrotvnews.com/read/KvJCLX1y-podium-media-indonesia-purbaya-punya-gaya\n",
      "Decoded URL: https://surabaya.kompas.com/read/2025/10/01/111353878/kiai-jatim-dukung-menkeu-purbaya-berantas-rokok-ilegal\n",
      "Decoded URL: https://www.rctiplus.com/news/detail/gaya-hidup/5239600/model-terkenal-di-zamannya--ini-profil-istri-menkeu-purbaya\n",
      "Decoded URL: https://asianpost.id/menkeu-ada-ruang-tumbuh-65-persen-tapi-perbaiki-sistem-ekonomi/\n",
      "Decoded URL: https://www.kompas.tv/nasional/620526/saat-menkeu-purbaya-diinterupsi-di-dpr-bicara-soal-subsidi-tolong-bumn-menghadap-kami-pak\n",
      "Decoded URL: https://www.inilah.com/subsidi-bbm-tembus-rp145-triliun-begini-rinciannya-menurut-menkeu-purbaya\n",
      "Decoded URL: https://lampung.antaranews.com/berita/799701/menkeu-bakal-realokasi-anggaran-untuk-biayai-stimulus-ekonomi\n",
      "Decoded URL: https://nasional.kontan.co.id/news/tanpa-anggaran-baru-ini-jurus-menkeu-purbaya-biayai-stimulus-ekonomi-akhir-tahun\n",
      "Decoded URL: https://www.liputan6.com/bisnis/read/6173328/miliarder-ray-dalio-puji-kebijakan-menkeu-purbaya-yudhi-sadewa\n",
      "Decoded URL: https://www.kompas.tv/nasional/620637/subsidi-bbm-membengkak-menkeu-purbaya-pertamina-malas-bangun-kilang-minyak\n",
      "Decoded URL: https://www.kompas.tv/nasional/620495/menkeu-purbaya-blak-blakan-usai-diadukan-bumn-saya-bukan-juru-bayar-saja\n",
      "Decoded URL: https://snips.stockbit.com/snips-terbaru/-menkeu-optimis-ekonomi-ri-55-yoy-pada-4q25\n",
      "Decoded URL: https://www.liputan6.com/bisnis/read/6173441/menkeu-purbaya-tagih-janji-pertamina-bangun-7-kilang-dalam-5-tahun-saya-bukan-juru-bayar\n",
      "Decoded URL: https://www.dunia-energi.com/pertamina-dituding-malas-bangun-kilang-oleh-menkeu-satu-rdmp-balikpapan-bakal-rampung-tahun-ini/\n",
      "Decoded URL: https://www.cnbcindonesia.com/news/20251001223137-4-672112/breaking-kilang-minyak-di-dumai-kebakaran-ini-kata-pertamina\n",
      "Decoded URL: https://www.tempo.co/ekonomi/kilang-pertamina-dumai-terbakar-2075306\n",
      "Decoded URL: https://ekonomi.bisnis.com/read/20251001/44/1916676/breaking-news-kilang-dumai-milik-pertamina-terbakar\n",
      "Decoded URL: https://20.detik.com/detikupdate/20251002-251002003/video-kilang-minyak-dumai-kebakaran-pertamina-fokus-pemadaman-dan-isolasi\n",
      "Decoded URL: https://www.cnnindonesia.com/nasional/20251001221448-20-1279925/kilang-minyak-di-dumai-terbakar-pertamina-buka-suara\n",
      "Decoded URL: https://www.cakaplah.com/berita/baca/128261/2025/10/02/kebakaran-di-kilang-dumai-berhasil-ditangani-tak-ada-korban-jiwa\n",
      "Decoded URL: https://rri.co.id/riau/daerah/1875197/ledakan-guncang-kilang-pertamina-dumai-warga-panik\n",
      "Decoded URL: https://tirto.id/bangun-kilang-baru-memang-sesulit-itu-pak-purbaya-hiH5\n",
      "Decoded URL: https://mediacenter.riau.go.id/read/93564/kilang-minyak-di-dumai-meledak-manager-pertam.html\n",
      "Decoded URL: https://riauaktual.com/news/detail/110348/kilang-pertamina-ru-ii-dumai-meledak-api-dan-getaran-bikin-panik\n",
      "Decoded URL: https://www.dunia-energi.com/dirut-kpi-pimpin-langsung-investigasi-kebakaran-kilang-dumai/\n",
      "Decoded URL: https://www.tempo.co/ekonomi/kilang-dumai-kembali-terbakar-penyebab-belum-diketahui-2075305\n",
      "Decoded URL: https://www.detik.com/bali/berita/d-8140655/kilang-pertamina-dumai-kebakaran-penyebab-masih-diselidiki\n",
      "Decoded URL: https://www.cnnindonesia.com/ekonomi/20251002033502-85-1279942/kebakaran-kilang-minyak-pertamina-dumai-berhasil-dipadamkan\n",
      "Decoded URL: https://money.kompas.com/read/2025/10/01/080353726/purbaya-cap-pertamina-malas-malasan-bangun-kilang\n",
      "Decoded URL: https://money.kompas.com/read/2025/10/01/225757126/kilang-dumai-terbakar-pertamina-pastikan-penanganan-cepat\n",
      "Decoded URL: https://finance.detik.com/energi/d-8140572/kilang-dumai-kebakaran-pertamina-langsung-turun-tangan\n",
      "Decoded URL: https://mediacenter.riau.go.id/read/93565/tim-pemadam-gerak-cepat-kebakaran-di-kilang-p.html\n",
      "Decoded URL: https://www.dunia-energi.com/kebakaran-terjadi-di-kilang-dumai-milik-pertamina/\n",
      "Decoded URL: https://www.dunia-energi.com/kebaran-di-kilang-dumai-milik-pertamina/\n",
      "Decoded URL: https://www.cnbcindonesia.com/news/20251001231111-7-672116/detik-detik-kebakaran-di-kilang-minyak-dumai-milik-pertamina\n",
      "Decoded URL: https://www.cnbcindonesia.com/news/20251001235403-4-672122/pertamina-berhasil-padamkan-api-kebakaran-di-kilang-minyak-dumai\n",
      "Decoded URL: https://www.ruangenergi.com/jawab-kritik-proyek-kilang-balikpapan-tembus-965-persen-siap-beroperasi/\n",
      "Decoded URL: https://www.dunia-energi.com/fsppb-menteri-keuangan-harus-klarifikasi-pernyataan-soal-kilang-reintegrasi-pertamina-harga-mati/\n",
      "Decoded URL: https://www.cnbcindonesia.com/news/20251002081053-4-672156/sempat-terbakar-ini-profil-kilang-minyak-dumai-pertamina\n",
      "Decoded URL: https://www.beritasatu.com/nusantara/2927492/6-fakta-kebakaran-kilang-pertamina-dumai\n",
      "Decoded URL: https://www.cnbcindonesia.com/news/20251001224939-4-672115/kilang-dumai-milik-pertamina-kebakaran-mengolah-170000-barel-minyak\n",
      "Decoded URL: https://www.tempo.co/ekonomi/proyek-optimalisasi-kilang-balikpapan-memasuki-tahap-uji-coba-2075062\n",
      "Decoded URL: https://www.ruangenergi.com/atasi-kejadian-kilang-dumai-fokus-upayakan-pemadaman/\n",
      "Decoded URL: https://industri.kontan.co.id/news/studi-kelayakan-pembangunan-17-kilang-pertamina-hampir-rampung-ini-lokasinya\n",
      "Decoded URL: https://bercahayafm.cilacapkab.go.id/konsisten-berdayakan-masyarakat-pedesaan-kilang-cilacap-raih-csr-pengembangan-desa-awards-2025/\n",
      "Decoded URL: https://www.antaranews.com/berita/5147609/kebakaran-di-kilang-pertamina-dumai-disertai-ledakan-keras\n",
      "Decoded URL: https://www.cakaplah.com/berita/baca/128257/2025/10/01/kilang-pertamina-dumai-terbakar-ledakan-keras-bikin-warga-panik\n",
      "Decoded URL: https://www.cnbcindonesia.com/news/20251001145148-4-671960/soal-pembahasan-bangun-kilang-minyak-purbaya-tak-ada-silang-pendapat\n",
      "Decoded URL: https://www.metrotvnews.com/read/NP6C3MmE-kebakaran-dan-ledakan-terjadi-di-kilang-pertamina-dumai\n",
      "Decoded URL: https://ekonomi.bisnis.com/read/20251002/44/1916689/tak-ada-korban-jiwa-kebakaran-di-kilang-dumai-berhasil-ditangani\n",
      "Decoded URL: https://www.antaranews.com/berita/5145645/proyek-rdmp-kilang-balikpapan-masuki-tahap-uji-operasi\n",
      "Decoded URL: https://ekbis.sindonews.com/read/1627581/34/video-sebut-pertamina-malas-bangun-kilang-baru-viral-begini-tanggapan-purbaya-1759371047\n",
      "Decoded URL: https://nasional.kontan.co.id/news/purbaya-minta-pertamina-ngebut-bangun-kilang-biar-hemat-subsidi\n",
      "Decoded URL: https://ekonomi.bisnis.com/read/20251001/9/1916582/purbaya-akan-temui-rosan-dorong-pertamina-bangun-kilang-minyak\n",
      "Decoded URL: https://money.kompas.com/read/2025/10/02/002003426/kebakaran-kilang-dumai-cepat-padam-pertamina-tidak-ada-korban-jiwa-operasional\n",
      "Decoded URL: https://news.harianjogja.com/read/2025/10/01/500/1230283/bahlil-pembangunan-17-kilang-minyak-tahap-studi-kelayakan\n",
      "Decoded URL: https://industri.kontan.co.id/news/kilang-minyak-milik-pertamina-terbakar\n",
      "Decoded URL: https://rri.co.id/nasional/1873358/soroti-impor-energi-purbaya-minta-pertamina-bangun-kilang\n",
      "Decoded URL: https://kumparan.com/kumparanbisnis/purbaya-minta-pertamina-percepat-rencana-bangun-kilang-baru-biar-hemat-subsidi-25xdeN83RIY\n",
      "Decoded URL: https://www.antaranews.com/berita/5146233/purbaya-sebut-tak-ada-silang-pendapat-soal-permintaan-bangun-kilang\n",
      "Decoded URL: https://finance.detik.com/energi/d-8140656/kebakaran-kilang-dumai-berhasil-ditangani-pertamina-pastikan-operasional-aman\n",
      "Decoded URL: https://validnews.id/ekonomi/purbaya-tak-ada-silang-pendapat-dengan-pertamina-soal-bangun-kilang\n",
      "Decoded URL: https://rri.co.id/daerah/1875719/kilang-dumai-pastikan-insiden-aman-terkendali\n",
      "Decoded URL: https://www.digivestasi.com/news/detail/bisnis_ekonomi/soal-pembangunan-kilang-minyak-purbaya-tegaskan-tak-ada-silang-pendapat\n",
      "Decoded URL: https://www.detik.com/sumut/berita/d-8140812/kilang-minyak-di-dumai-meledak-polisi-pertamina-gerak-cepat-tangani\n",
      "Decoded URL: https://ekbis.sindonews.com/read/1627477/34/fsppb-minta-klarifikasi-menkeu-purbaya-soal-pernyataan-kilang-dibakar-1759331458\n",
      "Decoded URL: https://www.antarafoto.com/id/view/2635805/kebakaran-kilang-minyak-pertamina-di-dumai\n",
      "Decoded URL: https://ekbis.sindonews.com/read/1627365/34/purbaya-desak-pertamina-ngebut-bangun-kilang-itu-memang-kewajiban-mereka-1759313443\n",
      "Decoded URL: https://rri.co.id/daerah/1875207/kilang-pertamina-dumai-terbakar-warga-panik-dan-berhamburan\n",
      "Decoded URL: https://ekonomi.bisnis.com/read/20251001/44/1916682/kilang-minyak-dumai-punya-pertamina-2-kali-terbakar-dalam-2-tahun\n",
      "Decoded URL: https://www.antaranews.com/berita/5147461/kilang-dumai-padamkan-kebakaran-di-salah-satu-unitnya\n",
      "Decoded URL: https://kumparan.com/kumparannews/kilang-minyak-di-dumai-terbakar-pertamina-isolasi-area-25xmCQMw8WV\n",
      "Decoded URL: https://listrikindonesia.com/detail/18054/pertamina-diklaim-bikin-indonesia-rugi-besar-karena-malas-bangun-kilang\n",
      "Decoded URL: https://money.kompas.com/read/2025/10/01/193942326/bahlil-sebut-studi-kelayakan-17-kilang-minyak-hampir-final\n",
      "Decoded URL: https://www.detik.com/sumut/bisnis/d-8140736/kilang-di-dumai-terbakar-pertamina-pastikan-sudah-berhasil-ditangani\n",
      "Decoded URL: https://www.metrotvnews.com/play/NG9CQOWM-kebakaran-kilang-minyak-di-dumai-masih-terkendali\n",
      "Decoded URL: https://validnews.id/ekonomi/kilang-dumai-terbakar-penyebab-belum-diketahui\n",
      "Decoded URL: https://rri.co.id/bengkalis/daerah/1875690/kilang-dumai-pastikan-pasokan-bbm-aman-terkendali\n",
      "Decoded URL: https://industri.kontan.co.id/news/progres-capai-965-proyek-kilang-rdmp-balikpapan-masuki-tahap-uji-coba\n",
      "Decoded URL: https://daerah.sindonews.com/read/1627493/174/kilang-pertamina-di-dumai-meledak-dan-terbakar-1759335040\n",
      "Decoded URL: https://www.kedaipena.com/video-menkeu-purbaya-kecewa-pertamina-tidak-pernah-bangun-kilang-baru/\n",
      "Decoded URL: https://ekonomi.bisnis.com/read/20251002/44/1916745/kilang-minyak-dumai-kebakaran-ini-kata-pertamina-soal-stok-bbm\n",
      "Decoded URL: https://kumparan.com/kumparanbisnis/purbaya-singgung-ri-tak-bangun-kilang-baru-sejak-1988-cuma-impor-dari-singapura-25xZg8vEMIj\n",
      "Decoded URL: https://www.waspada.id/nusantara/kilang-pertamina-dumai-terbakar-warga-panik-dengar-ledakan/\n",
      "Decoded URL: https://rri.co.id/daerah/1875776/kebakaran-kilang-dumai-tidak-menimbulkan-korban-jiwa\n",
      "Decoded URL: https://sumbar.antaranews.com/amp/berita/716289/kebakaran-di-kilang-pertamina-dumai-warga-dengar-ledakan\n",
      "Decoded URL: https://riau.suara.com/read/2025/10/02/003337/sejarah-kilang-minyak-pertamina-di-dumai-kini-kembali-terbakar\n",
      "Decoded URL: https://www.metrotvnews.com/play/b1oCVR2o-menkeu-purbaya-kesal-indonesia-tak-punya-kilang-baru\n",
      "Decoded URL: https://nasional.kontan.co.id/news/tak-bangun-kilang-baru-purbaya-murka-ke-pertamina-karena-impor-minyak-ri-bengkak\n",
      "Decoded URL: https://riau.suara.com/read/2025/10/02/000341/kilang-minyak-dumai-meledak-pertamina-fokus-pemadaman\n",
      "Decoded URL: https://kumparan.com/kumparanbisnis/kilang-rdmp-balikpapan-siap-uji-coba-mesin-pengolah-sisa-minyak-jadi-bensin-lpg-25xYpZ5Dju5\n",
      "Decoded URL: https://rri.co.id/nasional/1875093/fsppb-minta-pernyataan-menkeu-soal-kebakaran-kilang-diluruskan\n",
      "Decoded URL: https://regional.kompas.com/read/2025/10/02/094652978/soal-penyebab-kebakaran-kilang-minyak-pertamina-di-dumai-polisi-tunggu\n",
      "Decoded URL: https://money.kompas.com/read/2025/10/01/224737026/kilang-dumai-milik-pertamina-kebakaran\n",
      "Decoded URL: https://money.kompas.com/read/2025/10/01/121121526/pertamina-sebut-proyek-kilang-rdmp-balikpapan-sudah-965-persen?page=all\n",
      "Decoded URL: https://pasardana.id/news/2025/10/2/respon-permintaan-menkeu-bangun-kilang-minyak-baru-bahlil-17-kilang-studi-kelayakannya-hampir-final/\n",
      "Decoded URL: https://kumparan.com/kumparanbisnis/pertamina-pastikan-pasokan-bbm-dari-kilang-dumai-tetap-aman-25xv2M7KVMv\n",
      "Decoded URL: https://daerah.sindonews.com/read/1627497/174/kebakaran-di-kilang-dumai-berhasil-diatasi-tidak-ada-korban-1759338626\n",
      "Decoded URL: https://kumparan.com/kumparanbisnis/bahlil-ungkap-studi-kelaikan-pembangunan-17-kilang-minyak-hampir-rampung-25xf9w4TILg\n",
      "Decoded URL: https://www.kedaipena.com/sebut-menkeu-purbaya-keliru-ceri-masalah-indonesia-bukan-kilang-tapi-lifting/\n"
     ]
    },
    {
     "name": "stderr",
     "output_type": "stream",
     "text": [
      "[INFO] Selesai. Tersimpan: /Users/yusufpradana/Library/CloudStorage/OneDrive-Personal/Pekerjaan BMN/05. 2025/98_monitoring_berita/monitoring-berita/daftar_berita/google_news_rss.xlsx (181 baris)\n"
     ]
    },
    {
     "name": "stdout",
     "output_type": "stream",
     "text": [
      "Decoded URL: https://www.inilah.com/rampungkan-kunci-pendukung-kilang-rdmp-balikpapan-siap-uji-operasi-rfcc\n"
     ]
    }
   ],
   "source": [
    "file_loc = os.path.join(cwd, 'tarik_daftar_berita', 'list_googlenews.ipynb')\n",
    "\n",
    "%run \"$file_loc\""
   ]
  },
  {
   "cell_type": "markdown",
   "metadata": {
    "id": "PgAoP36AsoBi"
   },
   "source": [
    "## MENGGABUNGKAN DATA"
   ]
  },
  {
   "cell_type": "markdown",
   "metadata": {},
   "source": [
    "### Konsolidasi Data Url Berita"
   ]
  },
  {
   "cell_type": "code",
   "execution_count": 41,
   "metadata": {
    "colab": {
     "base_uri": "https://localhost:8080/",
     "height": 678,
     "referenced_widgets": [
      "03e742985f574beaa5d0606d9015fadb",
      "1944dc8d32c74470aa729da06d606f7c",
      "efc062bd85a4423ba661c822648e9a11",
      "0229bd90bd3d46b59c025a905c5b9ce2",
      "f1016778e6bc4555ba99c034304e0c64",
      "81450a4bf4bf4353bc4794a2537493ec",
      "929fe39a058f4edfa29150abe40f1feb",
      "659a9c31541049f0beaad3723ac434bb",
      "6b3a08831def4c67b608dfa7c2001e11",
      "498f085853c24829affb231886434e6e",
      "9d8f96ed7e8244ee9e50652f262e08e2"
     ]
    },
    "executionInfo": {
     "elapsed": 4193,
     "status": "ok",
     "timestamp": 1758707738875,
     "user": {
      "displayName": "Monitoring Berita",
      "userId": "16755502473357078001"
     },
     "user_tz": -420
    },
    "id": "EiYxfVGUtVvl",
    "outputId": "ad5a6d55-a384-4eb2-a034-428f60475b22"
   },
   "outputs": [
    {
     "data": {
      "application/vnd.jupyter.widget-view+json": {
       "model_id": "5b0bfacecf52454fb60568b876c9ed4c",
       "version_major": 2,
       "version_minor": 0
      },
      "text/plain": [
       "Membaca Excel:   0%|          | 0/1 [00:00<?, ?file/s]"
      ]
     },
     "metadata": {},
     "output_type": "display_data"
    },
    {
     "name": "stderr",
     "output_type": "stream",
     "text": [
      "[INFO] Duplikat dihapus: 19 baris | Total akhir: 162\n",
      "[INFO] Selesai gabung. Total baris: 162 | File terbaca: 1\n",
      "[INFO] Normalisasi selesai. Total baris: 162 | Berhasil: 162 | Gagal: 0\n",
      "[INFO] Filter judul < 40 chars: dihapus 0 baris | sisa: 162\n",
      "[INFO] Config berhasil diperbarui: /Users/yusufpradana/Library/CloudStorage/OneDrive-Personal/Pekerjaan BMN/05. 2025/98_monitoring_berita/monitoring-berita/config.json\n"
     ]
    },
    {
     "name": "stdout",
     "output_type": "stream",
     "text": [
      "File berhasil disimpan: /Users/yusufpradana/Library/CloudStorage/OneDrive-Personal/Pekerjaan BMN/05. 2025/98_monitoring_berita/monitoring-berita/konsolidasi_berita/hasil_gabungan_20251002_100935.csv\n"
     ]
    }
   ],
   "source": [
    "file_loc = os.path.join(cwd, '01_konsolidasi_data_berita.ipynb')\n",
    "\n",
    "%run \"$file_loc\""
   ]
  },
  {
   "cell_type": "markdown",
   "metadata": {
    "id": "-BWB0loXQGL-"
   },
   "source": [
    "## BACA BERITA"
   ]
  },
  {
   "cell_type": "markdown",
   "metadata": {},
   "source": [
    "### Membaca Data Url Berita"
   ]
  },
  {
   "cell_type": "code",
   "execution_count": 42,
   "metadata": {
    "colab": {
     "base_uri": "https://localhost:8080/",
     "height": 217,
     "referenced_widgets": [
      "be2c2a371fd746f1a9c54d1f118a2390",
      "5886680b1a4d4c20adfff9f10b4eb80e",
      "f959c57f2f94471c9b5d800b644d69db",
      "50cf6eac6fc646a5ac2c856d5d6b8c93",
      "4d457ba32dc047fa94cfbcd12af7a7b5",
      "280f90cef3bf4a64855f7d5800d45307",
      "e0a7e6d3b9d743dbbc8939c2fa1a235d",
      "de6e0370fdb54e4f88a1b3b6f39ca276",
      "991f091932664e3e8fff4b579b0adb71",
      "99c7711a32504f1280c53abfd6b839c5",
      "ccdfe10894894e65802e9958e40dffb0"
     ]
    },
    "executionInfo": {
     "elapsed": 83900,
     "status": "ok",
     "timestamp": 1758707883851,
     "user": {
      "displayName": "Monitoring Berita",
      "userId": "16755502473357078001"
     },
     "user_tz": -420
    },
    "id": "rohdMRa1RS6_",
    "outputId": "e272c907-6209-4a93-9fff-a1545c702b64"
   },
   "outputs": [
    {
     "name": "stderr",
     "output_type": "stream",
     "text": [
      "[INFO] Total URL untuk diproses: 162 (limit=None)\n"
     ]
    },
    {
     "data": {
      "application/vnd.jupyter.widget-view+json": {
       "model_id": "a9b5925f09fa4b46a283451807273bb6",
       "version_major": 2,
       "version_minor": 0
      },
      "text/plain": [
       "Scraping artikel:   0%|          | 0/162 [00:00<?, ?it/s]"
      ]
     },
     "metadata": {},
     "output_type": "display_data"
    },
    {
     "name": "stderr",
     "output_type": "stream",
     "text": [
      "[WARNING] Attempt 1 failed for https://ekonomi.espos.id/properti-jadi-salah-satu-penopang-purbaya-yakin-ekonomi-tumbuh-55-persen-2147001: HTTPSConnectionPool(host='ekonomi.espos.id', port=443): Max retries exceeded with url: /properti-jadi-salah-satu-penopang-purbaya-yakin-ekonomi-tumbuh-55-persen-2147001 (Caused by SSLError(SSLError(1, '[SSL: SSLV3_ALERT_HANDSHAKE_FAILURE] sslv3 alert handshake failure (_ssl.c:1000)')))\n",
      "[WARNING] Attempt 2 failed for https://ekonomi.espos.id/properti-jadi-salah-satu-penopang-purbaya-yakin-ekonomi-tumbuh-55-persen-2147001: HTTPSConnectionPool(host='ekonomi.espos.id', port=443): Max retries exceeded with url: /properti-jadi-salah-satu-penopang-purbaya-yakin-ekonomi-tumbuh-55-persen-2147001 (Caused by SSLError(SSLError(1, '[SSL: SSLV3_ALERT_HANDSHAKE_FAILURE] sslv3 alert handshake failure (_ssl.c:1000)')))\n",
      "[ERROR] Failed to fetch https://ekonomi.espos.id/properti-jadi-salah-satu-penopang-purbaya-yakin-ekonomi-tumbuh-55-persen-2147001: HTTPSConnectionPool(host='ekonomi.espos.id', port=443): Max retries exceeded with url: /properti-jadi-salah-satu-penopang-purbaya-yakin-ekonomi-tumbuh-55-persen-2147001 (Caused by SSLError(SSLError(1, '[SSL: SSLV3_ALERT_HANDSHAKE_FAILURE] sslv3 alert handshake failure (_ssl.c:1000)')))\n",
      "[WARNING] Attempt 1 failed for https://fahum.umsu.ac.id/info/bansos-subsidi-2026-dapat-kucuran-rp900-t-ini-kata-purbaya/: HTTPSConnectionPool(host='fahum.umsu.ac.id', port=443): Read timed out. (read timeout=8)\n",
      "[WARNING] Attempt 2 failed for https://fahum.umsu.ac.id/info/bansos-subsidi-2026-dapat-kucuran-rp900-t-ini-kata-purbaya/: HTTPSConnectionPool(host='fahum.umsu.ac.id', port=443): Read timed out. (read timeout=2)\n",
      "[ERROR] Failed to fetch https://fahum.umsu.ac.id/info/bansos-subsidi-2026-dapat-kucuran-rp900-t-ini-kata-purbaya/: HTTPSConnectionPool(host='fahum.umsu.ac.id', port=443): Read timed out. (read timeout=2)\n",
      "[ERROR] not a 200 response: 403 for URL https://tirto.id/bangun-kilang-baru-memang-sesulit-itu-pak-purbaya-hiH5\n",
      "[ERROR] not a 200 response: 404 for URL https://rri.co.id/nasional/1875093/fsppb-minta-pernyataan-menkeu-soal-kebakaran-kilang-diluruskan\n",
      "[WARNING] Attempt 1 failed for https://indonesiainside.id/ekonomi/2025/10/01/menkeu-yakin-pertumbuhan-ekonomi-2025-tembus-55-persen-sektor-properti-jadi-penopang: HTTPSConnectionPool(host='indonesiainside.id', port=443): Read timed out. (read timeout=8)\n",
      "[WARNING] Attempt 2 failed for https://indonesiainside.id/ekonomi/2025/10/01/menkeu-yakin-pertumbuhan-ekonomi-2025-tembus-55-persen-sektor-properti-jadi-penopang: HTTPSConnectionPool(host='indonesiainside.id', port=443): Read timed out. (read timeout=2)\n",
      "[ERROR] Failed to fetch https://indonesiainside.id/ekonomi/2025/10/01/menkeu-yakin-pertumbuhan-ekonomi-2025-tembus-55-persen-sektor-properti-jadi-penopang: HTTPSConnectionPool(host='indonesiainside.id', port=443): Read timed out. (read timeout=2)\n",
      "[ERROR] Failed to fetch https://www.inilah.com/subsidi-bbm-tembus-rp145-triliun-begini-rinciannya-menurut-menkeu-purbaya: HTTP 403\n",
      "[WARNING] Attempt 1 failed for https://mediacenter.riau.go.id/read/93564/kilang-minyak-di-dumai-meledak-manager-pertam.html: HTTPSConnectionPool(host='mediacenter.riau.go.id', port=443): Max retries exceeded with url: /read/93564/kilang-minyak-di-dumai-meledak-manager-pertam.html (Caused by SSLError(SSLCertVerificationError(1, '[SSL: CERTIFICATE_VERIFY_FAILED] certificate verify failed: unable to get local issuer certificate (_ssl.c:1000)')))\n",
      "[WARNING] Attempt 2 failed for https://mediacenter.riau.go.id/read/93564/kilang-minyak-di-dumai-meledak-manager-pertam.html: HTTPSConnectionPool(host='mediacenter.riau.go.id', port=443): Max retries exceeded with url: /read/93564/kilang-minyak-di-dumai-meledak-manager-pertam.html (Caused by SSLError(SSLCertVerificationError(1, '[SSL: CERTIFICATE_VERIFY_FAILED] certificate verify failed: unable to get local issuer certificate (_ssl.c:1000)')))\n",
      "[ERROR] Failed to fetch https://mediacenter.riau.go.id/read/93564/kilang-minyak-di-dumai-meledak-manager-pertam.html: HTTPSConnectionPool(host='mediacenter.riau.go.id', port=443): Max retries exceeded with url: /read/93564/kilang-minyak-di-dumai-meledak-manager-pertam.html (Caused by SSLError(SSLCertVerificationError(1, '[SSL: CERTIFICATE_VERIFY_FAILED] certificate verify failed: unable to get local issuer certificate (_ssl.c:1000)')))\n",
      "[WARNING] Attempt 1 failed for https://mediacenter.riau.go.id/read/93565/tim-pemadam-gerak-cepat-kebakaran-di-kilang-p.html: HTTPSConnectionPool(host='mediacenter.riau.go.id', port=443): Max retries exceeded with url: /read/93565/tim-pemadam-gerak-cepat-kebakaran-di-kilang-p.html (Caused by SSLError(SSLCertVerificationError(1, '[SSL: CERTIFICATE_VERIFY_FAILED] certificate verify failed: unable to get local issuer certificate (_ssl.c:1000)')))\n",
      "[WARNING] Attempt 2 failed for https://mediacenter.riau.go.id/read/93565/tim-pemadam-gerak-cepat-kebakaran-di-kilang-p.html: HTTPSConnectionPool(host='mediacenter.riau.go.id', port=443): Max retries exceeded with url: /read/93565/tim-pemadam-gerak-cepat-kebakaran-di-kilang-p.html (Caused by SSLError(SSLCertVerificationError(1, '[SSL: CERTIFICATE_VERIFY_FAILED] certificate verify failed: unable to get local issuer certificate (_ssl.c:1000)')))\n",
      "[ERROR] Failed to fetch https://mediacenter.riau.go.id/read/93565/tim-pemadam-gerak-cepat-kebakaran-di-kilang-p.html: HTTPSConnectionPool(host='mediacenter.riau.go.id', port=443): Max retries exceeded with url: /read/93565/tim-pemadam-gerak-cepat-kebakaran-di-kilang-p.html (Caused by SSLError(SSLCertVerificationError(1, '[SSL: CERTIFICATE_VERIFY_FAILED] certificate verify failed: unable to get local issuer certificate (_ssl.c:1000)')))\n",
      "[WARNING] Attempt 1 failed for https://www.ruangenergi.com/jawab-kritik-proyek-kilang-balikpapan-tembus-965-persen-siap-beroperasi/: HTTPSConnectionPool(host='www.ruangenergi.com', port=443): Read timed out. (read timeout=8)\n",
      "[WARNING] Attempt 2 failed for https://www.ruangenergi.com/jawab-kritik-proyek-kilang-balikpapan-tembus-965-persen-siap-beroperasi/: HTTPSConnectionPool(host='www.ruangenergi.com', port=443): Read timed out. (read timeout=2)\n",
      "[ERROR] Failed to fetch https://www.ruangenergi.com/jawab-kritik-proyek-kilang-balikpapan-tembus-965-persen-siap-beroperasi/: HTTPSConnectionPool(host='www.ruangenergi.com', port=443): Read timed out. (read timeout=2)\n",
      "[WARNING] Attempt 1 failed for https://www.ruangenergi.com/atasi-kejadian-kilang-dumai-fokus-upayakan-pemadaman/: HTTPSConnectionPool(host='www.ruangenergi.com', port=443): Read timed out. (read timeout=8)\n",
      "[WARNING] Attempt 2 failed for https://www.ruangenergi.com/atasi-kejadian-kilang-dumai-fokus-upayakan-pemadaman/: HTTPSConnectionPool(host='www.ruangenergi.com', port=443): Read timed out. (read timeout=2)\n",
      "[ERROR] Failed to fetch https://www.ruangenergi.com/atasi-kejadian-kilang-dumai-fokus-upayakan-pemadaman/: HTTPSConnectionPool(host='www.ruangenergi.com', port=443): Read timed out. (read timeout=2)\n",
      "[ERROR] not a 200 response: 403 for URL https://bercahayafm.cilacapkab.go.id/konsisten-berdayakan-masyarakat-pedesaan-kilang-cilacap-raih-csr-pengembangan-desa-awards-2025/\n",
      "[ERROR] not a 200 response: 404 for URL https://rri.co.id/nasional/1873358/soroti-impor-energi-purbaya-minta-pertamina-bangun-kilang\n",
      "[ERROR] not a 200 response: 502 for URL https://kumparan.com/kumparanbisnis/purbaya-minta-pertamina-percepat-rencana-bangun-kilang-baru-biar-hemat-subsidi-25xdeN83RIY\n",
      "[ERROR] not a 200 response: 404 for URL https://rri.co.id/daerah/1875719/kilang-dumai-pastikan-insiden-aman-terkendali\n",
      "[ERROR] not a 200 response: 404 for URL https://rri.co.id/daerah/1875207/kilang-pertamina-dumai-terbakar-warga-panik-dan-berhamburan\n",
      "[ERROR] not a 200 response: 502 for URL https://kumparan.com/kumparannews/kilang-minyak-di-dumai-terbakar-pertamina-isolasi-area-25xmCQMw8WV\n",
      "[ERROR] not a 200 response: 502 for URL https://kumparan.com/kumparanbisnis/purbaya-singgung-ri-tak-bangun-kilang-baru-sejak-1988-cuma-impor-dari-singapura-25xZg8vEMIj\n",
      "[WARNING] Attempt 1 failed for https://www.waspada.id/nusantara/kilang-pertamina-dumai-terbakar-warga-panik-dengar-ledakan/: HTTPSConnectionPool(host='www.waspada.id', port=443): Max retries exceeded with url: /nusantara/kilang-pertamina-dumai-terbakar-warga-panik-dengar-ledakan/ (Caused by SSLError(SSLCertVerificationError(1, '[SSL: CERTIFICATE_VERIFY_FAILED] certificate verify failed: unable to get local issuer certificate (_ssl.c:1000)')))\n",
      "[WARNING] Attempt 2 failed for https://www.waspada.id/nusantara/kilang-pertamina-dumai-terbakar-warga-panik-dengar-ledakan/: HTTPSConnectionPool(host='www.waspada.id', port=443): Max retries exceeded with url: /nusantara/kilang-pertamina-dumai-terbakar-warga-panik-dengar-ledakan/ (Caused by SSLError(SSLCertVerificationError(1, '[SSL: CERTIFICATE_VERIFY_FAILED] certificate verify failed: unable to get local issuer certificate (_ssl.c:1000)')))\n",
      "[ERROR] Failed to fetch https://www.waspada.id/nusantara/kilang-pertamina-dumai-terbakar-warga-panik-dengar-ledakan/: HTTPSConnectionPool(host='www.waspada.id', port=443): Max retries exceeded with url: /nusantara/kilang-pertamina-dumai-terbakar-warga-panik-dengar-ledakan/ (Caused by SSLError(SSLCertVerificationError(1, '[SSL: CERTIFICATE_VERIFY_FAILED] certificate verify failed: unable to get local issuer certificate (_ssl.c:1000)')))\n",
      "[ERROR] not a 200 response: 502 for URL https://kumparan.com/kumparanbisnis/kilang-rdmp-balikpapan-siap-uji-coba-mesin-pengolah-sisa-minyak-jadi-bensin-lpg-25xYpZ5Dju5\n",
      "[ERROR] not a 200 response: 502 for URL https://kumparan.com/kumparanbisnis/pertamina-pastikan-pasokan-bbm-dari-kilang-dumai-tetap-aman-25xv2M7KVMv\n",
      "[ERROR] not a 200 response: 502 for URL https://kumparan.com/kumparanbisnis/bahlil-ungkap-studi-kelaikan-pembangunan-17-kilang-minyak-hampir-rampung-25xf9w4TILg\n",
      "[ERROR] not a 200 response: 403 for URL https://www.inilah.com/rampungkan-kunci-pendukung-kilang-rdmp-balikpapan-siap-uji-operasi-rfcc\n",
      "[INFO] \n",
      "Summary status:\n",
      "status\n",
      "ok_trafilatura         103\n",
      "ok_site_specific        35\n",
      "empty_after_generic      6\n",
      "fetch_failed             5\n",
      "ok_readability           5\n",
      "timeout_fetch            4\n",
      "timeout_no_content       3\n",
      "ok_generic               1\n",
      "Name: count, dtype: int64\n",
      "[INFO] Timeout sample rows: 5\n",
      "[INFO] Tersimpan: /Users/yusufpradana/Library/CloudStorage/OneDrive-Personal/Pekerjaan BMN/05. 2025/98_monitoring_berita/monitoring-berita/hasil_baca_berita/hasil_scraping_artikel_20251002_101321.csv\n",
      "[INFO] Berhasil update config.json di /Users/yusufpradana/Library/CloudStorage/OneDrive-Personal/Pekerjaan BMN/05. 2025/98_monitoring_berita/monitoring-berita/config.json\n"
     ]
    }
   ],
   "source": [
    "file_loc = os.path.join(cwd, '02_baca_link_berita.ipynb')\n",
    "\n",
    "%run \"$file_loc\""
   ]
  },
  {
   "cell_type": "markdown",
   "metadata": {
    "id": "btzQFyReOzDh"
   },
   "source": [
    "## LABELLING ISU\n"
   ]
  },
  {
   "cell_type": "code",
   "execution_count": 43,
   "metadata": {
    "colab": {
     "base_uri": "https://localhost:8080/",
     "height": 156
    },
    "executionInfo": {
     "elapsed": 2381,
     "status": "ok",
     "timestamp": 1758707993749,
     "user": {
      "displayName": "Monitoring Berita",
      "userId": "16755502473357078001"
     },
     "user_tz": -420
    },
    "id": "wqL0C4I8O4D1",
    "outputId": "451c15a5-951e-4a1d-e142-4d8750dba9e4"
   },
   "outputs": [
    {
     "name": "stdout",
     "output_type": "stream",
     "text": [
      "Normalisasi tanggal_berita: total=162, sukses=162, gagal=0 (0.0%)\n",
      "Filter tanggal: 2025-10-01 s.d 2025-10-02 (dari 162 -> 162)\n",
      "Labeling selesai. Jumlah baris: 162\n"
     ]
    },
    {
     "data": {
      "text/html": [
       "<div>\n",
       "<style scoped>\n",
       "    .dataframe tbody tr th:only-of-type {\n",
       "        vertical-align: middle;\n",
       "    }\n",
       "\n",
       "    .dataframe tbody tr th {\n",
       "        vertical-align: top;\n",
       "    }\n",
       "\n",
       "    .dataframe thead th {\n",
       "        text-align: right;\n",
       "    }\n",
       "</style>\n",
       "<table border=\"1\" class=\"dataframe\">\n",
       "  <thead>\n",
       "    <tr style=\"text-align: right;\">\n",
       "      <th></th>\n",
       "      <th>kategori_isu</th>\n",
       "      <th>jumlah</th>\n",
       "    </tr>\n",
       "  </thead>\n",
       "  <tbody>\n",
       "    <tr>\n",
       "      <th>0</th>\n",
       "      <td>Isu Kemenkeu</td>\n",
       "      <td>98</td>\n",
       "    </tr>\n",
       "    <tr>\n",
       "      <th>1</th>\n",
       "      <td>Isu Nasional</td>\n",
       "      <td>45</td>\n",
       "    </tr>\n",
       "    <tr>\n",
       "      <th>2</th>\n",
       "      <td>Isu Lainnya</td>\n",
       "      <td>19</td>\n",
       "    </tr>\n",
       "  </tbody>\n",
       "</table>\n",
       "</div>"
      ],
      "text/plain": [
       "   kategori_isu  jumlah\n",
       "0  Isu Kemenkeu      98\n",
       "1  Isu Nasional      45\n",
       "2   Isu Lainnya      19"
      ]
     },
     "metadata": {},
     "output_type": "display_data"
    },
    {
     "name": "stdout",
     "output_type": "stream",
     "text": [
      "Tersimpan: /Users/yusufpradana/Library/CloudStorage/OneDrive-Personal/Pekerjaan BMN/05. 2025/98_monitoring_berita/monitoring-berita/hasil_labeling/hasil_labeling_20251002_101322.csv & /Users/yusufpradana/Library/CloudStorage/OneDrive-Personal/Pekerjaan BMN/05. 2025/98_monitoring_berita/monitoring-berita/hasil_labeling/hasil_labeling_20251002_101322.xlsx\n",
      "Berhasil update config.json di /Users/yusufpradana/Library/CloudStorage/OneDrive-Personal/Pekerjaan BMN/05. 2025/98_monitoring_berita/monitoring-berita/config.json\n"
     ]
    }
   ],
   "source": [
    "file_loc = os.path.join(cwd, '03_labelling_awal.ipynb')\n",
    "\n",
    "%run \"$file_loc\""
   ]
  },
  {
   "cell_type": "markdown",
   "metadata": {
    "id": "Yh3Y5kSakfqt"
   },
   "source": [
    "## ANALISIS DENGAN GEN AI"
   ]
  },
  {
   "cell_type": "markdown",
   "metadata": {},
   "source": [
    "### Analisis Berita Kemenkeu, Internasional, dan Nasional"
   ]
  },
  {
   "cell_type": "code",
   "execution_count": 44,
   "metadata": {
    "id": "hFf-5-oyke-c"
   },
   "outputs": [
    {
     "name": "stdout",
     "output_type": "stream",
     "text": [
      "API keys - Deepseek: OK | OpenAI: OK\n",
      "Provider yang dipakai: deepseek\n"
     ]
    },
    {
     "data": {
      "application/vnd.jupyter.widget-view+json": {
       "model_id": "8751dd30bc1745a2b262a524f760d5eb",
       "version_major": 2,
       "version_minor": 0
      },
      "text/plain": [
       "Analisis berita (parallel deepseek):   0%|          | 0/143 [00:00<?, ?berita/s]"
      ]
     },
     "metadata": {},
     "output_type": "display_data"
    },
    {
     "name": "stderr",
     "output_type": "stream",
     "text": [
      "[INFO] Berhasil update config.json di config.json\n"
     ]
    },
    {
     "name": "stdout",
     "output_type": "stream",
     "text": [
      "Pipeline selesai. Hasil disimpan di 00_hasil_analisis/seluruh_berita/analisis_ai_20251002_deepseek_default.csv\n",
      "Monitoring sementara: {'execution_datetime': '2025-10-02 10:17:17', 'provider': 'deepseek', 'model_name': 'deepseek-chat', 'elapsed_seconds': 235.47, 'output_file': '00_hasil_analisis/seluruh_berita/analisis_ai_20251002_deepseek_default.csv', 'n_rows_result_df': 143}\n",
      "Monitoring log ditulis/ditambahkan ke monitoring_log_genai.csv\n",
      "    execution_datetime  provider     model_name  elapsed_seconds  \\\n",
      "0  2025-10-02 10:17:17  deepseek  deepseek-chat           235.47   \n",
      "\n",
      "                                                                  output_file  \\\n",
      "0  00_hasil_analisis/seluruh_berita/analisis_ai_20251002_deepseek_default.csv   \n",
      "\n",
      "   n_rows_in_memory  n_rows_output_file  \n",
      "0               143                 143  \n"
     ]
    }
   ],
   "source": [
    "file_loc = os.path.join(cwd, '04_analisis_dengan_genAI.ipynb')\n",
    "\n",
    "%run \"$file_loc\""
   ]
  },
  {
   "cell_type": "markdown",
   "metadata": {},
   "source": [
    "### Analisis Berita Penting"
   ]
  },
  {
   "cell_type": "code",
   "execution_count": 48,
   "metadata": {},
   "outputs": [
    {
     "name": "stderr",
     "output_type": "stream",
     "text": [
      "[INFO] ✅ AI Configuration loaded: DEEPSEEK\n",
      "[INFO]    Model: deepseek-chat\n",
      "[INFO]    Temperature: 0.1\n",
      "[INFO]    Max Tokens: 5000\n"
     ]
    },
    {
     "name": "stdout",
     "output_type": "stream",
     "text": [
      "=== KONFIGURASI AI MODEL ===\n"
     ]
    },
    {
     "name": "stderr",
     "output_type": "stream",
     "text": [
      "[INFO] HTTP Request: POST https://api.deepseek.com/v1/chat/completions \"HTTP/1.1 200 OK\"\n",
      "[INFO] ✅ DEEPSEEK API connection successful\n",
      "[INFO] HTTP Request: POST https://api.deepseek.com/v1/chat/completions \"HTTP/1.1 200 OK\"\n"
     ]
    },
    {
     "name": "stdout",
     "output_type": "stream",
     "text": [
      "🎯 AI Model: DEEPSEEK (deepseek-chat)\n",
      "🔧 Temperature: 0.1\n",
      "📝 Max Tokens: 5000\n",
      "🔑 API Key: ********************...8d74\n",
      "\n",
      "🧪 Testing AI connection...\n"
     ]
    },
    {
     "name": "stderr",
     "output_type": "stream",
     "text": [
      "[INFO] Membaca file analisis AI: 00_hasil_analisis/seluruh_berita/analisis_ai_20251002_deepseek_default.csv\n",
      "[INFO] Total berita: 143\n",
      "[INFO] Berita penting (filtered): 84\n"
     ]
    },
    {
     "name": "stdout",
     "output_type": "stream",
     "text": [
      "✅ Test Response: AI Ready!\n",
      "\n",
      "✅ AI configuration completed successfully!\n",
      "💡 Gunakan CALL_AI_MODEL(prompt) untuk memanggil AI di sel lain.\n",
      "\n",
      "📋 Environment Variables yang diset:\n",
      "   MODEL_ANALISIS = deepseek\n",
      "   AI_MODEL_NAME = deepseek-chat\n",
      "   DUMMY_MODE = 0\n",
      "Berhasil memuat 84 berita penting\n",
      "\n",
      "Sample berita penting:\n",
      "                                                                                                           judul_berita  \\\n",
      "141  Respon Permintaan Menkeu Bangun Kilang Minyak Baru, Bahlil : 17 Kilang Studi Kelayakannya Hampir Final - Pasardana   \n",
      "81             Menkeu Purbaya Tagih Janji Pertamina Bangun 7 Kilang Dalam 5 Tahun: Saya Bukan Juru Bayar - Liputan6.com   \n",
      "79                               Menkeu Purbaya Blak-blakan usai Diadukan BUMN: Saya Bukan Juru Bayar Saja! - Kompas.tv   \n",
      "36                                                       Bangun Kilang Baru Memang Sesulit Itu, Pak Purbaya! - Tirto.id   \n",
      "37                                          Podcast: Tentang Purbaya dan Gaya Koboinya Pelototi Anggaran - detikFinance   \n",
      "\n",
      "    topik_llm  importance sentimen  \n",
      "141  Kemenkeu        85.0  positif  \n",
      "81   Kemenkeu        85.0  positif  \n",
      "79   Kemenkeu        85.0  positif  \n",
      "36   Kemenkeu        85.0   netral  \n",
      "37   Kemenkeu        85.0   netral  \n",
      "Kolom teks: artikel_berita_bersih, Kolom judul: judul_berita\n",
      "AI Model: DEEPSEEK (deepseek-chat)\n",
      "✅ Using pre-configured DEEPSEEK client\n",
      "Starting analysis of 84 articles using DEEPSEEK...\n"
     ]
    },
    {
     "name": "stderr",
     "output_type": "stream",
     "text": [
      "  0%|          | 0/84 [00:00<?, ?it/s][INFO] HTTP Request: POST https://api.deepseek.com/v1/chat/completions \"HTTP/1.1 200 OK\"\n",
      "[INFO] HTTP Request: POST https://api.deepseek.com/v1/chat/completions \"HTTP/1.1 200 OK\"\n",
      "[INFO] HTTP Request: POST https://api.deepseek.com/v1/chat/completions \"HTTP/1.1 200 OK\"\n",
      "  1%|          | 1/84 [00:07<10:59,  7.95s/it][INFO] HTTP Request: POST https://api.deepseek.com/v1/chat/completions \"HTTP/1.1 200 OK\"\n",
      "  2%|▏         | 2/84 [00:09<05:34,  4.08s/it][INFO] HTTP Request: POST https://api.deepseek.com/v1/chat/completions \"HTTP/1.1 200 OK\"\n",
      "  4%|▎         | 3/84 [00:10<03:26,  2.55s/it][INFO] HTTP Request: POST https://api.deepseek.com/v1/chat/completions \"HTTP/1.1 200 OK\"\n",
      "  5%|▍         | 4/84 [00:17<06:01,  4.52s/it][INFO] HTTP Request: POST https://api.deepseek.com/v1/chat/completions \"HTTP/1.1 200 OK\"\n",
      "  6%|▌         | 5/84 [00:17<03:52,  2.95s/it][INFO] HTTP Request: POST https://api.deepseek.com/v1/chat/completions \"HTTP/1.1 200 OK\"\n",
      "  7%|▋         | 6/84 [00:20<03:48,  2.93s/it][INFO] HTTP Request: POST https://api.deepseek.com/v1/chat/completions \"HTTP/1.1 200 OK\"\n",
      "  8%|▊         | 7/84 [00:26<05:02,  3.93s/it][INFO] HTTP Request: POST https://api.deepseek.com/v1/chat/completions \"HTTP/1.1 200 OK\"\n",
      " 10%|▉         | 8/84 [00:27<03:39,  2.89s/it][INFO] HTTP Request: POST https://api.deepseek.com/v1/chat/completions \"HTTP/1.1 200 OK\"\n",
      " 11%|█         | 9/84 [00:29<03:26,  2.76s/it][INFO] HTTP Request: POST https://api.deepseek.com/v1/chat/completions \"HTTP/1.1 200 OK\"\n",
      " 12%|█▏        | 10/84 [00:36<04:53,  3.97s/it][INFO] HTTP Request: POST https://api.deepseek.com/v1/chat/completions \"HTTP/1.1 200 OK\"\n",
      "[INFO] HTTP Request: POST https://api.deepseek.com/v1/chat/completions \"HTTP/1.1 200 OK\"\n",
      " 14%|█▍        | 12/84 [00:38<03:14,  2.70s/it][INFO] HTTP Request: POST https://api.deepseek.com/v1/chat/completions \"HTTP/1.1 200 OK\"\n",
      " 15%|█▌        | 13/84 [00:45<04:13,  3.57s/it][INFO] HTTP Request: POST https://api.deepseek.com/v1/chat/completions \"HTTP/1.1 200 OK\"\n",
      " 17%|█▋        | 14/84 [00:46<03:24,  2.92s/it][INFO] HTTP Request: POST https://api.deepseek.com/v1/chat/completions \"HTTP/1.1 200 OK\"\n",
      " 18%|█▊        | 15/84 [00:49<03:20,  2.91s/it][INFO] HTTP Request: POST https://api.deepseek.com/v1/chat/completions \"HTTP/1.1 200 OK\"\n",
      " 19%|█▉        | 16/84 [00:55<04:23,  3.88s/it][INFO] HTTP Request: POST https://api.deepseek.com/v1/chat/completions \"HTTP/1.1 200 OK\"\n",
      " 20%|██        | 17/84 [00:56<03:16,  2.93s/it][INFO] HTTP Request: POST https://api.deepseek.com/v1/chat/completions \"HTTP/1.1 200 OK\"\n",
      " 21%|██▏       | 18/84 [00:57<02:48,  2.55s/it][INFO] HTTP Request: POST https://api.deepseek.com/v1/chat/completions \"HTTP/1.1 200 OK\"\n",
      " 23%|██▎       | 19/84 [01:03<03:55,  3.62s/it][INFO] HTTP Request: POST https://api.deepseek.com/v1/chat/completions \"HTTP/1.1 200 OK\"\n",
      " 24%|██▍       | 20/84 [01:04<02:48,  2.63s/it][INFO] HTTP Request: POST https://api.deepseek.com/v1/chat/completions \"HTTP/1.1 200 OK\"\n",
      " 25%|██▌       | 21/84 [01:06<02:41,  2.56s/it][INFO] HTTP Request: POST https://api.deepseek.com/v1/chat/completions \"HTTP/1.1 200 OK\"\n",
      " 26%|██▌       | 22/84 [01:12<03:45,  3.64s/it][INFO] HTTP Request: POST https://api.deepseek.com/v1/chat/completions \"HTTP/1.1 200 OK\"\n",
      " 27%|██▋       | 23/84 [01:13<02:47,  2.75s/it][INFO] HTTP Request: POST https://api.deepseek.com/v1/chat/completions \"HTTP/1.1 200 OK\"\n",
      " 29%|██▊       | 24/84 [01:16<02:49,  2.82s/it][INFO] HTTP Request: POST https://api.deepseek.com/v1/chat/completions \"HTTP/1.1 200 OK\"\n",
      " 30%|██▉       | 25/84 [01:21<03:23,  3.44s/it][INFO] HTTP Request: POST https://api.deepseek.com/v1/chat/completions \"HTTP/1.1 200 OK\"\n",
      " 31%|███       | 26/84 [01:21<02:32,  2.63s/it][INFO] HTTP Request: POST https://api.deepseek.com/v1/chat/completions \"HTTP/1.1 200 OK\"\n",
      " 32%|███▏      | 27/84 [01:27<03:13,  3.40s/it][INFO] HTTP Request: POST https://api.deepseek.com/v1/chat/completions \"HTTP/1.1 200 OK\"\n",
      " 33%|███▎      | 28/84 [01:30<03:08,  3.37s/it][INFO] HTTP Request: POST https://api.deepseek.com/v1/chat/completions \"HTTP/1.1 200 OK\"\n",
      " 35%|███▍      | 29/84 [01:31<02:22,  2.59s/it][INFO] HTTP Request: POST https://api.deepseek.com/v1/chat/completions \"HTTP/1.1 200 OK\"\n",
      " 36%|███▌      | 30/84 [01:36<03:02,  3.38s/it][INFO] HTTP Request: POST https://api.deepseek.com/v1/chat/completions \"HTTP/1.1 200 OK\"\n",
      " 37%|███▋      | 31/84 [01:38<02:37,  2.97s/it][INFO] HTTP Request: POST https://api.deepseek.com/v1/chat/completions \"HTTP/1.1 200 OK\"\n",
      " 38%|███▊      | 32/84 [01:39<02:10,  2.50s/it][INFO] HTTP Request: POST https://api.deepseek.com/v1/chat/completions \"HTTP/1.1 200 OK\"\n",
      " 39%|███▉      | 33/84 [01:45<02:49,  3.32s/it][INFO] HTTP Request: POST https://api.deepseek.com/v1/chat/completions \"HTTP/1.1 200 OK\"\n",
      " 40%|████      | 34/84 [01:47<02:39,  3.18s/it][INFO] HTTP Request: POST https://api.deepseek.com/v1/chat/completions \"HTTP/1.1 200 OK\"\n",
      " 42%|████▏     | 35/84 [01:48<02:01,  2.48s/it][INFO] HTTP Request: POST https://api.deepseek.com/v1/chat/completions \"HTTP/1.1 200 OK\"\n",
      " 43%|████▎     | 36/84 [01:54<02:39,  3.31s/it][INFO] HTTP Request: POST https://api.deepseek.com/v1/chat/completions \"HTTP/1.1 200 OK\"\n",
      " 44%|████▍     | 37/84 [01:56<02:20,  2.99s/it][INFO] HTTP Request: POST https://api.deepseek.com/v1/chat/completions \"HTTP/1.1 200 OK\"\n",
      " 45%|████▌     | 38/84 [01:58<02:08,  2.79s/it][INFO] HTTP Request: POST https://api.deepseek.com/v1/chat/completions \"HTTP/1.1 200 OK\"\n",
      " 46%|████▋     | 39/84 [02:03<02:34,  3.44s/it][INFO] HTTP Request: POST https://api.deepseek.com/v1/chat/completions \"HTTP/1.1 200 OK\"\n",
      " 48%|████▊     | 40/84 [02:05<02:10,  2.95s/it][INFO] HTTP Request: POST https://api.deepseek.com/v1/chat/completions \"HTTP/1.1 200 OK\"\n",
      " 49%|████▉     | 41/84 [02:08<02:04,  2.89s/it][INFO] HTTP Request: POST https://api.deepseek.com/v1/chat/completions \"HTTP/1.1 200 OK\"\n",
      " 50%|█████     | 42/84 [02:12<02:14,  3.20s/it][INFO] HTTP Request: POST https://api.deepseek.com/v1/chat/completions \"HTTP/1.1 200 OK\"\n",
      " 51%|█████     | 43/84 [02:13<01:44,  2.54s/it][INFO] HTTP Request: POST https://api.deepseek.com/v1/chat/completions \"HTTP/1.1 200 OK\"\n",
      " 52%|█████▏    | 44/84 [02:16<01:46,  2.67s/it][INFO] HTTP Request: POST https://api.deepseek.com/v1/chat/completions \"HTTP/1.1 200 OK\"\n",
      " 54%|█████▎    | 45/84 [02:20<02:05,  3.22s/it][INFO] HTTP Request: POST https://api.deepseek.com/v1/chat/completions \"HTTP/1.1 200 OK\"\n",
      " 55%|█████▍    | 46/84 [02:21<01:33,  2.46s/it][INFO] HTTP Request: POST https://api.deepseek.com/v1/chat/completions \"HTTP/1.1 200 OK\"\n",
      " 56%|█████▌    | 47/84 [02:24<01:41,  2.74s/it][INFO] HTTP Request: POST https://api.deepseek.com/v1/chat/completions \"HTTP/1.1 200 OK\"\n",
      " 57%|█████▋    | 48/84 [02:29<01:57,  3.27s/it][INFO] HTTP Request: POST https://api.deepseek.com/v1/chat/completions \"HTTP/1.1 200 OK\"\n",
      " 58%|█████▊    | 49/84 [02:31<01:39,  2.85s/it][INFO] HTTP Request: POST https://api.deepseek.com/v1/chat/completions \"HTTP/1.1 200 OK\"\n",
      " 60%|█████▉    | 50/84 [02:33<01:37,  2.86s/it][INFO] HTTP Request: POST https://api.deepseek.com/v1/chat/completions \"HTTP/1.1 200 OK\"\n",
      " 61%|██████    | 51/84 [02:38<01:55,  3.49s/it][INFO] HTTP Request: POST https://api.deepseek.com/v1/chat/completions \"HTTP/1.1 200 OK\"\n",
      " 62%|██████▏   | 52/84 [02:39<01:24,  2.65s/it][INFO] HTTP Request: POST https://api.deepseek.com/v1/chat/completions \"HTTP/1.1 200 OK\"\n",
      " 63%|██████▎   | 53/84 [02:42<01:29,  2.87s/it][INFO] HTTP Request: POST https://api.deepseek.com/v1/chat/completions \"HTTP/1.1 200 OK\"\n",
      " 64%|██████▍   | 54/84 [02:47<01:40,  3.36s/it][INFO] HTTP Request: POST https://api.deepseek.com/v1/chat/completions \"HTTP/1.1 200 OK\"\n",
      " 65%|██████▌   | 55/84 [02:48<01:20,  2.78s/it][INFO] HTTP Request: POST https://api.deepseek.com/v1/chat/completions \"HTTP/1.1 200 OK\"\n",
      " 67%|██████▋   | 56/84 [02:49<01:03,  2.27s/it][INFO] HTTP Request: POST https://api.deepseek.com/v1/chat/completions \"HTTP/1.1 200 OK\"\n",
      " 68%|██████▊   | 57/84 [02:55<01:26,  3.22s/it][INFO] HTTP Request: POST https://api.deepseek.com/v1/chat/completions \"HTTP/1.1 200 OK\"\n",
      " 69%|██████▉   | 58/84 [02:57<01:12,  2.78s/it][INFO] HTTP Request: POST https://api.deepseek.com/v1/chat/completions \"HTTP/1.1 200 OK\"\n",
      " 70%|███████   | 59/84 [02:57<00:51,  2.05s/it][INFO] HTTP Request: POST https://api.deepseek.com/v1/chat/completions \"HTTP/1.1 200 OK\"\n",
      " 71%|███████▏  | 60/84 [03:04<01:22,  3.46s/it][INFO] HTTP Request: POST https://api.deepseek.com/v1/chat/completions \"HTTP/1.1 200 OK\"\n",
      " 73%|███████▎  | 61/84 [03:05<01:03,  2.77s/it][INFO] HTTP Request: POST https://api.deepseek.com/v1/chat/completions \"HTTP/1.1 200 OK\"\n",
      " 74%|███████▍  | 62/84 [03:06<00:53,  2.42s/it][INFO] HTTP Request: POST https://api.deepseek.com/v1/chat/completions \"HTTP/1.1 200 OK\"\n",
      " 75%|███████▌  | 63/84 [03:13<01:13,  3.50s/it][INFO] HTTP Request: POST https://api.deepseek.com/v1/chat/completions \"HTTP/1.1 200 OK\"\n",
      " 76%|███████▌  | 64/84 [03:13<00:52,  2.62s/it][INFO] HTTP Request: POST https://api.deepseek.com/v1/chat/completions \"HTTP/1.1 200 OK\"\n",
      " 77%|███████▋  | 65/84 [03:16<00:49,  2.58s/it][INFO] HTTP Request: POST https://api.deepseek.com/v1/chat/completions \"HTTP/1.1 200 OK\"\n",
      " 79%|███████▊  | 66/84 [03:21<01:04,  3.58s/it][INFO] HTTP Request: POST https://api.deepseek.com/v1/chat/completions \"HTTP/1.1 200 OK\"\n",
      " 80%|███████▉  | 67/84 [03:22<00:44,  2.63s/it][INFO] HTTP Request: POST https://api.deepseek.com/v1/chat/completions \"HTTP/1.1 200 OK\"\n",
      " 81%|████████  | 68/84 [03:24<00:39,  2.48s/it][INFO] HTTP Request: POST https://api.deepseek.com/v1/chat/completions \"HTTP/1.1 200 OK\"\n",
      " 82%|████████▏ | 69/84 [03:28<00:45,  3.04s/it][INFO] HTTP Request: POST https://api.deepseek.com/v1/chat/completions \"HTTP/1.1 200 OK\"\n",
      " 83%|████████▎ | 70/84 [03:31<00:42,  3.05s/it][INFO] HTTP Request: POST https://api.deepseek.com/v1/chat/completions \"HTTP/1.1 200 OK\"\n",
      " 85%|████████▍ | 71/84 [03:33<00:32,  2.50s/it][INFO] HTTP Request: POST https://api.deepseek.com/v1/chat/completions \"HTTP/1.1 200 OK\"\n",
      " 86%|████████▌ | 72/84 [03:37<00:35,  2.95s/it][INFO] HTTP Request: POST https://api.deepseek.com/v1/chat/completions \"HTTP/1.1 200 OK\"\n",
      " 87%|████████▋ | 73/84 [03:40<00:34,  3.15s/it][INFO] HTTP Request: POST https://api.deepseek.com/v1/chat/completions \"HTTP/1.1 200 OK\"\n",
      "[INFO] HTTP Request: POST https://api.deepseek.com/v1/chat/completions \"HTTP/1.1 200 OK\"\n",
      " 89%|████████▉ | 75/84 [03:45<00:24,  2.75s/it][INFO] HTTP Request: POST https://api.deepseek.com/v1/chat/completions \"HTTP/1.1 200 OK\"\n",
      " 90%|█████████ | 76/84 [03:49<00:25,  3.19s/it][INFO] HTTP Request: POST https://api.deepseek.com/v1/chat/completions \"HTTP/1.1 200 OK\"\n",
      " 92%|█████████▏| 77/84 [03:51<00:18,  2.70s/it][INFO] HTTP Request: POST https://api.deepseek.com/v1/chat/completions \"HTTP/1.1 200 OK\"\n",
      " 93%|█████████▎| 78/84 [03:54<00:17,  2.97s/it][INFO] HTTP Request: POST https://api.deepseek.com/v1/chat/completions \"HTTP/1.1 200 OK\"\n",
      " 94%|█████████▍| 79/84 [03:57<00:14,  3.00s/it][INFO] HTTP Request: POST https://api.deepseek.com/v1/chat/completions \"HTTP/1.1 200 OK\"\n",
      " 95%|█████████▌| 80/84 [03:59<00:10,  2.55s/it][INFO] HTTP Request: POST https://api.deepseek.com/v1/chat/completions \"HTTP/1.1 200 OK\"\n",
      " 96%|█████████▋| 81/84 [04:01<00:07,  2.42s/it][INFO] HTTP Request: POST https://api.deepseek.com/v1/chat/completions \"HTTP/1.1 200 OK\"\n",
      "100%|██████████| 84/84 [04:10<00:00,  2.98s/it]\n",
      "[INFO] HTTP Request: POST https://api.deepseek.com/v1/chat/completions \"HTTP/1.1 200 OK\"\n"
     ]
    },
    {
     "name": "stdout",
     "output_type": "stream",
     "text": [
      "Analysis complete: 84 articles in 250.3s\n",
      "Success: 84, Errors: 0\n",
      "AI Provider: DEEPSEEK\n",
      "\n",
      "Sample results (showing 3):\n",
      "1. Respon Permintaan Menkeu Bangun Kilang Minyak Baru, Bahlil :...\n",
      "   Resume: Menteri Keuangan meminta Pertamina segera bangun kilang minyak baru un...\n",
      "   Dampak: Positif\n",
      "2. Menkeu Purbaya Tagih Janji Pertamina Bangun 7 Kilang Dalam 5...\n",
      "   Resume: Menteri Keuangan Purbaya Yudhi Sadewa menagih janji Pertamina untuk me...\n",
      "   Dampak: Positif\n",
      "3. Menkeu Purbaya Blak-blakan usai Diadukan BUMN: Saya Bukan Ju...\n",
      "   Resume: Menteri Keuangan Purbaya Yudhi Sadewa menanggapi aduan BUMN ke DPR den...\n",
      "   Dampak: Positif\n",
      "\n",
      "File saved: 00_hasil_analisis/berita_penting/analisis_berita_penting_deepseek_20251002_105430.csv\n",
      "🔍 Debug path info:\n",
      "   Current CWD: /Users/yusufpradana/Library/CloudStorage/OneDrive-Personal/Pekerjaan BMN/05. 2025/98_monitoring_berita/monitoring-berita\n",
      "   File path: /Users/yusufpradana/Library/CloudStorage/OneDrive-Personal/Pekerjaan BMN/05. 2025/98_monitoring_berita/monitoring-berita/00_hasil_analisis/berita_penting/analisis_berita_penting_deepseek_20251002_105430.csv\n",
      "   Relative path: 00_hasil_analisis/berita_penting/analisis_berita_penting_deepseek_20251002_105430.csv\n",
      "📦 Config backup saved: config.json.bak\n",
      "📝 Config updated:\n",
      "   berita_penting_output: 00_hasil_analisis/berita_penting/analisis_berita_penting_deepseek_20251002_105430.csv\n",
      "   berita_penting_output_dir: 00_hasil_analisis/berita_penting\n",
      "✅ Config.json berhasil diupdate dengan path berita penting\n",
      "=== GENERATOR DAFTAR BERITA & KONTEN ===\n",
      "📊 Data tersedia: 84 berita\n",
      "Memproses 84 berita yang berhasil dianalisis...\n",
      "✅ Laporan disimpan di 00_laporan_cetak/daftar_berita_20251002_105430.txt\n",
      "📄 Total baris: 258\n",
      "\n",
      "📋 Preview laporan:\n",
      "------------------------------------------------------------\n",
      "Daftar Berita & Konten\n",
      "Kamis, 2 Oktober 2025\n",
      "Periode pantauan tanggal 1-2 September 2025 (pukul 14.00 s.d. 06.00 WIB)\n",
      "\n",
      "Media Online\n",
      "===========\n",
      "\n",
      "🟢 Respon Permintaan Menkeu Bangun Kilang Minyak Baru, Bahlil : 17 Kilang Studi Kelayakannya Hampir Final - Pasardana\n",
      "https://pasardana.id/news/2025/10/2/respon-permintaan-menkeu-bangun-kilang-minyak-baru-bahlil-17-kilang-studi-kelayakannya-hampir-final/\n",
      "\n",
      "🟢 Menkeu Purbaya Tagih Janji Pertamina Bangun 7 Kilang Dalam 5 Tahun: Saya Bukan Juru Bayar - Liputan6.com\n",
      "https://www.liputan6.com/bisnis/read/6173441/menkeu-purbaya-tagih-janji-pertamina-bangun-7-kilang-dalam-5-tahun-saya-bukan-juru-bayar\n",
      "...\n",
      "[246 baris lainnya]\n",
      "------------------------------------------------------------\n",
      "\n",
      "🎯 Selesai! File tersedia di folder: 00_laporan_cetak/\n",
      "✅ Using DEEPSEEK for headline generation\n",
      "=== GENERATOR NEWS UPDATE ===\n",
      "📊 Data tersedia: 84 berita\n",
      "\n",
      "📝 Gabungan resume (23856 karakter):\n",
      "Preview: Menteri Keuangan meminta Pertamina segera bangun kilang minyak baru untuk kurangi impor BBM dan subsidi energi. Menurut Menteri ESDM Bahlil, studi kelayakan 17 kilang modular hampir final dan akan ter...\n"
     ]
    },
    {
     "name": "stderr",
     "output_type": "stream",
     "text": [
      "[INFO] HTTP Request: POST https://api.deepseek.com/v1/chat/completions \"HTTP/1.1 200 OK\"\n"
     ]
    },
    {
     "name": "stdout",
     "output_type": "stream",
     "text": [
      "\n",
      "✅ News Update disimpan di: 00_laporan_cetak/news_update_general_20251002_105440.txt\n",
      "📄 Total baris: 67\n",
      "\n",
      "📋 Preview News Update:\n",
      "------------------------------------------------------------\n",
      "News Update\n",
      "Menkeu Sidak BNI\n",
      "Jakarta, Kamis, 2 Oktober 2025 (Pukul 10.00 WIB)\n",
      "\n",
      "Pemberitaan terkait menkeu sidak bni hari ini tercatat terdapat 84 berita (39 positif, 31 netral, 14 negatif) di media online.\n",
      "\n",
      "Sorotan Media Online\n",
      "• Menkeu tagih janji Pertamina bangun 7 kilang baru untuk tekan impor BBM dan kurangi subsidi energi.\n",
      "• Pemerintah percepat 17 kilang modular untuk hilirisasi energi, studi kelayakan hampir final.\n",
      "• Impor BBM meningkat dari USD 20,7 miliar (2018) menjadi USD 25,92 miliar (2024), membebani APBN.\n",
      "• Menkeu ancam potong anggaran atau ganti direksi BUMN jika proyek strategis tidak berjalan.\n",
      "• Kebijakan cukai rokok 2026 tidak naik untuk lindungi industri dan cegah dominasi rokok ilegal.\n",
      "• Menkeu lunasi tunggakan kompensasi energi Rp55 triliun ke BUMN dan percepat proses pembayaran.\n",
      "• Realokasi anggaran APBN 2025 untuk biayai stimulus ekonomi akhir tahun dan 8 program akselerasi.\n",
      "• Menkeu optimistis pertumbuhan ekonomi kuartal IV-2025 capai 5,5%, didorong properti dan konsumsi.\n",
      "...\n",
      "[52 baris lainnya]\n",
      "------------------------------------------------------------\n",
      "\n",
      "🎯 Selesai! File tersedia di: 00_laporan_cetak/\n",
      "✅ Using DEEPSEEK for topic analysis\n",
      "=== GENERATOR LAPORAN ANALISIS MEDIA (FIXED VERSION) ===\n",
      "📊 Data tersedia: 84 berita\n",
      "📋 Topic keywords dari config: ['rokok ilegal', 'makan bergizi gratis', 'tax amnesty', 'sidak BNI', 'lainnya']\n",
      "🏷️  Berita dikelompokkan dalam 2 topik:\n",
      "   - rokok ilegal: 7 berita\n",
      "   - sidak BNI: 1 berita\n"
     ]
    },
    {
     "name": "stderr",
     "output_type": "stream",
     "text": [
      "[INFO] HTTP Request: POST https://api.deepseek.com/v1/chat/completions \"HTTP/1.1 200 OK\"\n"
     ]
    },
    {
     "name": "stdout",
     "output_type": "stream",
     "text": [
      "\n",
      "✅ Laporan Analisis Media disimpan di: 00_laporan_cetak/laporan_analisis_media_20251002_105502.txt\n",
      "📄 Total baris: 63\n",
      "\n",
      "📋 Preview Laporan Analisis Media:\n",
      "----------------------------------------------------------------------\n",
      "===== Page 1 =====\n",
      "\n",
      "**Laporan Analisis Media Online dan Media Sosial**\n",
      "Kamis, 2 Oktober 2025\n",
      "\n",
      "**EXECUTIVE SUMMARY**\n",
      "==================================================\n",
      "Periode pemantauan media online menunjukkan 84 berita penting yang berhasil dianalisis.\n",
      "Dari jumlah tersebut, 8 berita sesuai dengan topik yang dipantau: rokok ilegal, sidak BNI.\n",
      "Fokus pemerintah terutama pada transparansi dan pengawasan sektor keuangan.\n",
      "Pernyataan dan kebijakan penting dari pejabat terkait terus dipantau secara intensif.\n",
      "\n",
      "**MEDIA ONLINE**\n",
      "\n",
      "**Topik Berita:** rokok ilegal, sidak BNI\n",
      "**Tonasi Berita:** positif\n",
      "\n",
      "**Pesan Kunci dan Analisis:**\n",
      "\n",
      "**ISU KEMENKEU**\n",
      "...\n",
      "[43 baris lainnya]\n",
      "----------------------------------------------------------------------\n",
      "\n",
      "🎯 Selesai! File tersedia di: 00_laporan_cetak/\n",
      "=== DEMO FUNGSI HELPER CONFIG PATH ===\n",
      "✅ Path berita penting ditemukan: 00_hasil_analisis/berita_penting/analisis_berita_penting_deepseek_20251002_105430.csv\n",
      "📊 File berhasil dibaca: 84 baris\n",
      "📋 Kolom tersedia: ['judul_berita', 'source_domain', 'url_berita', 'tanggal_berita_norm', 'kategori_isu']...\n",
      "✅ Berita berhasil dianalisis: 84\n",
      "\n",
      "📋 Info config berita penting:\n",
      "   Relative path: 00_hasil_analisis/berita_penting/analisis_berita_penting_deepseek_20251002_105430.csv\n",
      "   Absolute path: /Users/yusufpradana/Library/CloudStorage/OneDrive-Personal/Pekerjaan BMN/05. 2025/98_monitoring_berita/monitoring-berita/00_hasil_analisis/berita_penting/analisis_berita_penting_deepseek_20251002_105430.csv\n",
      "   Output dir: 00_hasil_analisis/berita_penting\n",
      "   Last updated: 2025-10-02 10:54:30\n",
      "\n",
      "💡 Keunggulan sistem path fleksibel:\n",
      "   1. Otomatis update setiap kali SEL 1 dijalankan\n",
      "   2. Path relatif tetap bekerja jika folder dipindah\n",
      "   3. Fallback ke absolute path jika diperlukan\n",
      "   4. Backup config otomatis sebelum update\n",
      "   5. Compatible dengan berbagai sistem operasi\n"
     ]
    }
   ],
   "source": [
    "file_loc = os.path.join(cwd, '05_analisis_berita_penting copy.ipynb')\n",
    "\n",
    "%run \"$file_loc\""
   ]
  },
  {
   "cell_type": "markdown",
   "metadata": {},
   "source": [
    "# Visualisasi Data"
   ]
  },
  {
   "cell_type": "code",
   "execution_count": 49,
   "metadata": {},
   "outputs": [
    {
     "name": "stdout",
     "output_type": "stream",
     "text": [
      "✅ Konfigurasi berhasil dimuat dari config.json\n",
      "   ✅ File berita penting tersedia\n",
      "✅ Data berita penting berhasil dimuat!\n",
      "\n",
      "✅ Data siap untuk divisualisasikan!\n",
      "🔄 Memulai preprocessing data untuk visualisasi...\n",
      "📅 Konversi format tanggal...\n",
      "   ✅ Konversi tanggal berhasil\n",
      "🧹 Cleaning teks untuk word cloud...\n",
      "   ✅ Text cleaning berhasil\n",
      "📊 Grouping data untuk analisis...\n",
      "   ✅ Grouping data berhasil\n",
      "📈 Perhitungan statistik...\n",
      "   ✅ Statistik berhasil dihitung\n",
      "✅ Preprocessing selesai!\n",
      "\n",
      "📋 Ringkasan Data Processed:\n",
      "   • Total artikel: 84\n",
      "   • Rentang tanggal: 2 hari\n",
      "   • Rata-rata artikel/hari: 42.0\n",
      "   • Jumlah media: 43\n",
      "   • Kata unik untuk word cloud: 130\n",
      "\n",
      "🎯 Data siap untuk visualisasi!\n",
      "   📊 Sentiment distribution: 3 kategori\n",
      "   📅 Timeline data: 6 data points\n",
      "   🏷️ Topic data: 2 topik\n",
      "   🌐 Media sources: 10 media\n",
      "✅ Fungsi-fungsi visualisasi telah didefinisikan!\n",
      "🚀 Memulai pembuatan semua visualisasi...\n",
      "============================================================\n",
      "📊 Dataset Overview:\n",
      "   • Periode: 2025-10-01 - 2025-10-02\n",
      "   • Total berita: 84 artikel\n",
      "   • Rata-rata per hari: 42.0 artikel\n",
      "   • Jumlah media: 43 media\n",
      "============================================================\n",
      "🎨 Membuat dan menampilkan visualisasi...\n",
      "\n",
      "📊 1. Pie Chart - Distribusi Sentimen\n"
     ]
    },
    {
     "data": {
      "application/vnd.plotly.v1+json": {
       "config": {
        "plotlyServerURL": "https://plot.ly"
       },
       "data": [
        {
         "hole": 0.4,
         "hovertemplate": "<b>%{label}</b><br>Jumlah: %{value}<br>Persentase: %{percent}<extra></extra>",
         "labels": [
          "positif",
          "netral",
          "negatif"
         ],
         "marker": {
          "colors": [
           "#2E8B57",
           "#808080",
           "#DC143C"
          ]
         },
         "textinfo": "label+percent+value",
         "textposition": "outside",
         "type": "pie",
         "values": [
          39,
          31,
          14
         ]
        }
       ],
       "layout": {
        "font": {
         "size": 12
        },
        "height": 500,
        "paper_bgcolor": "white",
        "plot_bgcolor": "white",
        "showlegend": true,
        "template": {
         "data": {
          "bar": [
           {
            "error_x": {
             "color": "#2a3f5f"
            },
            "error_y": {
             "color": "#2a3f5f"
            },
            "marker": {
             "line": {
              "color": "#E5ECF6",
              "width": 0.5
             },
             "pattern": {
              "fillmode": "overlay",
              "size": 10,
              "solidity": 0.2
             }
            },
            "type": "bar"
           }
          ],
          "barpolar": [
           {
            "marker": {
             "line": {
              "color": "#E5ECF6",
              "width": 0.5
             },
             "pattern": {
              "fillmode": "overlay",
              "size": 10,
              "solidity": 0.2
             }
            },
            "type": "barpolar"
           }
          ],
          "carpet": [
           {
            "aaxis": {
             "endlinecolor": "#2a3f5f",
             "gridcolor": "white",
             "linecolor": "white",
             "minorgridcolor": "white",
             "startlinecolor": "#2a3f5f"
            },
            "baxis": {
             "endlinecolor": "#2a3f5f",
             "gridcolor": "white",
             "linecolor": "white",
             "minorgridcolor": "white",
             "startlinecolor": "#2a3f5f"
            },
            "type": "carpet"
           }
          ],
          "choropleth": [
           {
            "colorbar": {
             "outlinewidth": 0,
             "ticks": ""
            },
            "type": "choropleth"
           }
          ],
          "contour": [
           {
            "colorbar": {
             "outlinewidth": 0,
             "ticks": ""
            },
            "colorscale": [
             [
              0,
              "#0d0887"
             ],
             [
              0.1111111111111111,
              "#46039f"
             ],
             [
              0.2222222222222222,
              "#7201a8"
             ],
             [
              0.3333333333333333,
              "#9c179e"
             ],
             [
              0.4444444444444444,
              "#bd3786"
             ],
             [
              0.5555555555555556,
              "#d8576b"
             ],
             [
              0.6666666666666666,
              "#ed7953"
             ],
             [
              0.7777777777777778,
              "#fb9f3a"
             ],
             [
              0.8888888888888888,
              "#fdca26"
             ],
             [
              1,
              "#f0f921"
             ]
            ],
            "type": "contour"
           }
          ],
          "contourcarpet": [
           {
            "colorbar": {
             "outlinewidth": 0,
             "ticks": ""
            },
            "type": "contourcarpet"
           }
          ],
          "heatmap": [
           {
            "colorbar": {
             "outlinewidth": 0,
             "ticks": ""
            },
            "colorscale": [
             [
              0,
              "#0d0887"
             ],
             [
              0.1111111111111111,
              "#46039f"
             ],
             [
              0.2222222222222222,
              "#7201a8"
             ],
             [
              0.3333333333333333,
              "#9c179e"
             ],
             [
              0.4444444444444444,
              "#bd3786"
             ],
             [
              0.5555555555555556,
              "#d8576b"
             ],
             [
              0.6666666666666666,
              "#ed7953"
             ],
             [
              0.7777777777777778,
              "#fb9f3a"
             ],
             [
              0.8888888888888888,
              "#fdca26"
             ],
             [
              1,
              "#f0f921"
             ]
            ],
            "type": "heatmap"
           }
          ],
          "heatmapgl": [
           {
            "colorbar": {
             "outlinewidth": 0,
             "ticks": ""
            },
            "colorscale": [
             [
              0,
              "#0d0887"
             ],
             [
              0.1111111111111111,
              "#46039f"
             ],
             [
              0.2222222222222222,
              "#7201a8"
             ],
             [
              0.3333333333333333,
              "#9c179e"
             ],
             [
              0.4444444444444444,
              "#bd3786"
             ],
             [
              0.5555555555555556,
              "#d8576b"
             ],
             [
              0.6666666666666666,
              "#ed7953"
             ],
             [
              0.7777777777777778,
              "#fb9f3a"
             ],
             [
              0.8888888888888888,
              "#fdca26"
             ],
             [
              1,
              "#f0f921"
             ]
            ],
            "type": "heatmapgl"
           }
          ],
          "histogram": [
           {
            "marker": {
             "pattern": {
              "fillmode": "overlay",
              "size": 10,
              "solidity": 0.2
             }
            },
            "type": "histogram"
           }
          ],
          "histogram2d": [
           {
            "colorbar": {
             "outlinewidth": 0,
             "ticks": ""
            },
            "colorscale": [
             [
              0,
              "#0d0887"
             ],
             [
              0.1111111111111111,
              "#46039f"
             ],
             [
              0.2222222222222222,
              "#7201a8"
             ],
             [
              0.3333333333333333,
              "#9c179e"
             ],
             [
              0.4444444444444444,
              "#bd3786"
             ],
             [
              0.5555555555555556,
              "#d8576b"
             ],
             [
              0.6666666666666666,
              "#ed7953"
             ],
             [
              0.7777777777777778,
              "#fb9f3a"
             ],
             [
              0.8888888888888888,
              "#fdca26"
             ],
             [
              1,
              "#f0f921"
             ]
            ],
            "type": "histogram2d"
           }
          ],
          "histogram2dcontour": [
           {
            "colorbar": {
             "outlinewidth": 0,
             "ticks": ""
            },
            "colorscale": [
             [
              0,
              "#0d0887"
             ],
             [
              0.1111111111111111,
              "#46039f"
             ],
             [
              0.2222222222222222,
              "#7201a8"
             ],
             [
              0.3333333333333333,
              "#9c179e"
             ],
             [
              0.4444444444444444,
              "#bd3786"
             ],
             [
              0.5555555555555556,
              "#d8576b"
             ],
             [
              0.6666666666666666,
              "#ed7953"
             ],
             [
              0.7777777777777778,
              "#fb9f3a"
             ],
             [
              0.8888888888888888,
              "#fdca26"
             ],
             [
              1,
              "#f0f921"
             ]
            ],
            "type": "histogram2dcontour"
           }
          ],
          "mesh3d": [
           {
            "colorbar": {
             "outlinewidth": 0,
             "ticks": ""
            },
            "type": "mesh3d"
           }
          ],
          "parcoords": [
           {
            "line": {
             "colorbar": {
              "outlinewidth": 0,
              "ticks": ""
             }
            },
            "type": "parcoords"
           }
          ],
          "pie": [
           {
            "automargin": true,
            "type": "pie"
           }
          ],
          "scatter": [
           {
            "fillpattern": {
             "fillmode": "overlay",
             "size": 10,
             "solidity": 0.2
            },
            "type": "scatter"
           }
          ],
          "scatter3d": [
           {
            "line": {
             "colorbar": {
              "outlinewidth": 0,
              "ticks": ""
             }
            },
            "marker": {
             "colorbar": {
              "outlinewidth": 0,
              "ticks": ""
             }
            },
            "type": "scatter3d"
           }
          ],
          "scattercarpet": [
           {
            "marker": {
             "colorbar": {
              "outlinewidth": 0,
              "ticks": ""
             }
            },
            "type": "scattercarpet"
           }
          ],
          "scattergeo": [
           {
            "marker": {
             "colorbar": {
              "outlinewidth": 0,
              "ticks": ""
             }
            },
            "type": "scattergeo"
           }
          ],
          "scattergl": [
           {
            "marker": {
             "colorbar": {
              "outlinewidth": 0,
              "ticks": ""
             }
            },
            "type": "scattergl"
           }
          ],
          "scattermapbox": [
           {
            "marker": {
             "colorbar": {
              "outlinewidth": 0,
              "ticks": ""
             }
            },
            "type": "scattermapbox"
           }
          ],
          "scatterpolar": [
           {
            "marker": {
             "colorbar": {
              "outlinewidth": 0,
              "ticks": ""
             }
            },
            "type": "scatterpolar"
           }
          ],
          "scatterpolargl": [
           {
            "marker": {
             "colorbar": {
              "outlinewidth": 0,
              "ticks": ""
             }
            },
            "type": "scatterpolargl"
           }
          ],
          "scatterternary": [
           {
            "marker": {
             "colorbar": {
              "outlinewidth": 0,
              "ticks": ""
             }
            },
            "type": "scatterternary"
           }
          ],
          "surface": [
           {
            "colorbar": {
             "outlinewidth": 0,
             "ticks": ""
            },
            "colorscale": [
             [
              0,
              "#0d0887"
             ],
             [
              0.1111111111111111,
              "#46039f"
             ],
             [
              0.2222222222222222,
              "#7201a8"
             ],
             [
              0.3333333333333333,
              "#9c179e"
             ],
             [
              0.4444444444444444,
              "#bd3786"
             ],
             [
              0.5555555555555556,
              "#d8576b"
             ],
             [
              0.6666666666666666,
              "#ed7953"
             ],
             [
              0.7777777777777778,
              "#fb9f3a"
             ],
             [
              0.8888888888888888,
              "#fdca26"
             ],
             [
              1,
              "#f0f921"
             ]
            ],
            "type": "surface"
           }
          ],
          "table": [
           {
            "cells": {
             "fill": {
              "color": "#EBF0F8"
             },
             "line": {
              "color": "white"
             }
            },
            "header": {
             "fill": {
              "color": "#C8D4E3"
             },
             "line": {
              "color": "white"
             }
            },
            "type": "table"
           }
          ]
         },
         "layout": {
          "annotationdefaults": {
           "arrowcolor": "#2a3f5f",
           "arrowhead": 0,
           "arrowwidth": 1
          },
          "autotypenumbers": "strict",
          "coloraxis": {
           "colorbar": {
            "outlinewidth": 0,
            "ticks": ""
           }
          },
          "colorscale": {
           "diverging": [
            [
             0,
             "#8e0152"
            ],
            [
             0.1,
             "#c51b7d"
            ],
            [
             0.2,
             "#de77ae"
            ],
            [
             0.3,
             "#f1b6da"
            ],
            [
             0.4,
             "#fde0ef"
            ],
            [
             0.5,
             "#f7f7f7"
            ],
            [
             0.6,
             "#e6f5d0"
            ],
            [
             0.7,
             "#b8e186"
            ],
            [
             0.8,
             "#7fbc41"
            ],
            [
             0.9,
             "#4d9221"
            ],
            [
             1,
             "#276419"
            ]
           ],
           "sequential": [
            [
             0,
             "#0d0887"
            ],
            [
             0.1111111111111111,
             "#46039f"
            ],
            [
             0.2222222222222222,
             "#7201a8"
            ],
            [
             0.3333333333333333,
             "#9c179e"
            ],
            [
             0.4444444444444444,
             "#bd3786"
            ],
            [
             0.5555555555555556,
             "#d8576b"
            ],
            [
             0.6666666666666666,
             "#ed7953"
            ],
            [
             0.7777777777777778,
             "#fb9f3a"
            ],
            [
             0.8888888888888888,
             "#fdca26"
            ],
            [
             1,
             "#f0f921"
            ]
           ],
           "sequentialminus": [
            [
             0,
             "#0d0887"
            ],
            [
             0.1111111111111111,
             "#46039f"
            ],
            [
             0.2222222222222222,
             "#7201a8"
            ],
            [
             0.3333333333333333,
             "#9c179e"
            ],
            [
             0.4444444444444444,
             "#bd3786"
            ],
            [
             0.5555555555555556,
             "#d8576b"
            ],
            [
             0.6666666666666666,
             "#ed7953"
            ],
            [
             0.7777777777777778,
             "#fb9f3a"
            ],
            [
             0.8888888888888888,
             "#fdca26"
            ],
            [
             1,
             "#f0f921"
            ]
           ]
          },
          "colorway": [
           "#636efa",
           "#EF553B",
           "#00cc96",
           "#ab63fa",
           "#FFA15A",
           "#19d3f3",
           "#FF6692",
           "#B6E880",
           "#FF97FF",
           "#FECB52"
          ],
          "font": {
           "color": "#2a3f5f"
          },
          "geo": {
           "bgcolor": "white",
           "lakecolor": "white",
           "landcolor": "#E5ECF6",
           "showlakes": true,
           "showland": true,
           "subunitcolor": "white"
          },
          "hoverlabel": {
           "align": "left"
          },
          "hovermode": "closest",
          "mapbox": {
           "style": "light"
          },
          "paper_bgcolor": "white",
          "plot_bgcolor": "#E5ECF6",
          "polar": {
           "angularaxis": {
            "gridcolor": "white",
            "linecolor": "white",
            "ticks": ""
           },
           "bgcolor": "#E5ECF6",
           "radialaxis": {
            "gridcolor": "white",
            "linecolor": "white",
            "ticks": ""
           }
          },
          "scene": {
           "xaxis": {
            "backgroundcolor": "#E5ECF6",
            "gridcolor": "white",
            "gridwidth": 2,
            "linecolor": "white",
            "showbackground": true,
            "ticks": "",
            "zerolinecolor": "white"
           },
           "yaxis": {
            "backgroundcolor": "#E5ECF6",
            "gridcolor": "white",
            "gridwidth": 2,
            "linecolor": "white",
            "showbackground": true,
            "ticks": "",
            "zerolinecolor": "white"
           },
           "zaxis": {
            "backgroundcolor": "#E5ECF6",
            "gridcolor": "white",
            "gridwidth": 2,
            "linecolor": "white",
            "showbackground": true,
            "ticks": "",
            "zerolinecolor": "white"
           }
          },
          "shapedefaults": {
           "line": {
            "color": "#2a3f5f"
           }
          },
          "ternary": {
           "aaxis": {
            "gridcolor": "white",
            "linecolor": "white",
            "ticks": ""
           },
           "baxis": {
            "gridcolor": "white",
            "linecolor": "white",
            "ticks": ""
           },
           "bgcolor": "#E5ECF6",
           "caxis": {
            "gridcolor": "white",
            "linecolor": "white",
            "ticks": ""
           }
          },
          "title": {
           "x": 0.05
          },
          "xaxis": {
           "automargin": true,
           "gridcolor": "white",
           "linecolor": "white",
           "ticks": "",
           "title": {
            "standoff": 15
           },
           "zerolinecolor": "white",
           "zerolinewidth": 2
          },
          "yaxis": {
           "automargin": true,
           "gridcolor": "white",
           "linecolor": "white",
           "ticks": "",
           "title": {
            "standoff": 15
           },
           "zerolinecolor": "white",
           "zerolinewidth": 2
          }
         }
        },
        "width": 700
       }
      }
     },
     "metadata": {},
     "output_type": "display_data"
    },
    {
     "name": "stdout",
     "output_type": "stream",
     "text": [
      "\n",
      "📈 2. Line Chart - Timeline Sentimen Harian\n"
     ]
    },
    {
     "data": {
      "application/vnd.plotly.v1+json": {
       "config": {
        "plotlyServerURL": "https://plot.ly"
       },
       "data": [
        {
         "hovertemplate": "<b>Positif</b><br>Tanggal: %{x}<br>Jumlah: %{y}<extra></extra>",
         "line": {
          "color": "#2E8B57",
          "width": 3
         },
         "marker": {
          "size": 8
         },
         "mode": "lines+markers+text",
         "name": "Positif",
         "text": [
          33,
          6
         ],
         "textfont": {
          "color": "#2E8B57",
          "size": 10
         },
         "textposition": "top center",
         "type": "scatter",
         "x": [
          "2025-10-01",
          "2025-10-02"
         ],
         "y": [
          33,
          6
         ]
        },
        {
         "hovertemplate": "<b>Negatif</b><br>Tanggal: %{x}<br>Jumlah: %{y}<extra></extra>",
         "line": {
          "color": "#DC143C",
          "width": 3
         },
         "marker": {
          "size": 8
         },
         "mode": "lines+markers+text",
         "name": "Negatif",
         "text": [
          12,
          2
         ],
         "textfont": {
          "color": "#DC143C",
          "size": 10
         },
         "textposition": "top center",
         "type": "scatter",
         "x": [
          "2025-10-01",
          "2025-10-02"
         ],
         "y": [
          12,
          2
         ]
        },
        {
         "hovertemplate": "<b>Netral</b><br>Tanggal: %{x}<br>Jumlah: %{y}<extra></extra>",
         "line": {
          "color": "#808080",
          "width": 3
         },
         "marker": {
          "size": 8
         },
         "mode": "lines+markers+text",
         "name": "Netral",
         "text": [
          28,
          3
         ],
         "textfont": {
          "color": "#808080",
          "size": 10
         },
         "textposition": "top center",
         "type": "scatter",
         "x": [
          "2025-10-01",
          "2025-10-02"
         ],
         "y": [
          28,
          3
         ]
        }
       ],
       "layout": {
        "font": {
         "size": 12
        },
        "height": 500,
        "hovermode": "x unified",
        "paper_bgcolor": "white",
        "plot_bgcolor": "white",
        "template": {
         "data": {
          "bar": [
           {
            "error_x": {
             "color": "#2a3f5f"
            },
            "error_y": {
             "color": "#2a3f5f"
            },
            "marker": {
             "line": {
              "color": "#E5ECF6",
              "width": 0.5
             },
             "pattern": {
              "fillmode": "overlay",
              "size": 10,
              "solidity": 0.2
             }
            },
            "type": "bar"
           }
          ],
          "barpolar": [
           {
            "marker": {
             "line": {
              "color": "#E5ECF6",
              "width": 0.5
             },
             "pattern": {
              "fillmode": "overlay",
              "size": 10,
              "solidity": 0.2
             }
            },
            "type": "barpolar"
           }
          ],
          "carpet": [
           {
            "aaxis": {
             "endlinecolor": "#2a3f5f",
             "gridcolor": "white",
             "linecolor": "white",
             "minorgridcolor": "white",
             "startlinecolor": "#2a3f5f"
            },
            "baxis": {
             "endlinecolor": "#2a3f5f",
             "gridcolor": "white",
             "linecolor": "white",
             "minorgridcolor": "white",
             "startlinecolor": "#2a3f5f"
            },
            "type": "carpet"
           }
          ],
          "choropleth": [
           {
            "colorbar": {
             "outlinewidth": 0,
             "ticks": ""
            },
            "type": "choropleth"
           }
          ],
          "contour": [
           {
            "colorbar": {
             "outlinewidth": 0,
             "ticks": ""
            },
            "colorscale": [
             [
              0,
              "#0d0887"
             ],
             [
              0.1111111111111111,
              "#46039f"
             ],
             [
              0.2222222222222222,
              "#7201a8"
             ],
             [
              0.3333333333333333,
              "#9c179e"
             ],
             [
              0.4444444444444444,
              "#bd3786"
             ],
             [
              0.5555555555555556,
              "#d8576b"
             ],
             [
              0.6666666666666666,
              "#ed7953"
             ],
             [
              0.7777777777777778,
              "#fb9f3a"
             ],
             [
              0.8888888888888888,
              "#fdca26"
             ],
             [
              1,
              "#f0f921"
             ]
            ],
            "type": "contour"
           }
          ],
          "contourcarpet": [
           {
            "colorbar": {
             "outlinewidth": 0,
             "ticks": ""
            },
            "type": "contourcarpet"
           }
          ],
          "heatmap": [
           {
            "colorbar": {
             "outlinewidth": 0,
             "ticks": ""
            },
            "colorscale": [
             [
              0,
              "#0d0887"
             ],
             [
              0.1111111111111111,
              "#46039f"
             ],
             [
              0.2222222222222222,
              "#7201a8"
             ],
             [
              0.3333333333333333,
              "#9c179e"
             ],
             [
              0.4444444444444444,
              "#bd3786"
             ],
             [
              0.5555555555555556,
              "#d8576b"
             ],
             [
              0.6666666666666666,
              "#ed7953"
             ],
             [
              0.7777777777777778,
              "#fb9f3a"
             ],
             [
              0.8888888888888888,
              "#fdca26"
             ],
             [
              1,
              "#f0f921"
             ]
            ],
            "type": "heatmap"
           }
          ],
          "heatmapgl": [
           {
            "colorbar": {
             "outlinewidth": 0,
             "ticks": ""
            },
            "colorscale": [
             [
              0,
              "#0d0887"
             ],
             [
              0.1111111111111111,
              "#46039f"
             ],
             [
              0.2222222222222222,
              "#7201a8"
             ],
             [
              0.3333333333333333,
              "#9c179e"
             ],
             [
              0.4444444444444444,
              "#bd3786"
             ],
             [
              0.5555555555555556,
              "#d8576b"
             ],
             [
              0.6666666666666666,
              "#ed7953"
             ],
             [
              0.7777777777777778,
              "#fb9f3a"
             ],
             [
              0.8888888888888888,
              "#fdca26"
             ],
             [
              1,
              "#f0f921"
             ]
            ],
            "type": "heatmapgl"
           }
          ],
          "histogram": [
           {
            "marker": {
             "pattern": {
              "fillmode": "overlay",
              "size": 10,
              "solidity": 0.2
             }
            },
            "type": "histogram"
           }
          ],
          "histogram2d": [
           {
            "colorbar": {
             "outlinewidth": 0,
             "ticks": ""
            },
            "colorscale": [
             [
              0,
              "#0d0887"
             ],
             [
              0.1111111111111111,
              "#46039f"
             ],
             [
              0.2222222222222222,
              "#7201a8"
             ],
             [
              0.3333333333333333,
              "#9c179e"
             ],
             [
              0.4444444444444444,
              "#bd3786"
             ],
             [
              0.5555555555555556,
              "#d8576b"
             ],
             [
              0.6666666666666666,
              "#ed7953"
             ],
             [
              0.7777777777777778,
              "#fb9f3a"
             ],
             [
              0.8888888888888888,
              "#fdca26"
             ],
             [
              1,
              "#f0f921"
             ]
            ],
            "type": "histogram2d"
           }
          ],
          "histogram2dcontour": [
           {
            "colorbar": {
             "outlinewidth": 0,
             "ticks": ""
            },
            "colorscale": [
             [
              0,
              "#0d0887"
             ],
             [
              0.1111111111111111,
              "#46039f"
             ],
             [
              0.2222222222222222,
              "#7201a8"
             ],
             [
              0.3333333333333333,
              "#9c179e"
             ],
             [
              0.4444444444444444,
              "#bd3786"
             ],
             [
              0.5555555555555556,
              "#d8576b"
             ],
             [
              0.6666666666666666,
              "#ed7953"
             ],
             [
              0.7777777777777778,
              "#fb9f3a"
             ],
             [
              0.8888888888888888,
              "#fdca26"
             ],
             [
              1,
              "#f0f921"
             ]
            ],
            "type": "histogram2dcontour"
           }
          ],
          "mesh3d": [
           {
            "colorbar": {
             "outlinewidth": 0,
             "ticks": ""
            },
            "type": "mesh3d"
           }
          ],
          "parcoords": [
           {
            "line": {
             "colorbar": {
              "outlinewidth": 0,
              "ticks": ""
             }
            },
            "type": "parcoords"
           }
          ],
          "pie": [
           {
            "automargin": true,
            "type": "pie"
           }
          ],
          "scatter": [
           {
            "fillpattern": {
             "fillmode": "overlay",
             "size": 10,
             "solidity": 0.2
            },
            "type": "scatter"
           }
          ],
          "scatter3d": [
           {
            "line": {
             "colorbar": {
              "outlinewidth": 0,
              "ticks": ""
             }
            },
            "marker": {
             "colorbar": {
              "outlinewidth": 0,
              "ticks": ""
             }
            },
            "type": "scatter3d"
           }
          ],
          "scattercarpet": [
           {
            "marker": {
             "colorbar": {
              "outlinewidth": 0,
              "ticks": ""
             }
            },
            "type": "scattercarpet"
           }
          ],
          "scattergeo": [
           {
            "marker": {
             "colorbar": {
              "outlinewidth": 0,
              "ticks": ""
             }
            },
            "type": "scattergeo"
           }
          ],
          "scattergl": [
           {
            "marker": {
             "colorbar": {
              "outlinewidth": 0,
              "ticks": ""
             }
            },
            "type": "scattergl"
           }
          ],
          "scattermapbox": [
           {
            "marker": {
             "colorbar": {
              "outlinewidth": 0,
              "ticks": ""
             }
            },
            "type": "scattermapbox"
           }
          ],
          "scatterpolar": [
           {
            "marker": {
             "colorbar": {
              "outlinewidth": 0,
              "ticks": ""
             }
            },
            "type": "scatterpolar"
           }
          ],
          "scatterpolargl": [
           {
            "marker": {
             "colorbar": {
              "outlinewidth": 0,
              "ticks": ""
             }
            },
            "type": "scatterpolargl"
           }
          ],
          "scatterternary": [
           {
            "marker": {
             "colorbar": {
              "outlinewidth": 0,
              "ticks": ""
             }
            },
            "type": "scatterternary"
           }
          ],
          "surface": [
           {
            "colorbar": {
             "outlinewidth": 0,
             "ticks": ""
            },
            "colorscale": [
             [
              0,
              "#0d0887"
             ],
             [
              0.1111111111111111,
              "#46039f"
             ],
             [
              0.2222222222222222,
              "#7201a8"
             ],
             [
              0.3333333333333333,
              "#9c179e"
             ],
             [
              0.4444444444444444,
              "#bd3786"
             ],
             [
              0.5555555555555556,
              "#d8576b"
             ],
             [
              0.6666666666666666,
              "#ed7953"
             ],
             [
              0.7777777777777778,
              "#fb9f3a"
             ],
             [
              0.8888888888888888,
              "#fdca26"
             ],
             [
              1,
              "#f0f921"
             ]
            ],
            "type": "surface"
           }
          ],
          "table": [
           {
            "cells": {
             "fill": {
              "color": "#EBF0F8"
             },
             "line": {
              "color": "white"
             }
            },
            "header": {
             "fill": {
              "color": "#C8D4E3"
             },
             "line": {
              "color": "white"
             }
            },
            "type": "table"
           }
          ]
         },
         "layout": {
          "annotationdefaults": {
           "arrowcolor": "#2a3f5f",
           "arrowhead": 0,
           "arrowwidth": 1
          },
          "autotypenumbers": "strict",
          "coloraxis": {
           "colorbar": {
            "outlinewidth": 0,
            "ticks": ""
           }
          },
          "colorscale": {
           "diverging": [
            [
             0,
             "#8e0152"
            ],
            [
             0.1,
             "#c51b7d"
            ],
            [
             0.2,
             "#de77ae"
            ],
            [
             0.3,
             "#f1b6da"
            ],
            [
             0.4,
             "#fde0ef"
            ],
            [
             0.5,
             "#f7f7f7"
            ],
            [
             0.6,
             "#e6f5d0"
            ],
            [
             0.7,
             "#b8e186"
            ],
            [
             0.8,
             "#7fbc41"
            ],
            [
             0.9,
             "#4d9221"
            ],
            [
             1,
             "#276419"
            ]
           ],
           "sequential": [
            [
             0,
             "#0d0887"
            ],
            [
             0.1111111111111111,
             "#46039f"
            ],
            [
             0.2222222222222222,
             "#7201a8"
            ],
            [
             0.3333333333333333,
             "#9c179e"
            ],
            [
             0.4444444444444444,
             "#bd3786"
            ],
            [
             0.5555555555555556,
             "#d8576b"
            ],
            [
             0.6666666666666666,
             "#ed7953"
            ],
            [
             0.7777777777777778,
             "#fb9f3a"
            ],
            [
             0.8888888888888888,
             "#fdca26"
            ],
            [
             1,
             "#f0f921"
            ]
           ],
           "sequentialminus": [
            [
             0,
             "#0d0887"
            ],
            [
             0.1111111111111111,
             "#46039f"
            ],
            [
             0.2222222222222222,
             "#7201a8"
            ],
            [
             0.3333333333333333,
             "#9c179e"
            ],
            [
             0.4444444444444444,
             "#bd3786"
            ],
            [
             0.5555555555555556,
             "#d8576b"
            ],
            [
             0.6666666666666666,
             "#ed7953"
            ],
            [
             0.7777777777777778,
             "#fb9f3a"
            ],
            [
             0.8888888888888888,
             "#fdca26"
            ],
            [
             1,
             "#f0f921"
            ]
           ]
          },
          "colorway": [
           "#636efa",
           "#EF553B",
           "#00cc96",
           "#ab63fa",
           "#FFA15A",
           "#19d3f3",
           "#FF6692",
           "#B6E880",
           "#FF97FF",
           "#FECB52"
          ],
          "font": {
           "color": "#2a3f5f"
          },
          "geo": {
           "bgcolor": "white",
           "lakecolor": "white",
           "landcolor": "#E5ECF6",
           "showlakes": true,
           "showland": true,
           "subunitcolor": "white"
          },
          "hoverlabel": {
           "align": "left"
          },
          "hovermode": "closest",
          "mapbox": {
           "style": "light"
          },
          "paper_bgcolor": "white",
          "plot_bgcolor": "#E5ECF6",
          "polar": {
           "angularaxis": {
            "gridcolor": "white",
            "linecolor": "white",
            "ticks": ""
           },
           "bgcolor": "#E5ECF6",
           "radialaxis": {
            "gridcolor": "white",
            "linecolor": "white",
            "ticks": ""
           }
          },
          "scene": {
           "xaxis": {
            "backgroundcolor": "#E5ECF6",
            "gridcolor": "white",
            "gridwidth": 2,
            "linecolor": "white",
            "showbackground": true,
            "ticks": "",
            "zerolinecolor": "white"
           },
           "yaxis": {
            "backgroundcolor": "#E5ECF6",
            "gridcolor": "white",
            "gridwidth": 2,
            "linecolor": "white",
            "showbackground": true,
            "ticks": "",
            "zerolinecolor": "white"
           },
           "zaxis": {
            "backgroundcolor": "#E5ECF6",
            "gridcolor": "white",
            "gridwidth": 2,
            "linecolor": "white",
            "showbackground": true,
            "ticks": "",
            "zerolinecolor": "white"
           }
          },
          "shapedefaults": {
           "line": {
            "color": "#2a3f5f"
           }
          },
          "ternary": {
           "aaxis": {
            "gridcolor": "white",
            "linecolor": "white",
            "ticks": ""
           },
           "baxis": {
            "gridcolor": "white",
            "linecolor": "white",
            "ticks": ""
           },
           "bgcolor": "#E5ECF6",
           "caxis": {
            "gridcolor": "white",
            "linecolor": "white",
            "ticks": ""
           }
          },
          "title": {
           "x": 0.05
          },
          "xaxis": {
           "automargin": true,
           "gridcolor": "white",
           "linecolor": "white",
           "ticks": "",
           "title": {
            "standoff": 15
           },
           "zerolinecolor": "white",
           "zerolinewidth": 2
          },
          "yaxis": {
           "automargin": true,
           "gridcolor": "white",
           "linecolor": "white",
           "ticks": "",
           "title": {
            "standoff": 15
           },
           "zerolinecolor": "white",
           "zerolinewidth": 2
          }
         }
        },
        "width": 700,
        "xaxis": {
         "title": {
          "text": "Tanggal"
         }
        },
        "yaxis": {
         "title": {
          "text": "Jumlah Berita"
         }
        }
       }
      }
     },
     "metadata": {},
     "output_type": "display_data"
    },
    {
     "name": "stdout",
     "output_type": "stream",
     "text": [
      "\n",
      "📋 3. Stacked Bar Chart - Ringkasan Harian\n"
     ]
    },
    {
     "data": {
      "application/vnd.plotly.v1+json": {
       "config": {
        "plotlyServerURL": "https://plot.ly"
       },
       "data": [
        {
         "hovertemplate": "<b>Positif</b><br>Tanggal: %{x}<br>Jumlah: %{y}<extra></extra>",
         "marker": {
          "color": "#2E8B57"
         },
         "name": "Positif",
         "text": [
          "33",
          "6"
         ],
         "textfont": {
          "color": "white",
          "size": 10
         },
         "textposition": "inside",
         "type": "bar",
         "x": [
          "2025-10-01",
          "2025-10-02"
         ],
         "y": [
          33,
          6
         ]
        },
        {
         "hovertemplate": "<b>Negatif</b><br>Tanggal: %{x}<br>Jumlah: %{y}<extra></extra>",
         "marker": {
          "color": "#DC143C"
         },
         "name": "Negatif",
         "text": [
          "12",
          "2"
         ],
         "textfont": {
          "color": "white",
          "size": 10
         },
         "textposition": "inside",
         "type": "bar",
         "x": [
          "2025-10-01",
          "2025-10-02"
         ],
         "y": [
          12,
          2
         ]
        },
        {
         "hovertemplate": "<b>Netral</b><br>Tanggal: %{x}<br>Jumlah: %{y}<extra></extra>",
         "marker": {
          "color": "#808080"
         },
         "name": "Netral",
         "text": [
          "28",
          "3"
         ],
         "textfont": {
          "color": "white",
          "size": 10
         },
         "textposition": "inside",
         "type": "bar",
         "x": [
          "2025-10-01",
          "2025-10-02"
         ],
         "y": [
          28,
          3
         ]
        }
       ],
       "layout": {
        "barmode": "stack",
        "font": {
         "size": 12
        },
        "height": 500,
        "paper_bgcolor": "white",
        "plot_bgcolor": "white",
        "template": {
         "data": {
          "bar": [
           {
            "error_x": {
             "color": "#2a3f5f"
            },
            "error_y": {
             "color": "#2a3f5f"
            },
            "marker": {
             "line": {
              "color": "#E5ECF6",
              "width": 0.5
             },
             "pattern": {
              "fillmode": "overlay",
              "size": 10,
              "solidity": 0.2
             }
            },
            "type": "bar"
           }
          ],
          "barpolar": [
           {
            "marker": {
             "line": {
              "color": "#E5ECF6",
              "width": 0.5
             },
             "pattern": {
              "fillmode": "overlay",
              "size": 10,
              "solidity": 0.2
             }
            },
            "type": "barpolar"
           }
          ],
          "carpet": [
           {
            "aaxis": {
             "endlinecolor": "#2a3f5f",
             "gridcolor": "white",
             "linecolor": "white",
             "minorgridcolor": "white",
             "startlinecolor": "#2a3f5f"
            },
            "baxis": {
             "endlinecolor": "#2a3f5f",
             "gridcolor": "white",
             "linecolor": "white",
             "minorgridcolor": "white",
             "startlinecolor": "#2a3f5f"
            },
            "type": "carpet"
           }
          ],
          "choropleth": [
           {
            "colorbar": {
             "outlinewidth": 0,
             "ticks": ""
            },
            "type": "choropleth"
           }
          ],
          "contour": [
           {
            "colorbar": {
             "outlinewidth": 0,
             "ticks": ""
            },
            "colorscale": [
             [
              0,
              "#0d0887"
             ],
             [
              0.1111111111111111,
              "#46039f"
             ],
             [
              0.2222222222222222,
              "#7201a8"
             ],
             [
              0.3333333333333333,
              "#9c179e"
             ],
             [
              0.4444444444444444,
              "#bd3786"
             ],
             [
              0.5555555555555556,
              "#d8576b"
             ],
             [
              0.6666666666666666,
              "#ed7953"
             ],
             [
              0.7777777777777778,
              "#fb9f3a"
             ],
             [
              0.8888888888888888,
              "#fdca26"
             ],
             [
              1,
              "#f0f921"
             ]
            ],
            "type": "contour"
           }
          ],
          "contourcarpet": [
           {
            "colorbar": {
             "outlinewidth": 0,
             "ticks": ""
            },
            "type": "contourcarpet"
           }
          ],
          "heatmap": [
           {
            "colorbar": {
             "outlinewidth": 0,
             "ticks": ""
            },
            "colorscale": [
             [
              0,
              "#0d0887"
             ],
             [
              0.1111111111111111,
              "#46039f"
             ],
             [
              0.2222222222222222,
              "#7201a8"
             ],
             [
              0.3333333333333333,
              "#9c179e"
             ],
             [
              0.4444444444444444,
              "#bd3786"
             ],
             [
              0.5555555555555556,
              "#d8576b"
             ],
             [
              0.6666666666666666,
              "#ed7953"
             ],
             [
              0.7777777777777778,
              "#fb9f3a"
             ],
             [
              0.8888888888888888,
              "#fdca26"
             ],
             [
              1,
              "#f0f921"
             ]
            ],
            "type": "heatmap"
           }
          ],
          "heatmapgl": [
           {
            "colorbar": {
             "outlinewidth": 0,
             "ticks": ""
            },
            "colorscale": [
             [
              0,
              "#0d0887"
             ],
             [
              0.1111111111111111,
              "#46039f"
             ],
             [
              0.2222222222222222,
              "#7201a8"
             ],
             [
              0.3333333333333333,
              "#9c179e"
             ],
             [
              0.4444444444444444,
              "#bd3786"
             ],
             [
              0.5555555555555556,
              "#d8576b"
             ],
             [
              0.6666666666666666,
              "#ed7953"
             ],
             [
              0.7777777777777778,
              "#fb9f3a"
             ],
             [
              0.8888888888888888,
              "#fdca26"
             ],
             [
              1,
              "#f0f921"
             ]
            ],
            "type": "heatmapgl"
           }
          ],
          "histogram": [
           {
            "marker": {
             "pattern": {
              "fillmode": "overlay",
              "size": 10,
              "solidity": 0.2
             }
            },
            "type": "histogram"
           }
          ],
          "histogram2d": [
           {
            "colorbar": {
             "outlinewidth": 0,
             "ticks": ""
            },
            "colorscale": [
             [
              0,
              "#0d0887"
             ],
             [
              0.1111111111111111,
              "#46039f"
             ],
             [
              0.2222222222222222,
              "#7201a8"
             ],
             [
              0.3333333333333333,
              "#9c179e"
             ],
             [
              0.4444444444444444,
              "#bd3786"
             ],
             [
              0.5555555555555556,
              "#d8576b"
             ],
             [
              0.6666666666666666,
              "#ed7953"
             ],
             [
              0.7777777777777778,
              "#fb9f3a"
             ],
             [
              0.8888888888888888,
              "#fdca26"
             ],
             [
              1,
              "#f0f921"
             ]
            ],
            "type": "histogram2d"
           }
          ],
          "histogram2dcontour": [
           {
            "colorbar": {
             "outlinewidth": 0,
             "ticks": ""
            },
            "colorscale": [
             [
              0,
              "#0d0887"
             ],
             [
              0.1111111111111111,
              "#46039f"
             ],
             [
              0.2222222222222222,
              "#7201a8"
             ],
             [
              0.3333333333333333,
              "#9c179e"
             ],
             [
              0.4444444444444444,
              "#bd3786"
             ],
             [
              0.5555555555555556,
              "#d8576b"
             ],
             [
              0.6666666666666666,
              "#ed7953"
             ],
             [
              0.7777777777777778,
              "#fb9f3a"
             ],
             [
              0.8888888888888888,
              "#fdca26"
             ],
             [
              1,
              "#f0f921"
             ]
            ],
            "type": "histogram2dcontour"
           }
          ],
          "mesh3d": [
           {
            "colorbar": {
             "outlinewidth": 0,
             "ticks": ""
            },
            "type": "mesh3d"
           }
          ],
          "parcoords": [
           {
            "line": {
             "colorbar": {
              "outlinewidth": 0,
              "ticks": ""
             }
            },
            "type": "parcoords"
           }
          ],
          "pie": [
           {
            "automargin": true,
            "type": "pie"
           }
          ],
          "scatter": [
           {
            "fillpattern": {
             "fillmode": "overlay",
             "size": 10,
             "solidity": 0.2
            },
            "type": "scatter"
           }
          ],
          "scatter3d": [
           {
            "line": {
             "colorbar": {
              "outlinewidth": 0,
              "ticks": ""
             }
            },
            "marker": {
             "colorbar": {
              "outlinewidth": 0,
              "ticks": ""
             }
            },
            "type": "scatter3d"
           }
          ],
          "scattercarpet": [
           {
            "marker": {
             "colorbar": {
              "outlinewidth": 0,
              "ticks": ""
             }
            },
            "type": "scattercarpet"
           }
          ],
          "scattergeo": [
           {
            "marker": {
             "colorbar": {
              "outlinewidth": 0,
              "ticks": ""
             }
            },
            "type": "scattergeo"
           }
          ],
          "scattergl": [
           {
            "marker": {
             "colorbar": {
              "outlinewidth": 0,
              "ticks": ""
             }
            },
            "type": "scattergl"
           }
          ],
          "scattermapbox": [
           {
            "marker": {
             "colorbar": {
              "outlinewidth": 0,
              "ticks": ""
             }
            },
            "type": "scattermapbox"
           }
          ],
          "scatterpolar": [
           {
            "marker": {
             "colorbar": {
              "outlinewidth": 0,
              "ticks": ""
             }
            },
            "type": "scatterpolar"
           }
          ],
          "scatterpolargl": [
           {
            "marker": {
             "colorbar": {
              "outlinewidth": 0,
              "ticks": ""
             }
            },
            "type": "scatterpolargl"
           }
          ],
          "scatterternary": [
           {
            "marker": {
             "colorbar": {
              "outlinewidth": 0,
              "ticks": ""
             }
            },
            "type": "scatterternary"
           }
          ],
          "surface": [
           {
            "colorbar": {
             "outlinewidth": 0,
             "ticks": ""
            },
            "colorscale": [
             [
              0,
              "#0d0887"
             ],
             [
              0.1111111111111111,
              "#46039f"
             ],
             [
              0.2222222222222222,
              "#7201a8"
             ],
             [
              0.3333333333333333,
              "#9c179e"
             ],
             [
              0.4444444444444444,
              "#bd3786"
             ],
             [
              0.5555555555555556,
              "#d8576b"
             ],
             [
              0.6666666666666666,
              "#ed7953"
             ],
             [
              0.7777777777777778,
              "#fb9f3a"
             ],
             [
              0.8888888888888888,
              "#fdca26"
             ],
             [
              1,
              "#f0f921"
             ]
            ],
            "type": "surface"
           }
          ],
          "table": [
           {
            "cells": {
             "fill": {
              "color": "#EBF0F8"
             },
             "line": {
              "color": "white"
             }
            },
            "header": {
             "fill": {
              "color": "#C8D4E3"
             },
             "line": {
              "color": "white"
             }
            },
            "type": "table"
           }
          ]
         },
         "layout": {
          "annotationdefaults": {
           "arrowcolor": "#2a3f5f",
           "arrowhead": 0,
           "arrowwidth": 1
          },
          "autotypenumbers": "strict",
          "coloraxis": {
           "colorbar": {
            "outlinewidth": 0,
            "ticks": ""
           }
          },
          "colorscale": {
           "diverging": [
            [
             0,
             "#8e0152"
            ],
            [
             0.1,
             "#c51b7d"
            ],
            [
             0.2,
             "#de77ae"
            ],
            [
             0.3,
             "#f1b6da"
            ],
            [
             0.4,
             "#fde0ef"
            ],
            [
             0.5,
             "#f7f7f7"
            ],
            [
             0.6,
             "#e6f5d0"
            ],
            [
             0.7,
             "#b8e186"
            ],
            [
             0.8,
             "#7fbc41"
            ],
            [
             0.9,
             "#4d9221"
            ],
            [
             1,
             "#276419"
            ]
           ],
           "sequential": [
            [
             0,
             "#0d0887"
            ],
            [
             0.1111111111111111,
             "#46039f"
            ],
            [
             0.2222222222222222,
             "#7201a8"
            ],
            [
             0.3333333333333333,
             "#9c179e"
            ],
            [
             0.4444444444444444,
             "#bd3786"
            ],
            [
             0.5555555555555556,
             "#d8576b"
            ],
            [
             0.6666666666666666,
             "#ed7953"
            ],
            [
             0.7777777777777778,
             "#fb9f3a"
            ],
            [
             0.8888888888888888,
             "#fdca26"
            ],
            [
             1,
             "#f0f921"
            ]
           ],
           "sequentialminus": [
            [
             0,
             "#0d0887"
            ],
            [
             0.1111111111111111,
             "#46039f"
            ],
            [
             0.2222222222222222,
             "#7201a8"
            ],
            [
             0.3333333333333333,
             "#9c179e"
            ],
            [
             0.4444444444444444,
             "#bd3786"
            ],
            [
             0.5555555555555556,
             "#d8576b"
            ],
            [
             0.6666666666666666,
             "#ed7953"
            ],
            [
             0.7777777777777778,
             "#fb9f3a"
            ],
            [
             0.8888888888888888,
             "#fdca26"
            ],
            [
             1,
             "#f0f921"
            ]
           ]
          },
          "colorway": [
           "#636efa",
           "#EF553B",
           "#00cc96",
           "#ab63fa",
           "#FFA15A",
           "#19d3f3",
           "#FF6692",
           "#B6E880",
           "#FF97FF",
           "#FECB52"
          ],
          "font": {
           "color": "#2a3f5f"
          },
          "geo": {
           "bgcolor": "white",
           "lakecolor": "white",
           "landcolor": "#E5ECF6",
           "showlakes": true,
           "showland": true,
           "subunitcolor": "white"
          },
          "hoverlabel": {
           "align": "left"
          },
          "hovermode": "closest",
          "mapbox": {
           "style": "light"
          },
          "paper_bgcolor": "white",
          "plot_bgcolor": "#E5ECF6",
          "polar": {
           "angularaxis": {
            "gridcolor": "white",
            "linecolor": "white",
            "ticks": ""
           },
           "bgcolor": "#E5ECF6",
           "radialaxis": {
            "gridcolor": "white",
            "linecolor": "white",
            "ticks": ""
           }
          },
          "scene": {
           "xaxis": {
            "backgroundcolor": "#E5ECF6",
            "gridcolor": "white",
            "gridwidth": 2,
            "linecolor": "white",
            "showbackground": true,
            "ticks": "",
            "zerolinecolor": "white"
           },
           "yaxis": {
            "backgroundcolor": "#E5ECF6",
            "gridcolor": "white",
            "gridwidth": 2,
            "linecolor": "white",
            "showbackground": true,
            "ticks": "",
            "zerolinecolor": "white"
           },
           "zaxis": {
            "backgroundcolor": "#E5ECF6",
            "gridcolor": "white",
            "gridwidth": 2,
            "linecolor": "white",
            "showbackground": true,
            "ticks": "",
            "zerolinecolor": "white"
           }
          },
          "shapedefaults": {
           "line": {
            "color": "#2a3f5f"
           }
          },
          "ternary": {
           "aaxis": {
            "gridcolor": "white",
            "linecolor": "white",
            "ticks": ""
           },
           "baxis": {
            "gridcolor": "white",
            "linecolor": "white",
            "ticks": ""
           },
           "bgcolor": "#E5ECF6",
           "caxis": {
            "gridcolor": "white",
            "linecolor": "white",
            "ticks": ""
           }
          },
          "title": {
           "x": 0.05
          },
          "xaxis": {
           "automargin": true,
           "gridcolor": "white",
           "linecolor": "white",
           "ticks": "",
           "title": {
            "standoff": 15
           },
           "zerolinecolor": "white",
           "zerolinewidth": 2
          },
          "yaxis": {
           "automargin": true,
           "gridcolor": "white",
           "linecolor": "white",
           "ticks": "",
           "title": {
            "standoff": 15
           },
           "zerolinecolor": "white",
           "zerolinewidth": 2
          }
         }
        },
        "width": 700,
        "xaxis": {
         "title": {
          "text": "Tanggal"
         }
        },
        "yaxis": {
         "title": {
          "text": "Jumlah Berita"
         }
        }
       }
      }
     },
     "metadata": {},
     "output_type": "display_data"
    },
    {
     "name": "stdout",
     "output_type": "stream",
     "text": [
      "\n",
      "🌐 4. Bar Chart - Top Media Sources\n"
     ]
    },
    {
     "data": {
      "application/vnd.plotly.v1+json": {
       "config": {
        "plotlyServerURL": "https://plot.ly"
       },
       "data": [
        {
         "customdata": [
          14.285714285714285,
          7.142857142857142,
          5.952380952380952,
          4.761904761904762,
          4.761904761904762,
          3.571428571428571,
          3.571428571428571,
          3.571428571428571,
          3.571428571428571,
          3.571428571428571
         ],
         "hovertemplate": "<b>%{y}</b><br>Jumlah berita: %{x}<br>Persentase: %{customdata:.1f}%<extra></extra>",
         "marker": {
          "color": [
           "#1E3A8A",
           "#1E3A8A",
           "#1E3A8A",
           "#87CEEB",
           "#87CEEB",
           "#87CEEB",
           "#87CEEB",
           "#87CEEB",
           "#87CEEB",
           "#87CEEB"
          ]
         },
         "orientation": "h",
         "text": [
          12,
          6,
          5,
          4,
          4,
          3,
          3,
          3,
          3,
          3
         ],
         "textposition": "outside",
         "type": "bar",
         "x": [
          12,
          6,
          5,
          4,
          4,
          3,
          3,
          3,
          3,
          3
         ],
         "y": [
          "www.cnbcindonesia.com",
          "www.metrotvnews.com",
          "www.kompas.tv",
          "finance.detik.com",
          "ekbis.sindonews.com",
          "pasardana.id",
          "www.kedaipena.com",
          "money.kompas.com",
          "www.liputan6.com",
          "news.ddtc.co.id"
         ]
        }
       ],
       "layout": {
        "font": {
         "size": 12
        },
        "height": 500,
        "paper_bgcolor": "white",
        "plot_bgcolor": "white",
        "template": {
         "data": {
          "bar": [
           {
            "error_x": {
             "color": "#2a3f5f"
            },
            "error_y": {
             "color": "#2a3f5f"
            },
            "marker": {
             "line": {
              "color": "#E5ECF6",
              "width": 0.5
             },
             "pattern": {
              "fillmode": "overlay",
              "size": 10,
              "solidity": 0.2
             }
            },
            "type": "bar"
           }
          ],
          "barpolar": [
           {
            "marker": {
             "line": {
              "color": "#E5ECF6",
              "width": 0.5
             },
             "pattern": {
              "fillmode": "overlay",
              "size": 10,
              "solidity": 0.2
             }
            },
            "type": "barpolar"
           }
          ],
          "carpet": [
           {
            "aaxis": {
             "endlinecolor": "#2a3f5f",
             "gridcolor": "white",
             "linecolor": "white",
             "minorgridcolor": "white",
             "startlinecolor": "#2a3f5f"
            },
            "baxis": {
             "endlinecolor": "#2a3f5f",
             "gridcolor": "white",
             "linecolor": "white",
             "minorgridcolor": "white",
             "startlinecolor": "#2a3f5f"
            },
            "type": "carpet"
           }
          ],
          "choropleth": [
           {
            "colorbar": {
             "outlinewidth": 0,
             "ticks": ""
            },
            "type": "choropleth"
           }
          ],
          "contour": [
           {
            "colorbar": {
             "outlinewidth": 0,
             "ticks": ""
            },
            "colorscale": [
             [
              0,
              "#0d0887"
             ],
             [
              0.1111111111111111,
              "#46039f"
             ],
             [
              0.2222222222222222,
              "#7201a8"
             ],
             [
              0.3333333333333333,
              "#9c179e"
             ],
             [
              0.4444444444444444,
              "#bd3786"
             ],
             [
              0.5555555555555556,
              "#d8576b"
             ],
             [
              0.6666666666666666,
              "#ed7953"
             ],
             [
              0.7777777777777778,
              "#fb9f3a"
             ],
             [
              0.8888888888888888,
              "#fdca26"
             ],
             [
              1,
              "#f0f921"
             ]
            ],
            "type": "contour"
           }
          ],
          "contourcarpet": [
           {
            "colorbar": {
             "outlinewidth": 0,
             "ticks": ""
            },
            "type": "contourcarpet"
           }
          ],
          "heatmap": [
           {
            "colorbar": {
             "outlinewidth": 0,
             "ticks": ""
            },
            "colorscale": [
             [
              0,
              "#0d0887"
             ],
             [
              0.1111111111111111,
              "#46039f"
             ],
             [
              0.2222222222222222,
              "#7201a8"
             ],
             [
              0.3333333333333333,
              "#9c179e"
             ],
             [
              0.4444444444444444,
              "#bd3786"
             ],
             [
              0.5555555555555556,
              "#d8576b"
             ],
             [
              0.6666666666666666,
              "#ed7953"
             ],
             [
              0.7777777777777778,
              "#fb9f3a"
             ],
             [
              0.8888888888888888,
              "#fdca26"
             ],
             [
              1,
              "#f0f921"
             ]
            ],
            "type": "heatmap"
           }
          ],
          "heatmapgl": [
           {
            "colorbar": {
             "outlinewidth": 0,
             "ticks": ""
            },
            "colorscale": [
             [
              0,
              "#0d0887"
             ],
             [
              0.1111111111111111,
              "#46039f"
             ],
             [
              0.2222222222222222,
              "#7201a8"
             ],
             [
              0.3333333333333333,
              "#9c179e"
             ],
             [
              0.4444444444444444,
              "#bd3786"
             ],
             [
              0.5555555555555556,
              "#d8576b"
             ],
             [
              0.6666666666666666,
              "#ed7953"
             ],
             [
              0.7777777777777778,
              "#fb9f3a"
             ],
             [
              0.8888888888888888,
              "#fdca26"
             ],
             [
              1,
              "#f0f921"
             ]
            ],
            "type": "heatmapgl"
           }
          ],
          "histogram": [
           {
            "marker": {
             "pattern": {
              "fillmode": "overlay",
              "size": 10,
              "solidity": 0.2
             }
            },
            "type": "histogram"
           }
          ],
          "histogram2d": [
           {
            "colorbar": {
             "outlinewidth": 0,
             "ticks": ""
            },
            "colorscale": [
             [
              0,
              "#0d0887"
             ],
             [
              0.1111111111111111,
              "#46039f"
             ],
             [
              0.2222222222222222,
              "#7201a8"
             ],
             [
              0.3333333333333333,
              "#9c179e"
             ],
             [
              0.4444444444444444,
              "#bd3786"
             ],
             [
              0.5555555555555556,
              "#d8576b"
             ],
             [
              0.6666666666666666,
              "#ed7953"
             ],
             [
              0.7777777777777778,
              "#fb9f3a"
             ],
             [
              0.8888888888888888,
              "#fdca26"
             ],
             [
              1,
              "#f0f921"
             ]
            ],
            "type": "histogram2d"
           }
          ],
          "histogram2dcontour": [
           {
            "colorbar": {
             "outlinewidth": 0,
             "ticks": ""
            },
            "colorscale": [
             [
              0,
              "#0d0887"
             ],
             [
              0.1111111111111111,
              "#46039f"
             ],
             [
              0.2222222222222222,
              "#7201a8"
             ],
             [
              0.3333333333333333,
              "#9c179e"
             ],
             [
              0.4444444444444444,
              "#bd3786"
             ],
             [
              0.5555555555555556,
              "#d8576b"
             ],
             [
              0.6666666666666666,
              "#ed7953"
             ],
             [
              0.7777777777777778,
              "#fb9f3a"
             ],
             [
              0.8888888888888888,
              "#fdca26"
             ],
             [
              1,
              "#f0f921"
             ]
            ],
            "type": "histogram2dcontour"
           }
          ],
          "mesh3d": [
           {
            "colorbar": {
             "outlinewidth": 0,
             "ticks": ""
            },
            "type": "mesh3d"
           }
          ],
          "parcoords": [
           {
            "line": {
             "colorbar": {
              "outlinewidth": 0,
              "ticks": ""
             }
            },
            "type": "parcoords"
           }
          ],
          "pie": [
           {
            "automargin": true,
            "type": "pie"
           }
          ],
          "scatter": [
           {
            "fillpattern": {
             "fillmode": "overlay",
             "size": 10,
             "solidity": 0.2
            },
            "type": "scatter"
           }
          ],
          "scatter3d": [
           {
            "line": {
             "colorbar": {
              "outlinewidth": 0,
              "ticks": ""
             }
            },
            "marker": {
             "colorbar": {
              "outlinewidth": 0,
              "ticks": ""
             }
            },
            "type": "scatter3d"
           }
          ],
          "scattercarpet": [
           {
            "marker": {
             "colorbar": {
              "outlinewidth": 0,
              "ticks": ""
             }
            },
            "type": "scattercarpet"
           }
          ],
          "scattergeo": [
           {
            "marker": {
             "colorbar": {
              "outlinewidth": 0,
              "ticks": ""
             }
            },
            "type": "scattergeo"
           }
          ],
          "scattergl": [
           {
            "marker": {
             "colorbar": {
              "outlinewidth": 0,
              "ticks": ""
             }
            },
            "type": "scattergl"
           }
          ],
          "scattermapbox": [
           {
            "marker": {
             "colorbar": {
              "outlinewidth": 0,
              "ticks": ""
             }
            },
            "type": "scattermapbox"
           }
          ],
          "scatterpolar": [
           {
            "marker": {
             "colorbar": {
              "outlinewidth": 0,
              "ticks": ""
             }
            },
            "type": "scatterpolar"
           }
          ],
          "scatterpolargl": [
           {
            "marker": {
             "colorbar": {
              "outlinewidth": 0,
              "ticks": ""
             }
            },
            "type": "scatterpolargl"
           }
          ],
          "scatterternary": [
           {
            "marker": {
             "colorbar": {
              "outlinewidth": 0,
              "ticks": ""
             }
            },
            "type": "scatterternary"
           }
          ],
          "surface": [
           {
            "colorbar": {
             "outlinewidth": 0,
             "ticks": ""
            },
            "colorscale": [
             [
              0,
              "#0d0887"
             ],
             [
              0.1111111111111111,
              "#46039f"
             ],
             [
              0.2222222222222222,
              "#7201a8"
             ],
             [
              0.3333333333333333,
              "#9c179e"
             ],
             [
              0.4444444444444444,
              "#bd3786"
             ],
             [
              0.5555555555555556,
              "#d8576b"
             ],
             [
              0.6666666666666666,
              "#ed7953"
             ],
             [
              0.7777777777777778,
              "#fb9f3a"
             ],
             [
              0.8888888888888888,
              "#fdca26"
             ],
             [
              1,
              "#f0f921"
             ]
            ],
            "type": "surface"
           }
          ],
          "table": [
           {
            "cells": {
             "fill": {
              "color": "#EBF0F8"
             },
             "line": {
              "color": "white"
             }
            },
            "header": {
             "fill": {
              "color": "#C8D4E3"
             },
             "line": {
              "color": "white"
             }
            },
            "type": "table"
           }
          ]
         },
         "layout": {
          "annotationdefaults": {
           "arrowcolor": "#2a3f5f",
           "arrowhead": 0,
           "arrowwidth": 1
          },
          "autotypenumbers": "strict",
          "coloraxis": {
           "colorbar": {
            "outlinewidth": 0,
            "ticks": ""
           }
          },
          "colorscale": {
           "diverging": [
            [
             0,
             "#8e0152"
            ],
            [
             0.1,
             "#c51b7d"
            ],
            [
             0.2,
             "#de77ae"
            ],
            [
             0.3,
             "#f1b6da"
            ],
            [
             0.4,
             "#fde0ef"
            ],
            [
             0.5,
             "#f7f7f7"
            ],
            [
             0.6,
             "#e6f5d0"
            ],
            [
             0.7,
             "#b8e186"
            ],
            [
             0.8,
             "#7fbc41"
            ],
            [
             0.9,
             "#4d9221"
            ],
            [
             1,
             "#276419"
            ]
           ],
           "sequential": [
            [
             0,
             "#0d0887"
            ],
            [
             0.1111111111111111,
             "#46039f"
            ],
            [
             0.2222222222222222,
             "#7201a8"
            ],
            [
             0.3333333333333333,
             "#9c179e"
            ],
            [
             0.4444444444444444,
             "#bd3786"
            ],
            [
             0.5555555555555556,
             "#d8576b"
            ],
            [
             0.6666666666666666,
             "#ed7953"
            ],
            [
             0.7777777777777778,
             "#fb9f3a"
            ],
            [
             0.8888888888888888,
             "#fdca26"
            ],
            [
             1,
             "#f0f921"
            ]
           ],
           "sequentialminus": [
            [
             0,
             "#0d0887"
            ],
            [
             0.1111111111111111,
             "#46039f"
            ],
            [
             0.2222222222222222,
             "#7201a8"
            ],
            [
             0.3333333333333333,
             "#9c179e"
            ],
            [
             0.4444444444444444,
             "#bd3786"
            ],
            [
             0.5555555555555556,
             "#d8576b"
            ],
            [
             0.6666666666666666,
             "#ed7953"
            ],
            [
             0.7777777777777778,
             "#fb9f3a"
            ],
            [
             0.8888888888888888,
             "#fdca26"
            ],
            [
             1,
             "#f0f921"
            ]
           ]
          },
          "colorway": [
           "#636efa",
           "#EF553B",
           "#00cc96",
           "#ab63fa",
           "#FFA15A",
           "#19d3f3",
           "#FF6692",
           "#B6E880",
           "#FF97FF",
           "#FECB52"
          ],
          "font": {
           "color": "#2a3f5f"
          },
          "geo": {
           "bgcolor": "white",
           "lakecolor": "white",
           "landcolor": "#E5ECF6",
           "showlakes": true,
           "showland": true,
           "subunitcolor": "white"
          },
          "hoverlabel": {
           "align": "left"
          },
          "hovermode": "closest",
          "mapbox": {
           "style": "light"
          },
          "paper_bgcolor": "white",
          "plot_bgcolor": "#E5ECF6",
          "polar": {
           "angularaxis": {
            "gridcolor": "white",
            "linecolor": "white",
            "ticks": ""
           },
           "bgcolor": "#E5ECF6",
           "radialaxis": {
            "gridcolor": "white",
            "linecolor": "white",
            "ticks": ""
           }
          },
          "scene": {
           "xaxis": {
            "backgroundcolor": "#E5ECF6",
            "gridcolor": "white",
            "gridwidth": 2,
            "linecolor": "white",
            "showbackground": true,
            "ticks": "",
            "zerolinecolor": "white"
           },
           "yaxis": {
            "backgroundcolor": "#E5ECF6",
            "gridcolor": "white",
            "gridwidth": 2,
            "linecolor": "white",
            "showbackground": true,
            "ticks": "",
            "zerolinecolor": "white"
           },
           "zaxis": {
            "backgroundcolor": "#E5ECF6",
            "gridcolor": "white",
            "gridwidth": 2,
            "linecolor": "white",
            "showbackground": true,
            "ticks": "",
            "zerolinecolor": "white"
           }
          },
          "shapedefaults": {
           "line": {
            "color": "#2a3f5f"
           }
          },
          "ternary": {
           "aaxis": {
            "gridcolor": "white",
            "linecolor": "white",
            "ticks": ""
           },
           "baxis": {
            "gridcolor": "white",
            "linecolor": "white",
            "ticks": ""
           },
           "bgcolor": "#E5ECF6",
           "caxis": {
            "gridcolor": "white",
            "linecolor": "white",
            "ticks": ""
           }
          },
          "title": {
           "x": 0.05
          },
          "xaxis": {
           "automargin": true,
           "gridcolor": "white",
           "linecolor": "white",
           "ticks": "",
           "title": {
            "standoff": 15
           },
           "zerolinecolor": "white",
           "zerolinewidth": 2
          },
          "yaxis": {
           "automargin": true,
           "gridcolor": "white",
           "linecolor": "white",
           "ticks": "",
           "title": {
            "standoff": 15
           },
           "zerolinecolor": "white",
           "zerolinewidth": 2
          }
         }
        },
        "width": 700,
        "xaxis": {
         "title": {
          "text": "Jumlah Berita"
         }
        },
        "yaxis": {
         "autorange": "reversed",
         "title": {
          "text": "Media Source"
         }
        }
       }
      }
     },
     "metadata": {},
     "output_type": "display_data"
    },
    {
     "name": "stdout",
     "output_type": "stream",
     "text": [
      "\n",
      "🔥 5. Heatmap - Sentimen per Media per Tanggal\n"
     ]
    },
    {
     "data": {
      "application/vnd.plotly.v1+json": {
       "config": {
        "plotlyServerURL": "https://plot.ly"
       },
       "data": [
        {
         "colorbar": {
          "ticksuffix": "%",
          "title": {
           "side": "right",
           "text": "% Sentimen Positif"
          }
         },
         "colorscale": [
          [
           0,
           "#DC143C"
          ],
          [
           0.5,
           "#808080"
          ],
          [
           1,
           "#2E8B57"
          ]
         ],
         "customdata": [
          [
           100,
           18.181818181818183
          ],
          [
           0,
           60
          ],
          [
           null,
           60
          ],
          [
           null,
           50
          ],
          [
           50,
           0
          ],
          [
           100,
           50
          ],
          [
           0,
           0
          ],
          [
           null,
           33.33333333333333
          ],
          [
           null,
           100
          ],
          [
           null,
           66.66666666666666
          ]
         ],
         "hoverinfo": "text",
         "hovertemplate": "<b>%{y}</b><br>Tanggal: %{x}<br><extra></extra>",
         "hovertext": [
          [
           "Sentimen Positif: 100.0%",
           "Sentimen Positif: 18.2%"
          ],
          [
           "Sentimen Positif: 0.0%",
           "Sentimen Positif: 60.0%"
          ],
          [
           "Tidak ada berita",
           "Sentimen Positif: 60.0%"
          ],
          [
           "Tidak ada berita",
           "Sentimen Positif: 50.0%"
          ],
          [
           "Sentimen Positif: 50.0%",
           "Sentimen Positif: 0.0%"
          ],
          [
           "Sentimen Positif: 100.0%",
           "Sentimen Positif: 50.0%"
          ],
          [
           "Sentimen Positif: 0.0%",
           "Sentimen Positif: 0.0%"
          ],
          [
           "Tidak ada berita",
           "Sentimen Positif: 33.3%"
          ],
          [
           "Tidak ada berita",
           "Sentimen Positif: 100.0%"
          ],
          [
           "Tidak ada berita",
           "Sentimen Positif: 66.7%"
          ]
         ],
         "text": [
          [
           "Sentimen Positif: 100.0%",
           "Sentimen Positif: 18.2%"
          ],
          [
           "Sentimen Positif: 0.0%",
           "Sentimen Positif: 60.0%"
          ],
          [
           "Tidak ada berita",
           "Sentimen Positif: 60.0%"
          ],
          [
           "Tidak ada berita",
           "Sentimen Positif: 50.0%"
          ],
          [
           "Sentimen Positif: 50.0%",
           "Sentimen Positif: 0.0%"
          ],
          [
           "Sentimen Positif: 100.0%",
           "Sentimen Positif: 50.0%"
          ],
          [
           "Sentimen Positif: 0.0%",
           "Sentimen Positif: 0.0%"
          ],
          [
           "Tidak ada berita",
           "Sentimen Positif: 33.3%"
          ],
          [
           "Tidak ada berita",
           "Sentimen Positif: 100.0%"
          ],
          [
           "Tidak ada berita",
           "Sentimen Positif: 66.7%"
          ]
         ],
         "type": "heatmap",
         "x": [
          "2025-10-02",
          "2025-10-01"
         ],
         "y": [
          "www.cnbcindonesia.com",
          "www.metrotvnews.com",
          "www.kompas.tv",
          "finance.detik.com",
          "ekbis.sindonews.com",
          "pasardana.id",
          "www.kedaipena.com",
          "money.kompas.com",
          "www.liputan6.com",
          "news.ddtc.co.id"
         ],
         "z": [
          [
           100,
           18.181818181818183
          ],
          [
           0,
           60
          ],
          [
           null,
           60
          ],
          [
           null,
           50
          ],
          [
           50,
           0
          ],
          [
           100,
           50
          ],
          [
           0,
           0
          ],
          [
           null,
           33.33333333333333
          ],
          [
           null,
           100
          ],
          [
           null,
           66.66666666666666
          ]
         ],
         "zmax": 100,
         "zmid": 50,
         "zmin": 0
        }
       ],
       "layout": {
        "font": {
         "size": 12
        },
        "height": 500,
        "paper_bgcolor": "white",
        "plot_bgcolor": "white",
        "template": {
         "data": {
          "bar": [
           {
            "error_x": {
             "color": "#2a3f5f"
            },
            "error_y": {
             "color": "#2a3f5f"
            },
            "marker": {
             "line": {
              "color": "#E5ECF6",
              "width": 0.5
             },
             "pattern": {
              "fillmode": "overlay",
              "size": 10,
              "solidity": 0.2
             }
            },
            "type": "bar"
           }
          ],
          "barpolar": [
           {
            "marker": {
             "line": {
              "color": "#E5ECF6",
              "width": 0.5
             },
             "pattern": {
              "fillmode": "overlay",
              "size": 10,
              "solidity": 0.2
             }
            },
            "type": "barpolar"
           }
          ],
          "carpet": [
           {
            "aaxis": {
             "endlinecolor": "#2a3f5f",
             "gridcolor": "white",
             "linecolor": "white",
             "minorgridcolor": "white",
             "startlinecolor": "#2a3f5f"
            },
            "baxis": {
             "endlinecolor": "#2a3f5f",
             "gridcolor": "white",
             "linecolor": "white",
             "minorgridcolor": "white",
             "startlinecolor": "#2a3f5f"
            },
            "type": "carpet"
           }
          ],
          "choropleth": [
           {
            "colorbar": {
             "outlinewidth": 0,
             "ticks": ""
            },
            "type": "choropleth"
           }
          ],
          "contour": [
           {
            "colorbar": {
             "outlinewidth": 0,
             "ticks": ""
            },
            "colorscale": [
             [
              0,
              "#0d0887"
             ],
             [
              0.1111111111111111,
              "#46039f"
             ],
             [
              0.2222222222222222,
              "#7201a8"
             ],
             [
              0.3333333333333333,
              "#9c179e"
             ],
             [
              0.4444444444444444,
              "#bd3786"
             ],
             [
              0.5555555555555556,
              "#d8576b"
             ],
             [
              0.6666666666666666,
              "#ed7953"
             ],
             [
              0.7777777777777778,
              "#fb9f3a"
             ],
             [
              0.8888888888888888,
              "#fdca26"
             ],
             [
              1,
              "#f0f921"
             ]
            ],
            "type": "contour"
           }
          ],
          "contourcarpet": [
           {
            "colorbar": {
             "outlinewidth": 0,
             "ticks": ""
            },
            "type": "contourcarpet"
           }
          ],
          "heatmap": [
           {
            "colorbar": {
             "outlinewidth": 0,
             "ticks": ""
            },
            "colorscale": [
             [
              0,
              "#0d0887"
             ],
             [
              0.1111111111111111,
              "#46039f"
             ],
             [
              0.2222222222222222,
              "#7201a8"
             ],
             [
              0.3333333333333333,
              "#9c179e"
             ],
             [
              0.4444444444444444,
              "#bd3786"
             ],
             [
              0.5555555555555556,
              "#d8576b"
             ],
             [
              0.6666666666666666,
              "#ed7953"
             ],
             [
              0.7777777777777778,
              "#fb9f3a"
             ],
             [
              0.8888888888888888,
              "#fdca26"
             ],
             [
              1,
              "#f0f921"
             ]
            ],
            "type": "heatmap"
           }
          ],
          "heatmapgl": [
           {
            "colorbar": {
             "outlinewidth": 0,
             "ticks": ""
            },
            "colorscale": [
             [
              0,
              "#0d0887"
             ],
             [
              0.1111111111111111,
              "#46039f"
             ],
             [
              0.2222222222222222,
              "#7201a8"
             ],
             [
              0.3333333333333333,
              "#9c179e"
             ],
             [
              0.4444444444444444,
              "#bd3786"
             ],
             [
              0.5555555555555556,
              "#d8576b"
             ],
             [
              0.6666666666666666,
              "#ed7953"
             ],
             [
              0.7777777777777778,
              "#fb9f3a"
             ],
             [
              0.8888888888888888,
              "#fdca26"
             ],
             [
              1,
              "#f0f921"
             ]
            ],
            "type": "heatmapgl"
           }
          ],
          "histogram": [
           {
            "marker": {
             "pattern": {
              "fillmode": "overlay",
              "size": 10,
              "solidity": 0.2
             }
            },
            "type": "histogram"
           }
          ],
          "histogram2d": [
           {
            "colorbar": {
             "outlinewidth": 0,
             "ticks": ""
            },
            "colorscale": [
             [
              0,
              "#0d0887"
             ],
             [
              0.1111111111111111,
              "#46039f"
             ],
             [
              0.2222222222222222,
              "#7201a8"
             ],
             [
              0.3333333333333333,
              "#9c179e"
             ],
             [
              0.4444444444444444,
              "#bd3786"
             ],
             [
              0.5555555555555556,
              "#d8576b"
             ],
             [
              0.6666666666666666,
              "#ed7953"
             ],
             [
              0.7777777777777778,
              "#fb9f3a"
             ],
             [
              0.8888888888888888,
              "#fdca26"
             ],
             [
              1,
              "#f0f921"
             ]
            ],
            "type": "histogram2d"
           }
          ],
          "histogram2dcontour": [
           {
            "colorbar": {
             "outlinewidth": 0,
             "ticks": ""
            },
            "colorscale": [
             [
              0,
              "#0d0887"
             ],
             [
              0.1111111111111111,
              "#46039f"
             ],
             [
              0.2222222222222222,
              "#7201a8"
             ],
             [
              0.3333333333333333,
              "#9c179e"
             ],
             [
              0.4444444444444444,
              "#bd3786"
             ],
             [
              0.5555555555555556,
              "#d8576b"
             ],
             [
              0.6666666666666666,
              "#ed7953"
             ],
             [
              0.7777777777777778,
              "#fb9f3a"
             ],
             [
              0.8888888888888888,
              "#fdca26"
             ],
             [
              1,
              "#f0f921"
             ]
            ],
            "type": "histogram2dcontour"
           }
          ],
          "mesh3d": [
           {
            "colorbar": {
             "outlinewidth": 0,
             "ticks": ""
            },
            "type": "mesh3d"
           }
          ],
          "parcoords": [
           {
            "line": {
             "colorbar": {
              "outlinewidth": 0,
              "ticks": ""
             }
            },
            "type": "parcoords"
           }
          ],
          "pie": [
           {
            "automargin": true,
            "type": "pie"
           }
          ],
          "scatter": [
           {
            "fillpattern": {
             "fillmode": "overlay",
             "size": 10,
             "solidity": 0.2
            },
            "type": "scatter"
           }
          ],
          "scatter3d": [
           {
            "line": {
             "colorbar": {
              "outlinewidth": 0,
              "ticks": ""
             }
            },
            "marker": {
             "colorbar": {
              "outlinewidth": 0,
              "ticks": ""
             }
            },
            "type": "scatter3d"
           }
          ],
          "scattercarpet": [
           {
            "marker": {
             "colorbar": {
              "outlinewidth": 0,
              "ticks": ""
             }
            },
            "type": "scattercarpet"
           }
          ],
          "scattergeo": [
           {
            "marker": {
             "colorbar": {
              "outlinewidth": 0,
              "ticks": ""
             }
            },
            "type": "scattergeo"
           }
          ],
          "scattergl": [
           {
            "marker": {
             "colorbar": {
              "outlinewidth": 0,
              "ticks": ""
             }
            },
            "type": "scattergl"
           }
          ],
          "scattermapbox": [
           {
            "marker": {
             "colorbar": {
              "outlinewidth": 0,
              "ticks": ""
             }
            },
            "type": "scattermapbox"
           }
          ],
          "scatterpolar": [
           {
            "marker": {
             "colorbar": {
              "outlinewidth": 0,
              "ticks": ""
             }
            },
            "type": "scatterpolar"
           }
          ],
          "scatterpolargl": [
           {
            "marker": {
             "colorbar": {
              "outlinewidth": 0,
              "ticks": ""
             }
            },
            "type": "scatterpolargl"
           }
          ],
          "scatterternary": [
           {
            "marker": {
             "colorbar": {
              "outlinewidth": 0,
              "ticks": ""
             }
            },
            "type": "scatterternary"
           }
          ],
          "surface": [
           {
            "colorbar": {
             "outlinewidth": 0,
             "ticks": ""
            },
            "colorscale": [
             [
              0,
              "#0d0887"
             ],
             [
              0.1111111111111111,
              "#46039f"
             ],
             [
              0.2222222222222222,
              "#7201a8"
             ],
             [
              0.3333333333333333,
              "#9c179e"
             ],
             [
              0.4444444444444444,
              "#bd3786"
             ],
             [
              0.5555555555555556,
              "#d8576b"
             ],
             [
              0.6666666666666666,
              "#ed7953"
             ],
             [
              0.7777777777777778,
              "#fb9f3a"
             ],
             [
              0.8888888888888888,
              "#fdca26"
             ],
             [
              1,
              "#f0f921"
             ]
            ],
            "type": "surface"
           }
          ],
          "table": [
           {
            "cells": {
             "fill": {
              "color": "#EBF0F8"
             },
             "line": {
              "color": "white"
             }
            },
            "header": {
             "fill": {
              "color": "#C8D4E3"
             },
             "line": {
              "color": "white"
             }
            },
            "type": "table"
           }
          ]
         },
         "layout": {
          "annotationdefaults": {
           "arrowcolor": "#2a3f5f",
           "arrowhead": 0,
           "arrowwidth": 1
          },
          "autotypenumbers": "strict",
          "coloraxis": {
           "colorbar": {
            "outlinewidth": 0,
            "ticks": ""
           }
          },
          "colorscale": {
           "diverging": [
            [
             0,
             "#8e0152"
            ],
            [
             0.1,
             "#c51b7d"
            ],
            [
             0.2,
             "#de77ae"
            ],
            [
             0.3,
             "#f1b6da"
            ],
            [
             0.4,
             "#fde0ef"
            ],
            [
             0.5,
             "#f7f7f7"
            ],
            [
             0.6,
             "#e6f5d0"
            ],
            [
             0.7,
             "#b8e186"
            ],
            [
             0.8,
             "#7fbc41"
            ],
            [
             0.9,
             "#4d9221"
            ],
            [
             1,
             "#276419"
            ]
           ],
           "sequential": [
            [
             0,
             "#0d0887"
            ],
            [
             0.1111111111111111,
             "#46039f"
            ],
            [
             0.2222222222222222,
             "#7201a8"
            ],
            [
             0.3333333333333333,
             "#9c179e"
            ],
            [
             0.4444444444444444,
             "#bd3786"
            ],
            [
             0.5555555555555556,
             "#d8576b"
            ],
            [
             0.6666666666666666,
             "#ed7953"
            ],
            [
             0.7777777777777778,
             "#fb9f3a"
            ],
            [
             0.8888888888888888,
             "#fdca26"
            ],
            [
             1,
             "#f0f921"
            ]
           ],
           "sequentialminus": [
            [
             0,
             "#0d0887"
            ],
            [
             0.1111111111111111,
             "#46039f"
            ],
            [
             0.2222222222222222,
             "#7201a8"
            ],
            [
             0.3333333333333333,
             "#9c179e"
            ],
            [
             0.4444444444444444,
             "#bd3786"
            ],
            [
             0.5555555555555556,
             "#d8576b"
            ],
            [
             0.6666666666666666,
             "#ed7953"
            ],
            [
             0.7777777777777778,
             "#fb9f3a"
            ],
            [
             0.8888888888888888,
             "#fdca26"
            ],
            [
             1,
             "#f0f921"
            ]
           ]
          },
          "colorway": [
           "#636efa",
           "#EF553B",
           "#00cc96",
           "#ab63fa",
           "#FFA15A",
           "#19d3f3",
           "#FF6692",
           "#B6E880",
           "#FF97FF",
           "#FECB52"
          ],
          "font": {
           "color": "#2a3f5f"
          },
          "geo": {
           "bgcolor": "white",
           "lakecolor": "white",
           "landcolor": "#E5ECF6",
           "showlakes": true,
           "showland": true,
           "subunitcolor": "white"
          },
          "hoverlabel": {
           "align": "left"
          },
          "hovermode": "closest",
          "mapbox": {
           "style": "light"
          },
          "paper_bgcolor": "white",
          "plot_bgcolor": "#E5ECF6",
          "polar": {
           "angularaxis": {
            "gridcolor": "white",
            "linecolor": "white",
            "ticks": ""
           },
           "bgcolor": "#E5ECF6",
           "radialaxis": {
            "gridcolor": "white",
            "linecolor": "white",
            "ticks": ""
           }
          },
          "scene": {
           "xaxis": {
            "backgroundcolor": "#E5ECF6",
            "gridcolor": "white",
            "gridwidth": 2,
            "linecolor": "white",
            "showbackground": true,
            "ticks": "",
            "zerolinecolor": "white"
           },
           "yaxis": {
            "backgroundcolor": "#E5ECF6",
            "gridcolor": "white",
            "gridwidth": 2,
            "linecolor": "white",
            "showbackground": true,
            "ticks": "",
            "zerolinecolor": "white"
           },
           "zaxis": {
            "backgroundcolor": "#E5ECF6",
            "gridcolor": "white",
            "gridwidth": 2,
            "linecolor": "white",
            "showbackground": true,
            "ticks": "",
            "zerolinecolor": "white"
           }
          },
          "shapedefaults": {
           "line": {
            "color": "#2a3f5f"
           }
          },
          "ternary": {
           "aaxis": {
            "gridcolor": "white",
            "linecolor": "white",
            "ticks": ""
           },
           "baxis": {
            "gridcolor": "white",
            "linecolor": "white",
            "ticks": ""
           },
           "bgcolor": "#E5ECF6",
           "caxis": {
            "gridcolor": "white",
            "linecolor": "white",
            "ticks": ""
           }
          },
          "title": {
           "x": 0.05
          },
          "xaxis": {
           "automargin": true,
           "gridcolor": "white",
           "linecolor": "white",
           "ticks": "",
           "title": {
            "standoff": 15
           },
           "zerolinecolor": "white",
           "zerolinewidth": 2
          },
          "yaxis": {
           "automargin": true,
           "gridcolor": "white",
           "linecolor": "white",
           "ticks": "",
           "title": {
            "standoff": 15
           },
           "zerolinecolor": "white",
           "zerolinewidth": 2
          }
         }
        },
        "width": 700,
        "xaxis": {
         "title": {
          "text": "Tanggal"
         }
        },
        "yaxis": {
         "title": {
          "text": "Media Source"
         }
        }
       }
      }
     },
     "metadata": {},
     "output_type": "display_data"
    },
    {
     "name": "stdout",
     "output_type": "stream",
     "text": [
      "\n",
      "☁️ 6. Word Cloud - Kata Kunci Populer\n"
     ]
    },
    {
     "data": {
      "image/png": "[encoded data removed]",
      "text/plain": [
       "<Figure size 1000x500 with 1 Axes>"
      ]
     },
     "metadata": {},
     "output_type": "display_data"
    },
    {
     "name": "stdout",
     "output_type": "stream",
     "text": [
      "\n",
      "✅ Semua visualisasi telah ditampilkan!\n",
      "\n",
      "📋 Insight Utama:\n",
      "   🎯 Sentimen dominan: positif (46.4%)\n",
      "   📺 Media terbanyak: www.cnbcindonesia.com (12 berita)\n",
      "   🔤 Kata populer: purbaya (67), menkeu (44), kilang (27), indonesia (20), bangun (16)\n",
      "\n",
      "✅ Semua visualisasi berhasil dibuat dan ditampilkan!\n",
      "💡 Tip: Scroll ke atas untuk melihat grafik-grafik yang telah dibuat.\n",
      "📋 DASHBOARD SUMMARY - MONITORING BERITA PENTING\n",
      "================================================================================\n",
      "📅 PERIODE ANALISIS\n",
      "   • Tanggal: 01 October 2025 - 02 October 2025\n",
      "   • Durasi: 2 hari\n",
      "   • Total berita: 84 artikel\n",
      "   • Rata-rata harian: 42.0 artikel/hari\n",
      "\n",
      "😊 ANALISIS SENTIMEN\n",
      "   😊 Positif: 39 berita (46.4%)\n",
      "   😐 Netral: 31 berita (36.9%)\n",
      "   😠 Negatif: 14 berita (16.7%)\n",
      "\n",
      "🌐 TOP MEDIA SOURCES\n",
      "   1. www.cnbcindonesia.com: 12 berita (14.3%)\n",
      "   2. www.metrotvnews.com: 6 berita (7.1%)\n",
      "   3. www.kompas.tv: 5 berita (6.0%)\n",
      "   4. finance.detik.com: 4 berita (4.8%)\n",
      "   5. ekbis.sindonews.com: 4 berita (4.8%)\n",
      "\n",
      "🔤 TOP KEYWORDS\n",
      "   1. 'purbaya': 67 kali muncul\n",
      "   2. 'menkeu': 44 kali muncul\n",
      "   3. 'kilang': 27 kali muncul\n",
      "   4. 'indonesia': 20 kali muncul\n",
      "   5. 'bangun': 16 kali muncul\n",
      "   6. 'pertamina': 15 kali muncul\n",
      "   7. 'tak': 14 kali muncul\n",
      "   8. 'soal': 12 kali muncul\n",
      "   9. 'cnbc': 12 kali muncul\n",
      "   10. 'ekonomi': 11 kali muncul\n",
      "\n",
      "📈 DISTRIBUSI HARIAN\n",
      "   • 2025-10-01: 73 berita\n",
      "   • 2025-10-02: 11 berita\n",
      "\n",
      "🎯 KEY INSIGHTS\n",
      "   • Mayoritas berita (46.4%) bersentimen positif\n",
      "   • Hari dengan berita terbanyak: 2025-10-01 (73 berita)\n",
      "   • Berita tersebar di 43 media berbeda\n",
      "   • Fokus utama: Kemenkeu (82 berita)\n",
      "================================================================================\n",
      "✅ Analisis selesai! Dashboard siap untuk presentasi.\n",
      "\n",
      "💾 CARA MENYIMPAN VISUALISASI\n",
      "==================================================\n",
      "📊 Untuk menyimpan grafik interaktif:\n",
      "   • Klik tombol 'Download plot as PNG' di pojok kanan atas setiap grafik\n",
      "   • Atau gunakan kode: fig.write_image('nama_file.png')\n",
      "   • Format lain: fig.write_html('nama_file.html')\n",
      "\n",
      "☁️ Untuk menyimpan Word Cloud:\n",
      "   • Klik kanan pada gambar > Save Image As...\n",
      "   • Atau gunakan: plt.savefig('wordcloud.png', dpi=300, bbox_inches='tight')\n",
      "\n",
      "📋 Untuk ekspor data:\n",
      "   • processed_data['sentiment_summary'].to_csv('sentiment_analysis.csv')\n",
      "   • processed_data['timeline_data'].to_csv('timeline_data.csv')\n",
      "   • processed_data['source_summary'].to_csv('media_analysis.csv')\n"
     ]
    }
   ],
   "source": [
    "file_loc = os.path.join(cwd, '06_visualisasi.ipynb')\n",
    "\n",
    "%run \"$file_loc\""
   ]
  },
  {
   "cell_type": "markdown",
   "metadata": {},
   "source": [
    "# REKAP"
   ]
  },
  {
   "cell_type": "code",
   "execution_count": 47,
   "metadata": {},
   "outputs": [
    {
     "name": "stdout",
     "output_type": "stream",
     "text": [
      "Waktu proses: 18 menit 47 detik\n"
     ]
    }
   ],
   "source": [
    "# Tandai waktu selesai proses\n",
    "end_process_time = time.time()\n",
    "elapsed_time = end_process_time - start_process_time\n",
    "# jadikan menit & detik\n",
    "elapsed_minutes = int(elapsed_time // 60)\n",
    "elapsed_seconds = int(elapsed_time % 60)\n",
    "print(f\"Waktu proses: {elapsed_minutes} menit {elapsed_seconds} detik\")"
   ]
  }
 ],
 "metadata": {
  "colab": {
   "authorship_tag": "ABX9TyO7Du9kdtb2tYY9zmRcptUW",
   "collapsed_sections": [
    "nl15yqDXsRcB",
    "PgAoP36AsoBi",
    "zLAsNrRLtTwy",
    "btzQFyReOzDh"
   ],
   "mount_file_id": "1huIq8bthX6wwOLYeaNI1vyJesWYn8LGS",
   "provenance": []
  },
  "kernelspec": {
   "display_name": "base",
   "language": "python",
   "name": "python3"
  },
  "language_info": {
   "codemirror_mode": {
    "name": "ipython",
    "version": 3
   },
   "file_extension": ".py",
   "mimetype": "text/x-python",
   "name": "python",
   "nbconvert_exporter": "python",
   "pygments_lexer": "ipython3",
   "version": "3.12.7"
  },
  "widgets": {
   "application/vnd.jupyter.widget-state+json": {
    "0229bd90bd3d46b59c025a905c5b9ce2": {
     "model_module": "@jupyter-widgets/controls",
     "model_module_version": "1.5.0",
     "model_name": "HTMLModel",
     "state": {
      "_dom_classes": [],
      "_model_module": "@jupyter-widgets/controls",
      "_model_module_version": "1.5.0",
      "_model_name": "HTMLModel",
      "_view_count": null,
      "_view_module": "@jupyter-widgets/controls",
      "_view_module_version": "1.5.0",
      "_view_name": "HTMLView",
      "description": "",
      "description_tooltip": null,
      "layout": "IPY_MODEL_498f085853c24829affb231886434e6e",
      "placeholder": "​",
      "style": "IPY_MODEL_9d8f96ed7e8244ee9e50652f262e08e2",
      "value": " 13/13 [00:01&lt;00:00,  5.53file/s]"
     }
    },
    "03e742985f574beaa5d0606d9015fadb": {
     "model_module": "@jupyter-widgets/controls",
     "model_module_version": "1.5.0",
     "model_name": "HBoxModel",
     "state": {
      "_dom_classes": [],
      "_model_module": "@jupyter-widgets/controls",
      "_model_module_version": "1.5.0",
      "_model_name": "HBoxModel",
      "_view_count": null,
      "_view_module": "@jupyter-widgets/controls",
      "_view_module_version": "1.5.0",
      "_view_name": "HBoxView",
      "box_style": "",
      "children": [
       "IPY_MODEL_1944dc8d32c74470aa729da06d606f7c",
       "IPY_MODEL_efc062bd85a4423ba661c822648e9a11",
       "IPY_MODEL_0229bd90bd3d46b59c025a905c5b9ce2"
      ],
      "layout": "IPY_MODEL_f1016778e6bc4555ba99c034304e0c64"
     }
    },
    "1944dc8d32c74470aa729da06d606f7c": {
     "model_module": "@jupyter-widgets/controls",
     "model_module_version": "1.5.0",
     "model_name": "HTMLModel",
     "state": {
      "_dom_classes": [],
      "_model_module": "@jupyter-widgets/controls",
      "_model_module_version": "1.5.0",
      "_model_name": "HTMLModel",
      "_view_count": null,
      "_view_module": "@jupyter-widgets/controls",
      "_view_module_version": "1.5.0",
      "_view_name": "HTMLView",
      "description": "",
      "description_tooltip": null,
      "layout": "IPY_MODEL_81450a4bf4bf4353bc4794a2537493ec",
      "placeholder": "​",
      "style": "IPY_MODEL_929fe39a058f4edfa29150abe40f1feb",
      "value": "Membaca Excel: 100%"
     }
    },
    "280f90cef3bf4a64855f7d5800d45307": {
     "model_module": "@jupyter-widgets/base",
     "model_module_version": "1.2.0",
     "model_name": "LayoutModel",
     "state": {
      "_model_module": "@jupyter-widgets/base",
      "_model_module_version": "1.2.0",
      "_model_name": "LayoutModel",
      "_view_count": null,
      "_view_module": "@jupyter-widgets/base",
      "_view_module_version": "1.2.0",
      "_view_name": "LayoutView",
      "align_content": null,
      "align_items": null,
      "align_self": null,
      "border": null,
      "bottom": null,
      "display": null,
      "flex": null,
      "flex_flow": null,
      "grid_area": null,
      "grid_auto_columns": null,
      "grid_auto_flow": null,
      "grid_auto_rows": null,
      "grid_column": null,
      "grid_gap": null,
      "grid_row": null,
      "grid_template_areas": null,
      "grid_template_columns": null,
      "grid_template_rows": null,
      "height": null,
      "justify_content": null,
      "justify_items": null,
      "left": null,
      "margin": null,
      "max_height": null,
      "max_width": null,
      "min_height": null,
      "min_width": null,
      "object_fit": null,
      "object_position": null,
      "order": null,
      "overflow": null,
      "overflow_x": null,
      "overflow_y": null,
      "padding": null,
      "right": null,
      "top": null,
      "visibility": null,
      "width": null
     }
    },
    "498f085853c24829affb231886434e6e": {
     "model_module": "@jupyter-widgets/base",
     "model_module_version": "1.2.0",
     "model_name": "LayoutModel",
     "state": {
      "_model_module": "@jupyter-widgets/base",
      "_model_module_version": "1.2.0",
      "_model_name": "LayoutModel",
      "_view_count": null,
      "_view_module": "@jupyter-widgets/base",
      "_view_module_version": "1.2.0",
      "_view_name": "LayoutView",
      "align_content": null,
      "align_items": null,
      "align_self": null,
      "border": null,
      "bottom": null,
      "display": null,
      "flex": null,
      "flex_flow": null,
      "grid_area": null,
      "grid_auto_columns": null,
      "grid_auto_flow": null,
      "grid_auto_rows": null,
      "grid_column": null,
      "grid_gap": null,
      "grid_row": null,
      "grid_template_areas": null,
      "grid_template_columns": null,
      "grid_template_rows": null,
      "height": null,
      "justify_content": null,
      "justify_items": null,
      "left": null,
      "margin": null,
      "max_height": null,
      "max_width": null,
      "min_height": null,
      "min_width": null,
      "object_fit": null,
      "object_position": null,
      "order": null,
      "overflow": null,
      "overflow_x": null,
      "overflow_y": null,
      "padding": null,
      "right": null,
      "top": null,
      "visibility": null,
      "width": null
     }
    },
    "4d457ba32dc047fa94cfbcd12af7a7b5": {
     "model_module": "@jupyter-widgets/base",
     "model_module_version": "1.2.0",
     "model_name": "LayoutModel",
     "state": {
      "_model_module": "@jupyter-widgets/base",
      "_model_module_version": "1.2.0",
      "_model_name": "LayoutModel",
      "_view_count": null,
      "_view_module": "@jupyter-widgets/base",
      "_view_module_version": "1.2.0",
      "_view_name": "LayoutView",
      "align_content": null,
      "align_items": null,
      "align_self": null,
      "border": null,
      "bottom": null,
      "display": null,
      "flex": null,
      "flex_flow": null,
      "grid_area": null,
      "grid_auto_columns": null,
      "grid_auto_flow": null,
      "grid_auto_rows": null,
      "grid_column": null,
      "grid_gap": null,
      "grid_row": null,
      "grid_template_areas": null,
      "grid_template_columns": null,
      "grid_template_rows": null,
      "height": null,
      "justify_content": null,
      "justify_items": null,
      "left": null,
      "margin": null,
      "max_height": null,
      "max_width": null,
      "min_height": null,
      "min_width": null,
      "object_fit": null,
      "object_position": null,
      "order": null,
      "overflow": null,
      "overflow_x": null,
      "overflow_y": null,
      "padding": null,
      "right": null,
      "top": null,
      "visibility": null,
      "width": null
     }
    },
    "50cf6eac6fc646a5ac2c856d5d6b8c93": {
     "model_module": "@jupyter-widgets/controls",
     "model_module_version": "1.5.0",
     "model_name": "HTMLModel",
     "state": {
      "_dom_classes": [],
      "_model_module": "@jupyter-widgets/controls",
      "_model_module_version": "1.5.0",
      "_model_name": "HTMLModel",
      "_view_count": null,
      "_view_module": "@jupyter-widgets/controls",
      "_view_module_version": "1.5.0",
      "_view_name": "HTMLView",
      "description": "",
      "description_tooltip": null,
      "layout": "IPY_MODEL_99c7711a32504f1280c53abfd6b839c5",
      "placeholder": "​",
      "style": "IPY_MODEL_ccdfe10894894e65802e9958e40dffb0",
      "value": " 100/100 [01:06&lt;00:00,  1.73it/s]"
     }
    },
    "5886680b1a4d4c20adfff9f10b4eb80e": {
     "model_module": "@jupyter-widgets/controls",
     "model_module_version": "1.5.0",
     "model_name": "HTMLModel",
     "state": {
      "_dom_classes": [],
      "_model_module": "@jupyter-widgets/controls",
      "_model_module_version": "1.5.0",
      "_model_name": "HTMLModel",
      "_view_count": null,
      "_view_module": "@jupyter-widgets/controls",
      "_view_module_version": "1.5.0",
      "_view_name": "HTMLView",
      "description": "",
      "description_tooltip": null,
      "layout": "IPY_MODEL_280f90cef3bf4a64855f7d5800d45307",
      "placeholder": "​",
      "style": "IPY_MODEL_e0a7e6d3b9d743dbbc8939c2fa1a235d",
      "value": "Scraping artikel: 100%"
     }
    },
    "659a9c31541049f0beaad3723ac434bb": {
     "model_module": "@jupyter-widgets/base",
     "model_module_version": "1.2.0",
     "model_name": "LayoutModel",
     "state": {
      "_model_module": "@jupyter-widgets/base",
      "_model_module_version": "1.2.0",
      "_model_name": "LayoutModel",
      "_view_count": null,
      "_view_module": "@jupyter-widgets/base",
      "_view_module_version": "1.2.0",
      "_view_name": "LayoutView",
      "align_content": null,
      "align_items": null,
      "align_self": null,
      "border": null,
      "bottom": null,
      "display": null,
      "flex": null,
      "flex_flow": null,
      "grid_area": null,
      "grid_auto_columns": null,
      "grid_auto_flow": null,
      "grid_auto_rows": null,
      "grid_column": null,
      "grid_gap": null,
      "grid_row": null,
      "grid_template_areas": null,
      "grid_template_columns": null,
      "grid_template_rows": null,
      "height": null,
      "justify_content": null,
      "justify_items": null,
      "left": null,
      "margin": null,
      "max_height": null,
      "max_width": null,
      "min_height": null,
      "min_width": null,
      "object_fit": null,
      "object_position": null,
      "order": null,
      "overflow": null,
      "overflow_x": null,
      "overflow_y": null,
      "padding": null,
      "right": null,
      "top": null,
      "visibility": null,
      "width": null
     }
    },
    "6b3a08831def4c67b608dfa7c2001e11": {
     "model_module": "@jupyter-widgets/controls",
     "model_module_version": "1.5.0",
     "model_name": "ProgressStyleModel",
     "state": {
      "_model_module": "@jupyter-widgets/controls",
      "_model_module_version": "1.5.0",
      "_model_name": "ProgressStyleModel",
      "_view_count": null,
      "_view_module": "@jupyter-widgets/base",
      "_view_module_version": "1.2.0",
      "_view_name": "StyleView",
      "bar_color": null,
      "description_width": ""
     }
    },
    "81450a4bf4bf4353bc4794a2537493ec": {
     "model_module": "@jupyter-widgets/base",
     "model_module_version": "1.2.0",
     "model_name": "LayoutModel",
     "state": {
      "_model_module": "@jupyter-widgets/base",
      "_model_module_version": "1.2.0",
      "_model_name": "LayoutModel",
      "_view_count": null,
      "_view_module": "@jupyter-widgets/base",
      "_view_module_version": "1.2.0",
      "_view_name": "LayoutView",
      "align_content": null,
      "align_items": null,
      "align_self": null,
      "border": null,
      "bottom": null,
      "display": null,
      "flex": null,
      "flex_flow": null,
      "grid_area": null,
      "grid_auto_columns": null,
      "grid_auto_flow": null,
      "grid_auto_rows": null,
      "grid_column": null,
      "grid_gap": null,
      "grid_row": null,
      "grid_template_areas": null,
      "grid_template_columns": null,
      "grid_template_rows": null,
      "height": null,
      "justify_content": null,
      "justify_items": null,
      "left": null,
      "margin": null,
      "max_height": null,
      "max_width": null,
      "min_height": null,
      "min_width": null,
      "object_fit": null,
      "object_position": null,
      "order": null,
      "overflow": null,
      "overflow_x": null,
      "overflow_y": null,
      "padding": null,
      "right": null,
      "top": null,
      "visibility": null,
      "width": null
     }
    },
    "929fe39a058f4edfa29150abe40f1feb": {
     "model_module": "@jupyter-widgets/controls",
     "model_module_version": "1.5.0",
     "model_name": "DescriptionStyleModel",
     "state": {
      "_model_module": "@jupyter-widgets/controls",
      "_model_module_version": "1.5.0",
      "_model_name": "DescriptionStyleModel",
      "_view_count": null,
      "_view_module": "@jupyter-widgets/base",
      "_view_module_version": "1.2.0",
      "_view_name": "StyleView",
      "description_width": ""
     }
    },
    "991f091932664e3e8fff4b579b0adb71": {
     "model_module": "@jupyter-widgets/controls",
     "model_module_version": "1.5.0",
     "model_name": "ProgressStyleModel",
     "state": {
      "_model_module": "@jupyter-widgets/controls",
      "_model_module_version": "1.5.0",
      "_model_name": "ProgressStyleModel",
      "_view_count": null,
      "_view_module": "@jupyter-widgets/base",
      "_view_module_version": "1.2.0",
      "_view_name": "StyleView",
      "bar_color": null,
      "description_width": ""
     }
    },
    "99c7711a32504f1280c53abfd6b839c5": {
     "model_module": "@jupyter-widgets/base",
     "model_module_version": "1.2.0",
     "model_name": "LayoutModel",
     "state": {
      "_model_module": "@jupyter-widgets/base",
      "_model_module_version": "1.2.0",
      "_model_name": "LayoutModel",
      "_view_count": null,
      "_view_module": "@jupyter-widgets/base",
      "_view_module_version": "1.2.0",
      "_view_name": "LayoutView",
      "align_content": null,
      "align_items": null,
      "align_self": null,
      "border": null,
      "bottom": null,
      "display": null,
      "flex": null,
      "flex_flow": null,
      "grid_area": null,
      "grid_auto_columns": null,
      "grid_auto_flow": null,
      "grid_auto_rows": null,
      "grid_column": null,
      "grid_gap": null,
      "grid_row": null,
      "grid_template_areas": null,
      "grid_template_columns": null,
      "grid_template_rows": null,
      "height": null,
      "justify_content": null,
      "justify_items": null,
      "left": null,
      "margin": null,
      "max_height": null,
      "max_width": null,
      "min_height": null,
      "min_width": null,
      "object_fit": null,
      "object_position": null,
      "order": null,
      "overflow": null,
      "overflow_x": null,
      "overflow_y": null,
      "padding": null,
      "right": null,
      "top": null,
      "visibility": null,
      "width": null
     }
    },
    "9d8f96ed7e8244ee9e50652f262e08e2": {
     "model_module": "@jupyter-widgets/controls",
     "model_module_version": "1.5.0",
     "model_name": "DescriptionStyleModel",
     "state": {
      "_model_module": "@jupyter-widgets/controls",
      "_model_module_version": "1.5.0",
      "_model_name": "DescriptionStyleModel",
      "_view_count": null,
      "_view_module": "@jupyter-widgets/base",
      "_view_module_version": "1.2.0",
      "_view_name": "StyleView",
      "description_width": ""
     }
    },
    "be2c2a371fd746f1a9c54d1f118a2390": {
     "model_module": "@jupyter-widgets/controls",
     "model_module_version": "1.5.0",
     "model_name": "HBoxModel",
     "state": {
      "_dom_classes": [],
      "_model_module": "@jupyter-widgets/controls",
      "_model_module_version": "1.5.0",
      "_model_name": "HBoxModel",
      "_view_count": null,
      "_view_module": "@jupyter-widgets/controls",
      "_view_module_version": "1.5.0",
      "_view_name": "HBoxView",
      "box_style": "",
      "children": [
       "IPY_MODEL_5886680b1a4d4c20adfff9f10b4eb80e",
       "IPY_MODEL_f959c57f2f94471c9b5d800b644d69db",
       "IPY_MODEL_50cf6eac6fc646a5ac2c856d5d6b8c93"
      ],
      "layout": "IPY_MODEL_4d457ba32dc047fa94cfbcd12af7a7b5"
     }
    },
    "ccdfe10894894e65802e9958e40dffb0": {
     "model_module": "@jupyter-widgets/controls",
     "model_module_version": "1.5.0",
     "model_name": "DescriptionStyleModel",
     "state": {
      "_model_module": "@jupyter-widgets/controls",
      "_model_module_version": "1.5.0",
      "_model_name": "DescriptionStyleModel",
      "_view_count": null,
      "_view_module": "@jupyter-widgets/base",
      "_view_module_version": "1.2.0",
      "_view_name": "StyleView",
      "description_width": ""
     }
    },
    "de6e0370fdb54e4f88a1b3b6f39ca276": {
     "model_module": "@jupyter-widgets/base",
     "model_module_version": "1.2.0",
     "model_name": "LayoutModel",
     "state": {
      "_model_module": "@jupyter-widgets/base",
      "_model_module_version": "1.2.0",
      "_model_name": "LayoutModel",
      "_view_count": null,
      "_view_module": "@jupyter-widgets/base",
      "_view_module_version": "1.2.0",
      "_view_name": "LayoutView",
      "align_content": null,
      "align_items": null,
      "align_self": null,
      "border": null,
      "bottom": null,
      "display": null,
      "flex": null,
      "flex_flow": null,
      "grid_area": null,
      "grid_auto_columns": null,
      "grid_auto_flow": null,
      "grid_auto_rows": null,
      "grid_column": null,
      "grid_gap": null,
      "grid_row": null,
      "grid_template_areas": null,
      "grid_template_columns": null,
      "grid_template_rows": null,
      "height": null,
      "justify_content": null,
      "justify_items": null,
      "left": null,
      "margin": null,
      "max_height": null,
      "max_width": null,
      "min_height": null,
      "min_width": null,
      "object_fit": null,
      "object_position": null,
      "order": null,
      "overflow": null,
      "overflow_x": null,
      "overflow_y": null,
      "padding": null,
      "right": null,
      "top": null,
      "visibility": null,
      "width": null
     }
    },
    "e0a7e6d3b9d743dbbc8939c2fa1a235d": {
     "model_module": "@jupyter-widgets/controls",
     "model_module_version": "1.5.0",
     "model_name": "DescriptionStyleModel",
     "state": {
      "_model_module": "@jupyter-widgets/controls",
      "_model_module_version": "1.5.0",
      "_model_name": "DescriptionStyleModel",
      "_view_count": null,
      "_view_module": "@jupyter-widgets/base",
      "_view_module_version": "1.2.0",
      "_view_name": "StyleView",
      "description_width": ""
     }
    },
    "efc062bd85a4423ba661c822648e9a11": {
     "model_module": "@jupyter-widgets/controls",
     "model_module_version": "1.5.0",
     "model_name": "FloatProgressModel",
     "state": {
      "_dom_classes": [],
      "_model_module": "@jupyter-widgets/controls",
      "_model_module_version": "1.5.0",
      "_model_name": "FloatProgressModel",
      "_view_count": null,
      "_view_module": "@jupyter-widgets/controls",
      "_view_module_version": "1.5.0",
      "_view_name": "ProgressView",
      "bar_style": "success",
      "description": "",
      "description_tooltip": null,
      "layout": "IPY_MODEL_659a9c31541049f0beaad3723ac434bb",
      "max": 13,
      "min": 0,
      "orientation": "horizontal",
      "style": "IPY_MODEL_6b3a08831def4c67b608dfa7c2001e11",
      "value": 13
     }
    },
    "f1016778e6bc4555ba99c034304e0c64": {
     "model_module": "@jupyter-widgets/base",
     "model_module_version": "1.2.0",
     "model_name": "LayoutModel",
     "state": {
      "_model_module": "@jupyter-widgets/base",
      "_model_module_version": "1.2.0",
      "_model_name": "LayoutModel",
      "_view_count": null,
      "_view_module": "@jupyter-widgets/base",
      "_view_module_version": "1.2.0",
      "_view_name": "LayoutView",
      "align_content": null,
      "align_items": null,
      "align_self": null,
      "border": null,
      "bottom": null,
      "display": null,
      "flex": null,
      "flex_flow": null,
      "grid_area": null,
      "grid_auto_columns": null,
      "grid_auto_flow": null,
      "grid_auto_rows": null,
      "grid_column": null,
      "grid_gap": null,
      "grid_row": null,
      "grid_template_areas": null,
      "grid_template_columns": null,
      "grid_template_rows": null,
      "height": null,
      "justify_content": null,
      "justify_items": null,
      "left": null,
      "margin": null,
      "max_height": null,
      "max_width": null,
      "min_height": null,
      "min_width": null,
      "object_fit": null,
      "object_position": null,
      "order": null,
      "overflow": null,
      "overflow_x": null,
      "overflow_y": null,
      "padding": null,
      "right": null,
      "top": null,
      "visibility": null,
      "width": null
     }
    },
    "f959c57f2f94471c9b5d800b644d69db": {
     "model_module": "@jupyter-widgets/controls",
     "model_module_version": "1.5.0",
     "model_name": "FloatProgressModel",
     "state": {
      "_dom_classes": [],
      "_model_module": "@jupyter-widgets/controls",
      "_model_module_version": "1.5.0",
      "_model_name": "FloatProgressModel",
      "_view_count": null,
      "_view_module": "@jupyter-widgets/controls",
      "_view_module_version": "1.5.0",
      "_view_name": "ProgressView",
      "bar_style": "success",
      "description": "",
      "description_tooltip": null,
      "layout": "IPY_MODEL_de6e0370fdb54e4f88a1b3b6f39ca276",
      "max": 100,
      "min": 0,
      "orientation": "horizontal",
      "style": "IPY_MODEL_991f091932664e3e8fff4b579b0adb71",
      "value": 100
     }
    }
   }
  }
 },
 "nbformat": 4,
 "nbformat_minor": 0
}
