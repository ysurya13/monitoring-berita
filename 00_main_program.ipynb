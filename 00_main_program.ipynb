{
 "cells": [
  {
   "cell_type": "markdown",
   "metadata": {
    "id": "nl15yqDXsRcB"
   },
   "source": [
    "# SETTING ENVIRONMENT\n"
   ]
  },
  {
   "cell_type": "code",
   "execution_count": 1,
   "metadata": {
    "colab": {
     "base_uri": "https://localhost:8080/"
    },
    "executionInfo": {
     "elapsed": 11999,
     "status": "ok",
     "timestamp": 1758707035633,
     "user": {
      "displayName": "Monitoring Berita",
      "userId": "16755502473357078001"
     },
     "user_tz": -420
    },
    "id": "f8BqutX0SOd1",
    "outputId": "59a661d0-ddbb-412c-e919-2d09d938a9b6"
   },
   "outputs": [
    {
     "data": {
      "text/plain": [
       "\"# mount the colab with google drive\\nfrom google.colab import drive\\ndrive.mount('/content/drive')\""
      ]
     },
     "execution_count": 1,
     "metadata": {},
     "output_type": "execute_result"
    }
   ],
   "source": [
    "\"\"\"# mount the colab with google drive\n",
    "from google.colab import drive\n",
    "drive.mount('/content/drive')\"\"\""
   ]
  },
  {
   "cell_type": "code",
   "execution_count": 2,
   "metadata": {
    "executionInfo": {
     "elapsed": 125,
     "status": "ok",
     "timestamp": 1758707035761,
     "user": {
      "displayName": "Monitoring Berita",
      "userId": "16755502473357078001"
     },
     "user_tz": -420
    },
    "id": "eLOguPRQSRLN"
   },
   "outputs": [],
   "source": [
    "# set folder tempat kerja (current working directory)\n",
    "import os\n",
    "cwd = '/Users/yusufpradana/Library/CloudStorage/OneDrive-Personal/Pekerjaan BMN/05. 2025/98_monitoring_berita/monitoring-berita'\n",
    "# cwd = '/content/drive/MyDrive/Monitoring Berita'\n",
    "\n",
    "os.chdir(cwd)"
   ]
  },
  {
   "cell_type": "markdown",
   "metadata": {
    "id": "6ELnJl6msIPe"
   },
   "source": [
    "# INPUT PARAMETER PENCARIAN"
   ]
  },
  {
   "cell_type": "code",
   "execution_count": 3,
   "metadata": {
    "executionInfo": {
     "elapsed": 7,
     "status": "ok",
     "timestamp": 1758707067883,
     "user": {
      "displayName": "Monitoring Berita",
      "userId": "16755502473357078001"
     },
     "user_tz": -420
    },
    "id": "Ngu4o4ibVA_7"
   },
   "outputs": [],
   "source": [
    "# AI Model (deepseek/openai)\n",
    "model_name          = \"deepseek\"\n",
    "# Model version (openai only: gpt-3.5-turbo/gpt-4o-mini/gpt-5-nano/gpt-5-mini/gpt-5)\n",
    "model_version       = \"gpt-5-nano\"\n",
    "# Tanggal awal pencarian berita [YYYY-MM-DD]\n",
    "start_date          = \"2025-09-28\"\n",
    "# Tanggal akhir pencarian berita\n",
    "end_date            = \"2025-10-01\"\n",
    "# Keywords pencarian berita\n",
    "keywords_pencarian  = [\"purbaya rokok ilegal\", \"rokok ilegal\"]\n",
    "# Keywords analisis topic\n",
    "keywords_topic      = [\"rokok ilegal\", \"makan bergizi gratis\", \"tax amnesty\", \"sidak BNI\", 'lainnya']\n",
    "# Jumlah halaman pencarian\n",
    "page_length         = 2"
   ]
  },
  {
   "cell_type": "markdown",
   "metadata": {
    "id": "wU3w7Y3nsMDO"
   },
   "source": [
    "### Menyimpan Parameter Pencarian"
   ]
  },
  {
   "cell_type": "code",
   "execution_count": 4,
   "metadata": {},
   "outputs": [],
   "source": [
    "# tandai waktu mulai proses\n",
    "import time \n",
    "start_process_time = time.time()"
   ]
  },
  {
   "cell_type": "code",
   "execution_count": 5,
   "metadata": {
    "executionInfo": {
     "elapsed": 16,
     "status": "ok",
     "timestamp": 1758707077919,
     "user": {
      "displayName": "Monitoring Berita",
      "userId": "16755502473357078001"
     },
     "user_tz": -420
    },
    "id": "Iz2G1ZfRU5M-"
   },
   "outputs": [],
   "source": [
    "from datetime import datetime, timedelta\n",
    "\n",
    "# Konversi string ke datetime\n",
    "start = datetime.strptime(start_date, \"%Y-%m-%d\")\n",
    "end = datetime.strptime(end_date, \"%Y-%m-%d\")\n",
    "\n",
    "# Buat list tanggal dari end_date ke start_date (descending)\n",
    "search_date = [(end - timedelta(days=i)).strftime(\"%Y-%m-%d\")\n",
    "               for i in range((end - start).days + 1)]"
   ]
  },
  {
   "cell_type": "code",
   "execution_count": 6,
   "metadata": {
    "colab": {
     "base_uri": "https://localhost:8080/"
    },
    "executionInfo": {
     "elapsed": 408,
     "status": "ok",
     "timestamp": 1758707078338,
     "user": {
      "displayName": "Monitoring Berita",
      "userId": "16755502473357078001"
     },
     "user_tz": -420
    },
    "id": "_doiDwPTSd9O",
    "outputId": "c4235f93-a13a-41b3-9312-57a09b667ab2"
   },
   "outputs": [
    {
     "name": "stdout",
     "output_type": "stream",
     "text": [
      "Config.json berhasil diperbarui: config.json\n"
     ]
    }
   ],
   "source": [
    "import json\n",
    "from pathlib import Path\n",
    "\n",
    "config_path = Path(\"config.json\")\n",
    "\n",
    "# Data baru yang ingin disimpan/diupdate\n",
    "variabel = {\n",
    "    \"search_date\": search_date,\n",
    "    \"keywords\": keywords_pencarian,\n",
    "    \"topic_keywords\":keywords_topic,\n",
    "    \"max_page_length\": page_length,\n",
    "    \"AI_name\": model_name,\n",
    "    \"model_version\": model_version\n",
    "}\n",
    "\n",
    "# Baca isi config.json lama (jika ada)\n",
    "if config_path.exists():\n",
    "    try:\n",
    "        with open(config_path, \"r\", encoding=\"utf-8\") as f:\n",
    "            config = json.load(f)\n",
    "    except Exception as e:\n",
    "        print(f\"Gagal membaca config.json: {e}\")\n",
    "        config = {}\n",
    "else:\n",
    "    config = {}\n",
    "\n",
    "# Update hanya key yang ada di `variabel`\n",
    "config.update(variabel)\n",
    "\n",
    "# Simpan kembali ke file\n",
    "with open(config_path, \"w\", encoding=\"utf-8\") as f:\n",
    "    json.dump(config, f, indent=4, ensure_ascii=False)\n",
    "\n",
    "print(f\"Config.json berhasil diperbarui: {config_path}\")\n"
   ]
  },
  {
   "cell_type": "markdown",
   "metadata": {
    "id": "ayYLnSVH_FUQ"
   },
   "source": [
    "# LANGKAH ANALISIS"
   ]
  },
  {
   "cell_type": "markdown",
   "metadata": {
    "id": "ZelF4LorrORT"
   },
   "source": [
    "## SCRAP DATA BERITA DI MEDIA ONLINE"
   ]
  },
  {
   "cell_type": "markdown",
   "metadata": {},
   "source": [
    "### Google News"
   ]
  },
  {
   "cell_type": "code",
   "execution_count": 7,
   "metadata": {},
   "outputs": [
    {
     "name": "stdout",
     "output_type": "stream",
     "text": [
      "Requirement already satisfied: googlenewsdecoder in /opt/anaconda3/lib/python3.12/site-packages (0.1.7)\n",
      "Requirement already satisfied: requests>=2.32.3 in /opt/anaconda3/lib/python3.12/site-packages (from googlenewsdecoder) (2.32.3)\n",
      "Requirement already satisfied: selectolax>=0.3.27 in /opt/anaconda3/lib/python3.12/site-packages (from googlenewsdecoder) (0.4.0)\n",
      "Requirement already satisfied: pysocks>=1.7.1 in /opt/anaconda3/lib/python3.12/site-packages (from googlenewsdecoder) (1.7.1)\n",
      "Requirement already satisfied: charset-normalizer<4,>=2 in /opt/anaconda3/lib/python3.12/site-packages (from requests>=2.32.3->googlenewsdecoder) (3.4.3)\n",
      "Requirement already satisfied: idna<4,>=2.5 in /opt/anaconda3/lib/python3.12/site-packages (from requests>=2.32.3->googlenewsdecoder) (3.7)\n",
      "Requirement already satisfied: urllib3<3,>=1.21.1 in /opt/anaconda3/lib/python3.12/site-packages (from requests>=2.32.3->googlenewsdecoder) (1.26.20)\n",
      "Requirement already satisfied: certifi>=2017.4.17 in /opt/anaconda3/lib/python3.12/site-packages (from requests>=2.32.3->googlenewsdecoder) (2025.1.31)\n"
     ]
    },
    {
     "name": "stderr",
     "output_type": "stream",
     "text": [
      "[INFO] Mulai scrape Google News RSS | queries=2 | max_items_per_query=25 | date_filters=['2025-10-01', '2025-09-30', '2025-09-29', '2025-09-28']\n",
      "[INFO] [QUERY] purbaya rokok ilegal => https://news.google.com/rss/search?q=purbaya+rokok+ilegal+when%3A7d&hl=id&gl=ID&ceid=ID:id\n",
      "[INFO] [QUERY] rokok ilegal => https://news.google.com/rss/search?q=rokok+ilegal+when%3A7d&hl=id&gl=ID&ceid=ID:id\n"
     ]
    },
    {
     "name": "stdout",
     "output_type": "stream",
     "text": [
      "Decoded URL: https://ekbis.sindonews.com/read/1626051/34/purbaya-bakal-sikat-rokok-ilegal-seberapa-parah-peredarannya-1759046994\n",
      "Decoded URL: https://surabaya.kompas.com/read/2025/10/01/111353878/kiai-jatim-dukung-menkeu-purbaya-berantas-rokok-ilegal\n",
      "Decoded URL: https://pasardana.id/news/2025/9/29/rencana-menkeu-purbaya-buat-para-penjual-rokok-ilegal/\n",
      "Decoded URL: https://www.pajak.com/pajak/penindakan-rokok-ilegal-bakal-semakin-diperketat-purbaya-jadi-jangan-main-main/\n",
      "Decoded URL: https://www.metrotvnews.com/play/KYVC4EaR-lawan-produk-ilegal-menkeu-purbaya-tak-naikkan-cukai-rokok-pada-2026\n",
      "Decoded URL: https://kumparan.com/kumparanbisnis/purbaya-diminta-gempur-rokok-ilegal-bea-cukai-kejar-sampai-ke-e-commerce-25wTqv6LRis\n",
      "Decoded URL: https://www.cnbcindonesia.com/news/20250930135151-4-671543/tak-naikkan-cukai-rokok-2026-kantor-purbaya-dibanjiri-karangan-bunga\n",
      "Decoded URL: https://news.ddtc.co.id/berita/nasional/1814109/dikritik-karena-tak-naikkan-tarif-cukai-rokok-begini-respons-purbaya\n",
      "Decoded URL: https://www.cnbcindonesia.com/news/20251001074810-4-671730/purbaya-soal-cukai-rokok-saya-tak-mau-industri-mati-tapi-ilegal-hidup\n",
      "Decoded URL: https://www.cnbcindonesia.com/news/20251001072528-4-671724/cukai-rokok-2026-tidak-naik-ekonom-purbaya-benar-ini-angin-segar\n",
      "Decoded URL: https://www.cnbcindonesia.com/news/20250929201058-4-671319/purbaya-umumkan-cukai-rokok-2026-tak-naik-airlangga-bagus\n",
      "Decoded URL: https://kumparan.com/kumparanbisnis/ketua-komisi-xi-dpr-minta-purbaya-gempur-praktik-rokok-ilegal-25wOoSLlaNg\n",
      "Decoded URL: https://www.tempo.co/ekonomi/keputusan-menteri-purbaya-tidak-menaikkan-cukai-rokok-dipersoalkan-2074902\n",
      "Decoded URL: https://nasional.kontan.co.id/news/cukai-rokok-tak-naik-tahun-depan-menkeu-purbaya-fokus-lakukan-ini\n",
      "Decoded URL: https://m.rctiplus.com/news/detail/ekonomi/5237549/purbaya-larang-rokok-ilegal-1-oktober-2025-hingga-diprotes-hotman-paris--ini-4-faktanya\n",
      "Decoded URL: https://www.cnbcindonesia.com/news/20250930181235-4-671656/purbaya-tak-naikkan-cukai-rokok-masyarakat-perlu-penghidupan\n",
      "Decoded URL: https://ekonomi.republika.co.id/berita/t3ej9h484/dukung-kebijakan-menkeu-purbaya-indef-singgung-fenomena-rokok-ilegal\n",
      "Decoded URL: https://www.cnbcindonesia.com/news/20250930140029-7-671546/potret-kantor-purbaya-dibanjiri-karangan-bunga-gara-gara-cukai-rokok\n",
      "Decoded URL: https://www.cnbcindonesia.com/news/20250930175926-4-671650/kemenkeu-dibanjiri-karangan-bunga-soal-cukai-rokok-ini-kata-purbaya\n",
      "Decoded URL: https://finance.detik.com/industri/d-8135831/kemenperin-happy-purbaya-tak-naikkan-tarif-cukai-rokok-tahun-depan\n",
      "Decoded URL: https://kaltimpost.jawapos.com/nasional/2386640196/purbaya-tegas-larang-rokok-ilegal-mulai-1-oktober-2025-warung-hingga-tokopedia-wajib-patuh\n",
      "Decoded URL: https://kumparan.com/kumparanbisnis/purbaya-pastikan-sidak-rokok-impor-ilegal-tak-ganggu-operasional-25vaWNIlzKQ\n",
      "Decoded URL: https://www.tempo.co/ekonomi/cukai-rokok-tak-naik-ekonom-penerimaan-bergantung-pada-penertiban-rokok-ilegal-2074622\n",
      "Decoded URL: https://www.pajak.com/pajak/menkeu-purbaya-pastikan-tarif-cukai-rokok-tak-naik-pada-2026-ini-alasannya/\n",
      "Decoded URL: https://economy.okezone.com/read/2025/09/29/320/3172951/4-fakta-cukai-rokok-2026-tak-naik-purbaya-fokus-berantas-rokok-ilegal\n",
      "Decoded URL: https://jogja.polri.go.id/polda/tribrata-news/online/detail/polresta-sleman-bersama-bea-cukai-dan-instansi-terkait-gencarkan-operasi-rokok-ilegal.html\n",
      "Decoded URL: https://berita.batangkab.go.id/?p=1&id=14295\n",
      "Decoded URL: https://www.tempo.co/ekonomi/bea-cukai-beberkan-penyebab-lonjakan-peredaran-rokok-ilegal-di-jawa-barat-2074782\n",
      "Decoded URL: https://www.metrotvnews.com/read/NA0CEWee-bea-cukai-aceh-sita-34-300-batang-rokok-ilegal-dalam-dua-pekan\n",
      "Decoded URL: https://www.cnbcindonesia.com/news/20250929172147-4-671235/apindo-sebut-penjualan-rokok-ilegal-di-jantung-jakarta-makin-berani\n",
      "Decoded URL: https://www.antarafoto.com/id/view/2635209/bea-cukai-sita-15-juta-batang-rokok-ilegal\n",
      "Decoded URL: https://rri.co.id/daerah/1874681/sebanyak-3-6-juta-batang-rokok-ilegal-kembali-diamankan\n",
      "Decoded URL: https://jateng.antaranews.com/berita/602153/pemkab-batang-sita-3100-batang-rokok-ilegal\n",
      "Decoded URL: https://www.cnnindonesia.com/ekonomi/20250929131723-532-1278848/bea-cukai-beber-modus-jual-rokok-ilegal-dipalsukan-jadi-pakaian-dalam\n",
      "Decoded URL: https://beritajatim.com/rokok-ilegal-lumajang-satpol-pp-sita-7034-bungkus\n",
      "Decoded URL: https://jogjapolitan.harianjogja.com/read/2025/10/01/511/1230104/satpol-pp-bantul-amankan-43160-batang-rokok-ilegal\n",
      "Decoded URL: https://www.cnbcindonesia.com/news/20250930135151-4-671543/tak-naikkan-cukai-rokok-2026-kantor-purbaya-dibanjiri-karangan-bunga\n",
      "Decoded URL: https://infopublik.id/kategori/nusantara/939117/index.html\n",
      "Decoded URL: https://www.cnbcindonesia.com/tech/20250930080129-37-671349/modus-pedagang-ecommerce-rokok-ilegal-dijual-jadi-pakaian-dalam\n",
      "Decoded URL: https://www.tempo.co/ekonomi/cukai-rokok-tak-naik-ekonom-penerimaan-bergantung-pada-penertiban-rokok-ilegal-2074622\n",
      "Decoded URL: https://rri.co.id/info-pemda/1865499/pedagang-diedukasi-rokok-ilegal-diamankan\n",
      "Decoded URL: https://surabaya.kompas.com/read/2025/10/01/111353878/kiai-jatim-dukung-menkeu-purbaya-berantas-rokok-ilegal\n",
      "Decoded URL: https://jatim.antaranews.com/berita/982257/satpol-pp-kabupaten-kediri-sita-ratusan-bungkus-rokok-ilegal\n",
      "Decoded URL: https://investortrust.id/business/80620/pengusaha-ungkap-kerugian-negara-akibat-rokok-ilegal-bisa-capai-rp-15-triliun\n",
      "Decoded URL: https://validnews.id/ekonomi/kemenperin-susun-aturan-baru-untuk-berantas-peredaran-rokok-ilegal\n",
      "Decoded URL: https://validnews.id/ekonomi/apindo-geram-rokok-ilegal-dijual-terbuka-dekat-pusat-pemerintah\n",
      "Decoded URL: https://www.detik.com/jatim/berita/d-8137673/ulama-jatim-dukung-menkeu-berantas-rokok-ilegal\n",
      "Decoded URL: https://kupang.antaranews.com/berita/170337/bea-cukai-labuan-bajo-gencarkan-penindakan-rokok-ilegal\n",
      "Decoded URL: https://kumparan.com/kumparanbisnis/purbaya-diminta-gempur-rokok-ilegal-bea-cukai-kejar-sampai-ke-e-commerce-25wTqv6LRis\n",
      "Decoded URL: https://kabarbaik.co/pemkab-pasuruan-stop-peredaran-rokok-ilegal-2/\n"
     ]
    },
    {
     "name": "stderr",
     "output_type": "stream",
     "text": [
      "[INFO] Selesai. Tersimpan: /Users/yusufpradana/Library/CloudStorage/OneDrive-Personal/Pekerjaan BMN/05. 2025/98_monitoring_berita/monitoring-berita/daftar_berita/google_news_rss.xlsx (50 baris)\n"
     ]
    }
   ],
   "source": [
    "file_loc = os.path.join(cwd, 'tarik_daftar_berita', 'list_googlenews.ipynb')\n",
    "\n",
    "%run \"$file_loc\""
   ]
  },
  {
   "cell_type": "markdown",
   "metadata": {
    "id": "PgAoP36AsoBi"
   },
   "source": [
    "## MENGGABUNGKAN DATA"
   ]
  },
  {
   "cell_type": "markdown",
   "metadata": {},
   "source": [
    "### Konsolidasi Data Url Berita"
   ]
  },
  {
   "cell_type": "code",
   "execution_count": 10,
   "metadata": {
    "colab": {
     "base_uri": "https://localhost:8080/",
     "height": 678,
     "referenced_widgets": [
      "03e742985f574beaa5d0606d9015fadb",
      "1944dc8d32c74470aa729da06d606f7c",
      "efc062bd85a4423ba661c822648e9a11",
      "0229bd90bd3d46b59c025a905c5b9ce2",
      "f1016778e6bc4555ba99c034304e0c64",
      "81450a4bf4bf4353bc4794a2537493ec",
      "929fe39a058f4edfa29150abe40f1feb",
      "659a9c31541049f0beaad3723ac434bb",
      "6b3a08831def4c67b608dfa7c2001e11",
      "498f085853c24829affb231886434e6e",
      "9d8f96ed7e8244ee9e50652f262e08e2"
     ]
    },
    "executionInfo": {
     "elapsed": 4193,
     "status": "ok",
     "timestamp": 1758707738875,
     "user": {
      "displayName": "Monitoring Berita",
      "userId": "16755502473357078001"
     },
     "user_tz": -420
    },
    "id": "EiYxfVGUtVvl",
    "outputId": "ad5a6d55-a384-4eb2-a034-428f60475b22"
   },
   "outputs": [
    {
     "data": {
      "application/vnd.jupyter.widget-view+json": {
       "model_id": "ae43876fc3d14c41b214f30a905b03b0",
       "version_major": 2,
       "version_minor": 0
      },
      "text/plain": [
       "Membaca Excel:   0%|          | 0/1 [00:00<?, ?file/s]"
      ]
     },
     "metadata": {},
     "output_type": "display_data"
    },
    {
     "name": "stderr",
     "output_type": "stream",
     "text": [
      "[INFO] Duplikat dihapus: 4 baris | Total akhir: 46\n",
      "[INFO] Selesai gabung. Total baris: 46 | File terbaca: 1\n",
      "[INFO] Normalisasi selesai. Total baris: 46 | Berhasil: 46 | Gagal: 0\n",
      "[INFO] Filter judul < 40 chars: dihapus 0 baris | sisa: 46\n",
      "[INFO] Config berhasil diperbarui: /Users/yusufpradana/Library/CloudStorage/OneDrive-Personal/Pekerjaan BMN/05. 2025/98_monitoring_berita/monitoring-berita/config.json\n"
     ]
    },
    {
     "name": "stdout",
     "output_type": "stream",
     "text": [
      "File berhasil disimpan: /Users/yusufpradana/Library/CloudStorage/OneDrive-Personal/Pekerjaan BMN/05. 2025/98_monitoring_berita/monitoring-berita/konsolidasi_berita/hasil_gabungan_20251001_204151.csv\n"
     ]
    }
   ],
   "source": [
    "file_loc = os.path.join(cwd, '01_konsolidasi_data_berita.ipynb')\n",
    "\n",
    "%run \"$file_loc\""
   ]
  },
  {
   "cell_type": "markdown",
   "metadata": {
    "id": "-BWB0loXQGL-"
   },
   "source": [
    "## BACA BERITA"
   ]
  },
  {
   "cell_type": "markdown",
   "metadata": {},
   "source": [
    "### Membaca Data Url Berita"
   ]
  },
  {
   "cell_type": "code",
   "execution_count": 43,
   "metadata": {
    "colab": {
     "base_uri": "https://localhost:8080/",
     "height": 217,
     "referenced_widgets": [
      "be2c2a371fd746f1a9c54d1f118a2390",
      "5886680b1a4d4c20adfff9f10b4eb80e",
      "f959c57f2f94471c9b5d800b644d69db",
      "50cf6eac6fc646a5ac2c856d5d6b8c93",
      "4d457ba32dc047fa94cfbcd12af7a7b5",
      "280f90cef3bf4a64855f7d5800d45307",
      "e0a7e6d3b9d743dbbc8939c2fa1a235d",
      "de6e0370fdb54e4f88a1b3b6f39ca276",
      "991f091932664e3e8fff4b579b0adb71",
      "99c7711a32504f1280c53abfd6b839c5",
      "ccdfe10894894e65802e9958e40dffb0"
     ]
    },
    "executionInfo": {
     "elapsed": 83900,
     "status": "ok",
     "timestamp": 1758707883851,
     "user": {
      "displayName": "Monitoring Berita",
      "userId": "16755502473357078001"
     },
     "user_tz": -420
    },
    "id": "rohdMRa1RS6_",
    "outputId": "e272c907-6209-4a93-9fff-a1545c702b64"
   },
   "outputs": [
    {
     "name": "stderr",
     "output_type": "stream",
     "text": [
      "08:56:05 | INFO | Total URL untuk diproses: 414 (limit=None)\n"
     ]
    },
    {
     "data": {
      "application/vnd.jupyter.widget-view+json": {
       "model_id": "b839e422f0cf40a09135be1d25629fd0",
       "version_major": 2,
       "version_minor": 0
      },
      "text/plain": [
       "Scraping artikel:   0%|          | 0/414 [00:00<?, ?it/s]"
      ]
     },
     "metadata": {},
     "output_type": "display_data"
    },
    {
     "name": "stderr",
     "output_type": "stream",
     "text": [
      "08:56:53 | WARNING | Attempt 1 failed for https://ekonomi.espos.id/properti-jadi-salah-satu-penopang-purbaya-yakin-ekonomi-tumbuh-55-persen-2147001: HTTPSConnectionPool(host='ekonomi.espos.id', port=443): Max retries exceeded with url: /properti-jadi-salah-satu-penopang-purbaya-yakin-ekonomi-tumbuh-55-persen-2147001 (Caused by SSLError(SSLError(1, '[SSL: SSLV3_ALERT_HANDSHAKE_FAILURE] sslv3 alert handshake failure (_ssl.c:1000)')))\n",
      "08:56:54 | WARNING | Attempt 2 failed for https://ekonomi.espos.id/properti-jadi-salah-satu-penopang-purbaya-yakin-ekonomi-tumbuh-55-persen-2147001: HTTPSConnectionPool(host='ekonomi.espos.id', port=443): Max retries exceeded with url: /properti-jadi-salah-satu-penopang-purbaya-yakin-ekonomi-tumbuh-55-persen-2147001 (Caused by SSLError(SSLError(1, '[SSL: SSLV3_ALERT_HANDSHAKE_FAILURE] sslv3 alert handshake failure (_ssl.c:1000)')))\n",
      "08:56:54 | ERROR | Failed to fetch https://ekonomi.espos.id/properti-jadi-salah-satu-penopang-purbaya-yakin-ekonomi-tumbuh-55-persen-2147001: HTTPSConnectionPool(host='ekonomi.espos.id', port=443): Max retries exceeded with url: /properti-jadi-salah-satu-penopang-purbaya-yakin-ekonomi-tumbuh-55-persen-2147001 (Caused by SSLError(SSLError(1, '[SSL: SSLV3_ALERT_HANDSHAKE_FAILURE] sslv3 alert handshake failure (_ssl.c:1000)')))\n",
      "08:57:02 | WARNING | Attempt 1 failed for https://fahum.umsu.ac.id/info/bansos-subsidi-2026-dapat-kucuran-rp900-t-ini-kata-purbaya/: HTTPSConnectionPool(host='fahum.umsu.ac.id', port=443): Read timed out. (read timeout=8)\n",
      "08:57:05 | WARNING | Attempt 2 failed for https://fahum.umsu.ac.id/info/bansos-subsidi-2026-dapat-kucuran-rp900-t-ini-kata-purbaya/: HTTPSConnectionPool(host='fahum.umsu.ac.id', port=443): Read timed out. (read timeout=2)\n",
      "08:57:05 | ERROR | Failed to fetch https://fahum.umsu.ac.id/info/bansos-subsidi-2026-dapat-kucuran-rp900-t-ini-kata-purbaya/: HTTPSConnectionPool(host='fahum.umsu.ac.id', port=443): Read timed out. (read timeout=2)\n",
      "08:58:17 | INFO | \n",
      "Summary status:\n",
      "status\n",
      "ok_site_specific    226\n",
      "ok_trafilatura      186\n",
      "fetch_failed          1\n",
      "timeout_fetch         1\n",
      "Name: count, dtype: int64\n",
      "08:58:17 | INFO | Timeout sample rows: 1\n",
      "08:58:17 | INFO | Tersimpan: /Users/yusufpradana/Library/CloudStorage/OneDrive-Personal/Pekerjaan BMN/05. 2025/98_monitoring_berita/monitoring-berita/hasil_baca_berita/hasil_scraping_artikel_20251001_085817.csv\n",
      "08:58:17 | INFO | Berhasil update config.json di /Users/yusufpradana/Library/CloudStorage/OneDrive-Personal/Pekerjaan BMN/05. 2025/98_monitoring_berita/monitoring-berita/config.json\n"
     ]
    }
   ],
   "source": [
    "file_loc = os.path.join(cwd, '02_baca_link_berita.ipynb')\n",
    "\n",
    "%run \"$file_loc\""
   ]
  },
  {
   "cell_type": "markdown",
   "metadata": {
    "id": "btzQFyReOzDh"
   },
   "source": [
    "## LABELLING ISU\n"
   ]
  },
  {
   "cell_type": "code",
   "execution_count": 44,
   "metadata": {
    "colab": {
     "base_uri": "https://localhost:8080/",
     "height": 156
    },
    "executionInfo": {
     "elapsed": 2381,
     "status": "ok",
     "timestamp": 1758707993749,
     "user": {
      "displayName": "Monitoring Berita",
      "userId": "16755502473357078001"
     },
     "user_tz": -420
    },
    "id": "wqL0C4I8O4D1",
    "outputId": "451c15a5-951e-4a1d-e142-4d8750dba9e4"
   },
   "outputs": [
    {
     "name": "stdout",
     "output_type": "stream",
     "text": [
      "Normalisasi tanggal_berita: total=414, sukses=378, gagal=36 (8.7%)\n",
      "Filter tanggal: 2025-10-01 s.d 2025-10-01 (dari 378 -> 102)\n",
      "Labeling selesai. Jumlah baris: 102\n"
     ]
    },
    {
     "data": {
      "text/html": [
       "<div>\n",
       "<style scoped>\n",
       "    .dataframe tbody tr th:only-of-type {\n",
       "        vertical-align: middle;\n",
       "    }\n",
       "\n",
       "    .dataframe tbody tr th {\n",
       "        vertical-align: top;\n",
       "    }\n",
       "\n",
       "    .dataframe thead th {\n",
       "        text-align: right;\n",
       "    }\n",
       "</style>\n",
       "<table border=\"1\" class=\"dataframe\">\n",
       "  <thead>\n",
       "    <tr style=\"text-align: right;\">\n",
       "      <th></th>\n",
       "      <th>kategori_isu</th>\n",
       "      <th>jumlah</th>\n",
       "    </tr>\n",
       "  </thead>\n",
       "  <tbody>\n",
       "    <tr>\n",
       "      <th>0</th>\n",
       "      <td>Isu Internasional</td>\n",
       "      <td>26</td>\n",
       "    </tr>\n",
       "    <tr>\n",
       "      <th>1</th>\n",
       "      <td>Isu Lainnya</td>\n",
       "      <td>26</td>\n",
       "    </tr>\n",
       "    <tr>\n",
       "      <th>2</th>\n",
       "      <td>Isu Kemenkeu</td>\n",
       "      <td>26</td>\n",
       "    </tr>\n",
       "    <tr>\n",
       "      <th>3</th>\n",
       "      <td>Isu Nasional</td>\n",
       "      <td>24</td>\n",
       "    </tr>\n",
       "  </tbody>\n",
       "</table>\n",
       "</div>"
      ],
      "text/plain": [
       "        kategori_isu  jumlah\n",
       "0  Isu Internasional      26\n",
       "1        Isu Lainnya      26\n",
       "2       Isu Kemenkeu      26\n",
       "3       Isu Nasional      24"
      ]
     },
     "metadata": {},
     "output_type": "display_data"
    },
    {
     "name": "stdout",
     "output_type": "stream",
     "text": [
      "Tersimpan: /Users/yusufpradana/Library/CloudStorage/OneDrive-Personal/Pekerjaan BMN/05. 2025/98_monitoring_berita/monitoring-berita/hasil_labeling/hasil_labeling_20251001_085818.csv & /Users/yusufpradana/Library/CloudStorage/OneDrive-Personal/Pekerjaan BMN/05. 2025/98_monitoring_berita/monitoring-berita/hasil_labeling/hasil_labeling_20251001_085818.xlsx\n",
      "Berhasil update config.json di /Users/yusufpradana/Library/CloudStorage/OneDrive-Personal/Pekerjaan BMN/05. 2025/98_monitoring_berita/monitoring-berita/config.json\n"
     ]
    }
   ],
   "source": [
    "file_loc = os.path.join(cwd, '03_labelling_awal.ipynb')\n",
    "\n",
    "%run \"$file_loc\""
   ]
  },
  {
   "cell_type": "markdown",
   "metadata": {
    "id": "Yh3Y5kSakfqt"
   },
   "source": [
    "## ANALISIS DENGAN GEN AI"
   ]
  },
  {
   "cell_type": "markdown",
   "metadata": {},
   "source": [
    "### Analisis Berita Kemenkeu, Internasional, dan Nasional"
   ]
  },
  {
   "cell_type": "code",
   "execution_count": 45,
   "metadata": {
    "id": "hFf-5-oyke-c"
   },
   "outputs": [
    {
     "name": "stdout",
     "output_type": "stream",
     "text": [
      "API keys - Deepseek: OK | OpenAI: OK\n",
      "Provider yang dipakai: deepseek\n"
     ]
    },
    {
     "data": {
      "application/vnd.jupyter.widget-view+json": {
       "model_id": "ce16ca39e571404d8cc1889822b07201",
       "version_major": 2,
       "version_minor": 0
      },
      "text/plain": [
       "Analisis berita (parallel deepseek):   0%|          | 0/76 [00:00<?, ?berita/s]"
      ]
     },
     "metadata": {},
     "output_type": "display_data"
    },
    {
     "name": "stderr",
     "output_type": "stream",
     "text": [
      "08:59:16 | WARNING | Attempt 1 provider=deepseek gagal: Tidak ditemukan blok JSON dalam respons.\n",
      "08:59:25 | WARNING | Attempt 1 provider=deepseek gagal: Tidak ditemukan blok JSON dalam respons.\n",
      "08:59:44 | WARNING | Attempt 2 provider=deepseek gagal: Tidak ditemukan blok JSON dalam respons.\n",
      "08:59:59 | WARNING | Attempt 1 provider=deepseek gagal: Tidak ditemukan blok JSON dalam respons.\n",
      "09:00:03 | WARNING | Attempt 3 provider=deepseek gagal: Tidak ditemukan blok JSON dalam respons.\n",
      "09:00:18 | WARNING | Attempt 2 provider=deepseek gagal: Tidak ditemukan blok JSON dalam respons.\n",
      "09:00:38 | WARNING | Attempt 3 provider=deepseek gagal: Tidak ditemukan blok JSON dalam respons.\n",
      "09:00:45 | INFO | Berhasil update config.json di config.json\n"
     ]
    },
    {
     "name": "stdout",
     "output_type": "stream",
     "text": [
      "Pipeline selesai. Hasil disimpan di 00_hasil_analisis/seluruh_berita/analisis_ai_20251001_deepseek_default.csv\n",
      "Monitoring sementara: {'execution_datetime': '2025-10-01 09:00:45', 'provider': 'deepseek', 'model_name': 'deepseek-chat', 'elapsed_seconds': 146.03, 'output_file': '00_hasil_analisis/seluruh_berita/analisis_ai_20251001_deepseek_default.csv', 'n_rows_result_df': 76}\n",
      "Monitoring log ditulis/ditambahkan ke monitoring_log_genai.csv\n",
      "    execution_datetime  provider     model_name  elapsed_seconds  \\\n",
      "0  2025-10-01 09:00:45  deepseek  deepseek-chat           146.03   \n",
      "\n",
      "                                                                  output_file  \\\n",
      "0  00_hasil_analisis/seluruh_berita/analisis_ai_20251001_deepseek_default.csv   \n",
      "\n",
      "   n_rows_in_memory  n_rows_output_file  \n",
      "0                76                  76  \n"
     ]
    }
   ],
   "source": [
    "file_loc = os.path.join(cwd, '04_analisis_dengan_genAI.ipynb')\n",
    "\n",
    "%run \"$file_loc\""
   ]
  },
  {
   "cell_type": "markdown",
   "metadata": {},
   "source": [
    "### Analisis Berita Penting"
   ]
  },
  {
   "cell_type": "code",
   "execution_count": 46,
   "metadata": {},
   "outputs": [
    {
     "name": "stderr",
     "output_type": "stream",
     "text": [
      "09:00:45 | INFO | ✅ AI Configuration loaded: DEEPSEEK\n",
      "09:00:45 | INFO |    Model: deepseek-chat\n",
      "09:00:45 | INFO |    Temperature: 0.2\n",
      "09:00:45 | INFO |    Max Tokens: 500\n"
     ]
    },
    {
     "name": "stdout",
     "output_type": "stream",
     "text": [
      "=== KONFIGURASI AI MODEL ===\n"
     ]
    },
    {
     "name": "stderr",
     "output_type": "stream",
     "text": [
      "09:00:50 | INFO | Retrying request to /chat/completions in 0.421683 seconds\n",
      "09:00:51 | INFO | HTTP Request: POST https://api.deepseek.com/v1/chat/completions \"HTTP/1.1 200 OK\"\n",
      "09:00:52 | INFO | ✅ DEEPSEEK API connection successful\n",
      "09:00:52 | INFO | HTTP Request: POST https://api.deepseek.com/v1/chat/completions \"HTTP/1.1 200 OK\"\n"
     ]
    },
    {
     "name": "stdout",
     "output_type": "stream",
     "text": [
      "🎯 AI Model: DEEPSEEK (deepseek-chat)\n",
      "🔧 Temperature: 0.2\n",
      "📝 Max Tokens: 500\n",
      "🔑 API Key: ********************...8d74\n",
      "\n",
      "🧪 Testing AI connection...\n"
     ]
    },
    {
     "name": "stderr",
     "output_type": "stream",
     "text": [
      "09:00:54 | INFO | Membaca file analisis AI: 00_hasil_analisis/seluruh_berita/analisis_ai_20251001_deepseek_default.csv\n",
      "09:00:54 | INFO | Total berita: 76\n",
      "09:00:54 | INFO | Berita penting (filtered): 23\n"
     ]
    },
    {
     "name": "stdout",
     "output_type": "stream",
     "text": [
      "✅ Test Response: AI Ready!\n",
      "\n",
      "✅ AI configuration completed successfully!\n",
      "💡 Gunakan CALL_AI_MODEL(prompt) untuk memanggil AI di sel lain.\n",
      "\n",
      "📋 Environment Variables yang diset:\n",
      "   MODEL_ANALISIS = deepseek\n",
      "   AI_MODEL_NAME = deepseek-chat\n",
      "   DUMMY_MODE = 0\n",
      "Berhasil memuat 23 berita penting\n",
      "\n",
      "Sample berita penting:\n",
      "                                                                                     judul_berita  \\\n",
      "4      Cukai Rokok 2026 Tidak Naik, Ekonom: Purbaya Benar, Ini Angin Segar!News23 menit yang lalu   \n",
      "50            Purbaya Ancam Ganti Dirjen Jika Masalah Kompensasi Tak Kelar Sebulan - detikFinance   \n",
      "63                                     Diam-Diam Prabowo Pantau Kinerja Menkeu Purbaya via Medsos   \n",
      "62  Kritik Menkeu Purbaya, Pertamina Gagal Realisasikan Kilang Baru Setelah 7 TahunPROV01/10/2025   \n",
      "61                               Purbaya Cap Pertamina Malas-malasan Bangun KilangMONEY01/10/2025   \n",
      "\n",
      "   topik_llm  importance sentimen  \n",
      "4   Kemenkeu        85.0  positif  \n",
      "50  Kemenkeu        85.0  negatif  \n",
      "63  Kemenkeu        85.0  positif  \n",
      "62  Kemenkeu        85.0  negatif  \n",
      "61  Kemenkeu        85.0  negatif  \n",
      "Kolom teks: artikel_berita_bersih, Kolom judul: judul_berita\n",
      "AI Model: DEEPSEEK (deepseek-chat)\n",
      "✅ Using pre-configured DEEPSEEK client\n",
      "Starting analysis of 23 articles using DEEPSEEK...\n"
     ]
    },
    {
     "name": "stderr",
     "output_type": "stream",
     "text": [
      "  0%|          | 0/23 [00:00<?, ?it/s]09:00:54 | INFO | HTTP Request: POST https://api.deepseek.com/v1/chat/completions \"HTTP/1.1 200 OK\"\n",
      "09:00:54 | INFO | HTTP Request: POST https://api.deepseek.com/v1/chat/completions \"HTTP/1.1 200 OK\"\n",
      "09:00:55 | INFO | HTTP Request: POST https://api.deepseek.com/v1/chat/completions \"HTTP/1.1 200 OK\"\n",
      "  4%|▍         | 1/23 [00:08<03:14,  8.83s/it]09:01:03 | INFO | HTTP Request: POST https://api.deepseek.com/v1/chat/completions \"HTTP/1.1 200 OK\"\n",
      "  9%|▊         | 2/23 [00:09<01:29,  4.27s/it]09:01:04 | INFO | HTTP Request: POST https://api.deepseek.com/v1/chat/completions \"HTTP/1.1 200 OK\"\n",
      " 17%|█▋        | 4/23 [00:16<01:15,  3.96s/it]09:01:11 | INFO | HTTP Request: POST https://api.deepseek.com/v1/chat/completions \"HTTP/1.1 200 OK\"\n",
      " 22%|██▏       | 5/23 [00:18<00:57,  3.18s/it]09:01:13 | INFO | HTTP Request: POST https://api.deepseek.com/v1/chat/completions \"HTTP/1.1 200 OK\"\n",
      " 26%|██▌       | 6/23 [00:25<01:17,  4.57s/it]09:01:20 | INFO | HTTP Request: POST https://api.deepseek.com/v1/chat/completions \"HTTP/1.1 200 OK\"\n",
      " 30%|███       | 7/23 [00:26<00:50,  3.16s/it]09:01:20 | INFO | HTTP Request: POST https://api.deepseek.com/v1/chat/completions \"HTTP/1.1 200 OK\"\n",
      "09:01:22 | INFO | HTTP Request: POST https://api.deepseek.com/v1/chat/completions \"HTTP/1.1 200 OK\"\n",
      " 43%|████▎     | 10/23 [00:35<00:33,  2.61s/it]09:01:30 | INFO | HTTP Request: POST https://api.deepseek.com/v1/chat/completions \"HTTP/1.1 200 OK\"\n",
      "09:01:30 | INFO | HTTP Request: POST https://api.deepseek.com/v1/chat/completions \"HTTP/1.1 200 OK\"\n",
      "09:01:30 | INFO | HTTP Request: POST https://api.deepseek.com/v1/chat/completions \"HTTP/1.1 200 OK\"\n",
      " 48%|████▊     | 11/23 [00:43<00:50,  4.22s/it]09:01:37 | INFO | HTTP Request: POST https://api.deepseek.com/v1/chat/completions \"HTTP/1.1 200 OK\"\n",
      " 57%|█████▋    | 13/23 [00:45<00:23,  2.39s/it]09:01:39 | INFO | HTTP Request: POST https://api.deepseek.com/v1/chat/completions \"HTTP/1.1 200 OK\"\n",
      "09:01:39 | INFO | HTTP Request: POST https://api.deepseek.com/v1/chat/completions \"HTTP/1.1 200 OK\"\n",
      " 61%|██████    | 14/23 [00:51<00:33,  3.71s/it]09:01:46 | INFO | HTTP Request: POST https://api.deepseek.com/v1/chat/completions \"HTTP/1.1 200 OK\"\n",
      " 65%|██████▌   | 15/23 [00:53<00:24,  3.05s/it]09:01:47 | INFO | HTTP Request: POST https://api.deepseek.com/v1/chat/completions \"HTTP/1.1 200 OK\"\n",
      " 70%|██████▉   | 16/23 [00:55<00:19,  2.73s/it]09:01:50 | INFO | HTTP Request: POST https://api.deepseek.com/v1/chat/completions \"HTTP/1.1 200 OK\"\n",
      " 74%|███████▍  | 17/23 [00:59<00:18,  3.10s/it]09:01:53 | INFO | HTTP Request: POST https://api.deepseek.com/v1/chat/completions \"HTTP/1.1 200 OK\"\n",
      " 78%|███████▊  | 18/23 [01:01<00:14,  2.91s/it]09:01:56 | INFO | HTTP Request: POST https://api.deepseek.com/v1/chat/completions \"HTTP/1.1 200 OK\"\n",
      " 83%|████████▎ | 19/23 [01:04<00:11,  2.79s/it]09:01:59 | INFO | HTTP Request: POST https://api.deepseek.com/v1/chat/completions \"HTTP/1.1 200 OK\"\n",
      " 87%|████████▋ | 20/23 [01:08<00:09,  3.11s/it]09:02:02 | INFO | HTTP Request: POST https://api.deepseek.com/v1/chat/completions \"HTTP/1.1 200 OK\"\n",
      "100%|██████████| 23/23 [01:18<00:00,  3.40s/it]\n",
      "09:02:12 | INFO | HTTP Request: POST https://api.deepseek.com/v1/chat/completions \"HTTP/1.1 200 OK\"\n"
     ]
    },
    {
     "name": "stdout",
     "output_type": "stream",
     "text": [
      "Analysis complete: 23 articles in 78.3s\n",
      "Success: 23, Errors: 0\n",
      "AI Provider: DEEPSEEK\n",
      "\n",
      "Sample results (showing 3):\n",
      "1. Cukai Rokok 2026 Tidak Naik, Ekonom: Purbaya Benar, Ini Angi...\n",
      "   Resume: Ekonom INDEF Tauhid Ahmad mendukung kebijakan Menteri Keuangan Purbaya...\n",
      "   Dampak: Positif\n",
      "2. Purbaya Ancam Ganti Dirjen Jika Masalah Kompensasi Tak Kelar...\n",
      "   Resume: Menteri Keuangan Purbaya Yudhi Sadewa mengancam akan mengganti Dirjen ...\n",
      "   Dampak: Negatif\n",
      "3. Diam-Diam Prabowo Pantau Kinerja Menkeu Purbaya via Medsos...\n",
      "   Resume: Menteri Keuangan Purbaya Yudhi Sadewa mengungkapkan bahwa Presiden Pra...\n",
      "   Dampak: Positif\n",
      "\n",
      "File saved: 00_hasil_analisis/berita_penting/analisis_berita_penting_deepseek_20251001_090212.csv\n",
      "=== GENERATOR DAFTAR BERITA & KONTEN ===\n",
      "📊 Data tersedia: 23 berita\n",
      "Memproses 23 berita yang berhasil dianalisis...\n",
      "✅ Laporan disimpan di 00_laporan_cetak/daftar_berita_20251001_090212.txt\n",
      "📄 Total baris: 75\n",
      "\n",
      "📋 Preview laporan:\n",
      "------------------------------------------------------------\n",
      "Daftar Berita & Konten\n",
      "Rabu, 1 Oktober 2025\n",
      "Periode pantauan tanggal 30-1 September 2025 (pukul 14.00 s.d. 06.00 WIB)\n",
      "\n",
      "Media Online\n",
      "===========\n",
      "\n",
      "🟢 Cukai Rokok 2026 Tidak Naik, Ekonom: Purbaya Benar, Ini Angin Segar!News23 menit yang lalu\n",
      "https://www.cnbcindonesia.com/news/20251001072528-4-671724/cukai-rokok-2026-tidak-naik-ekonom-purbaya-benar-ini-angin-segar\n",
      "\n",
      "🟢 Satpol PP Bantul Amankan 43.160 Batang Rokok Ilegal - Harianjogja.com\n",
      "https://jogjapolitan.harianjogja.com/read/2025/10/01/511/1230104/satpol-pp-bantul-amankan-43160-batang-rokok-ilegal\n",
      "...\n",
      "[63 baris lainnya]\n",
      "------------------------------------------------------------\n",
      "\n",
      "🎯 Selesai! File tersedia di folder: 00_laporan_cetak/\n",
      "✅ Using DEEPSEEK for headline generation\n",
      "=== GENERATOR NEWS UPDATE ===\n",
      "📊 Data tersedia: 23 berita\n",
      "\n",
      "📝 Gabungan resume (6562 karakter):\n",
      "Preview: Ekonom INDEF Tauhid Ahmad mendukung kebijakan Menteri Keuangan Purbaya yang tidak menaikkan cukai rokok 2026. Kebijakan ini dianggap angin segar bagi industri rokok karena menjaga empat dimensi: pener...\n"
     ]
    },
    {
     "name": "stderr",
     "output_type": "stream",
     "text": [
      "09:02:22 | INFO | HTTP Request: POST https://api.deepseek.com/v1/chat/completions \"HTTP/1.1 200 OK\"\n"
     ]
    },
    {
     "name": "stdout",
     "output_type": "stream",
     "text": [
      "\n",
      "✅ News Update disimpan di: 00_laporan_cetak/news_update_general_20251001_090222.txt\n",
      "📄 Total baris: 32\n",
      "\n",
      "📋 Preview News Update:\n",
      "------------------------------------------------------------\n",
      "News Update\n",
      "Kebijakan Cukai Tembakau\n",
      "Jakarta, Rabu, 1 Oktober 2025 (Pukul 09.00 WIB)\n",
      "\n",
      "Pemberitaan terkait kebijakan cukai tembakau hari ini tercatat terdapat 23 berita (23 netral) di media online.\n",
      "\n",
      "Sorotan Media Online\n",
      "• Menkeu Purbaya tegaskan tidak akan naikkan cukai rokok 2026 untuk jaga industri dan cegah rokok ilegal.\n",
      "• Menkeu beri ultimatum satu bulan untuk selesaikan pembayaran kompensasi energi BUMN atau ganti Dirjen Anggaran.\n",
      "• Presiden Prabowo pantau kinerja Menkeu Purbaya via TikTok dan berikan apresiasi atas kebijakan Kemenkeu.\n",
      "• Menkeu kritik keras Pertamina gagal bangun 7 kilang baru, sebabkan ketergantungan impor dan beban subsidi.\n",
      "• Menkeu sindir Pertamina dianggap malas realisasikan pembangunan kilang yang telah dijanjikan sejak 2018.\n",
      "• Gaya kepemimpinan unik Menkeu Purbaya jadi sorotan dalam menghadapi tantangan fiskal yang kompleks.\n",
      "• Menkeu tanggapi santai kritik pengiriman bunga terkait kebijakan cukai, tekankan pentingnya edukasi konsumen.\n",
      "\n",
      "...\n",
      "[17 baris lainnya]\n",
      "------------------------------------------------------------\n",
      "\n",
      "🎯 Selesai! File tersedia di: 00_laporan_cetak/\n",
      "✅ Using DEEPSEEK for topic analysis\n",
      "=== GENERATOR LAPORAN ANALISIS MEDIA (FIXED VERSION) ===\n",
      "📊 Data tersedia: 23 berita\n",
      "📋 Topic keywords dari config: ['rokok ilegal', 'makan bergizi gratis', 'tax amnesty', 'sidak BNI', 'lainnya']\n",
      "🏷️  Berita dikelompokkan dalam 1 topik:\n",
      "   - rokok ilegal: 6 berita\n",
      "\n",
      "✅ Laporan Analisis Media disimpan di: 00_laporan_cetak/laporan_analisis_media_20251001_090230.txt\n",
      "📄 Total baris: 49\n",
      "\n",
      "📋 Preview Laporan Analisis Media:\n",
      "----------------------------------------------------------------------\n",
      "===== Page 1 =====\n",
      "\n",
      "**Laporan Analisis Media Online dan Media Sosial**\n",
      "Rabu, 1 Oktober 2025\n",
      "\n",
      "**EXECUTIVE SUMMARY**\n",
      "==================================================\n",
      "Periode pemantauan media online menunjukkan 23 berita penting yang berhasil dianalisis.\n",
      "Dari jumlah tersebut, 6 berita sesuai dengan topik yang dipantau: rokok ilegal.\n",
      "Fokus pemerintah terutama pada transparansi dan pengawasan sektor keuangan.\n",
      "Pernyataan dan kebijakan penting dari pejabat terkait terus dipantau secara intensif.\n",
      "\n",
      "**MEDIA ONLINE**\n",
      "\n",
      "**Topik Berita:** rokok ilegal\n",
      "**Tonasi Berita:** positif\n",
      "\n",
      "**Pesan Kunci dan Analisis:**\n",
      "\n",
      "**ISU KEMENKEU**\n",
      "...\n",
      "[29 baris lainnya]\n",
      "----------------------------------------------------------------------\n",
      "\n",
      "🎯 Selesai! File tersedia di: 00_laporan_cetak/\n"
     ]
    }
   ],
   "source": [
    "file_loc = os.path.join(cwd, '05_analisis_berita_penting copy.ipynb')\n",
    "\n",
    "%run \"$file_loc\""
   ]
  },
  {
   "cell_type": "markdown",
   "metadata": {},
   "source": [
    "# REKAP"
   ]
  },
  {
   "cell_type": "code",
   "execution_count": 47,
   "metadata": {},
   "outputs": [
    {
     "name": "stdout",
     "output_type": "stream",
     "text": [
      "Waktu proses: 9 menit 9 detik\n"
     ]
    }
   ],
   "source": [
    "# Tandai waktu selesai proses\n",
    "end_process_time = time.time()\n",
    "elapsed_time = end_process_time - start_process_time\n",
    "# jadikan menit & detik\n",
    "elapsed_minutes = int(elapsed_time // 60)\n",
    "elapsed_seconds = int(elapsed_time % 60)\n",
    "print(f\"Waktu proses: {elapsed_minutes} menit {elapsed_seconds} detik\")"
   ]
  }
 ],
 "metadata": {
  "colab": {
   "authorship_tag": "ABX9TyO7Du9kdtb2tYY9zmRcptUW",
   "collapsed_sections": [
    "nl15yqDXsRcB",
    "PgAoP36AsoBi",
    "zLAsNrRLtTwy",
    "btzQFyReOzDh"
   ],
   "mount_file_id": "1huIq8bthX6wwOLYeaNI1vyJesWYn8LGS",
   "provenance": []
  },
  "kernelspec": {
   "display_name": "base",
   "language": "python",
   "name": "python3"
  },
  "language_info": {
   "codemirror_mode": {
    "name": "ipython",
    "version": 3
   },
   "file_extension": ".py",
   "mimetype": "text/x-python",
   "name": "python",
   "nbconvert_exporter": "python",
   "pygments_lexer": "ipython3",
   "version": "3.12.7"
  },
  "widgets": {
   "application/vnd.jupyter.widget-state+json": {
    "0229bd90bd3d46b59c025a905c5b9ce2": {
     "model_module": "@jupyter-widgets/controls",
     "model_module_version": "1.5.0",
     "model_name": "HTMLModel",
     "state": {
      "_dom_classes": [],
      "_model_module": "@jupyter-widgets/controls",
      "_model_module_version": "1.5.0",
      "_model_name": "HTMLModel",
      "_view_count": null,
      "_view_module": "@jupyter-widgets/controls",
      "_view_module_version": "1.5.0",
      "_view_name": "HTMLView",
      "description": "",
      "description_tooltip": null,
      "layout": "IPY_MODEL_498f085853c24829affb231886434e6e",
      "placeholder": "​",
      "style": "IPY_MODEL_9d8f96ed7e8244ee9e50652f262e08e2",
      "value": " 13/13 [00:01&lt;00:00,  5.53file/s]"
     }
    },
    "03e742985f574beaa5d0606d9015fadb": {
     "model_module": "@jupyter-widgets/controls",
     "model_module_version": "1.5.0",
     "model_name": "HBoxModel",
     "state": {
      "_dom_classes": [],
      "_model_module": "@jupyter-widgets/controls",
      "_model_module_version": "1.5.0",
      "_model_name": "HBoxModel",
      "_view_count": null,
      "_view_module": "@jupyter-widgets/controls",
      "_view_module_version": "1.5.0",
      "_view_name": "HBoxView",
      "box_style": "",
      "children": [
       "IPY_MODEL_1944dc8d32c74470aa729da06d606f7c",
       "IPY_MODEL_efc062bd85a4423ba661c822648e9a11",
       "IPY_MODEL_0229bd90bd3d46b59c025a905c5b9ce2"
      ],
      "layout": "IPY_MODEL_f1016778e6bc4555ba99c034304e0c64"
     }
    },
    "1944dc8d32c74470aa729da06d606f7c": {
     "model_module": "@jupyter-widgets/controls",
     "model_module_version": "1.5.0",
     "model_name": "HTMLModel",
     "state": {
      "_dom_classes": [],
      "_model_module": "@jupyter-widgets/controls",
      "_model_module_version": "1.5.0",
      "_model_name": "HTMLModel",
      "_view_count": null,
      "_view_module": "@jupyter-widgets/controls",
      "_view_module_version": "1.5.0",
      "_view_name": "HTMLView",
      "description": "",
      "description_tooltip": null,
      "layout": "IPY_MODEL_81450a4bf4bf4353bc4794a2537493ec",
      "placeholder": "​",
      "style": "IPY_MODEL_929fe39a058f4edfa29150abe40f1feb",
      "value": "Membaca Excel: 100%"
     }
    },
    "280f90cef3bf4a64855f7d5800d45307": {
     "model_module": "@jupyter-widgets/base",
     "model_module_version": "1.2.0",
     "model_name": "LayoutModel",
     "state": {
      "_model_module": "@jupyter-widgets/base",
      "_model_module_version": "1.2.0",
      "_model_name": "LayoutModel",
      "_view_count": null,
      "_view_module": "@jupyter-widgets/base",
      "_view_module_version": "1.2.0",
      "_view_name": "LayoutView",
      "align_content": null,
      "align_items": null,
      "align_self": null,
      "border": null,
      "bottom": null,
      "display": null,
      "flex": null,
      "flex_flow": null,
      "grid_area": null,
      "grid_auto_columns": null,
      "grid_auto_flow": null,
      "grid_auto_rows": null,
      "grid_column": null,
      "grid_gap": null,
      "grid_row": null,
      "grid_template_areas": null,
      "grid_template_columns": null,
      "grid_template_rows": null,
      "height": null,
      "justify_content": null,
      "justify_items": null,
      "left": null,
      "margin": null,
      "max_height": null,
      "max_width": null,
      "min_height": null,
      "min_width": null,
      "object_fit": null,
      "object_position": null,
      "order": null,
      "overflow": null,
      "overflow_x": null,
      "overflow_y": null,
      "padding": null,
      "right": null,
      "top": null,
      "visibility": null,
      "width": null
     }
    },
    "498f085853c24829affb231886434e6e": {
     "model_module": "@jupyter-widgets/base",
     "model_module_version": "1.2.0",
     "model_name": "LayoutModel",
     "state": {
      "_model_module": "@jupyter-widgets/base",
      "_model_module_version": "1.2.0",
      "_model_name": "LayoutModel",
      "_view_count": null,
      "_view_module": "@jupyter-widgets/base",
      "_view_module_version": "1.2.0",
      "_view_name": "LayoutView",
      "align_content": null,
      "align_items": null,
      "align_self": null,
      "border": null,
      "bottom": null,
      "display": null,
      "flex": null,
      "flex_flow": null,
      "grid_area": null,
      "grid_auto_columns": null,
      "grid_auto_flow": null,
      "grid_auto_rows": null,
      "grid_column": null,
      "grid_gap": null,
      "grid_row": null,
      "grid_template_areas": null,
      "grid_template_columns": null,
      "grid_template_rows": null,
      "height": null,
      "justify_content": null,
      "justify_items": null,
      "left": null,
      "margin": null,
      "max_height": null,
      "max_width": null,
      "min_height": null,
      "min_width": null,
      "object_fit": null,
      "object_position": null,
      "order": null,
      "overflow": null,
      "overflow_x": null,
      "overflow_y": null,
      "padding": null,
      "right": null,
      "top": null,
      "visibility": null,
      "width": null
     }
    },
    "4d457ba32dc047fa94cfbcd12af7a7b5": {
     "model_module": "@jupyter-widgets/base",
     "model_module_version": "1.2.0",
     "model_name": "LayoutModel",
     "state": {
      "_model_module": "@jupyter-widgets/base",
      "_model_module_version": "1.2.0",
      "_model_name": "LayoutModel",
      "_view_count": null,
      "_view_module": "@jupyter-widgets/base",
      "_view_module_version": "1.2.0",
      "_view_name": "LayoutView",
      "align_content": null,
      "align_items": null,
      "align_self": null,
      "border": null,
      "bottom": null,
      "display": null,
      "flex": null,
      "flex_flow": null,
      "grid_area": null,
      "grid_auto_columns": null,
      "grid_auto_flow": null,
      "grid_auto_rows": null,
      "grid_column": null,
      "grid_gap": null,
      "grid_row": null,
      "grid_template_areas": null,
      "grid_template_columns": null,
      "grid_template_rows": null,
      "height": null,
      "justify_content": null,
      "justify_items": null,
      "left": null,
      "margin": null,
      "max_height": null,
      "max_width": null,
      "min_height": null,
      "min_width": null,
      "object_fit": null,
      "object_position": null,
      "order": null,
      "overflow": null,
      "overflow_x": null,
      "overflow_y": null,
      "padding": null,
      "right": null,
      "top": null,
      "visibility": null,
      "width": null
     }
    },
    "50cf6eac6fc646a5ac2c856d5d6b8c93": {
     "model_module": "@jupyter-widgets/controls",
     "model_module_version": "1.5.0",
     "model_name": "HTMLModel",
     "state": {
      "_dom_classes": [],
      "_model_module": "@jupyter-widgets/controls",
      "_model_module_version": "1.5.0",
      "_model_name": "HTMLModel",
      "_view_count": null,
      "_view_module": "@jupyter-widgets/controls",
      "_view_module_version": "1.5.0",
      "_view_name": "HTMLView",
      "description": "",
      "description_tooltip": null,
      "layout": "IPY_MODEL_99c7711a32504f1280c53abfd6b839c5",
      "placeholder": "​",
      "style": "IPY_MODEL_ccdfe10894894e65802e9958e40dffb0",
      "value": " 100/100 [01:06&lt;00:00,  1.73it/s]"
     }
    },
    "5886680b1a4d4c20adfff9f10b4eb80e": {
     "model_module": "@jupyter-widgets/controls",
     "model_module_version": "1.5.0",
     "model_name": "HTMLModel",
     "state": {
      "_dom_classes": [],
      "_model_module": "@jupyter-widgets/controls",
      "_model_module_version": "1.5.0",
      "_model_name": "HTMLModel",
      "_view_count": null,
      "_view_module": "@jupyter-widgets/controls",
      "_view_module_version": "1.5.0",
      "_view_name": "HTMLView",
      "description": "",
      "description_tooltip": null,
      "layout": "IPY_MODEL_280f90cef3bf4a64855f7d5800d45307",
      "placeholder": "​",
      "style": "IPY_MODEL_e0a7e6d3b9d743dbbc8939c2fa1a235d",
      "value": "Scraping artikel: 100%"
     }
    },
    "659a9c31541049f0beaad3723ac434bb": {
     "model_module": "@jupyter-widgets/base",
     "model_module_version": "1.2.0",
     "model_name": "LayoutModel",
     "state": {
      "_model_module": "@jupyter-widgets/base",
      "_model_module_version": "1.2.0",
      "_model_name": "LayoutModel",
      "_view_count": null,
      "_view_module": "@jupyter-widgets/base",
      "_view_module_version": "1.2.0",
      "_view_name": "LayoutView",
      "align_content": null,
      "align_items": null,
      "align_self": null,
      "border": null,
      "bottom": null,
      "display": null,
      "flex": null,
      "flex_flow": null,
      "grid_area": null,
      "grid_auto_columns": null,
      "grid_auto_flow": null,
      "grid_auto_rows": null,
      "grid_column": null,
      "grid_gap": null,
      "grid_row": null,
      "grid_template_areas": null,
      "grid_template_columns": null,
      "grid_template_rows": null,
      "height": null,
      "justify_content": null,
      "justify_items": null,
      "left": null,
      "margin": null,
      "max_height": null,
      "max_width": null,
      "min_height": null,
      "min_width": null,
      "object_fit": null,
      "object_position": null,
      "order": null,
      "overflow": null,
      "overflow_x": null,
      "overflow_y": null,
      "padding": null,
      "right": null,
      "top": null,
      "visibility": null,
      "width": null
     }
    },
    "6b3a08831def4c67b608dfa7c2001e11": {
     "model_module": "@jupyter-widgets/controls",
     "model_module_version": "1.5.0",
     "model_name": "ProgressStyleModel",
     "state": {
      "_model_module": "@jupyter-widgets/controls",
      "_model_module_version": "1.5.0",
      "_model_name": "ProgressStyleModel",
      "_view_count": null,
      "_view_module": "@jupyter-widgets/base",
      "_view_module_version": "1.2.0",
      "_view_name": "StyleView",
      "bar_color": null,
      "description_width": ""
     }
    },
    "81450a4bf4bf4353bc4794a2537493ec": {
     "model_module": "@jupyter-widgets/base",
     "model_module_version": "1.2.0",
     "model_name": "LayoutModel",
     "state": {
      "_model_module": "@jupyter-widgets/base",
      "_model_module_version": "1.2.0",
      "_model_name": "LayoutModel",
      "_view_count": null,
      "_view_module": "@jupyter-widgets/base",
      "_view_module_version": "1.2.0",
      "_view_name": "LayoutView",
      "align_content": null,
      "align_items": null,
      "align_self": null,
      "border": null,
      "bottom": null,
      "display": null,
      "flex": null,
      "flex_flow": null,
      "grid_area": null,
      "grid_auto_columns": null,
      "grid_auto_flow": null,
      "grid_auto_rows": null,
      "grid_column": null,
      "grid_gap": null,
      "grid_row": null,
      "grid_template_areas": null,
      "grid_template_columns": null,
      "grid_template_rows": null,
      "height": null,
      "justify_content": null,
      "justify_items": null,
      "left": null,
      "margin": null,
      "max_height": null,
      "max_width": null,
      "min_height": null,
      "min_width": null,
      "object_fit": null,
      "object_position": null,
      "order": null,
      "overflow": null,
      "overflow_x": null,
      "overflow_y": null,
      "padding": null,
      "right": null,
      "top": null,
      "visibility": null,
      "width": null
     }
    },
    "929fe39a058f4edfa29150abe40f1feb": {
     "model_module": "@jupyter-widgets/controls",
     "model_module_version": "1.5.0",
     "model_name": "DescriptionStyleModel",
     "state": {
      "_model_module": "@jupyter-widgets/controls",
      "_model_module_version": "1.5.0",
      "_model_name": "DescriptionStyleModel",
      "_view_count": null,
      "_view_module": "@jupyter-widgets/base",
      "_view_module_version": "1.2.0",
      "_view_name": "StyleView",
      "description_width": ""
     }
    },
    "991f091932664e3e8fff4b579b0adb71": {
     "model_module": "@jupyter-widgets/controls",
     "model_module_version": "1.5.0",
     "model_name": "ProgressStyleModel",
     "state": {
      "_model_module": "@jupyter-widgets/controls",
      "_model_module_version": "1.5.0",
      "_model_name": "ProgressStyleModel",
      "_view_count": null,
      "_view_module": "@jupyter-widgets/base",
      "_view_module_version": "1.2.0",
      "_view_name": "StyleView",
      "bar_color": null,
      "description_width": ""
     }
    },
    "99c7711a32504f1280c53abfd6b839c5": {
     "model_module": "@jupyter-widgets/base",
     "model_module_version": "1.2.0",
     "model_name": "LayoutModel",
     "state": {
      "_model_module": "@jupyter-widgets/base",
      "_model_module_version": "1.2.0",
      "_model_name": "LayoutModel",
      "_view_count": null,
      "_view_module": "@jupyter-widgets/base",
      "_view_module_version": "1.2.0",
      "_view_name": "LayoutView",
      "align_content": null,
      "align_items": null,
      "align_self": null,
      "border": null,
      "bottom": null,
      "display": null,
      "flex": null,
      "flex_flow": null,
      "grid_area": null,
      "grid_auto_columns": null,
      "grid_auto_flow": null,
      "grid_auto_rows": null,
      "grid_column": null,
      "grid_gap": null,
      "grid_row": null,
      "grid_template_areas": null,
      "grid_template_columns": null,
      "grid_template_rows": null,
      "height": null,
      "justify_content": null,
      "justify_items": null,
      "left": null,
      "margin": null,
      "max_height": null,
      "max_width": null,
      "min_height": null,
      "min_width": null,
      "object_fit": null,
      "object_position": null,
      "order": null,
      "overflow": null,
      "overflow_x": null,
      "overflow_y": null,
      "padding": null,
      "right": null,
      "top": null,
      "visibility": null,
      "width": null
     }
    },
    "9d8f96ed7e8244ee9e50652f262e08e2": {
     "model_module": "@jupyter-widgets/controls",
     "model_module_version": "1.5.0",
     "model_name": "DescriptionStyleModel",
     "state": {
      "_model_module": "@jupyter-widgets/controls",
      "_model_module_version": "1.5.0",
      "_model_name": "DescriptionStyleModel",
      "_view_count": null,
      "_view_module": "@jupyter-widgets/base",
      "_view_module_version": "1.2.0",
      "_view_name": "StyleView",
      "description_width": ""
     }
    },
    "be2c2a371fd746f1a9c54d1f118a2390": {
     "model_module": "@jupyter-widgets/controls",
     "model_module_version": "1.5.0",
     "model_name": "HBoxModel",
     "state": {
      "_dom_classes": [],
      "_model_module": "@jupyter-widgets/controls",
      "_model_module_version": "1.5.0",
      "_model_name": "HBoxModel",
      "_view_count": null,
      "_view_module": "@jupyter-widgets/controls",
      "_view_module_version": "1.5.0",
      "_view_name": "HBoxView",
      "box_style": "",
      "children": [
       "IPY_MODEL_5886680b1a4d4c20adfff9f10b4eb80e",
       "IPY_MODEL_f959c57f2f94471c9b5d800b644d69db",
       "IPY_MODEL_50cf6eac6fc646a5ac2c856d5d6b8c93"
      ],
      "layout": "IPY_MODEL_4d457ba32dc047fa94cfbcd12af7a7b5"
     }
    },
    "ccdfe10894894e65802e9958e40dffb0": {
     "model_module": "@jupyter-widgets/controls",
     "model_module_version": "1.5.0",
     "model_name": "DescriptionStyleModel",
     "state": {
      "_model_module": "@jupyter-widgets/controls",
      "_model_module_version": "1.5.0",
      "_model_name": "DescriptionStyleModel",
      "_view_count": null,
      "_view_module": "@jupyter-widgets/base",
      "_view_module_version": "1.2.0",
      "_view_name": "StyleView",
      "description_width": ""
     }
    },
    "de6e0370fdb54e4f88a1b3b6f39ca276": {
     "model_module": "@jupyter-widgets/base",
     "model_module_version": "1.2.0",
     "model_name": "LayoutModel",
     "state": {
      "_model_module": "@jupyter-widgets/base",
      "_model_module_version": "1.2.0",
      "_model_name": "LayoutModel",
      "_view_count": null,
      "_view_module": "@jupyter-widgets/base",
      "_view_module_version": "1.2.0",
      "_view_name": "LayoutView",
      "align_content": null,
      "align_items": null,
      "align_self": null,
      "border": null,
      "bottom": null,
      "display": null,
      "flex": null,
      "flex_flow": null,
      "grid_area": null,
      "grid_auto_columns": null,
      "grid_auto_flow": null,
      "grid_auto_rows": null,
      "grid_column": null,
      "grid_gap": null,
      "grid_row": null,
      "grid_template_areas": null,
      "grid_template_columns": null,
      "grid_template_rows": null,
      "height": null,
      "justify_content": null,
      "justify_items": null,
      "left": null,
      "margin": null,
      "max_height": null,
      "max_width": null,
      "min_height": null,
      "min_width": null,
      "object_fit": null,
      "object_position": null,
      "order": null,
      "overflow": null,
      "overflow_x": null,
      "overflow_y": null,
      "padding": null,
      "right": null,
      "top": null,
      "visibility": null,
      "width": null
     }
    },
    "e0a7e6d3b9d743dbbc8939c2fa1a235d": {
     "model_module": "@jupyter-widgets/controls",
     "model_module_version": "1.5.0",
     "model_name": "DescriptionStyleModel",
     "state": {
      "_model_module": "@jupyter-widgets/controls",
      "_model_module_version": "1.5.0",
      "_model_name": "DescriptionStyleModel",
      "_view_count": null,
      "_view_module": "@jupyter-widgets/base",
      "_view_module_version": "1.2.0",
      "_view_name": "StyleView",
      "description_width": ""
     }
    },
    "efc062bd85a4423ba661c822648e9a11": {
     "model_module": "@jupyter-widgets/controls",
     "model_module_version": "1.5.0",
     "model_name": "FloatProgressModel",
     "state": {
      "_dom_classes": [],
      "_model_module": "@jupyter-widgets/controls",
      "_model_module_version": "1.5.0",
      "_model_name": "FloatProgressModel",
      "_view_count": null,
      "_view_module": "@jupyter-widgets/controls",
      "_view_module_version": "1.5.0",
      "_view_name": "ProgressView",
      "bar_style": "success",
      "description": "",
      "description_tooltip": null,
      "layout": "IPY_MODEL_659a9c31541049f0beaad3723ac434bb",
      "max": 13,
      "min": 0,
      "orientation": "horizontal",
      "style": "IPY_MODEL_6b3a08831def4c67b608dfa7c2001e11",
      "value": 13
     }
    },
    "f1016778e6bc4555ba99c034304e0c64": {
     "model_module": "@jupyter-widgets/base",
     "model_module_version": "1.2.0",
     "model_name": "LayoutModel",
     "state": {
      "_model_module": "@jupyter-widgets/base",
      "_model_module_version": "1.2.0",
      "_model_name": "LayoutModel",
      "_view_count": null,
      "_view_module": "@jupyter-widgets/base",
      "_view_module_version": "1.2.0",
      "_view_name": "LayoutView",
      "align_content": null,
      "align_items": null,
      "align_self": null,
      "border": null,
      "bottom": null,
      "display": null,
      "flex": null,
      "flex_flow": null,
      "grid_area": null,
      "grid_auto_columns": null,
      "grid_auto_flow": null,
      "grid_auto_rows": null,
      "grid_column": null,
      "grid_gap": null,
      "grid_row": null,
      "grid_template_areas": null,
      "grid_template_columns": null,
      "grid_template_rows": null,
      "height": null,
      "justify_content": null,
      "justify_items": null,
      "left": null,
      "margin": null,
      "max_height": null,
      "max_width": null,
      "min_height": null,
      "min_width": null,
      "object_fit": null,
      "object_position": null,
      "order": null,
      "overflow": null,
      "overflow_x": null,
      "overflow_y": null,
      "padding": null,
      "right": null,
      "top": null,
      "visibility": null,
      "width": null
     }
    },
    "f959c57f2f94471c9b5d800b644d69db": {
     "model_module": "@jupyter-widgets/controls",
     "model_module_version": "1.5.0",
     "model_name": "FloatProgressModel",
     "state": {
      "_dom_classes": [],
      "_model_module": "@jupyter-widgets/controls",
      "_model_module_version": "1.5.0",
      "_model_name": "FloatProgressModel",
      "_view_count": null,
      "_view_module": "@jupyter-widgets/controls",
      "_view_module_version": "1.5.0",
      "_view_name": "ProgressView",
      "bar_style": "success",
      "description": "",
      "description_tooltip": null,
      "layout": "IPY_MODEL_de6e0370fdb54e4f88a1b3b6f39ca276",
      "max": 100,
      "min": 0,
      "orientation": "horizontal",
      "style": "IPY_MODEL_991f091932664e3e8fff4b579b0adb71",
      "value": 100
     }
    }
   }
  }
 },
 "nbformat": 4,
 "nbformat_minor": 0
}
