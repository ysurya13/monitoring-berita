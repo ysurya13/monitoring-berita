{
 "cells": [
  {
   "cell_type": "markdown",
   "metadata": {
    "id": "nl15yqDXsRcB"
   },
   "source": [
    "# SETTING ENVIRONMENT\n"
   ]
  },
  {
   "cell_type": "code",
   "execution_count": null,
   "metadata": {
    "colab": {
     "base_uri": "https://localhost:8080/"
    },
    "executionInfo": {
     "elapsed": 11999,
     "status": "ok",
     "timestamp": 1758707035633,
     "user": {
      "displayName": "Monitoring Berita",
      "userId": "16755502473357078001"
     },
     "user_tz": -420
    },
    "id": "f8BqutX0SOd1",
    "outputId": "59a661d0-ddbb-412c-e919-2d09d938a9b6"
   },
   "outputs": [],
   "source": [
    "\"\"\"# mount the colab with google drive\n",
    "from google.colab import drive\n",
    "drive.mount('/content/drive')\"\"\""
   ]
  },
  {
   "cell_type": "code",
   "execution_count": null,
   "metadata": {
    "executionInfo": {
     "elapsed": 125,
     "status": "ok",
     "timestamp": 1758707035761,
     "user": {
      "displayName": "Monitoring Berita",
      "userId": "16755502473357078001"
     },
     "user_tz": -420
    },
    "id": "eLOguPRQSRLN"
   },
   "outputs": [],
   "source": [
    "# set folder tempat kerja (current working directory)\n",
    "import os\n",
    "cwd = '/Users/yusufpradana/Library/CloudStorage/OneDrive-Personal/Pekerjaan BMN/05. 2025/98_monitoring_berita/monitoring-berita'\n",
    "# cwd = '/content/drive/MyDrive/Monitoring Berita'\n",
    "\n",
    "os.chdir(cwd)"
   ]
  },
  {
   "cell_type": "markdown",
   "metadata": {
    "id": "6ELnJl6msIPe"
   },
   "source": [
    "# INPUT PARAMETER PENCARIAN"
   ]
  },
  {
   "cell_type": "code",
   "execution_count": null,
   "metadata": {
    "executionInfo": {
     "elapsed": 7,
     "status": "ok",
     "timestamp": 1758707067883,
     "user": {
      "displayName": "Monitoring Berita",
      "userId": "16755502473357078001"
     },
     "user_tz": -420
    },
    "id": "Ngu4o4ibVA_7"
   },
   "outputs": [],
   "source": [
    "# AI Model (deepseek/openai)\n",
    "model_name          = \"openai\"\n",
    "# Tanggal awal pencarian berita\n",
    "start_date          = \"2025-09-28\"\n",
    "# Tanggal akhir pencarian berita\n",
    "end_date            = \"2025-09-28\"\n",
    "# Keywords pencarian berita\n",
    "keywords_pencarian  = [\"purbaya\", \"mbg\", \"stimulus\"]\n",
    "# Keywords analisis topic\n",
    "keywords_topic      = [\"bantuan sosial\"]\n",
    "# Jumlah halaman pencarian\n",
    "page_length         = 5"
   ]
  },
  {
   "cell_type": "markdown",
   "metadata": {
    "id": "ayYLnSVH_FUQ"
   },
   "source": [
    "# LANGKAH ANALISIS"
   ]
  },
  {
   "cell_type": "markdown",
   "metadata": {
    "id": "wU3w7Y3nsMDO"
   },
   "source": [
    "## SIMPAN PARAMETER PENCARIAN"
   ]
  },
  {
   "cell_type": "code",
   "execution_count": null,
   "metadata": {},
   "outputs": [],
   "source": [
    "# tandai waktu mulai proses\n",
    "import time \n",
    "start_process_time = time.time()"
   ]
  },
  {
   "cell_type": "code",
   "execution_count": null,
   "metadata": {
    "executionInfo": {
     "elapsed": 16,
     "status": "ok",
     "timestamp": 1758707077919,
     "user": {
      "displayName": "Monitoring Berita",
      "userId": "16755502473357078001"
     },
     "user_tz": -420
    },
    "id": "Iz2G1ZfRU5M-"
   },
   "outputs": [],
   "source": [
    "from datetime import datetime, timedelta\n",
    "\n",
    "# Konversi string ke datetime\n",
    "start = datetime.strptime(start_date, \"%Y-%m-%d\")\n",
    "end = datetime.strptime(end_date, \"%Y-%m-%d\")\n",
    "\n",
    "# Buat list tanggal dari end_date ke start_date (descending)\n",
    "search_date = [(end - timedelta(days=i)).strftime(\"%Y-%m-%d\")\n",
    "               for i in range((end - start).days + 1)]"
   ]
  },
  {
   "cell_type": "code",
   "execution_count": null,
   "metadata": {
    "colab": {
     "base_uri": "https://localhost:8080/"
    },
    "executionInfo": {
     "elapsed": 408,
     "status": "ok",
     "timestamp": 1758707078338,
     "user": {
      "displayName": "Monitoring Berita",
      "userId": "16755502473357078001"
     },
     "user_tz": -420
    },
    "id": "_doiDwPTSd9O",
    "outputId": "c4235f93-a13a-41b3-9312-57a09b667ab2"
   },
   "outputs": [],
   "source": [
    "import json\n",
    "from pathlib import Path\n",
    "\n",
    "config_path = Path(\"config.json\")\n",
    "\n",
    "# Data baru yang ingin disimpan/diupdate\n",
    "variabel = {\n",
    "    \"search_date\": search_date,\n",
    "    \"keywords\": keywords_pencarian,\n",
    "    \"topic_keywords\":keywords_topic,\n",
    "    \"max_page_length\": page_length,\n",
    "    \"AI_name\": model_name\n",
    "}\n",
    "\n",
    "# Baca isi config.json lama (jika ada)\n",
    "if config_path.exists():\n",
    "    try:\n",
    "        with open(config_path, \"r\", encoding=\"utf-8\") as f:\n",
    "            config = json.load(f)\n",
    "    except Exception as e:\n",
    "        print(f\"Gagal membaca config.json: {e}\")\n",
    "        config = {}\n",
    "else:\n",
    "    config = {}\n",
    "\n",
    "# Update hanya key yang ada di `variabel`\n",
    "config.update(variabel)\n",
    "\n",
    "# Simpan kembali ke file\n",
    "with open(config_path, \"w\", encoding=\"utf-8\") as f:\n",
    "    json.dump(config, f, indent=4, ensure_ascii=False)\n",
    "\n",
    "print(f\"Config.json berhasil diperbarui: {config_path}\")\n"
   ]
  },
  {
   "cell_type": "markdown",
   "metadata": {
    "id": "ZelF4LorrORT"
   },
   "source": [
    "## SCRAP DATA BERITA DI MEDIA ONLINE"
   ]
  },
  {
   "cell_type": "markdown",
   "metadata": {},
   "source": [
    "### detik.com"
   ]
  },
  {
   "cell_type": "code",
   "execution_count": null,
   "metadata": {
    "colab": {
     "base_uri": "https://localhost:8080/"
    },
    "executionInfo": {
     "elapsed": 427051,
     "status": "ok",
     "timestamp": 1758707553146,
     "user": {
      "displayName": "Monitoring Berita",
      "userId": "16755502473357078001"
     },
     "user_tz": -420
    },
    "id": "YvlasoJTlEg6",
    "outputId": "e0cdd034-ba5d-4d4b-b454-d18bdd850d9f"
   },
   "outputs": [],
   "source": [
    "file_loc = os.path.join(cwd, 'tarik_daftar_berita', 'list_berita_detik_search_method.ipynb')\n",
    "\n",
    "%run \"$file_loc\""
   ]
  },
  {
   "cell_type": "code",
   "execution_count": null,
   "metadata": {},
   "outputs": [],
   "source": [
    "file_loc = os.path.join(cwd, 'tarik_daftar_berita', 'list_berita_detik.ipynb')\n",
    "\n",
    "%run \"$file_loc\""
   ]
  },
  {
   "cell_type": "markdown",
   "metadata": {},
   "source": [
    "### cnbcindoncesia.com"
   ]
  },
  {
   "cell_type": "code",
   "execution_count": null,
   "metadata": {
    "colab": {
     "base_uri": "https://localhost:8080/",
     "height": 1000
    },
    "executionInfo": {
     "elapsed": 6695,
     "status": "ok",
     "timestamp": 1758707559855,
     "user": {
      "displayName": "Monitoring Berita",
      "userId": "16755502473357078001"
     },
     "user_tz": -420
    },
    "id": "8HTyqw-8SAz3",
    "outputId": "b91b9b4a-195e-45d9-ca5d-82d6dfe91d29"
   },
   "outputs": [],
   "source": [
    "file_loc = os.path.join(cwd, 'tarik_daftar_berita', 'list_berita_cnbc.ipynb')\n",
    "\n",
    "%run \"$file_loc\""
   ]
  },
  {
   "cell_type": "markdown",
   "metadata": {},
   "source": [
    "### idttimes.com"
   ]
  },
  {
   "cell_type": "code",
   "execution_count": null,
   "metadata": {
    "colab": {
     "base_uri": "https://localhost:8080/"
    },
    "executionInfo": {
     "elapsed": 48263,
     "status": "ok",
     "timestamp": 1758707613483,
     "user": {
      "displayName": "Monitoring Berita",
      "userId": "16755502473357078001"
     },
     "user_tz": -420
    },
    "id": "6XFTrjXcpDY6",
    "outputId": "97783d69-b6f5-4c80-a68f-c6aec953b54c"
   },
   "outputs": [],
   "source": [
    "file_loc = os.path.join(cwd, 'tarik_daftar_berita', 'list_berita_idn_times_search_method.ipynb')\n",
    "\n",
    "%run \"$file_loc\""
   ]
  },
  {
   "cell_type": "markdown",
   "metadata": {},
   "source": [
    "### kompas.com"
   ]
  },
  {
   "cell_type": "code",
   "execution_count": null,
   "metadata": {
    "colab": {
     "base_uri": "https://localhost:8080/",
     "height": 527
    },
    "executionInfo": {
     "elapsed": 10631,
     "status": "ok",
     "timestamp": 1758707624106,
     "user": {
      "displayName": "Monitoring Berita",
      "userId": "16755502473357078001"
     },
     "user_tz": -420
    },
    "id": "B38wGH70p9VZ",
    "outputId": "a25e46e8-2703-4042-9779-bc3ad187c057"
   },
   "outputs": [],
   "source": [
    "file_loc = os.path.join(cwd, 'tarik_daftar_berita', 'list_berita_kompas.ipynb')\n",
    "\n",
    "%run \"$file_loc\""
   ]
  },
  {
   "cell_type": "markdown",
   "metadata": {},
   "source": [
    "### liputan6.com"
   ]
  },
  {
   "cell_type": "code",
   "execution_count": null,
   "metadata": {
    "colab": {
     "base_uri": "https://localhost:8080/",
     "height": 724
    },
    "executionInfo": {
     "elapsed": 11871,
     "status": "ok",
     "timestamp": 1758707635979,
     "user": {
      "displayName": "Monitoring Berita",
      "userId": "16755502473357078001"
     },
     "user_tz": -420
    },
    "id": "1ta7_qz5qATy",
    "outputId": "0994a2f3-f879-4e2c-81f1-94470c17a7d0"
   },
   "outputs": [],
   "source": [
    "file_loc = os.path.join(cwd, 'tarik_daftar_berita', 'list_berita_liputan6.ipynb')\n",
    "\n",
    "%run \"$file_loc\""
   ]
  },
  {
   "cell_type": "markdown",
   "metadata": {},
   "source": [
    "### cnnindonesia.com"
   ]
  },
  {
   "cell_type": "code",
   "execution_count": null,
   "metadata": {
    "colab": {
     "base_uri": "https://localhost:8080/",
     "height": 484
    },
    "executionInfo": {
     "elapsed": 32903,
     "status": "ok",
     "timestamp": 1758707668886,
     "user": {
      "displayName": "Monitoring Berita",
      "userId": "16755502473357078001"
     },
     "user_tz": -420
    },
    "id": "56XLaNAuqD-Y",
    "outputId": "b09af9a9-8912-4a48-a812-3fa4ef7dc2cf"
   },
   "outputs": [],
   "source": [
    "file_loc = os.path.join(cwd, 'tarik_daftar_berita', 'list_berita_cnn.ipynb')\n",
    "\n",
    "%run \"$file_loc\""
   ]
  },
  {
   "cell_type": "markdown",
   "metadata": {},
   "source": [
    "### okezone.com"
   ]
  },
  {
   "cell_type": "code",
   "execution_count": null,
   "metadata": {
    "colab": {
     "base_uri": "https://localhost:8080/",
     "height": 1000
    },
    "executionInfo": {
     "elapsed": 10300,
     "status": "ok",
     "timestamp": 1758707679194,
     "user": {
      "displayName": "Monitoring Berita",
      "userId": "16755502473357078001"
     },
     "user_tz": -420
    },
    "id": "zE73-hK-q4Us",
    "outputId": "d6a9cbbd-e676-49cf-d93d-6b3df1c6aac8"
   },
   "outputs": [],
   "source": [
    "file_loc = os.path.join(cwd, 'tarik_daftar_berita', 'list_berita_okezone.ipynb')\n",
    "\n",
    "%run \"$file_loc\""
   ]
  },
  {
   "cell_type": "markdown",
   "metadata": {
    "id": "PgAoP36AsoBi"
   },
   "source": [
    "## MENGGABUNGKAN DATA"
   ]
  },
  {
   "cell_type": "markdown",
   "metadata": {},
   "source": [
    "### Konsolidasi Data Url Berita"
   ]
  },
  {
   "cell_type": "code",
   "execution_count": null,
   "metadata": {
    "colab": {
     "base_uri": "https://localhost:8080/",
     "height": 678,
     "referenced_widgets": [
      "03e742985f574beaa5d0606d9015fadb",
      "1944dc8d32c74470aa729da06d606f7c",
      "efc062bd85a4423ba661c822648e9a11",
      "0229bd90bd3d46b59c025a905c5b9ce2",
      "f1016778e6bc4555ba99c034304e0c64",
      "81450a4bf4bf4353bc4794a2537493ec",
      "929fe39a058f4edfa29150abe40f1feb",
      "659a9c31541049f0beaad3723ac434bb",
      "6b3a08831def4c67b608dfa7c2001e11",
      "498f085853c24829affb231886434e6e",
      "9d8f96ed7e8244ee9e50652f262e08e2"
     ]
    },
    "executionInfo": {
     "elapsed": 4193,
     "status": "ok",
     "timestamp": 1758707738875,
     "user": {
      "displayName": "Monitoring Berita",
      "userId": "16755502473357078001"
     },
     "user_tz": -420
    },
    "id": "EiYxfVGUtVvl",
    "outputId": "ad5a6d55-a384-4eb2-a034-428f60475b22"
   },
   "outputs": [],
   "source": [
    "file_loc = os.path.join(cwd, '01_konsolidasi_data_berita.ipynb')\n",
    "\n",
    "%run \"$file_loc\""
   ]
  },
  {
   "cell_type": "markdown",
   "metadata": {
    "id": "-BWB0loXQGL-"
   },
   "source": [
    "## BACA BERITA"
   ]
  },
  {
   "cell_type": "markdown",
   "metadata": {},
   "source": [
    "### Membaca Data Url Berita"
   ]
  },
  {
   "cell_type": "code",
   "execution_count": null,
   "metadata": {},
   "outputs": [],
   "source": [
    "file_loc"
   ]
  },
  {
   "cell_type": "code",
   "execution_count": null,
   "metadata": {
    "colab": {
     "base_uri": "https://localhost:8080/",
     "height": 217,
     "referenced_widgets": [
      "be2c2a371fd746f1a9c54d1f118a2390",
      "5886680b1a4d4c20adfff9f10b4eb80e",
      "f959c57f2f94471c9b5d800b644d69db",
      "50cf6eac6fc646a5ac2c856d5d6b8c93",
      "4d457ba32dc047fa94cfbcd12af7a7b5",
      "280f90cef3bf4a64855f7d5800d45307",
      "e0a7e6d3b9d743dbbc8939c2fa1a235d",
      "de6e0370fdb54e4f88a1b3b6f39ca276",
      "991f091932664e3e8fff4b579b0adb71",
      "99c7711a32504f1280c53abfd6b839c5",
      "ccdfe10894894e65802e9958e40dffb0"
     ]
    },
    "executionInfo": {
     "elapsed": 83900,
     "status": "ok",
     "timestamp": 1758707883851,
     "user": {
      "displayName": "Monitoring Berita",
      "userId": "16755502473357078001"
     },
     "user_tz": -420
    },
    "id": "rohdMRa1RS6_",
    "outputId": "e272c907-6209-4a93-9fff-a1545c702b64"
   },
   "outputs": [],
   "source": [
    "file_loc = os.path.join(cwd, '02_baca_link_berita.ipynb')\n",
    "\n",
    "%run \"$file_loc\""
   ]
  },
  {
   "cell_type": "markdown",
   "metadata": {
    "id": "btzQFyReOzDh"
   },
   "source": [
    "## LABELLING ISU\n"
   ]
  },
  {
   "cell_type": "code",
   "execution_count": null,
   "metadata": {
    "colab": {
     "base_uri": "https://localhost:8080/",
     "height": 156
    },
    "executionInfo": {
     "elapsed": 2381,
     "status": "ok",
     "timestamp": 1758707993749,
     "user": {
      "displayName": "Monitoring Berita",
      "userId": "16755502473357078001"
     },
     "user_tz": -420
    },
    "id": "wqL0C4I8O4D1",
    "outputId": "451c15a5-951e-4a1d-e142-4d8750dba9e4"
   },
   "outputs": [],
   "source": [
    "file_loc = os.path.join(cwd, '03_labelling_awal.ipynb')\n",
    "\n",
    "%run \"$file_loc\""
   ]
  },
  {
   "cell_type": "markdown",
   "metadata": {
    "id": "Yh3Y5kSakfqt"
   },
   "source": [
    "## ANALISIS DENGAN GEN AI"
   ]
  },
  {
   "cell_type": "code",
   "execution_count": null,
   "metadata": {
    "id": "hFf-5-oyke-c"
   },
   "outputs": [],
   "source": [
    "file_loc = os.path.join(cwd, '04_analisis_dengan_genAI.ipynb')\n",
    "\n",
    "%run \"$file_loc\""
   ]
  },
  {
   "cell_type": "code",
   "execution_count": null,
   "metadata": {},
   "outputs": [],
   "source": [
    "# Tandai waktu selesai proses\n",
    "end_process_time = time.time()\n",
    "elapsed_time = end_process_time - start_process_time\n",
    "# jadikan menit & detik\n",
    "elapsed_minutes = int(elapsed_time // 60)\n",
    "elapsed_seconds = int(elapsed_time % 60)\n",
    "print(f\"Waktu proses: {elapsed_minutes} menit {elapsed_seconds} detik\")"
   ]
  }
 ],
 "metadata": {
  "colab": {
   "authorship_tag": "ABX9TyO7Du9kdtb2tYY9zmRcptUW",
   "collapsed_sections": [
    "nl15yqDXsRcB",
    "PgAoP36AsoBi",
    "zLAsNrRLtTwy",
    "btzQFyReOzDh"
   ],
   "mount_file_id": "1huIq8bthX6wwOLYeaNI1vyJesWYn8LGS",
   "provenance": []
  },
  "kernelspec": {
   "display_name": "base",
   "language": "python",
   "name": "python3"
  },
  "language_info": {
   "codemirror_mode": {
    "name": "ipython",
    "version": 3
   },
   "file_extension": ".py",
   "mimetype": "text/x-python",
   "name": "python",
   "nbconvert_exporter": "python",
   "pygments_lexer": "ipython3",
   "version": "3.12.7"
  },
  "widgets": {
   "application/vnd.jupyter.widget-state+json": {
    "0229bd90bd3d46b59c025a905c5b9ce2": {
     "model_module": "@jupyter-widgets/controls",
     "model_module_version": "1.5.0",
     "model_name": "HTMLModel",
     "state": {
      "_dom_classes": [],
      "_model_module": "@jupyter-widgets/controls",
      "_model_module_version": "1.5.0",
      "_model_name": "HTMLModel",
      "_view_count": null,
      "_view_module": "@jupyter-widgets/controls",
      "_view_module_version": "1.5.0",
      "_view_name": "HTMLView",
      "description": "",
      "description_tooltip": null,
      "layout": "IPY_MODEL_498f085853c24829affb231886434e6e",
      "placeholder": "​",
      "style": "IPY_MODEL_9d8f96ed7e8244ee9e50652f262e08e2",
      "value": " 13/13 [00:01&lt;00:00,  5.53file/s]"
     }
    },
    "03e742985f574beaa5d0606d9015fadb": {
     "model_module": "@jupyter-widgets/controls",
     "model_module_version": "1.5.0",
     "model_name": "HBoxModel",
     "state": {
      "_dom_classes": [],
      "_model_module": "@jupyter-widgets/controls",
      "_model_module_version": "1.5.0",
      "_model_name": "HBoxModel",
      "_view_count": null,
      "_view_module": "@jupyter-widgets/controls",
      "_view_module_version": "1.5.0",
      "_view_name": "HBoxView",
      "box_style": "",
      "children": [
       "IPY_MODEL_1944dc8d32c74470aa729da06d606f7c",
       "IPY_MODEL_efc062bd85a4423ba661c822648e9a11",
       "IPY_MODEL_0229bd90bd3d46b59c025a905c5b9ce2"
      ],
      "layout": "IPY_MODEL_f1016778e6bc4555ba99c034304e0c64"
     }
    },
    "1944dc8d32c74470aa729da06d606f7c": {
     "model_module": "@jupyter-widgets/controls",
     "model_module_version": "1.5.0",
     "model_name": "HTMLModel",
     "state": {
      "_dom_classes": [],
      "_model_module": "@jupyter-widgets/controls",
      "_model_module_version": "1.5.0",
      "_model_name": "HTMLModel",
      "_view_count": null,
      "_view_module": "@jupyter-widgets/controls",
      "_view_module_version": "1.5.0",
      "_view_name": "HTMLView",
      "description": "",
      "description_tooltip": null,
      "layout": "IPY_MODEL_81450a4bf4bf4353bc4794a2537493ec",
      "placeholder": "​",
      "style": "IPY_MODEL_929fe39a058f4edfa29150abe40f1feb",
      "value": "Membaca Excel: 100%"
     }
    },
    "280f90cef3bf4a64855f7d5800d45307": {
     "model_module": "@jupyter-widgets/base",
     "model_module_version": "1.2.0",
     "model_name": "LayoutModel",
     "state": {
      "_model_module": "@jupyter-widgets/base",
      "_model_module_version": "1.2.0",
      "_model_name": "LayoutModel",
      "_view_count": null,
      "_view_module": "@jupyter-widgets/base",
      "_view_module_version": "1.2.0",
      "_view_name": "LayoutView",
      "align_content": null,
      "align_items": null,
      "align_self": null,
      "border": null,
      "bottom": null,
      "display": null,
      "flex": null,
      "flex_flow": null,
      "grid_area": null,
      "grid_auto_columns": null,
      "grid_auto_flow": null,
      "grid_auto_rows": null,
      "grid_column": null,
      "grid_gap": null,
      "grid_row": null,
      "grid_template_areas": null,
      "grid_template_columns": null,
      "grid_template_rows": null,
      "height": null,
      "justify_content": null,
      "justify_items": null,
      "left": null,
      "margin": null,
      "max_height": null,
      "max_width": null,
      "min_height": null,
      "min_width": null,
      "object_fit": null,
      "object_position": null,
      "order": null,
      "overflow": null,
      "overflow_x": null,
      "overflow_y": null,
      "padding": null,
      "right": null,
      "top": null,
      "visibility": null,
      "width": null
     }
    },
    "498f085853c24829affb231886434e6e": {
     "model_module": "@jupyter-widgets/base",
     "model_module_version": "1.2.0",
     "model_name": "LayoutModel",
     "state": {
      "_model_module": "@jupyter-widgets/base",
      "_model_module_version": "1.2.0",
      "_model_name": "LayoutModel",
      "_view_count": null,
      "_view_module": "@jupyter-widgets/base",
      "_view_module_version": "1.2.0",
      "_view_name": "LayoutView",
      "align_content": null,
      "align_items": null,
      "align_self": null,
      "border": null,
      "bottom": null,
      "display": null,
      "flex": null,
      "flex_flow": null,
      "grid_area": null,
      "grid_auto_columns": null,
      "grid_auto_flow": null,
      "grid_auto_rows": null,
      "grid_column": null,
      "grid_gap": null,
      "grid_row": null,
      "grid_template_areas": null,
      "grid_template_columns": null,
      "grid_template_rows": null,
      "height": null,
      "justify_content": null,
      "justify_items": null,
      "left": null,
      "margin": null,
      "max_height": null,
      "max_width": null,
      "min_height": null,
      "min_width": null,
      "object_fit": null,
      "object_position": null,
      "order": null,
      "overflow": null,
      "overflow_x": null,
      "overflow_y": null,
      "padding": null,
      "right": null,
      "top": null,
      "visibility": null,
      "width": null
     }
    },
    "4d457ba32dc047fa94cfbcd12af7a7b5": {
     "model_module": "@jupyter-widgets/base",
     "model_module_version": "1.2.0",
     "model_name": "LayoutModel",
     "state": {
      "_model_module": "@jupyter-widgets/base",
      "_model_module_version": "1.2.0",
      "_model_name": "LayoutModel",
      "_view_count": null,
      "_view_module": "@jupyter-widgets/base",
      "_view_module_version": "1.2.0",
      "_view_name": "LayoutView",
      "align_content": null,
      "align_items": null,
      "align_self": null,
      "border": null,
      "bottom": null,
      "display": null,
      "flex": null,
      "flex_flow": null,
      "grid_area": null,
      "grid_auto_columns": null,
      "grid_auto_flow": null,
      "grid_auto_rows": null,
      "grid_column": null,
      "grid_gap": null,
      "grid_row": null,
      "grid_template_areas": null,
      "grid_template_columns": null,
      "grid_template_rows": null,
      "height": null,
      "justify_content": null,
      "justify_items": null,
      "left": null,
      "margin": null,
      "max_height": null,
      "max_width": null,
      "min_height": null,
      "min_width": null,
      "object_fit": null,
      "object_position": null,
      "order": null,
      "overflow": null,
      "overflow_x": null,
      "overflow_y": null,
      "padding": null,
      "right": null,
      "top": null,
      "visibility": null,
      "width": null
     }
    },
    "50cf6eac6fc646a5ac2c856d5d6b8c93": {
     "model_module": "@jupyter-widgets/controls",
     "model_module_version": "1.5.0",
     "model_name": "HTMLModel",
     "state": {
      "_dom_classes": [],
      "_model_module": "@jupyter-widgets/controls",
      "_model_module_version": "1.5.0",
      "_model_name": "HTMLModel",
      "_view_count": null,
      "_view_module": "@jupyter-widgets/controls",
      "_view_module_version": "1.5.0",
      "_view_name": "HTMLView",
      "description": "",
      "description_tooltip": null,
      "layout": "IPY_MODEL_99c7711a32504f1280c53abfd6b839c5",
      "placeholder": "​",
      "style": "IPY_MODEL_ccdfe10894894e65802e9958e40dffb0",
      "value": " 100/100 [01:06&lt;00:00,  1.73it/s]"
     }
    },
    "5886680b1a4d4c20adfff9f10b4eb80e": {
     "model_module": "@jupyter-widgets/controls",
     "model_module_version": "1.5.0",
     "model_name": "HTMLModel",
     "state": {
      "_dom_classes": [],
      "_model_module": "@jupyter-widgets/controls",
      "_model_module_version": "1.5.0",
      "_model_name": "HTMLModel",
      "_view_count": null,
      "_view_module": "@jupyter-widgets/controls",
      "_view_module_version": "1.5.0",
      "_view_name": "HTMLView",
      "description": "",
      "description_tooltip": null,
      "layout": "IPY_MODEL_280f90cef3bf4a64855f7d5800d45307",
      "placeholder": "​",
      "style": "IPY_MODEL_e0a7e6d3b9d743dbbc8939c2fa1a235d",
      "value": "Scraping artikel: 100%"
     }
    },
    "659a9c31541049f0beaad3723ac434bb": {
     "model_module": "@jupyter-widgets/base",
     "model_module_version": "1.2.0",
     "model_name": "LayoutModel",
     "state": {
      "_model_module": "@jupyter-widgets/base",
      "_model_module_version": "1.2.0",
      "_model_name": "LayoutModel",
      "_view_count": null,
      "_view_module": "@jupyter-widgets/base",
      "_view_module_version": "1.2.0",
      "_view_name": "LayoutView",
      "align_content": null,
      "align_items": null,
      "align_self": null,
      "border": null,
      "bottom": null,
      "display": null,
      "flex": null,
      "flex_flow": null,
      "grid_area": null,
      "grid_auto_columns": null,
      "grid_auto_flow": null,
      "grid_auto_rows": null,
      "grid_column": null,
      "grid_gap": null,
      "grid_row": null,
      "grid_template_areas": null,
      "grid_template_columns": null,
      "grid_template_rows": null,
      "height": null,
      "justify_content": null,
      "justify_items": null,
      "left": null,
      "margin": null,
      "max_height": null,
      "max_width": null,
      "min_height": null,
      "min_width": null,
      "object_fit": null,
      "object_position": null,
      "order": null,
      "overflow": null,
      "overflow_x": null,
      "overflow_y": null,
      "padding": null,
      "right": null,
      "top": null,
      "visibility": null,
      "width": null
     }
    },
    "6b3a08831def4c67b608dfa7c2001e11": {
     "model_module": "@jupyter-widgets/controls",
     "model_module_version": "1.5.0",
     "model_name": "ProgressStyleModel",
     "state": {
      "_model_module": "@jupyter-widgets/controls",
      "_model_module_version": "1.5.0",
      "_model_name": "ProgressStyleModel",
      "_view_count": null,
      "_view_module": "@jupyter-widgets/base",
      "_view_module_version": "1.2.0",
      "_view_name": "StyleView",
      "bar_color": null,
      "description_width": ""
     }
    },
    "81450a4bf4bf4353bc4794a2537493ec": {
     "model_module": "@jupyter-widgets/base",
     "model_module_version": "1.2.0",
     "model_name": "LayoutModel",
     "state": {
      "_model_module": "@jupyter-widgets/base",
      "_model_module_version": "1.2.0",
      "_model_name": "LayoutModel",
      "_view_count": null,
      "_view_module": "@jupyter-widgets/base",
      "_view_module_version": "1.2.0",
      "_view_name": "LayoutView",
      "align_content": null,
      "align_items": null,
      "align_self": null,
      "border": null,
      "bottom": null,
      "display": null,
      "flex": null,
      "flex_flow": null,
      "grid_area": null,
      "grid_auto_columns": null,
      "grid_auto_flow": null,
      "grid_auto_rows": null,
      "grid_column": null,
      "grid_gap": null,
      "grid_row": null,
      "grid_template_areas": null,
      "grid_template_columns": null,
      "grid_template_rows": null,
      "height": null,
      "justify_content": null,
      "justify_items": null,
      "left": null,
      "margin": null,
      "max_height": null,
      "max_width": null,
      "min_height": null,
      "min_width": null,
      "object_fit": null,
      "object_position": null,
      "order": null,
      "overflow": null,
      "overflow_x": null,
      "overflow_y": null,
      "padding": null,
      "right": null,
      "top": null,
      "visibility": null,
      "width": null
     }
    },
    "929fe39a058f4edfa29150abe40f1feb": {
     "model_module": "@jupyter-widgets/controls",
     "model_module_version": "1.5.0",
     "model_name": "DescriptionStyleModel",
     "state": {
      "_model_module": "@jupyter-widgets/controls",
      "_model_module_version": "1.5.0",
      "_model_name": "DescriptionStyleModel",
      "_view_count": null,
      "_view_module": "@jupyter-widgets/base",
      "_view_module_version": "1.2.0",
      "_view_name": "StyleView",
      "description_width": ""
     }
    },
    "991f091932664e3e8fff4b579b0adb71": {
     "model_module": "@jupyter-widgets/controls",
     "model_module_version": "1.5.0",
     "model_name": "ProgressStyleModel",
     "state": {
      "_model_module": "@jupyter-widgets/controls",
      "_model_module_version": "1.5.0",
      "_model_name": "ProgressStyleModel",
      "_view_count": null,
      "_view_module": "@jupyter-widgets/base",
      "_view_module_version": "1.2.0",
      "_view_name": "StyleView",
      "bar_color": null,
      "description_width": ""
     }
    },
    "99c7711a32504f1280c53abfd6b839c5": {
     "model_module": "@jupyter-widgets/base",
     "model_module_version": "1.2.0",
     "model_name": "LayoutModel",
     "state": {
      "_model_module": "@jupyter-widgets/base",
      "_model_module_version": "1.2.0",
      "_model_name": "LayoutModel",
      "_view_count": null,
      "_view_module": "@jupyter-widgets/base",
      "_view_module_version": "1.2.0",
      "_view_name": "LayoutView",
      "align_content": null,
      "align_items": null,
      "align_self": null,
      "border": null,
      "bottom": null,
      "display": null,
      "flex": null,
      "flex_flow": null,
      "grid_area": null,
      "grid_auto_columns": null,
      "grid_auto_flow": null,
      "grid_auto_rows": null,
      "grid_column": null,
      "grid_gap": null,
      "grid_row": null,
      "grid_template_areas": null,
      "grid_template_columns": null,
      "grid_template_rows": null,
      "height": null,
      "justify_content": null,
      "justify_items": null,
      "left": null,
      "margin": null,
      "max_height": null,
      "max_width": null,
      "min_height": null,
      "min_width": null,
      "object_fit": null,
      "object_position": null,
      "order": null,
      "overflow": null,
      "overflow_x": null,
      "overflow_y": null,
      "padding": null,
      "right": null,
      "top": null,
      "visibility": null,
      "width": null
     }
    },
    "9d8f96ed7e8244ee9e50652f262e08e2": {
     "model_module": "@jupyter-widgets/controls",
     "model_module_version": "1.5.0",
     "model_name": "DescriptionStyleModel",
     "state": {
      "_model_module": "@jupyter-widgets/controls",
      "_model_module_version": "1.5.0",
      "_model_name": "DescriptionStyleModel",
      "_view_count": null,
      "_view_module": "@jupyter-widgets/base",
      "_view_module_version": "1.2.0",
      "_view_name": "StyleView",
      "description_width": ""
     }
    },
    "be2c2a371fd746f1a9c54d1f118a2390": {
     "model_module": "@jupyter-widgets/controls",
     "model_module_version": "1.5.0",
     "model_name": "HBoxModel",
     "state": {
      "_dom_classes": [],
      "_model_module": "@jupyter-widgets/controls",
      "_model_module_version": "1.5.0",
      "_model_name": "HBoxModel",
      "_view_count": null,
      "_view_module": "@jupyter-widgets/controls",
      "_view_module_version": "1.5.0",
      "_view_name": "HBoxView",
      "box_style": "",
      "children": [
       "IPY_MODEL_5886680b1a4d4c20adfff9f10b4eb80e",
       "IPY_MODEL_f959c57f2f94471c9b5d800b644d69db",
       "IPY_MODEL_50cf6eac6fc646a5ac2c856d5d6b8c93"
      ],
      "layout": "IPY_MODEL_4d457ba32dc047fa94cfbcd12af7a7b5"
     }
    },
    "ccdfe10894894e65802e9958e40dffb0": {
     "model_module": "@jupyter-widgets/controls",
     "model_module_version": "1.5.0",
     "model_name": "DescriptionStyleModel",
     "state": {
      "_model_module": "@jupyter-widgets/controls",
      "_model_module_version": "1.5.0",
      "_model_name": "DescriptionStyleModel",
      "_view_count": null,
      "_view_module": "@jupyter-widgets/base",
      "_view_module_version": "1.2.0",
      "_view_name": "StyleView",
      "description_width": ""
     }
    },
    "de6e0370fdb54e4f88a1b3b6f39ca276": {
     "model_module": "@jupyter-widgets/base",
     "model_module_version": "1.2.0",
     "model_name": "LayoutModel",
     "state": {
      "_model_module": "@jupyter-widgets/base",
      "_model_module_version": "1.2.0",
      "_model_name": "LayoutModel",
      "_view_count": null,
      "_view_module": "@jupyter-widgets/base",
      "_view_module_version": "1.2.0",
      "_view_name": "LayoutView",
      "align_content": null,
      "align_items": null,
      "align_self": null,
      "border": null,
      "bottom": null,
      "display": null,
      "flex": null,
      "flex_flow": null,
      "grid_area": null,
      "grid_auto_columns": null,
      "grid_auto_flow": null,
      "grid_auto_rows": null,
      "grid_column": null,
      "grid_gap": null,
      "grid_row": null,
      "grid_template_areas": null,
      "grid_template_columns": null,
      "grid_template_rows": null,
      "height": null,
      "justify_content": null,
      "justify_items": null,
      "left": null,
      "margin": null,
      "max_height": null,
      "max_width": null,
      "min_height": null,
      "min_width": null,
      "object_fit": null,
      "object_position": null,
      "order": null,
      "overflow": null,
      "overflow_x": null,
      "overflow_y": null,
      "padding": null,
      "right": null,
      "top": null,
      "visibility": null,
      "width": null
     }
    },
    "e0a7e6d3b9d743dbbc8939c2fa1a235d": {
     "model_module": "@jupyter-widgets/controls",
     "model_module_version": "1.5.0",
     "model_name": "DescriptionStyleModel",
     "state": {
      "_model_module": "@jupyter-widgets/controls",
      "_model_module_version": "1.5.0",
      "_model_name": "DescriptionStyleModel",
      "_view_count": null,
      "_view_module": "@jupyter-widgets/base",
      "_view_module_version": "1.2.0",
      "_view_name": "StyleView",
      "description_width": ""
     }
    },
    "efc062bd85a4423ba661c822648e9a11": {
     "model_module": "@jupyter-widgets/controls",
     "model_module_version": "1.5.0",
     "model_name": "FloatProgressModel",
     "state": {
      "_dom_classes": [],
      "_model_module": "@jupyter-widgets/controls",
      "_model_module_version": "1.5.0",
      "_model_name": "FloatProgressModel",
      "_view_count": null,
      "_view_module": "@jupyter-widgets/controls",
      "_view_module_version": "1.5.0",
      "_view_name": "ProgressView",
      "bar_style": "success",
      "description": "",
      "description_tooltip": null,
      "layout": "IPY_MODEL_659a9c31541049f0beaad3723ac434bb",
      "max": 13,
      "min": 0,
      "orientation": "horizontal",
      "style": "IPY_MODEL_6b3a08831def4c67b608dfa7c2001e11",
      "value": 13
     }
    },
    "f1016778e6bc4555ba99c034304e0c64": {
     "model_module": "@jupyter-widgets/base",
     "model_module_version": "1.2.0",
     "model_name": "LayoutModel",
     "state": {
      "_model_module": "@jupyter-widgets/base",
      "_model_module_version": "1.2.0",
      "_model_name": "LayoutModel",
      "_view_count": null,
      "_view_module": "@jupyter-widgets/base",
      "_view_module_version": "1.2.0",
      "_view_name": "LayoutView",
      "align_content": null,
      "align_items": null,
      "align_self": null,
      "border": null,
      "bottom": null,
      "display": null,
      "flex": null,
      "flex_flow": null,
      "grid_area": null,
      "grid_auto_columns": null,
      "grid_auto_flow": null,
      "grid_auto_rows": null,
      "grid_column": null,
      "grid_gap": null,
      "grid_row": null,
      "grid_template_areas": null,
      "grid_template_columns": null,
      "grid_template_rows": null,
      "height": null,
      "justify_content": null,
      "justify_items": null,
      "left": null,
      "margin": null,
      "max_height": null,
      "max_width": null,
      "min_height": null,
      "min_width": null,
      "object_fit": null,
      "object_position": null,
      "order": null,
      "overflow": null,
      "overflow_x": null,
      "overflow_y": null,
      "padding": null,
      "right": null,
      "top": null,
      "visibility": null,
      "width": null
     }
    },
    "f959c57f2f94471c9b5d800b644d69db": {
     "model_module": "@jupyter-widgets/controls",
     "model_module_version": "1.5.0",
     "model_name": "FloatProgressModel",
     "state": {
      "_dom_classes": [],
      "_model_module": "@jupyter-widgets/controls",
      "_model_module_version": "1.5.0",
      "_model_name": "FloatProgressModel",
      "_view_count": null,
      "_view_module": "@jupyter-widgets/controls",
      "_view_module_version": "1.5.0",
      "_view_name": "ProgressView",
      "bar_style": "success",
      "description": "",
      "description_tooltip": null,
      "layout": "IPY_MODEL_de6e0370fdb54e4f88a1b3b6f39ca276",
      "max": 100,
      "min": 0,
      "orientation": "horizontal",
      "style": "IPY_MODEL_991f091932664e3e8fff4b579b0adb71",
      "value": 100
     }
    }
   }
  }
 },
 "nbformat": 4,
 "nbformat_minor": 0
}
