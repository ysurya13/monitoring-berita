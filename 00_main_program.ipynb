{
 "cells": [
  {
   "cell_type": "markdown",
   "metadata": {
    "id": "nl15yqDXsRcB"
   },
   "source": [
    "# SETTING ENVIRONMENT\n"
   ]
  },
  {
   "cell_type": "code",
   "execution_count": 1,
   "metadata": {
    "colab": {
     "base_uri": "https://localhost:8080/"
    },
    "executionInfo": {
     "elapsed": 11999,
     "status": "ok",
     "timestamp": 1758707035633,
     "user": {
      "displayName": "Monitoring Berita",
      "userId": "16755502473357078001"
     },
     "user_tz": -420
    },
    "id": "f8BqutX0SOd1",
    "outputId": "59a661d0-ddbb-412c-e919-2d09d938a9b6"
   },
   "outputs": [
    {
     "data": {
      "text/plain": [
       "\"# mount the colab with google drive\\nfrom google.colab import drive\\ndrive.mount('/content/drive')\""
      ]
     },
     "execution_count": 1,
     "metadata": {},
     "output_type": "execute_result"
    }
   ],
   "source": [
    "\"\"\"# mount the colab with google drive\n",
    "from google.colab import drive\n",
    "drive.mount('/content/drive')\"\"\""
   ]
  },
  {
   "cell_type": "code",
   "execution_count": 2,
   "metadata": {
    "executionInfo": {
     "elapsed": 125,
     "status": "ok",
     "timestamp": 1758707035761,
     "user": {
      "displayName": "Monitoring Berita",
      "userId": "16755502473357078001"
     },
     "user_tz": -420
    },
    "id": "eLOguPRQSRLN"
   },
   "outputs": [],
   "source": [
    "# set folder tempat kerja (current working directory)\n",
    "import os\n",
    "cwd = '/Users/yusufpradana/Library/CloudStorage/OneDrive-Personal/Pekerjaan BMN/05. 2025/98_monitoring_berita/monitoring-berita'\n",
    "# cwd = '/content/drive/MyDrive/Monitoring Berita'\n",
    "\n",
    "os.chdir(cwd)"
   ]
  },
  {
   "cell_type": "markdown",
   "metadata": {
    "id": "6ELnJl6msIPe"
   },
   "source": [
    "# INPUT PARAMETER PENCARIAN"
   ]
  },
  {
   "cell_type": "code",
   "execution_count": 3,
   "metadata": {
    "executionInfo": {
     "elapsed": 7,
     "status": "ok",
     "timestamp": 1758707067883,
     "user": {
      "displayName": "Monitoring Berita",
      "userId": "16755502473357078001"
     },
     "user_tz": -420
    },
    "id": "Ngu4o4ibVA_7"
   },
   "outputs": [],
   "source": [
    "# AI Model (deepseek/openai)\n",
    "model_name          = \"deepseek\"\n",
    "# Model version (openai only: gpt-3.5-turbo/gpt-4o-mini/gpt-5-nano/gpt-5-mini/gpt-5)\n",
    "model_version       = \"gpt-5-nano\"\n",
    "# Tanggal awal pencarian berita [YYYY-MM-DD]\n",
    "start_date          = \"2025-09-28\"\n",
    "# Tanggal akhir pencarian berita\n",
    "end_date            = \"2025-10-01\"\n",
    "# Keywords pencarian berita\n",
    "keywords_pencarian  = [\"purbaya rokok ilegal\", \"rokok ilegal\"]\n",
    "# Keywords analisis topic\n",
    "keywords_topic      = [\"rokok ilegal\", \"makan bergizi gratis\", \"tax amnesty\", \"sidak BNI\", 'lainnya']\n",
    "# Jumlah halaman pencarian\n",
    "page_length         = 2"
   ]
  },
  {
   "cell_type": "markdown",
   "metadata": {
    "id": "wU3w7Y3nsMDO"
   },
   "source": [
    "### Menyimpan Parameter Pencarian"
   ]
  },
  {
   "cell_type": "code",
   "execution_count": 4,
   "metadata": {},
   "outputs": [],
   "source": [
    "# tandai waktu mulai proses\n",
    "import time \n",
    "start_process_time = time.time()"
   ]
  },
  {
   "cell_type": "code",
   "execution_count": 5,
   "metadata": {
    "executionInfo": {
     "elapsed": 16,
     "status": "ok",
     "timestamp": 1758707077919,
     "user": {
      "displayName": "Monitoring Berita",
      "userId": "16755502473357078001"
     },
     "user_tz": -420
    },
    "id": "Iz2G1ZfRU5M-"
   },
   "outputs": [],
   "source": [
    "from datetime import datetime, timedelta\n",
    "\n",
    "# Konversi string ke datetime\n",
    "start = datetime.strptime(start_date, \"%Y-%m-%d\")\n",
    "end = datetime.strptime(end_date, \"%Y-%m-%d\")\n",
    "\n",
    "# Buat list tanggal dari end_date ke start_date (descending)\n",
    "search_date = [(end - timedelta(days=i)).strftime(\"%Y-%m-%d\")\n",
    "               for i in range((end - start).days + 1)]"
   ]
  },
  {
   "cell_type": "code",
   "execution_count": 6,
   "metadata": {
    "colab": {
     "base_uri": "https://localhost:8080/"
    },
    "executionInfo": {
     "elapsed": 408,
     "status": "ok",
     "timestamp": 1758707078338,
     "user": {
      "displayName": "Monitoring Berita",
      "userId": "16755502473357078001"
     },
     "user_tz": -420
    },
    "id": "_doiDwPTSd9O",
    "outputId": "c4235f93-a13a-41b3-9312-57a09b667ab2"
   },
   "outputs": [
    {
     "name": "stdout",
     "output_type": "stream",
     "text": [
      "Config.json berhasil diperbarui: config.json\n"
     ]
    }
   ],
   "source": [
    "import json\n",
    "from pathlib import Path\n",
    "\n",
    "config_path = Path(\"config.json\")\n",
    "\n",
    "# Data baru yang ingin disimpan/diupdate\n",
    "variabel = {\n",
    "    \"search_date\": search_date,\n",
    "    \"keywords\": keywords_pencarian,\n",
    "    \"topic_keywords\":keywords_topic,\n",
    "    \"max_page_length\": page_length,\n",
    "    \"AI_name\": model_name,\n",
    "    \"model_version\": model_version\n",
    "}\n",
    "\n",
    "# Baca isi config.json lama (jika ada)\n",
    "if config_path.exists():\n",
    "    try:\n",
    "        with open(config_path, \"r\", encoding=\"utf-8\") as f:\n",
    "            config = json.load(f)\n",
    "    except Exception as e:\n",
    "        print(f\"Gagal membaca config.json: {e}\")\n",
    "        config = {}\n",
    "else:\n",
    "    config = {}\n",
    "\n",
    "# Update hanya key yang ada di `variabel`\n",
    "config.update(variabel)\n",
    "\n",
    "# Simpan kembali ke file\n",
    "with open(config_path, \"w\", encoding=\"utf-8\") as f:\n",
    "    json.dump(config, f, indent=4, ensure_ascii=False)\n",
    "\n",
    "print(f\"Config.json berhasil diperbarui: {config_path}\")\n"
   ]
  },
  {
   "cell_type": "markdown",
   "metadata": {
    "id": "ayYLnSVH_FUQ"
   },
   "source": [
    "# LANGKAH ANALISIS"
   ]
  },
  {
   "cell_type": "markdown",
   "metadata": {
    "id": "ZelF4LorrORT"
   },
   "source": [
    "## SCRAP DATA BERITA DI MEDIA ONLINE"
   ]
  },
  {
   "cell_type": "markdown",
   "metadata": {},
   "source": [
    "### Google News"
   ]
  },
  {
   "cell_type": "code",
   "execution_count": 7,
   "metadata": {},
   "outputs": [
    {
     "name": "stdout",
     "output_type": "stream",
     "text": [
      "Requirement already satisfied: googlenewsdecoder in /opt/anaconda3/lib/python3.12/site-packages (0.1.7)\n",
      "Requirement already satisfied: requests>=2.32.3 in /opt/anaconda3/lib/python3.12/site-packages (from googlenewsdecoder) (2.32.3)\n",
      "Requirement already satisfied: selectolax>=0.3.27 in /opt/anaconda3/lib/python3.12/site-packages (from googlenewsdecoder) (0.4.0)\n",
      "Requirement already satisfied: pysocks>=1.7.1 in /opt/anaconda3/lib/python3.12/site-packages (from googlenewsdecoder) (1.7.1)\n",
      "Requirement already satisfied: charset-normalizer<4,>=2 in /opt/anaconda3/lib/python3.12/site-packages (from requests>=2.32.3->googlenewsdecoder) (3.4.3)\n",
      "Requirement already satisfied: idna<4,>=2.5 in /opt/anaconda3/lib/python3.12/site-packages (from requests>=2.32.3->googlenewsdecoder) (3.7)\n",
      "Requirement already satisfied: urllib3<3,>=1.21.1 in /opt/anaconda3/lib/python3.12/site-packages (from requests>=2.32.3->googlenewsdecoder) (1.26.20)\n",
      "Requirement already satisfied: certifi>=2017.4.17 in /opt/anaconda3/lib/python3.12/site-packages (from requests>=2.32.3->googlenewsdecoder) (2025.1.31)\n"
     ]
    },
    {
     "name": "stderr",
     "output_type": "stream",
     "text": [
      "[INFO] Mulai scrape Google News RSS | queries=2 | max_items_per_query=25 | date_filters=['2025-10-01', '2025-09-30', '2025-09-29', '2025-09-28']\n",
      "[INFO] [QUERY] purbaya rokok ilegal => https://news.google.com/rss/search?q=purbaya+rokok+ilegal+when%3A7d&hl=id&gl=ID&ceid=ID:id\n",
      "[INFO] [QUERY] rokok ilegal => https://news.google.com/rss/search?q=rokok+ilegal+when%3A7d&hl=id&gl=ID&ceid=ID:id\n"
     ]
    },
    {
     "name": "stdout",
     "output_type": "stream",
     "text": [
      "Decoded URL: https://ekbis.sindonews.com/read/1626051/34/purbaya-bakal-sikat-rokok-ilegal-seberapa-parah-peredarannya-1759046994\n",
      "Decoded URL: https://surabaya.kompas.com/read/2025/10/01/111353878/kiai-jatim-dukung-menkeu-purbaya-berantas-rokok-ilegal\n",
      "Decoded URL: https://pasardana.id/news/2025/9/29/rencana-menkeu-purbaya-buat-para-penjual-rokok-ilegal/\n",
      "Decoded URL: https://www.pajak.com/pajak/penindakan-rokok-ilegal-bakal-semakin-diperketat-purbaya-jadi-jangan-main-main/\n",
      "Decoded URL: https://www.metrotvnews.com/play/KYVC4EaR-lawan-produk-ilegal-menkeu-purbaya-tak-naikkan-cukai-rokok-pada-2026\n",
      "Decoded URL: https://kumparan.com/kumparanbisnis/purbaya-diminta-gempur-rokok-ilegal-bea-cukai-kejar-sampai-ke-e-commerce-25wTqv6LRis\n",
      "Decoded URL: https://www.cnbcindonesia.com/news/20250930135151-4-671543/tak-naikkan-cukai-rokok-2026-kantor-purbaya-dibanjiri-karangan-bunga\n",
      "Decoded URL: https://news.ddtc.co.id/berita/nasional/1814109/dikritik-karena-tak-naikkan-tarif-cukai-rokok-begini-respons-purbaya\n",
      "Decoded URL: https://www.cnbcindonesia.com/news/20251001074810-4-671730/purbaya-soal-cukai-rokok-saya-tak-mau-industri-mati-tapi-ilegal-hidup\n",
      "Decoded URL: https://www.cnbcindonesia.com/news/20251001072528-4-671724/cukai-rokok-2026-tidak-naik-ekonom-purbaya-benar-ini-angin-segar\n",
      "Decoded URL: https://www.cnbcindonesia.com/news/20250929201058-4-671319/purbaya-umumkan-cukai-rokok-2026-tak-naik-airlangga-bagus\n",
      "Decoded URL: https://kumparan.com/kumparanbisnis/ketua-komisi-xi-dpr-minta-purbaya-gempur-praktik-rokok-ilegal-25wOoSLlaNg\n",
      "Decoded URL: https://www.tempo.co/ekonomi/keputusan-menteri-purbaya-tidak-menaikkan-cukai-rokok-dipersoalkan-2074902\n",
      "Decoded URL: https://nasional.kontan.co.id/news/cukai-rokok-tak-naik-tahun-depan-menkeu-purbaya-fokus-lakukan-ini\n",
      "Decoded URL: https://m.rctiplus.com/news/detail/ekonomi/5237549/purbaya-larang-rokok-ilegal-1-oktober-2025-hingga-diprotes-hotman-paris--ini-4-faktanya\n",
      "Decoded URL: https://www.cnbcindonesia.com/news/20250930181235-4-671656/purbaya-tak-naikkan-cukai-rokok-masyarakat-perlu-penghidupan\n",
      "Decoded URL: https://ekonomi.republika.co.id/berita/t3ej9h484/dukung-kebijakan-menkeu-purbaya-indef-singgung-fenomena-rokok-ilegal\n",
      "Decoded URL: https://www.cnbcindonesia.com/news/20250930140029-7-671546/potret-kantor-purbaya-dibanjiri-karangan-bunga-gara-gara-cukai-rokok\n",
      "Decoded URL: https://www.cnbcindonesia.com/news/20250930175926-4-671650/kemenkeu-dibanjiri-karangan-bunga-soal-cukai-rokok-ini-kata-purbaya\n",
      "Decoded URL: https://finance.detik.com/industri/d-8135831/kemenperin-happy-purbaya-tak-naikkan-tarif-cukai-rokok-tahun-depan\n",
      "Decoded URL: https://kaltimpost.jawapos.com/nasional/2386640196/purbaya-tegas-larang-rokok-ilegal-mulai-1-oktober-2025-warung-hingga-tokopedia-wajib-patuh\n",
      "Decoded URL: https://kumparan.com/kumparanbisnis/purbaya-pastikan-sidak-rokok-impor-ilegal-tak-ganggu-operasional-25vaWNIlzKQ\n",
      "Decoded URL: https://www.tempo.co/ekonomi/cukai-rokok-tak-naik-ekonom-penerimaan-bergantung-pada-penertiban-rokok-ilegal-2074622\n",
      "Decoded URL: https://www.pajak.com/pajak/menkeu-purbaya-pastikan-tarif-cukai-rokok-tak-naik-pada-2026-ini-alasannya/\n",
      "Decoded URL: https://economy.okezone.com/read/2025/09/29/320/3172951/4-fakta-cukai-rokok-2026-tak-naik-purbaya-fokus-berantas-rokok-ilegal\n",
      "Decoded URL: https://jogja.polri.go.id/polda/tribrata-news/online/detail/polresta-sleman-bersama-bea-cukai-dan-instansi-terkait-gencarkan-operasi-rokok-ilegal.html\n",
      "Decoded URL: https://berita.batangkab.go.id/?p=1&id=14295\n",
      "Decoded URL: https://www.tempo.co/ekonomi/bea-cukai-beberkan-penyebab-lonjakan-peredaran-rokok-ilegal-di-jawa-barat-2074782\n",
      "Decoded URL: https://www.metrotvnews.com/read/NA0CEWee-bea-cukai-aceh-sita-34-300-batang-rokok-ilegal-dalam-dua-pekan\n",
      "Decoded URL: https://www.cnbcindonesia.com/news/20250929172147-4-671235/apindo-sebut-penjualan-rokok-ilegal-di-jantung-jakarta-makin-berani\n",
      "Decoded URL: https://www.antarafoto.com/id/view/2635209/bea-cukai-sita-15-juta-batang-rokok-ilegal\n",
      "Decoded URL: https://rri.co.id/daerah/1874681/sebanyak-3-6-juta-batang-rokok-ilegal-kembali-diamankan\n",
      "Decoded URL: https://jateng.antaranews.com/berita/602153/pemkab-batang-sita-3100-batang-rokok-ilegal\n",
      "Decoded URL: https://www.cnnindonesia.com/ekonomi/20250929131723-532-1278848/bea-cukai-beber-modus-jual-rokok-ilegal-dipalsukan-jadi-pakaian-dalam\n",
      "Decoded URL: https://beritajatim.com/rokok-ilegal-lumajang-satpol-pp-sita-7034-bungkus\n",
      "Decoded URL: https://jogjapolitan.harianjogja.com/read/2025/10/01/511/1230104/satpol-pp-bantul-amankan-43160-batang-rokok-ilegal\n",
      "Decoded URL: https://www.cnbcindonesia.com/news/20250930135151-4-671543/tak-naikkan-cukai-rokok-2026-kantor-purbaya-dibanjiri-karangan-bunga\n",
      "Decoded URL: https://infopublik.id/kategori/nusantara/939117/index.html\n",
      "Decoded URL: https://www.cnbcindonesia.com/tech/20250930080129-37-671349/modus-pedagang-ecommerce-rokok-ilegal-dijual-jadi-pakaian-dalam\n",
      "Decoded URL: https://www.tempo.co/ekonomi/cukai-rokok-tak-naik-ekonom-penerimaan-bergantung-pada-penertiban-rokok-ilegal-2074622\n",
      "Decoded URL: https://rri.co.id/info-pemda/1865499/pedagang-diedukasi-rokok-ilegal-diamankan\n",
      "Decoded URL: https://surabaya.kompas.com/read/2025/10/01/111353878/kiai-jatim-dukung-menkeu-purbaya-berantas-rokok-ilegal\n",
      "Decoded URL: https://jatim.antaranews.com/berita/982257/satpol-pp-kabupaten-kediri-sita-ratusan-bungkus-rokok-ilegal\n",
      "Decoded URL: https://investortrust.id/business/80620/pengusaha-ungkap-kerugian-negara-akibat-rokok-ilegal-bisa-capai-rp-15-triliun\n",
      "Decoded URL: https://validnews.id/ekonomi/kemenperin-susun-aturan-baru-untuk-berantas-peredaran-rokok-ilegal\n",
      "Decoded URL: https://validnews.id/ekonomi/apindo-geram-rokok-ilegal-dijual-terbuka-dekat-pusat-pemerintah\n",
      "Decoded URL: https://www.detik.com/jatim/berita/d-8137673/ulama-jatim-dukung-menkeu-berantas-rokok-ilegal\n",
      "Decoded URL: https://kupang.antaranews.com/berita/170337/bea-cukai-labuan-bajo-gencarkan-penindakan-rokok-ilegal\n",
      "Decoded URL: https://kumparan.com/kumparanbisnis/purbaya-diminta-gempur-rokok-ilegal-bea-cukai-kejar-sampai-ke-e-commerce-25wTqv6LRis\n",
      "Decoded URL: https://kabarbaik.co/pemkab-pasuruan-stop-peredaran-rokok-ilegal-2/\n"
     ]
    },
    {
     "name": "stderr",
     "output_type": "stream",
     "text": [
      "[INFO] Selesai. Tersimpan: /Users/yusufpradana/Library/CloudStorage/OneDrive-Personal/Pekerjaan BMN/05. 2025/98_monitoring_berita/monitoring-berita/daftar_berita/google_news_rss.xlsx (50 baris)\n"
     ]
    }
   ],
   "source": [
    "file_loc = os.path.join(cwd, 'tarik_daftar_berita', 'list_googlenews.ipynb')\n",
    "\n",
    "%run \"$file_loc\""
   ]
  },
  {
   "cell_type": "markdown",
   "metadata": {
    "id": "PgAoP36AsoBi"
   },
   "source": [
    "## MENGGABUNGKAN DATA"
   ]
  },
  {
   "cell_type": "markdown",
   "metadata": {},
   "source": [
    "### Konsolidasi Data Url Berita"
   ]
  },
  {
   "cell_type": "code",
   "execution_count": 10,
   "metadata": {
    "colab": {
     "base_uri": "https://localhost:8080/",
     "height": 678,
     "referenced_widgets": [
      "03e742985f574beaa5d0606d9015fadb",
      "1944dc8d32c74470aa729da06d606f7c",
      "efc062bd85a4423ba661c822648e9a11",
      "0229bd90bd3d46b59c025a905c5b9ce2",
      "f1016778e6bc4555ba99c034304e0c64",
      "81450a4bf4bf4353bc4794a2537493ec",
      "929fe39a058f4edfa29150abe40f1feb",
      "659a9c31541049f0beaad3723ac434bb",
      "6b3a08831def4c67b608dfa7c2001e11",
      "498f085853c24829affb231886434e6e",
      "9d8f96ed7e8244ee9e50652f262e08e2"
     ]
    },
    "executionInfo": {
     "elapsed": 4193,
     "status": "ok",
     "timestamp": 1758707738875,
     "user": {
      "displayName": "Monitoring Berita",
      "userId": "16755502473357078001"
     },
     "user_tz": -420
    },
    "id": "EiYxfVGUtVvl",
    "outputId": "ad5a6d55-a384-4eb2-a034-428f60475b22"
   },
   "outputs": [
    {
     "data": {
      "application/vnd.jupyter.widget-view+json": {
       "model_id": "ae43876fc3d14c41b214f30a905b03b0",
       "version_major": 2,
       "version_minor": 0
      },
      "text/plain": [
       "Membaca Excel:   0%|          | 0/1 [00:00<?, ?file/s]"
      ]
     },
     "metadata": {},
     "output_type": "display_data"
    },
    {
     "name": "stderr",
     "output_type": "stream",
     "text": [
      "[INFO] Duplikat dihapus: 4 baris | Total akhir: 46\n",
      "[INFO] Selesai gabung. Total baris: 46 | File terbaca: 1\n",
      "[INFO] Normalisasi selesai. Total baris: 46 | Berhasil: 46 | Gagal: 0\n",
      "[INFO] Filter judul < 40 chars: dihapus 0 baris | sisa: 46\n",
      "[INFO] Config berhasil diperbarui: /Users/yusufpradana/Library/CloudStorage/OneDrive-Personal/Pekerjaan BMN/05. 2025/98_monitoring_berita/monitoring-berita/config.json\n"
     ]
    },
    {
     "name": "stdout",
     "output_type": "stream",
     "text": [
      "File berhasil disimpan: /Users/yusufpradana/Library/CloudStorage/OneDrive-Personal/Pekerjaan BMN/05. 2025/98_monitoring_berita/monitoring-berita/konsolidasi_berita/hasil_gabungan_20251001_204151.csv\n"
     ]
    }
   ],
   "source": [
    "file_loc = os.path.join(cwd, '01_konsolidasi_data_berita.ipynb')\n",
    "\n",
    "%run \"$file_loc\""
   ]
  },
  {
   "cell_type": "markdown",
   "metadata": {
    "id": "-BWB0loXQGL-"
   },
   "source": [
    "## BACA BERITA"
   ]
  },
  {
   "cell_type": "markdown",
   "metadata": {},
   "source": [
    "### Membaca Data Url Berita"
   ]
  },
  {
   "cell_type": "code",
   "execution_count": 43,
   "metadata": {
    "colab": {
     "base_uri": "https://localhost:8080/",
     "height": 217,
     "referenced_widgets": [
      "be2c2a371fd746f1a9c54d1f118a2390",
      "5886680b1a4d4c20adfff9f10b4eb80e",
      "f959c57f2f94471c9b5d800b644d69db",
      "50cf6eac6fc646a5ac2c856d5d6b8c93",
      "4d457ba32dc047fa94cfbcd12af7a7b5",
      "280f90cef3bf4a64855f7d5800d45307",
      "e0a7e6d3b9d743dbbc8939c2fa1a235d",
      "de6e0370fdb54e4f88a1b3b6f39ca276",
      "991f091932664e3e8fff4b579b0adb71",
      "99c7711a32504f1280c53abfd6b839c5",
      "ccdfe10894894e65802e9958e40dffb0"
     ]
    },
    "executionInfo": {
     "elapsed": 83900,
     "status": "ok",
     "timestamp": 1758707883851,
     "user": {
      "displayName": "Monitoring Berita",
      "userId": "16755502473357078001"
     },
     "user_tz": -420
    },
    "id": "rohdMRa1RS6_",
    "outputId": "e272c907-6209-4a93-9fff-a1545c702b64"
   },
   "outputs": [
    {
     "name": "stderr",
     "output_type": "stream",
     "text": [
      "08:56:05 | INFO | Total URL untuk diproses: 414 (limit=None)\n"
     ]
    },
    {
     "data": {
      "application/vnd.jupyter.widget-view+json": {
       "model_id": "b839e422f0cf40a09135be1d25629fd0",
       "version_major": 2,
       "version_minor": 0
      },
      "text/plain": [
       "Scraping artikel:   0%|          | 0/414 [00:00<?, ?it/s]"
      ]
     },
     "metadata": {},
     "output_type": "display_data"
    },
    {
     "name": "stderr",
     "output_type": "stream",
     "text": [
      "08:56:53 | WARNING | Attempt 1 failed for https://ekonomi.espos.id/properti-jadi-salah-satu-penopang-purbaya-yakin-ekonomi-tumbuh-55-persen-2147001: HTTPSConnectionPool(host='ekonomi.espos.id', port=443): Max retries exceeded with url: /properti-jadi-salah-satu-penopang-purbaya-yakin-ekonomi-tumbuh-55-persen-2147001 (Caused by SSLError(SSLError(1, '[SSL: SSLV3_ALERT_HANDSHAKE_FAILURE] sslv3 alert handshake failure (_ssl.c:1000)')))\n",
      "08:56:54 | WARNING | Attempt 2 failed for https://ekonomi.espos.id/properti-jadi-salah-satu-penopang-purbaya-yakin-ekonomi-tumbuh-55-persen-2147001: HTTPSConnectionPool(host='ekonomi.espos.id', port=443): Max retries exceeded with url: /properti-jadi-salah-satu-penopang-purbaya-yakin-ekonomi-tumbuh-55-persen-2147001 (Caused by SSLError(SSLError(1, '[SSL: SSLV3_ALERT_HANDSHAKE_FAILURE] sslv3 alert handshake failure (_ssl.c:1000)')))\n",
      "08:56:54 | ERROR | Failed to fetch https://ekonomi.espos.id/properti-jadi-salah-satu-penopang-purbaya-yakin-ekonomi-tumbuh-55-persen-2147001: HTTPSConnectionPool(host='ekonomi.espos.id', port=443): Max retries exceeded with url: /properti-jadi-salah-satu-penopang-purbaya-yakin-ekonomi-tumbuh-55-persen-2147001 (Caused by SSLError(SSLError(1, '[SSL: SSLV3_ALERT_HANDSHAKE_FAILURE] sslv3 alert handshake failure (_ssl.c:1000)')))\n",
      "08:57:02 | WARNING | Attempt 1 failed for https://fahum.umsu.ac.id/info/bansos-subsidi-2026-dapat-kucuran-rp900-t-ini-kata-purbaya/: HTTPSConnectionPool(host='fahum.umsu.ac.id', port=443): Read timed out. (read timeout=8)\n",
      "08:57:05 | WARNING | Attempt 2 failed for https://fahum.umsu.ac.id/info/bansos-subsidi-2026-dapat-kucuran-rp900-t-ini-kata-purbaya/: HTTPSConnectionPool(host='fahum.umsu.ac.id', port=443): Read timed out. (read timeout=2)\n",
      "08:57:05 | ERROR | Failed to fetch https://fahum.umsu.ac.id/info/bansos-subsidi-2026-dapat-kucuran-rp900-t-ini-kata-purbaya/: HTTPSConnectionPool(host='fahum.umsu.ac.id', port=443): Read timed out. (read timeout=2)\n",
      "08:58:17 | INFO | \n",
      "Summary status:\n",
      "status\n",
      "ok_site_specific    226\n",
      "ok_trafilatura      186\n",
      "fetch_failed          1\n",
      "timeout_fetch         1\n",
      "Name: count, dtype: int64\n",
      "08:58:17 | INFO | Timeout sample rows: 1\n",
      "08:58:17 | INFO | Tersimpan: /Users/yusufpradana/Library/CloudStorage/OneDrive-Personal/Pekerjaan BMN/05. 2025/98_monitoring_berita/monitoring-berita/hasil_baca_berita/hasil_scraping_artikel_20251001_085817.csv\n",
      "08:58:17 | INFO | Berhasil update config.json di /Users/yusufpradana/Library/CloudStorage/OneDrive-Personal/Pekerjaan BMN/05. 2025/98_monitoring_berita/monitoring-berita/config.json\n"
     ]
    }
   ],
   "source": [
    "file_loc = os.path.join(cwd, '02_baca_link_berita.ipynb')\n",
    "\n",
    "%run \"$file_loc\""
   ]
  },
  {
   "cell_type": "markdown",
   "metadata": {
    "id": "btzQFyReOzDh"
   },
   "source": [
    "## LABELLING ISU\n"
   ]
  },
  {
   "cell_type": "code",
   "execution_count": 11,
   "metadata": {
    "colab": {
     "base_uri": "https://localhost:8080/",
     "height": 156
    },
    "executionInfo": {
     "elapsed": 2381,
     "status": "ok",
     "timestamp": 1758707993749,
     "user": {
      "displayName": "Monitoring Berita",
      "userId": "16755502473357078001"
     },
     "user_tz": -420
    },
    "id": "wqL0C4I8O4D1",
    "outputId": "451c15a5-951e-4a1d-e142-4d8750dba9e4"
   },
   "outputs": [
    {
     "name": "stdout",
     "output_type": "stream",
     "text": [
      "Normalisasi tanggal_berita: total=46, sukses=46, gagal=0 (0.0%)\n",
      "Filter tanggal: 2025-09-28 s.d 2025-10-01 (dari 46 -> 46)\n",
      "Labeling selesai. Jumlah baris: 46\n"
     ]
    },
    {
     "data": {
      "text/html": [
       "<div>\n",
       "<style scoped>\n",
       "    .dataframe tbody tr th:only-of-type {\n",
       "        vertical-align: middle;\n",
       "    }\n",
       "\n",
       "    .dataframe tbody tr th {\n",
       "        vertical-align: top;\n",
       "    }\n",
       "\n",
       "    .dataframe thead th {\n",
       "        text-align: right;\n",
       "    }\n",
       "</style>\n",
       "<table border=\"1\" class=\"dataframe\">\n",
       "  <thead>\n",
       "    <tr style=\"text-align: right;\">\n",
       "      <th></th>\n",
       "      <th>kategori_isu</th>\n",
       "      <th>jumlah</th>\n",
       "    </tr>\n",
       "  </thead>\n",
       "  <tbody>\n",
       "    <tr>\n",
       "      <th>0</th>\n",
       "      <td>Isu Kemenkeu</td>\n",
       "      <td>44</td>\n",
       "    </tr>\n",
       "    <tr>\n",
       "      <th>1</th>\n",
       "      <td>Isu Lainnya</td>\n",
       "      <td>2</td>\n",
       "    </tr>\n",
       "  </tbody>\n",
       "</table>\n",
       "</div>"
      ],
      "text/plain": [
       "   kategori_isu  jumlah\n",
       "0  Isu Kemenkeu      44\n",
       "1   Isu Lainnya       2"
      ]
     },
     "metadata": {},
     "output_type": "display_data"
    },
    {
     "name": "stdout",
     "output_type": "stream",
     "text": [
      "Tersimpan: /Users/yusufpradana/Library/CloudStorage/OneDrive-Personal/Pekerjaan BMN/05. 2025/98_monitoring_berita/monitoring-berita/hasil_labeling/hasil_labeling_20251001_204538.csv & /Users/yusufpradana/Library/CloudStorage/OneDrive-Personal/Pekerjaan BMN/05. 2025/98_monitoring_berita/monitoring-berita/hasil_labeling/hasil_labeling_20251001_204538.xlsx\n",
      "Berhasil update config.json di /Users/yusufpradana/Library/CloudStorage/OneDrive-Personal/Pekerjaan BMN/05. 2025/98_monitoring_berita/monitoring-berita/config.json\n"
     ]
    }
   ],
   "source": [
    "file_loc = os.path.join(cwd, '03_labelling_awal.ipynb')\n",
    "\n",
    "%run \"$file_loc\""
   ]
  },
  {
   "cell_type": "markdown",
   "metadata": {
    "id": "Yh3Y5kSakfqt"
   },
   "source": [
    "## ANALISIS DENGAN GEN AI"
   ]
  },
  {
   "cell_type": "markdown",
   "metadata": {},
   "source": [
    "### Analisis Berita Kemenkeu, Internasional, dan Nasional"
   ]
  },
  {
   "cell_type": "code",
   "execution_count": 12,
   "metadata": {
    "id": "hFf-5-oyke-c"
   },
   "outputs": [
    {
     "name": "stdout",
     "output_type": "stream",
     "text": [
      "API keys - Deepseek: OK | OpenAI: OK\n",
      "Provider yang dipakai: deepseek\n"
     ]
    },
    {
     "data": {
      "application/vnd.jupyter.widget-view+json": {
       "model_id": "2f9c19430cf04c7eaffdad3d59d1b9cb",
       "version_major": 2,
       "version_minor": 0
      },
      "text/plain": [
       "Analisis berita (parallel deepseek):   0%|          | 0/44 [00:00<?, ?berita/s]"
      ]
     },
     "metadata": {},
     "output_type": "display_data"
    },
    {
     "name": "stderr",
     "output_type": "stream",
     "text": [
      "[WARNING] Attempt 1 provider=deepseek gagal: Tidak ditemukan blok JSON dalam respons.\n",
      "[WARNING] Attempt 2 provider=deepseek gagal: Tidak ditemukan blok JSON dalam respons.\n",
      "[WARNING] Attempt 3 provider=deepseek gagal: Tidak ditemukan blok JSON dalam respons.\n",
      "[INFO] Berhasil update config.json di config.json\n"
     ]
    },
    {
     "name": "stdout",
     "output_type": "stream",
     "text": [
      "Pipeline selesai. Hasil disimpan di 00_hasil_analisis/seluruh_berita/analisis_ai_20251001_deepseek_default.csv\n",
      "Monitoring sementara: {'execution_datetime': '2025-10-01 20:47:36', 'provider': 'deepseek', 'model_name': 'deepseek-chat', 'elapsed_seconds': 104.92, 'output_file': '00_hasil_analisis/seluruh_berita/analisis_ai_20251001_deepseek_default.csv', 'n_rows_result_df': 44}\n",
      "Monitoring log ditulis/ditambahkan ke monitoring_log_genai.csv\n",
      "    execution_datetime  provider     model_name  elapsed_seconds  \\\n",
      "0  2025-10-01 20:47:36  deepseek  deepseek-chat           104.92   \n",
      "\n",
      "                                                                  output_file  \\\n",
      "0  00_hasil_analisis/seluruh_berita/analisis_ai_20251001_deepseek_default.csv   \n",
      "\n",
      "   n_rows_in_memory  n_rows_output_file  \n",
      "0                44                  44  \n"
     ]
    }
   ],
   "source": [
    "file_loc = os.path.join(cwd, '04_analisis_dengan_genAI.ipynb')\n",
    "\n",
    "%run \"$file_loc\""
   ]
  },
  {
   "cell_type": "markdown",
   "metadata": {},
   "source": [
    "### Analisis Berita Penting"
   ]
  },
  {
   "cell_type": "code",
   "execution_count": 13,
   "metadata": {},
   "outputs": [
    {
     "name": "stderr",
     "output_type": "stream",
     "text": [
      "[INFO] ✅ AI Configuration loaded: DEEPSEEK\n",
      "[INFO]    Model: deepseek-chat\n",
      "[INFO]    Temperature: 0.2\n",
      "[INFO]    Max Tokens: 500\n"
     ]
    },
    {
     "name": "stdout",
     "output_type": "stream",
     "text": [
      "=== KONFIGURASI AI MODEL ===\n"
     ]
    },
    {
     "name": "stderr",
     "output_type": "stream",
     "text": [
      "[INFO] HTTP Request: POST https://api.deepseek.com/v1/chat/completions \"HTTP/1.1 200 OK\"\n",
      "[INFO] ✅ DEEPSEEK API connection successful\n",
      "[INFO] HTTP Request: POST https://api.deepseek.com/v1/chat/completions \"HTTP/1.1 200 OK\"\n"
     ]
    },
    {
     "name": "stdout",
     "output_type": "stream",
     "text": [
      "🎯 AI Model: DEEPSEEK (deepseek-chat)\n",
      "🔧 Temperature: 0.2\n",
      "📝 Max Tokens: 500\n",
      "🔑 API Key: ********************...8d74\n",
      "\n",
      "🧪 Testing AI connection...\n"
     ]
    },
    {
     "name": "stderr",
     "output_type": "stream",
     "text": [
      "[INFO] Membaca file analisis AI: 00_hasil_analisis/seluruh_berita/analisis_ai_20251001_deepseek_default.csv\n",
      "[INFO] Total berita: 44\n",
      "[INFO] Berita penting (filtered): 40\n"
     ]
    },
    {
     "name": "stdout",
     "output_type": "stream",
     "text": [
      "✅ Test Response: AI Ready!\n",
      "\n",
      "✅ AI configuration completed successfully!\n",
      "💡 Gunakan CALL_AI_MODEL(prompt) untuk memanggil AI di sel lain.\n",
      "\n",
      "📋 Environment Variables yang diset:\n",
      "   MODEL_ANALISIS = deepseek\n",
      "   AI_MODEL_NAME = deepseek-chat\n",
      "   DUMMY_MODE = 0\n",
      "Berhasil memuat 40 berita penting\n",
      "\n",
      "Sample berita penting:\n",
      "                                                                                     judul_berita  \\\n",
      "0                Purbaya Bakal Sikat Rokok Ilegal, Seberapa Parah Peredarannya? - SINDOnews Ekbis   \n",
      "16        Dukung Kebijakan Menkeu Purbaya, Indef Singgung Fenomena Rokok Ilegal - republika.co.id   \n",
      "42                                     Ulama Jatim Dukung Menkeu Berantas Rokok Ilegal - detikcom   \n",
      "39  Pengusaha Ungkap Kerugian Negara Akibat Rokok Ilegal Bisa Capai Rp 15 Triliun - InvestorTrust   \n",
      "37              Modus Pedagang Ecommerce, Rokok Ilegal Dijual Jadi Pakaian Dalam - CNBC Indonesia   \n",
      "\n",
      "   topik_llm  importance sentimen  \n",
      "0   Kemenkeu        85.0  positif  \n",
      "16  Kemenkeu        85.0  positif  \n",
      "42  Kemenkeu        85.0  positif  \n",
      "39  Kemenkeu        85.0  positif  \n",
      "37  Kemenkeu        85.0  positif  \n",
      "Kolom teks: artikel_berita_bersih, Kolom judul: judul_berita\n",
      "AI Model: DEEPSEEK (deepseek-chat)\n",
      "✅ Using pre-configured DEEPSEEK client\n",
      "Starting analysis of 40 articles using DEEPSEEK...\n"
     ]
    },
    {
     "name": "stderr",
     "output_type": "stream",
     "text": [
      "  0%|          | 0/40 [00:00<?, ?it/s][INFO] HTTP Request: POST https://api.deepseek.com/v1/chat/completions \"HTTP/1.1 200 OK\"\n",
      "[INFO] HTTP Request: POST https://api.deepseek.com/v1/chat/completions \"HTTP/1.1 200 OK\"\n",
      "[INFO] HTTP Request: POST https://api.deepseek.com/v1/chat/completions \"HTTP/1.1 200 OK\"\n",
      "  2%|▎         | 1/40 [00:08<05:27,  8.40s/it][INFO] HTTP Request: POST https://api.deepseek.com/v1/chat/completions \"HTTP/1.1 200 OK\"\n",
      "  5%|▌         | 2/40 [00:09<02:30,  3.96s/it][INFO] HTTP Request: POST https://api.deepseek.com/v1/chat/completions \"HTTP/1.1 200 OK\"\n",
      "  8%|▊         | 3/40 [00:10<01:37,  2.62s/it][INFO] HTTP Request: POST https://api.deepseek.com/v1/chat/completions \"HTTP/1.1 200 OK\"\n",
      " 10%|█         | 4/40 [00:17<02:34,  4.29s/it][INFO] HTTP Request: POST https://api.deepseek.com/v1/chat/completions \"HTTP/1.1 200 OK\"\n",
      " 12%|█▎        | 5/40 [00:17<01:45,  3.00s/it][INFO] HTTP Request: POST https://api.deepseek.com/v1/chat/completions \"HTTP/1.1 200 OK\"\n",
      " 15%|█▌        | 6/40 [00:19<01:22,  2.43s/it][INFO] HTTP Request: POST https://api.deepseek.com/v1/chat/completions \"HTTP/1.1 200 OK\"\n",
      " 18%|█▊        | 7/40 [00:25<02:04,  3.78s/it][INFO] HTTP Request: POST https://api.deepseek.com/v1/chat/completions \"HTTP/1.1 200 OK\"\n",
      " 20%|██        | 8/40 [00:27<01:41,  3.18s/it][INFO] HTTP Request: POST https://api.deepseek.com/v1/chat/completions \"HTTP/1.1 200 OK\"\n",
      " 22%|██▎       | 9/40 [00:28<01:20,  2.60s/it][INFO] HTTP Request: POST https://api.deepseek.com/v1/chat/completions \"HTTP/1.1 200 OK\"\n",
      " 25%|██▌       | 10/40 [00:34<01:49,  3.66s/it][INFO] HTTP Request: POST https://api.deepseek.com/v1/chat/completions \"HTTP/1.1 200 OK\"\n",
      " 28%|██▊       | 11/40 [00:36<01:30,  3.13s/it][INFO] HTTP Request: POST https://api.deepseek.com/v1/chat/completions \"HTTP/1.1 200 OK\"\n",
      " 30%|███       | 12/40 [00:37<01:04,  2.29s/it][INFO] HTTP Request: POST https://api.deepseek.com/v1/chat/completions \"HTTP/1.1 200 OK\"\n",
      " 32%|███▎      | 13/40 [00:45<01:54,  4.23s/it][INFO] HTTP Request: POST https://api.deepseek.com/v1/chat/completions \"HTTP/1.1 200 OK\"\n",
      " 35%|███▌      | 14/40 [00:46<01:20,  3.09s/it][INFO] HTTP Request: POST https://api.deepseek.com/v1/chat/completions \"HTTP/1.1 200 OK\"\n",
      "[INFO] HTTP Request: POST https://api.deepseek.com/v1/chat/completions \"HTTP/1.1 200 OK\"\n",
      " 40%|████      | 16/40 [00:54<01:25,  3.58s/it][INFO] HTTP Request: POST https://api.deepseek.com/v1/chat/completions \"HTTP/1.1 200 OK\"\n",
      " 42%|████▎     | 17/40 [00:55<01:04,  2.80s/it][INFO] HTTP Request: POST https://api.deepseek.com/v1/chat/completions \"HTTP/1.1 200 OK\"\n",
      " 45%|████▌     | 18/40 [00:57<00:59,  2.72s/it][INFO] HTTP Request: POST https://api.deepseek.com/v1/chat/completions \"HTTP/1.1 200 OK\"\n",
      " 48%|████▊     | 19/40 [01:04<01:18,  3.74s/it][INFO] HTTP Request: POST https://api.deepseek.com/v1/chat/completions \"HTTP/1.1 200 OK\"\n",
      " 50%|█████     | 20/40 [01:05<01:00,  3.05s/it][INFO] HTTP Request: POST https://api.deepseek.com/v1/chat/completions \"HTTP/1.1 200 OK\"\n",
      " 52%|█████▎    | 21/40 [01:06<00:45,  2.38s/it][INFO] HTTP Request: POST https://api.deepseek.com/v1/chat/completions \"HTTP/1.1 200 OK\"\n",
      " 55%|█████▌    | 22/40 [01:12<01:05,  3.61s/it][INFO] HTTP Request: POST https://api.deepseek.com/v1/chat/completions \"HTTP/1.1 200 OK\"\n",
      " 57%|█████▊    | 23/40 [01:14<00:51,  3.03s/it][INFO] HTTP Request: POST https://api.deepseek.com/v1/chat/completions \"HTTP/1.1 200 OK\"\n",
      " 60%|██████    | 24/40 [01:14<00:35,  2.24s/it][INFO] HTTP Request: POST https://api.deepseek.com/v1/chat/completions \"HTTP/1.1 200 OK\"\n",
      " 62%|██████▎   | 25/40 [01:20<00:51,  3.42s/it][INFO] HTTP Request: POST https://api.deepseek.com/v1/chat/completions \"HTTP/1.1 200 OK\"\n",
      " 65%|██████▌   | 26/40 [01:23<00:46,  3.30s/it][INFO] HTTP Request: POST https://api.deepseek.com/v1/chat/completions \"HTTP/1.1 200 OK\"\n",
      " 68%|██████▊   | 27/40 [01:24<00:32,  2.48s/it][INFO] HTTP Request: POST https://api.deepseek.com/v1/chat/completions \"HTTP/1.1 200 OK\"\n",
      " 70%|███████   | 28/40 [01:30<00:41,  3.46s/it][INFO] HTTP Request: POST https://api.deepseek.com/v1/chat/completions \"HTTP/1.1 200 OK\"\n",
      " 72%|███████▎  | 29/40 [01:33<00:38,  3.52s/it][INFO] HTTP Request: POST https://api.deepseek.com/v1/chat/completions \"HTTP/1.1 200 OK\"\n",
      "[INFO] HTTP Request: POST https://api.deepseek.com/v1/chat/completions \"HTTP/1.1 200 OK\"\n",
      " 78%|███████▊  | 31/40 [01:38<00:27,  3.03s/it][INFO] HTTP Request: POST https://api.deepseek.com/v1/chat/completions \"HTTP/1.1 200 OK\"\n",
      " 80%|████████  | 32/40 [01:40<00:21,  2.72s/it][INFO] HTTP Request: POST https://api.deepseek.com/v1/chat/completions \"HTTP/1.1 200 OK\"\n",
      " 82%|████████▎ | 33/40 [01:42<00:17,  2.46s/it][INFO] HTTP Request: POST https://api.deepseek.com/v1/chat/completions \"HTTP/1.1 200 OK\"\n",
      " 85%|████████▌ | 34/40 [01:48<00:21,  3.54s/it][INFO] HTTP Request: POST https://api.deepseek.com/v1/chat/completions \"HTTP/1.1 200 OK\"\n",
      " 88%|████████▊ | 35/40 [01:50<00:15,  3.09s/it][INFO] HTTP Request: POST https://api.deepseek.com/v1/chat/completions \"HTTP/1.1 200 OK\"\n",
      " 90%|█████████ | 36/40 [01:51<00:09,  2.29s/it][INFO] HTTP Request: POST https://api.deepseek.com/v1/chat/completions \"HTTP/1.1 200 OK\"\n",
      " 92%|█████████▎| 37/40 [01:57<00:10,  3.57s/it][INFO] HTTP Request: POST https://api.deepseek.com/v1/chat/completions \"HTTP/1.1 200 OK\"\n",
      "100%|██████████| 40/40 [02:06<00:00,  3.17s/it]\n",
      "[INFO] HTTP Request: POST https://api.deepseek.com/v1/chat/completions \"HTTP/1.1 200 OK\"\n"
     ]
    },
    {
     "name": "stdout",
     "output_type": "stream",
     "text": [
      "Analysis complete: 40 articles in 126.9s\n",
      "Success: 40, Errors: 0\n",
      "AI Provider: DEEPSEEK\n",
      "\n",
      "Sample results (showing 3):\n",
      "1. Purbaya Bakal Sikat Rokok Ilegal, Seberapa Parah Peredaranny...\n",
      "   Resume: Menteri Keuangan Purbaya Yudhi Sadewa akan melakukan penindakan masif ...\n",
      "   Dampak: Positif\n",
      "2. Dukung Kebijakan Menkeu Purbaya, Indef Singgung Fenomena Rok...\n",
      "   Resume: Ekonom Indef mendukung keputusan Menkeu Purbaya yang tidak menaikkan c...\n",
      "   Dampak: Positif\n",
      "3. Ulama Jatim Dukung Menkeu Berantas Rokok Ilegal - detikcom...\n",
      "   Resume: Gus Maksum, pengasuh Ponpes Langitan Tuban, mendukung Menkeu Purbaya m...\n",
      "   Dampak: Positif\n",
      "\n",
      "File saved: 00_hasil_analisis/berita_penting/analisis_berita_penting_deepseek_20251001_204957.csv\n",
      "=== GENERATOR DAFTAR BERITA & KONTEN ===\n",
      "📊 Data tersedia: 40 berita\n",
      "Memproses 40 berita yang berhasil dianalisis...\n",
      "✅ Laporan disimpan di 00_laporan_cetak/daftar_berita_20251001_204957.txt\n",
      "📄 Total baris: 126\n",
      "\n",
      "📋 Preview laporan:\n",
      "------------------------------------------------------------\n",
      "Daftar Berita & Konten\n",
      "Rabu, 1 Oktober 2025\n",
      "Periode pantauan tanggal 30-1 September 2025 (pukul 14.00 s.d. 06.00 WIB)\n",
      "\n",
      "Media Online\n",
      "===========\n",
      "\n",
      "🟢 Purbaya Bakal Sikat Rokok Ilegal, Seberapa Parah Peredarannya? - SINDOnews Ekbis\n",
      "https://ekbis.sindonews.com/read/1626051/34/purbaya-bakal-sikat-rokok-ilegal-seberapa-parah-peredarannya-1759046994\n",
      "\n",
      "🟢 Dikritik karena Tak Naikkan Tarif Cukai Rokok, Begini Respons Purbaya - DDTCNews\n",
      "https://news.ddtc.co.id/berita/nasional/1814109/dikritik-karena-tak-naikkan-tarif-cukai-rokok-begini-respons-purbaya\n",
      "...\n",
      "[114 baris lainnya]\n",
      "------------------------------------------------------------\n",
      "\n",
      "🎯 Selesai! File tersedia di folder: 00_laporan_cetak/\n",
      "✅ Using DEEPSEEK for headline generation\n",
      "=== GENERATOR NEWS UPDATE ===\n",
      "📊 Data tersedia: 40 berita\n",
      "\n",
      "📝 Gabungan resume (11327 karakter):\n",
      "Preview: Menteri Keuangan Purbaya Yudhi Sadewa akan melakukan penindakan masif terhadap rokok ilegal untuk mengamankan penerimaan negara yang tergerus triliunan rupiah. Langkah ini juga melindungi industri rok...\n"
     ]
    },
    {
     "name": "stderr",
     "output_type": "stream",
     "text": [
      "[INFO] HTTP Request: POST https://api.deepseek.com/v1/chat/completions \"HTTP/1.1 200 OK\"\n"
     ]
    },
    {
     "name": "stdout",
     "output_type": "stream",
     "text": [
      "\n",
      "✅ News Update disimpan di: 00_laporan_cetak/news_update_general_20251001_205007.txt\n",
      "📄 Total baris: 33\n",
      "\n",
      "📋 Preview News Update:\n",
      "------------------------------------------------------------\n",
      "News Update\n",
      "Kebijakan Cukai Tembakau\n",
      "Jakarta, Rabu, 1 Oktober 2025 (Pukul 20.00 WIB)\n",
      "\n",
      "Pemberitaan terkait kebijakan cukai tembakau hari ini tercatat terdapat 40 berita (40 netral) di media online.\n",
      "\n",
      "Sorotan Media Online\n",
      "• Menkeu Purbaya akan lakukan penindakan masif terhadap rokok ilegal untuk amankan penerimaan negara.\n",
      "• Penerimaan negara tergerus triliunan rupiah akibat maraknya peredaran rokok ilegal.\n",
      "• Kebijakan tidak menaikkan cukai rokok 2026 didukung untuk lindungi industri dan lapangan kerja.\n",
      "• Bea Cukai ungkap modus rokok ilegal di e-commerce yang disamar sebagai produk lain.\n",
      "• Kerugian negara dari rokok ilegal ditaksir dapat mencapai Rp 15 triliun.\n",
      "• Bea Cukai berhasil amankan 745 juta batang rokok ilegal dalam berbagai operasi.\n",
      "• Penyelundupan 3,6 juta batang rokok ilegal di Makassar digagalkan, selamatkan potensi PNBP.\n",
      "• Peredaran rokok ilegal dilaporkan meningkat signifikan sejak tahun 2023.\n",
      "...\n",
      "[18 baris lainnya]\n",
      "------------------------------------------------------------\n",
      "\n",
      "🎯 Selesai! File tersedia di: 00_laporan_cetak/\n",
      "✅ Using DEEPSEEK for topic analysis\n",
      "=== GENERATOR LAPORAN ANALISIS MEDIA (FIXED VERSION) ===\n",
      "📊 Data tersedia: 40 berita\n",
      "📋 Topic keywords dari config: ['rokok ilegal', 'makan bergizi gratis', 'tax amnesty', 'sidak BNI', 'lainnya']\n",
      "🏷️  Berita dikelompokkan dalam 1 topik:\n",
      "   - rokok ilegal: 38 berita\n",
      "\n",
      "✅ Laporan Analisis Media disimpan di: 00_laporan_cetak/laporan_analisis_media_20251001_205014.txt\n",
      "📄 Total baris: 145\n",
      "\n",
      "📋 Preview Laporan Analisis Media:\n",
      "----------------------------------------------------------------------\n",
      "===== Page 1 =====\n",
      "\n",
      "**Laporan Analisis Media Online dan Media Sosial**\n",
      "Rabu, 1 Oktober 2025\n",
      "\n",
      "**EXECUTIVE SUMMARY**\n",
      "==================================================\n",
      "Periode pemantauan media online menunjukkan 40 berita penting yang berhasil dianalisis.\n",
      "Dari jumlah tersebut, 38 berita sesuai dengan topik yang dipantau: rokok ilegal.\n",
      "Fokus pemerintah terutama pada transparansi dan pengawasan sektor keuangan.\n",
      "Pernyataan dan kebijakan penting dari pejabat terkait terus dipantau secara intensif.\n",
      "\n",
      "**MEDIA ONLINE**\n",
      "\n",
      "**Topik Berita:** rokok ilegal\n",
      "**Tonasi Berita:** positif\n",
      "\n",
      "**Pesan Kunci dan Analisis:**\n",
      "\n",
      "**ISU KEMENKEU**\n",
      "...\n",
      "[125 baris lainnya]\n",
      "----------------------------------------------------------------------\n",
      "\n",
      "🎯 Selesai! File tersedia di: 00_laporan_cetak/\n"
     ]
    }
   ],
   "source": [
    "file_loc = os.path.join(cwd, '05_analisis_berita_penting copy.ipynb')\n",
    "\n",
    "%run \"$file_loc\""
   ]
  },
  {
   "cell_type": "markdown",
   "metadata": {},
   "source": [
    "# Visualisasi Data"
   ]
  },
  {
   "cell_type": "code",
   "execution_count": 19,
   "metadata": {},
   "outputs": [
    {
     "name": "stdout",
     "output_type": "stream",
     "text": [
      "✅ Konfigurasi berhasil dimuat dari config.json\n",
      "   ✅ File berita penting tersedia\n",
      "✅ Data berita penting berhasil dimuat!\n",
      "\n",
      "✅ Data siap untuk divisualisasikan!\n",
      "🔄 Memulai preprocessing data untuk visualisasi...\n",
      "📅 Konversi format tanggal...\n",
      "   ✅ Konversi tanggal berhasil\n",
      "🧹 Cleaning teks untuk word cloud...\n",
      "   ✅ Text cleaning berhasil\n",
      "📊 Grouping data untuk analisis...\n",
      "   ✅ Grouping data berhasil\n",
      "📈 Perhitungan statistik...\n",
      "   ✅ Statistik berhasil dihitung\n",
      "✅ Preprocessing selesai!\n",
      "\n",
      "📋 Ringkasan Data Processed:\n",
      "   • Total artikel: 40\n",
      "   • Rentang tanggal: 4 hari\n",
      "   • Rata-rata artikel/hari: 10.0\n",
      "   • Jumlah media: 28\n",
      "   • Kata unik untuk word cloud: 48\n",
      "\n",
      "🎯 Data siap untuk visualisasi!\n",
      "   📊 Sentiment distribution: 3 kategori\n",
      "   📅 Timeline data: 12 data points\n",
      "   🏷️ Topic data: 1 topik\n",
      "   🌐 Media sources: 10 media\n",
      "✅ Fungsi-fungsi visualisasi telah didefinisikan!\n",
      "🚀 Memulai pembuatan semua visualisasi...\n",
      "============================================================\n",
      "📊 Dataset Overview:\n",
      "   • Periode: 2025-09-28 - 2025-10-01\n",
      "   • Total berita: 40 artikel\n",
      "   • Rata-rata per hari: 10.0 artikel\n",
      "   • Jumlah media: 28 media\n",
      "============================================================\n",
      "🎨 Membuat dan menampilkan visualisasi...\n",
      "\n",
      "📊 1. Pie Chart - Distribusi Sentimen\n"
     ]
    },
    {
     "data": {
      "application/vnd.plotly.v1+json": {
       "config": {
        "plotlyServerURL": "https://plot.ly"
       },
       "data": [
        {
         "hole": 0.4,
         "hovertemplate": "<b>%{label}</b><br>Jumlah: %{value}<br>Persentase: %{percent}<extra></extra>",
         "labels": [
          "positif",
          "negatif",
          "netral"
         ],
         "marker": {
          "colors": [
           "#2E8B57",
           "#DC143C",
           "#808080"
          ]
         },
         "textinfo": "label+percent+value",
         "textposition": "outside",
         "type": "pie",
         "values": [
          37,
          2,
          1
         ]
        }
       ],
       "layout": {
        "font": {
         "size": 12
        },
        "height": 500,
        "paper_bgcolor": "white",
        "plot_bgcolor": "white",
        "showlegend": true,
        "template": {
         "data": {
          "bar": [
           {
            "error_x": {
             "color": "#2a3f5f"
            },
            "error_y": {
             "color": "#2a3f5f"
            },
            "marker": {
             "line": {
              "color": "#E5ECF6",
              "width": 0.5
             },
             "pattern": {
              "fillmode": "overlay",
              "size": 10,
              "solidity": 0.2
             }
            },
            "type": "bar"
           }
          ],
          "barpolar": [
           {
            "marker": {
             "line": {
              "color": "#E5ECF6",
              "width": 0.5
             },
             "pattern": {
              "fillmode": "overlay",
              "size": 10,
              "solidity": 0.2
             }
            },
            "type": "barpolar"
           }
          ],
          "carpet": [
           {
            "aaxis": {
             "endlinecolor": "#2a3f5f",
             "gridcolor": "white",
             "linecolor": "white",
             "minorgridcolor": "white",
             "startlinecolor": "#2a3f5f"
            },
            "baxis": {
             "endlinecolor": "#2a3f5f",
             "gridcolor": "white",
             "linecolor": "white",
             "minorgridcolor": "white",
             "startlinecolor": "#2a3f5f"
            },
            "type": "carpet"
           }
          ],
          "choropleth": [
           {
            "colorbar": {
             "outlinewidth": 0,
             "ticks": ""
            },
            "type": "choropleth"
           }
          ],
          "contour": [
           {
            "colorbar": {
             "outlinewidth": 0,
             "ticks": ""
            },
            "colorscale": [
             [
              0,
              "#0d0887"
             ],
             [
              0.1111111111111111,
              "#46039f"
             ],
             [
              0.2222222222222222,
              "#7201a8"
             ],
             [
              0.3333333333333333,
              "#9c179e"
             ],
             [
              0.4444444444444444,
              "#bd3786"
             ],
             [
              0.5555555555555556,
              "#d8576b"
             ],
             [
              0.6666666666666666,
              "#ed7953"
             ],
             [
              0.7777777777777778,
              "#fb9f3a"
             ],
             [
              0.8888888888888888,
              "#fdca26"
             ],
             [
              1,
              "#f0f921"
             ]
            ],
            "type": "contour"
           }
          ],
          "contourcarpet": [
           {
            "colorbar": {
             "outlinewidth": 0,
             "ticks": ""
            },
            "type": "contourcarpet"
           }
          ],
          "heatmap": [
           {
            "colorbar": {
             "outlinewidth": 0,
             "ticks": ""
            },
            "colorscale": [
             [
              0,
              "#0d0887"
             ],
             [
              0.1111111111111111,
              "#46039f"
             ],
             [
              0.2222222222222222,
              "#7201a8"
             ],
             [
              0.3333333333333333,
              "#9c179e"
             ],
             [
              0.4444444444444444,
              "#bd3786"
             ],
             [
              0.5555555555555556,
              "#d8576b"
             ],
             [
              0.6666666666666666,
              "#ed7953"
             ],
             [
              0.7777777777777778,
              "#fb9f3a"
             ],
             [
              0.8888888888888888,
              "#fdca26"
             ],
             [
              1,
              "#f0f921"
             ]
            ],
            "type": "heatmap"
           }
          ],
          "heatmapgl": [
           {
            "colorbar": {
             "outlinewidth": 0,
             "ticks": ""
            },
            "colorscale": [
             [
              0,
              "#0d0887"
             ],
             [
              0.1111111111111111,
              "#46039f"
             ],
             [
              0.2222222222222222,
              "#7201a8"
             ],
             [
              0.3333333333333333,
              "#9c179e"
             ],
             [
              0.4444444444444444,
              "#bd3786"
             ],
             [
              0.5555555555555556,
              "#d8576b"
             ],
             [
              0.6666666666666666,
              "#ed7953"
             ],
             [
              0.7777777777777778,
              "#fb9f3a"
             ],
             [
              0.8888888888888888,
              "#fdca26"
             ],
             [
              1,
              "#f0f921"
             ]
            ],
            "type": "heatmapgl"
           }
          ],
          "histogram": [
           {
            "marker": {
             "pattern": {
              "fillmode": "overlay",
              "size": 10,
              "solidity": 0.2
             }
            },
            "type": "histogram"
           }
          ],
          "histogram2d": [
           {
            "colorbar": {
             "outlinewidth": 0,
             "ticks": ""
            },
            "colorscale": [
             [
              0,
              "#0d0887"
             ],
             [
              0.1111111111111111,
              "#46039f"
             ],
             [
              0.2222222222222222,
              "#7201a8"
             ],
             [
              0.3333333333333333,
              "#9c179e"
             ],
             [
              0.4444444444444444,
              "#bd3786"
             ],
             [
              0.5555555555555556,
              "#d8576b"
             ],
             [
              0.6666666666666666,
              "#ed7953"
             ],
             [
              0.7777777777777778,
              "#fb9f3a"
             ],
             [
              0.8888888888888888,
              "#fdca26"
             ],
             [
              1,
              "#f0f921"
             ]
            ],
            "type": "histogram2d"
           }
          ],
          "histogram2dcontour": [
           {
            "colorbar": {
             "outlinewidth": 0,
             "ticks": ""
            },
            "colorscale": [
             [
              0,
              "#0d0887"
             ],
             [
              0.1111111111111111,
              "#46039f"
             ],
             [
              0.2222222222222222,
              "#7201a8"
             ],
             [
              0.3333333333333333,
              "#9c179e"
             ],
             [
              0.4444444444444444,
              "#bd3786"
             ],
             [
              0.5555555555555556,
              "#d8576b"
             ],
             [
              0.6666666666666666,
              "#ed7953"
             ],
             [
              0.7777777777777778,
              "#fb9f3a"
             ],
             [
              0.8888888888888888,
              "#fdca26"
             ],
             [
              1,
              "#f0f921"
             ]
            ],
            "type": "histogram2dcontour"
           }
          ],
          "mesh3d": [
           {
            "colorbar": {
             "outlinewidth": 0,
             "ticks": ""
            },
            "type": "mesh3d"
           }
          ],
          "parcoords": [
           {
            "line": {
             "colorbar": {
              "outlinewidth": 0,
              "ticks": ""
             }
            },
            "type": "parcoords"
           }
          ],
          "pie": [
           {
            "automargin": true,
            "type": "pie"
           }
          ],
          "scatter": [
           {
            "fillpattern": {
             "fillmode": "overlay",
             "size": 10,
             "solidity": 0.2
            },
            "type": "scatter"
           }
          ],
          "scatter3d": [
           {
            "line": {
             "colorbar": {
              "outlinewidth": 0,
              "ticks": ""
             }
            },
            "marker": {
             "colorbar": {
              "outlinewidth": 0,
              "ticks": ""
             }
            },
            "type": "scatter3d"
           }
          ],
          "scattercarpet": [
           {
            "marker": {
             "colorbar": {
              "outlinewidth": 0,
              "ticks": ""
             }
            },
            "type": "scattercarpet"
           }
          ],
          "scattergeo": [
           {
            "marker": {
             "colorbar": {
              "outlinewidth": 0,
              "ticks": ""
             }
            },
            "type": "scattergeo"
           }
          ],
          "scattergl": [
           {
            "marker": {
             "colorbar": {
              "outlinewidth": 0,
              "ticks": ""
             }
            },
            "type": "scattergl"
           }
          ],
          "scattermapbox": [
           {
            "marker": {
             "colorbar": {
              "outlinewidth": 0,
              "ticks": ""
             }
            },
            "type": "scattermapbox"
           }
          ],
          "scatterpolar": [
           {
            "marker": {
             "colorbar": {
              "outlinewidth": 0,
              "ticks": ""
             }
            },
            "type": "scatterpolar"
           }
          ],
          "scatterpolargl": [
           {
            "marker": {
             "colorbar": {
              "outlinewidth": 0,
              "ticks": ""
             }
            },
            "type": "scatterpolargl"
           }
          ],
          "scatterternary": [
           {
            "marker": {
             "colorbar": {
              "outlinewidth": 0,
              "ticks": ""
             }
            },
            "type": "scatterternary"
           }
          ],
          "surface": [
           {
            "colorbar": {
             "outlinewidth": 0,
             "ticks": ""
            },
            "colorscale": [
             [
              0,
              "#0d0887"
             ],
             [
              0.1111111111111111,
              "#46039f"
             ],
             [
              0.2222222222222222,
              "#7201a8"
             ],
             [
              0.3333333333333333,
              "#9c179e"
             ],
             [
              0.4444444444444444,
              "#bd3786"
             ],
             [
              0.5555555555555556,
              "#d8576b"
             ],
             [
              0.6666666666666666,
              "#ed7953"
             ],
             [
              0.7777777777777778,
              "#fb9f3a"
             ],
             [
              0.8888888888888888,
              "#fdca26"
             ],
             [
              1,
              "#f0f921"
             ]
            ],
            "type": "surface"
           }
          ],
          "table": [
           {
            "cells": {
             "fill": {
              "color": "#EBF0F8"
             },
             "line": {
              "color": "white"
             }
            },
            "header": {
             "fill": {
              "color": "#C8D4E3"
             },
             "line": {
              "color": "white"
             }
            },
            "type": "table"
           }
          ]
         },
         "layout": {
          "annotationdefaults": {
           "arrowcolor": "#2a3f5f",
           "arrowhead": 0,
           "arrowwidth": 1
          },
          "autotypenumbers": "strict",
          "coloraxis": {
           "colorbar": {
            "outlinewidth": 0,
            "ticks": ""
           }
          },
          "colorscale": {
           "diverging": [
            [
             0,
             "#8e0152"
            ],
            [
             0.1,
             "#c51b7d"
            ],
            [
             0.2,
             "#de77ae"
            ],
            [
             0.3,
             "#f1b6da"
            ],
            [
             0.4,
             "#fde0ef"
            ],
            [
             0.5,
             "#f7f7f7"
            ],
            [
             0.6,
             "#e6f5d0"
            ],
            [
             0.7,
             "#b8e186"
            ],
            [
             0.8,
             "#7fbc41"
            ],
            [
             0.9,
             "#4d9221"
            ],
            [
             1,
             "#276419"
            ]
           ],
           "sequential": [
            [
             0,
             "#0d0887"
            ],
            [
             0.1111111111111111,
             "#46039f"
            ],
            [
             0.2222222222222222,
             "#7201a8"
            ],
            [
             0.3333333333333333,
             "#9c179e"
            ],
            [
             0.4444444444444444,
             "#bd3786"
            ],
            [
             0.5555555555555556,
             "#d8576b"
            ],
            [
             0.6666666666666666,
             "#ed7953"
            ],
            [
             0.7777777777777778,
             "#fb9f3a"
            ],
            [
             0.8888888888888888,
             "#fdca26"
            ],
            [
             1,
             "#f0f921"
            ]
           ],
           "sequentialminus": [
            [
             0,
             "#0d0887"
            ],
            [
             0.1111111111111111,
             "#46039f"
            ],
            [
             0.2222222222222222,
             "#7201a8"
            ],
            [
             0.3333333333333333,
             "#9c179e"
            ],
            [
             0.4444444444444444,
             "#bd3786"
            ],
            [
             0.5555555555555556,
             "#d8576b"
            ],
            [
             0.6666666666666666,
             "#ed7953"
            ],
            [
             0.7777777777777778,
             "#fb9f3a"
            ],
            [
             0.8888888888888888,
             "#fdca26"
            ],
            [
             1,
             "#f0f921"
            ]
           ]
          },
          "colorway": [
           "#636efa",
           "#EF553B",
           "#00cc96",
           "#ab63fa",
           "#FFA15A",
           "#19d3f3",
           "#FF6692",
           "#B6E880",
           "#FF97FF",
           "#FECB52"
          ],
          "font": {
           "color": "#2a3f5f"
          },
          "geo": {
           "bgcolor": "white",
           "lakecolor": "white",
           "landcolor": "#E5ECF6",
           "showlakes": true,
           "showland": true,
           "subunitcolor": "white"
          },
          "hoverlabel": {
           "align": "left"
          },
          "hovermode": "closest",
          "mapbox": {
           "style": "light"
          },
          "paper_bgcolor": "white",
          "plot_bgcolor": "#E5ECF6",
          "polar": {
           "angularaxis": {
            "gridcolor": "white",
            "linecolor": "white",
            "ticks": ""
           },
           "bgcolor": "#E5ECF6",
           "radialaxis": {
            "gridcolor": "white",
            "linecolor": "white",
            "ticks": ""
           }
          },
          "scene": {
           "xaxis": {
            "backgroundcolor": "#E5ECF6",
            "gridcolor": "white",
            "gridwidth": 2,
            "linecolor": "white",
            "showbackground": true,
            "ticks": "",
            "zerolinecolor": "white"
           },
           "yaxis": {
            "backgroundcolor": "#E5ECF6",
            "gridcolor": "white",
            "gridwidth": 2,
            "linecolor": "white",
            "showbackground": true,
            "ticks": "",
            "zerolinecolor": "white"
           },
           "zaxis": {
            "backgroundcolor": "#E5ECF6",
            "gridcolor": "white",
            "gridwidth": 2,
            "linecolor": "white",
            "showbackground": true,
            "ticks": "",
            "zerolinecolor": "white"
           }
          },
          "shapedefaults": {
           "line": {
            "color": "#2a3f5f"
           }
          },
          "ternary": {
           "aaxis": {
            "gridcolor": "white",
            "linecolor": "white",
            "ticks": ""
           },
           "baxis": {
            "gridcolor": "white",
            "linecolor": "white",
            "ticks": ""
           },
           "bgcolor": "#E5ECF6",
           "caxis": {
            "gridcolor": "white",
            "linecolor": "white",
            "ticks": ""
           }
          },
          "title": {
           "x": 0.05
          },
          "xaxis": {
           "automargin": true,
           "gridcolor": "white",
           "linecolor": "white",
           "ticks": "",
           "title": {
            "standoff": 15
           },
           "zerolinecolor": "white",
           "zerolinewidth": 2
          },
          "yaxis": {
           "automargin": true,
           "gridcolor": "white",
           "linecolor": "white",
           "ticks": "",
           "title": {
            "standoff": 15
           },
           "zerolinecolor": "white",
           "zerolinewidth": 2
          }
         }
        },
        "width": 600
       }
      }
     },
     "metadata": {},
     "output_type": "display_data"
    },
    {
     "name": "stdout",
     "output_type": "stream",
     "text": [
      "\n",
      "📈 2. Line Chart - Timeline Sentimen Harian\n"
     ]
    },
    {
     "data": {
      "application/vnd.plotly.v1+json": {
       "config": {
        "plotlyServerURL": "https://plot.ly"
       },
       "data": [
        {
         "hovertemplate": "<b>Positif</b><br>Tanggal: %{x}<br>Jumlah: %{y}<extra></extra>",
         "line": {
          "color": "#2E8B57",
          "width": 3
         },
         "marker": {
          "size": 8
         },
         "mode": "lines+markers+text",
         "name": "Positif",
         "text": [
          4,
          11,
          12,
          10
         ],
         "textfont": {
          "color": "#2E8B57",
          "size": 10
         },
         "textposition": "top center",
         "type": "scatter",
         "x": [
          "2025-09-28",
          "2025-09-29",
          "2025-09-30",
          "2025-10-01"
         ],
         "y": [
          4,
          11,
          12,
          10
         ]
        },
        {
         "hovertemplate": "<b>Negatif</b><br>Tanggal: %{x}<br>Jumlah: %{y}<extra></extra>",
         "line": {
          "color": "#DC143C",
          "width": 3
         },
         "marker": {
          "size": 8
         },
         "mode": "lines+markers+text",
         "name": "Negatif",
         "text": [
          0,
          0,
          2,
          0
         ],
         "textfont": {
          "color": "#DC143C",
          "size": 10
         },
         "textposition": "top center",
         "type": "scatter",
         "x": [
          "2025-09-28",
          "2025-09-29",
          "2025-09-30",
          "2025-10-01"
         ],
         "y": [
          0,
          0,
          2,
          0
         ]
        },
        {
         "hovertemplate": "<b>Netral</b><br>Tanggal: %{x}<br>Jumlah: %{y}<extra></extra>",
         "line": {
          "color": "#808080",
          "width": 3
         },
         "marker": {
          "size": 8
         },
         "mode": "lines+markers+text",
         "name": "Netral",
         "text": [
          0,
          1,
          0,
          0
         ],
         "textfont": {
          "color": "#808080",
          "size": 10
         },
         "textposition": "top center",
         "type": "scatter",
         "x": [
          "2025-09-28",
          "2025-09-29",
          "2025-09-30",
          "2025-10-01"
         ],
         "y": [
          0,
          1,
          0,
          0
         ]
        }
       ],
       "layout": {
        "font": {
         "size": 12
        },
        "height": 500,
        "hovermode": "x unified",
        "paper_bgcolor": "white",
        "plot_bgcolor": "white",
        "template": {
         "data": {
          "bar": [
           {
            "error_x": {
             "color": "#2a3f5f"
            },
            "error_y": {
             "color": "#2a3f5f"
            },
            "marker": {
             "line": {
              "color": "#E5ECF6",
              "width": 0.5
             },
             "pattern": {
              "fillmode": "overlay",
              "size": 10,
              "solidity": 0.2
             }
            },
            "type": "bar"
           }
          ],
          "barpolar": [
           {
            "marker": {
             "line": {
              "color": "#E5ECF6",
              "width": 0.5
             },
             "pattern": {
              "fillmode": "overlay",
              "size": 10,
              "solidity": 0.2
             }
            },
            "type": "barpolar"
           }
          ],
          "carpet": [
           {
            "aaxis": {
             "endlinecolor": "#2a3f5f",
             "gridcolor": "white",
             "linecolor": "white",
             "minorgridcolor": "white",
             "startlinecolor": "#2a3f5f"
            },
            "baxis": {
             "endlinecolor": "#2a3f5f",
             "gridcolor": "white",
             "linecolor": "white",
             "minorgridcolor": "white",
             "startlinecolor": "#2a3f5f"
            },
            "type": "carpet"
           }
          ],
          "choropleth": [
           {
            "colorbar": {
             "outlinewidth": 0,
             "ticks": ""
            },
            "type": "choropleth"
           }
          ],
          "contour": [
           {
            "colorbar": {
             "outlinewidth": 0,
             "ticks": ""
            },
            "colorscale": [
             [
              0,
              "#0d0887"
             ],
             [
              0.1111111111111111,
              "#46039f"
             ],
             [
              0.2222222222222222,
              "#7201a8"
             ],
             [
              0.3333333333333333,
              "#9c179e"
             ],
             [
              0.4444444444444444,
              "#bd3786"
             ],
             [
              0.5555555555555556,
              "#d8576b"
             ],
             [
              0.6666666666666666,
              "#ed7953"
             ],
             [
              0.7777777777777778,
              "#fb9f3a"
             ],
             [
              0.8888888888888888,
              "#fdca26"
             ],
             [
              1,
              "#f0f921"
             ]
            ],
            "type": "contour"
           }
          ],
          "contourcarpet": [
           {
            "colorbar": {
             "outlinewidth": 0,
             "ticks": ""
            },
            "type": "contourcarpet"
           }
          ],
          "heatmap": [
           {
            "colorbar": {
             "outlinewidth": 0,
             "ticks": ""
            },
            "colorscale": [
             [
              0,
              "#0d0887"
             ],
             [
              0.1111111111111111,
              "#46039f"
             ],
             [
              0.2222222222222222,
              "#7201a8"
             ],
             [
              0.3333333333333333,
              "#9c179e"
             ],
             [
              0.4444444444444444,
              "#bd3786"
             ],
             [
              0.5555555555555556,
              "#d8576b"
             ],
             [
              0.6666666666666666,
              "#ed7953"
             ],
             [
              0.7777777777777778,
              "#fb9f3a"
             ],
             [
              0.8888888888888888,
              "#fdca26"
             ],
             [
              1,
              "#f0f921"
             ]
            ],
            "type": "heatmap"
           }
          ],
          "heatmapgl": [
           {
            "colorbar": {
             "outlinewidth": 0,
             "ticks": ""
            },
            "colorscale": [
             [
              0,
              "#0d0887"
             ],
             [
              0.1111111111111111,
              "#46039f"
             ],
             [
              0.2222222222222222,
              "#7201a8"
             ],
             [
              0.3333333333333333,
              "#9c179e"
             ],
             [
              0.4444444444444444,
              "#bd3786"
             ],
             [
              0.5555555555555556,
              "#d8576b"
             ],
             [
              0.6666666666666666,
              "#ed7953"
             ],
             [
              0.7777777777777778,
              "#fb9f3a"
             ],
             [
              0.8888888888888888,
              "#fdca26"
             ],
             [
              1,
              "#f0f921"
             ]
            ],
            "type": "heatmapgl"
           }
          ],
          "histogram": [
           {
            "marker": {
             "pattern": {
              "fillmode": "overlay",
              "size": 10,
              "solidity": 0.2
             }
            },
            "type": "histogram"
           }
          ],
          "histogram2d": [
           {
            "colorbar": {
             "outlinewidth": 0,
             "ticks": ""
            },
            "colorscale": [
             [
              0,
              "#0d0887"
             ],
             [
              0.1111111111111111,
              "#46039f"
             ],
             [
              0.2222222222222222,
              "#7201a8"
             ],
             [
              0.3333333333333333,
              "#9c179e"
             ],
             [
              0.4444444444444444,
              "#bd3786"
             ],
             [
              0.5555555555555556,
              "#d8576b"
             ],
             [
              0.6666666666666666,
              "#ed7953"
             ],
             [
              0.7777777777777778,
              "#fb9f3a"
             ],
             [
              0.8888888888888888,
              "#fdca26"
             ],
             [
              1,
              "#f0f921"
             ]
            ],
            "type": "histogram2d"
           }
          ],
          "histogram2dcontour": [
           {
            "colorbar": {
             "outlinewidth": 0,
             "ticks": ""
            },
            "colorscale": [
             [
              0,
              "#0d0887"
             ],
             [
              0.1111111111111111,
              "#46039f"
             ],
             [
              0.2222222222222222,
              "#7201a8"
             ],
             [
              0.3333333333333333,
              "#9c179e"
             ],
             [
              0.4444444444444444,
              "#bd3786"
             ],
             [
              0.5555555555555556,
              "#d8576b"
             ],
             [
              0.6666666666666666,
              "#ed7953"
             ],
             [
              0.7777777777777778,
              "#fb9f3a"
             ],
             [
              0.8888888888888888,
              "#fdca26"
             ],
             [
              1,
              "#f0f921"
             ]
            ],
            "type": "histogram2dcontour"
           }
          ],
          "mesh3d": [
           {
            "colorbar": {
             "outlinewidth": 0,
             "ticks": ""
            },
            "type": "mesh3d"
           }
          ],
          "parcoords": [
           {
            "line": {
             "colorbar": {
              "outlinewidth": 0,
              "ticks": ""
             }
            },
            "type": "parcoords"
           }
          ],
          "pie": [
           {
            "automargin": true,
            "type": "pie"
           }
          ],
          "scatter": [
           {
            "fillpattern": {
             "fillmode": "overlay",
             "size": 10,
             "solidity": 0.2
            },
            "type": "scatter"
           }
          ],
          "scatter3d": [
           {
            "line": {
             "colorbar": {
              "outlinewidth": 0,
              "ticks": ""
             }
            },
            "marker": {
             "colorbar": {
              "outlinewidth": 0,
              "ticks": ""
             }
            },
            "type": "scatter3d"
           }
          ],
          "scattercarpet": [
           {
            "marker": {
             "colorbar": {
              "outlinewidth": 0,
              "ticks": ""
             }
            },
            "type": "scattercarpet"
           }
          ],
          "scattergeo": [
           {
            "marker": {
             "colorbar": {
              "outlinewidth": 0,
              "ticks": ""
             }
            },
            "type": "scattergeo"
           }
          ],
          "scattergl": [
           {
            "marker": {
             "colorbar": {
              "outlinewidth": 0,
              "ticks": ""
             }
            },
            "type": "scattergl"
           }
          ],
          "scattermapbox": [
           {
            "marker": {
             "colorbar": {
              "outlinewidth": 0,
              "ticks": ""
             }
            },
            "type": "scattermapbox"
           }
          ],
          "scatterpolar": [
           {
            "marker": {
             "colorbar": {
              "outlinewidth": 0,
              "ticks": ""
             }
            },
            "type": "scatterpolar"
           }
          ],
          "scatterpolargl": [
           {
            "marker": {
             "colorbar": {
              "outlinewidth": 0,
              "ticks": ""
             }
            },
            "type": "scatterpolargl"
           }
          ],
          "scatterternary": [
           {
            "marker": {
             "colorbar": {
              "outlinewidth": 0,
              "ticks": ""
             }
            },
            "type": "scatterternary"
           }
          ],
          "surface": [
           {
            "colorbar": {
             "outlinewidth": 0,
             "ticks": ""
            },
            "colorscale": [
             [
              0,
              "#0d0887"
             ],
             [
              0.1111111111111111,
              "#46039f"
             ],
             [
              0.2222222222222222,
              "#7201a8"
             ],
             [
              0.3333333333333333,
              "#9c179e"
             ],
             [
              0.4444444444444444,
              "#bd3786"
             ],
             [
              0.5555555555555556,
              "#d8576b"
             ],
             [
              0.6666666666666666,
              "#ed7953"
             ],
             [
              0.7777777777777778,
              "#fb9f3a"
             ],
             [
              0.8888888888888888,
              "#fdca26"
             ],
             [
              1,
              "#f0f921"
             ]
            ],
            "type": "surface"
           }
          ],
          "table": [
           {
            "cells": {
             "fill": {
              "color": "#EBF0F8"
             },
             "line": {
              "color": "white"
             }
            },
            "header": {
             "fill": {
              "color": "#C8D4E3"
             },
             "line": {
              "color": "white"
             }
            },
            "type": "table"
           }
          ]
         },
         "layout": {
          "annotationdefaults": {
           "arrowcolor": "#2a3f5f",
           "arrowhead": 0,
           "arrowwidth": 1
          },
          "autotypenumbers": "strict",
          "coloraxis": {
           "colorbar": {
            "outlinewidth": 0,
            "ticks": ""
           }
          },
          "colorscale": {
           "diverging": [
            [
             0,
             "#8e0152"
            ],
            [
             0.1,
             "#c51b7d"
            ],
            [
             0.2,
             "#de77ae"
            ],
            [
             0.3,
             "#f1b6da"
            ],
            [
             0.4,
             "#fde0ef"
            ],
            [
             0.5,
             "#f7f7f7"
            ],
            [
             0.6,
             "#e6f5d0"
            ],
            [
             0.7,
             "#b8e186"
            ],
            [
             0.8,
             "#7fbc41"
            ],
            [
             0.9,
             "#4d9221"
            ],
            [
             1,
             "#276419"
            ]
           ],
           "sequential": [
            [
             0,
             "#0d0887"
            ],
            [
             0.1111111111111111,
             "#46039f"
            ],
            [
             0.2222222222222222,
             "#7201a8"
            ],
            [
             0.3333333333333333,
             "#9c179e"
            ],
            [
             0.4444444444444444,
             "#bd3786"
            ],
            [
             0.5555555555555556,
             "#d8576b"
            ],
            [
             0.6666666666666666,
             "#ed7953"
            ],
            [
             0.7777777777777778,
             "#fb9f3a"
            ],
            [
             0.8888888888888888,
             "#fdca26"
            ],
            [
             1,
             "#f0f921"
            ]
           ],
           "sequentialminus": [
            [
             0,
             "#0d0887"
            ],
            [
             0.1111111111111111,
             "#46039f"
            ],
            [
             0.2222222222222222,
             "#7201a8"
            ],
            [
             0.3333333333333333,
             "#9c179e"
            ],
            [
             0.4444444444444444,
             "#bd3786"
            ],
            [
             0.5555555555555556,
             "#d8576b"
            ],
            [
             0.6666666666666666,
             "#ed7953"
            ],
            [
             0.7777777777777778,
             "#fb9f3a"
            ],
            [
             0.8888888888888888,
             "#fdca26"
            ],
            [
             1,
             "#f0f921"
            ]
           ]
          },
          "colorway": [
           "#636efa",
           "#EF553B",
           "#00cc96",
           "#ab63fa",
           "#FFA15A",
           "#19d3f3",
           "#FF6692",
           "#B6E880",
           "#FF97FF",
           "#FECB52"
          ],
          "font": {
           "color": "#2a3f5f"
          },
          "geo": {
           "bgcolor": "white",
           "lakecolor": "white",
           "landcolor": "#E5ECF6",
           "showlakes": true,
           "showland": true,
           "subunitcolor": "white"
          },
          "hoverlabel": {
           "align": "left"
          },
          "hovermode": "closest",
          "mapbox": {
           "style": "light"
          },
          "paper_bgcolor": "white",
          "plot_bgcolor": "#E5ECF6",
          "polar": {
           "angularaxis": {
            "gridcolor": "white",
            "linecolor": "white",
            "ticks": ""
           },
           "bgcolor": "#E5ECF6",
           "radialaxis": {
            "gridcolor": "white",
            "linecolor": "white",
            "ticks": ""
           }
          },
          "scene": {
           "xaxis": {
            "backgroundcolor": "#E5ECF6",
            "gridcolor": "white",
            "gridwidth": 2,
            "linecolor": "white",
            "showbackground": true,
            "ticks": "",
            "zerolinecolor": "white"
           },
           "yaxis": {
            "backgroundcolor": "#E5ECF6",
            "gridcolor": "white",
            "gridwidth": 2,
            "linecolor": "white",
            "showbackground": true,
            "ticks": "",
            "zerolinecolor": "white"
           },
           "zaxis": {
            "backgroundcolor": "#E5ECF6",
            "gridcolor": "white",
            "gridwidth": 2,
            "linecolor": "white",
            "showbackground": true,
            "ticks": "",
            "zerolinecolor": "white"
           }
          },
          "shapedefaults": {
           "line": {
            "color": "#2a3f5f"
           }
          },
          "ternary": {
           "aaxis": {
            "gridcolor": "white",
            "linecolor": "white",
            "ticks": ""
           },
           "baxis": {
            "gridcolor": "white",
            "linecolor": "white",
            "ticks": ""
           },
           "bgcolor": "#E5ECF6",
           "caxis": {
            "gridcolor": "white",
            "linecolor": "white",
            "ticks": ""
           }
          },
          "title": {
           "x": 0.05
          },
          "xaxis": {
           "automargin": true,
           "gridcolor": "white",
           "linecolor": "white",
           "ticks": "",
           "title": {
            "standoff": 15
           },
           "zerolinecolor": "white",
           "zerolinewidth": 2
          },
          "yaxis": {
           "automargin": true,
           "gridcolor": "white",
           "linecolor": "white",
           "ticks": "",
           "title": {
            "standoff": 15
           },
           "zerolinecolor": "white",
           "zerolinewidth": 2
          }
         }
        },
        "width": 800,
        "xaxis": {
         "title": {
          "text": "Tanggal"
         }
        },
        "yaxis": {
         "title": {
          "text": "Jumlah Berita"
         }
        }
       }
      }
     },
     "metadata": {},
     "output_type": "display_data"
    },
    {
     "name": "stdout",
     "output_type": "stream",
     "text": [
      "\n",
      "📋 3. Stacked Bar Chart - Ringkasan Harian\n"
     ]
    },
    {
     "data": {
      "application/vnd.plotly.v1+json": {
       "config": {
        "plotlyServerURL": "https://plot.ly"
       },
       "data": [
        {
         "hovertemplate": "<b>Positif</b><br>Tanggal: %{x}<br>Jumlah: %{y}<extra></extra>",
         "marker": {
          "color": "#2E8B57"
         },
         "name": "Positif",
         "text": [
          "4",
          "11",
          "12",
          "10"
         ],
         "textfont": {
          "color": "white",
          "size": 10
         },
         "textposition": "inside",
         "type": "bar",
         "x": [
          "2025-09-28",
          "2025-09-29",
          "2025-09-30",
          "2025-10-01"
         ],
         "y": [
          4,
          11,
          12,
          10
         ]
        },
        {
         "hovertemplate": "<b>Negatif</b><br>Tanggal: %{x}<br>Jumlah: %{y}<extra></extra>",
         "marker": {
          "color": "#DC143C"
         },
         "name": "Negatif",
         "text": [
          "",
          "",
          "2",
          ""
         ],
         "textfont": {
          "color": "white",
          "size": 10
         },
         "textposition": "inside",
         "type": "bar",
         "x": [
          "2025-09-28",
          "2025-09-29",
          "2025-09-30",
          "2025-10-01"
         ],
         "y": [
          0,
          0,
          2,
          0
         ]
        },
        {
         "hovertemplate": "<b>Netral</b><br>Tanggal: %{x}<br>Jumlah: %{y}<extra></extra>",
         "marker": {
          "color": "#808080"
         },
         "name": "Netral",
         "text": [
          "",
          "1",
          "",
          ""
         ],
         "textfont": {
          "color": "white",
          "size": 10
         },
         "textposition": "inside",
         "type": "bar",
         "x": [
          "2025-09-28",
          "2025-09-29",
          "2025-09-30",
          "2025-10-01"
         ],
         "y": [
          0,
          1,
          0,
          0
         ]
        }
       ],
       "layout": {
        "barmode": "stack",
        "font": {
         "size": 12
        },
        "height": 500,
        "paper_bgcolor": "white",
        "plot_bgcolor": "white",
        "template": {
         "data": {
          "bar": [
           {
            "error_x": {
             "color": "#2a3f5f"
            },
            "error_y": {
             "color": "#2a3f5f"
            },
            "marker": {
             "line": {
              "color": "#E5ECF6",
              "width": 0.5
             },
             "pattern": {
              "fillmode": "overlay",
              "size": 10,
              "solidity": 0.2
             }
            },
            "type": "bar"
           }
          ],
          "barpolar": [
           {
            "marker": {
             "line": {
              "color": "#E5ECF6",
              "width": 0.5
             },
             "pattern": {
              "fillmode": "overlay",
              "size": 10,
              "solidity": 0.2
             }
            },
            "type": "barpolar"
           }
          ],
          "carpet": [
           {
            "aaxis": {
             "endlinecolor": "#2a3f5f",
             "gridcolor": "white",
             "linecolor": "white",
             "minorgridcolor": "white",
             "startlinecolor": "#2a3f5f"
            },
            "baxis": {
             "endlinecolor": "#2a3f5f",
             "gridcolor": "white",
             "linecolor": "white",
             "minorgridcolor": "white",
             "startlinecolor": "#2a3f5f"
            },
            "type": "carpet"
           }
          ],
          "choropleth": [
           {
            "colorbar": {
             "outlinewidth": 0,
             "ticks": ""
            },
            "type": "choropleth"
           }
          ],
          "contour": [
           {
            "colorbar": {
             "outlinewidth": 0,
             "ticks": ""
            },
            "colorscale": [
             [
              0,
              "#0d0887"
             ],
             [
              0.1111111111111111,
              "#46039f"
             ],
             [
              0.2222222222222222,
              "#7201a8"
             ],
             [
              0.3333333333333333,
              "#9c179e"
             ],
             [
              0.4444444444444444,
              "#bd3786"
             ],
             [
              0.5555555555555556,
              "#d8576b"
             ],
             [
              0.6666666666666666,
              "#ed7953"
             ],
             [
              0.7777777777777778,
              "#fb9f3a"
             ],
             [
              0.8888888888888888,
              "#fdca26"
             ],
             [
              1,
              "#f0f921"
             ]
            ],
            "type": "contour"
           }
          ],
          "contourcarpet": [
           {
            "colorbar": {
             "outlinewidth": 0,
             "ticks": ""
            },
            "type": "contourcarpet"
           }
          ],
          "heatmap": [
           {
            "colorbar": {
             "outlinewidth": 0,
             "ticks": ""
            },
            "colorscale": [
             [
              0,
              "#0d0887"
             ],
             [
              0.1111111111111111,
              "#46039f"
             ],
             [
              0.2222222222222222,
              "#7201a8"
             ],
             [
              0.3333333333333333,
              "#9c179e"
             ],
             [
              0.4444444444444444,
              "#bd3786"
             ],
             [
              0.5555555555555556,
              "#d8576b"
             ],
             [
              0.6666666666666666,
              "#ed7953"
             ],
             [
              0.7777777777777778,
              "#fb9f3a"
             ],
             [
              0.8888888888888888,
              "#fdca26"
             ],
             [
              1,
              "#f0f921"
             ]
            ],
            "type": "heatmap"
           }
          ],
          "heatmapgl": [
           {
            "colorbar": {
             "outlinewidth": 0,
             "ticks": ""
            },
            "colorscale": [
             [
              0,
              "#0d0887"
             ],
             [
              0.1111111111111111,
              "#46039f"
             ],
             [
              0.2222222222222222,
              "#7201a8"
             ],
             [
              0.3333333333333333,
              "#9c179e"
             ],
             [
              0.4444444444444444,
              "#bd3786"
             ],
             [
              0.5555555555555556,
              "#d8576b"
             ],
             [
              0.6666666666666666,
              "#ed7953"
             ],
             [
              0.7777777777777778,
              "#fb9f3a"
             ],
             [
              0.8888888888888888,
              "#fdca26"
             ],
             [
              1,
              "#f0f921"
             ]
            ],
            "type": "heatmapgl"
           }
          ],
          "histogram": [
           {
            "marker": {
             "pattern": {
              "fillmode": "overlay",
              "size": 10,
              "solidity": 0.2
             }
            },
            "type": "histogram"
           }
          ],
          "histogram2d": [
           {
            "colorbar": {
             "outlinewidth": 0,
             "ticks": ""
            },
            "colorscale": [
             [
              0,
              "#0d0887"
             ],
             [
              0.1111111111111111,
              "#46039f"
             ],
             [
              0.2222222222222222,
              "#7201a8"
             ],
             [
              0.3333333333333333,
              "#9c179e"
             ],
             [
              0.4444444444444444,
              "#bd3786"
             ],
             [
              0.5555555555555556,
              "#d8576b"
             ],
             [
              0.6666666666666666,
              "#ed7953"
             ],
             [
              0.7777777777777778,
              "#fb9f3a"
             ],
             [
              0.8888888888888888,
              "#fdca26"
             ],
             [
              1,
              "#f0f921"
             ]
            ],
            "type": "histogram2d"
           }
          ],
          "histogram2dcontour": [
           {
            "colorbar": {
             "outlinewidth": 0,
             "ticks": ""
            },
            "colorscale": [
             [
              0,
              "#0d0887"
             ],
             [
              0.1111111111111111,
              "#46039f"
             ],
             [
              0.2222222222222222,
              "#7201a8"
             ],
             [
              0.3333333333333333,
              "#9c179e"
             ],
             [
              0.4444444444444444,
              "#bd3786"
             ],
             [
              0.5555555555555556,
              "#d8576b"
             ],
             [
              0.6666666666666666,
              "#ed7953"
             ],
             [
              0.7777777777777778,
              "#fb9f3a"
             ],
             [
              0.8888888888888888,
              "#fdca26"
             ],
             [
              1,
              "#f0f921"
             ]
            ],
            "type": "histogram2dcontour"
           }
          ],
          "mesh3d": [
           {
            "colorbar": {
             "outlinewidth": 0,
             "ticks": ""
            },
            "type": "mesh3d"
           }
          ],
          "parcoords": [
           {
            "line": {
             "colorbar": {
              "outlinewidth": 0,
              "ticks": ""
             }
            },
            "type": "parcoords"
           }
          ],
          "pie": [
           {
            "automargin": true,
            "type": "pie"
           }
          ],
          "scatter": [
           {
            "fillpattern": {
             "fillmode": "overlay",
             "size": 10,
             "solidity": 0.2
            },
            "type": "scatter"
           }
          ],
          "scatter3d": [
           {
            "line": {
             "colorbar": {
              "outlinewidth": 0,
              "ticks": ""
             }
            },
            "marker": {
             "colorbar": {
              "outlinewidth": 0,
              "ticks": ""
             }
            },
            "type": "scatter3d"
           }
          ],
          "scattercarpet": [
           {
            "marker": {
             "colorbar": {
              "outlinewidth": 0,
              "ticks": ""
             }
            },
            "type": "scattercarpet"
           }
          ],
          "scattergeo": [
           {
            "marker": {
             "colorbar": {
              "outlinewidth": 0,
              "ticks": ""
             }
            },
            "type": "scattergeo"
           }
          ],
          "scattergl": [
           {
            "marker": {
             "colorbar": {
              "outlinewidth": 0,
              "ticks": ""
             }
            },
            "type": "scattergl"
           }
          ],
          "scattermapbox": [
           {
            "marker": {
             "colorbar": {
              "outlinewidth": 0,
              "ticks": ""
             }
            },
            "type": "scattermapbox"
           }
          ],
          "scatterpolar": [
           {
            "marker": {
             "colorbar": {
              "outlinewidth": 0,
              "ticks": ""
             }
            },
            "type": "scatterpolar"
           }
          ],
          "scatterpolargl": [
           {
            "marker": {
             "colorbar": {
              "outlinewidth": 0,
              "ticks": ""
             }
            },
            "type": "scatterpolargl"
           }
          ],
          "scatterternary": [
           {
            "marker": {
             "colorbar": {
              "outlinewidth": 0,
              "ticks": ""
             }
            },
            "type": "scatterternary"
           }
          ],
          "surface": [
           {
            "colorbar": {
             "outlinewidth": 0,
             "ticks": ""
            },
            "colorscale": [
             [
              0,
              "#0d0887"
             ],
             [
              0.1111111111111111,
              "#46039f"
             ],
             [
              0.2222222222222222,
              "#7201a8"
             ],
             [
              0.3333333333333333,
              "#9c179e"
             ],
             [
              0.4444444444444444,
              "#bd3786"
             ],
             [
              0.5555555555555556,
              "#d8576b"
             ],
             [
              0.6666666666666666,
              "#ed7953"
             ],
             [
              0.7777777777777778,
              "#fb9f3a"
             ],
             [
              0.8888888888888888,
              "#fdca26"
             ],
             [
              1,
              "#f0f921"
             ]
            ],
            "type": "surface"
           }
          ],
          "table": [
           {
            "cells": {
             "fill": {
              "color": "#EBF0F8"
             },
             "line": {
              "color": "white"
             }
            },
            "header": {
             "fill": {
              "color": "#C8D4E3"
             },
             "line": {
              "color": "white"
             }
            },
            "type": "table"
           }
          ]
         },
         "layout": {
          "annotationdefaults": {
           "arrowcolor": "#2a3f5f",
           "arrowhead": 0,
           "arrowwidth": 1
          },
          "autotypenumbers": "strict",
          "coloraxis": {
           "colorbar": {
            "outlinewidth": 0,
            "ticks": ""
           }
          },
          "colorscale": {
           "diverging": [
            [
             0,
             "#8e0152"
            ],
            [
             0.1,
             "#c51b7d"
            ],
            [
             0.2,
             "#de77ae"
            ],
            [
             0.3,
             "#f1b6da"
            ],
            [
             0.4,
             "#fde0ef"
            ],
            [
             0.5,
             "#f7f7f7"
            ],
            [
             0.6,
             "#e6f5d0"
            ],
            [
             0.7,
             "#b8e186"
            ],
            [
             0.8,
             "#7fbc41"
            ],
            [
             0.9,
             "#4d9221"
            ],
            [
             1,
             "#276419"
            ]
           ],
           "sequential": [
            [
             0,
             "#0d0887"
            ],
            [
             0.1111111111111111,
             "#46039f"
            ],
            [
             0.2222222222222222,
             "#7201a8"
            ],
            [
             0.3333333333333333,
             "#9c179e"
            ],
            [
             0.4444444444444444,
             "#bd3786"
            ],
            [
             0.5555555555555556,
             "#d8576b"
            ],
            [
             0.6666666666666666,
             "#ed7953"
            ],
            [
             0.7777777777777778,
             "#fb9f3a"
            ],
            [
             0.8888888888888888,
             "#fdca26"
            ],
            [
             1,
             "#f0f921"
            ]
           ],
           "sequentialminus": [
            [
             0,
             "#0d0887"
            ],
            [
             0.1111111111111111,
             "#46039f"
            ],
            [
             0.2222222222222222,
             "#7201a8"
            ],
            [
             0.3333333333333333,
             "#9c179e"
            ],
            [
             0.4444444444444444,
             "#bd3786"
            ],
            [
             0.5555555555555556,
             "#d8576b"
            ],
            [
             0.6666666666666666,
             "#ed7953"
            ],
            [
             0.7777777777777778,
             "#fb9f3a"
            ],
            [
             0.8888888888888888,
             "#fdca26"
            ],
            [
             1,
             "#f0f921"
            ]
           ]
          },
          "colorway": [
           "#636efa",
           "#EF553B",
           "#00cc96",
           "#ab63fa",
           "#FFA15A",
           "#19d3f3",
           "#FF6692",
           "#B6E880",
           "#FF97FF",
           "#FECB52"
          ],
          "font": {
           "color": "#2a3f5f"
          },
          "geo": {
           "bgcolor": "white",
           "lakecolor": "white",
           "landcolor": "#E5ECF6",
           "showlakes": true,
           "showland": true,
           "subunitcolor": "white"
          },
          "hoverlabel": {
           "align": "left"
          },
          "hovermode": "closest",
          "mapbox": {
           "style": "light"
          },
          "paper_bgcolor": "white",
          "plot_bgcolor": "#E5ECF6",
          "polar": {
           "angularaxis": {
            "gridcolor": "white",
            "linecolor": "white",
            "ticks": ""
           },
           "bgcolor": "#E5ECF6",
           "radialaxis": {
            "gridcolor": "white",
            "linecolor": "white",
            "ticks": ""
           }
          },
          "scene": {
           "xaxis": {
            "backgroundcolor": "#E5ECF6",
            "gridcolor": "white",
            "gridwidth": 2,
            "linecolor": "white",
            "showbackground": true,
            "ticks": "",
            "zerolinecolor": "white"
           },
           "yaxis": {
            "backgroundcolor": "#E5ECF6",
            "gridcolor": "white",
            "gridwidth": 2,
            "linecolor": "white",
            "showbackground": true,
            "ticks": "",
            "zerolinecolor": "white"
           },
           "zaxis": {
            "backgroundcolor": "#E5ECF6",
            "gridcolor": "white",
            "gridwidth": 2,
            "linecolor": "white",
            "showbackground": true,
            "ticks": "",
            "zerolinecolor": "white"
           }
          },
          "shapedefaults": {
           "line": {
            "color": "#2a3f5f"
           }
          },
          "ternary": {
           "aaxis": {
            "gridcolor": "white",
            "linecolor": "white",
            "ticks": ""
           },
           "baxis": {
            "gridcolor": "white",
            "linecolor": "white",
            "ticks": ""
           },
           "bgcolor": "#E5ECF6",
           "caxis": {
            "gridcolor": "white",
            "linecolor": "white",
            "ticks": ""
           }
          },
          "title": {
           "x": 0.05
          },
          "xaxis": {
           "automargin": true,
           "gridcolor": "white",
           "linecolor": "white",
           "ticks": "",
           "title": {
            "standoff": 15
           },
           "zerolinecolor": "white",
           "zerolinewidth": 2
          },
          "yaxis": {
           "automargin": true,
           "gridcolor": "white",
           "linecolor": "white",
           "ticks": "",
           "title": {
            "standoff": 15
           },
           "zerolinecolor": "white",
           "zerolinewidth": 2
          }
         }
        },
        "width": 800,
        "xaxis": {
         "title": {
          "text": "Tanggal"
         }
        },
        "yaxis": {
         "title": {
          "text": "Jumlah Berita"
         }
        }
       }
      }
     },
     "metadata": {},
     "output_type": "display_data"
    },
    {
     "name": "stdout",
     "output_type": "stream",
     "text": [
      "\n",
      "🌐 4. Bar Chart - Top Media Sources\n"
     ]
    },
    {
     "data": {
      "application/vnd.plotly.v1+json": {
       "config": {
        "plotlyServerURL": "https://plot.ly"
       },
       "data": [
        {
         "customdata": [
          20,
          7.5,
          7.5,
          5,
          2.5,
          2.5,
          2.5,
          2.5,
          2.5,
          2.5
         ],
         "hovertemplate": "<b>%{y}</b><br>Jumlah berita: %{x}<br>Persentase: %{customdata:.1f}%<extra></extra>",
         "marker": {
          "color": [
           "#1E3A8A",
           "#1E3A8A",
           "#1E3A8A",
           "#87CEEB",
           "#87CEEB",
           "#87CEEB",
           "#87CEEB",
           "#87CEEB",
           "#87CEEB",
           "#87CEEB"
          ]
         },
         "orientation": "h",
         "text": [
          8,
          3,
          3,
          2,
          1,
          1,
          1,
          1,
          1,
          1
         ],
         "textposition": "outside",
         "type": "bar",
         "x": [
          8,
          3,
          3,
          2,
          1,
          1,
          1,
          1,
          1,
          1
         ],
         "y": [
          "www.cnbcindonesia.com",
          "kumparan.com",
          "www.tempo.co",
          "www.metrotvnews.com",
          "ekbis.sindonews.com",
          "news.ddtc.co.id",
          "berita.batangkab.go.id",
          "jateng.antaranews.com",
          "www.antarafoto.com",
          "jogjapolitan.harianjogja.com"
         ]
        }
       ],
       "layout": {
        "font": {
         "size": 12
        },
        "height": 600,
        "paper_bgcolor": "white",
        "plot_bgcolor": "white",
        "template": {
         "data": {
          "bar": [
           {
            "error_x": {
             "color": "#2a3f5f"
            },
            "error_y": {
             "color": "#2a3f5f"
            },
            "marker": {
             "line": {
              "color": "#E5ECF6",
              "width": 0.5
             },
             "pattern": {
              "fillmode": "overlay",
              "size": 10,
              "solidity": 0.2
             }
            },
            "type": "bar"
           }
          ],
          "barpolar": [
           {
            "marker": {
             "line": {
              "color": "#E5ECF6",
              "width": 0.5
             },
             "pattern": {
              "fillmode": "overlay",
              "size": 10,
              "solidity": 0.2
             }
            },
            "type": "barpolar"
           }
          ],
          "carpet": [
           {
            "aaxis": {
             "endlinecolor": "#2a3f5f",
             "gridcolor": "white",
             "linecolor": "white",
             "minorgridcolor": "white",
             "startlinecolor": "#2a3f5f"
            },
            "baxis": {
             "endlinecolor": "#2a3f5f",
             "gridcolor": "white",
             "linecolor": "white",
             "minorgridcolor": "white",
             "startlinecolor": "#2a3f5f"
            },
            "type": "carpet"
           }
          ],
          "choropleth": [
           {
            "colorbar": {
             "outlinewidth": 0,
             "ticks": ""
            },
            "type": "choropleth"
           }
          ],
          "contour": [
           {
            "colorbar": {
             "outlinewidth": 0,
             "ticks": ""
            },
            "colorscale": [
             [
              0,
              "#0d0887"
             ],
             [
              0.1111111111111111,
              "#46039f"
             ],
             [
              0.2222222222222222,
              "#7201a8"
             ],
             [
              0.3333333333333333,
              "#9c179e"
             ],
             [
              0.4444444444444444,
              "#bd3786"
             ],
             [
              0.5555555555555556,
              "#d8576b"
             ],
             [
              0.6666666666666666,
              "#ed7953"
             ],
             [
              0.7777777777777778,
              "#fb9f3a"
             ],
             [
              0.8888888888888888,
              "#fdca26"
             ],
             [
              1,
              "#f0f921"
             ]
            ],
            "type": "contour"
           }
          ],
          "contourcarpet": [
           {
            "colorbar": {
             "outlinewidth": 0,
             "ticks": ""
            },
            "type": "contourcarpet"
           }
          ],
          "heatmap": [
           {
            "colorbar": {
             "outlinewidth": 0,
             "ticks": ""
            },
            "colorscale": [
             [
              0,
              "#0d0887"
             ],
             [
              0.1111111111111111,
              "#46039f"
             ],
             [
              0.2222222222222222,
              "#7201a8"
             ],
             [
              0.3333333333333333,
              "#9c179e"
             ],
             [
              0.4444444444444444,
              "#bd3786"
             ],
             [
              0.5555555555555556,
              "#d8576b"
             ],
             [
              0.6666666666666666,
              "#ed7953"
             ],
             [
              0.7777777777777778,
              "#fb9f3a"
             ],
             [
              0.8888888888888888,
              "#fdca26"
             ],
             [
              1,
              "#f0f921"
             ]
            ],
            "type": "heatmap"
           }
          ],
          "heatmapgl": [
           {
            "colorbar": {
             "outlinewidth": 0,
             "ticks": ""
            },
            "colorscale": [
             [
              0,
              "#0d0887"
             ],
             [
              0.1111111111111111,
              "#46039f"
             ],
             [
              0.2222222222222222,
              "#7201a8"
             ],
             [
              0.3333333333333333,
              "#9c179e"
             ],
             [
              0.4444444444444444,
              "#bd3786"
             ],
             [
              0.5555555555555556,
              "#d8576b"
             ],
             [
              0.6666666666666666,
              "#ed7953"
             ],
             [
              0.7777777777777778,
              "#fb9f3a"
             ],
             [
              0.8888888888888888,
              "#fdca26"
             ],
             [
              1,
              "#f0f921"
             ]
            ],
            "type": "heatmapgl"
           }
          ],
          "histogram": [
           {
            "marker": {
             "pattern": {
              "fillmode": "overlay",
              "size": 10,
              "solidity": 0.2
             }
            },
            "type": "histogram"
           }
          ],
          "histogram2d": [
           {
            "colorbar": {
             "outlinewidth": 0,
             "ticks": ""
            },
            "colorscale": [
             [
              0,
              "#0d0887"
             ],
             [
              0.1111111111111111,
              "#46039f"
             ],
             [
              0.2222222222222222,
              "#7201a8"
             ],
             [
              0.3333333333333333,
              "#9c179e"
             ],
             [
              0.4444444444444444,
              "#bd3786"
             ],
             [
              0.5555555555555556,
              "#d8576b"
             ],
             [
              0.6666666666666666,
              "#ed7953"
             ],
             [
              0.7777777777777778,
              "#fb9f3a"
             ],
             [
              0.8888888888888888,
              "#fdca26"
             ],
             [
              1,
              "#f0f921"
             ]
            ],
            "type": "histogram2d"
           }
          ],
          "histogram2dcontour": [
           {
            "colorbar": {
             "outlinewidth": 0,
             "ticks": ""
            },
            "colorscale": [
             [
              0,
              "#0d0887"
             ],
             [
              0.1111111111111111,
              "#46039f"
             ],
             [
              0.2222222222222222,
              "#7201a8"
             ],
             [
              0.3333333333333333,
              "#9c179e"
             ],
             [
              0.4444444444444444,
              "#bd3786"
             ],
             [
              0.5555555555555556,
              "#d8576b"
             ],
             [
              0.6666666666666666,
              "#ed7953"
             ],
             [
              0.7777777777777778,
              "#fb9f3a"
             ],
             [
              0.8888888888888888,
              "#fdca26"
             ],
             [
              1,
              "#f0f921"
             ]
            ],
            "type": "histogram2dcontour"
           }
          ],
          "mesh3d": [
           {
            "colorbar": {
             "outlinewidth": 0,
             "ticks": ""
            },
            "type": "mesh3d"
           }
          ],
          "parcoords": [
           {
            "line": {
             "colorbar": {
              "outlinewidth": 0,
              "ticks": ""
             }
            },
            "type": "parcoords"
           }
          ],
          "pie": [
           {
            "automargin": true,
            "type": "pie"
           }
          ],
          "scatter": [
           {
            "fillpattern": {
             "fillmode": "overlay",
             "size": 10,
             "solidity": 0.2
            },
            "type": "scatter"
           }
          ],
          "scatter3d": [
           {
            "line": {
             "colorbar": {
              "outlinewidth": 0,
              "ticks": ""
             }
            },
            "marker": {
             "colorbar": {
              "outlinewidth": 0,
              "ticks": ""
             }
            },
            "type": "scatter3d"
           }
          ],
          "scattercarpet": [
           {
            "marker": {
             "colorbar": {
              "outlinewidth": 0,
              "ticks": ""
             }
            },
            "type": "scattercarpet"
           }
          ],
          "scattergeo": [
           {
            "marker": {
             "colorbar": {
              "outlinewidth": 0,
              "ticks": ""
             }
            },
            "type": "scattergeo"
           }
          ],
          "scattergl": [
           {
            "marker": {
             "colorbar": {
              "outlinewidth": 0,
              "ticks": ""
             }
            },
            "type": "scattergl"
           }
          ],
          "scattermapbox": [
           {
            "marker": {
             "colorbar": {
              "outlinewidth": 0,
              "ticks": ""
             }
            },
            "type": "scattermapbox"
           }
          ],
          "scatterpolar": [
           {
            "marker": {
             "colorbar": {
              "outlinewidth": 0,
              "ticks": ""
             }
            },
            "type": "scatterpolar"
           }
          ],
          "scatterpolargl": [
           {
            "marker": {
             "colorbar": {
              "outlinewidth": 0,
              "ticks": ""
             }
            },
            "type": "scatterpolargl"
           }
          ],
          "scatterternary": [
           {
            "marker": {
             "colorbar": {
              "outlinewidth": 0,
              "ticks": ""
             }
            },
            "type": "scatterternary"
           }
          ],
          "surface": [
           {
            "colorbar": {
             "outlinewidth": 0,
             "ticks": ""
            },
            "colorscale": [
             [
              0,
              "#0d0887"
             ],
             [
              0.1111111111111111,
              "#46039f"
             ],
             [
              0.2222222222222222,
              "#7201a8"
             ],
             [
              0.3333333333333333,
              "#9c179e"
             ],
             [
              0.4444444444444444,
              "#bd3786"
             ],
             [
              0.5555555555555556,
              "#d8576b"
             ],
             [
              0.6666666666666666,
              "#ed7953"
             ],
             [
              0.7777777777777778,
              "#fb9f3a"
             ],
             [
              0.8888888888888888,
              "#fdca26"
             ],
             [
              1,
              "#f0f921"
             ]
            ],
            "type": "surface"
           }
          ],
          "table": [
           {
            "cells": {
             "fill": {
              "color": "#EBF0F8"
             },
             "line": {
              "color": "white"
             }
            },
            "header": {
             "fill": {
              "color": "#C8D4E3"
             },
             "line": {
              "color": "white"
             }
            },
            "type": "table"
           }
          ]
         },
         "layout": {
          "annotationdefaults": {
           "arrowcolor": "#2a3f5f",
           "arrowhead": 0,
           "arrowwidth": 1
          },
          "autotypenumbers": "strict",
          "coloraxis": {
           "colorbar": {
            "outlinewidth": 0,
            "ticks": ""
           }
          },
          "colorscale": {
           "diverging": [
            [
             0,
             "#8e0152"
            ],
            [
             0.1,
             "#c51b7d"
            ],
            [
             0.2,
             "#de77ae"
            ],
            [
             0.3,
             "#f1b6da"
            ],
            [
             0.4,
             "#fde0ef"
            ],
            [
             0.5,
             "#f7f7f7"
            ],
            [
             0.6,
             "#e6f5d0"
            ],
            [
             0.7,
             "#b8e186"
            ],
            [
             0.8,
             "#7fbc41"
            ],
            [
             0.9,
             "#4d9221"
            ],
            [
             1,
             "#276419"
            ]
           ],
           "sequential": [
            [
             0,
             "#0d0887"
            ],
            [
             0.1111111111111111,
             "#46039f"
            ],
            [
             0.2222222222222222,
             "#7201a8"
            ],
            [
             0.3333333333333333,
             "#9c179e"
            ],
            [
             0.4444444444444444,
             "#bd3786"
            ],
            [
             0.5555555555555556,
             "#d8576b"
            ],
            [
             0.6666666666666666,
             "#ed7953"
            ],
            [
             0.7777777777777778,
             "#fb9f3a"
            ],
            [
             0.8888888888888888,
             "#fdca26"
            ],
            [
             1,
             "#f0f921"
            ]
           ],
           "sequentialminus": [
            [
             0,
             "#0d0887"
            ],
            [
             0.1111111111111111,
             "#46039f"
            ],
            [
             0.2222222222222222,
             "#7201a8"
            ],
            [
             0.3333333333333333,
             "#9c179e"
            ],
            [
             0.4444444444444444,
             "#bd3786"
            ],
            [
             0.5555555555555556,
             "#d8576b"
            ],
            [
             0.6666666666666666,
             "#ed7953"
            ],
            [
             0.7777777777777778,
             "#fb9f3a"
            ],
            [
             0.8888888888888888,
             "#fdca26"
            ],
            [
             1,
             "#f0f921"
            ]
           ]
          },
          "colorway": [
           "#636efa",
           "#EF553B",
           "#00cc96",
           "#ab63fa",
           "#FFA15A",
           "#19d3f3",
           "#FF6692",
           "#B6E880",
           "#FF97FF",
           "#FECB52"
          ],
          "font": {
           "color": "#2a3f5f"
          },
          "geo": {
           "bgcolor": "white",
           "lakecolor": "white",
           "landcolor": "#E5ECF6",
           "showlakes": true,
           "showland": true,
           "subunitcolor": "white"
          },
          "hoverlabel": {
           "align": "left"
          },
          "hovermode": "closest",
          "mapbox": {
           "style": "light"
          },
          "paper_bgcolor": "white",
          "plot_bgcolor": "#E5ECF6",
          "polar": {
           "angularaxis": {
            "gridcolor": "white",
            "linecolor": "white",
            "ticks": ""
           },
           "bgcolor": "#E5ECF6",
           "radialaxis": {
            "gridcolor": "white",
            "linecolor": "white",
            "ticks": ""
           }
          },
          "scene": {
           "xaxis": {
            "backgroundcolor": "#E5ECF6",
            "gridcolor": "white",
            "gridwidth": 2,
            "linecolor": "white",
            "showbackground": true,
            "ticks": "",
            "zerolinecolor": "white"
           },
           "yaxis": {
            "backgroundcolor": "#E5ECF6",
            "gridcolor": "white",
            "gridwidth": 2,
            "linecolor": "white",
            "showbackground": true,
            "ticks": "",
            "zerolinecolor": "white"
           },
           "zaxis": {
            "backgroundcolor": "#E5ECF6",
            "gridcolor": "white",
            "gridwidth": 2,
            "linecolor": "white",
            "showbackground": true,
            "ticks": "",
            "zerolinecolor": "white"
           }
          },
          "shapedefaults": {
           "line": {
            "color": "#2a3f5f"
           }
          },
          "ternary": {
           "aaxis": {
            "gridcolor": "white",
            "linecolor": "white",
            "ticks": ""
           },
           "baxis": {
            "gridcolor": "white",
            "linecolor": "white",
            "ticks": ""
           },
           "bgcolor": "#E5ECF6",
           "caxis": {
            "gridcolor": "white",
            "linecolor": "white",
            "ticks": ""
           }
          },
          "title": {
           "x": 0.05
          },
          "xaxis": {
           "automargin": true,
           "gridcolor": "white",
           "linecolor": "white",
           "ticks": "",
           "title": {
            "standoff": 15
           },
           "zerolinecolor": "white",
           "zerolinewidth": 2
          },
          "yaxis": {
           "automargin": true,
           "gridcolor": "white",
           "linecolor": "white",
           "ticks": "",
           "title": {
            "standoff": 15
           },
           "zerolinecolor": "white",
           "zerolinewidth": 2
          }
         }
        },
        "width": 800,
        "xaxis": {
         "title": {
          "text": "Jumlah Berita"
         }
        },
        "yaxis": {
         "autorange": "reversed",
         "title": {
          "text": "Media Source"
         }
        }
       }
      }
     },
     "metadata": {},
     "output_type": "display_data"
    },
    {
     "name": "stdout",
     "output_type": "stream",
     "text": [
      "\n",
      "🔥 5. Heatmap - Sentimen per Media per Tanggal\n"
     ]
    },
    {
     "data": {
      "application/vnd.plotly.v1+json": {
       "config": {
        "plotlyServerURL": "https://plot.ly"
       },
       "data": [
        {
         "colorbar": {
          "ticksuffix": "%",
          "title": {
           "side": "right",
           "text": "% Sentimen Positif"
          }
         },
         "colorscale": [
          [
           0,
           "#DC143C"
          ],
          [
           0.5,
           "#808080"
          ],
          [
           1,
           "#2E8B57"
          ]
         ],
         "customdata": [
          [
           null,
           100,
           100,
           100
          ],
          [
           100,
           null,
           100,
           100
          ],
          [
           100,
           50,
           null,
           null
          ],
          [
           null,
           100,
           100,
           null
          ],
          [
           100,
           null,
           null,
           null
          ],
          [
           null,
           null,
           null,
           100
          ],
          [
           null,
           100,
           null,
           null
          ],
          [
           null,
           null,
           null,
           100
          ],
          [
           null,
           null,
           null,
           100
          ],
          [
           null,
           null,
           null,
           100
          ]
         ],
         "hoverinfo": "text",
         "hovertemplate": "<b>%{y}</b><br>Tanggal: %{x}<br><extra></extra>",
         "hovertext": [
          [
           "Tidak ada berita",
           "Sentimen Positif: 100.0%",
           "Sentimen Positif: 100.0%",
           "Sentimen Positif: 100.0%"
          ],
          [
           "Sentimen Positif: 100.0%",
           "Tidak ada berita",
           "Sentimen Positif: 100.0%",
           "Sentimen Positif: 100.0%"
          ],
          [
           "Sentimen Positif: 100.0%",
           "Sentimen Positif: 50.0%",
           "Tidak ada berita",
           "Tidak ada berita"
          ],
          [
           "Tidak ada berita",
           "Sentimen Positif: 100.0%",
           "Sentimen Positif: 100.0%",
           "Tidak ada berita"
          ],
          [
           "Sentimen Positif: 100.0%",
           "Tidak ada berita",
           "Tidak ada berita",
           "Tidak ada berita"
          ],
          [
           "Tidak ada berita",
           "Tidak ada berita",
           "Tidak ada berita",
           "Sentimen Positif: 100.0%"
          ],
          [
           "Tidak ada berita",
           "Sentimen Positif: 100.0%",
           "Tidak ada berita",
           "Tidak ada berita"
          ],
          [
           "Tidak ada berita",
           "Tidak ada berita",
           "Tidak ada berita",
           "Sentimen Positif: 100.0%"
          ],
          [
           "Tidak ada berita",
           "Tidak ada berita",
           "Tidak ada berita",
           "Sentimen Positif: 100.0%"
          ],
          [
           "Tidak ada berita",
           "Tidak ada berita",
           "Tidak ada berita",
           "Sentimen Positif: 100.0%"
          ]
         ],
         "text": [
          [
           "Tidak ada berita",
           "Sentimen Positif: 100.0%",
           "Sentimen Positif: 100.0%",
           "Sentimen Positif: 100.0%"
          ],
          [
           "Sentimen Positif: 100.0%",
           "Tidak ada berita",
           "Sentimen Positif: 100.0%",
           "Sentimen Positif: 100.0%"
          ],
          [
           "Sentimen Positif: 100.0%",
           "Sentimen Positif: 50.0%",
           "Tidak ada berita",
           "Tidak ada berita"
          ],
          [
           "Tidak ada berita",
           "Sentimen Positif: 100.0%",
           "Sentimen Positif: 100.0%",
           "Tidak ada berita"
          ],
          [
           "Sentimen Positif: 100.0%",
           "Tidak ada berita",
           "Tidak ada berita",
           "Tidak ada berita"
          ],
          [
           "Tidak ada berita",
           "Tidak ada berita",
           "Tidak ada berita",
           "Sentimen Positif: 100.0%"
          ],
          [
           "Tidak ada berita",
           "Sentimen Positif: 100.0%",
           "Tidak ada berita",
           "Tidak ada berita"
          ],
          [
           "Tidak ada berita",
           "Tidak ada berita",
           "Tidak ada berita",
           "Sentimen Positif: 100.0%"
          ],
          [
           "Tidak ada berita",
           "Tidak ada berita",
           "Tidak ada berita",
           "Sentimen Positif: 100.0%"
          ],
          [
           "Tidak ada berita",
           "Tidak ada berita",
           "Tidak ada berita",
           "Sentimen Positif: 100.0%"
          ]
         ],
         "type": "heatmap",
         "x": [
          "2025-09-28",
          "2025-09-30",
          "2025-09-29",
          "2025-10-01"
         ],
         "y": [
          "www.cnbcindonesia.com",
          "kumparan.com",
          "www.tempo.co",
          "www.metrotvnews.com",
          "ekbis.sindonews.com",
          "news.ddtc.co.id",
          "berita.batangkab.go.id",
          "jateng.antaranews.com",
          "www.antarafoto.com",
          "jogjapolitan.harianjogja.com"
         ],
         "z": [
          [
           null,
           100,
           100,
           100
          ],
          [
           100,
           null,
           100,
           100
          ],
          [
           100,
           50,
           null,
           null
          ],
          [
           null,
           100,
           100,
           null
          ],
          [
           100,
           null,
           null,
           null
          ],
          [
           null,
           null,
           null,
           100
          ],
          [
           null,
           100,
           null,
           null
          ],
          [
           null,
           null,
           null,
           100
          ],
          [
           null,
           null,
           null,
           100
          ],
          [
           null,
           null,
           null,
           100
          ]
         ],
         "zmax": 100,
         "zmid": 50,
         "zmin": 0
        }
       ],
       "layout": {
        "font": {
         "size": 12
        },
        "height": 600,
        "paper_bgcolor": "white",
        "plot_bgcolor": "white",
        "template": {
         "data": {
          "bar": [
           {
            "error_x": {
             "color": "#2a3f5f"
            },
            "error_y": {
             "color": "#2a3f5f"
            },
            "marker": {
             "line": {
              "color": "#E5ECF6",
              "width": 0.5
             },
             "pattern": {
              "fillmode": "overlay",
              "size": 10,
              "solidity": 0.2
             }
            },
            "type": "bar"
           }
          ],
          "barpolar": [
           {
            "marker": {
             "line": {
              "color": "#E5ECF6",
              "width": 0.5
             },
             "pattern": {
              "fillmode": "overlay",
              "size": 10,
              "solidity": 0.2
             }
            },
            "type": "barpolar"
           }
          ],
          "carpet": [
           {
            "aaxis": {
             "endlinecolor": "#2a3f5f",
             "gridcolor": "white",
             "linecolor": "white",
             "minorgridcolor": "white",
             "startlinecolor": "#2a3f5f"
            },
            "baxis": {
             "endlinecolor": "#2a3f5f",
             "gridcolor": "white",
             "linecolor": "white",
             "minorgridcolor": "white",
             "startlinecolor": "#2a3f5f"
            },
            "type": "carpet"
           }
          ],
          "choropleth": [
           {
            "colorbar": {
             "outlinewidth": 0,
             "ticks": ""
            },
            "type": "choropleth"
           }
          ],
          "contour": [
           {
            "colorbar": {
             "outlinewidth": 0,
             "ticks": ""
            },
            "colorscale": [
             [
              0,
              "#0d0887"
             ],
             [
              0.1111111111111111,
              "#46039f"
             ],
             [
              0.2222222222222222,
              "#7201a8"
             ],
             [
              0.3333333333333333,
              "#9c179e"
             ],
             [
              0.4444444444444444,
              "#bd3786"
             ],
             [
              0.5555555555555556,
              "#d8576b"
             ],
             [
              0.6666666666666666,
              "#ed7953"
             ],
             [
              0.7777777777777778,
              "#fb9f3a"
             ],
             [
              0.8888888888888888,
              "#fdca26"
             ],
             [
              1,
              "#f0f921"
             ]
            ],
            "type": "contour"
           }
          ],
          "contourcarpet": [
           {
            "colorbar": {
             "outlinewidth": 0,
             "ticks": ""
            },
            "type": "contourcarpet"
           }
          ],
          "heatmap": [
           {
            "colorbar": {
             "outlinewidth": 0,
             "ticks": ""
            },
            "colorscale": [
             [
              0,
              "#0d0887"
             ],
             [
              0.1111111111111111,
              "#46039f"
             ],
             [
              0.2222222222222222,
              "#7201a8"
             ],
             [
              0.3333333333333333,
              "#9c179e"
             ],
             [
              0.4444444444444444,
              "#bd3786"
             ],
             [
              0.5555555555555556,
              "#d8576b"
             ],
             [
              0.6666666666666666,
              "#ed7953"
             ],
             [
              0.7777777777777778,
              "#fb9f3a"
             ],
             [
              0.8888888888888888,
              "#fdca26"
             ],
             [
              1,
              "#f0f921"
             ]
            ],
            "type": "heatmap"
           }
          ],
          "heatmapgl": [
           {
            "colorbar": {
             "outlinewidth": 0,
             "ticks": ""
            },
            "colorscale": [
             [
              0,
              "#0d0887"
             ],
             [
              0.1111111111111111,
              "#46039f"
             ],
             [
              0.2222222222222222,
              "#7201a8"
             ],
             [
              0.3333333333333333,
              "#9c179e"
             ],
             [
              0.4444444444444444,
              "#bd3786"
             ],
             [
              0.5555555555555556,
              "#d8576b"
             ],
             [
              0.6666666666666666,
              "#ed7953"
             ],
             [
              0.7777777777777778,
              "#fb9f3a"
             ],
             [
              0.8888888888888888,
              "#fdca26"
             ],
             [
              1,
              "#f0f921"
             ]
            ],
            "type": "heatmapgl"
           }
          ],
          "histogram": [
           {
            "marker": {
             "pattern": {
              "fillmode": "overlay",
              "size": 10,
              "solidity": 0.2
             }
            },
            "type": "histogram"
           }
          ],
          "histogram2d": [
           {
            "colorbar": {
             "outlinewidth": 0,
             "ticks": ""
            },
            "colorscale": [
             [
              0,
              "#0d0887"
             ],
             [
              0.1111111111111111,
              "#46039f"
             ],
             [
              0.2222222222222222,
              "#7201a8"
             ],
             [
              0.3333333333333333,
              "#9c179e"
             ],
             [
              0.4444444444444444,
              "#bd3786"
             ],
             [
              0.5555555555555556,
              "#d8576b"
             ],
             [
              0.6666666666666666,
              "#ed7953"
             ],
             [
              0.7777777777777778,
              "#fb9f3a"
             ],
             [
              0.8888888888888888,
              "#fdca26"
             ],
             [
              1,
              "#f0f921"
             ]
            ],
            "type": "histogram2d"
           }
          ],
          "histogram2dcontour": [
           {
            "colorbar": {
             "outlinewidth": 0,
             "ticks": ""
            },
            "colorscale": [
             [
              0,
              "#0d0887"
             ],
             [
              0.1111111111111111,
              "#46039f"
             ],
             [
              0.2222222222222222,
              "#7201a8"
             ],
             [
              0.3333333333333333,
              "#9c179e"
             ],
             [
              0.4444444444444444,
              "#bd3786"
             ],
             [
              0.5555555555555556,
              "#d8576b"
             ],
             [
              0.6666666666666666,
              "#ed7953"
             ],
             [
              0.7777777777777778,
              "#fb9f3a"
             ],
             [
              0.8888888888888888,
              "#fdca26"
             ],
             [
              1,
              "#f0f921"
             ]
            ],
            "type": "histogram2dcontour"
           }
          ],
          "mesh3d": [
           {
            "colorbar": {
             "outlinewidth": 0,
             "ticks": ""
            },
            "type": "mesh3d"
           }
          ],
          "parcoords": [
           {
            "line": {
             "colorbar": {
              "outlinewidth": 0,
              "ticks": ""
             }
            },
            "type": "parcoords"
           }
          ],
          "pie": [
           {
            "automargin": true,
            "type": "pie"
           }
          ],
          "scatter": [
           {
            "fillpattern": {
             "fillmode": "overlay",
             "size": 10,
             "solidity": 0.2
            },
            "type": "scatter"
           }
          ],
          "scatter3d": [
           {
            "line": {
             "colorbar": {
              "outlinewidth": 0,
              "ticks": ""
             }
            },
            "marker": {
             "colorbar": {
              "outlinewidth": 0,
              "ticks": ""
             }
            },
            "type": "scatter3d"
           }
          ],
          "scattercarpet": [
           {
            "marker": {
             "colorbar": {
              "outlinewidth": 0,
              "ticks": ""
             }
            },
            "type": "scattercarpet"
           }
          ],
          "scattergeo": [
           {
            "marker": {
             "colorbar": {
              "outlinewidth": 0,
              "ticks": ""
             }
            },
            "type": "scattergeo"
           }
          ],
          "scattergl": [
           {
            "marker": {
             "colorbar": {
              "outlinewidth": 0,
              "ticks": ""
             }
            },
            "type": "scattergl"
           }
          ],
          "scattermapbox": [
           {
            "marker": {
             "colorbar": {
              "outlinewidth": 0,
              "ticks": ""
             }
            },
            "type": "scattermapbox"
           }
          ],
          "scatterpolar": [
           {
            "marker": {
             "colorbar": {
              "outlinewidth": 0,
              "ticks": ""
             }
            },
            "type": "scatterpolar"
           }
          ],
          "scatterpolargl": [
           {
            "marker": {
             "colorbar": {
              "outlinewidth": 0,
              "ticks": ""
             }
            },
            "type": "scatterpolargl"
           }
          ],
          "scatterternary": [
           {
            "marker": {
             "colorbar": {
              "outlinewidth": 0,
              "ticks": ""
             }
            },
            "type": "scatterternary"
           }
          ],
          "surface": [
           {
            "colorbar": {
             "outlinewidth": 0,
             "ticks": ""
            },
            "colorscale": [
             [
              0,
              "#0d0887"
             ],
             [
              0.1111111111111111,
              "#46039f"
             ],
             [
              0.2222222222222222,
              "#7201a8"
             ],
             [
              0.3333333333333333,
              "#9c179e"
             ],
             [
              0.4444444444444444,
              "#bd3786"
             ],
             [
              0.5555555555555556,
              "#d8576b"
             ],
             [
              0.6666666666666666,
              "#ed7953"
             ],
             [
              0.7777777777777778,
              "#fb9f3a"
             ],
             [
              0.8888888888888888,
              "#fdca26"
             ],
             [
              1,
              "#f0f921"
             ]
            ],
            "type": "surface"
           }
          ],
          "table": [
           {
            "cells": {
             "fill": {
              "color": "#EBF0F8"
             },
             "line": {
              "color": "white"
             }
            },
            "header": {
             "fill": {
              "color": "#C8D4E3"
             },
             "line": {
              "color": "white"
             }
            },
            "type": "table"
           }
          ]
         },
         "layout": {
          "annotationdefaults": {
           "arrowcolor": "#2a3f5f",
           "arrowhead": 0,
           "arrowwidth": 1
          },
          "autotypenumbers": "strict",
          "coloraxis": {
           "colorbar": {
            "outlinewidth": 0,
            "ticks": ""
           }
          },
          "colorscale": {
           "diverging": [
            [
             0,
             "#8e0152"
            ],
            [
             0.1,
             "#c51b7d"
            ],
            [
             0.2,
             "#de77ae"
            ],
            [
             0.3,
             "#f1b6da"
            ],
            [
             0.4,
             "#fde0ef"
            ],
            [
             0.5,
             "#f7f7f7"
            ],
            [
             0.6,
             "#e6f5d0"
            ],
            [
             0.7,
             "#b8e186"
            ],
            [
             0.8,
             "#7fbc41"
            ],
            [
             0.9,
             "#4d9221"
            ],
            [
             1,
             "#276419"
            ]
           ],
           "sequential": [
            [
             0,
             "#0d0887"
            ],
            [
             0.1111111111111111,
             "#46039f"
            ],
            [
             0.2222222222222222,
             "#7201a8"
            ],
            [
             0.3333333333333333,
             "#9c179e"
            ],
            [
             0.4444444444444444,
             "#bd3786"
            ],
            [
             0.5555555555555556,
             "#d8576b"
            ],
            [
             0.6666666666666666,
             "#ed7953"
            ],
            [
             0.7777777777777778,
             "#fb9f3a"
            ],
            [
             0.8888888888888888,
             "#fdca26"
            ],
            [
             1,
             "#f0f921"
            ]
           ],
           "sequentialminus": [
            [
             0,
             "#0d0887"
            ],
            [
             0.1111111111111111,
             "#46039f"
            ],
            [
             0.2222222222222222,
             "#7201a8"
            ],
            [
             0.3333333333333333,
             "#9c179e"
            ],
            [
             0.4444444444444444,
             "#bd3786"
            ],
            [
             0.5555555555555556,
             "#d8576b"
            ],
            [
             0.6666666666666666,
             "#ed7953"
            ],
            [
             0.7777777777777778,
             "#fb9f3a"
            ],
            [
             0.8888888888888888,
             "#fdca26"
            ],
            [
             1,
             "#f0f921"
            ]
           ]
          },
          "colorway": [
           "#636efa",
           "#EF553B",
           "#00cc96",
           "#ab63fa",
           "#FFA15A",
           "#19d3f3",
           "#FF6692",
           "#B6E880",
           "#FF97FF",
           "#FECB52"
          ],
          "font": {
           "color": "#2a3f5f"
          },
          "geo": {
           "bgcolor": "white",
           "lakecolor": "white",
           "landcolor": "#E5ECF6",
           "showlakes": true,
           "showland": true,
           "subunitcolor": "white"
          },
          "hoverlabel": {
           "align": "left"
          },
          "hovermode": "closest",
          "mapbox": {
           "style": "light"
          },
          "paper_bgcolor": "white",
          "plot_bgcolor": "#E5ECF6",
          "polar": {
           "angularaxis": {
            "gridcolor": "white",
            "linecolor": "white",
            "ticks": ""
           },
           "bgcolor": "#E5ECF6",
           "radialaxis": {
            "gridcolor": "white",
            "linecolor": "white",
            "ticks": ""
           }
          },
          "scene": {
           "xaxis": {
            "backgroundcolor": "#E5ECF6",
            "gridcolor": "white",
            "gridwidth": 2,
            "linecolor": "white",
            "showbackground": true,
            "ticks": "",
            "zerolinecolor": "white"
           },
           "yaxis": {
            "backgroundcolor": "#E5ECF6",
            "gridcolor": "white",
            "gridwidth": 2,
            "linecolor": "white",
            "showbackground": true,
            "ticks": "",
            "zerolinecolor": "white"
           },
           "zaxis": {
            "backgroundcolor": "#E5ECF6",
            "gridcolor": "white",
            "gridwidth": 2,
            "linecolor": "white",
            "showbackground": true,
            "ticks": "",
            "zerolinecolor": "white"
           }
          },
          "shapedefaults": {
           "line": {
            "color": "#2a3f5f"
           }
          },
          "ternary": {
           "aaxis": {
            "gridcolor": "white",
            "linecolor": "white",
            "ticks": ""
           },
           "baxis": {
            "gridcolor": "white",
            "linecolor": "white",
            "ticks": ""
           },
           "bgcolor": "#E5ECF6",
           "caxis": {
            "gridcolor": "white",
            "linecolor": "white",
            "ticks": ""
           }
          },
          "title": {
           "x": 0.05
          },
          "xaxis": {
           "automargin": true,
           "gridcolor": "white",
           "linecolor": "white",
           "ticks": "",
           "title": {
            "standoff": 15
           },
           "zerolinecolor": "white",
           "zerolinewidth": 2
          },
          "yaxis": {
           "automargin": true,
           "gridcolor": "white",
           "linecolor": "white",
           "ticks": "",
           "title": {
            "standoff": 15
           },
           "zerolinecolor": "white",
           "zerolinewidth": 2
          }
         }
        },
        "width": 900,
        "xaxis": {
         "title": {
          "text": "Tanggal"
         }
        },
        "yaxis": {
         "title": {
          "text": "Media Source"
         }
        }
       }
      }
     },
     "metadata": {},
     "output_type": "display_data"
    },
    {
     "name": "stdout",
     "output_type": "stream",
     "text": [
      "\n",
      "☁️ 6. Word Cloud - Kata Kunci Populer\n"
     ]
    },
    {
     "data": {
      "image/png": "[encoded data removed]",
      "text/plain": [
       "<Figure size 1200x600 with 1 Axes>"
      ]
     },
     "metadata": {},
     "output_type": "display_data"
    },
    {
     "name": "stdout",
     "output_type": "stream",
     "text": [
      "\n",
      "✅ Semua visualisasi telah ditampilkan!\n",
      "\n",
      "📋 Insight Utama:\n",
      "   🎯 Sentimen dominan: positif (92.5%)\n",
      "   📺 Media terbanyak: www.cnbcindonesia.com (8 berita)\n",
      "   🔤 Kata populer: rokok (42), ilegal (32), purbaya (21), cukai (19), tak (10)\n",
      "\n",
      "✅ Semua visualisasi berhasil dibuat dan ditampilkan!\n",
      "💡 Tip: Scroll ke atas untuk melihat grafik-grafik yang telah dibuat.\n",
      "📋 DASHBOARD SUMMARY - MONITORING BERITA PENTING\n",
      "================================================================================\n",
      "📅 PERIODE ANALISIS\n",
      "   • Tanggal: 28 September 2025 - 01 October 2025\n",
      "   • Durasi: 4 hari\n",
      "   • Total berita: 40 artikel\n",
      "   • Rata-rata harian: 10.0 artikel/hari\n",
      "\n",
      "😊 ANALISIS SENTIMEN\n",
      "   😊 Positif: 37 berita (92.5%)\n",
      "   😠 Negatif: 2 berita (5.0%)\n",
      "   😐 Netral: 1 berita (2.5%)\n",
      "\n",
      "🌐 TOP MEDIA SOURCES\n",
      "   1. www.cnbcindonesia.com: 8 berita (20.0%)\n",
      "   2. kumparan.com: 3 berita (7.5%)\n",
      "   3. www.tempo.co: 3 berita (7.5%)\n",
      "   4. www.metrotvnews.com: 2 berita (5.0%)\n",
      "   5. ekbis.sindonews.com: 1 berita (2.5%)\n",
      "\n",
      "🔤 TOP KEYWORDS\n",
      "   1. 'rokok': 42 kali muncul\n",
      "   2. 'ilegal': 32 kali muncul\n",
      "   3. 'purbaya': 21 kali muncul\n",
      "   4. 'cukai': 19 kali muncul\n",
      "   5. 'tak': 10 kali muncul\n",
      "   6. 'indonesia': 9 kali muncul\n",
      "   7. 'cnbc': 8 kali muncul\n",
      "   8. 'batang': 8 kali muncul\n",
      "   9. 'bea': 7 kali muncul\n",
      "   10. 'sita': 6 kali muncul\n",
      "\n",
      "📈 DISTRIBUSI HARIAN\n",
      "   • 2025-09-28: 4 berita\n",
      "   • 2025-09-29: 12 berita\n",
      "   • 2025-09-30: 14 berita\n",
      "   • 2025-10-01: 10 berita\n",
      "\n",
      "🎯 KEY INSIGHTS\n",
      "   • Mayoritas berita (92.5%) bersentimen positif\n",
      "   • Hari dengan berita terbanyak: 2025-09-30 (14 berita)\n",
      "   • Berita tersebar di 28 media berbeda\n",
      "   • Fokus utama: Kemenkeu (40 berita)\n",
      "================================================================================\n",
      "✅ Analisis selesai! Dashboard siap untuk presentasi.\n",
      "\n",
      "💾 CARA MENYIMPAN VISUALISASI\n",
      "==================================================\n",
      "📊 Untuk menyimpan grafik interaktif:\n",
      "   • Klik tombol 'Download plot as PNG' di pojok kanan atas setiap grafik\n",
      "   • Atau gunakan kode: fig.write_image('nama_file.png')\n",
      "   • Format lain: fig.write_html('nama_file.html')\n",
      "\n",
      "☁️ Untuk menyimpan Word Cloud:\n",
      "   • Klik kanan pada gambar > Save Image As...\n",
      "   • Atau gunakan: plt.savefig('wordcloud.png', dpi=300, bbox_inches='tight')\n",
      "\n",
      "📋 Untuk ekspor data:\n",
      "   • processed_data['sentiment_summary'].to_csv('sentiment_analysis.csv')\n",
      "   • processed_data['timeline_data'].to_csv('timeline_data.csv')\n",
      "   • processed_data['source_summary'].to_csv('media_analysis.csv')\n"
     ]
    }
   ],
   "source": [
    "file_loc = os.path.join(cwd, '06_visualisasi.ipynb')\n",
    "\n",
    "%run \"$file_loc\""
   ]
  },
  {
   "cell_type": "markdown",
   "metadata": {},
   "source": [
    "# REKAP"
   ]
  },
  {
   "cell_type": "code",
   "execution_count": 14,
   "metadata": {},
   "outputs": [
    {
     "name": "stdout",
     "output_type": "stream",
     "text": [
      "Waktu proses: 12 menit 6 detik\n"
     ]
    }
   ],
   "source": [
    "# Tandai waktu selesai proses\n",
    "end_process_time = time.time()\n",
    "elapsed_time = end_process_time - start_process_time\n",
    "# jadikan menit & detik\n",
    "elapsed_minutes = int(elapsed_time // 60)\n",
    "elapsed_seconds = int(elapsed_time % 60)\n",
    "print(f\"Waktu proses: {elapsed_minutes} menit {elapsed_seconds} detik\")"
   ]
  }
 ],
 "metadata": {
  "colab": {
   "authorship_tag": "ABX9TyO7Du9kdtb2tYY9zmRcptUW",
   "collapsed_sections": [
    "nl15yqDXsRcB",
    "PgAoP36AsoBi",
    "zLAsNrRLtTwy",
    "btzQFyReOzDh"
   ],
   "mount_file_id": "1huIq8bthX6wwOLYeaNI1vyJesWYn8LGS",
   "provenance": []
  },
  "kernelspec": {
   "display_name": "base",
   "language": "python",
   "name": "python3"
  },
  "language_info": {
   "codemirror_mode": {
    "name": "ipython",
    "version": 3
   },
   "file_extension": ".py",
   "mimetype": "text/x-python",
   "name": "python",
   "nbconvert_exporter": "python",
   "pygments_lexer": "ipython3",
   "version": "3.12.7"
  },
  "widgets": {
   "application/vnd.jupyter.widget-state+json": {
    "0229bd90bd3d46b59c025a905c5b9ce2": {
     "model_module": "@jupyter-widgets/controls",
     "model_module_version": "1.5.0",
     "model_name": "HTMLModel",
     "state": {
      "_dom_classes": [],
      "_model_module": "@jupyter-widgets/controls",
      "_model_module_version": "1.5.0",
      "_model_name": "HTMLModel",
      "_view_count": null,
      "_view_module": "@jupyter-widgets/controls",
      "_view_module_version": "1.5.0",
      "_view_name": "HTMLView",
      "description": "",
      "description_tooltip": null,
      "layout": "IPY_MODEL_498f085853c24829affb231886434e6e",
      "placeholder": "​",
      "style": "IPY_MODEL_9d8f96ed7e8244ee9e50652f262e08e2",
      "value": " 13/13 [00:01&lt;00:00,  5.53file/s]"
     }
    },
    "03e742985f574beaa5d0606d9015fadb": {
     "model_module": "@jupyter-widgets/controls",
     "model_module_version": "1.5.0",
     "model_name": "HBoxModel",
     "state": {
      "_dom_classes": [],
      "_model_module": "@jupyter-widgets/controls",
      "_model_module_version": "1.5.0",
      "_model_name": "HBoxModel",
      "_view_count": null,
      "_view_module": "@jupyter-widgets/controls",
      "_view_module_version": "1.5.0",
      "_view_name": "HBoxView",
      "box_style": "",
      "children": [
       "IPY_MODEL_1944dc8d32c74470aa729da06d606f7c",
       "IPY_MODEL_efc062bd85a4423ba661c822648e9a11",
       "IPY_MODEL_0229bd90bd3d46b59c025a905c5b9ce2"
      ],
      "layout": "IPY_MODEL_f1016778e6bc4555ba99c034304e0c64"
     }
    },
    "1944dc8d32c74470aa729da06d606f7c": {
     "model_module": "@jupyter-widgets/controls",
     "model_module_version": "1.5.0",
     "model_name": "HTMLModel",
     "state": {
      "_dom_classes": [],
      "_model_module": "@jupyter-widgets/controls",
      "_model_module_version": "1.5.0",
      "_model_name": "HTMLModel",
      "_view_count": null,
      "_view_module": "@jupyter-widgets/controls",
      "_view_module_version": "1.5.0",
      "_view_name": "HTMLView",
      "description": "",
      "description_tooltip": null,
      "layout": "IPY_MODEL_81450a4bf4bf4353bc4794a2537493ec",
      "placeholder": "​",
      "style": "IPY_MODEL_929fe39a058f4edfa29150abe40f1feb",
      "value": "Membaca Excel: 100%"
     }
    },
    "280f90cef3bf4a64855f7d5800d45307": {
     "model_module": "@jupyter-widgets/base",
     "model_module_version": "1.2.0",
     "model_name": "LayoutModel",
     "state": {
      "_model_module": "@jupyter-widgets/base",
      "_model_module_version": "1.2.0",
      "_model_name": "LayoutModel",
      "_view_count": null,
      "_view_module": "@jupyter-widgets/base",
      "_view_module_version": "1.2.0",
      "_view_name": "LayoutView",
      "align_content": null,
      "align_items": null,
      "align_self": null,
      "border": null,
      "bottom": null,
      "display": null,
      "flex": null,
      "flex_flow": null,
      "grid_area": null,
      "grid_auto_columns": null,
      "grid_auto_flow": null,
      "grid_auto_rows": null,
      "grid_column": null,
      "grid_gap": null,
      "grid_row": null,
      "grid_template_areas": null,
      "grid_template_columns": null,
      "grid_template_rows": null,
      "height": null,
      "justify_content": null,
      "justify_items": null,
      "left": null,
      "margin": null,
      "max_height": null,
      "max_width": null,
      "min_height": null,
      "min_width": null,
      "object_fit": null,
      "object_position": null,
      "order": null,
      "overflow": null,
      "overflow_x": null,
      "overflow_y": null,
      "padding": null,
      "right": null,
      "top": null,
      "visibility": null,
      "width": null
     }
    },
    "498f085853c24829affb231886434e6e": {
     "model_module": "@jupyter-widgets/base",
     "model_module_version": "1.2.0",
     "model_name": "LayoutModel",
     "state": {
      "_model_module": "@jupyter-widgets/base",
      "_model_module_version": "1.2.0",
      "_model_name": "LayoutModel",
      "_view_count": null,
      "_view_module": "@jupyter-widgets/base",
      "_view_module_version": "1.2.0",
      "_view_name": "LayoutView",
      "align_content": null,
      "align_items": null,
      "align_self": null,
      "border": null,
      "bottom": null,
      "display": null,
      "flex": null,
      "flex_flow": null,
      "grid_area": null,
      "grid_auto_columns": null,
      "grid_auto_flow": null,
      "grid_auto_rows": null,
      "grid_column": null,
      "grid_gap": null,
      "grid_row": null,
      "grid_template_areas": null,
      "grid_template_columns": null,
      "grid_template_rows": null,
      "height": null,
      "justify_content": null,
      "justify_items": null,
      "left": null,
      "margin": null,
      "max_height": null,
      "max_width": null,
      "min_height": null,
      "min_width": null,
      "object_fit": null,
      "object_position": null,
      "order": null,
      "overflow": null,
      "overflow_x": null,
      "overflow_y": null,
      "padding": null,
      "right": null,
      "top": null,
      "visibility": null,
      "width": null
     }
    },
    "4d457ba32dc047fa94cfbcd12af7a7b5": {
     "model_module": "@jupyter-widgets/base",
     "model_module_version": "1.2.0",
     "model_name": "LayoutModel",
     "state": {
      "_model_module": "@jupyter-widgets/base",
      "_model_module_version": "1.2.0",
      "_model_name": "LayoutModel",
      "_view_count": null,
      "_view_module": "@jupyter-widgets/base",
      "_view_module_version": "1.2.0",
      "_view_name": "LayoutView",
      "align_content": null,
      "align_items": null,
      "align_self": null,
      "border": null,
      "bottom": null,
      "display": null,
      "flex": null,
      "flex_flow": null,
      "grid_area": null,
      "grid_auto_columns": null,
      "grid_auto_flow": null,
      "grid_auto_rows": null,
      "grid_column": null,
      "grid_gap": null,
      "grid_row": null,
      "grid_template_areas": null,
      "grid_template_columns": null,
      "grid_template_rows": null,
      "height": null,
      "justify_content": null,
      "justify_items": null,
      "left": null,
      "margin": null,
      "max_height": null,
      "max_width": null,
      "min_height": null,
      "min_width": null,
      "object_fit": null,
      "object_position": null,
      "order": null,
      "overflow": null,
      "overflow_x": null,
      "overflow_y": null,
      "padding": null,
      "right": null,
      "top": null,
      "visibility": null,
      "width": null
     }
    },
    "50cf6eac6fc646a5ac2c856d5d6b8c93": {
     "model_module": "@jupyter-widgets/controls",
     "model_module_version": "1.5.0",
     "model_name": "HTMLModel",
     "state": {
      "_dom_classes": [],
      "_model_module": "@jupyter-widgets/controls",
      "_model_module_version": "1.5.0",
      "_model_name": "HTMLModel",
      "_view_count": null,
      "_view_module": "@jupyter-widgets/controls",
      "_view_module_version": "1.5.0",
      "_view_name": "HTMLView",
      "description": "",
      "description_tooltip": null,
      "layout": "IPY_MODEL_99c7711a32504f1280c53abfd6b839c5",
      "placeholder": "​",
      "style": "IPY_MODEL_ccdfe10894894e65802e9958e40dffb0",
      "value": " 100/100 [01:06&lt;00:00,  1.73it/s]"
     }
    },
    "5886680b1a4d4c20adfff9f10b4eb80e": {
     "model_module": "@jupyter-widgets/controls",
     "model_module_version": "1.5.0",
     "model_name": "HTMLModel",
     "state": {
      "_dom_classes": [],
      "_model_module": "@jupyter-widgets/controls",
      "_model_module_version": "1.5.0",
      "_model_name": "HTMLModel",
      "_view_count": null,
      "_view_module": "@jupyter-widgets/controls",
      "_view_module_version": "1.5.0",
      "_view_name": "HTMLView",
      "description": "",
      "description_tooltip": null,
      "layout": "IPY_MODEL_280f90cef3bf4a64855f7d5800d45307",
      "placeholder": "​",
      "style": "IPY_MODEL_e0a7e6d3b9d743dbbc8939c2fa1a235d",
      "value": "Scraping artikel: 100%"
     }
    },
    "659a9c31541049f0beaad3723ac434bb": {
     "model_module": "@jupyter-widgets/base",
     "model_module_version": "1.2.0",
     "model_name": "LayoutModel",
     "state": {
      "_model_module": "@jupyter-widgets/base",
      "_model_module_version": "1.2.0",
      "_model_name": "LayoutModel",
      "_view_count": null,
      "_view_module": "@jupyter-widgets/base",
      "_view_module_version": "1.2.0",
      "_view_name": "LayoutView",
      "align_content": null,
      "align_items": null,
      "align_self": null,
      "border": null,
      "bottom": null,
      "display": null,
      "flex": null,
      "flex_flow": null,
      "grid_area": null,
      "grid_auto_columns": null,
      "grid_auto_flow": null,
      "grid_auto_rows": null,
      "grid_column": null,
      "grid_gap": null,
      "grid_row": null,
      "grid_template_areas": null,
      "grid_template_columns": null,
      "grid_template_rows": null,
      "height": null,
      "justify_content": null,
      "justify_items": null,
      "left": null,
      "margin": null,
      "max_height": null,
      "max_width": null,
      "min_height": null,
      "min_width": null,
      "object_fit": null,
      "object_position": null,
      "order": null,
      "overflow": null,
      "overflow_x": null,
      "overflow_y": null,
      "padding": null,
      "right": null,
      "top": null,
      "visibility": null,
      "width": null
     }
    },
    "6b3a08831def4c67b608dfa7c2001e11": {
     "model_module": "@jupyter-widgets/controls",
     "model_module_version": "1.5.0",
     "model_name": "ProgressStyleModel",
     "state": {
      "_model_module": "@jupyter-widgets/controls",
      "_model_module_version": "1.5.0",
      "_model_name": "ProgressStyleModel",
      "_view_count": null,
      "_view_module": "@jupyter-widgets/base",
      "_view_module_version": "1.2.0",
      "_view_name": "StyleView",
      "bar_color": null,
      "description_width": ""
     }
    },
    "81450a4bf4bf4353bc4794a2537493ec": {
     "model_module": "@jupyter-widgets/base",
     "model_module_version": "1.2.0",
     "model_name": "LayoutModel",
     "state": {
      "_model_module": "@jupyter-widgets/base",
      "_model_module_version": "1.2.0",
      "_model_name": "LayoutModel",
      "_view_count": null,
      "_view_module": "@jupyter-widgets/base",
      "_view_module_version": "1.2.0",
      "_view_name": "LayoutView",
      "align_content": null,
      "align_items": null,
      "align_self": null,
      "border": null,
      "bottom": null,
      "display": null,
      "flex": null,
      "flex_flow": null,
      "grid_area": null,
      "grid_auto_columns": null,
      "grid_auto_flow": null,
      "grid_auto_rows": null,
      "grid_column": null,
      "grid_gap": null,
      "grid_row": null,
      "grid_template_areas": null,
      "grid_template_columns": null,
      "grid_template_rows": null,
      "height": null,
      "justify_content": null,
      "justify_items": null,
      "left": null,
      "margin": null,
      "max_height": null,
      "max_width": null,
      "min_height": null,
      "min_width": null,
      "object_fit": null,
      "object_position": null,
      "order": null,
      "overflow": null,
      "overflow_x": null,
      "overflow_y": null,
      "padding": null,
      "right": null,
      "top": null,
      "visibility": null,
      "width": null
     }
    },
    "929fe39a058f4edfa29150abe40f1feb": {
     "model_module": "@jupyter-widgets/controls",
     "model_module_version": "1.5.0",
     "model_name": "DescriptionStyleModel",
     "state": {
      "_model_module": "@jupyter-widgets/controls",
      "_model_module_version": "1.5.0",
      "_model_name": "DescriptionStyleModel",
      "_view_count": null,
      "_view_module": "@jupyter-widgets/base",
      "_view_module_version": "1.2.0",
      "_view_name": "StyleView",
      "description_width": ""
     }
    },
    "991f091932664e3e8fff4b579b0adb71": {
     "model_module": "@jupyter-widgets/controls",
     "model_module_version": "1.5.0",
     "model_name": "ProgressStyleModel",
     "state": {
      "_model_module": "@jupyter-widgets/controls",
      "_model_module_version": "1.5.0",
      "_model_name": "ProgressStyleModel",
      "_view_count": null,
      "_view_module": "@jupyter-widgets/base",
      "_view_module_version": "1.2.0",
      "_view_name": "StyleView",
      "bar_color": null,
      "description_width": ""
     }
    },
    "99c7711a32504f1280c53abfd6b839c5": {
     "model_module": "@jupyter-widgets/base",
     "model_module_version": "1.2.0",
     "model_name": "LayoutModel",
     "state": {
      "_model_module": "@jupyter-widgets/base",
      "_model_module_version": "1.2.0",
      "_model_name": "LayoutModel",
      "_view_count": null,
      "_view_module": "@jupyter-widgets/base",
      "_view_module_version": "1.2.0",
      "_view_name": "LayoutView",
      "align_content": null,
      "align_items": null,
      "align_self": null,
      "border": null,
      "bottom": null,
      "display": null,
      "flex": null,
      "flex_flow": null,
      "grid_area": null,
      "grid_auto_columns": null,
      "grid_auto_flow": null,
      "grid_auto_rows": null,
      "grid_column": null,
      "grid_gap": null,
      "grid_row": null,
      "grid_template_areas": null,
      "grid_template_columns": null,
      "grid_template_rows": null,
      "height": null,
      "justify_content": null,
      "justify_items": null,
      "left": null,
      "margin": null,
      "max_height": null,
      "max_width": null,
      "min_height": null,
      "min_width": null,
      "object_fit": null,
      "object_position": null,
      "order": null,
      "overflow": null,
      "overflow_x": null,
      "overflow_y": null,
      "padding": null,
      "right": null,
      "top": null,
      "visibility": null,
      "width": null
     }
    },
    "9d8f96ed7e8244ee9e50652f262e08e2": {
     "model_module": "@jupyter-widgets/controls",
     "model_module_version": "1.5.0",
     "model_name": "DescriptionStyleModel",
     "state": {
      "_model_module": "@jupyter-widgets/controls",
      "_model_module_version": "1.5.0",
      "_model_name": "DescriptionStyleModel",
      "_view_count": null,
      "_view_module": "@jupyter-widgets/base",
      "_view_module_version": "1.2.0",
      "_view_name": "StyleView",
      "description_width": ""
     }
    },
    "be2c2a371fd746f1a9c54d1f118a2390": {
     "model_module": "@jupyter-widgets/controls",
     "model_module_version": "1.5.0",
     "model_name": "HBoxModel",
     "state": {
      "_dom_classes": [],
      "_model_module": "@jupyter-widgets/controls",
      "_model_module_version": "1.5.0",
      "_model_name": "HBoxModel",
      "_view_count": null,
      "_view_module": "@jupyter-widgets/controls",
      "_view_module_version": "1.5.0",
      "_view_name": "HBoxView",
      "box_style": "",
      "children": [
       "IPY_MODEL_5886680b1a4d4c20adfff9f10b4eb80e",
       "IPY_MODEL_f959c57f2f94471c9b5d800b644d69db",
       "IPY_MODEL_50cf6eac6fc646a5ac2c856d5d6b8c93"
      ],
      "layout": "IPY_MODEL_4d457ba32dc047fa94cfbcd12af7a7b5"
     }
    },
    "ccdfe10894894e65802e9958e40dffb0": {
     "model_module": "@jupyter-widgets/controls",
     "model_module_version": "1.5.0",
     "model_name": "DescriptionStyleModel",
     "state": {
      "_model_module": "@jupyter-widgets/controls",
      "_model_module_version": "1.5.0",
      "_model_name": "DescriptionStyleModel",
      "_view_count": null,
      "_view_module": "@jupyter-widgets/base",
      "_view_module_version": "1.2.0",
      "_view_name": "StyleView",
      "description_width": ""
     }
    },
    "de6e0370fdb54e4f88a1b3b6f39ca276": {
     "model_module": "@jupyter-widgets/base",
     "model_module_version": "1.2.0",
     "model_name": "LayoutModel",
     "state": {
      "_model_module": "@jupyter-widgets/base",
      "_model_module_version": "1.2.0",
      "_model_name": "LayoutModel",
      "_view_count": null,
      "_view_module": "@jupyter-widgets/base",
      "_view_module_version": "1.2.0",
      "_view_name": "LayoutView",
      "align_content": null,
      "align_items": null,
      "align_self": null,
      "border": null,
      "bottom": null,
      "display": null,
      "flex": null,
      "flex_flow": null,
      "grid_area": null,
      "grid_auto_columns": null,
      "grid_auto_flow": null,
      "grid_auto_rows": null,
      "grid_column": null,
      "grid_gap": null,
      "grid_row": null,
      "grid_template_areas": null,
      "grid_template_columns": null,
      "grid_template_rows": null,
      "height": null,
      "justify_content": null,
      "justify_items": null,
      "left": null,
      "margin": null,
      "max_height": null,
      "max_width": null,
      "min_height": null,
      "min_width": null,
      "object_fit": null,
      "object_position": null,
      "order": null,
      "overflow": null,
      "overflow_x": null,
      "overflow_y": null,
      "padding": null,
      "right": null,
      "top": null,
      "visibility": null,
      "width": null
     }
    },
    "e0a7e6d3b9d743dbbc8939c2fa1a235d": {
     "model_module": "@jupyter-widgets/controls",
     "model_module_version": "1.5.0",
     "model_name": "DescriptionStyleModel",
     "state": {
      "_model_module": "@jupyter-widgets/controls",
      "_model_module_version": "1.5.0",
      "_model_name": "DescriptionStyleModel",
      "_view_count": null,
      "_view_module": "@jupyter-widgets/base",
      "_view_module_version": "1.2.0",
      "_view_name": "StyleView",
      "description_width": ""
     }
    },
    "efc062bd85a4423ba661c822648e9a11": {
     "model_module": "@jupyter-widgets/controls",
     "model_module_version": "1.5.0",
     "model_name": "FloatProgressModel",
     "state": {
      "_dom_classes": [],
      "_model_module": "@jupyter-widgets/controls",
      "_model_module_version": "1.5.0",
      "_model_name": "FloatProgressModel",
      "_view_count": null,
      "_view_module": "@jupyter-widgets/controls",
      "_view_module_version": "1.5.0",
      "_view_name": "ProgressView",
      "bar_style": "success",
      "description": "",
      "description_tooltip": null,
      "layout": "IPY_MODEL_659a9c31541049f0beaad3723ac434bb",
      "max": 13,
      "min": 0,
      "orientation": "horizontal",
      "style": "IPY_MODEL_6b3a08831def4c67b608dfa7c2001e11",
      "value": 13
     }
    },
    "f1016778e6bc4555ba99c034304e0c64": {
     "model_module": "@jupyter-widgets/base",
     "model_module_version": "1.2.0",
     "model_name": "LayoutModel",
     "state": {
      "_model_module": "@jupyter-widgets/base",
      "_model_module_version": "1.2.0",
      "_model_name": "LayoutModel",
      "_view_count": null,
      "_view_module": "@jupyter-widgets/base",
      "_view_module_version": "1.2.0",
      "_view_name": "LayoutView",
      "align_content": null,
      "align_items": null,
      "align_self": null,
      "border": null,
      "bottom": null,
      "display": null,
      "flex": null,
      "flex_flow": null,
      "grid_area": null,
      "grid_auto_columns": null,
      "grid_auto_flow": null,
      "grid_auto_rows": null,
      "grid_column": null,
      "grid_gap": null,
      "grid_row": null,
      "grid_template_areas": null,
      "grid_template_columns": null,
      "grid_template_rows": null,
      "height": null,
      "justify_content": null,
      "justify_items": null,
      "left": null,
      "margin": null,
      "max_height": null,
      "max_width": null,
      "min_height": null,
      "min_width": null,
      "object_fit": null,
      "object_position": null,
      "order": null,
      "overflow": null,
      "overflow_x": null,
      "overflow_y": null,
      "padding": null,
      "right": null,
      "top": null,
      "visibility": null,
      "width": null
     }
    },
    "f959c57f2f94471c9b5d800b644d69db": {
     "model_module": "@jupyter-widgets/controls",
     "model_module_version": "1.5.0",
     "model_name": "FloatProgressModel",
     "state": {
      "_dom_classes": [],
      "_model_module": "@jupyter-widgets/controls",
      "_model_module_version": "1.5.0",
      "_model_name": "FloatProgressModel",
      "_view_count": null,
      "_view_module": "@jupyter-widgets/controls",
      "_view_module_version": "1.5.0",
      "_view_name": "ProgressView",
      "bar_style": "success",
      "description": "",
      "description_tooltip": null,
      "layout": "IPY_MODEL_de6e0370fdb54e4f88a1b3b6f39ca276",
      "max": 100,
      "min": 0,
      "orientation": "horizontal",
      "style": "IPY_MODEL_991f091932664e3e8fff4b579b0adb71",
      "value": 100
     }
    }
   }
  }
 },
 "nbformat": 4,
 "nbformat_minor": 0
}
