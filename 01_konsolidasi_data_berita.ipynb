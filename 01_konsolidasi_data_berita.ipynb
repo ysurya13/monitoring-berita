{
 "cells": [
  {
   "cell_type": "markdown",
   "metadata": {
    "id": "nl15yqDXsRcB"
   },
   "source": [
    "# SETTING ENVIRONMENT\n"
   ]
  },
  {
   "cell_type": "code",
   "execution_count": 1,
   "metadata": {
    "colab": {
     "base_uri": "https://localhost:8080/"
    },
    "executionInfo": {
     "elapsed": 17991,
     "status": "ok",
     "timestamp": 1758706351359,
     "user": {
      "displayName": "Monitoring Berita",
      "userId": "16755502473357078001"
     },
     "user_tz": -420
    },
    "id": "f8BqutX0SOd1",
    "outputId": "85ebefb9-53dd-45f6-b529-0e1b4e28cbc6"
   },
   "outputs": [
    {
     "data": {
      "text/plain": [
       "\"# mount the colab with google drive\\nfrom google.colab import drive\\ndrive.mount('/content/drive')\""
      ]
     },
     "execution_count": 1,
     "metadata": {},
     "output_type": "execute_result"
    }
   ],
   "source": [
    "\"\"\"# mount the colab with google drive\n",
    "from google.colab import drive\n",
    "drive.mount('/content/drive')\"\"\""
   ]
  },
  {
   "cell_type": "code",
   "execution_count": 2,
   "metadata": {
    "executionInfo": {
     "elapsed": 75,
     "status": "ok",
     "timestamp": 1758706351437,
     "user": {
      "displayName": "Monitoring Berita",
      "userId": "16755502473357078001"
     },
     "user_tz": -420
    },
    "id": "eLOguPRQSRLN"
   },
   "outputs": [],
   "source": [
    "# set folder tempat kerja (current working directory)\n",
    "import os\n",
    "cwd = '/Users/yusufpradana/Library/CloudStorage/OneDrive-Personal/Pekerjaan BMN/05. 2025/98_monitoring_berita/monitoring-berita'\n",
    "\n",
    "#cwd = '/content/drive/MyDrive/Monitoring Berita'\n",
    "os.chdir(cwd)"
   ]
  },
  {
   "cell_type": "markdown",
   "metadata": {
    "id": "_CrnpBjHM3Wa"
   },
   "source": [
    "# MAIN CODE"
   ]
  },
  {
   "cell_type": "code",
   "execution_count": 3,
   "metadata": {
    "executionInfo": {
     "elapsed": 868,
     "status": "ok",
     "timestamp": 1758706352307,
     "user": {
      "displayName": "Monitoring Berita",
      "userId": "16755502473357078001"
     },
     "user_tz": -420
    },
    "id": "sE2vfl0Evi-z"
   },
   "outputs": [],
   "source": [
    "# === Import & Setup ===\n",
    "import os\n",
    "import re\n",
    "import logging\n",
    "from pathlib import Path\n",
    "\n",
    "import pandas as pd\n",
    "from tqdm.auto import tqdm\n",
    "\n",
    "# (Opsional) Jika di Google Colab, pastikan Drive sudah di-mount\n",
    "# from google.colab import drive\n",
    "# drive.mount('/content/drive')\n",
    "\n",
    "# Logging yang rapi\n",
    "logging.basicConfig(\n",
    "    level=logging.INFO,\n",
    "    format=\"%(asctime)s | %(levelname)s | %(message)s\",\n",
    ")\n",
    "\n",
    "# Folder akar yang akan dipindai (disesuaikan ke workspace lokal)\n",
    "# Gunakan folder 'daftar_berita' yang sekarang berisi SEMUA file xlsx (tanpa subfolder per portal)\n",
    "ROOT_DIR = Path(cwd) / \"daftar_berita\"\n",
    "\n",
    "# Kolom target (akan dipastikan tersedia setelah normalisasi)\n",
    "TARGET_COLS = [\"judul_berita\", \"tanggal_berita\", \"url_berita\"]\n",
    "\n",
    "# Mapping normalisasi nama kolom\n",
    "COLUMN_ALIASES = {\n",
    "    \"judulberita\": \"judul_berita\",\n",
    "    \"judul_berita\": \"judul_berita\",\n",
    "    \"judul\": \"judul_berita\",\n",
    "\n",
    "    \"tanggalberita\": \"tanggal_berita\",\n",
    "    \"tanggal_berita\": \"tanggal_berita\",\n",
    "    \"tanggal\": \"tanggal_berita\",\n",
    "    \"tgl\": \"tanggal_berita\",\n",
    "    \"date\": \"tanggal_berita\",\n",
    "\n",
    "    \"penulisberita\": \"penulis_berita\",\n",
    "    \"penulis_berita\": \"penulis_berita\",\n",
    "    \"penulis\": \"penulis_berita\",\n",
    "    \"author\": \"penulis_berita\",\n",
    "\n",
    "    \"urlberita\": \"url_berita\",\n",
    "    \"url_berita\": \"url_berita\",\n",
    "    \"url\": \"url_berita\",\n",
    "    \"link\": \"url_berita\",\n",
    "}"
   ]
  },
  {
   "cell_type": "code",
   "execution_count": 4,
   "metadata": {
    "executionInfo": {
     "elapsed": 1,
     "status": "ok",
     "timestamp": 1758706352311,
     "user": {
      "displayName": "Monitoring Berita",
      "userId": "16755502473357078001"
     },
     "user_tz": -420
    },
    "id": "B_hmImPr5zTh"
   },
   "outputs": [],
   "source": [
    "def normalize_col(col: str) -> str:\n",
    "    \"\"\"Normalisasi nama kolom: lowercase + remove non-alnum.\"\"\"\n",
    "    if col is None:\n",
    "        return \"\"\n",
    "    c = str(col).strip().lower()\n",
    "    c = re.sub(r\"[^a-z0-9]+\", \"\", c)\n",
    "    return c\n",
    "\n",
    "def standardize_columns(df: pd.DataFrame) -> pd.DataFrame:\n",
    "    \"\"\"\n",
    "    Standarkan nama kolom dataframe sesuai TARGET_COLS memakai COLUMN_ALIASES.\n",
    "    \"\"\"\n",
    "    if df is None or df.empty:\n",
    "        return pd.DataFrame(columns=TARGET_COLS)\n",
    "\n",
    "    rename_map = {}\n",
    "    for col in df.columns:\n",
    "        norm = normalize_col(col)\n",
    "        if norm in COLUMN_ALIASES:\n",
    "            rename_map[col] = COLUMN_ALIASES[norm]\n",
    "\n",
    "    df2 = df.rename(columns=rename_map)\n",
    "\n",
    "    # Pastikan semua kolom target ada\n",
    "    for c in TARGET_COLS:\n",
    "        if c not in df2.columns:\n",
    "            df2[c] = pd.NA\n",
    "\n",
    "    return df2[TARGET_COLS]\n",
    "\n",
    "def read_excel_safe(path: Path) -> pd.DataFrame:\n",
    "    \"\"\"\n",
    "    Membaca satu file Excel dengan fallback engine dan error handling.\n",
    "    \"\"\"\n",
    "    try:\n",
    "        df = pd.read_excel(path)\n",
    "    except Exception as e1:\n",
    "        try:\n",
    "            if path.suffix.lower() in [\".xlsx\", \".xlsm\", \".xltx\", \".xltm\"]:\n",
    "                df = pd.read_excel(path, engine=\"openpyxl\")\n",
    "            elif path.suffix.lower() == \".xls\":\n",
    "                df = pd.read_excel(path, engine=None)\n",
    "            else:\n",
    "                raise\n",
    "        except Exception as e2:\n",
    "            logging.warning(f\"Gagal membaca: {path} | err1={e1} | err2={e2}\")\n",
    "            return pd.DataFrame(columns=TARGET_COLS)\n",
    "\n",
    "    df = standardize_columns(df).dropna(how=\"all\")\n",
    "    df = df[~(df[\"judul_berita\"].isna() & df[\"url_berita\"].isna())]\n",
    "    return df\n"
   ]
  },
  {
   "cell_type": "code",
   "execution_count": 5,
   "metadata": {
    "colab": {
     "base_uri": "https://localhost:8080/",
     "height": 49,
     "referenced_widgets": [
      "f0c24ecf1a7a453eaec8fdb077095ec1",
      "ab4e9eeb44534d7ca075be3ef0be9140",
      "fa0794c7e71745cbb2fd7d6fb736190c",
      "ea71b2e39f6840718508b543edb96b0c",
      "579253d4c79541e7989cacf16794d5e2",
      "e9562967c2844159b714002cb9b0568d",
      "07e2f691345b436299a2b68ad30bcede",
      "2eacc212024a48a39c511b4d18ccae1a",
      "168eb664e01f48bd8784ebd1a407d1f3",
      "28484795a2a047649ad94932da36d0b4",
      "287c5c63bcf4472f9546847d74fce769"
     ]
    },
    "executionInfo": {
     "elapsed": 4010,
     "status": "ok",
     "timestamp": 1758706356322,
     "user": {
      "displayName": "Monitoring Berita",
      "userId": "16755502473357078001"
     },
     "user_tz": -420
    },
    "id": "LLVZZDXX51kx",
    "outputId": "f747bde2-3483-4371-e1c5-74f4ee97beb7"
   },
   "outputs": [
    {
     "data": {
      "application/vnd.jupyter.widget-view+json": {
       "model_id": "b72d9c58c0b8436889daa3c4700085c9",
       "version_major": 2,
       "version_minor": 0
      },
      "text/plain": [
       "Membaca Excel:   0%|          | 0/9 [00:00<?, ?file/s]"
      ]
     },
     "metadata": {},
     "output_type": "display_data"
    },
    {
     "name": "stderr",
     "output_type": "stream",
     "text": [
      "2025-09-28 16:47:36,290 | INFO | Duplikat dihapus: 40 baris | Total akhir: 575\n",
      "2025-09-28 16:47:36,292 | INFO | Selesai gabung. Total baris: 575 | File terbaca: 9\n"
     ]
    }
   ],
   "source": [
    "# Cari semua file Excel secara rekursif (struktur baru: semua file xlsx ada langsung di folder ini)\n",
    "excel_patterns = [\"*.xlsx\", \"*.xls\", \"*.xlsm\", \"*.xltx\", \"*.xltm\"]\n",
    "paths = []\n",
    "for pat in excel_patterns:\n",
    "    # gunakan glob (bukan rglob) untuk satu level, namun tetap dukung rglob kalau ada subfolder tersisa\n",
    "    paths.extend(sorted(ROOT_DIR.glob(pat)))\n",
    "    paths.extend(sorted(ROOT_DIR.rglob(pat)))\n",
    "# unikkan path\n",
    "paths = sorted(dict.fromkeys(paths))\n",
    "\n",
    "if not paths:\n",
    "    logging.warning(f\"Tidak ditemukan file Excel di bawah {ROOT_DIR}\")\n",
    "\n",
    "dfs = []\n",
    "for p in tqdm(paths, desc=\"Membaca Excel\", unit=\"file\"):\n",
    "    df_part = read_excel_safe(p)\n",
    "    if not df_part.empty:\n",
    "        # Coba tebak nama portal dari nama file jika tidak ada subfolder\n",
    "        # Contoh: kompas.xlsx -> kompas, cnn_links.xlsx -> cnn\n",
    "        stem = p.stem.lower()\n",
    "        media_guess = re.split(r\"[_\\-]\", stem)[0] if stem else \"unknown\"\n",
    "        media_online = p.parent.name if p.parent != ROOT_DIR else media_guess\n",
    "\n",
    "        # Tambahkan metadata\n",
    "        df_part = df_part.assign(\n",
    "            media_online=media_online,\n",
    "            _source=str(p)\n",
    "        )\n",
    "        dfs.append(df_part)\n",
    "\n",
    "# Gabungkan semua\n",
    "if dfs:\n",
    "    df_all = pd.concat(dfs, ignore_index=True)\n",
    "else:\n",
    "    df_all = pd.DataFrame(columns=TARGET_COLS + [\"media_online\", \"_source\"])\n",
    "\n",
    "# --- Drop duplikat berdasarkan url_berita ---\n",
    "if \"url_berita\" in df_all.columns:\n",
    "    before = len(df_all)\n",
    "    df_all = df_all.drop_duplicates(subset=[\"url_berita\"], keep=\"first\")\n",
    "    after = len(df_all)\n",
    "    logging.info(f\"Duplikat dihapus: {before - after} baris | Total akhir: {after}\")\n",
    "\n",
    "# Strip whitespace pada teks\n",
    "for c in [\"judul_berita\", \"penulis_berita\", \"url_berita\", \"tanggal_berita\"]:\n",
    "    if c in df_all.columns:\n",
    "        df_all[c] = df_all[c].astype(\"string\").str.strip()\n",
    "\n",
    "logging.info(f\"Selesai gabung. Total baris: {len(df_all)} | File terbaca: {len(dfs)}\")\n",
    "\n",
    "#display(df_all.head(10))"
   ]
  },
  {
   "cell_type": "code",
   "execution_count": 6,
   "metadata": {
    "colab": {
     "base_uri": "https://localhost:8080/"
    },
    "executionInfo": {
     "elapsed": 504,
     "status": "ok",
     "timestamp": 1758706356830,
     "user": {
      "displayName": "Monitoring Berita",
      "userId": "16755502473357078001"
     },
     "user_tz": -420
    },
    "id": "fF2C38O9fUAq",
    "outputId": "48685fc3-dae6-4482-aba8-ff8a1527d7ca"
   },
   "outputs": [
    {
     "name": "stderr",
     "output_type": "stream",
     "text": [
      "2025-09-28 16:47:36,354 | WARNING | Gagal parse index=350, nilai='<NA>': String does not contain a date: <NA>\n",
      "2025-09-28 16:47:36,355 | WARNING | Gagal parse index=358, nilai='<NA>': String does not contain a date: <NA>\n",
      "2025-09-28 16:47:36,356 | WARNING | Gagal parse index=359, nilai='<NA>': String does not contain a date: <NA>\n",
      "2025-09-28 16:47:36,356 | WARNING | Gagal parse index=360, nilai='<NA>': String does not contain a date: <NA>\n",
      "2025-09-28 16:47:36,357 | WARNING | Gagal parse index=361, nilai='<NA>': String does not contain a date: <NA>\n",
      "2025-09-28 16:47:36,357 | WARNING | Gagal parse index=362, nilai='<NA>': String does not contain a date: <NA>\n",
      "2025-09-28 16:47:36,357 | WARNING | Gagal parse index=363, nilai='<NA>': String does not contain a date: <NA>\n",
      "2025-09-28 16:47:36,358 | WARNING | Gagal parse index=364, nilai='<NA>': String does not contain a date: <NA>\n",
      "2025-09-28 16:47:36,358 | WARNING | Gagal parse index=366, nilai='<NA>': String does not contain a date: <NA>\n",
      "2025-09-28 16:47:36,359 | WARNING | Gagal parse index=367, nilai='<NA>': String does not contain a date: <NA>\n",
      "2025-09-28 16:47:36,359 | WARNING | Gagal parse index=368, nilai='<NA>': String does not contain a date: <NA>\n",
      "2025-09-28 16:47:36,359 | WARNING | Gagal parse index=369, nilai='<NA>': String does not contain a date: <NA>\n",
      "2025-09-28 16:47:36,360 | WARNING | Gagal parse index=370, nilai='<NA>': String does not contain a date: <NA>\n",
      "2025-09-28 16:47:36,360 | WARNING | Gagal parse index=371, nilai='<NA>': String does not contain a date: <NA>\n",
      "2025-09-28 16:47:36,360 | WARNING | Gagal parse index=372, nilai='<NA>': String does not contain a date: <NA>\n",
      "2025-09-28 16:47:36,361 | WARNING | Gagal parse index=373, nilai='<NA>': String does not contain a date: <NA>\n",
      "2025-09-28 16:47:36,361 | WARNING | Gagal parse index=374, nilai='<NA>': String does not contain a date: <NA>\n",
      "2025-09-28 16:47:36,361 | WARNING | Gagal parse index=375, nilai='<NA>': String does not contain a date: <NA>\n",
      "2025-09-28 16:47:36,362 | WARNING | Gagal parse index=376, nilai='<NA>': String does not contain a date: <NA>\n",
      "2025-09-28 16:47:36,362 | WARNING | Gagal parse index=377, nilai='<NA>': String does not contain a date: <NA>\n",
      "2025-09-28 16:47:36,362 | WARNING | Gagal parse index=378, nilai='<NA>': String does not contain a date: <NA>\n",
      "2025-09-28 16:47:36,363 | WARNING | Gagal parse index=381, nilai='<NA>': String does not contain a date: <NA>\n",
      "2025-09-28 16:47:36,368 | WARNING | Gagal parse index=411, nilai='<NA>': String does not contain a date: <NA>\n",
      "2025-09-28 16:47:36,368 | WARNING | Gagal parse index=412, nilai='<NA>': String does not contain a date: <NA>\n",
      "2025-09-28 16:47:36,369 | WARNING | Gagal parse index=415, nilai='<NA>': String does not contain a date: <NA>\n",
      "2025-09-28 16:47:36,369 | WARNING | Gagal parse index=416, nilai='<NA>': String does not contain a date: <NA>\n",
      "2025-09-28 16:47:36,370 | WARNING | Gagal parse index=417, nilai='<NA>': String does not contain a date: <NA>\n",
      "2025-09-28 16:47:36,370 | WARNING | Gagal parse index=418, nilai='<NA>': String does not contain a date: <NA>\n",
      "2025-09-28 16:47:36,370 | WARNING | Gagal parse index=419, nilai='<NA>': String does not contain a date: <NA>\n",
      "2025-09-28 16:47:36,371 | WARNING | Gagal parse index=420, nilai='<NA>': String does not contain a date: <NA>\n",
      "2025-09-28 16:47:36,371 | WARNING | Gagal parse index=421, nilai='<NA>': String does not contain a date: <NA>\n",
      "2025-09-28 16:47:36,371 | WARNING | Gagal parse index=422, nilai='<NA>': String does not contain a date: <NA>\n",
      "2025-09-28 16:47:36,372 | WARNING | Gagal parse index=423, nilai='<NA>': String does not contain a date: <NA>\n",
      "2025-09-28 16:47:36,372 | WARNING | Gagal parse index=424, nilai='<NA>': String does not contain a date: <NA>\n",
      "2025-09-28 16:47:36,373 | WARNING | Gagal parse index=429, nilai='<NA>': String does not contain a date: <NA>\n",
      "2025-09-28 16:47:36,375 | WARNING | Gagal parse index=443, nilai='<NA>': String does not contain a date: <NA>\n",
      "2025-09-28 16:47:36,376 | WARNING | Gagal parse index=444, nilai='<NA>': String does not contain a date: <NA>\n",
      "2025-09-28 16:47:36,376 | WARNING | Gagal parse index=445, nilai='<NA>': String does not contain a date: <NA>\n",
      "2025-09-28 16:47:36,376 | WARNING | Gagal parse index=446, nilai='<NA>': String does not contain a date: <NA>\n",
      "2025-09-28 16:47:36,377 | WARNING | Gagal parse index=447, nilai='<NA>': String does not contain a date: <NA>\n",
      "2025-09-28 16:47:36,377 | WARNING | Gagal parse index=448, nilai='<NA>': String does not contain a date: <NA>\n",
      "2025-09-28 16:47:36,377 | WARNING | Gagal parse index=449, nilai='<NA>': String does not contain a date: <NA>\n",
      "2025-09-28 16:47:36,377 | WARNING | Gagal parse index=450, nilai='<NA>': String does not contain a date: <NA>\n",
      "2025-09-28 16:47:36,378 | WARNING | Gagal parse index=451, nilai='<NA>': String does not contain a date: <NA>\n",
      "2025-09-28 16:47:36,378 | WARNING | Gagal parse index=452, nilai='<NA>': String does not contain a date: <NA>\n",
      "2025-09-28 16:47:36,379 | WARNING | Gagal parse index=453, nilai='<NA>': String does not contain a date: <NA>\n",
      "2025-09-28 16:47:36,379 | WARNING | Gagal parse index=454, nilai='<NA>': String does not contain a date: <NA>\n",
      "2025-09-28 16:47:36,379 | WARNING | Gagal parse index=455, nilai='<NA>': String does not contain a date: <NA>\n",
      "2025-09-28 16:47:36,380 | WARNING | Gagal parse index=456, nilai='<NA>': String does not contain a date: <NA>\n",
      "2025-09-28 16:47:36,380 | WARNING | Gagal parse index=457, nilai='<NA>': String does not contain a date: <NA>\n",
      "2025-09-28 16:47:36,381 | WARNING | Gagal parse index=458, nilai='<NA>': String does not contain a date: <NA>\n",
      "2025-09-28 16:47:36,381 | WARNING | Gagal parse index=459, nilai='<NA>': String does not contain a date: <NA>\n",
      "2025-09-28 16:47:36,382 | WARNING | Gagal parse index=460, nilai='<NA>': String does not contain a date: <NA>\n",
      "2025-09-28 16:47:36,382 | WARNING | Gagal parse index=461, nilai='<NA>': String does not contain a date: <NA>\n",
      "2025-09-28 16:47:36,383 | WARNING | Gagal parse index=462, nilai='<NA>': String does not contain a date: <NA>\n",
      "2025-09-28 16:47:36,383 | WARNING | Gagal parse index=463, nilai='<NA>': String does not contain a date: <NA>\n",
      "2025-09-28 16:47:36,384 | WARNING | Gagal parse index=464, nilai='<NA>': String does not contain a date: <NA>\n",
      "2025-09-28 16:47:36,384 | WARNING | Gagal parse index=465, nilai='<NA>': String does not contain a date: <NA>\n",
      "2025-09-28 16:47:36,385 | WARNING | Gagal parse index=466, nilai='<NA>': String does not contain a date: <NA>\n",
      "2025-09-28 16:47:36,424 | WARNING | Gagal parse index=467, nilai='<NA>': String does not contain a date: <NA>\n",
      "2025-09-28 16:47:36,425 | WARNING | Gagal parse index=468, nilai='<NA>': String does not contain a date: <NA>\n",
      "2025-09-28 16:47:36,425 | WARNING | Gagal parse index=469, nilai='<NA>': String does not contain a date: <NA>\n",
      "2025-09-28 16:47:36,426 | WARNING | Gagal parse index=470, nilai='<NA>': String does not contain a date: <NA>\n",
      "2025-09-28 16:47:36,426 | WARNING | Gagal parse index=471, nilai='<NA>': String does not contain a date: <NA>\n",
      "2025-09-28 16:47:36,426 | WARNING | Gagal parse index=472, nilai='<NA>': String does not contain a date: <NA>\n",
      "2025-09-28 16:47:36,427 | WARNING | Gagal parse index=473, nilai='<NA>': String does not contain a date: <NA>\n",
      "2025-09-28 16:47:36,427 | WARNING | Gagal parse index=474, nilai='<NA>': String does not contain a date: <NA>\n",
      "2025-09-28 16:47:36,436 | WARNING | Gagal parse index=501, nilai='International | Minggu, 28 September 2025 16:42 WIB Lancarkan Serangan Besar-besaran, Rusia Bombardir Ukraina Selama Lebih dari 12 Jam': Unknown string format: International | Minggu 28 September 2025 16:42 Lancarkan Serangan Besar-besaran Rusia Bombardir Ukraina Selama Lebih dari 12 Jam\n",
      "2025-09-28 16:47:36,440 | WARNING | Gagal parse index=502, nilai='Life | Minggu, 28 September 2025 16:41 WIB Segini Gaji dan Bayaran Tom Holland sebagai Spider-Man yang Alami Gegar Otak Ringan': Unknown string format: Life | Minggu 28 September 2025 16:41 Segini Gaji dan Bayaran Tom Holland sebagai Spider-Man yang Alami Gegar Otak Ringan\n",
      "2025-09-28 16:47:36,441 | WARNING | Gagal parse index=503, nilai='Liga Indonesia | Minggu, 28 September 2025 16:31 WIB Persita Tangerang Gasak Persib Bandung 2-1, Carlos Pena Kecewa Kemenangan Tidak Disaksikan Suporter': Unknown string format: Liga Indonesia | Minggu 28 September 2025 16:31 Persita Tangerang Gasak Persib Bandung 2-1 Carlos Pena Kecewa Kemenangan Tidak Disaksikan Suporter\n",
      "2025-09-28 16:47:36,441 | WARNING | Gagal parse index=504, nilai='MotoGP | Minggu, 28 September 2025 16:29 WIB Daftar Juara Dunia MotoGP sejak 1949: Marc Marquez dan Valentino Rossi Kini Selevel': Unknown string format: MotoGP | Minggu 28 September 2025 16:29 Daftar Juara Dunia MotoGP sejak 1949: Marc Marquez dan Valentino Rossi Kini Selevel\n",
      "/opt/anaconda3/lib/python3.12/site-packages/dateutil/parser/_parser.py:1207: UnknownTimezoneWarning: tzname MBG identified but not understood.  Pass `tzinfos` argument in order to correctly return a timezone-aware datetime.  In a future version, this will raise an exception.\n",
      "  warnings.warn(\"tzname {tzname} identified but not understood.  \"\n",
      "2025-09-28 16:47:36,443 | WARNING | Gagal parse index=506, nilai='Sekolah | Minggu, 28 September 2025 16:26 WIB Ini Link Resmi Pendaftaran KIP Kuliah 2025': Unknown string format: Sekolah | Minggu 28 September 2025 16:26 Ini Link Resmi Pendaftaran KIP Kuliah 2025\n",
      "/opt/anaconda3/lib/python3.12/site-packages/dateutil/parser/_parser.py:1207: UnknownTimezoneWarning: tzname RI identified but not understood.  Pass `tzinfos` argument in order to correctly return a timezone-aware datetime.  In a future version, this will raise an exception.\n",
      "  warnings.warn(\"tzname {tzname} identified but not understood.  \"\n",
      "2025-09-28 16:47:36,444 | WARNING | Gagal parse index=508, nilai='Megapolitan | Minggu, 28 September 2025 16:12 WIB Pemprov DKI Salurkan Bansos untuk 200.684 Lansia hingga Disabilitas Periode September': Unknown string format: Megapolitan | Minggu 28 September 2025 16:12 Pemprov DKI Salurkan Bansos untuk 200.684 Lansia hingga Disabilitas Periode September\n",
      "2025-09-28 16:47:36,445 | WARNING | Gagal parse index=511, nilai='Nasional | Minggu, 28 September 2025 15:31 WIB Banjir Bandang Terjang Parigi Moutong Sulteng, Jembatan Putus dan 51 KK Terdampak': Unknown string format: Nasional | Minggu 28 September 2025 15:31 Banjir Bandang Terjang Parigi Moutong Sulteng Jembatan Putus dan 51 KK Terdampak\n",
      "2025-09-28 16:47:36,445 | WARNING | Gagal parse index=512, nilai='Kampus | Minggu, 28 September 2025 15:19 WIB Simak Ini Jadwal Lengkap SNBP dan SNBT 2026, Catat Tanggal Pentingnya': Unknown string format: Kampus | Minggu 28 September 2025 15:19 Simak Ini Jadwal Lengkap SNBP dan SNBT 2026 Catat Tanggal Pentingnya\n",
      "2025-09-28 16:47:36,445 | WARNING | Gagal parse index=513, nilai='MotoGP | Minggu, 28 September 2025 15:12 WIB 3 Rekor yang Sukses Dipecahkan Marc Marquez Usai Jadi Juara Dunia MotoGP 2025, Nomor 1 Bikin Fans Valentino Rossi Murka': Unknown string format: MotoGP | Minggu 28 September 2025 15:12 3 Rekor yang Sukses Dipecahkan Marc Marquez Usai Jadi Juara Dunia MotoGP 2025 Nomor 1 Bikin Fans Valentino Rossi Murka\n",
      "2025-09-28 16:47:36,446 | WARNING | Gagal parse index=515, nilai='Megapolitan | Minggu, 28 September 2025 15:09 WIB Rumah di Duren Sawit Jaktim Kebakaran, 12 Unit Damkar Dikerahkan Padamkan Api': Unknown string format: Megapolitan | Minggu 28 September 2025 15:09 Rumah di Duren Sawit Jaktim Kebakaran 12 Unit Damkar Dikerahkan Padamkan Api\n",
      "2025-09-28 16:47:36,447 | WARNING | Gagal parse index=516, nilai='Smart Money | Minggu, 28 September 2025 15:03 WIB Daftar 10 Profesi yang Paling Tidak Dipercaya Warga Indonesia': Unknown string format: Smart Money | Minggu 28 September 2025 15:03 Daftar 10 Profesi yang Paling Tidak Dipercaya Warga Indonesia\n",
      "2025-09-28 16:47:36,447 | WARNING | Gagal parse index=517, nilai='Netting | Minggu, 28 September 2025 14:50 WIB Hasil Final Korea Open 2025: Gagal Kalahkan Wakil Tuan Rumah, Fajar Alfian/Shohibul Fikri Raih Runner-up': Unknown string format: Netting | Minggu 28 September 2025 14:50 Hasil Final Korea Open 2025: Gagal Kalahkan Wakil Tuan Rumah Fajar Alfian/Shohibul Fikri Raih Runner-up\n",
      "2025-09-28 16:47:36,448 | WARNING | Gagal parse index=520, nilai='MotoGP | Minggu, 28 September 2025 14:19 WIB Klasemen Sementara MotoGP 2025 Usai Race MotoGP Jepang 2025: Marc Marquez Juara, Perebutan Runner-up Kian Sengit': Unknown string format: MotoGP | Minggu 28 September 2025 14:19 Klasemen Sementara MotoGP 2025 Usai Race MotoGP Jepang 2025: Marc Marquez Juara Perebutan Runner-up Kian Sengit\n",
      "2025-09-28 16:47:36,448 | WARNING | Gagal parse index=521, nilai='Netting | Minggu, 28 September 2025 14:13 WIB Jadwal dan Link Live Streaming ATP 500 Japan Open & China Open 2025 di Vision+, Klik di Sini!': Unknown string format: Netting | Minggu 28 September 2025 14:13 Jadwal dan Link Live Streaming ATP 500 Japan Open & China Open 2025 di Vision+ Klik di Sini!\n",
      "/opt/anaconda3/lib/python3.12/site-packages/dateutil/parser/_parser.py:1207: UnknownTimezoneWarning: tzname TKA identified but not understood.  Pass `tzinfos` argument in order to correctly return a timezone-aware datetime.  In a future version, this will raise an exception.\n",
      "  warnings.warn(\"tzname {tzname} identified but not understood.  \"\n",
      "2025-09-28 16:47:36,449 | WARNING | Gagal parse index=523, nilai='Megapolitan | Minggu, 28 September 2025 14:06 WIB Heboh! Bocah Hilang 13 Hari Diduga Diculik Badut di Tangerang': Unknown string format: Megapolitan | Minggu 28 September 2025 14:06 Heboh! Bocah Hilang 13 Hari Diduga Diculik Badut di Tangerang\n",
      "2025-09-28 16:47:36,449 | WARNING | Gagal parse index=524, nilai='Techno | Minggu, 28 September 2025 14:04 WIB 5 Cara Dapatkan Uang dari TikTok dengan Menonton Video': Unknown string format: Techno | Minggu 28 September 2025 14:04 5 Cara Dapatkan Uang dari TikTok dengan Menonton Video\n",
      "2025-09-28 16:47:36,450 | WARNING | Gagal parse index=526, nilai='Beauty | Minggu, 28 September 2025 13:59 WIB Kenapa Banyak Perempuan Jepang Berusia 100 Tahun?': Unknown string format: Beauty | Minggu 28 September 2025 13:59 Kenapa Banyak Perempuan Jepang Berusia 100 Tahun?\n",
      "2025-09-28 16:47:36,450 | WARNING | Gagal parse index=527, nilai='MotoGP | Minggu, 28 September 2025 13:58 WIB Tangis Marc Marquez Pecah Usai Segel Gelar Juara Dunia MotoGP 2025 di Jepang': Unknown string format: MotoGP | Minggu 28 September 2025 13:58 Tangis Marc Marquez Pecah Usai Segel Gelar Juara Dunia MotoGP 2025 di Jepang\n",
      "2025-09-28 16:47:36,451 | WARNING | Gagal parse index=528, nilai='Nasional | Minggu, 28 September 2025 13:44 WIB Bertambah, 137 Rumah Rusak Akibat Gempa M5,7 di Banyuwangi-Situbondo': Unknown string format: Nasional | Minggu 28 September 2025 13:44 Bertambah 137 Rumah Rusak Akibat Gempa M5 7 di Banyuwangi-Situbondo\n",
      "2025-09-28 16:47:36,451 | WARNING | Gagal parse index=529, nilai='Netting | Minggu, 28 September 2025 13:39 WIB BREAKING NEWS: Jonatan Christie Juara Korea Open 2025 Usai Kalahkan Anders Antonsen di Final': Unknown string format: Netting | Minggu 28 September 2025 13:39 BREAKING NEWS: Jonatan Christie Juara Korea Open 2025 Usai Kalahkan Anders Antonsen di Final\n",
      "2025-09-28 16:47:36,451 | WARNING | Gagal parse index=531, nilai='International | Minggu, 28 September 2025 13:31 WIB Setidaknya 36 Orang Tewas Desak-desakan dalam Kampanye Artis Politisi India': Unknown string format: International | Minggu 28 September 2025 13:31 Setidaknya 36 Orang Tewas Desak-desakan dalam Kampanye Artis Politisi India\n",
      "2025-09-28 16:47:36,452 | WARNING | Gagal parse index=532, nilai='Sekolah | Minggu, 28 September 2025 13:31 WIB Final OSN 2025 Jenjang SMA Digelar Oktober, Berikut Jadwal Lengkapnya': Unknown string format: Sekolah | Minggu 28 September 2025 13:31 Final OSN 2025 Jenjang SMA Digelar October Berikut Jadwal Lengkapnya\n",
      "2025-09-28 16:47:36,453 | WARNING | Gagal parse index=536, nilai='Market Update | Minggu, 28 September 2025 13:25 WIB Panen Jagung Melimpah, Petani Nikmati Rp15 Triliun dari Kenaikan Produksi': Unknown string format: Market Update | Minggu 28 September 2025 13:25 Panen Jagung Melimpah Petani Nikmati Rp15 Triliun dari Kenaikan Produksi\n",
      "/opt/anaconda3/lib/python3.12/site-packages/dateutil/parser/_parser.py:1207: UnknownTimezoneWarning: tzname AI identified but not understood.  Pass `tzinfos` argument in order to correctly return a timezone-aware datetime.  In a future version, this will raise an exception.\n",
      "  warnings.warn(\"tzname {tzname} identified but not understood.  \"\n",
      "2025-09-28 16:47:36,455 | WARNING | Gagal parse index=539, nilai='Megapolitan | Minggu, 28 September 2025 13:00 WIB Layanan Transjakarta Koridor 1 Blok M-Kota Kembali Normal': Unknown string format: Megapolitan | Minggu 28 September 2025 13:00 Layanan Transjakarta Koridor 1 Blok M-Kota Kembali Normal\n",
      "2025-09-28 16:47:36,456 | WARNING | Gagal parse index=540, nilai='MotoGP | Minggu, 28 September 2025 12:59 WIB Marc Marquez Samai Gelar Juara Valentino Rossi Usai Pastikan Jadi Raja MotoGP 2025 di Jepang': Unknown string format: MotoGP | Minggu 28 September 2025 12:59 Marc Marquez Samai Gelar Juara Valentino Rossi Usai Pastikan Jadi Raja MotoGP 2025 di Jepang\n",
      "2025-09-28 16:47:36,456 | WARNING | Gagal parse index=541, nilai='MotoGP | Minggu, 28 September 2025 12:46 WIB BREAKING NEWS: Marc Marquez Resmi Juara Dunia MotoGP 2025, Usai Finis Ke-2 di MotoGP Jepang!': Unknown string format: MotoGP | Minggu 28 September 2025 12:46 BREAKING NEWS: Marc Marquez Resmi Juara Dunia MotoGP 2025 Usai Finis Ke-2 di MotoGP Jepang!\n",
      "2025-09-28 16:47:36,457 | WARNING | Gagal parse index=543, nilai='Hot Gossip | Minggu, 28 September 2025 12:30 WIB Tasya Farasya Akui Syok saat Tahu Suami Gelapkan Dana Perusahaan Rp23 Miliar': Unknown string format: Hot Gossip | Minggu 28 September 2025 12:30 Tasya Farasya Akui Syok saat Tahu Suami Gelapkan Dana Perusahaan Rp23 Miliar\n",
      "2025-09-28 16:47:36,457 | WARNING | Gagal parse index=544, nilai='Megapolitan | Minggu, 28 September 2025 12:25 WIB Rumah di Tambora Kebakaran, 11 Unit Damkar Berjibaku Jinakkan Api': Unknown string format: Megapolitan | Minggu 28 September 2025 12:25 Rumah di Tambora Kebakaran 11 Unit Damkar Berjibaku Jinakkan Api\n",
      "2025-09-28 16:47:36,458 | WARNING | Gagal parse index=545, nilai='Hot Issue | Minggu, 28 September 2025 12:20 WIB Harga Emas Diprediksi Tembus Rp2,3 Juta per Gram Sampai Akhir 2025': Unknown string format: Hot Issue | Minggu 28 September 2025 12:20 Harga Emas Diprediksi Tembus Rp2 3 Juta per Gram Sampai Akhir 2025\n",
      "2025-09-28 16:47:36,458 | WARNING | Gagal parse index=547, nilai='Sepakbola Dunia | Minggu, 28 September 2025 12:08 WIB Kaget Lihat Skuad Timnas Indonesia untuk Kualifikasi Piala Dunia 2026, Pandit Malaysia: Legasi Shin Tae-yong Telah Berakhir': Unknown string format: Sepakbola Dunia | Minggu 28 September 2025 12:08 Kaget Lihat Skuad Timnas Indonesia untuk Kualifikasi Piala Dunia 2026 Pandit Malaysia: Legasi Shin Tae-yong Telah Berakhir\n",
      "2025-09-28 16:47:36,459 | WARNING | Gagal parse index=548, nilai='Liga Indonesia | Minggu, 28 September 2025 12:06 WIB Persija Jakarta Gagal Menang 2 Laga Beruntun, Mampu Putus Tren Negatif di Markas Borneo FC?': Unknown string format: Liga Indonesia | Minggu 28 September 2025 12:06 Persija Jakarta Gagal Menang 2 Laga Beruntun Mampu Putus Tren Negatif di Markas Borneo FC?\n",
      "2025-09-28 16:47:36,459 | WARNING | Gagal parse index=549, nilai='Autos | Minggu, 28 September 2025 11:59 WIB Honda Bawa Motor Bebek Supra GTR di IMOS 2025, Masih Banyak Peminat?': Unknown string format: Autos | Minggu 28 September 2025 11:59 Honda Bawa Motor Bebek Supra GTR di IMOS 2025 Masih Banyak Peminat?\n",
      "/opt/anaconda3/lib/python3.12/site-packages/dateutil/parser/_parser.py:1207: UnknownTimezoneWarning: tzname BBM identified but not understood.  Pass `tzinfos` argument in order to correctly return a timezone-aware datetime.  In a future version, this will raise an exception.\n",
      "  warnings.warn(\"tzname {tzname} identified but not understood.  \"\n",
      "2025-09-28 16:47:36,460 | WARNING | Gagal parse index=551, nilai='Megapolitan | Minggu, 28 September 2025 11:42 WIB Kebakaran Rumah di Permukiman Padat Taman Sari Jakbar, 10 Damkar Dikerahkan': Unknown string format: Megapolitan | Minggu 28 September 2025 11:42 Kebakaran Rumah di Permukiman Padat Taman Sari Jakbar 10 Damkar Dikerahkan\n",
      "2025-09-28 16:47:36,461 | WARNING | Gagal parse index=552, nilai='Hot Issue | Minggu, 28 September 2025 11:39 WIB Rupiah Diprediksi Melemah ke Level Rp16.800 Pekan Depan': Unknown string format: Hot Issue | Minggu 28 September 2025 11:39 Rupiah Diprediksi Melemah ke Level Rp16.800 Pekan Depan\n",
      "2025-09-28 16:47:36,461 | WARNING | Gagal parse index=553, nilai='Megapolitan | Minggu, 28 September 2025 11:37 WIB Kompak! Pramono-Doel Suarakan Jaga Jakarta di Arena CFD Bundaran HI': Unknown string format: Megapolitan | Minggu 28 September 2025 11:37 Kompak! Pramono-Doel Suarakan Jaga Jakarta di Arena CFD Bundaran HI\n",
      "/opt/anaconda3/lib/python3.12/site-packages/dateutil/parser/_parser.py:1207: UnknownTimezoneWarning: tzname SMA identified but not understood.  Pass `tzinfos` argument in order to correctly return a timezone-aware datetime.  In a future version, this will raise an exception.\n",
      "  warnings.warn(\"tzname {tzname} identified but not understood.  \"\n",
      "2025-09-28 16:47:36,462 | WARNING | Gagal parse index=556, nilai='Nusantara | Minggu, 28 September 2025 11:23 WIB Warga 3 Kecamatan di Katingan Titip Aspirasi Perbaikan Jalan-Alat Pertanian, Legislator Perindo: Kami Perjuangkan': Unknown string format: Nusantara | Minggu 28 September 2025 11:23 Warga 3 Kecamatan di Katingan Titip Aspirasi Perbaikan Jalan-Alat Pertanian Legislator Perindo: Kami Perjuangkan\n",
      "2025-09-28 16:47:36,462 | WARNING | Gagal parse index=557, nilai='Sepakbola Dunia | Minggu, 28 September 2025 11:21 WIB Sentil FAM karena Cari-Cari Alasan Usai Disanksi FIFA, Jurnalis Malaysia: Coba Keluarkan Buktinya': Unknown string format: Sepakbola Dunia | Minggu 28 September 2025 11:21 Sentil FAM karena Cari-Cari Alasan Usai Disanksi FIFA Jurnalis Malaysia: Coba Keluarkan Buktinya\n",
      "/opt/anaconda3/lib/python3.12/site-packages/dateutil/parser/_parser.py:1207: UnknownTimezoneWarning: tzname FC identified but not understood.  Pass `tzinfos` argument in order to correctly return a timezone-aware datetime.  In a future version, this will raise an exception.\n",
      "  warnings.warn(\"tzname {tzname} identified but not understood.  \"\n",
      "/opt/anaconda3/lib/python3.12/site-packages/dateutil/parser/_parser.py:1207: UnknownTimezoneWarning: tzname SEA identified but not understood.  Pass `tzinfos` argument in order to correctly return a timezone-aware datetime.  In a future version, this will raise an exception.\n",
      "  warnings.warn(\"tzname {tzname} identified but not understood.  \"\n",
      "2025-09-28 16:47:36,463 | WARNING | Gagal parse index=562, nilai='Hot Issue | Minggu, 28 September 2025 11:02 WIB Cukai Rokok 2026 Tak Naik, Jadi Angin Segar Bagi Industri dan Petani': Unknown string format: Hot Issue | Minggu 28 September 2025 11:02 Cukai Rokok 2026 Tak Naik Jadi Angin Segar Bagi Industri dan Petani\n",
      "2025-09-28 16:47:36,464 | WARNING | Gagal parse index=563, nilai='Hot Issue | Minggu, 28 September 2025 11:00 WIB Pengusaha Logistik Buka-bukaan soal Akses BBM Pertamina di Seluruh RI': Unknown string format: Hot Issue | Minggu 28 September 2025 11:00 Pengusaha Logistik Buka-bukaan soal Akses BBM Pertamina di Seluruh RI\n",
      "2025-09-28 16:47:36,464 | WARNING | Gagal parse index=564, nilai='Economy | Minggu, 28 September 2025 11:00 WIB Superbrands Indonesia’s Choice 2025 Beri Penghargaan untuk 58 Merek di Indonesia': Unknown string format: Economy | Minggu 28 September 2025 11:00 Superbrands Indonesia’s Choice 2025 Beri Penghargaan untuk 58 Merek di Indonesia\n",
      "/opt/anaconda3/lib/python3.12/site-packages/dateutil/parser/_parser.py:1207: UnknownTimezoneWarning: tzname TNI identified but not understood.  Pass `tzinfos` argument in order to correctly return a timezone-aware datetime.  In a future version, this will raise an exception.\n",
      "  warnings.warn(\"tzname {tzname} identified but not understood.  \"\n",
      "/opt/anaconda3/lib/python3.12/site-packages/dateutil/parser/_parser.py:1207: UnknownTimezoneWarning: tzname BGN identified but not understood.  Pass `tzinfos` argument in order to correctly return a timezone-aware datetime.  In a future version, this will raise an exception.\n",
      "  warnings.warn(\"tzname {tzname} identified but not understood.  \"\n",
      "2025-09-28 16:47:36,465 | WARNING | Gagal parse index=567, nilai='Liga Spanyol | Minggu, 28 September 2025 10:24 WIB 5 Penyebab Real Madrid Kalah 2-5 dari Atletico Madrid di Liga Spanyol 2025-2026, Nomor 1 Bikin Xabi Alonso Marah': Unknown string format: Liga Spanyol | Minggu 28 September 2025 10:24 5 Penyebab Real Madrid Kalah 2-5 dari Atletico Madrid di Liga Spanyol 2025-2026 Nomor 1 Bikin Xabi Alonso Marah\n",
      "2025-09-28 16:47:36,466 | WARNING | Gagal parse index=568, nilai='Liga Indonesia | Minggu, 28 September 2025 10:21 WIB Dalih Thom Haye Usai Persib Bandung Kalah dari 1-2 dari Persita Tangerang, Ngaku Masih Butuh Penyesuaian': Unknown string format: Liga Indonesia | Minggu 28 September 2025 10:21 Dalih Thom Haye Usai Persib Bandung Kalah dari 1-2 dari Persita Tangerang Ngaku Masih Butuh Penyesuaian\n",
      "2025-09-28 16:47:36,466 | WARNING | Gagal parse index=569, nilai='International | Minggu, 28 September 2025 10:19 WIB AS Cabut Visa Presiden Kolombia Usai Demo Pro-Palestina': Unknown string format: International | Minggu 28 September 2025 10:19 AS Cabut Visa Presiden Kolombia Usai Demo Pro-Palestina\n",
      "2025-09-28 16:47:36,467 | WARNING | Gagal parse index=570, nilai='Nasional | Minggu, 28 September 2025 10:14 WIB Gunung Lewotobi Laki-Laki Meletus, Muntahkan Abu Vulkanik Setinggi 1.200 Meter': Unknown string format: Nasional | Minggu 28 September 2025 10:14 Gunung Lewotobi Laki-Laki Meletus Muntahkan Abu Vulkanik Setinggi 1.200 Meter\n",
      "2025-09-28 16:47:36,467 | WARNING | Gagal parse index=571, nilai='MotoGP | Minggu, 28 September 2025 10:14 WIB Link Live Streaming Race MotoGP Jepang 2025: Gelar Juara Dunia di Depan Mata Marc Marquez!': Unknown string format: MotoGP | Minggu 28 September 2025 10:14 Link Live Streaming Race MotoGP Jepang 2025: Gelar Juara Dunia di Depan Mata Marc Marquez!\n",
      "2025-09-28 16:47:36,468 | WARNING | Gagal parse index=572, nilai='Hot Issue | Minggu, 28 September 2025 10:06 WIB Harga Pangan Hari Ini: Telur Hampir Rp31 Ribu dan Cabai Rp59 Ribu per Kg': Unknown string format: Hot Issue | Minggu 28 September 2025 10:06 Harga Pangan Hari Ini: Telur Hampir Rp31 Ribu dan Cabai Rp59 Ribu per Kg\n",
      "/opt/anaconda3/lib/python3.12/site-packages/dateutil/parser/_parser.py:1207: UnknownTimezoneWarning: tzname AC identified but not understood.  Pass `tzinfos` argument in order to correctly return a timezone-aware datetime.  In a future version, this will raise an exception.\n",
      "  warnings.warn(\"tzname {tzname} identified but not understood.  \"\n",
      "2025-09-28 16:47:36,471 | INFO | Normalisasi selesai. Total baris: 575 | Berhasil: 462 | Gagal: 113\n"
     ]
    }
   ],
   "source": [
    "import re\n",
    "import logging\n",
    "from datetime import datetime\n",
    "from zoneinfo import ZoneInfo\n",
    "\n",
    "import pandas as pd\n",
    "from dateutil import parser as du_parser\n",
    "\n",
    "# =========================\n",
    "# Setup logging (opsional)\n",
    "# =========================\n",
    "logging.basicConfig(\n",
    "    level=logging.INFO,\n",
    "    format=\"%(asctime)s | %(levelname)s | %(message)s\",\n",
    ")\n",
    "\n",
    "# =======================================================\n",
    "# Normalisasi kolom tanggal berita -> ISO Asia/Jakarta\n",
    "# =======================================================\n",
    "def normalize_tanggal_berita(\n",
    "    df: pd.DataFrame,\n",
    "    col_candidates=(\"tanggal_berita\", \"tanggal berita\"),\n",
    "    target_tz:str=\"Asia/Jakarta\",\n",
    "    output_col_str:str=\"tanggal_berita_std\",\n",
    "    output_col_dt:str=\"tanggal_berita_dt\",\n",
    "    error_col:str=\"tanggal_parse_error\",\n",
    ") -> pd.DataFrame:\n",
    "    \"\"\"\n",
    "    Menormalkan berbagai format tanggal hasil scraping ke ISO 8601 +07:00.\n",
    "\n",
    "    - Mencari kolom tanggal berdasarkan urutan `col_candidates`.\n",
    "    - Menghapus nama hari (Senin..Minggu), koma, dan penanda WIB/WITA/WIT.\n",
    "    - Mengonversi nama bulan Indonesia (pendek & panjang).\n",
    "    - Jika datetime tanpa timezone -> dilokalkan ke Asia/Jakarta.\n",
    "    - Jika punya timezone -> dikonversi ke Asia/Jakarta.\n",
    "    - Tanggal tanpa jam -> diasumsikan 00:00:00 di Asia/Jakarta.\n",
    "    - Menambahkan:\n",
    "        * `tanggal_berita_std` (string ISO 8601)\n",
    "        * `tanggal_berita_dt` (datetime timezone-aware)\n",
    "        * `tanggal_parse_error` (string error jika ada, else None)\n",
    "    \"\"\"\n",
    "    # Tentukan kolom sumber\n",
    "    src_col = None\n",
    "    for c in col_candidates:\n",
    "        if c in df.columns:\n",
    "            src_col = c\n",
    "            break\n",
    "    if src_col is None:\n",
    "        logging.warning(f\"Tidak menemukan kolom tanggal. Coba salah satu: {col_candidates}\")\n",
    "        # tidak fatal, kembalikan df apa adanya\n",
    "        return df\n",
    "\n",
    "    tz_map = {\n",
    "        \"WIB\": ZoneInfo(\"Asia/Jakarta\"),      # UTC+7\n",
    "        \"WITA\": ZoneInfo(\"Asia/Makassar\"),    # UTC+8\n",
    "        \"WIT\": ZoneInfo(\"Asia/Jayapura\"),     # UTC+9\n",
    "    }\n",
    "    target_zone = ZoneInfo(target_tz)\n",
    "\n",
    "    # Nama hari Indonesia (untuk dibuang)\n",
    "    day_names = r\"(Senin|Selasa|Rabu|Kamis|Jumat|Sabtu|Minggu)\"\n",
    "    day_pattern = re.compile(rf\"^\\s*{day_names}\\s*,?\\s*\", flags=re.IGNORECASE)\n",
    "\n",
    "    # Peta bulan Indonesia -> Inggris (agar parser universal)\n",
    "    month_map = {\n",
    "        # panjang\n",
    "        \"januari\": \"January\", \"februari\": \"February\", \"maret\": \"March\",\n",
    "        \"april\": \"April\", \"mei\": \"May\", \"juni\": \"June\", \"juli\": \"July\",\n",
    "        \"agustus\": \"August\", \"september\": \"September\", \"oktober\": \"October\",\n",
    "        \"november\": \"November\", \"desember\": \"December\",\n",
    "        # pendek\n",
    "        \"jan\": \"Jan\", \"feb\": \"Feb\", \"mar\": \"Mar\", \"apr\": \"Apr\",\n",
    "        \"mei\": \"May\", \"jun\": \"Jun\", \"jul\": \"Jul\",\n",
    "        \"agu\": \"Aug\", \"sep\": \"Sep\", \"okt\": \"Oct\", \"nov\": \"Nov\", \"des\": \"Dec\",\n",
    "    }\n",
    "\n",
    "    def replace_month_id_to_en(s: str) -> str:\n",
    "        def _repl(match):\n",
    "            w = match.group(0)\n",
    "            key = w.lower()\n",
    "            repl = month_map.get(key, w)\n",
    "            # jaga kapitalisasi awal bila perlu\n",
    "            return repl\n",
    "        # ganti kata yang cocok dengan kunci di month_map sebagai token utuh\n",
    "        pattern = re.compile(r\"\\b(\" + \"|\".join(map(re.escape, month_map.keys())) + r\")\\b\", flags=re.IGNORECASE)\n",
    "        return pattern.sub(_repl, s)\n",
    "\n",
    "    def preprocess(s: str):\n",
    "        \"\"\"Membersihkan string tanggal dan mendeteksi petunjuk timezone lokal (WIB/WITA/WIT).\"\"\"\n",
    "        if s is None:\n",
    "            return None, None\n",
    "        if not isinstance(s, str):\n",
    "            s = str(s)\n",
    "\n",
    "        orig = s\n",
    "        s = s.strip()\n",
    "\n",
    "        # Deteksi penanda zona lokal (WIB/WITA/WIT) bila ada\n",
    "        tz_hint = None\n",
    "        for k in tz_map.keys():\n",
    "            if re.search(rf\"\\b{k}\\b\", s, flags=re.IGNORECASE):\n",
    "                tz_hint = k.upper()\n",
    "                break\n",
    "\n",
    "        # Buang nama hari di depan (mis: \"Kamis, \")\n",
    "        s = day_pattern.sub(\"\", s)\n",
    "\n",
    "        # Buang \"WIB\", \"WITA\", \"WIT\" & koma\n",
    "        s = re.sub(r\"\\b(WIB|WITA|WIT)\\b\", \"\", s, flags=re.IGNORECASE)\n",
    "        s = s.replace(\",\", \" \")\n",
    "\n",
    "        # Normalisasi spasi\n",
    "        s = re.sub(r\"\\s+\", \" \", s).strip()\n",
    "\n",
    "        # Ganti bulan Indonesia -> Inggris\n",
    "        s = replace_month_id_to_en(s)\n",
    "\n",
    "        return s, tz_hint\n",
    "\n",
    "    def parse_any(s: str, tz_hint: str):\n",
    "        \"\"\"\n",
    "        Strategi parsing berlapis:\n",
    "        1) Coba pandas.to_datetime (ISO/umum)\n",
    "        2) Coba dateutil.parser.parse(dayfirst=True, fuzzy=True)\n",
    "        3) Jika hanya YYYY-MM-DD -> konstruksi manual\n",
    "        \"\"\"\n",
    "        # Kasus kosong\n",
    "        if not s:\n",
    "            raise ValueError(\"String tanggal kosong setelah praproses.\")\n",
    "\n",
    "        # 1) pandas\n",
    "        dt = pd.to_datetime(s, errors=\"coerce\", utc=False)\n",
    "        if pd.notna(dt):\n",
    "            # pandas bisa return Timestamp (naive atau aware)\n",
    "            if dt.tzinfo is None:\n",
    "                # naive -> gunakan hint jika ada, else target_tz\n",
    "                zone = tz_map.get(tz_hint, target_zone)\n",
    "                dt = dt.to_pydatetime().replace(tzinfo=zone)\n",
    "            else:\n",
    "                dt = dt.tz_convert(target_zone)\n",
    "            return dt\n",
    "\n",
    "        # 2) dateutil (lebih permisif)\n",
    "        try:\n",
    "            d = du_parser.parse(s, dayfirst=True, fuzzy=True)\n",
    "            if d.tzinfo is None:\n",
    "                zone = tz_map.get(tz_hint, target_zone)\n",
    "                d = d.replace(tzinfo=zone)\n",
    "            else:\n",
    "                d = d.astimezone(target_zone)\n",
    "            return d\n",
    "        except Exception as e:\n",
    "            # 3) Format murni tanggal YYYY-MM-DD\n",
    "            m = re.fullmatch(r\"(\\d{4})-(\\d{2})-(\\d{2})\", s)\n",
    "            if m:\n",
    "                y, mo, d = map(int, m.groups())\n",
    "                zone = tz_map.get(tz_hint, target_zone)\n",
    "                return datetime(y, mo, d, 0, 0, 0, tzinfo=zone)\n",
    "            raise e  # lempar balik kalau benar-benar tidak bisa\n",
    "\n",
    "    std_list = []\n",
    "    dt_list = []\n",
    "    err_list = []\n",
    "\n",
    "    for i, raw in enumerate(df[src_col].tolist()):\n",
    "        try:\n",
    "            cleaned, tz_hint = preprocess(raw)\n",
    "            if cleaned is None:\n",
    "                raise ValueError(\"Nilai None pada tanggal.\")\n",
    "            dt = parse_any(cleaned, tz_hint)\n",
    "            # pastikan di target tz\n",
    "            dt = dt.astimezone(target_zone)\n",
    "\n",
    "            # string ISO standar (detik presisi)\n",
    "            std = dt.isoformat(timespec=\"seconds\")\n",
    "            std_list.append(std)\n",
    "            dt_list.append(dt)\n",
    "            err_list.append(None)\n",
    "        except Exception as e:\n",
    "            logging.warning(f\"Gagal parse index={i}, nilai='{raw}': {e}\")\n",
    "            std_list.append(None)\n",
    "            dt_list.append(pd.NaT)\n",
    "            err_list.append(str(e))\n",
    "\n",
    "    df[output_col_str] = std_list\n",
    "    df[output_col_dt] = dt_list\n",
    "    df[error_col] = err_list\n",
    "\n",
    "    # Info ringkas\n",
    "    total = len(df)\n",
    "    gagal = sum(x is not None for x in err_list)\n",
    "    logging.info(f\"Normalisasi selesai. Total baris: {total} | Berhasil: {total-gagal} | Gagal: {gagal}\")\n",
    "\n",
    "    return df\n",
    "\n",
    "# ===========================\n",
    "# PEMAKAIAN\n",
    "# ===========================\n",
    "# Pastikan df_all sudah ada di memori.\n",
    "df_all = normalize_tanggal_berita(df_all)"
   ]
  },
  {
   "cell_type": "code",
   "execution_count": 7,
   "metadata": {
    "executionInfo": {
     "elapsed": 39,
     "status": "ok",
     "timestamp": 1758706356870,
     "user": {
      "displayName": "Monitoring Berita",
      "userId": "16755502473357078001"
     },
     "user_tz": -420
    },
    "id": "qmRKrIbWpq3Y"
   },
   "outputs": [],
   "source": [
    "# Sesuaikan output akhir hanya ke kolom yang diminta\n",
    "# Gunakan tanggal hasil normalisasi string jika tersedia, jika tidak fallback ke kolom asli\n",
    "if \"tanggal_berita_std\" in df_all.columns:\n",
    "    df_all[\"tanggal_berita\"] = df_all[\"tanggal_berita_std\"].fillna(df_all.get(\"tanggal_berita\"))\n",
    "\n",
    "df_all = df_all[[\"judul_berita\", \"url_berita\", \"tanggal_berita\"]]"
   ]
  },
  {
   "cell_type": "markdown",
   "metadata": {
    "id": "TAJo47tITqhb"
   },
   "source": [
    "## FILTER PANJANG JUDUL BERITA"
   ]
  },
  {
   "cell_type": "code",
   "execution_count": 8,
   "metadata": {
    "executionInfo": {
     "elapsed": 2,
     "status": "ok",
     "timestamp": 1758706356873,
     "user": {
      "displayName": "Monitoring Berita",
      "userId": "16755502473357078001"
     },
     "user_tz": -420
    },
    "id": "KAyApSGJTqI9"
   },
   "outputs": [
    {
     "name": "stderr",
     "output_type": "stream",
     "text": [
      "2025-09-28 16:47:36,487 | INFO | Filter judul < 40 chars: dihapus 218 baris | sisa: 357\n"
     ]
    }
   ],
   "source": [
    "# Filter junk data: buang judul yang kurang dari 40 karakter\n",
    "before_count = len(df_all)\n",
    "# pastikan tipe string dan tangani NaN\n",
    "df_all[\"judul_berita\"] = df_all[\"judul_berita\"].astype(\"string\")\n",
    "mask = df_all[\"judul_berita\"].fillna(\"\").str.len() >= 40\n",
    "removed = before_count - int(mask.sum())\n",
    "df_all = df_all[mask].copy()\n",
    "logging.info(f\"Filter judul < 40 chars: dihapus {removed} baris | sisa: {len(df_all)}\")"
   ]
  },
  {
   "cell_type": "markdown",
   "metadata": {
    "id": "hJYMfS20Ts5P"
   },
   "source": [
    "## SIMPAN DAFTAR BERITA"
   ]
  },
  {
   "cell_type": "code",
   "execution_count": 9,
   "metadata": {},
   "outputs": [
    {
     "data": {
      "text/plain": [
       "'/Users/yusufpradana/Library/CloudStorage/OneDrive-Personal/Pekerjaan BMN/05. 2025/98_monitoring_berita/monitoring-berita'"
      ]
     },
     "execution_count": 9,
     "metadata": {},
     "output_type": "execute_result"
    }
   ],
   "source": [
    "cwd"
   ]
  },
  {
   "cell_type": "code",
   "execution_count": 10,
   "metadata": {
    "executionInfo": {
     "elapsed": 339,
     "status": "ok",
     "timestamp": 1758706357296,
     "user": {
      "displayName": "Monitoring Berita",
      "userId": "16755502473357078001"
     },
     "user_tz": -420
    },
    "id": "ELOaR3m5qx-6"
   },
   "outputs": [],
   "source": [
    "import json\n",
    "# Filter df_all untuk hanya menampilkan data yang paling awal dari search date\n",
    "config_path = os.path.join(cwd, 'config.json')\n",
    "\n",
    "with open(config_path, \"r\", encoding=\"utf-8\") as f:\n",
    "  config = json.load(f)\n",
    "\n",
    "min_date = config['search_date'][-1]\n",
    "\n",
    "#df_all = df_all[df_all['tanggal_berita_dt'] >= min_date]"
   ]
  },
  {
   "cell_type": "code",
   "execution_count": 11,
   "metadata": {
    "colab": {
     "base_uri": "https://localhost:8080/"
    },
    "executionInfo": {
     "elapsed": 26,
     "status": "ok",
     "timestamp": 1758706357326,
     "user": {
      "displayName": "Monitoring Berita",
      "userId": "16755502473357078001"
     },
     "user_tz": -420
    },
    "id": "Mv-TIQK5549q",
    "outputId": "4f205f07-02a5-4004-c4ab-f1db7fe4942d"
   },
   "outputs": [
    {
     "name": "stdout",
     "output_type": "stream",
     "text": [
      "File berhasil disimpan: /Users/yusufpradana/Library/CloudStorage/OneDrive-Personal/Pekerjaan BMN/05. 2025/98_monitoring_berita/monitoring-berita/konsolidasi_berita/hasil_gabungan_20250928_164736.csv\n"
     ]
    }
   ],
   "source": [
    "from datetime import datetime\n",
    "\n",
    "timestamp = datetime.now().strftime(\"%Y%m%d_%H%M%S\")\n",
    "\n",
    "# Simpan ke akar workspace agar mudah ditemukan, atau tetap di folder daftar_berita\n",
    "output_path = os.path.join(cwd, f\"konsolidasi_berita/hasil_gabungan_{timestamp}.csv\")\n",
    "\n",
    "# Pastikan hanya kolom yang diminta\n",
    "expected_cols = [\"judul_berita\", \"url_berita\", \"tanggal_berita\"]\n",
    "missing = [c for c in expected_cols if c not in df_all.columns]\n",
    "if missing:\n",
    "    # Tambahkan kolom kosong jika ada yang kurang (untuk keamanan)\n",
    "    for c in missing:\n",
    "        df_all[c] = pd.NA\n",
    "    df_all = df_all[expected_cols]\n",
    "else:\n",
    "    df_all = df_all[expected_cols]\n",
    "\n",
    "# Simpan\n",
    "df_all.to_csv(output_path, index=False, encoding=\"utf-8-sig\")\n",
    "print(f\"File berhasil disimpan: {output_path}\")"
   ]
  },
  {
   "cell_type": "code",
   "execution_count": 12,
   "metadata": {
    "executionInfo": {
     "elapsed": 17,
     "status": "ok",
     "timestamp": 1758706357347,
     "user": {
      "displayName": "Monitoring Berita",
      "userId": "16755502473357078001"
     },
     "user_tz": -420
    },
    "id": "qFwtRwID9PDu"
   },
   "outputs": [
    {
     "name": "stderr",
     "output_type": "stream",
     "text": [
      "2025-09-28 16:47:36,529 | INFO | Config berhasil diperbarui: /Users/yusufpradana/Library/CloudStorage/OneDrive-Personal/Pekerjaan BMN/05. 2025/98_monitoring_berita/monitoring-berita/config.json\n"
     ]
    }
   ],
   "source": [
    "import json\n",
    "from pathlib import Path\n",
    "\n",
    "# Baca config lama kalau ada\n",
    "config_path_obj = Path(config_path)\n",
    "if config_path_obj.exists():\n",
    "    try:\n",
    "        with open(config_path, \"r\", encoding=\"utf-8\") as f:\n",
    "            config = json.load(f)\n",
    "    except Exception as e:\n",
    "        logging.warning(f\"Gagal membaca config.json: {e}\")\n",
    "        config = {}\n",
    "else:\n",
    "    config = {}\n",
    "\n",
    "# Update dengan path terbaru\n",
    "config[\"last_output_path\"] = str(output_path)\n",
    "config[\"last_konsolidasi_time\"] = timestamp\n",
    "\n",
    "# Simpan kembali\n",
    "try:\n",
    "    with open(config_path, \"w\", encoding=\"utf-8\") as f:\n",
    "        json.dump(config, f, ensure_ascii=False, indent=2)\n",
    "    logging.info(f\"Config berhasil diperbarui: {config_path}\")\n",
    "except Exception as e:\n",
    "    logging.error(f\"Gagal menyimpan config.json: {e}\")"
   ]
  }
 ],
 "metadata": {
  "colab": {
   "authorship_tag": "ABX9TyP0dAGtM/OKMy2TJN3dMuC4",
   "provenance": []
  },
  "kernelspec": {
   "display_name": "base",
   "language": "python",
   "name": "python3"
  },
  "language_info": {
   "codemirror_mode": {
    "name": "ipython",
    "version": 3
   },
   "file_extension": ".py",
   "mimetype": "text/x-python",
   "name": "python",
   "nbconvert_exporter": "python",
   "pygments_lexer": "ipython3",
   "version": "3.12.7"
  },
  "widgets": {
   "application/vnd.jupyter.widget-state+json": {
    "07e2f691345b436299a2b68ad30bcede": {
     "model_module": "@jupyter-widgets/controls",
     "model_module_version": "1.5.0",
     "model_name": "DescriptionStyleModel",
     "state": {
      "_model_module": "@jupyter-widgets/controls",
      "_model_module_version": "1.5.0",
      "_model_name": "DescriptionStyleModel",
      "_view_count": null,
      "_view_module": "@jupyter-widgets/base",
      "_view_module_version": "1.2.0",
      "_view_name": "StyleView",
      "description_width": ""
     }
    },
    "168eb664e01f48bd8784ebd1a407d1f3": {
     "model_module": "@jupyter-widgets/controls",
     "model_module_version": "1.5.0",
     "model_name": "ProgressStyleModel",
     "state": {
      "_model_module": "@jupyter-widgets/controls",
      "_model_module_version": "1.5.0",
      "_model_name": "ProgressStyleModel",
      "_view_count": null,
      "_view_module": "@jupyter-widgets/base",
      "_view_module_version": "1.2.0",
      "_view_name": "StyleView",
      "bar_color": null,
      "description_width": ""
     }
    },
    "28484795a2a047649ad94932da36d0b4": {
     "model_module": "@jupyter-widgets/base",
     "model_module_version": "1.2.0",
     "model_name": "LayoutModel",
     "state": {
      "_model_module": "@jupyter-widgets/base",
      "_model_module_version": "1.2.0",
      "_model_name": "LayoutModel",
      "_view_count": null,
      "_view_module": "@jupyter-widgets/base",
      "_view_module_version": "1.2.0",
      "_view_name": "LayoutView",
      "align_content": null,
      "align_items": null,
      "align_self": null,
      "border": null,
      "bottom": null,
      "display": null,
      "flex": null,
      "flex_flow": null,
      "grid_area": null,
      "grid_auto_columns": null,
      "grid_auto_flow": null,
      "grid_auto_rows": null,
      "grid_column": null,
      "grid_gap": null,
      "grid_row": null,
      "grid_template_areas": null,
      "grid_template_columns": null,
      "grid_template_rows": null,
      "height": null,
      "justify_content": null,
      "justify_items": null,
      "left": null,
      "margin": null,
      "max_height": null,
      "max_width": null,
      "min_height": null,
      "min_width": null,
      "object_fit": null,
      "object_position": null,
      "order": null,
      "overflow": null,
      "overflow_x": null,
      "overflow_y": null,
      "padding": null,
      "right": null,
      "top": null,
      "visibility": null,
      "width": null
     }
    },
    "287c5c63bcf4472f9546847d74fce769": {
     "model_module": "@jupyter-widgets/controls",
     "model_module_version": "1.5.0",
     "model_name": "DescriptionStyleModel",
     "state": {
      "_model_module": "@jupyter-widgets/controls",
      "_model_module_version": "1.5.0",
      "_model_name": "DescriptionStyleModel",
      "_view_count": null,
      "_view_module": "@jupyter-widgets/base",
      "_view_module_version": "1.2.0",
      "_view_name": "StyleView",
      "description_width": ""
     }
    },
    "2eacc212024a48a39c511b4d18ccae1a": {
     "model_module": "@jupyter-widgets/base",
     "model_module_version": "1.2.0",
     "model_name": "LayoutModel",
     "state": {
      "_model_module": "@jupyter-widgets/base",
      "_model_module_version": "1.2.0",
      "_model_name": "LayoutModel",
      "_view_count": null,
      "_view_module": "@jupyter-widgets/base",
      "_view_module_version": "1.2.0",
      "_view_name": "LayoutView",
      "align_content": null,
      "align_items": null,
      "align_self": null,
      "border": null,
      "bottom": null,
      "display": null,
      "flex": null,
      "flex_flow": null,
      "grid_area": null,
      "grid_auto_columns": null,
      "grid_auto_flow": null,
      "grid_auto_rows": null,
      "grid_column": null,
      "grid_gap": null,
      "grid_row": null,
      "grid_template_areas": null,
      "grid_template_columns": null,
      "grid_template_rows": null,
      "height": null,
      "justify_content": null,
      "justify_items": null,
      "left": null,
      "margin": null,
      "max_height": null,
      "max_width": null,
      "min_height": null,
      "min_width": null,
      "object_fit": null,
      "object_position": null,
      "order": null,
      "overflow": null,
      "overflow_x": null,
      "overflow_y": null,
      "padding": null,
      "right": null,
      "top": null,
      "visibility": null,
      "width": null
     }
    },
    "579253d4c79541e7989cacf16794d5e2": {
     "model_module": "@jupyter-widgets/base",
     "model_module_version": "1.2.0",
     "model_name": "LayoutModel",
     "state": {
      "_model_module": "@jupyter-widgets/base",
      "_model_module_version": "1.2.0",
      "_model_name": "LayoutModel",
      "_view_count": null,
      "_view_module": "@jupyter-widgets/base",
      "_view_module_version": "1.2.0",
      "_view_name": "LayoutView",
      "align_content": null,
      "align_items": null,
      "align_self": null,
      "border": null,
      "bottom": null,
      "display": null,
      "flex": null,
      "flex_flow": null,
      "grid_area": null,
      "grid_auto_columns": null,
      "grid_auto_flow": null,
      "grid_auto_rows": null,
      "grid_column": null,
      "grid_gap": null,
      "grid_row": null,
      "grid_template_areas": null,
      "grid_template_columns": null,
      "grid_template_rows": null,
      "height": null,
      "justify_content": null,
      "justify_items": null,
      "left": null,
      "margin": null,
      "max_height": null,
      "max_width": null,
      "min_height": null,
      "min_width": null,
      "object_fit": null,
      "object_position": null,
      "order": null,
      "overflow": null,
      "overflow_x": null,
      "overflow_y": null,
      "padding": null,
      "right": null,
      "top": null,
      "visibility": null,
      "width": null
     }
    },
    "ab4e9eeb44534d7ca075be3ef0be9140": {
     "model_module": "@jupyter-widgets/controls",
     "model_module_version": "1.5.0",
     "model_name": "HTMLModel",
     "state": {
      "_dom_classes": [],
      "_model_module": "@jupyter-widgets/controls",
      "_model_module_version": "1.5.0",
      "_model_name": "HTMLModel",
      "_view_count": null,
      "_view_module": "@jupyter-widgets/controls",
      "_view_module_version": "1.5.0",
      "_view_name": "HTMLView",
      "description": "",
      "description_tooltip": null,
      "layout": "IPY_MODEL_e9562967c2844159b714002cb9b0568d",
      "placeholder": "​",
      "style": "IPY_MODEL_07e2f691345b436299a2b68ad30bcede",
      "value": "Membaca Excel: 100%"
     }
    },
    "e9562967c2844159b714002cb9b0568d": {
     "model_module": "@jupyter-widgets/base",
     "model_module_version": "1.2.0",
     "model_name": "LayoutModel",
     "state": {
      "_model_module": "@jupyter-widgets/base",
      "_model_module_version": "1.2.0",
      "_model_name": "LayoutModel",
      "_view_count": null,
      "_view_module": "@jupyter-widgets/base",
      "_view_module_version": "1.2.0",
      "_view_name": "LayoutView",
      "align_content": null,
      "align_items": null,
      "align_self": null,
      "border": null,
      "bottom": null,
      "display": null,
      "flex": null,
      "flex_flow": null,
      "grid_area": null,
      "grid_auto_columns": null,
      "grid_auto_flow": null,
      "grid_auto_rows": null,
      "grid_column": null,
      "grid_gap": null,
      "grid_row": null,
      "grid_template_areas": null,
      "grid_template_columns": null,
      "grid_template_rows": null,
      "height": null,
      "justify_content": null,
      "justify_items": null,
      "left": null,
      "margin": null,
      "max_height": null,
      "max_width": null,
      "min_height": null,
      "min_width": null,
      "object_fit": null,
      "object_position": null,
      "order": null,
      "overflow": null,
      "overflow_x": null,
      "overflow_y": null,
      "padding": null,
      "right": null,
      "top": null,
      "visibility": null,
      "width": null
     }
    },
    "ea71b2e39f6840718508b543edb96b0c": {
     "model_module": "@jupyter-widgets/controls",
     "model_module_version": "1.5.0",
     "model_name": "HTMLModel",
     "state": {
      "_dom_classes": [],
      "_model_module": "@jupyter-widgets/controls",
      "_model_module_version": "1.5.0",
      "_model_name": "HTMLModel",
      "_view_count": null,
      "_view_module": "@jupyter-widgets/controls",
      "_view_module_version": "1.5.0",
      "_view_name": "HTMLView",
      "description": "",
      "description_tooltip": null,
      "layout": "IPY_MODEL_28484795a2a047649ad94932da36d0b4",
      "placeholder": "​",
      "style": "IPY_MODEL_287c5c63bcf4472f9546847d74fce769",
      "value": " 12/12 [00:03&lt;00:00,  3.83file/s]"
     }
    },
    "f0c24ecf1a7a453eaec8fdb077095ec1": {
     "model_module": "@jupyter-widgets/controls",
     "model_module_version": "1.5.0",
     "model_name": "HBoxModel",
     "state": {
      "_dom_classes": [],
      "_model_module": "@jupyter-widgets/controls",
      "_model_module_version": "1.5.0",
      "_model_name": "HBoxModel",
      "_view_count": null,
      "_view_module": "@jupyter-widgets/controls",
      "_view_module_version": "1.5.0",
      "_view_name": "HBoxView",
      "box_style": "",
      "children": [
       "IPY_MODEL_ab4e9eeb44534d7ca075be3ef0be9140",
       "IPY_MODEL_fa0794c7e71745cbb2fd7d6fb736190c",
       "IPY_MODEL_ea71b2e39f6840718508b543edb96b0c"
      ],
      "layout": "IPY_MODEL_579253d4c79541e7989cacf16794d5e2"
     }
    },
    "fa0794c7e71745cbb2fd7d6fb736190c": {
     "model_module": "@jupyter-widgets/controls",
     "model_module_version": "1.5.0",
     "model_name": "FloatProgressModel",
     "state": {
      "_dom_classes": [],
      "_model_module": "@jupyter-widgets/controls",
      "_model_module_version": "1.5.0",
      "_model_name": "FloatProgressModel",
      "_view_count": null,
      "_view_module": "@jupyter-widgets/controls",
      "_view_module_version": "1.5.0",
      "_view_name": "ProgressView",
      "bar_style": "success",
      "description": "",
      "description_tooltip": null,
      "layout": "IPY_MODEL_2eacc212024a48a39c511b4d18ccae1a",
      "max": 12,
      "min": 0,
      "orientation": "horizontal",
      "style": "IPY_MODEL_168eb664e01f48bd8784ebd1a407d1f3",
      "value": 12
     }
    }
   }
  }
 },
 "nbformat": 4,
 "nbformat_minor": 0
}
