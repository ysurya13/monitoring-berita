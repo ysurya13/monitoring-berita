{
 "cells": [
  {
   "cell_type": "markdown",
   "metadata": {
    "id": "nl15yqDXsRcB"
   },
   "source": [
    "# SETTING ENVIRONMENT\n"
   ]
  },
  {
   "cell_type": "code",
   "execution_count": 12,
   "metadata": {
    "colab": {
     "base_uri": "https://localhost:8080/"
    },
    "executionInfo": {
     "elapsed": 17991,
     "status": "ok",
     "timestamp": 1758706351359,
     "user": {
      "displayName": "Monitoring Berita",
      "userId": "16755502473357078001"
     },
     "user_tz": -420
    },
    "id": "f8BqutX0SOd1",
    "outputId": "85ebefb9-53dd-45f6-b529-0e1b4e28cbc6"
   },
   "outputs": [
    {
     "data": {
      "text/plain": [
       "\"# mount the colab with google drive\\nfrom google.colab import drive\\ndrive.mount('/content/drive')\""
      ]
     },
     "execution_count": 12,
     "metadata": {},
     "output_type": "execute_result"
    }
   ],
   "source": [
    "\"\"\"# mount the colab with google drive\n",
    "from google.colab import drive\n",
    "drive.mount('/content/drive')\"\"\""
   ]
  },
  {
   "cell_type": "code",
   "execution_count": 13,
   "metadata": {
    "executionInfo": {
     "elapsed": 75,
     "status": "ok",
     "timestamp": 1758706351437,
     "user": {
      "displayName": "Monitoring Berita",
      "userId": "16755502473357078001"
     },
     "user_tz": -420
    },
    "id": "eLOguPRQSRLN"
   },
   "outputs": [],
   "source": [
    "# set folder tempat kerja (current working directory)\n",
    "import os\n",
    "cwd = '/Users/yusufpradana/Library/CloudStorage/OneDrive-Personal/Pekerjaan BMN/05. 2025/98_monitoring_berita/monitoring-berita'\n",
    "\n",
    "#cwd = '/content/drive/MyDrive/Monitoring Berita'\n",
    "os.chdir(cwd)"
   ]
  },
  {
   "cell_type": "markdown",
   "metadata": {
    "id": "_CrnpBjHM3Wa"
   },
   "source": [
    "# MAIN CODE"
   ]
  },
  {
   "cell_type": "code",
   "execution_count": 14,
   "metadata": {
    "executionInfo": {
     "elapsed": 868,
     "status": "ok",
     "timestamp": 1758706352307,
     "user": {
      "displayName": "Monitoring Berita",
      "userId": "16755502473357078001"
     },
     "user_tz": -420
    },
    "id": "sE2vfl0Evi-z"
   },
   "outputs": [],
   "source": [
    "# === Import & Setup ===\n",
    "import os\n",
    "import re\n",
    "import logging\n",
    "from pathlib import Path\n",
    "\n",
    "import pandas as pd\n",
    "from tqdm.auto import tqdm\n",
    "\n",
    "# (Opsional) Jika di Google Colab, pastikan Drive sudah di-mount\n",
    "# from google.colab import drive\n",
    "# drive.mount('/content/drive')\n",
    "\n",
    "# Logging yang rapi\n",
    "logging.basicConfig(\n",
    "    level=logging.INFO,\n",
    "    format=\"%(asctime)s | %(levelname)s | %(message)s\",\n",
    ")\n",
    "\n",
    "# Folder akar yang akan dipindai (disesuaikan ke workspace lokal)\n",
    "# Gunakan folder 'daftar_berita' yang sekarang berisi SEMUA file xlsx (tanpa subfolder per portal)\n",
    "ROOT_DIR = Path(cwd) / \"daftar_berita\"\n",
    "\n",
    "# Kolom target (akan dipastikan tersedia setelah normalisasi)\n",
    "TARGET_COLS = [\"judul_berita\", \"tanggal_berita\", \"url_berita\"]\n",
    "\n",
    "# Mapping normalisasi nama kolom\n",
    "COLUMN_ALIASES = {\n",
    "    \"judulberita\": \"judul_berita\",\n",
    "    \"judul_berita\": \"judul_berita\",\n",
    "    \"judul\": \"judul_berita\",\n",
    "\n",
    "    \"tanggalberita\": \"tanggal_berita\",\n",
    "    \"tanggal_berita\": \"tanggal_berita\",\n",
    "    \"tanggal\": \"tanggal_berita\",\n",
    "    \"tgl\": \"tanggal_berita\",\n",
    "    \"date\": \"tanggal_berita\",\n",
    "\n",
    "    \"penulisberita\": \"penulis_berita\",\n",
    "    \"penulis_berita\": \"penulis_berita\",\n",
    "    \"penulis\": \"penulis_berita\",\n",
    "    \"author\": \"penulis_berita\",\n",
    "\n",
    "    \"urlberita\": \"url_berita\",\n",
    "    \"url_berita\": \"url_berita\",\n",
    "    \"url\": \"url_berita\",\n",
    "    \"link\": \"url_berita\",\n",
    "}"
   ]
  },
  {
   "cell_type": "code",
   "execution_count": 15,
   "metadata": {
    "executionInfo": {
     "elapsed": 1,
     "status": "ok",
     "timestamp": 1758706352311,
     "user": {
      "displayName": "Monitoring Berita",
      "userId": "16755502473357078001"
     },
     "user_tz": -420
    },
    "id": "B_hmImPr5zTh"
   },
   "outputs": [],
   "source": [
    "def normalize_col(col: str) -> str:\n",
    "    \"\"\"Normalisasi nama kolom: lowercase + remove non-alnum.\"\"\"\n",
    "    if col is None:\n",
    "        return \"\"\n",
    "    c = str(col).strip().lower()\n",
    "    c = re.sub(r\"[^a-z0-9]+\", \"\", c)\n",
    "    return c\n",
    "\n",
    "def standardize_columns(df: pd.DataFrame) -> pd.DataFrame:\n",
    "    \"\"\"\n",
    "    Standarkan nama kolom dataframe sesuai TARGET_COLS memakai COLUMN_ALIASES.\n",
    "    \"\"\"\n",
    "    if df is None or df.empty:\n",
    "        return pd.DataFrame(columns=TARGET_COLS)\n",
    "\n",
    "    rename_map = {}\n",
    "    for col in df.columns:\n",
    "        norm = normalize_col(col)\n",
    "        if norm in COLUMN_ALIASES:\n",
    "            rename_map[col] = COLUMN_ALIASES[norm]\n",
    "\n",
    "    df2 = df.rename(columns=rename_map)\n",
    "\n",
    "    # Pastikan semua kolom target ada\n",
    "    for c in TARGET_COLS:\n",
    "        if c not in df2.columns:\n",
    "            df2[c] = pd.NA\n",
    "\n",
    "    return df2[TARGET_COLS]\n",
    "\n",
    "def read_excel_safe(path: Path) -> pd.DataFrame:\n",
    "    \"\"\"\n",
    "    Membaca satu file Excel dengan fallback engine dan error handling.\n",
    "    \"\"\"\n",
    "    try:\n",
    "        df = pd.read_excel(path)\n",
    "    except Exception as e1:\n",
    "        try:\n",
    "            if path.suffix.lower() in [\".xlsx\", \".xlsm\", \".xltx\", \".xltm\"]:\n",
    "                df = pd.read_excel(path, engine=\"openpyxl\")\n",
    "            elif path.suffix.lower() == \".xls\":\n",
    "                df = pd.read_excel(path, engine=None)\n",
    "            else:\n",
    "                raise\n",
    "        except Exception as e2:\n",
    "            logging.warning(f\"Gagal membaca: {path} | err1={e1} | err2={e2}\")\n",
    "            return pd.DataFrame(columns=TARGET_COLS)\n",
    "\n",
    "    df = standardize_columns(df).dropna(how=\"all\")\n",
    "    df = df[~(df[\"judul_berita\"].isna() & df[\"url_berita\"].isna())]\n",
    "    return df\n"
   ]
  },
  {
   "cell_type": "code",
   "execution_count": 16,
   "metadata": {
    "colab": {
     "base_uri": "https://localhost:8080/",
     "height": 49,
     "referenced_widgets": [
      "f0c24ecf1a7a453eaec8fdb077095ec1",
      "ab4e9eeb44534d7ca075be3ef0be9140",
      "fa0794c7e71745cbb2fd7d6fb736190c",
      "ea71b2e39f6840718508b543edb96b0c",
      "579253d4c79541e7989cacf16794d5e2",
      "e9562967c2844159b714002cb9b0568d",
      "07e2f691345b436299a2b68ad30bcede",
      "2eacc212024a48a39c511b4d18ccae1a",
      "168eb664e01f48bd8784ebd1a407d1f3",
      "28484795a2a047649ad94932da36d0b4",
      "287c5c63bcf4472f9546847d74fce769"
     ]
    },
    "executionInfo": {
     "elapsed": 4010,
     "status": "ok",
     "timestamp": 1758706356322,
     "user": {
      "displayName": "Monitoring Berita",
      "userId": "16755502473357078001"
     },
     "user_tz": -420
    },
    "id": "LLVZZDXX51kx",
    "outputId": "f747bde2-3483-4371-e1c5-74f4ee97beb7"
   },
   "outputs": [
    {
     "data": {
      "application/vnd.jupyter.widget-view+json": {
       "model_id": "661ee6067a4f4ae7b5388c74979cf8f2",
       "version_major": 2,
       "version_minor": 0
      },
      "text/plain": [
       "Membaca Excel:   0%|          | 0/10 [00:00<?, ?file/s]"
      ]
     },
     "metadata": {},
     "output_type": "display_data"
    },
    {
     "name": "stderr",
     "output_type": "stream",
     "text": [
      "2025-09-29 13:32:56,030 | INFO | Duplikat dihapus: 27 baris | Total akhir: 609\n",
      "2025-09-29 13:32:56,032 | INFO | Selesai gabung. Total baris: 609 | File terbaca: 10\n"
     ]
    }
   ],
   "source": [
    "# Cari semua file Excel secara rekursif (struktur baru: semua file xlsx ada langsung di folder ini)\n",
    "excel_patterns = [\"*.xlsx\", \"*.xls\", \"*.xlsm\", \"*.xltx\", \"*.xltm\"]\n",
    "paths = []\n",
    "for pat in excel_patterns:\n",
    "    # gunakan glob (bukan rglob) untuk satu level, namun tetap dukung rglob kalau ada subfolder tersisa\n",
    "    paths.extend(sorted(ROOT_DIR.glob(pat)))\n",
    "    paths.extend(sorted(ROOT_DIR.rglob(pat)))\n",
    "# unikkan path\n",
    "paths = sorted(dict.fromkeys(paths))\n",
    "\n",
    "if not paths:\n",
    "    logging.warning(f\"Tidak ditemukan file Excel di bawah {ROOT_DIR}\")\n",
    "\n",
    "dfs = []\n",
    "for p in tqdm(paths, desc=\"Membaca Excel\", unit=\"file\"):\n",
    "    df_part = read_excel_safe(p)\n",
    "    if not df_part.empty:\n",
    "        # Coba tebak nama portal dari nama file jika tidak ada subfolder\n",
    "        # Contoh: kompas.xlsx -> kompas, cnn_links.xlsx -> cnn\n",
    "        stem = p.stem.lower()\n",
    "        media_guess = re.split(r\"[_\\-]\", stem)[0] if stem else \"unknown\"\n",
    "        media_online = p.parent.name if p.parent != ROOT_DIR else media_guess\n",
    "\n",
    "        # Tambahkan metadata\n",
    "        df_part = df_part.assign(\n",
    "            media_online=media_online,\n",
    "            _source=str(p)\n",
    "        )\n",
    "        dfs.append(df_part)\n",
    "\n",
    "# Gabungkan semua\n",
    "if dfs:\n",
    "    df_all = pd.concat(dfs, ignore_index=True)\n",
    "else:\n",
    "    df_all = pd.DataFrame(columns=TARGET_COLS + [\"media_online\", \"_source\"])\n",
    "\n",
    "# --- Drop duplikat berdasarkan url_berita ---\n",
    "if \"url_berita\" in df_all.columns:\n",
    "    before = len(df_all)\n",
    "    df_all = df_all.drop_duplicates(subset=[\"url_berita\"], keep=\"first\")\n",
    "    after = len(df_all)\n",
    "    logging.info(f\"Duplikat dihapus: {before - after} baris | Total akhir: {after}\")\n",
    "\n",
    "# Strip whitespace pada teks\n",
    "for c in [\"judul_berita\", \"penulis_berita\", \"url_berita\", \"tanggal_berita\"]:\n",
    "    if c in df_all.columns:\n",
    "        df_all[c] = df_all[c].astype(\"string\").str.strip()\n",
    "\n",
    "logging.info(f\"Selesai gabung. Total baris: {len(df_all)} | File terbaca: {len(dfs)}\")\n",
    "\n",
    "#display(df_all.head(10))"
   ]
  },
  {
   "cell_type": "code",
   "execution_count": 17,
   "metadata": {
    "colab": {
     "base_uri": "https://localhost:8080/"
    },
    "executionInfo": {
     "elapsed": 504,
     "status": "ok",
     "timestamp": 1758706356830,
     "user": {
      "displayName": "Monitoring Berita",
      "userId": "16755502473357078001"
     },
     "user_tz": -420
    },
    "id": "fF2C38O9fUAq",
    "outputId": "48685fc3-dae6-4482-aba8-ff8a1527d7ca"
   },
   "outputs": [
    {
     "name": "stderr",
     "output_type": "stream",
     "text": [
      "2025-09-29 13:32:56,103 | WARNING | Gagal parse index=363, nilai='<NA>': String does not contain a date: <NA>\n",
      "2025-09-29 13:32:56,105 | WARNING | Gagal parse index=371, nilai='<NA>': String does not contain a date: <NA>\n",
      "2025-09-29 13:32:56,105 | WARNING | Gagal parse index=372, nilai='<NA>': String does not contain a date: <NA>\n",
      "2025-09-29 13:32:56,105 | WARNING | Gagal parse index=373, nilai='<NA>': String does not contain a date: <NA>\n",
      "2025-09-29 13:32:56,105 | WARNING | Gagal parse index=374, nilai='<NA>': String does not contain a date: <NA>\n",
      "2025-09-29 13:32:56,106 | WARNING | Gagal parse index=375, nilai='<NA>': String does not contain a date: <NA>\n",
      "2025-09-29 13:32:56,106 | WARNING | Gagal parse index=376, nilai='<NA>': String does not contain a date: <NA>\n",
      "2025-09-29 13:32:56,106 | WARNING | Gagal parse index=377, nilai='<NA>': String does not contain a date: <NA>\n",
      "2025-09-29 13:32:56,107 | WARNING | Gagal parse index=379, nilai='<NA>': String does not contain a date: <NA>\n",
      "2025-09-29 13:32:56,107 | WARNING | Gagal parse index=380, nilai='<NA>': String does not contain a date: <NA>\n",
      "2025-09-29 13:32:56,107 | WARNING | Gagal parse index=381, nilai='<NA>': String does not contain a date: <NA>\n",
      "2025-09-29 13:32:56,108 | WARNING | Gagal parse index=382, nilai='<NA>': String does not contain a date: <NA>\n",
      "2025-09-29 13:32:56,108 | WARNING | Gagal parse index=383, nilai='<NA>': String does not contain a date: <NA>\n",
      "2025-09-29 13:32:56,108 | WARNING | Gagal parse index=384, nilai='<NA>': String does not contain a date: <NA>\n",
      "2025-09-29 13:32:56,108 | WARNING | Gagal parse index=385, nilai='<NA>': String does not contain a date: <NA>\n",
      "2025-09-29 13:32:56,109 | WARNING | Gagal parse index=386, nilai='<NA>': String does not contain a date: <NA>\n",
      "2025-09-29 13:32:56,109 | WARNING | Gagal parse index=387, nilai='<NA>': String does not contain a date: <NA>\n",
      "2025-09-29 13:32:56,109 | WARNING | Gagal parse index=388, nilai='<NA>': String does not contain a date: <NA>\n",
      "2025-09-29 13:32:56,109 | WARNING | Gagal parse index=389, nilai='<NA>': String does not contain a date: <NA>\n",
      "2025-09-29 13:32:56,110 | WARNING | Gagal parse index=390, nilai='<NA>': String does not contain a date: <NA>\n",
      "2025-09-29 13:32:56,110 | WARNING | Gagal parse index=391, nilai='<NA>': String does not contain a date: <NA>\n",
      "2025-09-29 13:32:56,111 | WARNING | Gagal parse index=394, nilai='<NA>': String does not contain a date: <NA>\n",
      "2025-09-29 13:32:56,115 | WARNING | Gagal parse index=424, nilai='<NA>': String does not contain a date: <NA>\n",
      "2025-09-29 13:32:56,115 | WARNING | Gagal parse index=425, nilai='<NA>': String does not contain a date: <NA>\n",
      "2025-09-29 13:32:56,115 | WARNING | Gagal parse index=428, nilai='<NA>': String does not contain a date: <NA>\n",
      "2025-09-29 13:32:56,116 | WARNING | Gagal parse index=429, nilai='<NA>': String does not contain a date: <NA>\n",
      "2025-09-29 13:32:56,116 | WARNING | Gagal parse index=430, nilai='<NA>': String does not contain a date: <NA>\n",
      "2025-09-29 13:32:56,116 | WARNING | Gagal parse index=431, nilai='<NA>': String does not contain a date: <NA>\n",
      "2025-09-29 13:32:56,116 | WARNING | Gagal parse index=432, nilai='<NA>': String does not contain a date: <NA>\n",
      "2025-09-29 13:32:56,117 | WARNING | Gagal parse index=433, nilai='<NA>': String does not contain a date: <NA>\n",
      "2025-09-29 13:32:56,117 | WARNING | Gagal parse index=434, nilai='<NA>': String does not contain a date: <NA>\n",
      "2025-09-29 13:32:56,117 | WARNING | Gagal parse index=435, nilai='<NA>': String does not contain a date: <NA>\n",
      "2025-09-29 13:32:56,117 | WARNING | Gagal parse index=436, nilai='<NA>': String does not contain a date: <NA>\n",
      "2025-09-29 13:32:56,118 | WARNING | Gagal parse index=437, nilai='<NA>': String does not contain a date: <NA>\n",
      "2025-09-29 13:32:56,119 | WARNING | Gagal parse index=442, nilai='<NA>': String does not contain a date: <NA>\n",
      "2025-09-29 13:32:56,120 | WARNING | Gagal parse index=456, nilai='<NA>': String does not contain a date: <NA>\n",
      "2025-09-29 13:32:56,121 | WARNING | Gagal parse index=457, nilai='<NA>': String does not contain a date: <NA>\n",
      "2025-09-29 13:32:56,121 | WARNING | Gagal parse index=458, nilai='<NA>': String does not contain a date: <NA>\n",
      "2025-09-29 13:32:56,121 | WARNING | Gagal parse index=459, nilai='<NA>': String does not contain a date: <NA>\n",
      "2025-09-29 13:32:56,122 | WARNING | Gagal parse index=460, nilai='<NA>': String does not contain a date: <NA>\n",
      "2025-09-29 13:32:56,122 | WARNING | Gagal parse index=461, nilai='<NA>': String does not contain a date: <NA>\n",
      "2025-09-29 13:32:56,122 | WARNING | Gagal parse index=462, nilai='<NA>': String does not contain a date: <NA>\n",
      "2025-09-29 13:32:56,122 | WARNING | Gagal parse index=463, nilai='<NA>': String does not contain a date: <NA>\n",
      "2025-09-29 13:32:56,123 | WARNING | Gagal parse index=464, nilai='<NA>': String does not contain a date: <NA>\n",
      "2025-09-29 13:32:56,123 | WARNING | Gagal parse index=465, nilai='<NA>': String does not contain a date: <NA>\n",
      "2025-09-29 13:32:56,123 | WARNING | Gagal parse index=466, nilai='<NA>': String does not contain a date: <NA>\n",
      "2025-09-29 13:32:56,123 | WARNING | Gagal parse index=467, nilai='<NA>': String does not contain a date: <NA>\n",
      "2025-09-29 13:32:56,123 | WARNING | Gagal parse index=468, nilai='<NA>': String does not contain a date: <NA>\n",
      "2025-09-29 13:32:56,124 | WARNING | Gagal parse index=469, nilai='<NA>': String does not contain a date: <NA>\n",
      "2025-09-29 13:32:56,124 | WARNING | Gagal parse index=470, nilai='<NA>': String does not contain a date: <NA>\n",
      "2025-09-29 13:32:56,124 | WARNING | Gagal parse index=471, nilai='<NA>': String does not contain a date: <NA>\n",
      "2025-09-29 13:32:56,124 | WARNING | Gagal parse index=472, nilai='<NA>': String does not contain a date: <NA>\n",
      "2025-09-29 13:32:56,125 | WARNING | Gagal parse index=473, nilai='<NA>': String does not contain a date: <NA>\n",
      "2025-09-29 13:32:56,125 | WARNING | Gagal parse index=474, nilai='<NA>': String does not contain a date: <NA>\n",
      "2025-09-29 13:32:56,125 | WARNING | Gagal parse index=475, nilai='<NA>': String does not contain a date: <NA>\n",
      "2025-09-29 13:32:56,126 | WARNING | Gagal parse index=476, nilai='<NA>': String does not contain a date: <NA>\n",
      "2025-09-29 13:32:56,126 | WARNING | Gagal parse index=477, nilai='<NA>': String does not contain a date: <NA>\n",
      "2025-09-29 13:32:56,126 | WARNING | Gagal parse index=478, nilai='<NA>': String does not contain a date: <NA>\n",
      "2025-09-29 13:32:56,126 | WARNING | Gagal parse index=479, nilai='<NA>': String does not contain a date: <NA>\n",
      "2025-09-29 13:32:56,127 | WARNING | Gagal parse index=480, nilai='<NA>': String does not contain a date: <NA>\n",
      "2025-09-29 13:32:56,127 | WARNING | Gagal parse index=481, nilai='<NA>': String does not contain a date: <NA>\n",
      "2025-09-29 13:32:56,127 | WARNING | Gagal parse index=482, nilai='<NA>': String does not contain a date: <NA>\n",
      "2025-09-29 13:32:56,127 | WARNING | Gagal parse index=483, nilai='<NA>': String does not contain a date: <NA>\n",
      "2025-09-29 13:32:56,128 | WARNING | Gagal parse index=484, nilai='<NA>': String does not contain a date: <NA>\n",
      "2025-09-29 13:32:56,128 | WARNING | Gagal parse index=485, nilai='<NA>': String does not contain a date: <NA>\n",
      "2025-09-29 13:32:56,128 | WARNING | Gagal parse index=486, nilai='<NA>': String does not contain a date: <NA>\n",
      "2025-09-29 13:32:56,128 | WARNING | Gagal parse index=487, nilai='<NA>': String does not contain a date: <NA>\n",
      "2025-09-29 13:32:56,131 | WARNING | Gagal parse index=500, nilai='Market Update | Senin, 29 September 2025 09:21 WIB IHSG Dibuka Menguat ke 8.139, Saham-Saham Ini Cuan': Unknown string format: Market Update | Senin 29 September 2025 09:21 IHSG Dibuka Menguat ke 8.139 Saham-Saham Ini Cuan\n",
      "/opt/anaconda3/lib/python3.12/site-packages/dateutil/parser/_parser.py:1207: UnknownTimezoneWarning: tzname PHK identified but not understood.  Pass `tzinfos` argument in order to correctly return a timezone-aware datetime.  In a future version, this will raise an exception.\n",
      "  warnings.warn(\"tzname {tzname} identified but not understood.  \"\n",
      "/opt/anaconda3/lib/python3.12/site-packages/dateutil/parser/_parser.py:1207: UnknownTimezoneWarning: tzname BCA identified but not understood.  Pass `tzinfos` argument in order to correctly return a timezone-aware datetime.  In a future version, this will raise an exception.\n",
      "  warnings.warn(\"tzname {tzname} identified but not understood.  \"\n",
      "2025-09-29 13:32:56,132 | WARNING | Gagal parse index=506, nilai='International | Senin, 29 September 2025 08:50 WIB 50 Kapal Aktivis Flotilla yang Akan Menembus Blokade Israel Mulai Dekati Jalur Gaza': Unknown string format: International | Senin 29 September 2025 08:50 50 Kapal Aktivis Flotilla yang Akan Menembus Blokade Israel Mulai Dekati Jalur Gaza\n",
      "2025-09-29 13:32:56,133 | WARNING | Gagal parse index=507, nilai='MotoGP | Senin, 29 September 2025 08:48 WIB Pesan Haru Alex Marquez untuk Marc Marquez: Juara MotoGP 2025 Setelah Apa yang Dilalui 5 Tahun Terakhir!': Unknown string format: MotoGP | Senin 29 September 2025 08:48 Pesan Haru Alex Marquez untuk Marc Marquez: Juara MotoGP 2025 Setelah Apa yang Dilalui 5 Tahun Terakhir!\n",
      "2025-09-29 13:32:56,133 | WARNING | Gagal parse index=508, nilai='Hot Issue | Senin, 29 September 2025 08:46 WIB Harga Emas Antam Terbaru Hari Ini, Kembali Cetak Rekor Tertinggi Jadi Rp2.198.000 per Gram': Unknown string format: Hot Issue | Senin 29 September 2025 08:46 Harga Emas Antam Terbaru Hari Ini Kembali Cetak Rekor Tertinggi Jadi Rp2.198.000 per Gram\n",
      "/opt/anaconda3/lib/python3.12/site-packages/dateutil/parser/_parser.py:1207: UnknownTimezoneWarning: tzname BGN identified but not understood.  Pass `tzinfos` argument in order to correctly return a timezone-aware datetime.  In a future version, this will raise an exception.\n",
      "  warnings.warn(\"tzname {tzname} identified but not understood.  \"\n",
      "2025-09-29 13:32:56,134 | WARNING | Gagal parse index=510, nilai='International | Senin, 29 September 2025 08:23 WIB Kekejaman Israel Terhadap Anak-Anak dan Perempuan di Gaza Terukir Selama Berabad-abad': Unknown string format: International | Senin 29 September 2025 08:23 Kekejaman Israel Terhadap Anak-Anak dan Perempuan di Gaza Terukir Selama Berabad-abad\n",
      "2025-09-29 13:32:56,134 | WARNING | Gagal parse index=511, nilai='Smart Money | Senin, 29 September 2025 08:19 WIB Penerima BSU September 2025 untuk Guru Cair Rp600.000, Kalau Pekerja?': Unknown string format: Smart Money | Senin 29 September 2025 08:19 Penerima BSU September 2025 untuk Guru Cair Rp600.000 Kalau Pekerja?\n",
      "/opt/anaconda3/lib/python3.12/site-packages/dateutil/parser/_parser.py:1207: UnknownTimezoneWarning: tzname MBG identified but not understood.  Pass `tzinfos` argument in order to correctly return a timezone-aware datetime.  In a future version, this will raise an exception.\n",
      "  warnings.warn(\"tzname {tzname} identified but not understood.  \"\n",
      "2025-09-29 13:32:56,135 | WARNING | Gagal parse index=515, nilai='Sepakbola Dunia | Senin, 29 September 2025 07:58 WIB Jadwal Siaran Langsung Timnas Indonesia di Babak Keempat Kualifikasi Piala Dunia 2026 Zona Asia, Live di RCTI!': Unknown string format: Sepakbola Dunia | Senin 29 September 2025 07:58 Jadwal Siaran Langsung Timnas Indonesia di Babak Keempat Kualifikasi Piala Dunia 2026 Zona Asia Live di RCTI!\n",
      "2025-09-29 13:32:56,135 | WARNING | Gagal parse index=516, nilai='Smart Money | Senin, 29 September 2025 07:46 WIB Cek Bansos PKH dan BPNT September 2025, dari Jadwal hingga Besarannya': Unknown string format: Smart Money | Senin 29 September 2025 07:46 Cek Bansos PKH dan BPNT September 2025 dari Jadwal hingga Besarannya\n",
      "2025-09-29 13:32:56,136 | WARNING | Gagal parse index=517, nilai='Sepakbola Dunia | Senin, 29 September 2025 07:45 WIB Dihukum FIFA, FAM Ngaku Ada Kesalahan Teknis saat Kirim Berkas 7 Pemain Naturalisasi Timnas Malaysia': Unknown string format: Sepakbola Dunia | Senin 29 September 2025 07:45 Dihukum FIFA FAM Ngaku Ada Kesalahan Teknis saat Kirim Berkas 7 Pemain Naturalisasi Timnas Malaysia\n",
      "/opt/anaconda3/lib/python3.12/site-packages/dateutil/parser/_parser.py:1207: UnknownTimezoneWarning: tzname PLTMG identified but not understood.  Pass `tzinfos` argument in order to correctly return a timezone-aware datetime.  In a future version, this will raise an exception.\n",
      "  warnings.warn(\"tzname {tzname} identified but not understood.  \"\n",
      "2025-09-29 13:32:56,136 | WARNING | Gagal parse index=519, nilai='Megapolitan | Senin, 29 September 2025 07:33 WIB Update Kebakaran Taman Sari: 6 Korban Luka Ringan dan 225 Jiwa Mengungsi': Unknown string format: Megapolitan | Senin 29 September 2025 07:33 Update Kebakaran Taman Sari: 6 Korban Luka Ringan dan 225 Jiwa Mengungsi\n",
      "2025-09-29 13:32:56,137 | WARNING | Gagal parse index=520, nilai='Sepakbola Dunia | Senin, 29 September 2025 07:18 WIB Pemain Timnas Indonesia Calvin Verdonk Tabrak Juara Piala Dunia 2022 di Laga LOSC Lille vs Lyon, Berujung Adu Kepala dengan Malick Fofana!': Unknown string format: Sepakbola Dunia | Senin 29 September 2025 07:18 Pemain Timnas Indonesia Calvin Verdonk Tabrak Juara Piala Dunia 2022 di Laga LOSC Lille vs Lyon Berujung Adu Kepala dengan Malick Fofana!\n",
      "2025-09-29 13:32:56,138 | WARNING | Gagal parse index=522, nilai='Hot Gossip | Senin, 29 September 2025 07:10 WIB Duo Maia Batal Tampil di Synchronize 2025, Pinkan Mambo Siap Naik Panggung': Unknown string format: Hot Gossip | Senin 29 September 2025 07:10 Duo Maia Batal Tampil di Synchronize 2025 Pinkan Mambo Siap Naik Panggung\n",
      "2025-09-29 13:32:56,147 | WARNING | Gagal parse index=523, nilai='Hot Issue | Senin, 29 September 2025 07:03 WIB 9 Fakta Bos Investree, dari Jadi CEO di Qatar hingga Ditangkap karena Modus Dana Ilegal': Unknown string format: Hot Issue | Senin 29 September 2025 07:03 9 Fakta Bos Investree dari Jadi CEO di Qatar hingga Ditangkap karena Modus Dana Ilegal\n",
      "2025-09-29 13:32:56,150 | WARNING | Gagal parse index=525, nilai='MotoGP | Senin, 29 September 2025 06:52 WIB Jadwal MotoGP Mandalika 2025: Usai Kunci Gelar Juara, Marc Marquez Menang Perdana di Mandalika?': Unknown string format: MotoGP | Senin 29 September 2025 06:52 Jadwal MotoGP Mandalika 2025: Usai Kunci Gelar Juara Marc Marquez Menang Perdana di Mandalika?\n",
      "/opt/anaconda3/lib/python3.12/site-packages/dateutil/parser/_parser.py:1207: UnknownTimezoneWarning: tzname PPP identified but not understood.  Pass `tzinfos` argument in order to correctly return a timezone-aware datetime.  In a future version, this will raise an exception.\n",
      "  warnings.warn(\"tzname {tzname} identified but not understood.  \"\n",
      "2025-09-29 13:32:56,163 | WARNING | Gagal parse index=528, nilai='Hot Issue | Senin, 29 September 2025 06:25 WIB Cek Besaran Tarif Listrik PLN hingga Desember 2025': Unknown string format: Hot Issue | Senin 29 September 2025 06:25 Cek Besaran Tarif Listrik PLN hingga December 2025\n",
      "2025-09-29 13:32:56,180 | WARNING | Gagal parse index=529, nilai='Sepakbola Dunia | Senin, 29 September 2025 06:11 WIB Herve Renard Umumkan 27 Pemain Timnas Arab Saudi untuk Lawan Timnas Indonesia dan Irak di Kualifikasi Piala Dunia 2026': Unknown string format: Sepakbola Dunia | Senin 29 September 2025 06:11 Herve Renard Umumkan 27 Pemain Timnas Arab Saudi untuk Lawan Timnas Indonesia dan Irak di Kualifikasi Piala Dunia 2026\n",
      "2025-09-29 13:32:56,184 | WARNING | Gagal parse index=532, nilai='Hot Issue | Senin, 29 September 2025 06:03 WIB 5 Fakta Perubahan Kementerian BUMN, dari BP BUMN hingga Nasib Pegawai': Unknown string format: Hot Issue | Senin 29 September 2025 06:03 5 Fakta Perubahan Kementerian BUMN dari BP BUMN hingga Nasib Pegawai\n",
      "2025-09-29 13:32:56,185 | WARNING | Gagal parse index=533, nilai='Sepakbola Dunia | Senin, 29 September 2025 05:59 WIB Patrick Kluivert Bahagia, 3 Bintang Timnas Arab Saudi Dipastikan Absen Lawan Timnas Indonesia!': Unknown string format: Sepakbola Dunia | Senin 29 September 2025 05:59 Patrick Kluivert Bahagia 3 Bintang Timnas Arab Saudi Dipastikan Absen Lawan Timnas Indonesia!\n",
      "2025-09-29 13:32:56,185 | WARNING | Gagal parse index=534, nilai='Liga Spanyol | Senin, 29 September 2025 05:48 WIB Hasil Barcelona vs Real Sociedad di Liga Spanyol 2025-2026: Menang 2-1, Blaugrana Geser Real Madrid dari Puncak Klasemen!': Unknown string format: Liga Spanyol | Senin 29 September 2025 05:48 Hasil Barcelona vs Real Sociedad di Liga Spanyol 2025-2026: Menang 2-1 Blaugrana Geser Real Madrid dari Puncak Klasemen!\n",
      "2025-09-29 13:32:56,186 | WARNING | Gagal parse index=537, nilai='Liga Italia | Senin, 29 September 2025 05:13 WIB Antonio Conte Ungkap Penyebab Napoli Kalah 1-2 dari AC Milan di Liga Italia 2025-2026': Unknown string format: Liga Italia | Senin 29 September 2025 05:13 Antonio Conte Ungkap Penyebab Napoli Kalah 1-2 dari AC Milan di Liga Italia 2025-2026\n",
      "2025-09-29 13:32:56,187 | WARNING | Gagal parse index=539, nilai='Hot Issue | Senin, 29 September 2025 05:03 WIB 4 Fakta Cukai Rokok 2026 Tak Naik, Purbaya Fokus Berantas Rokok Ilegal': Unknown string format: Hot Issue | Senin 29 September 2025 05:03 4 Fakta Cukai Rokok 2026 Tak Naik Purbaya Fokus Berantas Rokok Ilegal\n",
      "/opt/anaconda3/lib/python3.12/site-packages/dateutil/parser/_parser.py:1207: UnknownTimezoneWarning: tzname TC identified but not understood.  Pass `tzinfos` argument in order to correctly return a timezone-aware datetime.  In a future version, this will raise an exception.\n",
      "  warnings.warn(\"tzname {tzname} identified but not understood.  \"\n",
      "2025-09-29 13:32:56,188 | WARNING | Gagal parse index=545, nilai='MotoGP | Senin, 29 September 2025 02:46 WIB Ungkapkan Kekaguman, Fabio Quartararo: Marc Marquez Pantas Juara Dunia MotoGP 2025': Unknown string format: MotoGP | Senin 29 September 2025 02:46 Ungkapkan Kekaguman Fabio Quartararo: Marc Marquez Pantas Juara Dunia MotoGP 2025\n",
      "/opt/anaconda3/lib/python3.12/site-packages/dateutil/parser/_parser.py:1207: UnknownTimezoneWarning: tzname CNN identified but not understood.  Pass `tzinfos` argument in order to correctly return a timezone-aware datetime.  In a future version, this will raise an exception.\n",
      "  warnings.warn(\"tzname {tzname} identified but not understood.  \"\n",
      "2025-09-29 13:32:56,189 | WARNING | Gagal parse index=547, nilai='Liga Indonesia | Senin, 29 September 2025 02:05 WIB Statistik Ciamik Kiper Timnas Indonesia U-23 Cahya Supriadi di Super League 2025-2026: Catatkan 22 Penyelamatan!': Unknown string format: Liga Indonesia | Senin 29 September 2025 02:05 Statistik Ciamik Kiper Timnas Indonesia U-23 Cahya Supriadi di Super League 2025-2026: Catatkan 22 Penyelamatan!\n",
      "2025-09-29 13:32:56,189 | WARNING | Gagal parse index=548, nilai='MotoGP | Senin, 29 September 2025 01:35 WIB Jadi Juara Dunia MotoGP 2025, Marc Marquez: Saya Tidak Tahu Arti Penderitaan 6 Tahun Lalu': Unknown string format: MotoGP | Senin 29 September 2025 01:35 Jadi Juara Dunia MotoGP 2025 Marc Marquez: Saya Tidak Tahu Arti Penderitaan 6 Tahun Lalu\n",
      "2025-09-29 13:32:56,189 | WARNING | Gagal parse index=549, nilai='Liga Inggris | Senin, 29 September 2025 01:05 WIB Dalih Ruben Amorim Usai Manchester United Kalah 1-3 dari Brentford di Liga Inggris 2025-2026': Unknown string format: Liga Inggris | Senin 29 September 2025 01:05 Dalih Ruben Amorim Usai Manchester United Kalah 1-3 dari Brentford di Liga Inggris 2025-2026\n",
      "2025-09-29 13:32:56,190 | WARNING | Gagal parse index=551, nilai='MotoGP | Senin, 29 September 2025 00:32 WIB Kata-Kata Haru Marc Marquez saat Pastikan Gelar Juara Dunia MotoGP 2025 di Jepang': Unknown string format: MotoGP | Senin 29 September 2025 00:32 Kata-Kata Haru Marc Marquez saat Pastikan Gelar Juara Dunia MotoGP 2025 di Jepang\n",
      "2025-09-29 13:32:56,190 | WARNING | Gagal parse index=552, nilai='Nusantara | Senin, 29 September 2025 00:08 WIB 4 Pendulang Emas Selamat dari Pembantaian KKB Usai Sembunyi di Hutan, 2 Rekannya Tewas Ditembak': Unknown string format: Nusantara | Senin 29 September 2025 00:08 4 Pendulang Emas Selamat dari Pembantaian KKB Usai Sembunyi di Hutan 2 Rekannya Tewas Ditembak\n",
      "2025-09-29 13:32:56,191 | WARNING | Gagal parse index=553, nilai='Sepakbola Dunia | Senin, 29 September 2025 00:05 WIB Terungkap! 2 Klub Belanda Ternyata Minati Mees Hilgers Usai Gagal ke Stade Brest tapi Ditolak': Unknown string format: Sepakbola Dunia | Senin 29 September 2025 00:05 Terungkap! 2 Klub Belanda Ternyata Minati Mees Hilgers Usai Gagal ke Stade Brest tapi Ditolak\n",
      "2025-09-29 13:32:56,206 | INFO | Normalisasi selesai. Total baris: 609 | Berhasil: 514 | Gagal: 95\n"
     ]
    }
   ],
   "source": [
    "import re\n",
    "import logging\n",
    "from datetime import datetime\n",
    "from zoneinfo import ZoneInfo\n",
    "\n",
    "import pandas as pd\n",
    "from dateutil import parser as du_parser\n",
    "\n",
    "# =========================\n",
    "# Setup logging (opsional)\n",
    "# =========================\n",
    "logging.basicConfig(\n",
    "    level=logging.INFO,\n",
    "    format=\"%(asctime)s | %(levelname)s | %(message)s\",\n",
    ")\n",
    "\n",
    "# =======================================================\n",
    "# Normalisasi kolom tanggal berita -> ISO Asia/Jakarta\n",
    "# =======================================================\n",
    "def normalize_tanggal_berita(\n",
    "    df: pd.DataFrame,\n",
    "    col_candidates=(\"tanggal_berita\", \"tanggal berita\"),\n",
    "    target_tz:str=\"Asia/Jakarta\",\n",
    "    output_col_str:str=\"tanggal_berita_std\",\n",
    "    output_col_dt:str=\"tanggal_berita_dt\",\n",
    "    error_col:str=\"tanggal_parse_error\",\n",
    ") -> pd.DataFrame:\n",
    "    \"\"\"\n",
    "    Menormalkan berbagai format tanggal hasil scraping ke ISO 8601 +07:00.\n",
    "\n",
    "    - Mencari kolom tanggal berdasarkan urutan `col_candidates`.\n",
    "    - Menghapus nama hari (Senin..Minggu), koma, dan penanda WIB/WITA/WIT.\n",
    "    - Mengonversi nama bulan Indonesia (pendek & panjang).\n",
    "    - Jika datetime tanpa timezone -> dilokalkan ke Asia/Jakarta.\n",
    "    - Jika punya timezone -> dikonversi ke Asia/Jakarta.\n",
    "    - Tanggal tanpa jam -> diasumsikan 00:00:00 di Asia/Jakarta.\n",
    "    - Menambahkan:\n",
    "        * `tanggal_berita_std` (string ISO 8601)\n",
    "        * `tanggal_berita_dt` (datetime timezone-aware)\n",
    "        * `tanggal_parse_error` (string error jika ada, else None)\n",
    "    \"\"\"\n",
    "    # Tentukan kolom sumber\n",
    "    src_col = None\n",
    "    for c in col_candidates:\n",
    "        if c in df.columns:\n",
    "            src_col = c\n",
    "            break\n",
    "    if src_col is None:\n",
    "        logging.warning(f\"Tidak menemukan kolom tanggal. Coba salah satu: {col_candidates}\")\n",
    "        # tidak fatal, kembalikan df apa adanya\n",
    "        return df\n",
    "\n",
    "    tz_map = {\n",
    "        \"WIB\": ZoneInfo(\"Asia/Jakarta\"),      # UTC+7\n",
    "        \"WITA\": ZoneInfo(\"Asia/Makassar\"),    # UTC+8\n",
    "        \"WIT\": ZoneInfo(\"Asia/Jayapura\"),     # UTC+9\n",
    "    }\n",
    "    target_zone = ZoneInfo(target_tz)\n",
    "\n",
    "    # Nama hari Indonesia (untuk dibuang)\n",
    "    day_names = r\"(Senin|Selasa|Rabu|Kamis|Jumat|Sabtu|Minggu)\"\n",
    "    day_pattern = re.compile(rf\"^\\s*{day_names}\\s*,?\\s*\", flags=re.IGNORECASE)\n",
    "\n",
    "    # Peta bulan Indonesia -> Inggris (agar parser universal)\n",
    "    month_map = {\n",
    "        # panjang\n",
    "        \"januari\": \"January\", \"februari\": \"February\", \"maret\": \"March\",\n",
    "        \"april\": \"April\", \"mei\": \"May\", \"juni\": \"June\", \"juli\": \"July\",\n",
    "        \"agustus\": \"August\", \"september\": \"September\", \"oktober\": \"October\",\n",
    "        \"november\": \"November\", \"desember\": \"December\",\n",
    "        # pendek\n",
    "        \"jan\": \"Jan\", \"feb\": \"Feb\", \"mar\": \"Mar\", \"apr\": \"Apr\",\n",
    "        \"mei\": \"May\", \"jun\": \"Jun\", \"jul\": \"Jul\",\n",
    "        \"agu\": \"Aug\", \"sep\": \"Sep\", \"okt\": \"Oct\", \"nov\": \"Nov\", \"des\": \"Dec\",\n",
    "    }\n",
    "\n",
    "    def replace_month_id_to_en(s: str) -> str:\n",
    "        def _repl(match):\n",
    "            w = match.group(0)\n",
    "            key = w.lower()\n",
    "            repl = month_map.get(key, w)\n",
    "            # jaga kapitalisasi awal bila perlu\n",
    "            return repl\n",
    "        # ganti kata yang cocok dengan kunci di month_map sebagai token utuh\n",
    "        pattern = re.compile(r\"\\b(\" + \"|\".join(map(re.escape, month_map.keys())) + r\")\\b\", flags=re.IGNORECASE)\n",
    "        return pattern.sub(_repl, s)\n",
    "\n",
    "    def preprocess(s: str):\n",
    "        \"\"\"Membersihkan string tanggal dan mendeteksi petunjuk timezone lokal (WIB/WITA/WIT).\"\"\"\n",
    "        if s is None:\n",
    "            return None, None\n",
    "        if not isinstance(s, str):\n",
    "            s = str(s)\n",
    "\n",
    "        orig = s\n",
    "        s = s.strip()\n",
    "\n",
    "        # Deteksi penanda zona lokal (WIB/WITA/WIT) bila ada\n",
    "        tz_hint = None\n",
    "        for k in tz_map.keys():\n",
    "            if re.search(rf\"\\b{k}\\b\", s, flags=re.IGNORECASE):\n",
    "                tz_hint = k.upper()\n",
    "                break\n",
    "\n",
    "        # Buang nama hari di depan (mis: \"Kamis, \")\n",
    "        s = day_pattern.sub(\"\", s)\n",
    "\n",
    "        # Buang \"WIB\", \"WITA\", \"WIT\" & koma\n",
    "        s = re.sub(r\"\\b(WIB|WITA|WIT)\\b\", \"\", s, flags=re.IGNORECASE)\n",
    "        s = s.replace(\",\", \" \")\n",
    "\n",
    "        # Normalisasi spasi\n",
    "        s = re.sub(r\"\\s+\", \" \", s).strip()\n",
    "\n",
    "        # Ganti bulan Indonesia -> Inggris\n",
    "        s = replace_month_id_to_en(s)\n",
    "\n",
    "        return s, tz_hint\n",
    "\n",
    "    def parse_any(s: str, tz_hint: str):\n",
    "        \"\"\"\n",
    "        Strategi parsing berlapis:\n",
    "        1) Coba pandas.to_datetime (ISO/umum)\n",
    "        2) Coba dateutil.parser.parse(dayfirst=True, fuzzy=True)\n",
    "        3) Jika hanya YYYY-MM-DD -> konstruksi manual\n",
    "        \"\"\"\n",
    "        # Kasus kosong\n",
    "        if not s:\n",
    "            raise ValueError(\"String tanggal kosong setelah praproses.\")\n",
    "\n",
    "        # 1) pandas\n",
    "        dt = pd.to_datetime(s, errors=\"coerce\", utc=False)\n",
    "        if pd.notna(dt):\n",
    "            # pandas bisa return Timestamp (naive atau aware)\n",
    "            if dt.tzinfo is None:\n",
    "                # naive -> gunakan hint jika ada, else target_tz\n",
    "                zone = tz_map.get(tz_hint, target_zone)\n",
    "                dt = dt.to_pydatetime().replace(tzinfo=zone)\n",
    "            else:\n",
    "                dt = dt.tz_convert(target_zone)\n",
    "            return dt\n",
    "\n",
    "        # 2) dateutil (lebih permisif)\n",
    "        try:\n",
    "            d = du_parser.parse(s, dayfirst=True, fuzzy=True)\n",
    "            if d.tzinfo is None:\n",
    "                zone = tz_map.get(tz_hint, target_zone)\n",
    "                d = d.replace(tzinfo=zone)\n",
    "            else:\n",
    "                d = d.astimezone(target_zone)\n",
    "            return d\n",
    "        except Exception as e:\n",
    "            # 3) Format murni tanggal YYYY-MM-DD\n",
    "            m = re.fullmatch(r\"(\\d{4})-(\\d{2})-(\\d{2})\", s)\n",
    "            if m:\n",
    "                y, mo, d = map(int, m.groups())\n",
    "                zone = tz_map.get(tz_hint, target_zone)\n",
    "                return datetime(y, mo, d, 0, 0, 0, tzinfo=zone)\n",
    "            raise e  # lempar balik kalau benar-benar tidak bisa\n",
    "\n",
    "    std_list = []\n",
    "    dt_list = []\n",
    "    err_list = []\n",
    "\n",
    "    for i, raw in enumerate(df[src_col].tolist()):\n",
    "        try:\n",
    "            cleaned, tz_hint = preprocess(raw)\n",
    "            if cleaned is None:\n",
    "                raise ValueError(\"Nilai None pada tanggal.\")\n",
    "            dt = parse_any(cleaned, tz_hint)\n",
    "            # pastikan di target tz\n",
    "            dt = dt.astimezone(target_zone)\n",
    "\n",
    "            # string ISO standar (detik presisi)\n",
    "            std = dt.isoformat(timespec=\"seconds\")\n",
    "            std_list.append(std)\n",
    "            dt_list.append(dt)\n",
    "            err_list.append(None)\n",
    "        except Exception as e:\n",
    "            logging.warning(f\"Gagal parse index={i}, nilai='{raw}': {e}\")\n",
    "            std_list.append(None)\n",
    "            dt_list.append(pd.NaT)\n",
    "            err_list.append(str(e))\n",
    "\n",
    "    df[output_col_str] = std_list\n",
    "    df[output_col_dt] = dt_list\n",
    "    df[error_col] = err_list\n",
    "\n",
    "    # Info ringkas\n",
    "    total = len(df)\n",
    "    gagal = sum(x is not None for x in err_list)\n",
    "    logging.info(f\"Normalisasi selesai. Total baris: {total} | Berhasil: {total-gagal} | Gagal: {gagal}\")\n",
    "\n",
    "    return df\n",
    "\n",
    "# ===========================\n",
    "# PEMAKAIAN\n",
    "# ===========================\n",
    "# Pastikan df_all sudah ada di memori.\n",
    "df_all = normalize_tanggal_berita(df_all)"
   ]
  },
  {
   "cell_type": "code",
   "execution_count": 18,
   "metadata": {
    "executionInfo": {
     "elapsed": 39,
     "status": "ok",
     "timestamp": 1758706356870,
     "user": {
      "displayName": "Monitoring Berita",
      "userId": "16755502473357078001"
     },
     "user_tz": -420
    },
    "id": "qmRKrIbWpq3Y"
   },
   "outputs": [],
   "source": [
    "# Sesuaikan output akhir hanya ke kolom yang diminta\n",
    "# Gunakan tanggal hasil normalisasi string jika tersedia, jika tidak fallback ke kolom asli\n",
    "if \"tanggal_berita_std\" in df_all.columns:\n",
    "    df_all[\"tanggal_berita\"] = df_all[\"tanggal_berita_std\"].fillna(df_all.get(\"tanggal_berita\"))\n",
    "\n",
    "df_all = df_all[[\"judul_berita\", \"url_berita\", \"tanggal_berita\"]]"
   ]
  },
  {
   "cell_type": "markdown",
   "metadata": {
    "id": "TAJo47tITqhb"
   },
   "source": [
    "## FILTER PANJANG JUDUL BERITA"
   ]
  },
  {
   "cell_type": "code",
   "execution_count": 19,
   "metadata": {
    "executionInfo": {
     "elapsed": 2,
     "status": "ok",
     "timestamp": 1758706356873,
     "user": {
      "displayName": "Monitoring Berita",
      "userId": "16755502473357078001"
     },
     "user_tz": -420
    },
    "id": "KAyApSGJTqI9"
   },
   "outputs": [
    {
     "name": "stderr",
     "output_type": "stream",
     "text": [
      "2025-09-29 13:32:56,217 | INFO | Filter judul < 40 chars: dihapus 279 baris | sisa: 330\n"
     ]
    }
   ],
   "source": [
    "# Filter junk data: buang judul yang kurang dari 40 karakter\n",
    "before_count = len(df_all)\n",
    "# pastikan tipe string dan tangani NaN\n",
    "df_all[\"judul_berita\"] = df_all[\"judul_berita\"].astype(\"string\")\n",
    "mask = df_all[\"judul_berita\"].fillna(\"\").str.len() >= 40\n",
    "removed = before_count - int(mask.sum())\n",
    "df_all = df_all[mask].copy()\n",
    "logging.info(f\"Filter judul < 40 chars: dihapus {removed} baris | sisa: {len(df_all)}\")"
   ]
  },
  {
   "cell_type": "markdown",
   "metadata": {
    "id": "hJYMfS20Ts5P"
   },
   "source": [
    "## SIMPAN DAFTAR BERITA"
   ]
  },
  {
   "cell_type": "code",
   "execution_count": 20,
   "metadata": {
    "executionInfo": {
     "elapsed": 339,
     "status": "ok",
     "timestamp": 1758706357296,
     "user": {
      "displayName": "Monitoring Berita",
      "userId": "16755502473357078001"
     },
     "user_tz": -420
    },
    "id": "ELOaR3m5qx-6"
   },
   "outputs": [],
   "source": [
    "import json\n",
    "# Filter df_all untuk hanya menampilkan data yang paling awal dari search date\n",
    "config_path = os.path.join(cwd, 'config.json')\n",
    "\n",
    "with open(config_path, \"r\", encoding=\"utf-8\") as f:\n",
    "  config = json.load(f)\n",
    "\n",
    "min_date = config['search_date'][-1]\n",
    "\n",
    "#df_all = df_all[df_all['tanggal_berita_dt'] >= min_date]"
   ]
  },
  {
   "cell_type": "code",
   "execution_count": 21,
   "metadata": {
    "colab": {
     "base_uri": "https://localhost:8080/"
    },
    "executionInfo": {
     "elapsed": 26,
     "status": "ok",
     "timestamp": 1758706357326,
     "user": {
      "displayName": "Monitoring Berita",
      "userId": "16755502473357078001"
     },
     "user_tz": -420
    },
    "id": "Mv-TIQK5549q",
    "outputId": "4f205f07-02a5-4004-c4ab-f1db7fe4942d"
   },
   "outputs": [
    {
     "name": "stdout",
     "output_type": "stream",
     "text": [
      "File berhasil disimpan: /Users/yusufpradana/Library/CloudStorage/OneDrive-Personal/Pekerjaan BMN/05. 2025/98_monitoring_berita/monitoring-berita/konsolidasi_berita/hasil_gabungan_20250929_133256.csv\n"
     ]
    }
   ],
   "source": [
    "from datetime import datetime\n",
    "\n",
    "timestamp = datetime.now().strftime(\"%Y%m%d_%H%M%S\")\n",
    "\n",
    "# Simpan ke akar workspace agar mudah ditemukan, atau tetap di folder daftar_berita\n",
    "output_path = os.path.join(cwd, f\"konsolidasi_berita/hasil_gabungan_{timestamp}.csv\")\n",
    "\n",
    "# Pastikan hanya kolom yang diminta\n",
    "expected_cols = [\"judul_berita\", \"url_berita\", \"tanggal_berita\"]\n",
    "missing = [c for c in expected_cols if c not in df_all.columns]\n",
    "if missing:\n",
    "    # Tambahkan kolom kosong jika ada yang kurang (untuk keamanan)\n",
    "    for c in missing:\n",
    "        df_all[c] = pd.NA\n",
    "    df_all = df_all[expected_cols]\n",
    "else:\n",
    "    df_all = df_all[expected_cols]\n",
    "\n",
    "# Simpan\n",
    "df_all.to_csv(output_path, index=False, encoding=\"utf-8-sig\")\n",
    "print(f\"File berhasil disimpan: {output_path}\")"
   ]
  },
  {
   "cell_type": "code",
   "execution_count": 22,
   "metadata": {
    "executionInfo": {
     "elapsed": 17,
     "status": "ok",
     "timestamp": 1758706357347,
     "user": {
      "displayName": "Monitoring Berita",
      "userId": "16755502473357078001"
     },
     "user_tz": -420
    },
    "id": "qFwtRwID9PDu"
   },
   "outputs": [
    {
     "name": "stderr",
     "output_type": "stream",
     "text": [
      "2025-09-29 13:32:56,237 | INFO | Config berhasil diperbarui: /Users/yusufpradana/Library/CloudStorage/OneDrive-Personal/Pekerjaan BMN/05. 2025/98_monitoring_berita/monitoring-berita/config.json\n"
     ]
    }
   ],
   "source": [
    "import json\n",
    "from pathlib import Path\n",
    "\n",
    "# Baca config lama kalau ada\n",
    "config_path_obj = Path(config_path)\n",
    "if config_path_obj.exists():\n",
    "    try:\n",
    "        with open(config_path, \"r\", encoding=\"utf-8\") as f:\n",
    "            config = json.load(f)\n",
    "    except Exception as e:\n",
    "        logging.warning(f\"Gagal membaca config.json: {e}\")\n",
    "        config = {}\n",
    "else:\n",
    "    config = {}\n",
    "\n",
    "# Update dengan path terbaru\n",
    "config[\"last_konsolidasi_path\"] = str(output_path)\n",
    "config[\"last_konsolidasi_time\"] = timestamp\n",
    "\n",
    "# Simpan kembali\n",
    "try:\n",
    "    with open(config_path, \"w\", encoding=\"utf-8\") as f:\n",
    "        json.dump(config, f, ensure_ascii=False, indent=2)\n",
    "    logging.info(f\"Config berhasil diperbarui: {config_path}\")\n",
    "except Exception as e:\n",
    "    logging.error(f\"Gagal menyimpan config.json: {e}\")"
   ]
  }
 ],
 "metadata": {
  "colab": {
   "authorship_tag": "ABX9TyP0dAGtM/OKMy2TJN3dMuC4",
   "provenance": []
  },
  "kernelspec": {
   "display_name": "base",
   "language": "python",
   "name": "python3"
  },
  "language_info": {
   "codemirror_mode": {
    "name": "ipython",
    "version": 3
   },
   "file_extension": ".py",
   "mimetype": "text/x-python",
   "name": "python",
   "nbconvert_exporter": "python",
   "pygments_lexer": "ipython3",
   "version": "3.12.7"
  },
  "widgets": {
   "application/vnd.jupyter.widget-state+json": {
    "07e2f691345b436299a2b68ad30bcede": {
     "model_module": "@jupyter-widgets/controls",
     "model_module_version": "1.5.0",
     "model_name": "DescriptionStyleModel",
     "state": {
      "_model_module": "@jupyter-widgets/controls",
      "_model_module_version": "1.5.0",
      "_model_name": "DescriptionStyleModel",
      "_view_count": null,
      "_view_module": "@jupyter-widgets/base",
      "_view_module_version": "1.2.0",
      "_view_name": "StyleView",
      "description_width": ""
     }
    },
    "168eb664e01f48bd8784ebd1a407d1f3": {
     "model_module": "@jupyter-widgets/controls",
     "model_module_version": "1.5.0",
     "model_name": "ProgressStyleModel",
     "state": {
      "_model_module": "@jupyter-widgets/controls",
      "_model_module_version": "1.5.0",
      "_model_name": "ProgressStyleModel",
      "_view_count": null,
      "_view_module": "@jupyter-widgets/base",
      "_view_module_version": "1.2.0",
      "_view_name": "StyleView",
      "bar_color": null,
      "description_width": ""
     }
    },
    "28484795a2a047649ad94932da36d0b4": {
     "model_module": "@jupyter-widgets/base",
     "model_module_version": "1.2.0",
     "model_name": "LayoutModel",
     "state": {
      "_model_module": "@jupyter-widgets/base",
      "_model_module_version": "1.2.0",
      "_model_name": "LayoutModel",
      "_view_count": null,
      "_view_module": "@jupyter-widgets/base",
      "_view_module_version": "1.2.0",
      "_view_name": "LayoutView",
      "align_content": null,
      "align_items": null,
      "align_self": null,
      "border": null,
      "bottom": null,
      "display": null,
      "flex": null,
      "flex_flow": null,
      "grid_area": null,
      "grid_auto_columns": null,
      "grid_auto_flow": null,
      "grid_auto_rows": null,
      "grid_column": null,
      "grid_gap": null,
      "grid_row": null,
      "grid_template_areas": null,
      "grid_template_columns": null,
      "grid_template_rows": null,
      "height": null,
      "justify_content": null,
      "justify_items": null,
      "left": null,
      "margin": null,
      "max_height": null,
      "max_width": null,
      "min_height": null,
      "min_width": null,
      "object_fit": null,
      "object_position": null,
      "order": null,
      "overflow": null,
      "overflow_x": null,
      "overflow_y": null,
      "padding": null,
      "right": null,
      "top": null,
      "visibility": null,
      "width": null
     }
    },
    "287c5c63bcf4472f9546847d74fce769": {
     "model_module": "@jupyter-widgets/controls",
     "model_module_version": "1.5.0",
     "model_name": "DescriptionStyleModel",
     "state": {
      "_model_module": "@jupyter-widgets/controls",
      "_model_module_version": "1.5.0",
      "_model_name": "DescriptionStyleModel",
      "_view_count": null,
      "_view_module": "@jupyter-widgets/base",
      "_view_module_version": "1.2.0",
      "_view_name": "StyleView",
      "description_width": ""
     }
    },
    "2eacc212024a48a39c511b4d18ccae1a": {
     "model_module": "@jupyter-widgets/base",
     "model_module_version": "1.2.0",
     "model_name": "LayoutModel",
     "state": {
      "_model_module": "@jupyter-widgets/base",
      "_model_module_version": "1.2.0",
      "_model_name": "LayoutModel",
      "_view_count": null,
      "_view_module": "@jupyter-widgets/base",
      "_view_module_version": "1.2.0",
      "_view_name": "LayoutView",
      "align_content": null,
      "align_items": null,
      "align_self": null,
      "border": null,
      "bottom": null,
      "display": null,
      "flex": null,
      "flex_flow": null,
      "grid_area": null,
      "grid_auto_columns": null,
      "grid_auto_flow": null,
      "grid_auto_rows": null,
      "grid_column": null,
      "grid_gap": null,
      "grid_row": null,
      "grid_template_areas": null,
      "grid_template_columns": null,
      "grid_template_rows": null,
      "height": null,
      "justify_content": null,
      "justify_items": null,
      "left": null,
      "margin": null,
      "max_height": null,
      "max_width": null,
      "min_height": null,
      "min_width": null,
      "object_fit": null,
      "object_position": null,
      "order": null,
      "overflow": null,
      "overflow_x": null,
      "overflow_y": null,
      "padding": null,
      "right": null,
      "top": null,
      "visibility": null,
      "width": null
     }
    },
    "579253d4c79541e7989cacf16794d5e2": {
     "model_module": "@jupyter-widgets/base",
     "model_module_version": "1.2.0",
     "model_name": "LayoutModel",
     "state": {
      "_model_module": "@jupyter-widgets/base",
      "_model_module_version": "1.2.0",
      "_model_name": "LayoutModel",
      "_view_count": null,
      "_view_module": "@jupyter-widgets/base",
      "_view_module_version": "1.2.0",
      "_view_name": "LayoutView",
      "align_content": null,
      "align_items": null,
      "align_self": null,
      "border": null,
      "bottom": null,
      "display": null,
      "flex": null,
      "flex_flow": null,
      "grid_area": null,
      "grid_auto_columns": null,
      "grid_auto_flow": null,
      "grid_auto_rows": null,
      "grid_column": null,
      "grid_gap": null,
      "grid_row": null,
      "grid_template_areas": null,
      "grid_template_columns": null,
      "grid_template_rows": null,
      "height": null,
      "justify_content": null,
      "justify_items": null,
      "left": null,
      "margin": null,
      "max_height": null,
      "max_width": null,
      "min_height": null,
      "min_width": null,
      "object_fit": null,
      "object_position": null,
      "order": null,
      "overflow": null,
      "overflow_x": null,
      "overflow_y": null,
      "padding": null,
      "right": null,
      "top": null,
      "visibility": null,
      "width": null
     }
    },
    "ab4e9eeb44534d7ca075be3ef0be9140": {
     "model_module": "@jupyter-widgets/controls",
     "model_module_version": "1.5.0",
     "model_name": "HTMLModel",
     "state": {
      "_dom_classes": [],
      "_model_module": "@jupyter-widgets/controls",
      "_model_module_version": "1.5.0",
      "_model_name": "HTMLModel",
      "_view_count": null,
      "_view_module": "@jupyter-widgets/controls",
      "_view_module_version": "1.5.0",
      "_view_name": "HTMLView",
      "description": "",
      "description_tooltip": null,
      "layout": "IPY_MODEL_e9562967c2844159b714002cb9b0568d",
      "placeholder": "​",
      "style": "IPY_MODEL_07e2f691345b436299a2b68ad30bcede",
      "value": "Membaca Excel: 100%"
     }
    },
    "e9562967c2844159b714002cb9b0568d": {
     "model_module": "@jupyter-widgets/base",
     "model_module_version": "1.2.0",
     "model_name": "LayoutModel",
     "state": {
      "_model_module": "@jupyter-widgets/base",
      "_model_module_version": "1.2.0",
      "_model_name": "LayoutModel",
      "_view_count": null,
      "_view_module": "@jupyter-widgets/base",
      "_view_module_version": "1.2.0",
      "_view_name": "LayoutView",
      "align_content": null,
      "align_items": null,
      "align_self": null,
      "border": null,
      "bottom": null,
      "display": null,
      "flex": null,
      "flex_flow": null,
      "grid_area": null,
      "grid_auto_columns": null,
      "grid_auto_flow": null,
      "grid_auto_rows": null,
      "grid_column": null,
      "grid_gap": null,
      "grid_row": null,
      "grid_template_areas": null,
      "grid_template_columns": null,
      "grid_template_rows": null,
      "height": null,
      "justify_content": null,
      "justify_items": null,
      "left": null,
      "margin": null,
      "max_height": null,
      "max_width": null,
      "min_height": null,
      "min_width": null,
      "object_fit": null,
      "object_position": null,
      "order": null,
      "overflow": null,
      "overflow_x": null,
      "overflow_y": null,
      "padding": null,
      "right": null,
      "top": null,
      "visibility": null,
      "width": null
     }
    },
    "ea71b2e39f6840718508b543edb96b0c": {
     "model_module": "@jupyter-widgets/controls",
     "model_module_version": "1.5.0",
     "model_name": "HTMLModel",
     "state": {
      "_dom_classes": [],
      "_model_module": "@jupyter-widgets/controls",
      "_model_module_version": "1.5.0",
      "_model_name": "HTMLModel",
      "_view_count": null,
      "_view_module": "@jupyter-widgets/controls",
      "_view_module_version": "1.5.0",
      "_view_name": "HTMLView",
      "description": "",
      "description_tooltip": null,
      "layout": "IPY_MODEL_28484795a2a047649ad94932da36d0b4",
      "placeholder": "​",
      "style": "IPY_MODEL_287c5c63bcf4472f9546847d74fce769",
      "value": " 12/12 [00:03&lt;00:00,  3.83file/s]"
     }
    },
    "f0c24ecf1a7a453eaec8fdb077095ec1": {
     "model_module": "@jupyter-widgets/controls",
     "model_module_version": "1.5.0",
     "model_name": "HBoxModel",
     "state": {
      "_dom_classes": [],
      "_model_module": "@jupyter-widgets/controls",
      "_model_module_version": "1.5.0",
      "_model_name": "HBoxModel",
      "_view_count": null,
      "_view_module": "@jupyter-widgets/controls",
      "_view_module_version": "1.5.0",
      "_view_name": "HBoxView",
      "box_style": "",
      "children": [
       "IPY_MODEL_ab4e9eeb44534d7ca075be3ef0be9140",
       "IPY_MODEL_fa0794c7e71745cbb2fd7d6fb736190c",
       "IPY_MODEL_ea71b2e39f6840718508b543edb96b0c"
      ],
      "layout": "IPY_MODEL_579253d4c79541e7989cacf16794d5e2"
     }
    },
    "fa0794c7e71745cbb2fd7d6fb736190c": {
     "model_module": "@jupyter-widgets/controls",
     "model_module_version": "1.5.0",
     "model_name": "FloatProgressModel",
     "state": {
      "_dom_classes": [],
      "_model_module": "@jupyter-widgets/controls",
      "_model_module_version": "1.5.0",
      "_model_name": "FloatProgressModel",
      "_view_count": null,
      "_view_module": "@jupyter-widgets/controls",
      "_view_module_version": "1.5.0",
      "_view_name": "ProgressView",
      "bar_style": "success",
      "description": "",
      "description_tooltip": null,
      "layout": "IPY_MODEL_2eacc212024a48a39c511b4d18ccae1a",
      "max": 12,
      "min": 0,
      "orientation": "horizontal",
      "style": "IPY_MODEL_168eb664e01f48bd8784ebd1a407d1f3",
      "value": 12
     }
    }
   }
  }
 },
 "nbformat": 4,
 "nbformat_minor": 0
}
