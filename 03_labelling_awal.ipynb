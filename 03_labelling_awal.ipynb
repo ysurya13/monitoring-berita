{
 "cells": [
  {
   "cell_type": "markdown",
   "metadata": {
    "id": "FpUFpwfHI-aM"
   },
   "source": [
    "# Setting Environment"
   ]
  },
  {
   "cell_type": "code",
   "execution_count": 13,
   "metadata": {
    "colab": {
     "base_uri": "https://localhost:8080/"
    },
    "executionInfo": {
     "elapsed": 18011,
     "status": "ok",
     "timestamp": 1758675565443,
     "user": {
      "displayName": "Monitoring Berita",
      "userId": "16755502473357078001"
     },
     "user_tz": -420
    },
    "id": "6NM6uEDu8DV9",
    "outputId": "982407ed-1b81-4202-b0a6-bba036bfcc02"
   },
   "outputs": [
    {
     "data": {
      "text/plain": [
       "\"# mount the colab with google drive\\nfrom google.colab import drive\\ndrive.mount('/content/drive')\""
      ]
     },
     "execution_count": 13,
     "metadata": {},
     "output_type": "execute_result"
    }
   ],
   "source": [
    "\"\"\"# mount the colab with google drive\n",
    "from google.colab import drive\n",
    "drive.mount('/content/drive')\"\"\""
   ]
  },
  {
   "cell_type": "code",
   "execution_count": 14,
   "metadata": {
    "executionInfo": {
     "elapsed": 125,
     "status": "ok",
     "timestamp": 1758675565581,
     "user": {
      "displayName": "Monitoring Berita",
      "userId": "16755502473357078001"
     },
     "user_tz": -420
    },
    "id": "_oCFvNVy8GcW"
   },
   "outputs": [],
   "source": [
    "# set folder tempat kerja (current working directory)\n",
    "import os\n",
    "cwd = \"/Users/yusufpradana/Library/CloudStorage/OneDrive-Personal/Pekerjaan BMN/05. 2025/98_monitoring_berita\"\n",
    "# cwd = '/content/drive/MyDrive/Monitoring Berita'\n",
    "os.chdir(cwd)"
   ]
  },
  {
   "cell_type": "code",
   "execution_count": 15,
   "metadata": {
    "id": "x9OCfAu5RYLI"
   },
   "outputs": [],
   "source": [
    "# %%\n",
    "import re\n",
    "import unicodedata\n",
    "import pandas as pd\n",
    "from typing import Dict, List, Tuple\n",
    "import html\n",
    "import dateparser\n",
    "\n",
    "# Opsi tampilan\n",
    "pd.set_option(\"display.max_colwidth\", 200)\n"
   ]
  },
  {
   "cell_type": "markdown",
   "metadata": {
    "id": "YEEJ3jQ0JCkj"
   },
   "source": [
    "# Proses Utama"
   ]
  },
  {
   "cell_type": "markdown",
   "metadata": {
    "id": "Ut9vFDVlJG-S"
   },
   "source": [
    "### Membaca Config"
   ]
  },
  {
   "cell_type": "code",
   "execution_count": 16,
   "metadata": {
    "id": "sO_yOBPcJJzS"
   },
   "outputs": [],
   "source": [
    "import json\n",
    "from pathlib import Path\n",
    "\n",
    "config_path = Path(cwd+\"/config.json\")\n",
    "with open(config_path, \"r\", encoding=\"utf-8\") as f:\n",
    "            config = json.load(f)\n",
    "csv_path = config['last_output_path']\n",
    "# Flexible date filter spec (can be str | list | dict)\n",
    "date_filter_spec = config['search_date'][-1]\n",
    "\n"
   ]
  },
  {
   "cell_type": "markdown",
   "metadata": {
    "id": "YTuXS747Jro6"
   },
   "source": [
    "### Membaca Output Daftar Berita"
   ]
  },
  {
   "cell_type": "code",
   "execution_count": 17,
   "metadata": {
    "colab": {
     "base_uri": "https://localhost:8080/",
     "height": 223
    },
    "executionInfo": {
     "elapsed": 181,
     "status": "ok",
     "timestamp": 1758323977159,
     "user": {
      "displayName": "Monitoring Berita",
      "userId": "16755502473357078001"
     },
     "user_tz": -420
    },
    "id": "lAhqwX6mJgA6",
    "outputId": "60bb4064-1d64-4d87-c7fe-1c44e94023b7"
   },
   "outputs": [
    {
     "name": "stdout",
     "output_type": "stream",
     "text": [
      "Normalisasi tanggal_berita: total=277, sukses=277, gagal=0 (0.0%)\n"
     ]
    }
   ],
   "source": [
    "df = pd.read_csv(csv_path)\n",
    "\n",
    "# Normalisasi tanggal_berita dan filter sebelum labeling\n",
    "if 'tanggal_berita' in df.columns:\n",
    "    def _parse_tgl(x):\n",
    "        try:\n",
    "            if pd.isna(x):\n",
    "                return pd.NaT\n",
    "            dt = dateparser.parse(str(x))\n",
    "            return dt.date() if dt else pd.NaT\n",
    "        except Exception:\n",
    "            return pd.NaT\n",
    "    df['tanggal_berita_norm'] = df['tanggal_berita'].apply(_parse_tgl)\n",
    "else:\n",
    "    df['tanggal_berita_norm'] = pd.NaT\n",
    "\n",
    "# Laporan kualitas normalisasi\n",
    "total = len(df)\n",
    "na_count = df['tanggal_berita_norm'].isna().sum()\n",
    "print(f\"Normalisasi tanggal_berita: total={total}, sukses={total-na_count}, gagal={na_count} ({(na_count/total if total else 0):.1%})\")"
   ]
  },
  {
   "cell_type": "code",
   "execution_count": 18,
   "metadata": {},
   "outputs": [],
   "source": [
    "# filter berdasarkan tanggal_berita_norm jika ada di date_filter_spec\n",
    "if 'tanggal_berita_norm' in df.columns:\n",
    "    df = df[df['tanggal_berita_norm'].notna()]"
   ]
  },
  {
   "cell_type": "code",
   "execution_count": 19,
   "metadata": {},
   "outputs": [
    {
     "name": "stdout",
     "output_type": "stream",
     "text": [
      "Filter tanggal: 2025-09-26 s.d 2025-09-26 (dari 277 -> 97)\n"
     ]
    }
   ],
   "source": [
    "# filter based on tanggal search\n",
    "try:\n",
    "    start_date, end_date = None, None\n",
    "    if isinstance(date_filter_spec, (list, tuple)):\n",
    "        parsed = [d for d in [dateparser.parse(str(x)) for x in date_filter_spec] if d]\n",
    "        if parsed:\n",
    "            start_date = min(parsed).date()\n",
    "            end_date = max(parsed).date()\n",
    "    else:\n",
    "        # single spec string or dict\n",
    "        from datetime import date\n",
    "        if isinstance(date_filter_spec, dict):\n",
    "            start = date_filter_spec.get('start') or date_filter_spec.get('from')\n",
    "            end = date_filter_spec.get('end') or date_filter_spec.get('to')\n",
    "            ps = dateparser.parse(str(start)) if start else None\n",
    "            pe = dateparser.parse(str(end)) if end else None\n",
    "            if ps and pe:\n",
    "                start_date, end_date = min(ps, pe).date(), max(ps, pe).date()\n",
    "            elif ps:\n",
    "                start_date = end_date = ps.date()\n",
    "            elif pe:\n",
    "                start_date = end_date = pe.date()\n",
    "        else:\n",
    "            # string seperti '2025-09-20' atau relatif 'last_7d'\n",
    "            spec = str(date_filter_spec).strip()\n",
    "            m = re.fullmatch(r'last_(\\d+)d', spec, flags=re.IGNORECASE)\n",
    "            if m:\n",
    "                days = int(m.group(1))\n",
    "                end_date = pd.Timestamp.now().date()\n",
    "                start_date = (pd.Timestamp.now() - pd.Timedelta(days=days)).date()\n",
    "            else:\n",
    "                p = dateparser.parse(spec)\n",
    "                if p:\n",
    "                    start_date = end_date = p.date()\n",
    "    if start_date:\n",
    "        if end_date is None:\n",
    "            end_date = start_date\n",
    "        before = len(df)\n",
    "        df = df[(df['tanggal_berita_norm'] >= start_date) & (df['tanggal_berita_norm'] <= end_date)]\n",
    "        print(f\"Filter tanggal: {start_date} s.d {end_date} (dari {before} -> {len(df)})\")\n",
    "    else:\n",
    "        print(\"Tidak menerapkan filter tanggal karena start_date tidak terdefinisi.\")\n",
    "except Exception as e:\n",
    "    print(f\"Peringatan: gagal menerapkan filter tanggal: {e}\")"
   ]
  },
  {
   "cell_type": "markdown",
   "metadata": {
    "id": "MnpLiNgVMSVW"
   },
   "source": [
    "### Weak Labelling"
   ]
  },
  {
   "cell_type": "code",
   "execution_count": 20,
   "metadata": {},
   "outputs": [],
   "source": [
    "# Helper cleaning & date utilities (ditambahkan untuk mencegah NameError)\n",
    "import unicodedata, html, re\n",
    "import dateparser\n",
    "\n",
    "def basic_clean(text):\n",
    "    if text is None or (isinstance(text, float) and pd.isna(text)):\n",
    "        return \"\"\n",
    "    if not isinstance(text, str):\n",
    "        text = str(text)\n",
    "    text = html.unescape(text)\n",
    "    text = unicodedata.normalize(\"NFKC\", text)\n",
    "    # Hilangkan karakter kontrol\n",
    "    text = re.sub(r\"[\\r\\n\\t]+\", \" \", text)\n",
    "    # Spasi ganda\n",
    "    text = re.sub(r\"\\s+\", \" \", text).strip()\n",
    "    return text\n",
    "\n",
    "def clean_title(text):\n",
    "    return basic_clean(text)\n",
    "\n",
    "def clean_article(text):\n",
    "    return basic_clean(text)\n",
    "\n",
    "def normalize_date(val):\n",
    "    \"\"\"Parse berbagai format tanggal menjadi datetime (atau None).\"\"\"\n",
    "    if val is None or (isinstance(val, float) and pd.isna(val)):\n",
    "        return None\n",
    "    try:\n",
    "        dt = dateparser.parse(str(val), settings={\"PREFER_DAY_OF_MONTH\": \"first\"})\n",
    "        return dt\n",
    "    except Exception:\n",
    "        return None"
   ]
  },
  {
   "cell_type": "code",
   "execution_count": 21,
   "metadata": {
    "id": "C52VyUrbMR-p"
   },
   "outputs": [],
   "source": [
    "# %%\n",
    "# ... existing helpers above ...\n",
    "\n",
    "def parse_date_filter(spec: str):\n",
    "    \"\"\"Kembalikan (start_date, end_date) sebagai date (bukan datetime) dari spec.\n",
    "    Mendukung:\n",
    "    - Satu tanggal (contoh: \"2025-09-26\" atau \"26/09/2025\")\n",
    "    - Rentang: \"2025-09-20 to 2025-09-26\", \"20/09/2025 - 26/09/2025\", \"2025-09-20:2025-09-26\"\n",
    "    - Relatif: \"last_7d\", \"last_1d\", \"last_30d\"\n",
    "    \"\"\"\n",
    "    if spec is None:\n",
    "        return None, None\n",
    "    if isinstance(spec, (list, tuple)):\n",
    "        # list tanggal → ambil min/max\n",
    "        dates = [normalize_date(x) for x in spec if x]\n",
    "        dates = [d.date() for d in dates if d is not None]\n",
    "        if not dates:\n",
    "            return None, None\n",
    "        return min(dates), max(dates)\n",
    "    if isinstance(spec, dict):\n",
    "        # {\"start\": \"2025-09-01\", \"end\": \"2025-09-26\"}\n",
    "        d1 = normalize_date(spec.get(\"start\")) if spec.get(\"start\") else None\n",
    "        d2 = normalize_date(spec.get(\"end\")) if spec.get(\"end\") else None\n",
    "        if d1 is None and d2 is None:\n",
    "            return None, None\n",
    "        if d1 is None:\n",
    "            d1 = d2\n",
    "        if d2 is None:\n",
    "            d2 = d1\n",
    "        d1d, d2d = d1.date(), d2.date()\n",
    "        if d1d > d2d:\n",
    "            d1d, d2d = d2d, d1d\n",
    "        return d1d, d2d\n",
    "\n",
    "    # spec as string\n",
    "    s = str(spec).strip()\n",
    "\n",
    "    # Relatif: last_Xd\n",
    "    m = re.fullmatch(r\"last_(\\d+)d\", s, flags=re.IGNORECASE)\n",
    "    if m:\n",
    "        days = int(m.group(1))\n",
    "        end = pd.Timestamp.now().date()\n",
    "        start = (pd.Timestamp.now() - pd.Timedelta(days=days)).date()\n",
    "        return start, end\n",
    "\n",
    "    # Rentang dengan pemisah umum\n",
    "    for sep in [\" to \", \" - \", \"–\", \"—\", \":\"]:\n",
    "        if sep in s:\n",
    "            parts = [p.strip() for p in s.split(sep, 1)]\n",
    "            if len(parts) == 2:\n",
    "                d1 = normalize_date(parts[0])\n",
    "                d2 = normalize_date(parts[1])\n",
    "                if d1 is not None and d2 is not None:\n",
    "                    d1d = d1.date(); d2d = d2.date()\n",
    "                    if d1d > d2d:\n",
    "                        d1d, d2d = d2d, d1d\n",
    "                    return d1d, d2d\n",
    "\n",
    "    # Satu tanggal\n",
    "    d = normalize_date(s)\n",
    "    if d is not None:\n",
    "        return d.date(), d.date()\n",
    "\n",
    "    return None, None\n"
   ]
  },
  {
   "cell_type": "code",
   "execution_count": 22,
   "metadata": {
    "id": "fo9nBe5gRrqP"
   },
   "outputs": [],
   "source": [
    "# %%\n",
    "# Pola dibuat sebagai regex dgn word boundary agar tidak salah-match\n",
    "def kw(words: List[str]) -> List[re.Pattern]:\n",
    "    return [re.compile(w, flags=re.IGNORECASE) for w in words]\n",
    "\n",
    "# --- KATEGORI: ISU KEMENKEU ---\n",
    "KEMENKEU_PATTERNS: Dict[str, int] = {\n",
    "    # Lembaga & jabatan inti\n",
    "    r\"\\bkementerian keuangan\\b\": 6,\n",
    "    r\"\\bkemenkeu\\b\": 6,\n",
    "    r\"\\bmenkeu\\b\": 6,\n",
    "    r\"\\bpurbaya yudhi\\b|\\bpurbaya\\b\": 6,\n",
    "    r\"\\bmenteri keuangan\\b\": 6,\n",
    "    r\"\\bbadan kebijakan fiskal\\b|\\bbkf\\b\": 5,\n",
    "    r\"\\bdirektorat jenderal pajak\\b|\\bdjp\\b\": 6,\n",
    "    r\"\\bditjen bea cukai\\b|\\bdirektorat jenderal bea dan cukai\\b|\\bdjbc\\b|\\bbea\\s*cukai\\b\": 6,\n",
    "    r\"\\bdirektorat jenderal kekayaan negara\\b|\\bdjkn\\b\": 6,\n",
    "    r\"\\bdirektorat jenderal perbendaharaan\\b|\\bdjpbn?\\b\": 5,\n",
    "    r\"\\bdirektorat jenderal pengelolaan pembiayaan dan risiko\\b|\\bdjppr\\b\": 6,\n",
    "    r\"\\blembaga pembiayaan ekspor indonesia\\b|\\blpei\\b|\\beximbank\\b\": 4,\n",
    "    r\"\\bpusat investasi pemerintah\\b|\\bpip\\b\": 4,\n",
    "    r\"\\blkpp\\b\": 2,  # bukan di bawah Kemenkeu, tetapi sering terkait pengadaan (beri bobot rendah)\n",
    "    r\"\\bbi\\b\": 5,\n",
    "    r\"\\bojk\\b\": 5,\n",
    "\n",
    "    # Istilah kebijakan fiskal/anggaran/perbendaharaan\n",
    "    r\"\\bapbn\\b\": 6,\n",
    "    r\"\\b(apbd)\\b\": 2,  # daerah: turunkan bobot (bisa isu nasional juga)\n",
    "    r\"\\banggaran\\b\": 3,\n",
    "    r\"\\bpajak\\b|\\bppn\\b|\\bpajak penghasilan\\b|\\bpbb\\b|\\bpajak daerah\\b\": 5,\n",
    "    r\"\\bkepabeanan\\b|\\bcukai\\b\": 5,\n",
    "    r\"\\b(fiskal|kebijakan fiskal)\\b\": 5,\n",
    "    r\"\\bpenerimaan negara\\b|\\bpnbp\\b\": 5,\n",
    "    r\"\\bperbendaharaan\\b|\\bkas negara\\b|\\bspm\\b|\\bsp2d\\b\": 4,\n",
    "    r\"\\bsurat berharga negara\\b|\\bsbn\\b|\\bsun\\b|\\bsbsn\\b|\\bsukuk\\b\": 5,\n",
    "    r\"\\bpembiayaan utang\\b|\\butang negara\\b|\\bdefisit\\b|\\bdefisit anggaran\\b\": 4,\n",
    "    r\"\\b(bmn|barang milik negara|psp|lelang negara)\\b\": 5,\n",
    "    r\"\\btransfer ke daerah\\b|\\b(dau|dak|dbh)\\b\": 3,\n",
    "    r\"\\bsubsidi\\b|\\bkompensasi\\b\": 3,\n",
    "    r\"\\b(asuransi sosial)\\b|\\bbpj?sk\\b\": 2,  # ambiguitas, bobot rendah\n",
    "\n",
    "    # Program/aksi khas fiskal\n",
    "    r\"\\binsentif fiskal\\b|\\btax holiday\\b|\\btax allowance\\b\": 5,\n",
    "    r\"\\bamnesty\\b|\\bpengampunan pajak\\b\": 5,\n",
    "    r\"\\b(bea masuk|bea keluar)\\b\": 4,\n",
    "    r\"\\b(impor|ekspor)\\b.*\\b(pajak|bea|cukai)\\b\": 4,\n",
    "    r\"\\b(200 triliun|200t|rp200t)\\b\": 4,\n",
    "    r\"\\bgaji asn\\b\": 4,\n",
    "    r\"\\bbantuan sosial\\b\": 2,\n",
    "    r\"\\transfer ke daerah\\b\": 2,\n",
    "}\n",
    "\n",
    "# --- KATEGORI: ISU NASIONAL (non-Kemenkeu) ---\n",
    "NASIONAL_PATTERNS: Dict[str, int] = {\n",
    "    # Lini eksekutif pusat\n",
    "    r\"\\bpresiden\\b|\\bwapres\\b|\\bwakil presiden\\b|\\bistana\\b|\\bsekretariat negara\\b\": 5,\n",
    "    r\"\\bprabowo\\b|\\bgibran\\b\": 5,\n",
    "    r\"\\bkabinet\\b|\\bmenteri\\b|\\bkementerian\\b\": 3,  # umum (jika bukan Kemenkeu)\n",
    "    r\"\\bkemen(terian)? (esdm|pupr|kesehatan|perhubungan|kominfo|kumham|perdagangan|pertanian|perindustrian|bumn|sosial|kominfo)\\b\": 4,\n",
    "\n",
    "    # Politik & legislatif\n",
    "    r\"\\bdpr\\b|\\bdpd\\b|\\bmpr\\b\": 4,\n",
    "    r\"\\bmk\\b|\\bmahkamah konstitusi\\b|\\bma\\b|\\bmahkamah agung\\b|\\bbawaslu\\b|\\bkpu\\b\": 4,\n",
    "    r\"\\bpemilu\\b|\\bpilkada\\b|\\bpilpres\\b|\\bpileg\\b\": 4,\n",
    "\n",
    "    # Hukum pusat / Penegakan hukum tingkat nasional\n",
    "    r\"\\bkpk\\b|\\bott\\b|\\bkejagung\\b|\\bkejaksaan agung\\b|\\bpolri\\b|\\bbnn\\b\": 5,\n",
    "    r\"\\bkapolri\\b|\\bkapuspen\\b\": 4,\n",
    "    r\"\\bperppu\\b|\\bpp\\b|\\bperpres\\b|\\binpres\\b\": 3,\n",
    "\n",
    "    # Isu/Program pemerintah pusat (non-fiskal)\n",
    "    r\"\\bibukota nusantara\\b|\\bikn\\b\": 4,\n",
    "    r\"\\bpertamina\\b|\\bpln\\b|\\btelkom\\b|\\bbumn\\b\": 3,\n",
    "    r\"\\bharga bbm\\b|\\bsubsidi energi\\b|\\bketahanan pangan\\b\": 3,\n",
    "    r\"\\bimigrasi\\b|\\bwna\\b|\\bwni\\b|\\bnaturalization\\b\": 2,\n",
    "    r\"\\bpenanganan bencana\\b|\\bbnpb\\b\": 3,\n",
    "}\n",
    "\n",
    "# --- KATEGORI: ISU INTERNASIONAL ---\n",
    "INTERNASIONAL_PATTERNS: Dict[str, int] = {\n",
    "    # Organisasi internasional & forum\n",
    "    r\"\\basean\\b|\\bapec\\b|\\bg20\\b|\\bg7\\b|\\boecd\\b|\\brcep\\b\": 4,\n",
    "    r\"\\b(pbb|perserikatan bangsa bangsa|persatuan bangsa bangsa|united nations|dewan keamanan pbb|un security council)\\b\": 6,\n",
    "    r\"\\b(who|wto|imf|international monetary fund|world bank|bank dunia|adb|asian development bank)\\b\": 5,\n",
    "    r\"\\b(uni eropa|european union|eu)\\b\": 5,\n",
    "\n",
    "    # Negara dan kewilayahan (pilihan representatif, hindari kata ambigu)\n",
    "    r\"\\bamerika serikat\\b|\\busa\\b|\\bu\\.s\\.a\\b|\\bu\\.s\\.?\\b\": 5,\n",
    "    r\"\\bchina\\b|\\btiongkok\\b|\\brusia\\b|\\bjepang\\b\": 4,\n",
    "    r\"\\bkorea selatan\\b|\\bkorsel\\b|\\bkorea utara\\b|\\bkorut\\b\": 4,\n",
    "    r\"\\bindia\\b|\\bsingapura\\b|\\bmalaysia\\b|\\bthailand\\b|\\bvietnam\\b|\\bfilipina\\b|\\bbrunei\\b|\\blaos\\b|\\bmyanmar\\b\": 4,\n",
    "    r\"\\baustralia\\b|\\bselandia baru\\b|\\bnew zealand\\b\": 4,\n",
    "    r\"\\binggris\\b|\\bbritania raya\\b|\\bunited kingdom\\b|\\buk\\b\": 4,\n",
    "    r\"\\bpalestina\\b|\\bisrael\\b|\\biran\\b|\\birak\\b|\\bsaudi arabia\\b|\\barab saudi\\b|\\buni emirat arab\\b|\\buea\\b|\\bqatar\\b|\\bturki\\b|\\bmesir\\b\": 4,\n",
    "}\n",
    "\n",
    "# --- KATEGORI: PENANDA \"ISU LAINNYA\" ---\n",
    "LAINNYA_HINTS: Dict[str, int] = {\n",
    "    r\"\\bolahraga\\b|\\bsport(s)?\\b|\\bbola\\b|\\bfifa\\b|\\bmotogp\\b|\\bf1\\b\": 3,\n",
    "    r\"\\bseleb\\b|\\bselebriti\\b|\\bgosip\\b|\\bartis\\b|\\bkorea\\b|\\bkpop\\b\": 3,\n",
    "    r\"\\bkriminal\\b|\\bpencurian\\b|\\bperampokan\\b|\\bpenganiayaan\\b\": 2,\n",
    "    r\"\\bviral\\b|\\btiktok\\b|\\binstagram\\b\": 2,\n",
    "    r\"\\bpromo\\b|\\bdiskon\\b|\\bflash sale\\b\": 1,\n",
    "}\n",
    "\n",
    "# Ambang keputusan\n",
    "THRESH_KEMENKEU = 5\n",
    "THRESH_NASIONAL = 4\n",
    "THRESH_INTERNASIONAL = 4\n"
   ]
  },
  {
   "cell_type": "code",
   "execution_count": 23,
   "metadata": {
    "id": "FcfKLz54SaOK"
   },
   "outputs": [],
   "source": [
    "# %%\n",
    "def score_by_patterns(text: str, patterns: Dict[str, int]) -> Tuple[int, List[str], Dict[str, int]]:\n",
    "    \"\"\"\n",
    "    Hitung skor berdasarkan pola regex dan kembalikan:\n",
    "    - total score\n",
    "    - daftar pola yang match (untuk audit)\n",
    "    - detail skor per pola (dict)\n",
    "    \"\"\"\n",
    "    score = 0\n",
    "    matched = []\n",
    "    score_detail = {}\n",
    "    for pat, w in patterns.items():\n",
    "        if re.search(pat, text, flags=re.IGNORECASE):\n",
    "            score += w\n",
    "            matched.append(pat)\n",
    "            score_detail[pat] = w\n",
    "    return score, matched, score_detail\n",
    "\n",
    "\n",
    "def classify_item(title_raw: str, article_raw: str = \"\", alpha_title: float = 1.2) -> Dict[str, object]:\n",
    "    \"\"\"\n",
    "    Kembalikan dict:\n",
    "    - cleaned_title, cleaned_article\n",
    "    - kategori_isu\n",
    "    - score_kemenkeu, score_nasional, score_internasional, score_lainnya_hint\n",
    "    - matched_terms (gabungan)\n",
    "    - score_detail (per kategori)\n",
    "    - reason (ringkas)\n",
    "\n",
    "    Mekanisme penggabungan:\n",
    "    - Skor dihitung terpisah: judul dan artikel.\n",
    "    - Skor judul diberi bobot alpha_title (>1.0 by default) agar judul tetap dominan.\n",
    "    - Total skor = alpha*skor_judul + skor_artikel.\n",
    "    \"\"\"\n",
    "    t = clean_title(title_raw)\n",
    "    a = clean_article(article_raw)\n",
    "\n",
    "    # Skor berdasarkan judul\n",
    "    t_kem, tmk_kem, tdet_kem = score_by_patterns(t, KEMENKEU_PATTERNS)\n",
    "    t_nas, tmk_nas, tdet_nas = score_by_patterns(t, NASIONAL_PATTERNS)\n",
    "    t_int, tmk_int, tdet_int = score_by_patterns(t, INTERNASIONAL_PATTERNS)\n",
    "    t_lai, tmk_lai, tdet_lai = score_by_patterns(t, LAINNYA_HINTS)\n",
    "\n",
    "    # Skor berdasarkan artikel\n",
    "    a_kem, amk_kem, adet_kem = score_by_patterns(a, KEMENKEU_PATTERNS)\n",
    "    a_nas, amk_nas, adet_nas = score_by_patterns(a, NASIONAL_PATTERNS)\n",
    "    a_int, amk_int, adet_int = score_by_patterns(a, INTERNASIONAL_PATTERNS)\n",
    "    a_lai, amk_lai, adet_lai = score_by_patterns(a, LAINNYA_HINTS)\n",
    "\n",
    "    # Gabungkan dengan bobot judul\n",
    "    sk_kem = int(round(alpha_title * t_kem + a_kem))\n",
    "    sk_nas = int(round(alpha_title * t_nas + a_nas))\n",
    "    sk_int = int(round(alpha_title * t_int + a_int))\n",
    "    sk_lai = int(round(alpha_title * t_lai + a_lai))\n",
    "\n",
    "    # Keputusan kategori: beri prioritas Kemenkeu > Nasional/Internasional bila kuat; lalu bandingkan Nasional vs Internasional\n",
    "    if sk_kem >= THRESH_KEMENKEU and sk_kem >= sk_nas and sk_kem >= sk_int:\n",
    "        kategori = \"Isu Kemenkeu\"\n",
    "        reason = \"Indikasi kuat fiskal/Kemenkeu dari judul/artikel.\"\n",
    "    else:\n",
    "        # pilih tertinggi antara nasional dan internasional jika melewati threshold masing-masing\n",
    "        if sk_int >= THRESH_INTERNASIONAL and sk_int >= sk_nas:\n",
    "            kategori = \"Isu Internasional\"\n",
    "            reason = \"Indikasi kuat hubungan/organisasi/isu lintas negara.\"\n",
    "        elif sk_nas >= THRESH_NASIONAL:\n",
    "            kategori = \"Isu Nasional\"\n",
    "            reason = \"Indikasi kuat isu pemerintah pusat/penegakan hukum/politik nasional.\"\n",
    "        else:\n",
    "            kategori = \"Isu Lainnya\"\n",
    "            reason = \"Tidak ada indikasi kuat isu Kemenkeu/Nasional/Internasional.\"\n",
    "\n",
    "    matched_terms = {\n",
    "        \"kemenkeu\": list(set(tmk_kem + amk_kem)),\n",
    "        \"nasional\": list(set(tmk_nas + amk_nas)),\n",
    "        \"internasional\": list(set(tmk_int + amk_int)),\n",
    "        \"lainnya_hint\": list(set(tmk_lai + amk_lai)),\n",
    "    }\n",
    "    score_detail = {\n",
    "        \"kemenkeu\": {**tdet_kem, **adet_kem},\n",
    "        \"nasional\": {**tdet_nas, **adet_nas},\n",
    "        \"internasional\": {**tdet_int, **adet_int},\n",
    "        \"lainnya_hint\": {**tdet_lai, **adet_lai},\n",
    "    }\n",
    "\n",
    "    return {\n",
    "        \"cleaned_title\": t,\n",
    "        \"cleaned_article\": a,\n",
    "        \"kategori_isu\": kategori,\n",
    "        \"score_kemenkeu\": sk_kem,\n",
    "        \"score_nasional\": sk_nas,\n",
    "        \"score_internasional\": sk_int,\n",
    "        \"score_lainnya_hint\": sk_lai,\n",
    "        \"matched_terms\": matched_terms,\n",
    "        \"score_detail\": score_detail,\n",
    "        \"reason\": reason,\n",
    "    }\n"
   ]
  },
  {
   "cell_type": "code",
   "execution_count": 24,
   "metadata": {
    "id": "Be0Vq3RqSdu2"
   },
   "outputs": [],
   "source": [
    "# %%\n",
    "\n",
    "def label_dataframe(df: pd.DataFrame,\n",
    "                    title_col: str = \"judul_berita\",\n",
    "                    article_col: str = \"artikel_berita\",\n",
    "                    alpha_title: float = 1.2) -> pd.DataFrame:\n",
    "    \"\"\"\n",
    "    Melabeli berdasarkan gabungan judul + artikel.\n",
    "\n",
    "    Parameter:\n",
    "    - title_col: nama kolom judul\n",
    "    - article_col: nama kolom artikel (opsional; jika tak ada, hanya judul)\n",
    "    - alpha_title: bobot untuk skor judul agar tetap dominan\n",
    "\n",
    "    Error handling:\n",
    "      - Cek keberadaan kolom\n",
    "      - Tangani NaN/None\n",
    "      - Tidak mengubah df input (return salinan)\n",
    "    \"\"\"\n",
    "    if not isinstance(df, pd.DataFrame):\n",
    "        raise TypeError(\"Input 'df' harus berupa pandas.DataFrame.\")\n",
    "    if title_col not in df.columns:\n",
    "        raise KeyError(f\"Kolom '{title_col}' tidak ditemukan di df. Kolom tersedia: {list(df.columns)}\")\n",
    "\n",
    "    has_article = article_col in df.columns\n",
    "\n",
    "    df_out = df.copy()\n",
    "\n",
    "    results = []\n",
    "    for i, row in df_out.iterrows():\n",
    "        raw_title = \"\" if pd.isna(row[title_col]) else str(row[title_col])\n",
    "        raw_article = \"\" if (not has_article or pd.isna(row.get(article_col, \"\"))) else str(row[article_col])\n",
    "        try:\n",
    "            res = classify_item(raw_title, raw_article, alpha_title=alpha_title)\n",
    "        except Exception as e:\n",
    "            # Jika gagal proses satu baris, beri fallback aman\n",
    "            res = {\n",
    "                \"cleaned_title\": clean_title(raw_title),\n",
    "                \"cleaned_article\": clean_article(raw_article),\n",
    "                \"kategori_isu\": \"Isu Lainnya\",\n",
    "                \"score_kemenkeu\": 0,\n",
    "                \"score_nasional\": 0,\n",
    "                \"score_internasional\": 0,\n",
    "                \"score_lainnya_hint\": 0,\n",
    "                \"matched_terms\": {\"kemenkeu\": [], \"nasional\": [], \"internasional\": [], \"lainnya_hint\": []},\n",
    "                \"score_detail\": {\"kemenkeu\": {}, \"nasional\": {}, \"internasional\": {}, \"lainnya_hint\": {}},\n",
    "                \"reason\": f\"Fallback labeling karena error: {e.__class__.__name__}\",\n",
    "            }\n",
    "        results.append(res)\n",
    "\n",
    "    # Tambahkan kolom-kolom hasil\n",
    "    df_out[\"judul_berita_bersih\"] = [r[\"cleaned_title\"] for r in results]\n",
    "    if has_article:\n",
    "        df_out[\"artikel_berita_bersih\"] = [r[\"cleaned_article\"] for r in results]\n",
    "    df_out[\"kategori_isu\"] = [r[\"kategori_isu\"] for r in results]\n",
    "    df_out[\"score_kemenkeu\"] = [r[\"score_kemenkeu\"] for r in results]\n",
    "    df_out[\"score_nasional\"] = [r[\"score_nasional\"] for r in results]\n",
    "    df_out[\"score_internasional\"] = [r[\"score_internasional\"] for r in results]\n",
    "    df_out[\"score_lainnya_hint\"] = [r[\"score_lainnya_hint\"] for r in results]\n",
    "    df_out[\"matched_terms\"] = [r[\"matched_terms\"] for r in results]\n",
    "    df_out[\"score_detail\"] = [r[\"score_detail\"] for r in results]\n",
    "    df_out[\"label_reason\"] = [r[\"reason\"] for r in results]\n",
    "\n",
    "    return df_out\n"
   ]
  },
  {
   "cell_type": "code",
   "execution_count": 25,
   "metadata": {
    "colab": {
     "base_uri": "https://localhost:8080/",
     "height": 140
    },
    "executionInfo": {
     "elapsed": 1277,
     "status": "ok",
     "timestamp": 1758324807299,
     "user": {
      "displayName": "Monitoring Berita",
      "userId": "16755502473357078001"
     },
     "user_tz": -420
    },
    "id": "9slvM3sASldJ",
    "outputId": "8c4c57f0-6215-46d5-ea8b-42b759d59ff3"
   },
   "outputs": [
    {
     "name": "stdout",
     "output_type": "stream",
     "text": [
      "Labeling selesai. Jumlah baris: 97\n"
     ]
    },
    {
     "data": {
      "text/html": [
       "<div>\n",
       "<style scoped>\n",
       "    .dataframe tbody tr th:only-of-type {\n",
       "        vertical-align: middle;\n",
       "    }\n",
       "\n",
       "    .dataframe tbody tr th {\n",
       "        vertical-align: top;\n",
       "    }\n",
       "\n",
       "    .dataframe thead th {\n",
       "        text-align: right;\n",
       "    }\n",
       "</style>\n",
       "<table border=\"1\" class=\"dataframe\">\n",
       "  <thead>\n",
       "    <tr style=\"text-align: right;\">\n",
       "      <th></th>\n",
       "      <th>kategori_isu</th>\n",
       "      <th>jumlah</th>\n",
       "    </tr>\n",
       "  </thead>\n",
       "  <tbody>\n",
       "    <tr>\n",
       "      <th>0</th>\n",
       "      <td>Isu Lainnya</td>\n",
       "      <td>39</td>\n",
       "    </tr>\n",
       "    <tr>\n",
       "      <th>1</th>\n",
       "      <td>Isu Nasional</td>\n",
       "      <td>25</td>\n",
       "    </tr>\n",
       "    <tr>\n",
       "      <th>2</th>\n",
       "      <td>Isu Internasional</td>\n",
       "      <td>17</td>\n",
       "    </tr>\n",
       "    <tr>\n",
       "      <th>3</th>\n",
       "      <td>Isu Kemenkeu</td>\n",
       "      <td>16</td>\n",
       "    </tr>\n",
       "  </tbody>\n",
       "</table>\n",
       "</div>"
      ],
      "text/plain": [
       "        kategori_isu  jumlah\n",
       "0        Isu Lainnya      39\n",
       "1       Isu Nasional      25\n",
       "2  Isu Internasional      17\n",
       "3       Isu Kemenkeu      16"
      ]
     },
     "metadata": {},
     "output_type": "display_data"
    }
   ],
   "source": [
    "# Jalankan pelabelan\n",
    "try:\n",
    "    df_labeled = label_dataframe(df, title_col=\"judul_berita\", article_col=\"artikel_berita\", alpha_title=1.3)\n",
    "    print(f\"Labeling selesai. Jumlah baris: {len(df_labeled)}\")\n",
    "except Exception as e:\n",
    "    raise RuntimeError(f\"Gagal melabeli dataframe: {e}\")\n",
    "\n",
    "# Ringkasan\n",
    "if not df_labeled.empty and 'kategori_isu' in df_labeled.columns:\n",
    "    summary = (\n",
    "        df_labeled[\"kategori_isu\"]\n",
    "        .value_counts(dropna=False)\n",
    "        .rename_axis(\"kategori_isu\")\n",
    "        .reset_index(name=\"jumlah\")\n",
    "    )\n",
    "    display(summary)\n",
    "else:\n",
    "    print(\"Data labeled kosong atau kolom kategori_isu tidak ditemukan.\")"
   ]
  },
  {
   "cell_type": "markdown",
   "metadata": {
    "id": "u0uYDy-0V1t8"
   },
   "source": [
    "### Langkah Selanjutnya"
   ]
  },
  {
   "cell_type": "code",
   "execution_count": 26,
   "metadata": {
    "id": "v8wd97o9PGnm"
   },
   "outputs": [
    {
     "name": "stdout",
     "output_type": "stream",
     "text": [
      "Tersimpan: /Users/yusufpradana/Library/CloudStorage/OneDrive-Personal/Pekerjaan BMN/05. 2025/98_monitoring_berita/hasil_labeling/hasil_labeling_20250926_144446.csv & /Users/yusufpradana/Library/CloudStorage/OneDrive-Personal/Pekerjaan BMN/05. 2025/98_monitoring_berita/hasil_labeling/hasil_labeling_20250926_144446.xlsx\n"
     ]
    }
   ],
   "source": [
    "# %%\n",
    "# Simpan sebagai CSV/Excel untuk integrasi lanjutan\n",
    "DATE_TAG = pd.Timestamp.now().strftime(\"%Y%m%d_%H%M%S\")\n",
    "OUTPUT_DIR = f\"{cwd}/hasil_labeling\"\n",
    "OUTPUT_CSV = f\"{OUTPUT_DIR}/hasil_labeling_{DATE_TAG}.csv\"\n",
    "OUTPUT_XLSX = f\"{OUTPUT_DIR}/hasil_labeling_{DATE_TAG}.xlsx\"\n",
    "\n",
    "# Pastikan folder ada\n",
    "import os\n",
    "os.makedirs(OUTPUT_DIR, exist_ok=True)\n",
    "\n",
    "try:\n",
    "    df_labeled.to_csv(OUTPUT_CSV, index=False, encoding=\"utf-8\")\n",
    "    df_labeled.to_excel(OUTPUT_XLSX, index=False)\n",
    "    print(f\"Tersimpan: {OUTPUT_CSV} & {OUTPUT_XLSX}\")\n",
    "except Exception as e:\n",
    "    print(f\"Gagal menyimpan output: {e}\")\n"
   ]
  },
  {
   "cell_type": "code",
   "execution_count": 27,
   "metadata": {
    "id": "yTkZqkukV5Cs"
   },
   "outputs": [
    {
     "name": "stdout",
     "output_type": "stream",
     "text": [
      "Berhasil update config.json di /Users/yusufpradana/Library/CloudStorage/OneDrive-Personal/Pekerjaan BMN/05. 2025/98_monitoring_berita/config.json\n"
     ]
    }
   ],
   "source": [
    "# update config\n",
    "# %%\n",
    "import json\n",
    "from pathlib import Path\n",
    "\n",
    "CONFIG_PATH = Path(f\"{cwd}/config.json\")\n",
    "\n",
    "\n",
    "def update_config(path: Path, new_values: dict):\n",
    "    \"\"\"Update config.json hanya pada key tertentu tanpa menimpa keseluruhan isi.\"\"\"\n",
    "    data = {}\n",
    "    if path.exists():\n",
    "        try:\n",
    "            with open(path, \"r\", encoding=\"utf-8\") as f:\n",
    "                data = json.load(f)\n",
    "        except Exception:\n",
    "            data = {}\n",
    "\n",
    "    # update hanya key yang diberikan\n",
    "    data.update(new_values)\n",
    "\n",
    "    try:\n",
    "        with open(path, \"w\", encoding=\"utf-8\") as f:\n",
    "            json.dump(data, f, indent=4, ensure_ascii=False)\n",
    "        print(f\"Berhasil update config.json di {path}\")\n",
    "    except Exception as e:\n",
    "        print(f\"Gagal menyimpan config.json: {e}\")\n",
    "\n",
    "# Simpan OUTPUT_CSV & OUTPUT_XLSX ke config dengan nama yang lebih jelas\n",
    "update_config(CONFIG_PATH, {\n",
    "    \"labelled_data_csv\": OUTPUT_CSV,\n",
    "    \"labelled_data_xlsx\": OUTPUT_XLSX\n",
    "})\n"
   ]
  }
 ],
 "metadata": {
  "colab": {
   "authorship_tag": "ABX9TyODc2nSpakgAoKFbA5Iu7Nv",
   "provenance": []
  },
  "kernelspec": {
   "display_name": "base",
   "language": "python",
   "name": "python3"
  },
  "language_info": {
   "codemirror_mode": {
    "name": "ipython",
    "version": 3
   },
   "file_extension": ".py",
   "mimetype": "text/x-python",
   "name": "python",
   "nbconvert_exporter": "python",
   "pygments_lexer": "ipython3",
   "version": "3.12.7"
  }
 },
 "nbformat": 4,
 "nbformat_minor": 0
}
