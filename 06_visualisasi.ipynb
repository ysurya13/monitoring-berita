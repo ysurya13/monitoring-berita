{
 "cells": [
  {
   "cell_type": "markdown",
   "id": "7b8b630e",
   "metadata": {},
   "source": [
    "# SETTING ENVIRONMENT\n"
   ]
  },
  {
   "cell_type": "code",
   "execution_count": null,
   "id": "c3e53e12",
   "metadata": {},
   "outputs": [],
   "source": [
    "\"\"\"# mount the colab with google drive\n",
    "from google.colab import drive\n",
    "drive.mount('/content/drive')\"\"\""
   ]
  },
  {
   "cell_type": "code",
   "execution_count": null,
   "id": "264c1889",
   "metadata": {},
   "outputs": [],
   "source": [
    "# set folder tempat kerja (current working directory)\n",
    "import os\n",
    "cwd = \"/Users/yusufpradana/Library/CloudStorage/OneDrive-Personal/Pekerjaan BMN/05. 2025/98_monitoring_berita/monitoring-berita\"\n",
    "#cwd = '/content/drive/MyDrive/Monitoring Berita'\n",
    "os.chdir(cwd)"
   ]
  },
  {
   "cell_type": "code",
   "execution_count": null,
   "id": "d96c8934",
   "metadata": {},
   "outputs": [],
   "source": [
    "!pip install wordcloud"
   ]
  },
  {
   "cell_type": "markdown",
   "id": "a8021c2a",
   "metadata": {},
   "source": [
    "# MAIN"
   ]
  },
  {
   "cell_type": "markdown",
   "id": "6321af2c",
   "metadata": {},
   "source": [
    "Module ini berfungsi untuk membuat visualisasi data atas output terakhir dari proses analisis yaitu analisis berita penting.\n",
    "\n",
    "Dalam proses visualisasi data, module ini akan:\n",
    "1. Membaca data output dari analisis berita penting yang path nya sudah tersimpan di config.json \n",
    "2. Mengolah data sesuai format yang diperlukan untuk visualisasi.\n",
    "Jenis visualisasi: \n",
    "    * Pie chart sentimen berita\n",
    "    * Time line sentimen berita per tanggal (positif, negatif, netral)\n",
    "    * Word cloud dari berita yang muncul (menampilkan kata yang paling banyak muncul)\n",
    "    * ide lain?\n",
    "2. Membuat beberapa visualisasi yang dapat digunakan dalam laporan. \n",
    "3. Menampilkan visualisasi tersebut."
   ]
  },
  {
   "cell_type": "code",
   "execution_count": 5,
   "id": "419696d4",
   "metadata": {},
   "outputs": [
    {
     "name": "stdout",
     "output_type": "stream",
     "text": [
      "✅ Semua libraries berhasil diimport!\n"
     ]
    }
   ],
   "source": [
    "# PART 1: Import Libraries yang diperlukan\n",
    "\n",
    "# Data manipulation\n",
    "import pandas as pd\n",
    "import numpy as np\n",
    "import json\n",
    "from datetime import datetime, timedelta\n",
    "\n",
    "# Visualization libraries\n",
    "import matplotlib.pyplot as plt\n",
    "import seaborn as sns\n",
    "import plotly.express as px\n",
    "import plotly.graph_objects as go\n",
    "from plotly.subplots import make_subplots\n",
    "\n",
    "# Word cloud\n",
    "from wordcloud import WordCloud\n",
    "\n",
    "# Text processing (untuk word cloud)\n",
    "import re\n",
    "from collections import Counter\n",
    "\n",
    "# System utilities\n",
    "import os\n",
    "import warnings\n",
    "warnings.filterwarnings('ignore')\n",
    "\n",
    "# Set style untuk matplotlib\n",
    "plt.style.use('default')\n",
    "sns.set_palette(\"husl\")\n",
    "\n",
    "print(\"✅ Semua libraries berhasil diimport!\")"
   ]
  },
  {
   "cell_type": "code",
   "execution_count": 6,
   "id": "68cf2bb9",
   "metadata": {},
   "outputs": [
    {
     "name": "stdout",
     "output_type": "stream",
     "text": [
      "✅ Konfigurasi berhasil dimuat dari config.json\n",
      "\n",
      "📋 Informasi Konfigurasi:\n",
      "   • Search dates: 4 tanggal\n",
      "   • Keywords: ['purbaya rokok ilegal', 'rokok ilegal']\n",
      "   • AI model: deepseek\n",
      "   • Last update berita penting: 2025-10-02 07:29:18\n",
      "   • Path berita penting: /Users/yusufpradana/Library/CloudStorage/OneDrive-Personal/Pekerjaan BMN/05. 2025/98_monitoring_berita/monitoring-berita/00_hasil_analisis/berita_penting/analisis_berita_penting_deepseek_20251002_072918.csv\n",
      "   ✅ File berita penting tersedia\n"
     ]
    }
   ],
   "source": [
    "# PART 2: Load Configurations dari config.json\n",
    "\n",
    "def load_config():\n",
    "    \"\"\"\n",
    "    Fungsi untuk memuat konfigurasi dari file config.json\n",
    "    Returns: dictionary berisi konfigurasi\n",
    "    \"\"\"\n",
    "    try:\n",
    "        with open('config.json', 'r', encoding='utf-8') as f:\n",
    "            config = json.load(f)\n",
    "        print(\"✅ Konfigurasi berhasil dimuat dari config.json\")\n",
    "        return config\n",
    "    except FileNotFoundError:\n",
    "        print(\"❌ File config.json tidak ditemukan!\")\n",
    "        return None\n",
    "    except json.JSONDecodeError as e:\n",
    "        print(f\"❌ Error parsing JSON: {e}\")\n",
    "        return None\n",
    "\n",
    "# Load konfigurasi\n",
    "config = load_config()\n",
    "\n",
    "if config:\n",
    "    print(\"\\n📋 Informasi Konfigurasi:\")\n",
    "    print(f\"   • Search dates: {len(config.get('search_date', []))} tanggal\")\n",
    "    print(f\"   • Keywords: {config.get('keywords', [])}\")\n",
    "    print(f\"   • AI model: {config.get('AI_name', 'N/A')}\")\n",
    "    print(f\"   • Last update berita penting: {config.get('berita_penting_last_updated', 'N/A')}\")\n",
    "    \n",
    "    # Path file berita penting (yang akan divisualisasikan)\n",
    "    berita_penting_path = config.get('berita_penting_output_absolute')\n",
    "    print(f\"   • Path berita penting: {berita_penting_path}\")\n",
    "    \n",
    "    # Cek apakah file ada\n",
    "    if berita_penting_path and os.path.exists(berita_penting_path):\n",
    "        print(\"   ✅ File berita penting tersedia\")\n",
    "    else:\n",
    "        print(\"   ❌ File berita penting tidak ditemukan!\")\n",
    "else:\n",
    "    print(\"❌ Gagal memuat konfigurasi!\")"
   ]
  },
  {
   "cell_type": "code",
   "execution_count": 7,
   "id": "58cddcb5",
   "metadata": {},
   "outputs": [
    {
     "name": "stdout",
     "output_type": "stream",
     "text": [
      "✅ Data berita penting berhasil dimuat!\n",
      "\n",
      "📊 Informasi Dataset:\n",
      "   • Total berita: 40 artikel\n",
      "   • Kolom data: 20 kolom\n",
      "   • Rentang tanggal: 2025-09-28 - 2025-10-01\n",
      "\n",
      "📈 Distribusi Sentimen:\n",
      "   • Positif: 37 berita (92.5%)\n",
      "   • Negatif: 2 berita (5.0%)\n",
      "   • Netral: 1 berita (2.5%)\n",
      "\n",
      "🏷️ Distribusi Topik:\n",
      "   • Kemenkeu: 40 berita\n",
      "\n",
      "🌐 Top 5 Media Sources:\n",
      "   • www.cnbcindonesia.com: 8 berita\n",
      "   • kumparan.com: 3 berita\n",
      "   • www.tempo.co: 3 berita\n",
      "   • www.metrotvnews.com: 2 berita\n",
      "   • ekbis.sindonews.com: 1 berita\n",
      "\n",
      "📋 Sample Data (5 baris pertama):\n",
      "================================================================================\n",
      "\n",
      "📰 Berita 1:\n",
      "   📝 Judul: Purbaya Bakal Sikat Rokok Ilegal, Seberapa Parah Peredarannya? - SINDOnews Ekbis\n",
      "   📅 Tanggal: 2025-09-28\n",
      "   😊 Sentimen: positif\n",
      "   🏷️ Topik: Kemenkeu\n",
      "   🌐 Media: ekbis.sindonews.com\n",
      "------------------------------------------------------------\n",
      "\n",
      "📰 Berita 2:\n",
      "   📝 Judul: Dukung Kebijakan Menkeu Purbaya, Indef Singgung Fenomena Rokok Ilegal - republika.co.id\n",
      "   📅 Tanggal: 2025-09-30\n",
      "   😊 Sentimen: positif\n",
      "   🏷️ Topik: Kemenkeu\n",
      "   🌐 Media: ekonomi.republika.co.id\n",
      "------------------------------------------------------------\n",
      "\n",
      "📰 Berita 3:\n",
      "   📝 Judul: Ulama Jatim Dukung Menkeu Berantas Rokok Ilegal - detikcom\n",
      "   📅 Tanggal: 2025-09-30\n",
      "   😊 Sentimen: positif\n",
      "   🏷️ Topik: Kemenkeu\n",
      "   🌐 Media: www.detik.com\n",
      "------------------------------------------------------------\n",
      "\n",
      "📰 Berita 4:\n",
      "   📝 Judul: Pengusaha Ungkap Kerugian Negara Akibat Rokok Ilegal Bisa Capai Rp 15 Triliun - InvestorTrust\n",
      "   📅 Tanggal: 2025-09-30\n",
      "   😊 Sentimen: positif\n",
      "   🏷️ Topik: Kemenkeu\n",
      "   🌐 Media: investortrust.id\n",
      "------------------------------------------------------------\n",
      "\n",
      "📰 Berita 5:\n",
      "   📝 Judul: Modus Pedagang Ecommerce, Rokok Ilegal Dijual Jadi Pakaian Dalam - CNBC Indonesia\n",
      "   📅 Tanggal: 2025-09-30\n",
      "   😊 Sentimen: positif\n",
      "   🏷️ Topik: Kemenkeu\n",
      "   🌐 Media: www.cnbcindonesia.com\n",
      "------------------------------------------------------------\n",
      "\n",
      "✅ Data siap untuk divisualisasikan!\n"
     ]
    }
   ],
   "source": [
    "# PART 3: Load Data Berita Penting dari path di config.json\n",
    "\n",
    "def load_berita_penting_data(config):\n",
    "    \"\"\"\n",
    "    Fungsi untuk memuat data berita penting dari CSV\n",
    "    Returns: DataFrame berisi data berita penting\n",
    "    \"\"\"\n",
    "    if not config:\n",
    "        print(\"❌ Konfigurasi tidak tersedia!\")\n",
    "        return None\n",
    "        \n",
    "    berita_penting_path = config.get('berita_penting_output_absolute')\n",
    "    \n",
    "    if not berita_penting_path:\n",
    "        print(\"❌ Path file berita penting tidak ditemukan di konfigurasi!\")\n",
    "        return None\n",
    "        \n",
    "    if not os.path.exists(berita_penting_path):\n",
    "        print(f\"❌ File tidak ditemukan: {berita_penting_path}\")\n",
    "        return None\n",
    "        \n",
    "    try:\n",
    "        # Load data dengan encoding UTF-8\n",
    "        df = pd.read_csv(berita_penting_path, encoding='utf-8')\n",
    "        print(\"✅ Data berita penting berhasil dimuat!\")\n",
    "        \n",
    "        # Info dasar dataset\n",
    "        print(f\"\\n📊 Informasi Dataset:\")\n",
    "        print(f\"   • Total berita: {len(df)} artikel\")\n",
    "        print(f\"   • Kolom data: {len(df.columns)} kolom\")\n",
    "        print(f\"   • Rentang tanggal: {df['tanggal_berita_norm'].min()} - {df['tanggal_berita_norm'].max()}\")\n",
    "        \n",
    "        # Distribusi sentimen\n",
    "        if 'sentimen' in df.columns:\n",
    "            sentimen_counts = df['sentimen'].value_counts()\n",
    "            print(f\"\\n📈 Distribusi Sentimen:\")\n",
    "            for sentimen, count in sentimen_counts.items():\n",
    "                persen = (count/len(df))*100\n",
    "                print(f\"   • {sentimen.title()}: {count} berita ({persen:.1f}%)\")\n",
    "        \n",
    "        # Distribusi topik\n",
    "        if 'topik_llm' in df.columns:\n",
    "            topik_counts = df['topik_llm'].value_counts()\n",
    "            print(f\"\\n🏷️ Distribusi Topik:\")\n",
    "            for topik, count in topik_counts.head().items():\n",
    "                print(f\"   • {topik}: {count} berita\")\n",
    "                \n",
    "        # Distribusi source domain\n",
    "        if 'source_domain' in df.columns:\n",
    "            source_counts = df['source_domain'].value_counts()\n",
    "            print(f\"\\n🌐 Top 5 Media Sources:\")\n",
    "            for source, count in source_counts.head().items():\n",
    "                print(f\"   • {source}: {count} berita\")\n",
    "        \n",
    "        return df\n",
    "        \n",
    "    except Exception as e:\n",
    "        print(f\"❌ Error saat memuat data: {e}\")\n",
    "        return None\n",
    "\n",
    "# Load data berita penting\n",
    "df_berita = load_berita_penting_data(config)\n",
    "\n",
    "# Jika data berhasil dimuat, tampilkan sample data\n",
    "if df_berita is not None:\n",
    "    print(f\"\\n📋 Sample Data (5 baris pertama):\")\n",
    "    print(\"=\"*80)\n",
    "    \n",
    "    # Kolom utama yang akan ditampilkan\n",
    "    display_cols = ['judul_berita', 'tanggal_berita_norm', 'sentimen', 'topik_llm', 'source_domain']\n",
    "    available_cols = [col for col in display_cols if col in df_berita.columns]\n",
    "    \n",
    "    # Tampilkan sample dengan kolom yang tersedia\n",
    "    sample_df = df_berita[available_cols].head()\n",
    "    for idx, row in sample_df.iterrows():\n",
    "        print(f\"\\n📰 Berita {idx+1}:\")\n",
    "        for col in available_cols:\n",
    "            if col == 'judul_berita':\n",
    "                # Truncate judul jika terlalu panjang\n",
    "                judul = row[col][:100] + \"...\" if len(str(row[col])) > 100 else row[col]\n",
    "                print(f\"   📝 Judul: {judul}\")\n",
    "            elif col == 'tanggal_berita_norm':\n",
    "                print(f\"   📅 Tanggal: {row[col]}\")\n",
    "            elif col == 'sentimen':\n",
    "                emoji = \"😊\" if row[col] == \"positif\" else \"😠\" if row[col] == \"negatif\" else \"😐\"\n",
    "                print(f\"   {emoji} Sentimen: {row[col]}\")\n",
    "            elif col == 'topik_llm':\n",
    "                print(f\"   🏷️ Topik: {row[col]}\")\n",
    "            elif col == 'source_domain':\n",
    "                print(f\"   🌐 Media: {row[col]}\")\n",
    "        print(\"-\" * 60)\n",
    "    \n",
    "    print(f\"\\n✅ Data siap untuk divisualisasikan!\")\n",
    "else:\n",
    "    print(\"\\n❌ Tidak dapat melanjutkan ke visualisasi karena data tidak berhasil dimuat.\")"
   ]
  },
  {
   "cell_type": "markdown",
   "id": "46004212",
   "metadata": {},
   "source": [
    "### PART VISUALISASI"
   ]
  },
  {
   "cell_type": "code",
   "execution_count": 8,
   "id": "bc31063f",
   "metadata": {},
   "outputs": [
    {
     "name": "stdout",
     "output_type": "stream",
     "text": [
      "🔄 Memulai preprocessing data untuk visualisasi...\n",
      "📅 Konversi format tanggal...\n",
      "   ✅ Konversi tanggal berhasil\n",
      "🧹 Cleaning teks untuk word cloud...\n",
      "   ✅ Text cleaning berhasil\n",
      "📊 Grouping data untuk analisis...\n",
      "   ✅ Grouping data berhasil\n",
      "📈 Perhitungan statistik...\n",
      "   ✅ Statistik berhasil dihitung\n",
      "✅ Preprocessing selesai!\n",
      "\n",
      "📋 Ringkasan Data Processed:\n",
      "   • Total artikel: 40\n",
      "   • Rentang tanggal: 4 hari\n",
      "   • Rata-rata artikel/hari: 10.0\n",
      "   • Jumlah media: 28\n",
      "   • Kata unik untuk word cloud: 48\n",
      "\n",
      "🎯 Data siap untuk visualisasi!\n",
      "   📊 Sentiment distribution: 3 kategori\n",
      "   📅 Timeline data: 12 data points\n",
      "   🏷️ Topic data: 1 topik\n",
      "   🌐 Media sources: 10 media\n"
     ]
    }
   ],
   "source": [
    "# PART 4: Preprocessing Data untuk Visualisasi\n",
    "\n",
    "def preprocess_data_for_visualization(df):\n",
    "    \"\"\"\n",
    "    Fungsi untuk memproses data berita untuk keperluan visualisasi\n",
    "    Returns: Dictionary berisi data yang sudah diproses\n",
    "    \"\"\"\n",
    "    if df is None or df.empty:\n",
    "        print(\"❌ DataFrame kosong atau None!\")\n",
    "        return None\n",
    "    \n",
    "    print(\"🔄 Memulai preprocessing data untuk visualisasi...\")\n",
    "    \n",
    "    # 1. Konversi format tanggal\n",
    "    print(\"📅 Konversi format tanggal...\")\n",
    "    df_processed = df.copy()\n",
    "    \n",
    "    # Convert tanggal_berita_norm to datetime\n",
    "    try:\n",
    "        df_processed['tanggal_datetime'] = pd.to_datetime(df_processed['tanggal_berita_norm'])\n",
    "        df_processed['tanggal_str'] = df_processed['tanggal_datetime'].dt.strftime('%Y-%m-%d')\n",
    "        df_processed['hari_nama'] = df_processed['tanggal_datetime'].dt.day_name()\n",
    "        print(\"   ✅ Konversi tanggal berhasil\")\n",
    "    except Exception as e:\n",
    "        print(f\"   ❌ Error konversi tanggal: {e}\")\n",
    "        return None\n",
    "    \n",
    "    # 2. Cleaning dan normalisasi teks untuk word cloud\n",
    "    print(\"🧹 Cleaning teks untuk word cloud...\")\n",
    "    \n",
    "    def clean_text_for_wordcloud(text):\n",
    "        \"\"\"Fungsi untuk membersihkan teks untuk word cloud\"\"\"\n",
    "        if pd.isna(text):\n",
    "            return \"\"\n",
    "        \n",
    "        # Convert to lowercase\n",
    "        text = str(text).lower()\n",
    "        \n",
    "        # Remove URLs\n",
    "        text = re.sub(r'http[s]?://(?:[a-zA-Z]|[0-9]|[$-_@.&+]|[!*\\\\(\\\\),]|(?:%[0-9a-fA-F][0-9a-fA-F]))+', '', text)\n",
    "        \n",
    "        # Remove email addresses\n",
    "        text = re.sub(r'\\S+@\\S+', '', text)\n",
    "        \n",
    "        # Remove numbers and special characters, keep only letters and spaces\n",
    "        text = re.sub(r'[^a-zA-Z\\s]', ' ', text)\n",
    "        \n",
    "        # Remove extra whitespaces\n",
    "        text = ' '.join(text.split())\n",
    "        \n",
    "        # Remove common stop words in Indonesian\n",
    "        stop_words = {\n",
    "            'yang', 'dan', 'di', 'dari', 'ke', 'untuk', 'dengan', 'pada', 'dalam', 'oleh', \n",
    "            'akan', 'adalah', 'telah', 'sudah', 'ini', 'itu', 'tersebut', 'juga', 'atau',\n",
    "            'tidak', 'bukan', 'dapat', 'bisa', 'harus', 'ada', 'satu', 'dua', 'tiga',\n",
    "            'kami', 'kita', 'mereka', 'dia', 'ia', 'anda', 'saya', 'kamu', 'nya',\n",
    "            'bahwa', 'jika', 'ketika', 'karena', 'sehingga', 'maka', 'tetapi', 'namun',\n",
    "            'menjadi', 'memberikan', 'melakukan', 'memiliki', 'mengatakan', 'berkata',\n",
    "            'news', 'berita', 'com', 'co', 'id', 'www', 'loading', 'read', 'artikel'\n",
    "        }\n",
    "        \n",
    "        # Remove stop words\n",
    "        words = text.split()\n",
    "        words = [word for word in words if word not in stop_words and len(word) > 2]\n",
    "        \n",
    "        return ' '.join(words)\n",
    "    \n",
    "    # Apply text cleaning\n",
    "    if 'judul_berita' in df_processed.columns:\n",
    "        df_processed['judul_clean'] = df_processed['judul_berita'].apply(clean_text_for_wordcloud)\n",
    "    \n",
    "    if 'artikel_berita_bersih' in df_processed.columns:\n",
    "        df_processed['artikel_clean'] = df_processed['artikel_berita_bersih'].apply(clean_text_for_wordcloud)\n",
    "    \n",
    "    print(\"   ✅ Text cleaning berhasil\")\n",
    "    \n",
    "    # 3. Grouping data berdasarkan tanggal, sentimen, topik\n",
    "    print(\"📊 Grouping data untuk analisis...\")\n",
    "    \n",
    "    # Group by tanggal dan sentimen\n",
    "    daily_sentiment = df_processed.groupby(['tanggal_str', 'sentimen']).size().reset_index(name='count')\n",
    "    \n",
    "    # Group by sentimen saja\n",
    "    sentiment_summary = df_processed['sentimen'].value_counts().reset_index()\n",
    "    sentiment_summary.columns = ['sentimen', 'count']\n",
    "    sentiment_summary['percentage'] = (sentiment_summary['count'] / len(df_processed)) * 100\n",
    "    \n",
    "    # Group by topik\n",
    "    if 'topik_llm' in df_processed.columns:\n",
    "        topic_summary = df_processed['topik_llm'].value_counts().reset_index()\n",
    "        topic_summary.columns = ['topik', 'count']\n",
    "        topic_summary['percentage'] = (topic_summary['count'] / len(df_processed)) * 100\n",
    "    else:\n",
    "        topic_summary = pd.DataFrame()\n",
    "    \n",
    "    # Group by source domain\n",
    "    if 'source_domain' in df_processed.columns:\n",
    "        source_summary = df_processed['source_domain'].value_counts().head(10).reset_index()\n",
    "        source_summary.columns = ['media', 'count']\n",
    "        source_summary['percentage'] = (source_summary['count'] / len(df_processed)) * 100\n",
    "    else:\n",
    "        source_summary = pd.DataFrame()\n",
    "    \n",
    "    print(\"   ✅ Grouping data berhasil\")\n",
    "    \n",
    "    # 4. Perhitungan statistik untuk visualisasi\n",
    "    print(\"📈 Perhitungan statistik...\")\n",
    "    \n",
    "    # Timeline data (per tanggal)\n",
    "    date_range = pd.date_range(start=df_processed['tanggal_datetime'].min(), \n",
    "                              end=df_processed['tanggal_datetime'].max(), \n",
    "                              freq='D')\n",
    "    \n",
    "    # Create complete timeline with all sentiments\n",
    "    timeline_data = []\n",
    "    sentiments = ['positif', 'negatif', 'netral']\n",
    "    \n",
    "    for date in date_range:\n",
    "        date_str = date.strftime('%Y-%m-%d')\n",
    "        for sentiment in sentiments:\n",
    "            count = len(df_processed[(df_processed['tanggal_str'] == date_str) & \n",
    "                                   (df_processed['sentimen'] == sentiment)])\n",
    "            timeline_data.append({\n",
    "                'tanggal': date_str,\n",
    "                'sentimen': sentiment,\n",
    "                'count': count\n",
    "            })\n",
    "    \n",
    "    timeline_df = pd.DataFrame(timeline_data)\n",
    "    \n",
    "    # Word frequency untuk word cloud\n",
    "    word_freq = {}\n",
    "    if 'judul_clean' in df_processed.columns:\n",
    "        all_titles = ' '.join(df_processed['judul_clean'].dropna())\n",
    "        words = all_titles.split()\n",
    "        word_counts = Counter(words)\n",
    "        # Filter words dengan minimal 2 karakter dan muncul minimal 2 kali\n",
    "        word_freq = {word: count for word, count in word_counts.items() \n",
    "                    if len(word) > 2 and count >= 2}\n",
    "    \n",
    "    print(\"   ✅ Statistik berhasil dihitung\")\n",
    "    \n",
    "    # Compile semua hasil\n",
    "    processed_data = {\n",
    "        'df_original': df,\n",
    "        'df_processed': df_processed,\n",
    "        'daily_sentiment': daily_sentiment,\n",
    "        'sentiment_summary': sentiment_summary,\n",
    "        'topic_summary': topic_summary,\n",
    "        'source_summary': source_summary,\n",
    "        'timeline_data': timeline_df,\n",
    "        'word_frequency': word_freq,\n",
    "        'date_range': {\n",
    "            'start': df_processed['tanggal_datetime'].min(),\n",
    "            'end': df_processed['tanggal_datetime'].max(),\n",
    "            'total_days': len(date_range)\n",
    "        },\n",
    "        'stats': {\n",
    "            'total_articles': len(df_processed),\n",
    "            'unique_dates': df_processed['tanggal_str'].nunique(),\n",
    "            'unique_sources': df_processed['source_domain'].nunique() if 'source_domain' in df_processed.columns else 0,\n",
    "            'avg_articles_per_day': len(df_processed) / len(date_range)\n",
    "        }\n",
    "    }\n",
    "    \n",
    "    print(\"✅ Preprocessing selesai!\")\n",
    "    print(f\"\\n📋 Ringkasan Data Processed:\")\n",
    "    print(f\"   • Total artikel: {processed_data['stats']['total_articles']}\")\n",
    "    print(f\"   • Rentang tanggal: {processed_data['stats']['unique_dates']} hari\")\n",
    "    print(f\"   • Rata-rata artikel/hari: {processed_data['stats']['avg_articles_per_day']:.1f}\")\n",
    "    print(f\"   • Jumlah media: {processed_data['stats']['unique_sources']}\")\n",
    "    print(f\"   • Kata unik untuk word cloud: {len(word_freq)}\")\n",
    "    \n",
    "    return processed_data\n",
    "\n",
    "# Jalankan preprocessing jika data tersedia\n",
    "if 'df_berita' in locals() and df_berita is not None:\n",
    "    processed_data = preprocess_data_for_visualization(df_berita)\n",
    "    \n",
    "    if processed_data:\n",
    "        print(f\"\\n🎯 Data siap untuk visualisasi!\")\n",
    "        print(f\"   📊 Sentiment distribution: {len(processed_data['sentiment_summary'])} kategori\")\n",
    "        print(f\"   📅 Timeline data: {len(processed_data['timeline_data'])} data points\")\n",
    "        print(f\"   🏷️ Topic data: {len(processed_data['topic_summary'])} topik\")\n",
    "        print(f\"   🌐 Media sources: {len(processed_data['source_summary'])} media\")\n",
    "    else:\n",
    "        print(\"❌ Preprocessing gagal!\")\n",
    "else:\n",
    "    print(\"❌ Data berita tidak tersedia. Jalankan Part 3 terlebih dahulu.\")"
   ]
  },
  {
   "cell_type": "code",
   "execution_count": 24,
   "id": "fd845fb3",
   "metadata": {},
   "outputs": [
    {
     "name": "stdout",
     "output_type": "stream",
     "text": [
      "✅ Fungsi-fungsi visualisasi telah didefinisikan!\n"
     ]
    }
   ],
   "source": [
    "# PART 5: Fungsi-fungsi Visualisasi\n",
    "\n",
    "def create_sentiment_pie_chart(processed_data, title=\"Distribusi Sentimen Berita\"):\n",
    "    \"\"\"\n",
    "    Membuat pie chart untuk distribusi sentimen\n",
    "    \"\"\"\n",
    "    sentiment_data = processed_data['sentiment_summary']\n",
    "    \n",
    "    # Color mapping untuk sentimen\n",
    "    colors = {\n",
    "        'positif': '#2E8B57',  # Green\n",
    "        'negatif': '#DC143C',   # Red  \n",
    "        'netral': '#808080'     # Gray\n",
    "    }\n",
    "    \n",
    "    fig = go.Figure(data=[go.Pie(\n",
    "        labels=sentiment_data['sentimen'],\n",
    "        values=sentiment_data['count'],\n",
    "        hole=0.4,\n",
    "        marker=dict(colors=[colors.get(s, '#808080') for s in sentiment_data['sentimen']]),\n",
    "        textinfo='label+percent+value',\n",
    "        textposition='outside',\n",
    "        hovertemplate='<b>%{label}</b><br>Jumlah: %{value}<br>Persentase: %{percent}<extra></extra>'\n",
    "    )])\n",
    "    \n",
    "    fig.update_layout(\n",
    "        showlegend=True,\n",
    "        width=600,\n",
    "        height=500,\n",
    "        font=dict(size=12),\n",
    "        plot_bgcolor='white',\n",
    "        paper_bgcolor='white'\n",
    "    )\n",
    "    \n",
    "    return fig\n",
    "\n",
    "def create_timeline_chart(processed_data, title=\"Timeline Sentimen Berita Harian\"):\n",
    "    \"\"\"\n",
    "    Membuat line chart timeline sentimen per hari\n",
    "    \"\"\"\n",
    "    timeline_data = processed_data['timeline_data']\n",
    "    \n",
    "    # Color mapping\n",
    "    colors = {\n",
    "        'positif': '#2E8B57',\n",
    "        'negatif': '#DC143C', \n",
    "        'netral': '#808080'\n",
    "    }\n",
    "    \n",
    "    fig = go.Figure()\n",
    "    \n",
    "    # Add line untuk setiap sentimen\n",
    "    for sentiment in ['positif', 'negatif', 'netral']:\n",
    "        sentiment_data = timeline_data[timeline_data['sentimen'] == sentiment]\n",
    "        \n",
    "        fig.add_trace(go.Scatter(\n",
    "            x=sentiment_data['tanggal'],\n",
    "            y=sentiment_data['count'],\n",
    "            mode='lines+markers+text',\n",
    "            name=sentiment.title(),\n",
    "            line=dict(color=colors[sentiment], width=3),\n",
    "            marker=dict(size=8),\n",
    "            text=sentiment_data['count'],\n",
    "            textposition='top center',\n",
    "            textfont=dict(size=10, color=colors[sentiment]),\n",
    "            hovertemplate=f'<b>{sentiment.title()}</b><br>Tanggal: %{{x}}<br>Jumlah: %{{y}}<extra></extra>'\n",
    "        ))\n",
    "    \n",
    "    fig.update_layout(\n",
    "        xaxis_title=\"Tanggal\",\n",
    "        yaxis_title=\"Jumlah Berita\",\n",
    "        width=800,\n",
    "        height=500,\n",
    "        hovermode='x unified',\n",
    "        font=dict(size=12),\n",
    "        plot_bgcolor='white',\n",
    "        paper_bgcolor='white'\n",
    "    )\n",
    "    \n",
    "    return fig\n",
    "\n",
    "def create_media_source_chart(processed_data, title=\"Top 10 Media Sources\"):\n",
    "    \"\"\"\n",
    "    Membuat horizontal bar chart untuk media sources\n",
    "    \"\"\"\n",
    "    source_data = processed_data['source_summary'].head(10)\n",
    "    \n",
    "    # Create color list: dark blue for top 3, light blue for the rest\n",
    "    colors = []\n",
    "    for i in range(len(source_data)):\n",
    "        if i < 3:  # Top 3 media\n",
    "            colors.append('#1E3A8A')  # Dark blue\n",
    "        else:  # Other media\n",
    "            colors.append('#87CEEB')  # Light blue\n",
    "    \n",
    "    fig = go.Figure(data=[go.Bar(\n",
    "        x=source_data['count'],\n",
    "        y=source_data['media'],\n",
    "        orientation='h',\n",
    "        marker=dict(color=colors),\n",
    "        text=source_data['count'],\n",
    "        textposition='outside',\n",
    "        hovertemplate='<b>%{y}</b><br>Jumlah berita: %{x}<br>Persentase: %{customdata:.1f}%<extra></extra>',\n",
    "        customdata=source_data['percentage']\n",
    "    )])\n",
    "    \n",
    "    fig.update_layout(\n",
    "        xaxis_title=\"Jumlah Berita\",\n",
    "        yaxis_title=\"Media Source\",\n",
    "        width=800,\n",
    "        height=600,\n",
    "        yaxis=dict(autorange='reversed'),  # Top media di atas\n",
    "        font=dict(size=12),\n",
    "        plot_bgcolor='white',\n",
    "        paper_bgcolor='white'\n",
    "    )\n",
    "    \n",
    "    return fig\n",
    "\n",
    "def create_wordcloud(processed_data, title=\"Word Cloud - Kata Kunci Berita\"):\n",
    "    \"\"\"\n",
    "    Membuat word cloud dari kata-kata yang sering muncul\n",
    "    \"\"\"\n",
    "    word_freq = processed_data['word_frequency']\n",
    "    \n",
    "    if not word_freq:\n",
    "        print(\"❌ Tidak ada data untuk word cloud\")\n",
    "        return None\n",
    "    \n",
    "    # Create word cloud\n",
    "    wordcloud = WordCloud(\n",
    "        width=800, \n",
    "        height=400,\n",
    "        background_color='white',\n",
    "        colormap='viridis',\n",
    "        max_words=50,\n",
    "        relative_scaling=0.5,\n",
    "        min_font_size=10\n",
    "    ).generate_from_frequencies(word_freq)\n",
    "    \n",
    "    # Plot menggunakan matplotlib\n",
    "    plt.figure(figsize=(12, 6))\n",
    "    plt.imshow(wordcloud, interpolation='bilinear')\n",
    "    plt.axis('off')\n",
    "    plt.tight_layout()\n",
    "    \n",
    "    return plt.gcf()\n",
    "\n",
    "def create_daily_summary_chart(processed_data, title=\"Ringkasan Berita Harian\"):\n",
    "    \"\"\"\n",
    "    Membuat stacked bar chart ringkasan harian\n",
    "    \"\"\"\n",
    "    # Aggregate data per tanggal\n",
    "    daily_summary = processed_data['timeline_data'].groupby('tanggal')['count'].sum().reset_index()\n",
    "    daily_sentiment = processed_data['timeline_data'].pivot(index='tanggal', columns='sentimen', values='count').fillna(0)\n",
    "    \n",
    "    colors = {\n",
    "        'positif': '#2E8B57',\n",
    "        'negatif': '#DC143C',\n",
    "        'netral': '#808080'\n",
    "    }\n",
    "    \n",
    "    fig = go.Figure()\n",
    "    \n",
    "    # Add bars untuk setiap sentimen\n",
    "    for sentiment in ['positif', 'negatif', 'netral']:\n",
    "        if sentiment in daily_sentiment.columns:\n",
    "            # Only show text label if count > 0\n",
    "            text_values = [str(int(val)) if val > 0 else '' for val in daily_sentiment[sentiment]]\n",
    "            \n",
    "            fig.add_trace(go.Bar(\n",
    "                x=daily_sentiment.index,\n",
    "                y=daily_sentiment[sentiment],\n",
    "                name=sentiment.title(),\n",
    "                marker=dict(color=colors[sentiment]),\n",
    "                text=text_values,\n",
    "                textposition='inside',\n",
    "                textfont=dict(size=10, color='white'),\n",
    "                hovertemplate=f'<b>{sentiment.title()}</b><br>Tanggal: %{{x}}<br>Jumlah: %{{y}}<extra></extra>'\n",
    "            ))\n",
    "    \n",
    "    fig.update_layout(\n",
    "        xaxis_title=\"Tanggal\",\n",
    "        yaxis_title=\"Jumlah Berita\",\n",
    "        barmode='stack',\n",
    "        width=800,\n",
    "        height=500,\n",
    "        font=dict(size=12),\n",
    "        plot_bgcolor='white',\n",
    "        paper_bgcolor='white'\n",
    "    )\n",
    "    \n",
    "    return fig\n",
    "\n",
    "def display_all_visualizations(processed_data):\n",
    "    \"\"\"\n",
    "    Menampilkan semua visualisasi\n",
    "    \"\"\"\n",
    "    print(\"🎨 Membuat dan menampilkan visualisasi...\")\n",
    "    \n",
    "    # 1. Pie Chart Sentimen\n",
    "    print(\"\\n📊 1. Pie Chart - Distribusi Sentimen\")\n",
    "    fig1 = create_sentiment_pie_chart(processed_data)\n",
    "    fig1.show()\n",
    "    \n",
    "    # 2. Timeline Chart  \n",
    "    print(\"\\n📈 2. Line Chart - Timeline Sentimen Harian\")\n",
    "    fig2 = create_timeline_chart(processed_data)\n",
    "    fig2.show()\n",
    "    \n",
    "    # 3. Daily Summary Stacked Bar\n",
    "    print(\"\\n📋 3. Stacked Bar Chart - Ringkasan Harian\")\n",
    "    fig3 = create_daily_summary_chart(processed_data)\n",
    "    fig3.show()\n",
    "    \n",
    "    # 4. Media Sources Chart\n",
    "    print(\"\\n🌐 4. Bar Chart - Top Media Sources\")\n",
    "    fig4 = create_media_source_chart(processed_data)\n",
    "    fig4.show()\n",
    "    \n",
    "    # 5. Word Cloud\n",
    "    print(\"\\n☁️ 5. Word Cloud - Kata Kunci Populer\")\n",
    "    fig5 = create_wordcloud(processed_data)\n",
    "    if fig5:\n",
    "        plt.show()\n",
    "    \n",
    "    print(\"\\n✅ Semua visualisasi telah ditampilkan!\")\n",
    "    \n",
    "    return {\n",
    "        'sentiment_pie': fig1,\n",
    "        'timeline': fig2, \n",
    "        'daily_summary': fig3,\n",
    "        'media_sources': fig4,\n",
    "        'wordcloud': fig5\n",
    "    }\n",
    "\n",
    "print(\"✅ Fungsi-fungsi visualisasi telah didefinisikan!\")"
   ]
  },
  {
   "cell_type": "code",
   "execution_count": 25,
   "id": "fa57d3f2",
   "metadata": {},
   "outputs": [
    {
     "name": "stdout",
     "output_type": "stream",
     "text": [
      "🚀 Memulai pembuatan semua visualisasi...\n",
      "============================================================\n",
      "📊 Dataset Overview:\n",
      "   • Periode: 2025-09-28 - 2025-10-01\n",
      "   • Total berita: 40 artikel\n",
      "   • Rata-rata per hari: 10.0 artikel\n",
      "   • Jumlah media: 28 media\n",
      "============================================================\n",
      "🎨 Membuat dan menampilkan visualisasi...\n",
      "\n",
      "📊 1. Pie Chart - Distribusi Sentimen\n"
     ]
    },
    {
     "data": {
      "application/vnd.plotly.v1+json": {
       "config": {
        "plotlyServerURL": "https://plot.ly"
       },
       "data": [
        {
         "hole": 0.4,
         "hovertemplate": "<b>%{label}</b><br>Jumlah: %{value}<br>Persentase: %{percent}<extra></extra>",
         "labels": [
          "positif",
          "negatif",
          "netral"
         ],
         "marker": {
          "colors": [
           "#2E8B57",
           "#DC143C",
           "#808080"
          ]
         },
         "textinfo": "label+percent+value",
         "textposition": "outside",
         "type": "pie",
         "values": [
          37,
          2,
          1
         ]
        }
       ],
       "layout": {
        "font": {
         "size": 12
        },
        "height": 500,
        "paper_bgcolor": "white",
        "plot_bgcolor": "white",
        "showlegend": true,
        "template": {
         "data": {
          "bar": [
           {
            "error_x": {
             "color": "#2a3f5f"
            },
            "error_y": {
             "color": "#2a3f5f"
            },
            "marker": {
             "line": {
              "color": "#E5ECF6",
              "width": 0.5
             },
             "pattern": {
              "fillmode": "overlay",
              "size": 10,
              "solidity": 0.2
             }
            },
            "type": "bar"
           }
          ],
          "barpolar": [
           {
            "marker": {
             "line": {
              "color": "#E5ECF6",
              "width": 0.5
             },
             "pattern": {
              "fillmode": "overlay",
              "size": 10,
              "solidity": 0.2
             }
            },
            "type": "barpolar"
           }
          ],
          "carpet": [
           {
            "aaxis": {
             "endlinecolor": "#2a3f5f",
             "gridcolor": "white",
             "linecolor": "white",
             "minorgridcolor": "white",
             "startlinecolor": "#2a3f5f"
            },
            "baxis": {
             "endlinecolor": "#2a3f5f",
             "gridcolor": "white",
             "linecolor": "white",
             "minorgridcolor": "white",
             "startlinecolor": "#2a3f5f"
            },
            "type": "carpet"
           }
          ],
          "choropleth": [
           {
            "colorbar": {
             "outlinewidth": 0,
             "ticks": ""
            },
            "type": "choropleth"
           }
          ],
          "contour": [
           {
            "colorbar": {
             "outlinewidth": 0,
             "ticks": ""
            },
            "colorscale": [
             [
              0,
              "#0d0887"
             ],
             [
              0.1111111111111111,
              "#46039f"
             ],
             [
              0.2222222222222222,
              "#7201a8"
             ],
             [
              0.3333333333333333,
              "#9c179e"
             ],
             [
              0.4444444444444444,
              "#bd3786"
             ],
             [
              0.5555555555555556,
              "#d8576b"
             ],
             [
              0.6666666666666666,
              "#ed7953"
             ],
             [
              0.7777777777777778,
              "#fb9f3a"
             ],
             [
              0.8888888888888888,
              "#fdca26"
             ],
             [
              1,
              "#f0f921"
             ]
            ],
            "type": "contour"
           }
          ],
          "contourcarpet": [
           {
            "colorbar": {
             "outlinewidth": 0,
             "ticks": ""
            },
            "type": "contourcarpet"
           }
          ],
          "heatmap": [
           {
            "colorbar": {
             "outlinewidth": 0,
             "ticks": ""
            },
            "colorscale": [
             [
              0,
              "#0d0887"
             ],
             [
              0.1111111111111111,
              "#46039f"
             ],
             [
              0.2222222222222222,
              "#7201a8"
             ],
             [
              0.3333333333333333,
              "#9c179e"
             ],
             [
              0.4444444444444444,
              "#bd3786"
             ],
             [
              0.5555555555555556,
              "#d8576b"
             ],
             [
              0.6666666666666666,
              "#ed7953"
             ],
             [
              0.7777777777777778,
              "#fb9f3a"
             ],
             [
              0.8888888888888888,
              "#fdca26"
             ],
             [
              1,
              "#f0f921"
             ]
            ],
            "type": "heatmap"
           }
          ],
          "heatmapgl": [
           {
            "colorbar": {
             "outlinewidth": 0,
             "ticks": ""
            },
            "colorscale": [
             [
              0,
              "#0d0887"
             ],
             [
              0.1111111111111111,
              "#46039f"
             ],
             [
              0.2222222222222222,
              "#7201a8"
             ],
             [
              0.3333333333333333,
              "#9c179e"
             ],
             [
              0.4444444444444444,
              "#bd3786"
             ],
             [
              0.5555555555555556,
              "#d8576b"
             ],
             [
              0.6666666666666666,
              "#ed7953"
             ],
             [
              0.7777777777777778,
              "#fb9f3a"
             ],
             [
              0.8888888888888888,
              "#fdca26"
             ],
             [
              1,
              "#f0f921"
             ]
            ],
            "type": "heatmapgl"
           }
          ],
          "histogram": [
           {
            "marker": {
             "pattern": {
              "fillmode": "overlay",
              "size": 10,
              "solidity": 0.2
             }
            },
            "type": "histogram"
           }
          ],
          "histogram2d": [
           {
            "colorbar": {
             "outlinewidth": 0,
             "ticks": ""
            },
            "colorscale": [
             [
              0,
              "#0d0887"
             ],
             [
              0.1111111111111111,
              "#46039f"
             ],
             [
              0.2222222222222222,
              "#7201a8"
             ],
             [
              0.3333333333333333,
              "#9c179e"
             ],
             [
              0.4444444444444444,
              "#bd3786"
             ],
             [
              0.5555555555555556,
              "#d8576b"
             ],
             [
              0.6666666666666666,
              "#ed7953"
             ],
             [
              0.7777777777777778,
              "#fb9f3a"
             ],
             [
              0.8888888888888888,
              "#fdca26"
             ],
             [
              1,
              "#f0f921"
             ]
            ],
            "type": "histogram2d"
           }
          ],
          "histogram2dcontour": [
           {
            "colorbar": {
             "outlinewidth": 0,
             "ticks": ""
            },
            "colorscale": [
             [
              0,
              "#0d0887"
             ],
             [
              0.1111111111111111,
              "#46039f"
             ],
             [
              0.2222222222222222,
              "#7201a8"
             ],
             [
              0.3333333333333333,
              "#9c179e"
             ],
             [
              0.4444444444444444,
              "#bd3786"
             ],
             [
              0.5555555555555556,
              "#d8576b"
             ],
             [
              0.6666666666666666,
              "#ed7953"
             ],
             [
              0.7777777777777778,
              "#fb9f3a"
             ],
             [
              0.8888888888888888,
              "#fdca26"
             ],
             [
              1,
              "#f0f921"
             ]
            ],
            "type": "histogram2dcontour"
           }
          ],
          "mesh3d": [
           {
            "colorbar": {
             "outlinewidth": 0,
             "ticks": ""
            },
            "type": "mesh3d"
           }
          ],
          "parcoords": [
           {
            "line": {
             "colorbar": {
              "outlinewidth": 0,
              "ticks": ""
             }
            },
            "type": "parcoords"
           }
          ],
          "pie": [
           {
            "automargin": true,
            "type": "pie"
           }
          ],
          "scatter": [
           {
            "fillpattern": {
             "fillmode": "overlay",
             "size": 10,
             "solidity": 0.2
            },
            "type": "scatter"
           }
          ],
          "scatter3d": [
           {
            "line": {
             "colorbar": {
              "outlinewidth": 0,
              "ticks": ""
             }
            },
            "marker": {
             "colorbar": {
              "outlinewidth": 0,
              "ticks": ""
             }
            },
            "type": "scatter3d"
           }
          ],
          "scattercarpet": [
           {
            "marker": {
             "colorbar": {
              "outlinewidth": 0,
              "ticks": ""
             }
            },
            "type": "scattercarpet"
           }
          ],
          "scattergeo": [
           {
            "marker": {
             "colorbar": {
              "outlinewidth": 0,
              "ticks": ""
             }
            },
            "type": "scattergeo"
           }
          ],
          "scattergl": [
           {
            "marker": {
             "colorbar": {
              "outlinewidth": 0,
              "ticks": ""
             }
            },
            "type": "scattergl"
           }
          ],
          "scattermapbox": [
           {
            "marker": {
             "colorbar": {
              "outlinewidth": 0,
              "ticks": ""
             }
            },
            "type": "scattermapbox"
           }
          ],
          "scatterpolar": [
           {
            "marker": {
             "colorbar": {
              "outlinewidth": 0,
              "ticks": ""
             }
            },
            "type": "scatterpolar"
           }
          ],
          "scatterpolargl": [
           {
            "marker": {
             "colorbar": {
              "outlinewidth": 0,
              "ticks": ""
             }
            },
            "type": "scatterpolargl"
           }
          ],
          "scatterternary": [
           {
            "marker": {
             "colorbar": {
              "outlinewidth": 0,
              "ticks": ""
             }
            },
            "type": "scatterternary"
           }
          ],
          "surface": [
           {
            "colorbar": {
             "outlinewidth": 0,
             "ticks": ""
            },
            "colorscale": [
             [
              0,
              "#0d0887"
             ],
             [
              0.1111111111111111,
              "#46039f"
             ],
             [
              0.2222222222222222,
              "#7201a8"
             ],
             [
              0.3333333333333333,
              "#9c179e"
             ],
             [
              0.4444444444444444,
              "#bd3786"
             ],
             [
              0.5555555555555556,
              "#d8576b"
             ],
             [
              0.6666666666666666,
              "#ed7953"
             ],
             [
              0.7777777777777778,
              "#fb9f3a"
             ],
             [
              0.8888888888888888,
              "#fdca26"
             ],
             [
              1,
              "#f0f921"
             ]
            ],
            "type": "surface"
           }
          ],
          "table": [
           {
            "cells": {
             "fill": {
              "color": "#EBF0F8"
             },
             "line": {
              "color": "white"
             }
            },
            "header": {
             "fill": {
              "color": "#C8D4E3"
             },
             "line": {
              "color": "white"
             }
            },
            "type": "table"
           }
          ]
         },
         "layout": {
          "annotationdefaults": {
           "arrowcolor": "#2a3f5f",
           "arrowhead": 0,
           "arrowwidth": 1
          },
          "autotypenumbers": "strict",
          "coloraxis": {
           "colorbar": {
            "outlinewidth": 0,
            "ticks": ""
           }
          },
          "colorscale": {
           "diverging": [
            [
             0,
             "#8e0152"
            ],
            [
             0.1,
             "#c51b7d"
            ],
            [
             0.2,
             "#de77ae"
            ],
            [
             0.3,
             "#f1b6da"
            ],
            [
             0.4,
             "#fde0ef"
            ],
            [
             0.5,
             "#f7f7f7"
            ],
            [
             0.6,
             "#e6f5d0"
            ],
            [
             0.7,
             "#b8e186"
            ],
            [
             0.8,
             "#7fbc41"
            ],
            [
             0.9,
             "#4d9221"
            ],
            [
             1,
             "#276419"
            ]
           ],
           "sequential": [
            [
             0,
             "#0d0887"
            ],
            [
             0.1111111111111111,
             "#46039f"
            ],
            [
             0.2222222222222222,
             "#7201a8"
            ],
            [
             0.3333333333333333,
             "#9c179e"
            ],
            [
             0.4444444444444444,
             "#bd3786"
            ],
            [
             0.5555555555555556,
             "#d8576b"
            ],
            [
             0.6666666666666666,
             "#ed7953"
            ],
            [
             0.7777777777777778,
             "#fb9f3a"
            ],
            [
             0.8888888888888888,
             "#fdca26"
            ],
            [
             1,
             "#f0f921"
            ]
           ],
           "sequentialminus": [
            [
             0,
             "#0d0887"
            ],
            [
             0.1111111111111111,
             "#46039f"
            ],
            [
             0.2222222222222222,
             "#7201a8"
            ],
            [
             0.3333333333333333,
             "#9c179e"
            ],
            [
             0.4444444444444444,
             "#bd3786"
            ],
            [
             0.5555555555555556,
             "#d8576b"
            ],
            [
             0.6666666666666666,
             "#ed7953"
            ],
            [
             0.7777777777777778,
             "#fb9f3a"
            ],
            [
             0.8888888888888888,
             "#fdca26"
            ],
            [
             1,
             "#f0f921"
            ]
           ]
          },
          "colorway": [
           "#636efa",
           "#EF553B",
           "#00cc96",
           "#ab63fa",
           "#FFA15A",
           "#19d3f3",
           "#FF6692",
           "#B6E880",
           "#FF97FF",
           "#FECB52"
          ],
          "font": {
           "color": "#2a3f5f"
          },
          "geo": {
           "bgcolor": "white",
           "lakecolor": "white",
           "landcolor": "#E5ECF6",
           "showlakes": true,
           "showland": true,
           "subunitcolor": "white"
          },
          "hoverlabel": {
           "align": "left"
          },
          "hovermode": "closest",
          "mapbox": {
           "style": "light"
          },
          "paper_bgcolor": "white",
          "plot_bgcolor": "#E5ECF6",
          "polar": {
           "angularaxis": {
            "gridcolor": "white",
            "linecolor": "white",
            "ticks": ""
           },
           "bgcolor": "#E5ECF6",
           "radialaxis": {
            "gridcolor": "white",
            "linecolor": "white",
            "ticks": ""
           }
          },
          "scene": {
           "xaxis": {
            "backgroundcolor": "#E5ECF6",
            "gridcolor": "white",
            "gridwidth": 2,
            "linecolor": "white",
            "showbackground": true,
            "ticks": "",
            "zerolinecolor": "white"
           },
           "yaxis": {
            "backgroundcolor": "#E5ECF6",
            "gridcolor": "white",
            "gridwidth": 2,
            "linecolor": "white",
            "showbackground": true,
            "ticks": "",
            "zerolinecolor": "white"
           },
           "zaxis": {
            "backgroundcolor": "#E5ECF6",
            "gridcolor": "white",
            "gridwidth": 2,
            "linecolor": "white",
            "showbackground": true,
            "ticks": "",
            "zerolinecolor": "white"
           }
          },
          "shapedefaults": {
           "line": {
            "color": "#2a3f5f"
           }
          },
          "ternary": {
           "aaxis": {
            "gridcolor": "white",
            "linecolor": "white",
            "ticks": ""
           },
           "baxis": {
            "gridcolor": "white",
            "linecolor": "white",
            "ticks": ""
           },
           "bgcolor": "#E5ECF6",
           "caxis": {
            "gridcolor": "white",
            "linecolor": "white",
            "ticks": ""
           }
          },
          "title": {
           "x": 0.05
          },
          "xaxis": {
           "automargin": true,
           "gridcolor": "white",
           "linecolor": "white",
           "ticks": "",
           "title": {
            "standoff": 15
           },
           "zerolinecolor": "white",
           "zerolinewidth": 2
          },
          "yaxis": {
           "automargin": true,
           "gridcolor": "white",
           "linecolor": "white",
           "ticks": "",
           "title": {
            "standoff": 15
           },
           "zerolinecolor": "white",
           "zerolinewidth": 2
          }
         }
        },
        "width": 600
       }
      }
     },
     "metadata": {},
     "output_type": "display_data"
    },
    {
     "name": "stdout",
     "output_type": "stream",
     "text": [
      "\n",
      "📈 2. Line Chart - Timeline Sentimen Harian\n"
     ]
    },
    {
     "data": {
      "application/vnd.plotly.v1+json": {
       "config": {
        "plotlyServerURL": "https://plot.ly"
       },
       "data": [
        {
         "hovertemplate": "<b>Positif</b><br>Tanggal: %{x}<br>Jumlah: %{y}<extra></extra>",
         "line": {
          "color": "#2E8B57",
          "width": 3
         },
         "marker": {
          "size": 8
         },
         "mode": "lines+markers+text",
         "name": "Positif",
         "text": [
          4,
          11,
          12,
          10
         ],
         "textfont": {
          "color": "#2E8B57",
          "size": 10
         },
         "textposition": "top center",
         "type": "scatter",
         "x": [
          "2025-09-28",
          "2025-09-29",
          "2025-09-30",
          "2025-10-01"
         ],
         "y": [
          4,
          11,
          12,
          10
         ]
        },
        {
         "hovertemplate": "<b>Negatif</b><br>Tanggal: %{x}<br>Jumlah: %{y}<extra></extra>",
         "line": {
          "color": "#DC143C",
          "width": 3
         },
         "marker": {
          "size": 8
         },
         "mode": "lines+markers+text",
         "name": "Negatif",
         "text": [
          0,
          0,
          2,
          0
         ],
         "textfont": {
          "color": "#DC143C",
          "size": 10
         },
         "textposition": "top center",
         "type": "scatter",
         "x": [
          "2025-09-28",
          "2025-09-29",
          "2025-09-30",
          "2025-10-01"
         ],
         "y": [
          0,
          0,
          2,
          0
         ]
        },
        {
         "hovertemplate": "<b>Netral</b><br>Tanggal: %{x}<br>Jumlah: %{y}<extra></extra>",
         "line": {
          "color": "#808080",
          "width": 3
         },
         "marker": {
          "size": 8
         },
         "mode": "lines+markers+text",
         "name": "Netral",
         "text": [
          0,
          1,
          0,
          0
         ],
         "textfont": {
          "color": "#808080",
          "size": 10
         },
         "textposition": "top center",
         "type": "scatter",
         "x": [
          "2025-09-28",
          "2025-09-29",
          "2025-09-30",
          "2025-10-01"
         ],
         "y": [
          0,
          1,
          0,
          0
         ]
        }
       ],
       "layout": {
        "font": {
         "size": 12
        },
        "height": 500,
        "hovermode": "x unified",
        "paper_bgcolor": "white",
        "plot_bgcolor": "white",
        "template": {
         "data": {
          "bar": [
           {
            "error_x": {
             "color": "#2a3f5f"
            },
            "error_y": {
             "color": "#2a3f5f"
            },
            "marker": {
             "line": {
              "color": "#E5ECF6",
              "width": 0.5
             },
             "pattern": {
              "fillmode": "overlay",
              "size": 10,
              "solidity": 0.2
             }
            },
            "type": "bar"
           }
          ],
          "barpolar": [
           {
            "marker": {
             "line": {
              "color": "#E5ECF6",
              "width": 0.5
             },
             "pattern": {
              "fillmode": "overlay",
              "size": 10,
              "solidity": 0.2
             }
            },
            "type": "barpolar"
           }
          ],
          "carpet": [
           {
            "aaxis": {
             "endlinecolor": "#2a3f5f",
             "gridcolor": "white",
             "linecolor": "white",
             "minorgridcolor": "white",
             "startlinecolor": "#2a3f5f"
            },
            "baxis": {
             "endlinecolor": "#2a3f5f",
             "gridcolor": "white",
             "linecolor": "white",
             "minorgridcolor": "white",
             "startlinecolor": "#2a3f5f"
            },
            "type": "carpet"
           }
          ],
          "choropleth": [
           {
            "colorbar": {
             "outlinewidth": 0,
             "ticks": ""
            },
            "type": "choropleth"
           }
          ],
          "contour": [
           {
            "colorbar": {
             "outlinewidth": 0,
             "ticks": ""
            },
            "colorscale": [
             [
              0,
              "#0d0887"
             ],
             [
              0.1111111111111111,
              "#46039f"
             ],
             [
              0.2222222222222222,
              "#7201a8"
             ],
             [
              0.3333333333333333,
              "#9c179e"
             ],
             [
              0.4444444444444444,
              "#bd3786"
             ],
             [
              0.5555555555555556,
              "#d8576b"
             ],
             [
              0.6666666666666666,
              "#ed7953"
             ],
             [
              0.7777777777777778,
              "#fb9f3a"
             ],
             [
              0.8888888888888888,
              "#fdca26"
             ],
             [
              1,
              "#f0f921"
             ]
            ],
            "type": "contour"
           }
          ],
          "contourcarpet": [
           {
            "colorbar": {
             "outlinewidth": 0,
             "ticks": ""
            },
            "type": "contourcarpet"
           }
          ],
          "heatmap": [
           {
            "colorbar": {
             "outlinewidth": 0,
             "ticks": ""
            },
            "colorscale": [
             [
              0,
              "#0d0887"
             ],
             [
              0.1111111111111111,
              "#46039f"
             ],
             [
              0.2222222222222222,
              "#7201a8"
             ],
             [
              0.3333333333333333,
              "#9c179e"
             ],
             [
              0.4444444444444444,
              "#bd3786"
             ],
             [
              0.5555555555555556,
              "#d8576b"
             ],
             [
              0.6666666666666666,
              "#ed7953"
             ],
             [
              0.7777777777777778,
              "#fb9f3a"
             ],
             [
              0.8888888888888888,
              "#fdca26"
             ],
             [
              1,
              "#f0f921"
             ]
            ],
            "type": "heatmap"
           }
          ],
          "heatmapgl": [
           {
            "colorbar": {
             "outlinewidth": 0,
             "ticks": ""
            },
            "colorscale": [
             [
              0,
              "#0d0887"
             ],
             [
              0.1111111111111111,
              "#46039f"
             ],
             [
              0.2222222222222222,
              "#7201a8"
             ],
             [
              0.3333333333333333,
              "#9c179e"
             ],
             [
              0.4444444444444444,
              "#bd3786"
             ],
             [
              0.5555555555555556,
              "#d8576b"
             ],
             [
              0.6666666666666666,
              "#ed7953"
             ],
             [
              0.7777777777777778,
              "#fb9f3a"
             ],
             [
              0.8888888888888888,
              "#fdca26"
             ],
             [
              1,
              "#f0f921"
             ]
            ],
            "type": "heatmapgl"
           }
          ],
          "histogram": [
           {
            "marker": {
             "pattern": {
              "fillmode": "overlay",
              "size": 10,
              "solidity": 0.2
             }
            },
            "type": "histogram"
           }
          ],
          "histogram2d": [
           {
            "colorbar": {
             "outlinewidth": 0,
             "ticks": ""
            },
            "colorscale": [
             [
              0,
              "#0d0887"
             ],
             [
              0.1111111111111111,
              "#46039f"
             ],
             [
              0.2222222222222222,
              "#7201a8"
             ],
             [
              0.3333333333333333,
              "#9c179e"
             ],
             [
              0.4444444444444444,
              "#bd3786"
             ],
             [
              0.5555555555555556,
              "#d8576b"
             ],
             [
              0.6666666666666666,
              "#ed7953"
             ],
             [
              0.7777777777777778,
              "#fb9f3a"
             ],
             [
              0.8888888888888888,
              "#fdca26"
             ],
             [
              1,
              "#f0f921"
             ]
            ],
            "type": "histogram2d"
           }
          ],
          "histogram2dcontour": [
           {
            "colorbar": {
             "outlinewidth": 0,
             "ticks": ""
            },
            "colorscale": [
             [
              0,
              "#0d0887"
             ],
             [
              0.1111111111111111,
              "#46039f"
             ],
             [
              0.2222222222222222,
              "#7201a8"
             ],
             [
              0.3333333333333333,
              "#9c179e"
             ],
             [
              0.4444444444444444,
              "#bd3786"
             ],
             [
              0.5555555555555556,
              "#d8576b"
             ],
             [
              0.6666666666666666,
              "#ed7953"
             ],
             [
              0.7777777777777778,
              "#fb9f3a"
             ],
             [
              0.8888888888888888,
              "#fdca26"
             ],
             [
              1,
              "#f0f921"
             ]
            ],
            "type": "histogram2dcontour"
           }
          ],
          "mesh3d": [
           {
            "colorbar": {
             "outlinewidth": 0,
             "ticks": ""
            },
            "type": "mesh3d"
           }
          ],
          "parcoords": [
           {
            "line": {
             "colorbar": {
              "outlinewidth": 0,
              "ticks": ""
             }
            },
            "type": "parcoords"
           }
          ],
          "pie": [
           {
            "automargin": true,
            "type": "pie"
           }
          ],
          "scatter": [
           {
            "fillpattern": {
             "fillmode": "overlay",
             "size": 10,
             "solidity": 0.2
            },
            "type": "scatter"
           }
          ],
          "scatter3d": [
           {
            "line": {
             "colorbar": {
              "outlinewidth": 0,
              "ticks": ""
             }
            },
            "marker": {
             "colorbar": {
              "outlinewidth": 0,
              "ticks": ""
             }
            },
            "type": "scatter3d"
           }
          ],
          "scattercarpet": [
           {
            "marker": {
             "colorbar": {
              "outlinewidth": 0,
              "ticks": ""
             }
            },
            "type": "scattercarpet"
           }
          ],
          "scattergeo": [
           {
            "marker": {
             "colorbar": {
              "outlinewidth": 0,
              "ticks": ""
             }
            },
            "type": "scattergeo"
           }
          ],
          "scattergl": [
           {
            "marker": {
             "colorbar": {
              "outlinewidth": 0,
              "ticks": ""
             }
            },
            "type": "scattergl"
           }
          ],
          "scattermapbox": [
           {
            "marker": {
             "colorbar": {
              "outlinewidth": 0,
              "ticks": ""
             }
            },
            "type": "scattermapbox"
           }
          ],
          "scatterpolar": [
           {
            "marker": {
             "colorbar": {
              "outlinewidth": 0,
              "ticks": ""
             }
            },
            "type": "scatterpolar"
           }
          ],
          "scatterpolargl": [
           {
            "marker": {
             "colorbar": {
              "outlinewidth": 0,
              "ticks": ""
             }
            },
            "type": "scatterpolargl"
           }
          ],
          "scatterternary": [
           {
            "marker": {
             "colorbar": {
              "outlinewidth": 0,
              "ticks": ""
             }
            },
            "type": "scatterternary"
           }
          ],
          "surface": [
           {
            "colorbar": {
             "outlinewidth": 0,
             "ticks": ""
            },
            "colorscale": [
             [
              0,
              "#0d0887"
             ],
             [
              0.1111111111111111,
              "#46039f"
             ],
             [
              0.2222222222222222,
              "#7201a8"
             ],
             [
              0.3333333333333333,
              "#9c179e"
             ],
             [
              0.4444444444444444,
              "#bd3786"
             ],
             [
              0.5555555555555556,
              "#d8576b"
             ],
             [
              0.6666666666666666,
              "#ed7953"
             ],
             [
              0.7777777777777778,
              "#fb9f3a"
             ],
             [
              0.8888888888888888,
              "#fdca26"
             ],
             [
              1,
              "#f0f921"
             ]
            ],
            "type": "surface"
           }
          ],
          "table": [
           {
            "cells": {
             "fill": {
              "color": "#EBF0F8"
             },
             "line": {
              "color": "white"
             }
            },
            "header": {
             "fill": {
              "color": "#C8D4E3"
             },
             "line": {
              "color": "white"
             }
            },
            "type": "table"
           }
          ]
         },
         "layout": {
          "annotationdefaults": {
           "arrowcolor": "#2a3f5f",
           "arrowhead": 0,
           "arrowwidth": 1
          },
          "autotypenumbers": "strict",
          "coloraxis": {
           "colorbar": {
            "outlinewidth": 0,
            "ticks": ""
           }
          },
          "colorscale": {
           "diverging": [
            [
             0,
             "#8e0152"
            ],
            [
             0.1,
             "#c51b7d"
            ],
            [
             0.2,
             "#de77ae"
            ],
            [
             0.3,
             "#f1b6da"
            ],
            [
             0.4,
             "#fde0ef"
            ],
            [
             0.5,
             "#f7f7f7"
            ],
            [
             0.6,
             "#e6f5d0"
            ],
            [
             0.7,
             "#b8e186"
            ],
            [
             0.8,
             "#7fbc41"
            ],
            [
             0.9,
             "#4d9221"
            ],
            [
             1,
             "#276419"
            ]
           ],
           "sequential": [
            [
             0,
             "#0d0887"
            ],
            [
             0.1111111111111111,
             "#46039f"
            ],
            [
             0.2222222222222222,
             "#7201a8"
            ],
            [
             0.3333333333333333,
             "#9c179e"
            ],
            [
             0.4444444444444444,
             "#bd3786"
            ],
            [
             0.5555555555555556,
             "#d8576b"
            ],
            [
             0.6666666666666666,
             "#ed7953"
            ],
            [
             0.7777777777777778,
             "#fb9f3a"
            ],
            [
             0.8888888888888888,
             "#fdca26"
            ],
            [
             1,
             "#f0f921"
            ]
           ],
           "sequentialminus": [
            [
             0,
             "#0d0887"
            ],
            [
             0.1111111111111111,
             "#46039f"
            ],
            [
             0.2222222222222222,
             "#7201a8"
            ],
            [
             0.3333333333333333,
             "#9c179e"
            ],
            [
             0.4444444444444444,
             "#bd3786"
            ],
            [
             0.5555555555555556,
             "#d8576b"
            ],
            [
             0.6666666666666666,
             "#ed7953"
            ],
            [
             0.7777777777777778,
             "#fb9f3a"
            ],
            [
             0.8888888888888888,
             "#fdca26"
            ],
            [
             1,
             "#f0f921"
            ]
           ]
          },
          "colorway": [
           "#636efa",
           "#EF553B",
           "#00cc96",
           "#ab63fa",
           "#FFA15A",
           "#19d3f3",
           "#FF6692",
           "#B6E880",
           "#FF97FF",
           "#FECB52"
          ],
          "font": {
           "color": "#2a3f5f"
          },
          "geo": {
           "bgcolor": "white",
           "lakecolor": "white",
           "landcolor": "#E5ECF6",
           "showlakes": true,
           "showland": true,
           "subunitcolor": "white"
          },
          "hoverlabel": {
           "align": "left"
          },
          "hovermode": "closest",
          "mapbox": {
           "style": "light"
          },
          "paper_bgcolor": "white",
          "plot_bgcolor": "#E5ECF6",
          "polar": {
           "angularaxis": {
            "gridcolor": "white",
            "linecolor": "white",
            "ticks": ""
           },
           "bgcolor": "#E5ECF6",
           "radialaxis": {
            "gridcolor": "white",
            "linecolor": "white",
            "ticks": ""
           }
          },
          "scene": {
           "xaxis": {
            "backgroundcolor": "#E5ECF6",
            "gridcolor": "white",
            "gridwidth": 2,
            "linecolor": "white",
            "showbackground": true,
            "ticks": "",
            "zerolinecolor": "white"
           },
           "yaxis": {
            "backgroundcolor": "#E5ECF6",
            "gridcolor": "white",
            "gridwidth": 2,
            "linecolor": "white",
            "showbackground": true,
            "ticks": "",
            "zerolinecolor": "white"
           },
           "zaxis": {
            "backgroundcolor": "#E5ECF6",
            "gridcolor": "white",
            "gridwidth": 2,
            "linecolor": "white",
            "showbackground": true,
            "ticks": "",
            "zerolinecolor": "white"
           }
          },
          "shapedefaults": {
           "line": {
            "color": "#2a3f5f"
           }
          },
          "ternary": {
           "aaxis": {
            "gridcolor": "white",
            "linecolor": "white",
            "ticks": ""
           },
           "baxis": {
            "gridcolor": "white",
            "linecolor": "white",
            "ticks": ""
           },
           "bgcolor": "#E5ECF6",
           "caxis": {
            "gridcolor": "white",
            "linecolor": "white",
            "ticks": ""
           }
          },
          "title": {
           "x": 0.05
          },
          "xaxis": {
           "automargin": true,
           "gridcolor": "white",
           "linecolor": "white",
           "ticks": "",
           "title": {
            "standoff": 15
           },
           "zerolinecolor": "white",
           "zerolinewidth": 2
          },
          "yaxis": {
           "automargin": true,
           "gridcolor": "white",
           "linecolor": "white",
           "ticks": "",
           "title": {
            "standoff": 15
           },
           "zerolinecolor": "white",
           "zerolinewidth": 2
          }
         }
        },
        "width": 800,
        "xaxis": {
         "title": {
          "text": "Tanggal"
         }
        },
        "yaxis": {
         "title": {
          "text": "Jumlah Berita"
         }
        }
       }
      }
     },
     "metadata": {},
     "output_type": "display_data"
    },
    {
     "name": "stdout",
     "output_type": "stream",
     "text": [
      "\n",
      "📋 3. Stacked Bar Chart - Ringkasan Harian\n"
     ]
    },
    {
     "data": {
      "application/vnd.plotly.v1+json": {
       "config": {
        "plotlyServerURL": "https://plot.ly"
       },
       "data": [
        {
         "hovertemplate": "<b>Positif</b><br>Tanggal: %{x}<br>Jumlah: %{y}<extra></extra>",
         "marker": {
          "color": "#2E8B57"
         },
         "name": "Positif",
         "text": [
          "4",
          "11",
          "12",
          "10"
         ],
         "textfont": {
          "color": "white",
          "size": 10
         },
         "textposition": "inside",
         "type": "bar",
         "x": [
          "2025-09-28",
          "2025-09-29",
          "2025-09-30",
          "2025-10-01"
         ],
         "y": [
          4,
          11,
          12,
          10
         ]
        },
        {
         "hovertemplate": "<b>Negatif</b><br>Tanggal: %{x}<br>Jumlah: %{y}<extra></extra>",
         "marker": {
          "color": "#DC143C"
         },
         "name": "Negatif",
         "text": [
          "",
          "",
          "2",
          ""
         ],
         "textfont": {
          "color": "white",
          "size": 10
         },
         "textposition": "inside",
         "type": "bar",
         "x": [
          "2025-09-28",
          "2025-09-29",
          "2025-09-30",
          "2025-10-01"
         ],
         "y": [
          0,
          0,
          2,
          0
         ]
        },
        {
         "hovertemplate": "<b>Netral</b><br>Tanggal: %{x}<br>Jumlah: %{y}<extra></extra>",
         "marker": {
          "color": "#808080"
         },
         "name": "Netral",
         "text": [
          "",
          "1",
          "",
          ""
         ],
         "textfont": {
          "color": "white",
          "size": 10
         },
         "textposition": "inside",
         "type": "bar",
         "x": [
          "2025-09-28",
          "2025-09-29",
          "2025-09-30",
          "2025-10-01"
         ],
         "y": [
          0,
          1,
          0,
          0
         ]
        }
       ],
       "layout": {
        "barmode": "stack",
        "font": {
         "size": 12
        },
        "height": 500,
        "paper_bgcolor": "white",
        "plot_bgcolor": "white",
        "template": {
         "data": {
          "bar": [
           {
            "error_x": {
             "color": "#2a3f5f"
            },
            "error_y": {
             "color": "#2a3f5f"
            },
            "marker": {
             "line": {
              "color": "#E5ECF6",
              "width": 0.5
             },
             "pattern": {
              "fillmode": "overlay",
              "size": 10,
              "solidity": 0.2
             }
            },
            "type": "bar"
           }
          ],
          "barpolar": [
           {
            "marker": {
             "line": {
              "color": "#E5ECF6",
              "width": 0.5
             },
             "pattern": {
              "fillmode": "overlay",
              "size": 10,
              "solidity": 0.2
             }
            },
            "type": "barpolar"
           }
          ],
          "carpet": [
           {
            "aaxis": {
             "endlinecolor": "#2a3f5f",
             "gridcolor": "white",
             "linecolor": "white",
             "minorgridcolor": "white",
             "startlinecolor": "#2a3f5f"
            },
            "baxis": {
             "endlinecolor": "#2a3f5f",
             "gridcolor": "white",
             "linecolor": "white",
             "minorgridcolor": "white",
             "startlinecolor": "#2a3f5f"
            },
            "type": "carpet"
           }
          ],
          "choropleth": [
           {
            "colorbar": {
             "outlinewidth": 0,
             "ticks": ""
            },
            "type": "choropleth"
           }
          ],
          "contour": [
           {
            "colorbar": {
             "outlinewidth": 0,
             "ticks": ""
            },
            "colorscale": [
             [
              0,
              "#0d0887"
             ],
             [
              0.1111111111111111,
              "#46039f"
             ],
             [
              0.2222222222222222,
              "#7201a8"
             ],
             [
              0.3333333333333333,
              "#9c179e"
             ],
             [
              0.4444444444444444,
              "#bd3786"
             ],
             [
              0.5555555555555556,
              "#d8576b"
             ],
             [
              0.6666666666666666,
              "#ed7953"
             ],
             [
              0.7777777777777778,
              "#fb9f3a"
             ],
             [
              0.8888888888888888,
              "#fdca26"
             ],
             [
              1,
              "#f0f921"
             ]
            ],
            "type": "contour"
           }
          ],
          "contourcarpet": [
           {
            "colorbar": {
             "outlinewidth": 0,
             "ticks": ""
            },
            "type": "contourcarpet"
           }
          ],
          "heatmap": [
           {
            "colorbar": {
             "outlinewidth": 0,
             "ticks": ""
            },
            "colorscale": [
             [
              0,
              "#0d0887"
             ],
             [
              0.1111111111111111,
              "#46039f"
             ],
             [
              0.2222222222222222,
              "#7201a8"
             ],
             [
              0.3333333333333333,
              "#9c179e"
             ],
             [
              0.4444444444444444,
              "#bd3786"
             ],
             [
              0.5555555555555556,
              "#d8576b"
             ],
             [
              0.6666666666666666,
              "#ed7953"
             ],
             [
              0.7777777777777778,
              "#fb9f3a"
             ],
             [
              0.8888888888888888,
              "#fdca26"
             ],
             [
              1,
              "#f0f921"
             ]
            ],
            "type": "heatmap"
           }
          ],
          "heatmapgl": [
           {
            "colorbar": {
             "outlinewidth": 0,
             "ticks": ""
            },
            "colorscale": [
             [
              0,
              "#0d0887"
             ],
             [
              0.1111111111111111,
              "#46039f"
             ],
             [
              0.2222222222222222,
              "#7201a8"
             ],
             [
              0.3333333333333333,
              "#9c179e"
             ],
             [
              0.4444444444444444,
              "#bd3786"
             ],
             [
              0.5555555555555556,
              "#d8576b"
             ],
             [
              0.6666666666666666,
              "#ed7953"
             ],
             [
              0.7777777777777778,
              "#fb9f3a"
             ],
             [
              0.8888888888888888,
              "#fdca26"
             ],
             [
              1,
              "#f0f921"
             ]
            ],
            "type": "heatmapgl"
           }
          ],
          "histogram": [
           {
            "marker": {
             "pattern": {
              "fillmode": "overlay",
              "size": 10,
              "solidity": 0.2
             }
            },
            "type": "histogram"
           }
          ],
          "histogram2d": [
           {
            "colorbar": {
             "outlinewidth": 0,
             "ticks": ""
            },
            "colorscale": [
             [
              0,
              "#0d0887"
             ],
             [
              0.1111111111111111,
              "#46039f"
             ],
             [
              0.2222222222222222,
              "#7201a8"
             ],
             [
              0.3333333333333333,
              "#9c179e"
             ],
             [
              0.4444444444444444,
              "#bd3786"
             ],
             [
              0.5555555555555556,
              "#d8576b"
             ],
             [
              0.6666666666666666,
              "#ed7953"
             ],
             [
              0.7777777777777778,
              "#fb9f3a"
             ],
             [
              0.8888888888888888,
              "#fdca26"
             ],
             [
              1,
              "#f0f921"
             ]
            ],
            "type": "histogram2d"
           }
          ],
          "histogram2dcontour": [
           {
            "colorbar": {
             "outlinewidth": 0,
             "ticks": ""
            },
            "colorscale": [
             [
              0,
              "#0d0887"
             ],
             [
              0.1111111111111111,
              "#46039f"
             ],
             [
              0.2222222222222222,
              "#7201a8"
             ],
             [
              0.3333333333333333,
              "#9c179e"
             ],
             [
              0.4444444444444444,
              "#bd3786"
             ],
             [
              0.5555555555555556,
              "#d8576b"
             ],
             [
              0.6666666666666666,
              "#ed7953"
             ],
             [
              0.7777777777777778,
              "#fb9f3a"
             ],
             [
              0.8888888888888888,
              "#fdca26"
             ],
             [
              1,
              "#f0f921"
             ]
            ],
            "type": "histogram2dcontour"
           }
          ],
          "mesh3d": [
           {
            "colorbar": {
             "outlinewidth": 0,
             "ticks": ""
            },
            "type": "mesh3d"
           }
          ],
          "parcoords": [
           {
            "line": {
             "colorbar": {
              "outlinewidth": 0,
              "ticks": ""
             }
            },
            "type": "parcoords"
           }
          ],
          "pie": [
           {
            "automargin": true,
            "type": "pie"
           }
          ],
          "scatter": [
           {
            "fillpattern": {
             "fillmode": "overlay",
             "size": 10,
             "solidity": 0.2
            },
            "type": "scatter"
           }
          ],
          "scatter3d": [
           {
            "line": {
             "colorbar": {
              "outlinewidth": 0,
              "ticks": ""
             }
            },
            "marker": {
             "colorbar": {
              "outlinewidth": 0,
              "ticks": ""
             }
            },
            "type": "scatter3d"
           }
          ],
          "scattercarpet": [
           {
            "marker": {
             "colorbar": {
              "outlinewidth": 0,
              "ticks": ""
             }
            },
            "type": "scattercarpet"
           }
          ],
          "scattergeo": [
           {
            "marker": {
             "colorbar": {
              "outlinewidth": 0,
              "ticks": ""
             }
            },
            "type": "scattergeo"
           }
          ],
          "scattergl": [
           {
            "marker": {
             "colorbar": {
              "outlinewidth": 0,
              "ticks": ""
             }
            },
            "type": "scattergl"
           }
          ],
          "scattermapbox": [
           {
            "marker": {
             "colorbar": {
              "outlinewidth": 0,
              "ticks": ""
             }
            },
            "type": "scattermapbox"
           }
          ],
          "scatterpolar": [
           {
            "marker": {
             "colorbar": {
              "outlinewidth": 0,
              "ticks": ""
             }
            },
            "type": "scatterpolar"
           }
          ],
          "scatterpolargl": [
           {
            "marker": {
             "colorbar": {
              "outlinewidth": 0,
              "ticks": ""
             }
            },
            "type": "scatterpolargl"
           }
          ],
          "scatterternary": [
           {
            "marker": {
             "colorbar": {
              "outlinewidth": 0,
              "ticks": ""
             }
            },
            "type": "scatterternary"
           }
          ],
          "surface": [
           {
            "colorbar": {
             "outlinewidth": 0,
             "ticks": ""
            },
            "colorscale": [
             [
              0,
              "#0d0887"
             ],
             [
              0.1111111111111111,
              "#46039f"
             ],
             [
              0.2222222222222222,
              "#7201a8"
             ],
             [
              0.3333333333333333,
              "#9c179e"
             ],
             [
              0.4444444444444444,
              "#bd3786"
             ],
             [
              0.5555555555555556,
              "#d8576b"
             ],
             [
              0.6666666666666666,
              "#ed7953"
             ],
             [
              0.7777777777777778,
              "#fb9f3a"
             ],
             [
              0.8888888888888888,
              "#fdca26"
             ],
             [
              1,
              "#f0f921"
             ]
            ],
            "type": "surface"
           }
          ],
          "table": [
           {
            "cells": {
             "fill": {
              "color": "#EBF0F8"
             },
             "line": {
              "color": "white"
             }
            },
            "header": {
             "fill": {
              "color": "#C8D4E3"
             },
             "line": {
              "color": "white"
             }
            },
            "type": "table"
           }
          ]
         },
         "layout": {
          "annotationdefaults": {
           "arrowcolor": "#2a3f5f",
           "arrowhead": 0,
           "arrowwidth": 1
          },
          "autotypenumbers": "strict",
          "coloraxis": {
           "colorbar": {
            "outlinewidth": 0,
            "ticks": ""
           }
          },
          "colorscale": {
           "diverging": [
            [
             0,
             "#8e0152"
            ],
            [
             0.1,
             "#c51b7d"
            ],
            [
             0.2,
             "#de77ae"
            ],
            [
             0.3,
             "#f1b6da"
            ],
            [
             0.4,
             "#fde0ef"
            ],
            [
             0.5,
             "#f7f7f7"
            ],
            [
             0.6,
             "#e6f5d0"
            ],
            [
             0.7,
             "#b8e186"
            ],
            [
             0.8,
             "#7fbc41"
            ],
            [
             0.9,
             "#4d9221"
            ],
            [
             1,
             "#276419"
            ]
           ],
           "sequential": [
            [
             0,
             "#0d0887"
            ],
            [
             0.1111111111111111,
             "#46039f"
            ],
            [
             0.2222222222222222,
             "#7201a8"
            ],
            [
             0.3333333333333333,
             "#9c179e"
            ],
            [
             0.4444444444444444,
             "#bd3786"
            ],
            [
             0.5555555555555556,
             "#d8576b"
            ],
            [
             0.6666666666666666,
             "#ed7953"
            ],
            [
             0.7777777777777778,
             "#fb9f3a"
            ],
            [
             0.8888888888888888,
             "#fdca26"
            ],
            [
             1,
             "#f0f921"
            ]
           ],
           "sequentialminus": [
            [
             0,
             "#0d0887"
            ],
            [
             0.1111111111111111,
             "#46039f"
            ],
            [
             0.2222222222222222,
             "#7201a8"
            ],
            [
             0.3333333333333333,
             "#9c179e"
            ],
            [
             0.4444444444444444,
             "#bd3786"
            ],
            [
             0.5555555555555556,
             "#d8576b"
            ],
            [
             0.6666666666666666,
             "#ed7953"
            ],
            [
             0.7777777777777778,
             "#fb9f3a"
            ],
            [
             0.8888888888888888,
             "#fdca26"
            ],
            [
             1,
             "#f0f921"
            ]
           ]
          },
          "colorway": [
           "#636efa",
           "#EF553B",
           "#00cc96",
           "#ab63fa",
           "#FFA15A",
           "#19d3f3",
           "#FF6692",
           "#B6E880",
           "#FF97FF",
           "#FECB52"
          ],
          "font": {
           "color": "#2a3f5f"
          },
          "geo": {
           "bgcolor": "white",
           "lakecolor": "white",
           "landcolor": "#E5ECF6",
           "showlakes": true,
           "showland": true,
           "subunitcolor": "white"
          },
          "hoverlabel": {
           "align": "left"
          },
          "hovermode": "closest",
          "mapbox": {
           "style": "light"
          },
          "paper_bgcolor": "white",
          "plot_bgcolor": "#E5ECF6",
          "polar": {
           "angularaxis": {
            "gridcolor": "white",
            "linecolor": "white",
            "ticks": ""
           },
           "bgcolor": "#E5ECF6",
           "radialaxis": {
            "gridcolor": "white",
            "linecolor": "white",
            "ticks": ""
           }
          },
          "scene": {
           "xaxis": {
            "backgroundcolor": "#E5ECF6",
            "gridcolor": "white",
            "gridwidth": 2,
            "linecolor": "white",
            "showbackground": true,
            "ticks": "",
            "zerolinecolor": "white"
           },
           "yaxis": {
            "backgroundcolor": "#E5ECF6",
            "gridcolor": "white",
            "gridwidth": 2,
            "linecolor": "white",
            "showbackground": true,
            "ticks": "",
            "zerolinecolor": "white"
           },
           "zaxis": {
            "backgroundcolor": "#E5ECF6",
            "gridcolor": "white",
            "gridwidth": 2,
            "linecolor": "white",
            "showbackground": true,
            "ticks": "",
            "zerolinecolor": "white"
           }
          },
          "shapedefaults": {
           "line": {
            "color": "#2a3f5f"
           }
          },
          "ternary": {
           "aaxis": {
            "gridcolor": "white",
            "linecolor": "white",
            "ticks": ""
           },
           "baxis": {
            "gridcolor": "white",
            "linecolor": "white",
            "ticks": ""
           },
           "bgcolor": "#E5ECF6",
           "caxis": {
            "gridcolor": "white",
            "linecolor": "white",
            "ticks": ""
           }
          },
          "title": {
           "x": 0.05
          },
          "xaxis": {
           "automargin": true,
           "gridcolor": "white",
           "linecolor": "white",
           "ticks": "",
           "title": {
            "standoff": 15
           },
           "zerolinecolor": "white",
           "zerolinewidth": 2
          },
          "yaxis": {
           "automargin": true,
           "gridcolor": "white",
           "linecolor": "white",
           "ticks": "",
           "title": {
            "standoff": 15
           },
           "zerolinecolor": "white",
           "zerolinewidth": 2
          }
         }
        },
        "width": 800,
        "xaxis": {
         "title": {
          "text": "Tanggal"
         }
        },
        "yaxis": {
         "title": {
          "text": "Jumlah Berita"
         }
        }
       }
      }
     },
     "metadata": {},
     "output_type": "display_data"
    },
    {
     "name": "stdout",
     "output_type": "stream",
     "text": [
      "\n",
      "🌐 4. Bar Chart - Top Media Sources\n"
     ]
    },
    {
     "data": {
      "application/vnd.plotly.v1+json": {
       "config": {
        "plotlyServerURL": "https://plot.ly"
       },
       "data": [
        {
         "customdata": [
          20,
          7.5,
          7.5,
          5,
          2.5,
          2.5,
          2.5,
          2.5,
          2.5,
          2.5
         ],
         "hovertemplate": "<b>%{y}</b><br>Jumlah berita: %{x}<br>Persentase: %{customdata:.1f}%<extra></extra>",
         "marker": {
          "color": [
           "#1E3A8A",
           "#1E3A8A",
           "#1E3A8A",
           "#87CEEB",
           "#87CEEB",
           "#87CEEB",
           "#87CEEB",
           "#87CEEB",
           "#87CEEB",
           "#87CEEB"
          ]
         },
         "orientation": "h",
         "text": [
          8,
          3,
          3,
          2,
          1,
          1,
          1,
          1,
          1,
          1
         ],
         "textposition": "outside",
         "type": "bar",
         "x": [
          8,
          3,
          3,
          2,
          1,
          1,
          1,
          1,
          1,
          1
         ],
         "y": [
          "www.cnbcindonesia.com",
          "kumparan.com",
          "www.tempo.co",
          "www.metrotvnews.com",
          "ekbis.sindonews.com",
          "news.ddtc.co.id",
          "berita.batangkab.go.id",
          "jateng.antaranews.com",
          "www.antarafoto.com",
          "jogjapolitan.harianjogja.com"
         ]
        }
       ],
       "layout": {
        "font": {
         "size": 12
        },
        "height": 600,
        "paper_bgcolor": "white",
        "plot_bgcolor": "white",
        "template": {
         "data": {
          "bar": [
           {
            "error_x": {
             "color": "#2a3f5f"
            },
            "error_y": {
             "color": "#2a3f5f"
            },
            "marker": {
             "line": {
              "color": "#E5ECF6",
              "width": 0.5
             },
             "pattern": {
              "fillmode": "overlay",
              "size": 10,
              "solidity": 0.2
             }
            },
            "type": "bar"
           }
          ],
          "barpolar": [
           {
            "marker": {
             "line": {
              "color": "#E5ECF6",
              "width": 0.5
             },
             "pattern": {
              "fillmode": "overlay",
              "size": 10,
              "solidity": 0.2
             }
            },
            "type": "barpolar"
           }
          ],
          "carpet": [
           {
            "aaxis": {
             "endlinecolor": "#2a3f5f",
             "gridcolor": "white",
             "linecolor": "white",
             "minorgridcolor": "white",
             "startlinecolor": "#2a3f5f"
            },
            "baxis": {
             "endlinecolor": "#2a3f5f",
             "gridcolor": "white",
             "linecolor": "white",
             "minorgridcolor": "white",
             "startlinecolor": "#2a3f5f"
            },
            "type": "carpet"
           }
          ],
          "choropleth": [
           {
            "colorbar": {
             "outlinewidth": 0,
             "ticks": ""
            },
            "type": "choropleth"
           }
          ],
          "contour": [
           {
            "colorbar": {
             "outlinewidth": 0,
             "ticks": ""
            },
            "colorscale": [
             [
              0,
              "#0d0887"
             ],
             [
              0.1111111111111111,
              "#46039f"
             ],
             [
              0.2222222222222222,
              "#7201a8"
             ],
             [
              0.3333333333333333,
              "#9c179e"
             ],
             [
              0.4444444444444444,
              "#bd3786"
             ],
             [
              0.5555555555555556,
              "#d8576b"
             ],
             [
              0.6666666666666666,
              "#ed7953"
             ],
             [
              0.7777777777777778,
              "#fb9f3a"
             ],
             [
              0.8888888888888888,
              "#fdca26"
             ],
             [
              1,
              "#f0f921"
             ]
            ],
            "type": "contour"
           }
          ],
          "contourcarpet": [
           {
            "colorbar": {
             "outlinewidth": 0,
             "ticks": ""
            },
            "type": "contourcarpet"
           }
          ],
          "heatmap": [
           {
            "colorbar": {
             "outlinewidth": 0,
             "ticks": ""
            },
            "colorscale": [
             [
              0,
              "#0d0887"
             ],
             [
              0.1111111111111111,
              "#46039f"
             ],
             [
              0.2222222222222222,
              "#7201a8"
             ],
             [
              0.3333333333333333,
              "#9c179e"
             ],
             [
              0.4444444444444444,
              "#bd3786"
             ],
             [
              0.5555555555555556,
              "#d8576b"
             ],
             [
              0.6666666666666666,
              "#ed7953"
             ],
             [
              0.7777777777777778,
              "#fb9f3a"
             ],
             [
              0.8888888888888888,
              "#fdca26"
             ],
             [
              1,
              "#f0f921"
             ]
            ],
            "type": "heatmap"
           }
          ],
          "heatmapgl": [
           {
            "colorbar": {
             "outlinewidth": 0,
             "ticks": ""
            },
            "colorscale": [
             [
              0,
              "#0d0887"
             ],
             [
              0.1111111111111111,
              "#46039f"
             ],
             [
              0.2222222222222222,
              "#7201a8"
             ],
             [
              0.3333333333333333,
              "#9c179e"
             ],
             [
              0.4444444444444444,
              "#bd3786"
             ],
             [
              0.5555555555555556,
              "#d8576b"
             ],
             [
              0.6666666666666666,
              "#ed7953"
             ],
             [
              0.7777777777777778,
              "#fb9f3a"
             ],
             [
              0.8888888888888888,
              "#fdca26"
             ],
             [
              1,
              "#f0f921"
             ]
            ],
            "type": "heatmapgl"
           }
          ],
          "histogram": [
           {
            "marker": {
             "pattern": {
              "fillmode": "overlay",
              "size": 10,
              "solidity": 0.2
             }
            },
            "type": "histogram"
           }
          ],
          "histogram2d": [
           {
            "colorbar": {
             "outlinewidth": 0,
             "ticks": ""
            },
            "colorscale": [
             [
              0,
              "#0d0887"
             ],
             [
              0.1111111111111111,
              "#46039f"
             ],
             [
              0.2222222222222222,
              "#7201a8"
             ],
             [
              0.3333333333333333,
              "#9c179e"
             ],
             [
              0.4444444444444444,
              "#bd3786"
             ],
             [
              0.5555555555555556,
              "#d8576b"
             ],
             [
              0.6666666666666666,
              "#ed7953"
             ],
             [
              0.7777777777777778,
              "#fb9f3a"
             ],
             [
              0.8888888888888888,
              "#fdca26"
             ],
             [
              1,
              "#f0f921"
             ]
            ],
            "type": "histogram2d"
           }
          ],
          "histogram2dcontour": [
           {
            "colorbar": {
             "outlinewidth": 0,
             "ticks": ""
            },
            "colorscale": [
             [
              0,
              "#0d0887"
             ],
             [
              0.1111111111111111,
              "#46039f"
             ],
             [
              0.2222222222222222,
              "#7201a8"
             ],
             [
              0.3333333333333333,
              "#9c179e"
             ],
             [
              0.4444444444444444,
              "#bd3786"
             ],
             [
              0.5555555555555556,
              "#d8576b"
             ],
             [
              0.6666666666666666,
              "#ed7953"
             ],
             [
              0.7777777777777778,
              "#fb9f3a"
             ],
             [
              0.8888888888888888,
              "#fdca26"
             ],
             [
              1,
              "#f0f921"
             ]
            ],
            "type": "histogram2dcontour"
           }
          ],
          "mesh3d": [
           {
            "colorbar": {
             "outlinewidth": 0,
             "ticks": ""
            },
            "type": "mesh3d"
           }
          ],
          "parcoords": [
           {
            "line": {
             "colorbar": {
              "outlinewidth": 0,
              "ticks": ""
             }
            },
            "type": "parcoords"
           }
          ],
          "pie": [
           {
            "automargin": true,
            "type": "pie"
           }
          ],
          "scatter": [
           {
            "fillpattern": {
             "fillmode": "overlay",
             "size": 10,
             "solidity": 0.2
            },
            "type": "scatter"
           }
          ],
          "scatter3d": [
           {
            "line": {
             "colorbar": {
              "outlinewidth": 0,
              "ticks": ""
             }
            },
            "marker": {
             "colorbar": {
              "outlinewidth": 0,
              "ticks": ""
             }
            },
            "type": "scatter3d"
           }
          ],
          "scattercarpet": [
           {
            "marker": {
             "colorbar": {
              "outlinewidth": 0,
              "ticks": ""
             }
            },
            "type": "scattercarpet"
           }
          ],
          "scattergeo": [
           {
            "marker": {
             "colorbar": {
              "outlinewidth": 0,
              "ticks": ""
             }
            },
            "type": "scattergeo"
           }
          ],
          "scattergl": [
           {
            "marker": {
             "colorbar": {
              "outlinewidth": 0,
              "ticks": ""
             }
            },
            "type": "scattergl"
           }
          ],
          "scattermapbox": [
           {
            "marker": {
             "colorbar": {
              "outlinewidth": 0,
              "ticks": ""
             }
            },
            "type": "scattermapbox"
           }
          ],
          "scatterpolar": [
           {
            "marker": {
             "colorbar": {
              "outlinewidth": 0,
              "ticks": ""
             }
            },
            "type": "scatterpolar"
           }
          ],
          "scatterpolargl": [
           {
            "marker": {
             "colorbar": {
              "outlinewidth": 0,
              "ticks": ""
             }
            },
            "type": "scatterpolargl"
           }
          ],
          "scatterternary": [
           {
            "marker": {
             "colorbar": {
              "outlinewidth": 0,
              "ticks": ""
             }
            },
            "type": "scatterternary"
           }
          ],
          "surface": [
           {
            "colorbar": {
             "outlinewidth": 0,
             "ticks": ""
            },
            "colorscale": [
             [
              0,
              "#0d0887"
             ],
             [
              0.1111111111111111,
              "#46039f"
             ],
             [
              0.2222222222222222,
              "#7201a8"
             ],
             [
              0.3333333333333333,
              "#9c179e"
             ],
             [
              0.4444444444444444,
              "#bd3786"
             ],
             [
              0.5555555555555556,
              "#d8576b"
             ],
             [
              0.6666666666666666,
              "#ed7953"
             ],
             [
              0.7777777777777778,
              "#fb9f3a"
             ],
             [
              0.8888888888888888,
              "#fdca26"
             ],
             [
              1,
              "#f0f921"
             ]
            ],
            "type": "surface"
           }
          ],
          "table": [
           {
            "cells": {
             "fill": {
              "color": "#EBF0F8"
             },
             "line": {
              "color": "white"
             }
            },
            "header": {
             "fill": {
              "color": "#C8D4E3"
             },
             "line": {
              "color": "white"
             }
            },
            "type": "table"
           }
          ]
         },
         "layout": {
          "annotationdefaults": {
           "arrowcolor": "#2a3f5f",
           "arrowhead": 0,
           "arrowwidth": 1
          },
          "autotypenumbers": "strict",
          "coloraxis": {
           "colorbar": {
            "outlinewidth": 0,
            "ticks": ""
           }
          },
          "colorscale": {
           "diverging": [
            [
             0,
             "#8e0152"
            ],
            [
             0.1,
             "#c51b7d"
            ],
            [
             0.2,
             "#de77ae"
            ],
            [
             0.3,
             "#f1b6da"
            ],
            [
             0.4,
             "#fde0ef"
            ],
            [
             0.5,
             "#f7f7f7"
            ],
            [
             0.6,
             "#e6f5d0"
            ],
            [
             0.7,
             "#b8e186"
            ],
            [
             0.8,
             "#7fbc41"
            ],
            [
             0.9,
             "#4d9221"
            ],
            [
             1,
             "#276419"
            ]
           ],
           "sequential": [
            [
             0,
             "#0d0887"
            ],
            [
             0.1111111111111111,
             "#46039f"
            ],
            [
             0.2222222222222222,
             "#7201a8"
            ],
            [
             0.3333333333333333,
             "#9c179e"
            ],
            [
             0.4444444444444444,
             "#bd3786"
            ],
            [
             0.5555555555555556,
             "#d8576b"
            ],
            [
             0.6666666666666666,
             "#ed7953"
            ],
            [
             0.7777777777777778,
             "#fb9f3a"
            ],
            [
             0.8888888888888888,
             "#fdca26"
            ],
            [
             1,
             "#f0f921"
            ]
           ],
           "sequentialminus": [
            [
             0,
             "#0d0887"
            ],
            [
             0.1111111111111111,
             "#46039f"
            ],
            [
             0.2222222222222222,
             "#7201a8"
            ],
            [
             0.3333333333333333,
             "#9c179e"
            ],
            [
             0.4444444444444444,
             "#bd3786"
            ],
            [
             0.5555555555555556,
             "#d8576b"
            ],
            [
             0.6666666666666666,
             "#ed7953"
            ],
            [
             0.7777777777777778,
             "#fb9f3a"
            ],
            [
             0.8888888888888888,
             "#fdca26"
            ],
            [
             1,
             "#f0f921"
            ]
           ]
          },
          "colorway": [
           "#636efa",
           "#EF553B",
           "#00cc96",
           "#ab63fa",
           "#FFA15A",
           "#19d3f3",
           "#FF6692",
           "#B6E880",
           "#FF97FF",
           "#FECB52"
          ],
          "font": {
           "color": "#2a3f5f"
          },
          "geo": {
           "bgcolor": "white",
           "lakecolor": "white",
           "landcolor": "#E5ECF6",
           "showlakes": true,
           "showland": true,
           "subunitcolor": "white"
          },
          "hoverlabel": {
           "align": "left"
          },
          "hovermode": "closest",
          "mapbox": {
           "style": "light"
          },
          "paper_bgcolor": "white",
          "plot_bgcolor": "#E5ECF6",
          "polar": {
           "angularaxis": {
            "gridcolor": "white",
            "linecolor": "white",
            "ticks": ""
           },
           "bgcolor": "#E5ECF6",
           "radialaxis": {
            "gridcolor": "white",
            "linecolor": "white",
            "ticks": ""
           }
          },
          "scene": {
           "xaxis": {
            "backgroundcolor": "#E5ECF6",
            "gridcolor": "white",
            "gridwidth": 2,
            "linecolor": "white",
            "showbackground": true,
            "ticks": "",
            "zerolinecolor": "white"
           },
           "yaxis": {
            "backgroundcolor": "#E5ECF6",
            "gridcolor": "white",
            "gridwidth": 2,
            "linecolor": "white",
            "showbackground": true,
            "ticks": "",
            "zerolinecolor": "white"
           },
           "zaxis": {
            "backgroundcolor": "#E5ECF6",
            "gridcolor": "white",
            "gridwidth": 2,
            "linecolor": "white",
            "showbackground": true,
            "ticks": "",
            "zerolinecolor": "white"
           }
          },
          "shapedefaults": {
           "line": {
            "color": "#2a3f5f"
           }
          },
          "ternary": {
           "aaxis": {
            "gridcolor": "white",
            "linecolor": "white",
            "ticks": ""
           },
           "baxis": {
            "gridcolor": "white",
            "linecolor": "white",
            "ticks": ""
           },
           "bgcolor": "#E5ECF6",
           "caxis": {
            "gridcolor": "white",
            "linecolor": "white",
            "ticks": ""
           }
          },
          "title": {
           "x": 0.05
          },
          "xaxis": {
           "automargin": true,
           "gridcolor": "white",
           "linecolor": "white",
           "ticks": "",
           "title": {
            "standoff": 15
           },
           "zerolinecolor": "white",
           "zerolinewidth": 2
          },
          "yaxis": {
           "automargin": true,
           "gridcolor": "white",
           "linecolor": "white",
           "ticks": "",
           "title": {
            "standoff": 15
           },
           "zerolinecolor": "white",
           "zerolinewidth": 2
          }
         }
        },
        "width": 800,
        "xaxis": {
         "title": {
          "text": "Jumlah Berita"
         }
        },
        "yaxis": {
         "autorange": "reversed",
         "title": {
          "text": "Media Source"
         }
        }
       }
      }
     },
     "metadata": {},
     "output_type": "display_data"
    },
    {
     "name": "stdout",
     "output_type": "stream",
     "text": [
      "\n",
      "☁️ 5. Word Cloud - Kata Kunci Populer\n"
     ]
    },
    {
     "data": {
      "image/png": "[encoded data removed]",
      "text/plain": [
       "<Figure size 1200x600 with 1 Axes>"
      ]
     },
     "metadata": {},
     "output_type": "display_data"
    },
    {
     "name": "stdout",
     "output_type": "stream",
     "text": [
      "\n",
      "✅ Semua visualisasi telah ditampilkan!\n",
      "\n",
      "📋 Insight Utama:\n",
      "   🎯 Sentimen dominan: positif (92.5%)\n",
      "   📺 Media terbanyak: www.cnbcindonesia.com (8 berita)\n",
      "   🔤 Kata populer: rokok (42), ilegal (32), purbaya (21), cukai (19), tak (10)\n",
      "\n",
      "✅ Semua visualisasi berhasil dibuat dan ditampilkan!\n",
      "💡 Tip: Scroll ke atas untuk melihat grafik-grafik yang telah dibuat.\n"
     ]
    }
   ],
   "source": [
    "# PART 6: Eksekusi Visualisasi\n",
    "\n",
    "# Jalankan semua visualisasi jika data sudah diproses\n",
    "if 'processed_data' in locals() and processed_data is not None:\n",
    "    print(\"🚀 Memulai pembuatan semua visualisasi...\")\n",
    "    print(\"=\"*60)\n",
    "    \n",
    "    # Tampilkan info singkat terlebih dahulu\n",
    "    stats = processed_data['stats']\n",
    "    print(f\"📊 Dataset Overview:\")\n",
    "    print(f\"   • Periode: {processed_data['date_range']['start'].strftime('%Y-%m-%d')} - {processed_data['date_range']['end'].strftime('%Y-%m-%d')}\")\n",
    "    print(f\"   • Total berita: {stats['total_articles']} artikel\")\n",
    "    print(f\"   • Rata-rata per hari: {stats['avg_articles_per_day']:.1f} artikel\")\n",
    "    print(f\"   • Jumlah media: {stats['unique_sources']} media\")\n",
    "    print(\"=\"*60)\n",
    "    \n",
    "    # Tampilkan semua visualisasi\n",
    "    charts = display_all_visualizations(processed_data)\n",
    "    \n",
    "    # Summary informasi tambahan\n",
    "    print(f\"\\n📋 Insight Utama:\")\n",
    "    sentiment_summary = processed_data['sentiment_summary']\n",
    "    \n",
    "    # Sentimen dominan\n",
    "    top_sentiment = sentiment_summary.iloc[0]\n",
    "    print(f\"   🎯 Sentimen dominan: {top_sentiment['sentimen']} ({top_sentiment['percentage']:.1f}%)\")\n",
    "    \n",
    "    # Media terpopuler\n",
    "    if len(processed_data['source_summary']) > 0:\n",
    "        top_media = processed_data['source_summary'].iloc[0]\n",
    "        print(f\"   📺 Media terbanyak: {top_media['media']} ({top_media['count']} berita)\")\n",
    "    \n",
    "    # Kata kunci terpopuler\n",
    "    if processed_data['word_frequency']:\n",
    "        top_words = sorted(processed_data['word_frequency'].items(), key=lambda x: x[1], reverse=True)[:5]\n",
    "        top_word_list = [f\"{word} ({count})\" for word, count in top_words]\n",
    "        print(f\"   🔤 Kata populer: {', '.join(top_word_list)}\")\n",
    "    \n",
    "    print(f\"\\n✅ Semua visualisasi berhasil dibuat dan ditampilkan!\")\n",
    "    print(f\"💡 Tip: Scroll ke atas untuk melihat grafik-grafik yang telah dibuat.\")\n",
    "    \n",
    "else:\n",
    "    print(\"❌ Data belum diproses!\")\n",
    "    print(\"💡 Jalankan Part 3 dan Part 4 terlebih dahulu untuk memuat dan memproses data.\")"
   ]
  },
  {
   "cell_type": "code",
   "execution_count": 11,
   "id": "46295a40",
   "metadata": {},
   "outputs": [
    {
     "name": "stdout",
     "output_type": "stream",
     "text": [
      "📋 DASHBOARD SUMMARY - MONITORING BERITA PENTING\n",
      "================================================================================\n",
      "📅 PERIODE ANALISIS\n",
      "   • Tanggal: 28 September 2025 - 01 October 2025\n",
      "   • Durasi: 4 hari\n",
      "   • Total berita: 40 artikel\n",
      "   • Rata-rata harian: 10.0 artikel/hari\n",
      "\n",
      "😊 ANALISIS SENTIMEN\n",
      "   😊 Positif: 37 berita (92.5%)\n",
      "   😠 Negatif: 2 berita (5.0%)\n",
      "   😐 Netral: 1 berita (2.5%)\n",
      "\n",
      "🌐 TOP MEDIA SOURCES\n",
      "   1. www.cnbcindonesia.com: 8 berita (20.0%)\n",
      "   2. kumparan.com: 3 berita (7.5%)\n",
      "   3. www.tempo.co: 3 berita (7.5%)\n",
      "   4. www.metrotvnews.com: 2 berita (5.0%)\n",
      "   5. ekbis.sindonews.com: 1 berita (2.5%)\n",
      "\n",
      "🔤 TOP KEYWORDS\n",
      "   1. 'rokok': 42 kali muncul\n",
      "   2. 'ilegal': 32 kali muncul\n",
      "   3. 'purbaya': 21 kali muncul\n",
      "   4. 'cukai': 19 kali muncul\n",
      "   5. 'tak': 10 kali muncul\n",
      "   6. 'indonesia': 9 kali muncul\n",
      "   7. 'cnbc': 8 kali muncul\n",
      "   8. 'batang': 8 kali muncul\n",
      "   9. 'bea': 7 kali muncul\n",
      "   10. 'sita': 6 kali muncul\n",
      "\n",
      "📈 DISTRIBUSI HARIAN\n",
      "   • 2025-09-28: 4 berita\n",
      "   • 2025-09-29: 12 berita\n",
      "   • 2025-09-30: 14 berita\n",
      "   • 2025-10-01: 10 berita\n",
      "\n",
      "🎯 KEY INSIGHTS\n",
      "   • Mayoritas berita (92.5%) bersentimen positif\n",
      "   • Hari dengan berita terbanyak: 2025-09-30 (14 berita)\n",
      "   • Berita tersebar di 28 media berbeda\n",
      "   • Fokus utama: Kemenkeu (40 berita)\n",
      "================================================================================\n",
      "✅ Analisis selesai! Dashboard siap untuk presentasi.\n",
      "\n",
      "💾 CARA MENYIMPAN VISUALISASI\n",
      "==================================================\n",
      "📊 Untuk menyimpan grafik interaktif:\n",
      "   • Klik tombol 'Download plot as PNG' di pojok kanan atas setiap grafik\n",
      "   • Atau gunakan kode: fig.write_image('nama_file.png')\n",
      "   • Format lain: fig.write_html('nama_file.html')\n",
      "\n",
      "☁️ Untuk menyimpan Word Cloud:\n",
      "   • Klik kanan pada gambar > Save Image As...\n",
      "   • Atau gunakan: plt.savefig('wordcloud.png', dpi=300, bbox_inches='tight')\n",
      "\n",
      "📋 Untuk ekspor data:\n",
      "   • processed_data['sentiment_summary'].to_csv('sentiment_analysis.csv')\n",
      "   • processed_data['timeline_data'].to_csv('timeline_data.csv')\n",
      "   • processed_data['source_summary'].to_csv('media_analysis.csv')\n"
     ]
    }
   ],
   "source": [
    "# PART 7: Summary & Export Options\n",
    "\n",
    "def create_dashboard_summary(processed_data):\n",
    "    \"\"\"\n",
    "    Membuat ringkasan lengkap dashboard\n",
    "    \"\"\"\n",
    "    print(\"📋 DASHBOARD SUMMARY - MONITORING BERITA PENTING\")\n",
    "    print(\"=\"*80)\n",
    "    \n",
    "    # Basic Stats\n",
    "    stats = processed_data['stats']\n",
    "    date_range = processed_data['date_range']\n",
    "    \n",
    "    print(f\"📅 PERIODE ANALISIS\")\n",
    "    print(f\"   • Tanggal: {date_range['start'].strftime('%d %B %Y')} - {date_range['end'].strftime('%d %B %Y')}\")\n",
    "    print(f\"   • Durasi: {date_range['total_days']} hari\")\n",
    "    print(f\"   • Total berita: {stats['total_articles']} artikel\")\n",
    "    print(f\"   • Rata-rata harian: {stats['avg_articles_per_day']:.1f} artikel/hari\")\n",
    "    \n",
    "    # Sentiment Analysis\n",
    "    sentiment_summary = processed_data['sentiment_summary']\n",
    "    print(f\"\\n😊 ANALISIS SENTIMEN\")\n",
    "    for _, row in sentiment_summary.iterrows():\n",
    "        emoji = \"😊\" if row['sentimen'] == 'positif' else \"😠\" if row['sentimen'] == 'negatif' else \"😐\"\n",
    "        print(f\"   {emoji} {row['sentimen'].title()}: {row['count']} berita ({row['percentage']:.1f}%)\")\n",
    "    \n",
    "    # Media Sources\n",
    "    top_sources = processed_data['source_summary'].head(5)\n",
    "    print(f\"\\n🌐 TOP MEDIA SOURCES\")\n",
    "    for i, (_, row) in enumerate(top_sources.iterrows(), 1):\n",
    "        print(f\"   {i}. {row['media']}: {row['count']} berita ({row['percentage']:.1f}%)\")\n",
    "    \n",
    "    # Keywords\n",
    "    if processed_data['word_frequency']:\n",
    "        top_keywords = sorted(processed_data['word_frequency'].items(), key=lambda x: x[1], reverse=True)[:10]\n",
    "        print(f\"\\n🔤 TOP KEYWORDS\")\n",
    "        for i, (word, count) in enumerate(top_keywords, 1):\n",
    "            print(f\"   {i}. '{word}': {count} kali muncul\")\n",
    "    \n",
    "    # Daily Distribution\n",
    "    daily_totals = processed_data['timeline_data'].groupby('tanggal')['count'].sum()\n",
    "    print(f\"\\n📈 DISTRIBUSI HARIAN\")\n",
    "    for date, total in daily_totals.items():\n",
    "        print(f\"   • {date}: {total} berita\")\n",
    "    \n",
    "    print(f\"\\n🎯 KEY INSIGHTS\")\n",
    "    \n",
    "    # Dominant sentiment insight\n",
    "    dominant_sentiment = sentiment_summary.iloc[0]\n",
    "    print(f\"   • Mayoritas berita ({dominant_sentiment['percentage']:.1f}%) bersentimen {dominant_sentiment['sentimen']}\")\n",
    "    \n",
    "    # Peak day insight  \n",
    "    peak_day = daily_totals.idxmax()\n",
    "    peak_count = daily_totals.max()\n",
    "    print(f\"   • Hari dengan berita terbanyak: {peak_day} ({peak_count} berita)\")\n",
    "    \n",
    "    # Media diversity\n",
    "    print(f\"   • Berita tersebar di {stats['unique_sources']} media berbeda\")\n",
    "    \n",
    "    # Topic focus\n",
    "    if len(processed_data['topic_summary']) > 0:\n",
    "        main_topic = processed_data['topic_summary'].iloc[0]\n",
    "        print(f\"   • Fokus utama: {main_topic['topik']} ({main_topic['count']} berita)\")\n",
    "    \n",
    "    print(\"=\"*80)\n",
    "    print(\"✅ Analisis selesai! Dashboard siap untuk presentasi.\")\n",
    "\n",
    "def save_charts_info():\n",
    "    \"\"\"\n",
    "    Informasi cara menyimpan charts\n",
    "    \"\"\"\n",
    "    print(f\"\\n💾 CARA MENYIMPAN VISUALISASI\")\n",
    "    print(\"=\"*50)\n",
    "    print(\"📊 Untuk menyimpan grafik interaktif:\")\n",
    "    print(\"   • Klik tombol 'Download plot as PNG' di pojok kanan atas setiap grafik\")\n",
    "    print(\"   • Atau gunakan kode: fig.write_image('nama_file.png')\")\n",
    "    print(\"   • Format lain: fig.write_html('nama_file.html')\")\n",
    "    \n",
    "    print(f\"\\n☁️ Untuk menyimpan Word Cloud:\")\n",
    "    print(\"   • Klik kanan pada gambar > Save Image As...\")\n",
    "    print(\"   • Atau gunakan: plt.savefig('wordcloud.png', dpi=300, bbox_inches='tight')\")\n",
    "    \n",
    "    print(f\"\\n📋 Untuk ekspor data:\")\n",
    "    print(\"   • processed_data['sentiment_summary'].to_csv('sentiment_analysis.csv')\")\n",
    "    print(\"   • processed_data['timeline_data'].to_csv('timeline_data.csv')\")\n",
    "    print(\"   • processed_data['source_summary'].to_csv('media_analysis.csv')\")\n",
    "\n",
    "# Jalankan summary jika data tersedia\n",
    "if 'processed_data' in locals() and processed_data is not None:\n",
    "    create_dashboard_summary(processed_data)\n",
    "    save_charts_info()\n",
    "else:\n",
    "    print(\"❌ Data tidak tersedia untuk membuat summary!\")"
   ]
  }
 ],
 "metadata": {
  "kernelspec": {
   "display_name": "base",
   "language": "python",
   "name": "python3"
  },
  "language_info": {
   "codemirror_mode": {
    "name": "ipython",
    "version": 3
   },
   "file_extension": ".py",
   "mimetype": "text/x-python",
   "name": "python",
   "nbconvert_exporter": "python",
   "pygments_lexer": "ipython3",
   "version": "3.12.7"
  }
 },
 "nbformat": 4,
 "nbformat_minor": 5
}
