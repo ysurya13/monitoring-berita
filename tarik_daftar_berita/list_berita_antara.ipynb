{
 "cells": [
  {
   "cell_type": "markdown",
   "id": "ebd5d2e2",
   "metadata": {},
   "source": [
    "# SETTING ENVIRONMENT\n"
   ]
  },
  {
   "cell_type": "code",
   "execution_count": 16,
   "id": "ee565f44",
   "metadata": {},
   "outputs": [
    {
     "data": {
      "text/plain": [
       "\"# mount the colab with google drive\\nfrom google.colab import drive\\ndrive.mount('/content/drive')\""
      ]
     },
     "execution_count": 16,
     "metadata": {},
     "output_type": "execute_result"
    }
   ],
   "source": [
    "\"\"\"# mount the colab with google drive\n",
    "from google.colab import drive\n",
    "drive.mount('/content/drive')\"\"\""
   ]
  },
  {
   "cell_type": "code",
   "execution_count": 17,
   "id": "bd5db1c2",
   "metadata": {},
   "outputs": [],
   "source": [
    "# set folder tempat kerja (current working directory)\n",
    "import os\n",
    "cwd = '/Users/yusufpradana/Library/CloudStorage/OneDrive-Personal/Pekerjaan BMN/05. 2025/98_monitoring_berita/monitoring-berita'\n",
    "# cwd = '/content/drive/MyDrive/Monitoring Berita'\n",
    "\n",
    "os.chdir(cwd)"
   ]
  },
  {
   "cell_type": "markdown",
   "id": "9bfc9274",
   "metadata": {},
   "source": [
    "# MAIN"
   ]
  },
  {
   "cell_type": "code",
   "execution_count": 18,
   "id": "421db1d9",
   "metadata": {},
   "outputs": [
    {
     "name": "stdout",
     "output_type": "stream",
     "text": [
      "Total RSS feed akan diproses: 3\n",
      "01. https://www.antaranews.com/rss/terkini.xml\n",
      "02. https://www.antaranews.com/rss/ekonomi.xml\n",
      "03. https://www.antaranews.com/rss/top-news.xml\n"
     ]
    }
   ],
   "source": [
    "# Daftar RSS Antara (hanya kategori yang diminta)\n",
    "antaracategories = [\n",
    "    'terkini',\n",
    "    'ekonomi',\n",
    "    'top-news'\n",
    "]\n",
    "\n",
    "# Bangun list URL RSS\n",
    "url = [f'https://www.antaranews.com/rss/{cat}.xml' for cat in antaracategories]\n",
    "\n",
    "print(f'Total RSS feed akan diproses: {len(url)}')\n",
    "for i, u in enumerate(url, 1):\n",
    "    print(f'{i:02d}. {u}')"
   ]
  },
  {
   "cell_type": "code",
   "execution_count": 19,
   "id": "f3f55ee7",
   "metadata": {},
   "outputs": [
    {
     "name": "stdout",
     "output_type": "stream",
     "text": [
      "Total baris hasil: 67\n"
     ]
    }
   ],
   "source": [
    "import pandas as pd\n",
    "import requests, json, re, hashlib\n",
    "import xml.etree.ElementTree as ET\n",
    "from datetime import datetime, timezone\n",
    "from pathlib import Path\n",
    "\n",
    "# Load config\n",
    "with open('config.json', 'r') as f:\n",
    "    cfg = json.load(f)\n",
    "search_dates = set(cfg.get('search_date', []))  # format: YYYY-MM-DD\n",
    "keywords_raw = cfg.get('keywords', [])\n",
    "# Normalisasi kata kunci (lower)\n",
    "keywords = [k.lower().strip() for k in keywords_raw if k.strip()]\n",
    "\n",
    "rss_urls = url  # dari sel sebelumnya\n",
    "\n",
    "records = []\n",
    "\n",
    "# Helper untuk ekstrak teks & cleaning\n",
    "def clean_text(t):\n",
    "    if t is None:\n",
    "        return ''\n",
    "    # Hilangkan HTML tags sederhana\n",
    "    t = re.sub(r'<[^>]+>', ' ', t)\n",
    "    # Normalisasi spasi\n",
    "    return re.sub(r'\\s+', ' ', t).strip()\n",
    "\n",
    "# Tanggal parsing patterns (Antara biasanya RFC822)\n",
    "from email.utils import parsedate_to_datetime\n",
    "\n",
    "def parse_pub_date(s):\n",
    "    if not s:\n",
    "        return None, None\n",
    "    try:\n",
    "        dt = parsedate_to_datetime(s)\n",
    "        if dt.tzinfo is None:\n",
    "            dt = dt.replace(tzinfo=timezone.utc)\n",
    "        # konversi ke WIB? (opsional) -> di sini tetap UTC\n",
    "        return dt, dt.strftime('%Y-%m-%d')\n",
    "    except Exception:\n",
    "        # fallback coba beberapa format\n",
    "        fmts = [\n",
    "            '%a, %d %b %Y %H:%M:%S %z',\n",
    "            '%Y-%m-%d %H:%M:%S%z',\n",
    "            '%Y-%m-%dT%H:%M:%S%z',\n",
    "            '%Y-%m-%d'\n",
    "        ]\n",
    "        for fmt in fmts:\n",
    "            try:\n",
    "                dt = datetime.strptime(s, fmt)\n",
    "                return dt, dt.strftime('%Y-%m-%d')\n",
    "            except Exception:\n",
    "                pass\n",
    "    return None, None\n",
    "\n",
    "# Fungsi pencarian keywords (whole word case-insensitive)\n",
    "keyword_pattern = re.compile(r'(' + '|'.join(re.escape(k) for k in keywords) + r')', re.IGNORECASE) if keywords else None\n",
    "\n",
    "def find_keywords(text):\n",
    "    if not keyword_pattern or not text:\n",
    "        return []\n",
    "    found = keyword_pattern.findall(text.lower())\n",
    "    # normalisasi kembali ke bentuk list unik sesuai original keywords list order\n",
    "    uniq = []\n",
    "    for k in keywords:\n",
    "        if k in found and k not in uniq:\n",
    "            uniq.append(k)\n",
    "    return uniq\n",
    "\n",
    "for rss_url in rss_urls:\n",
    "    try:\n",
    "        resp = requests.get(rss_url, timeout=20)\n",
    "        resp.raise_for_status()\n",
    "    except Exception as e:\n",
    "        print(f'Gagal ambil {rss_url}: {e}')\n",
    "        continue\n",
    "\n",
    "    try:\n",
    "        root = ET.fromstring(resp.content)\n",
    "    except ET.ParseError as e:\n",
    "        print(f'Parse error {rss_url}: {e}')\n",
    "        continue\n",
    "\n",
    "    # Cari channel/items\n",
    "    channel = root.find('channel') if root.tag != 'channel' else root\n",
    "    if channel is None:\n",
    "        print(f'Channel tidak ditemukan: {rss_url}')\n",
    "        continue\n",
    "\n",
    "    for item in channel.findall('item'):\n",
    "        title = clean_text(item.findtext('title'))\n",
    "        link = clean_text(item.findtext('link'))\n",
    "        pub_raw = item.findtext('pubDate') or item.findtext('pubdate') or item.findtext('{http://purl.org/dc/elements/1.1/}date')\n",
    "        dt_obj, dt_str = parse_pub_date(pub_raw)\n",
    "        creator = item.findtext('{http://purl.org/dc/elements/1.1/}creator') or item.findtext('author') or ''\n",
    "        creator = clean_text(creator)\n",
    "        description = clean_text(item.findtext('description'))\n",
    "        full_text_for_match = ' '.join([title, description])\n",
    "        kws = find_keywords(full_text_for_match)\n",
    "        relevan = 1 if kws else 0\n",
    "\n",
    "        # Filter tanggal bila search_dates diset\n",
    "        if search_dates and dt_str and dt_str not in search_dates:\n",
    "            continue\n",
    "\n",
    "        records.append({\n",
    "            'judul_berita': title,\n",
    "            'tanggal_berita': dt_str or '',\n",
    "            'penulis_berita': creator,\n",
    "            'url_berita': link,\n",
    "            'relevan': relevan,\n",
    "            'keywords_found': ', '.join(kws)\n",
    "        })\n",
    "\n",
    "# Buat DataFrame\n",
    "_df = pd.DataFrame(records)\n",
    "\n",
    "# Sort by tanggal desc lalu judul\n",
    "if not _df.empty:\n",
    "    _df = _df.sort_values(['tanggal_berita', 'judul_berita'], ascending=[False, True]).reset_index(drop=True)\n",
    "\n",
    "print(f'Total baris hasil: {len(_df)}')\n"
   ]
  },
  {
   "cell_type": "code",
   "execution_count": 23,
   "id": "00684a42",
   "metadata": {},
   "outputs": [
    {
     "name": "stdout",
     "output_type": "stream",
     "text": [
      "Saved: /Users/yusufpradana/Library/CloudStorage/OneDrive-Personal/Pekerjaan BMN/05. 2025/98_monitoring_berita/monitoring-berita/daftar_berita/daftar_berita_antara.xlsx\n"
     ]
    }
   ],
   "source": [
    "from datetime import datetime\n",
    "output_dir = Path(cwd + '/daftar_berita') \n",
    "base_name = f'daftar_berita_antara'\n",
    "\n",
    "\n",
    "xlsx_path = output_dir / f'{base_name}.xlsx'\n",
    "\n",
    "if '_df' in globals() and not _df.empty:\n",
    "\n",
    "    _df.to_excel(xlsx_path, index=False)\n",
    "\n",
    "    print(f'Saved: {xlsx_path}')\n",
    "else:\n",
    "    print('DataFrame kosong, tidak disimpan.')"
   ]
  },
  {
   "cell_type": "markdown",
   "id": "a85edc45",
   "metadata": {},
   "source": [
    "## Ambil & Filter RSS Antara\n",
    "Memuat `config.json`, membaca RSS dari daftar URL, memfilter berdasarkan `search_date`, mendeteksi kemunculan kata kunci, dan menghasilkan DataFrame dengan kolom:\n",
    "\n",
    "`judul_berita, tanggal_berita, penulis_berita, url_berita, relevan, keywords_found`."
   ]
  }
 ],
 "metadata": {
  "kernelspec": {
   "display_name": "base",
   "language": "python",
   "name": "python3"
  },
  "language_info": {
   "codemirror_mode": {
    "name": "ipython",
    "version": 3
   },
   "file_extension": ".py",
   "mimetype": "text/x-python",
   "name": "python",
   "nbconvert_exporter": "python",
   "pygments_lexer": "ipython3",
   "version": "3.12.7"
  }
 },
 "nbformat": 4,
 "nbformat_minor": 5
}
